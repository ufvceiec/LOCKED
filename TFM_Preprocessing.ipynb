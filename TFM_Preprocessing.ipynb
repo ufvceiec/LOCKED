{
 "cells": [
  {
   "cell_type": "markdown",
   "metadata": {
    "id": "rdtdchC-kjxn"
   },
   "source": [
    "# TFM - Using neural models to measure the influence of social, demographic, and economic features on psychological processes: the case of the COVID-19 quarantine in Spain.\n",
    "\n",
    "Student: Berta Padilla Baeza\n",
    "\n",
    "Tutor: PhD Alberto Nogales"
   ]
  },
  {
   "cell_type": "markdown",
   "metadata": {
    "id": "CAo3SU4ak13l"
   },
   "source": [
    "## Raw data visualization and preprocessing"
   ]
  },
  {
   "cell_type": "code",
   "execution_count": 1,
   "metadata": {
    "id": "bmDN-L0xk8Lh"
   },
   "outputs": [],
   "source": [
    "%matplotlib inline\n",
    "import numpy as np\n",
    "import matplotlib.pyplot as plt\n",
    "import pandas as pd\n",
    "import csv\n",
    "import math\n",
    "import chardet"
   ]
  },
  {
   "cell_type": "raw",
   "metadata": {
    "colab": {
     "base_uri": "https://localhost:8080/"
    },
    "executionInfo": {
     "elapsed": 12698,
     "status": "ok",
     "timestamp": 1717951856681,
     "user": {
      "displayName": "BERTA PADILLA BAEZA",
      "userId": "17038178126289984285"
     },
     "user_tz": -120
    },
    "id": "3JKDsJyJmEMF",
    "outputId": "5c8fa5b6-d450-4066-9170-220a28f26c94"
   },
   "source": [
    "from google.colab import drive\n",
    "drive.mount('/content/drive')"
   ]
  },
  {
   "cell_type": "code",
   "execution_count": 2,
   "metadata": {
    "editable": true,
    "id": "YSFgd8DbmOFq",
    "slideshow": {
     "slide_type": ""
    },
    "tags": []
   },
   "outputs": [
    {
     "name": "stdout",
     "output_type": "stream",
     "text": [
      "Codificación detectada: UTF-8-SIG\n"
     ]
    }
   ],
   "source": [
    "data_file = './work_data_original_pr_v1.csv'\n",
    "\n",
    "with open(data_file, 'rb') as file:\n",
    "    resultado = chardet.detect(file.read(10000))\n",
    "\n",
    "# Ver la codificación detectada\n",
    "print(f\"Codificación detectada: {resultado['encoding']}\")\n",
    "\n",
    "# Leer el archivo CSV con la codificación detectada\n",
    "data = pd.read_csv(data_file, sep=';', encoding=resultado['encoding'])\n",
    "\n",
    "column_names = data.columns.tolist()"
   ]
  },
  {
   "cell_type": "code",
   "execution_count": 3,
   "metadata": {
    "colab": {
     "base_uri": "https://localhost:8080/",
     "height": 1000
    },
    "executionInfo": {
     "elapsed": 10,
     "status": "ok",
     "timestamp": 1717951857703,
     "user": {
      "displayName": "BERTA PADILLA BAEZA",
      "userId": "17038178126289984285"
     },
     "user_tz": -120
    },
    "id": "3ZKkYHVFm_Ut",
    "outputId": "0814113d-1d07-4cc8-dd2c-43b0c4c9141e"
   },
   "outputs": [
    {
     "data": {
      "text/html": [
       "<div>\n",
       "<style scoped>\n",
       "    .dataframe tbody tr th:only-of-type {\n",
       "        vertical-align: middle;\n",
       "    }\n",
       "\n",
       "    .dataframe tbody tr th {\n",
       "        vertical-align: top;\n",
       "    }\n",
       "\n",
       "    .dataframe thead th {\n",
       "        text-align: right;\n",
       "    }\n",
       "</style>\n",
       "<table border=\"1\" class=\"dataframe\">\n",
       "  <thead>\n",
       "    <tr style=\"text-align: right;\">\n",
       "      <th></th>\n",
       "      <th>Marca temporal</th>\n",
       "      <th>Por favor indique el género con el que se identifica:</th>\n",
       "      <th>Fecha de nacimiento (para ir a tu año pincha en la flecha al lado de la fecha y luego haz scroll en la barra lateral)</th>\n",
       "      <th>Indique su estado civil:</th>\n",
       "      <th>Por favor, señale su lugar de nacimiento</th>\n",
       "      <th>¿Cuál es el estado actual de su documentación?</th>\n",
       "      <th>¿Tiene la nacionalidad europea?</th>\n",
       "      <th>¿Cuál es el máximo nivel educativo que ha terminado?</th>\n",
       "      <th>Por favor, detalle sus estudios, si procede:</th>\n",
       "      <th>Por favor, indique su estructura de convivencia habitual durante los 12 meses ANTERIORES al confinamiento:</th>\n",
       "      <th>...</th>\n",
       "      <th>Sentirse muy cohibido/a entre otras personas</th>\n",
       "      <th>Sentir miedo o ansiedad entre mucha gente (en el cine, supermercado, etc.)</th>\n",
       "      <th>Ataques de terror o pánico</th>\n",
       "      <th>Tener discusiones frecuentes</th>\n",
       "      <th>El que otros no le reconozcan adecuadamente sus logros</th>\n",
       "      <th>Sentirse inquieto/a o intranquilo/a</th>\n",
       "      <th>La sensación de ser un/a inútil o no valer nada</th>\n",
       "      <th>Gritar o tirar cosas</th>\n",
       "      <th>La impresión de que la gente intentaría aprovecharse de usted si los dejara</th>\n",
       "      <th>La idea de que debería ser castigado/a por sus pecados</th>\n",
       "    </tr>\n",
       "  </thead>\n",
       "  <tbody>\n",
       "    <tr>\n",
       "      <th>0</th>\n",
       "      <td>30/04/2020 22:57</td>\n",
       "      <td>Mujer</td>\n",
       "      <td>21/09/1990</td>\n",
       "      <td>Soltero(a)</td>\n",
       "      <td>Madrid</td>\n",
       "      <td>Pasaporte en vigor</td>\n",
       "      <td>Europea (países comunitarios)</td>\n",
       "      <td>Estudios de post-grado completos</td>\n",
       "      <td>Licenciada en Psicología, Máster Psicología ge...</td>\n",
       "      <td>Amigos(as)</td>\n",
       "      <td>...</td>\n",
       "      <td>0.0</td>\n",
       "      <td>1</td>\n",
       "      <td>1.0</td>\n",
       "      <td>1</td>\n",
       "      <td>0</td>\n",
       "      <td>2</td>\n",
       "      <td>1.0</td>\n",
       "      <td>0.0</td>\n",
       "      <td>0</td>\n",
       "      <td>0</td>\n",
       "    </tr>\n",
       "    <tr>\n",
       "      <th>1</th>\n",
       "      <td>01/05/2020 0:56</td>\n",
       "      <td>Hombre</td>\n",
       "      <td>01/01/1962</td>\n",
       "      <td>Casado(a), o viviendo en pareja</td>\n",
       "      <td>Madrid</td>\n",
       "      <td>Pasaporte en vigor</td>\n",
       "      <td>Europea (países comunitarios)</td>\n",
       "      <td>Estudios de post-grado completos</td>\n",
       "      <td>Doctorado</td>\n",
       "      <td>Familia propia</td>\n",
       "      <td>...</td>\n",
       "      <td>0.0</td>\n",
       "      <td>0</td>\n",
       "      <td>0.0</td>\n",
       "      <td>0</td>\n",
       "      <td>4</td>\n",
       "      <td>0</td>\n",
       "      <td>0.0</td>\n",
       "      <td>0.0</td>\n",
       "      <td>4</td>\n",
       "      <td>0</td>\n",
       "    </tr>\n",
       "    <tr>\n",
       "      <th>2</th>\n",
       "      <td>01/05/2020 17:51</td>\n",
       "      <td>Hombre</td>\n",
       "      <td>15/01/1993</td>\n",
       "      <td>Soltero(a)</td>\n",
       "      <td>Córdoba (España)</td>\n",
       "      <td>Pasaporte en vigor</td>\n",
       "      <td>Europea (países comunitarios)</td>\n",
       "      <td>Estudios de post-grado completos</td>\n",
       "      <td>Grado en Psicología, Máster, Doctorado</td>\n",
       "      <td>Amigos(as)</td>\n",
       "      <td>...</td>\n",
       "      <td>0.0</td>\n",
       "      <td>0</td>\n",
       "      <td>0.0</td>\n",
       "      <td>1</td>\n",
       "      <td>0</td>\n",
       "      <td>0</td>\n",
       "      <td>0.0</td>\n",
       "      <td>0.0</td>\n",
       "      <td>0</td>\n",
       "      <td>0</td>\n",
       "    </tr>\n",
       "    <tr>\n",
       "      <th>3</th>\n",
       "      <td>01/05/2020 19:31</td>\n",
       "      <td>Mujer</td>\n",
       "      <td>16/08/1981</td>\n",
       "      <td>Casado(a), o viviendo en pareja</td>\n",
       "      <td>Madrid</td>\n",
       "      <td>Pasaporte en vigor</td>\n",
       "      <td>Europea (países comunitarios)</td>\n",
       "      <td>Estudios de post-grado completos</td>\n",
       "      <td>Postgrado en Psicologia</td>\n",
       "      <td>Familia propia</td>\n",
       "      <td>...</td>\n",
       "      <td>0.0</td>\n",
       "      <td>0</td>\n",
       "      <td>0.0</td>\n",
       "      <td>0</td>\n",
       "      <td>0</td>\n",
       "      <td>3</td>\n",
       "      <td>0.0</td>\n",
       "      <td>0.0</td>\n",
       "      <td>0</td>\n",
       "      <td>0</td>\n",
       "    </tr>\n",
       "    <tr>\n",
       "      <th>4</th>\n",
       "      <td>02/05/2020 12:51</td>\n",
       "      <td>Hombre</td>\n",
       "      <td>21/04/1982</td>\n",
       "      <td>Soltero(a)</td>\n",
       "      <td>Málaga</td>\n",
       "      <td>Pasaporte en vigor</td>\n",
       "      <td>Europea (países comunitarios)</td>\n",
       "      <td>Estudios universitarios completos (licenciatur...</td>\n",
       "      <td>NaN</td>\n",
       "      <td>Compañeros(as)</td>\n",
       "      <td>...</td>\n",
       "      <td>0.0</td>\n",
       "      <td>1</td>\n",
       "      <td>0.0</td>\n",
       "      <td>0</td>\n",
       "      <td>0</td>\n",
       "      <td>0</td>\n",
       "      <td>0.0</td>\n",
       "      <td>0.0</td>\n",
       "      <td>0</td>\n",
       "      <td>0</td>\n",
       "    </tr>\n",
       "    <tr>\n",
       "      <th>...</th>\n",
       "      <td>...</td>\n",
       "      <td>...</td>\n",
       "      <td>...</td>\n",
       "      <td>...</td>\n",
       "      <td>...</td>\n",
       "      <td>...</td>\n",
       "      <td>...</td>\n",
       "      <td>...</td>\n",
       "      <td>...</td>\n",
       "      <td>...</td>\n",
       "      <td>...</td>\n",
       "      <td>...</td>\n",
       "      <td>...</td>\n",
       "      <td>...</td>\n",
       "      <td>...</td>\n",
       "      <td>...</td>\n",
       "      <td>...</td>\n",
       "      <td>...</td>\n",
       "      <td>...</td>\n",
       "      <td>...</td>\n",
       "      <td>...</td>\n",
       "    </tr>\n",
       "    <tr>\n",
       "      <th>976</th>\n",
       "      <td>10/05/2020 19:39</td>\n",
       "      <td>Mujer</td>\n",
       "      <td>18/02/1983</td>\n",
       "      <td>En una relación de pareja</td>\n",
       "      <td>Vigo</td>\n",
       "      <td>Pasaporte en vigor</td>\n",
       "      <td>Europea (países comunitarios)</td>\n",
       "      <td>Estudios de post-grado completos</td>\n",
       "      <td>Doctorado en Ciencias de la Tierra</td>\n",
       "      <td>Familia propia</td>\n",
       "      <td>...</td>\n",
       "      <td>0.0</td>\n",
       "      <td>0</td>\n",
       "      <td>0.0</td>\n",
       "      <td>0</td>\n",
       "      <td>0</td>\n",
       "      <td>0</td>\n",
       "      <td>0.0</td>\n",
       "      <td>0.0</td>\n",
       "      <td>0</td>\n",
       "      <td>0</td>\n",
       "    </tr>\n",
       "    <tr>\n",
       "      <th>977</th>\n",
       "      <td>10/05/2020 20:21</td>\n",
       "      <td>Mujer</td>\n",
       "      <td>28/02/1983</td>\n",
       "      <td>Soltero(a)</td>\n",
       "      <td>Ciudad Real(Castilla-La Mancha)</td>\n",
       "      <td>NaN</td>\n",
       "      <td>Europea (países comunitarios)</td>\n",
       "      <td>Estudios de post-grado completos</td>\n",
       "      <td>Máster en investigación e innovación educativa.</td>\n",
       "      <td>Familia de origen</td>\n",
       "      <td>...</td>\n",
       "      <td>0.0</td>\n",
       "      <td>1</td>\n",
       "      <td>0.0</td>\n",
       "      <td>0</td>\n",
       "      <td>0</td>\n",
       "      <td>0</td>\n",
       "      <td>0.0</td>\n",
       "      <td>0.0</td>\n",
       "      <td>0</td>\n",
       "      <td>0</td>\n",
       "    </tr>\n",
       "    <tr>\n",
       "      <th>978</th>\n",
       "      <td>10/05/2020 20:26</td>\n",
       "      <td>Hombre</td>\n",
       "      <td>11/11/1984</td>\n",
       "      <td>Casado(a), o viviendo en pareja</td>\n",
       "      <td>Madrid</td>\n",
       "      <td>Pasaporte en vigor</td>\n",
       "      <td>Europea (países comunitarios)</td>\n",
       "      <td>Estudios de post-grado completos</td>\n",
       "      <td>Dr. Ingeniería Química</td>\n",
       "      <td>Pareja</td>\n",
       "      <td>...</td>\n",
       "      <td>0.0</td>\n",
       "      <td>0</td>\n",
       "      <td>0.0</td>\n",
       "      <td>1</td>\n",
       "      <td>0</td>\n",
       "      <td>1</td>\n",
       "      <td>0.0</td>\n",
       "      <td>0.0</td>\n",
       "      <td>0</td>\n",
       "      <td>0</td>\n",
       "    </tr>\n",
       "    <tr>\n",
       "      <th>979</th>\n",
       "      <td>10/05/2020 21:39</td>\n",
       "      <td>Mujer</td>\n",
       "      <td>18/01/1986</td>\n",
       "      <td>Soltero(a)</td>\n",
       "      <td>Gandía (Valencia)</td>\n",
       "      <td>Pasaporte en vigor</td>\n",
       "      <td>Europea (países comunitarios)</td>\n",
       "      <td>Estudios secundarios completos (ESO, Bachiller...</td>\n",
       "      <td>ESO</td>\n",
       "      <td>Solo/a</td>\n",
       "      <td>...</td>\n",
       "      <td>4.0</td>\n",
       "      <td>0</td>\n",
       "      <td>0.0</td>\n",
       "      <td>2</td>\n",
       "      <td>1</td>\n",
       "      <td>4</td>\n",
       "      <td>3.0</td>\n",
       "      <td>0.0</td>\n",
       "      <td>0</td>\n",
       "      <td>0</td>\n",
       "    </tr>\n",
       "    <tr>\n",
       "      <th>980</th>\n",
       "      <td>10/05/2020 23:36</td>\n",
       "      <td>Mujer</td>\n",
       "      <td>27/07/1986</td>\n",
       "      <td>Casado(a), o viviendo en pareja</td>\n",
       "      <td>Alcázar de san Juan</td>\n",
       "      <td>NaN</td>\n",
       "      <td>NaN</td>\n",
       "      <td>Formación Profesional o similar completos</td>\n",
       "      <td>Grado superior en administración y finanzas (c...</td>\n",
       "      <td>Pareja</td>\n",
       "      <td>...</td>\n",
       "      <td>0.0</td>\n",
       "      <td>2</td>\n",
       "      <td>0.0</td>\n",
       "      <td>1</td>\n",
       "      <td>3</td>\n",
       "      <td>1</td>\n",
       "      <td>1.0</td>\n",
       "      <td>0.0</td>\n",
       "      <td>0</td>\n",
       "      <td>0</td>\n",
       "    </tr>\n",
       "  </tbody>\n",
       "</table>\n",
       "<p>981 rows × 97 columns</p>\n",
       "</div>"
      ],
      "text/plain": [
       "       Marca temporal Por favor indique el género con el que se identifica:  \\\n",
       "0    30/04/2020 22:57                                              Mujer      \n",
       "1     01/05/2020 0:56                                             Hombre      \n",
       "2    01/05/2020 17:51                                             Hombre      \n",
       "3    01/05/2020 19:31                                              Mujer      \n",
       "4    02/05/2020 12:51                                             Hombre      \n",
       "..                ...                                                ...      \n",
       "976  10/05/2020 19:39                                              Mujer      \n",
       "977  10/05/2020 20:21                                              Mujer      \n",
       "978  10/05/2020 20:26                                             Hombre      \n",
       "979  10/05/2020 21:39                                              Mujer      \n",
       "980  10/05/2020 23:36                                              Mujer      \n",
       "\n",
       "    Fecha de nacimiento (para ir a tu año pincha en la flecha al lado de la fecha y luego haz scroll en la barra lateral)  \\\n",
       "0                                           21/09/1990                                                                      \n",
       "1                                           01/01/1962                                                                      \n",
       "2                                           15/01/1993                                                                      \n",
       "3                                           16/08/1981                                                                      \n",
       "4                                           21/04/1982                                                                      \n",
       "..                                                 ...                                                                      \n",
       "976                                         18/02/1983                                                                      \n",
       "977                                         28/02/1983                                                                      \n",
       "978                                         11/11/1984                                                                      \n",
       "979                                         18/01/1986                                                                      \n",
       "980                                         27/07/1986                                                                      \n",
       "\n",
       "            Indique su estado civil: Por favor, señale su lugar de nacimiento  \\\n",
       "0                         Soltero(a)                                   Madrid   \n",
       "1    Casado(a), o viviendo en pareja                                   Madrid   \n",
       "2                         Soltero(a)                         Córdoba (España)   \n",
       "3    Casado(a), o viviendo en pareja                                   Madrid   \n",
       "4                         Soltero(a)                                   Málaga   \n",
       "..                               ...                                      ...   \n",
       "976        En una relación de pareja                                     Vigo   \n",
       "977                       Soltero(a)          Ciudad Real(Castilla-La Mancha)   \n",
       "978  Casado(a), o viviendo en pareja                                   Madrid   \n",
       "979                       Soltero(a)                        Gandía (Valencia)   \n",
       "980  Casado(a), o viviendo en pareja                     Alcázar de san Juan    \n",
       "\n",
       "    ¿Cuál es el estado actual de su documentación?   \\\n",
       "0                                Pasaporte en vigor   \n",
       "1                                Pasaporte en vigor   \n",
       "2                                Pasaporte en vigor   \n",
       "3                                Pasaporte en vigor   \n",
       "4                                Pasaporte en vigor   \n",
       "..                                              ...   \n",
       "976                              Pasaporte en vigor   \n",
       "977                                             NaN   \n",
       "978                              Pasaporte en vigor   \n",
       "979                              Pasaporte en vigor   \n",
       "980                                             NaN   \n",
       "\n",
       "    ¿Tiene la nacionalidad europea?   \\\n",
       "0      Europea (países comunitarios)   \n",
       "1      Europea (países comunitarios)   \n",
       "2      Europea (países comunitarios)   \n",
       "3      Europea (países comunitarios)   \n",
       "4      Europea (países comunitarios)   \n",
       "..                               ...   \n",
       "976    Europea (países comunitarios)   \n",
       "977    Europea (países comunitarios)   \n",
       "978    Europea (países comunitarios)   \n",
       "979    Europea (países comunitarios)   \n",
       "980                              NaN   \n",
       "\n",
       "    ¿Cuál es el máximo nivel educativo que ha terminado?  \\\n",
       "0                     Estudios de post-grado completos     \n",
       "1                     Estudios de post-grado completos     \n",
       "2                     Estudios de post-grado completos     \n",
       "3                     Estudios de post-grado completos     \n",
       "4    Estudios universitarios completos (licenciatur...     \n",
       "..                                                 ...     \n",
       "976                   Estudios de post-grado completos     \n",
       "977                   Estudios de post-grado completos     \n",
       "978                   Estudios de post-grado completos     \n",
       "979  Estudios secundarios completos (ESO, Bachiller...     \n",
       "980          Formación Profesional o similar completos     \n",
       "\n",
       "          Por favor, detalle sus estudios, si procede:  \\\n",
       "0    Licenciada en Psicología, Máster Psicología ge...   \n",
       "1                                            Doctorado   \n",
       "2               Grado en Psicología, Máster, Doctorado   \n",
       "3                              Postgrado en Psicologia   \n",
       "4                                                  NaN   \n",
       "..                                                 ...   \n",
       "976                 Doctorado en Ciencias de la Tierra   \n",
       "977   Máster en investigación e innovación educativa.    \n",
       "978                             Dr. Ingeniería Química   \n",
       "979                                                ESO   \n",
       "980  Grado superior en administración y finanzas (c...   \n",
       "\n",
       "    Por favor, indique su estructura de convivencia habitual durante los 12 meses ANTERIORES al confinamiento:  \\\n",
       "0                                           Amigos(as)                                                           \n",
       "1                                       Familia propia                                                           \n",
       "2                                           Amigos(as)                                                           \n",
       "3                                       Familia propia                                                           \n",
       "4                                       Compañeros(as)                                                           \n",
       "..                                                 ...                                                           \n",
       "976                                     Familia propia                                                           \n",
       "977                                  Familia de origen                                                           \n",
       "978                                             Pareja                                                           \n",
       "979                                             Solo/a                                                           \n",
       "980                                             Pareja                                                           \n",
       "\n",
       "     ... Sentirse muy cohibido/a entre otras personas   \\\n",
       "0    ...                                           0.0   \n",
       "1    ...                                           0.0   \n",
       "2    ...                                           0.0   \n",
       "3    ...                                           0.0   \n",
       "4    ...                                           0.0   \n",
       "..   ...                                           ...   \n",
       "976  ...                                           0.0   \n",
       "977  ...                                           0.0   \n",
       "978  ...                                           0.0   \n",
       "979  ...                                           4.0   \n",
       "980  ...                                           0.0   \n",
       "\n",
       "     Sentir miedo o ansiedad entre mucha gente (en el cine, supermercado, etc.)   \\\n",
       "0                                                    1                             \n",
       "1                                                    0                             \n",
       "2                                                    0                             \n",
       "3                                                    0                             \n",
       "4                                                    1                             \n",
       "..                                                 ...                             \n",
       "976                                                  0                             \n",
       "977                                                  1                             \n",
       "978                                                  0                             \n",
       "979                                                  0                             \n",
       "980                                                  2                             \n",
       "\n",
       "     Ataques de terror o pánico  Tener discusiones frecuentes   \\\n",
       "0                            1.0                             1   \n",
       "1                            0.0                             0   \n",
       "2                            0.0                             1   \n",
       "3                            0.0                             0   \n",
       "4                            0.0                             0   \n",
       "..                           ...                           ...   \n",
       "976                          0.0                             0   \n",
       "977                          0.0                             0   \n",
       "978                          0.0                             1   \n",
       "979                          0.0                             2   \n",
       "980                          0.0                             1   \n",
       "\n",
       "    El que otros no le reconozcan adecuadamente sus logros  \\\n",
       "0                                                    0       \n",
       "1                                                    4       \n",
       "2                                                    0       \n",
       "3                                                    0       \n",
       "4                                                    0       \n",
       "..                                                 ...       \n",
       "976                                                  0       \n",
       "977                                                  0       \n",
       "978                                                  0       \n",
       "979                                                  1       \n",
       "980                                                  3       \n",
       "\n",
       "     Sentirse inquieto/a o intranquilo/a   \\\n",
       "0                                       2   \n",
       "1                                       0   \n",
       "2                                       0   \n",
       "3                                       3   \n",
       "4                                       0   \n",
       "..                                    ...   \n",
       "976                                     0   \n",
       "977                                     0   \n",
       "978                                     1   \n",
       "979                                     4   \n",
       "980                                     1   \n",
       "\n",
       "    La sensación de ser un/a inútil o no valer nada Gritar o tirar cosas   \\\n",
       "0                                               1.0                   0.0   \n",
       "1                                               0.0                   0.0   \n",
       "2                                               0.0                   0.0   \n",
       "3                                               0.0                   0.0   \n",
       "4                                               0.0                   0.0   \n",
       "..                                              ...                   ...   \n",
       "976                                             0.0                   0.0   \n",
       "977                                             0.0                   0.0   \n",
       "978                                             0.0                   0.0   \n",
       "979                                             3.0                   0.0   \n",
       "980                                             1.0                   0.0   \n",
       "\n",
       "    La impresión de que la gente intentaría aprovecharse de usted si los dejara   \\\n",
       "0                                                    0                             \n",
       "1                                                    4                             \n",
       "2                                                    0                             \n",
       "3                                                    0                             \n",
       "4                                                    0                             \n",
       "..                                                 ...                             \n",
       "976                                                  0                             \n",
       "977                                                  0                             \n",
       "978                                                  0                             \n",
       "979                                                  0                             \n",
       "980                                                  0                             \n",
       "\n",
       "    La idea de que debería ser castigado/a por sus pecados   \n",
       "0                                                    0       \n",
       "1                                                    0       \n",
       "2                                                    0       \n",
       "3                                                    0       \n",
       "4                                                    0       \n",
       "..                                                 ...       \n",
       "976                                                  0       \n",
       "977                                                  0       \n",
       "978                                                  0       \n",
       "979                                                  0       \n",
       "980                                                  0       \n",
       "\n",
       "[981 rows x 97 columns]"
      ]
     },
     "metadata": {},
     "output_type": "display_data"
    },
    {
     "data": {
      "text/plain": [
       "(981, 97)"
      ]
     },
     "metadata": {},
     "output_type": "display_data"
    }
   ],
   "source": [
    "display(data)\n",
    "forma = data.shape\n",
    "display(forma)"
   ]
  },
  {
   "cell_type": "code",
   "execution_count": 4,
   "metadata": {
    "editable": true,
    "id": "jRMOpS4AonoL",
    "slideshow": {
     "slide_type": ""
    },
    "tags": []
   },
   "outputs": [],
   "source": [
    "# Vemos las filas de los casos que se repiten en la columna 0 --> no estan duplicadas\n",
    "\n",
    "#duplicated_rows = data[data.iloc[:, 0].duplicated( keep=False)]\n",
    "#display(duplicated_rows)"
   ]
  },
  {
   "cell_type": "markdown",
   "metadata": {
    "id": "hLcUdnBO0Bkm"
   },
   "source": [
    "# Revisión general:\n",
    "- 183 - hasta la columna 7 bien, el resto están en la 185 - el primer cuestionario está todo comprimido en la primera casilla\n",
    "- 265 - hasta la fila 8, la 9 en el 266 y el resto en el 267 --> eliminar\n",
    "- ,Solo/a,Solo/a,0,0,De 31 a 50 personas,De 31 a 50 personas,28925,Piso,Alquiler (privado),61 a 75 metros cuadrados,Mucha luz natural,Mucha ventilación,Ventana\n",
    "- 311 hasta la 8, el resto están en la 312 - el primer cuestionario está todo comprimido en la primera casilla\n",
    "- 377 hasta la 8, el resto están en la 378 - el primer cuestionario está todo comprimido en la primera casilla\n",
    "- 662 hasta la 8, el resto están en la 663 - el primer cuestionario está todo comprimido en la primera casilla\n",
    "- 680 hasta la 8, el resto están en la 681 - el primer cuestionario está todo comprimido en la primera casilla\n",
    "\n",
    "- 697 - hasta la fila 8, la 9 en el 266 y el resto en el 267 --> eliminar\n",
    "\n",
    "Corregimos uno por uno:"
   ]
  },
  {
   "cell_type": "markdown",
   "metadata": {
    "id": "xwtv3CKUV1Wp"
   },
   "source": [
    "# Caso 183 - (en exel 187)"
   ]
  },
  {
   "cell_type": "code",
   "execution_count": 5,
   "metadata": {
    "id": "fLDPDZ6mUVMn"
   },
   "outputs": [],
   "source": [
    "#display( data.iloc[180:190,65:80])\n",
    "\n",
    "#Eliminamos 184\n",
    "#data = data.drop(data.index[184])\n",
    "#display( data.iloc[180:190,:])"
   ]
  },
  {
   "cell_type": "code",
   "execution_count": 6,
   "metadata": {
    "id": "4smX2tSE2hK0"
   },
   "outputs": [],
   "source": [
    "#seleccionamos la primera columna del 185, que contiene todo el primer cuestionario. Creamos una lista y la vamos introduciendo en el data\n",
    "#cuestionario1 = data.iloc[184,0]\n",
    "#cuestionario1 = cuestionario1.split(',')\n",
    "#cuestionario1 = cuestionario1[1:]\n",
    "\n",
    "#data.iloc[183, 9:(9+len(cuestionario1))] = cuestionario1\n",
    "\n",
    "#ocupacion = []\n",
    "#ocupacion.append(cuestionario1[-1])\n",
    "\n",
    "#cuestionario2 = data.iloc[184,1:].dropna().values #Sabemos que los unicos valores Nan son los que no estan rellenos al final, por eso quitamos los NaN\n",
    "#print(len(cuestionario2))\n",
    "#print(cuestionario2)\n",
    "\n",
    "#Vemos que los 3 primeros valores de cuestionario 2, deberían estar como str en la última posición de cuestionario1. Lo añadimos a continuación, y lo quitamos de cuestionario2\n",
    "#for oc in range (0,3):\n",
    "#  ocupacion.append(cuestionario2[oc])\n",
    "#ocupacion = ' '.join(ocupacion)\n",
    "\n",
    "#data.iloc[183,(9+len(cuestionario1))-1] = ocupacion\n",
    "\n",
    "#cuestionario2 = cuestionario2[3:]\n",
    "\n",
    "#display( data.iloc[180:190,0:20])\n",
    "\n",
    "#data.iloc[183, (9+len(cuestionario1)):] = cuestionario2\n",
    "\n",
    "#Por último eliminamos al fila 185, que es la posición 184 ahora.\n",
    "#data = data.drop(data.index[184])\n",
    "\n",
    "# Mostrar el DataFrame resultante\n",
    "#display( data.iloc[180:190,0:20])"
   ]
  },
  {
   "cell_type": "markdown",
   "metadata": {
    "id": "K-3qH4uLV-BT"
   },
   "source": [
    "# Caso 262 - (en excel 265)"
   ]
  },
  {
   "cell_type": "code",
   "execution_count": 7,
   "metadata": {
    "id": "AMcTFprL93V-"
   },
   "outputs": [],
   "source": [
    "#display( data.iloc[255:265,0:20])"
   ]
  },
  {
   "cell_type": "code",
   "execution_count": 8,
   "metadata": {
    "id": "gJgKR2vbJn7t"
   },
   "outputs": [],
   "source": [
    "#indices_to_drop = [261, 262, 263]\n",
    "#data = data.drop(indices_to_drop)\n",
    "\n",
    "#display(data.iloc[255:265,0:20])"
   ]
  },
  {
   "cell_type": "markdown",
   "metadata": {
    "id": "I43i2E-7eWKV"
   },
   "source": [
    "# Caso X - (311 en excel)\n",
    "\n",
    "Falta un valor después de `ventana`"
   ]
  },
  {
   "cell_type": "code",
   "execution_count": 9,
   "metadata": {
    "id": "0EyjOsdvebRh"
   },
   "outputs": [],
   "source": [
    "#display( data.iloc[300:310,0:20])"
   ]
  },
  {
   "cell_type": "code",
   "execution_count": 10,
   "metadata": {
    "id": "Ne98Y3hDfwFi"
   },
   "outputs": [],
   "source": [
    "#seleccionamos la primera columna del 185, que contiene todo el primer cuestionario. Creamos una lista y la vamos introduciendo en el data\n",
    "#cuestionario1 = data.iloc[308,0]\n",
    "\n",
    "#cuestionario1 = cuestionario1.split(',')\n",
    "#cuestionario1 = cuestionario1[1:]\n",
    "\n",
    "#data.iloc[307, 9:(9+len(cuestionario1))] = cuestionario1\n",
    "#print(cuestionario1)\n",
    "#display( data.iloc[300:310,5:30])\n",
    "\n",
    "#cuestionario2 = data.iloc[307].dropna().values #Sabemos que los unicos valores Nan son los que no estan rellenos al final, por eso quitamos los NaN\n",
    "#print(len(cuestionario2))\n",
    "#print(cuestionario2)\n",
    "#print(cuestionario1)\n",
    "\n",
    "#display( data.iloc[300:310,80:])\n",
    "\n",
    "\n"
   ]
  },
  {
   "cell_type": "code",
   "execution_count": 11,
   "metadata": {
    "id": "U7Dwiq6dK9ZP"
   },
   "outputs": [],
   "source": [
    "#indices_to_drop = [309, 310]\n",
    "#data = data.drop(indices_to_drop)\n",
    "\n",
    "#display(data.iloc[300:315,0:20])"
   ]
  },
  {
   "cell_type": "markdown",
   "metadata": {
    "id": "qr9_uKXCl9mq"
   },
   "source": [
    "# Caso X - (377 en excel)\n",
    "\n",
    "Falta 1"
   ]
  },
  {
   "cell_type": "code",
   "execution_count": 12,
   "metadata": {
    "id": "iiPIypgdlxgd"
   },
   "outputs": [],
   "source": [
    "#display( data.iloc[370:380,0:20])\n"
   ]
  },
  {
   "cell_type": "code",
   "execution_count": 13,
   "metadata": {
    "id": "Mb47VGZJmqvN"
   },
   "outputs": [],
   "source": [
    "#seleccionamos la primera columna del 185, que contiene todo el primer cuestionario. Creamos una lista y la vamos introduciendo en el data\n",
    "#cuestionario1 = data.iloc[374,0]\n",
    "\n",
    "#cuestionario1 = cuestionario1.split(',')\n",
    "# cuestionario1 = cuestionario1[1:]\n",
    "\n",
    "# data.iloc[373, 9:(9+len(cuestionario1))] = cuestionario1\n",
    "# print(cuestionario1)\n",
    "# print(len(cuestionario1))\n",
    "\n",
    "# display( data.iloc[370:380,30:40])\n",
    "\n",
    "# cuestionario2 = data.iloc[374,1:].dropna().values #Sabemos que los unicos valores Nan son los que no estan rellenos al final, por eso quitamos los NaN\n",
    "# print(len(cuestionario2))\n",
    "# print(cuestionario2)\n",
    "# print(cuestionario1)\n",
    "\n",
    "# print(data.iloc[373, (9+len(cuestionario1))-1])\n",
    "# print((9+len(cuestionario1)))\n",
    "\n",
    "\n",
    "# #data.iloc[373, (9+len(cuestionario1)):] = cuestionario2\n",
    "\n",
    "# #Por último eliminamos al fila 185, que es la posición 184 ahora.\n",
    "# #data = data.drop(data.index[184])\n",
    "\n",
    "# # Mostrar el DataFrame resultante\n",
    "# display( data.iloc[370:380,80:])\n",
    "\n",
    "\n"
   ]
  },
  {
   "cell_type": "code",
   "execution_count": 14,
   "metadata": {
    "id": "o272pgq0LH9T"
   },
   "outputs": [],
   "source": [
    "# indices_to_drop = [375, 376]\n",
    "# data = data.drop(indices_to_drop)\n",
    "\n",
    "# display(data.iloc[360:380,0:20])"
   ]
  },
  {
   "cell_type": "markdown",
   "metadata": {
    "id": "oAYbwMIHpn5k"
   },
   "source": [
    "# Caso 662 en excel"
   ]
  },
  {
   "cell_type": "code",
   "execution_count": 15,
   "metadata": {
    "id": "bs3n4BRTomrT"
   },
   "outputs": [],
   "source": [
    "# display( data.iloc[650:665,0:20])"
   ]
  },
  {
   "cell_type": "code",
   "execution_count": 16,
   "metadata": {
    "id": "Qq7gbgezLjgX"
   },
   "outputs": [],
   "source": [
    "# indices_to_drop = [660, 661]\n",
    "# data = data.drop(indices_to_drop)\n",
    "\n",
    "# display(data.iloc[650:660,0:20])"
   ]
  },
  {
   "cell_type": "markdown",
   "metadata": {
    "id": "U86CHIakL3BP"
   },
   "source": [
    "# Caso 680 en excel"
   ]
  },
  {
   "cell_type": "code",
   "execution_count": 17,
   "metadata": {
    "id": "RAJClbBHL8yp"
   },
   "outputs": [],
   "source": [
    "# display( data.iloc[665:675,0:20])"
   ]
  },
  {
   "cell_type": "code",
   "execution_count": 18,
   "metadata": {
    "id": "vM-3Hl9W-fDQ"
   },
   "outputs": [],
   "source": [
    "# indices_to_drop = [678, 679]\n",
    "# data = data.drop(indices_to_drop)\n",
    "\n",
    "# display(data.iloc[665:675,0:20])"
   ]
  },
  {
   "cell_type": "markdown",
   "metadata": {
    "id": "lVnWTY7_MKyY"
   },
   "source": [
    "# Caso 697 en excel"
   ]
  },
  {
   "cell_type": "code",
   "execution_count": 19,
   "metadata": {
    "id": "KKuYBsoIMda0"
   },
   "outputs": [],
   "source": [
    "# indices_to_drop = [695, 696,697]\n",
    "# data = data.drop(indices_to_drop)\n",
    "\n",
    "# display(data.iloc[680:695,0:20])"
   ]
  },
  {
   "cell_type": "markdown",
   "metadata": {
    "id": "lJzshPo66uUf"
   },
   "source": [
    "# Análisis general - Identificar columnas de campo abierto\n"
   ]
  },
  {
   "cell_type": "code",
   "execution_count": 20,
   "metadata": {
    "colab": {
     "base_uri": "https://localhost:8080/"
    },
    "executionInfo": {
     "elapsed": 971,
     "status": "ok",
     "timestamp": 1717951859046,
     "user": {
      "displayName": "BERTA PADILLA BAEZA",
      "userId": "17038178126289984285"
     },
     "user_tz": -120
    },
    "id": "sMe2KBwKNC-Q",
    "outputId": "77526d36-8f4f-47f8-8a78-fcdc83e4b689"
   },
   "outputs": [
    {
     "name": "stdout",
     "output_type": "stream",
     "text": [
      "Campo cerrado\n"
     ]
    },
    {
     "data": {
      "text/plain": [
       "'Columna - '"
      ]
     },
     "metadata": {},
     "output_type": "display_data"
    },
    {
     "data": {
      "text/plain": [
       "1"
      ]
     },
     "metadata": {},
     "output_type": "display_data"
    },
    {
     "data": {
      "text/plain": [
       "'Por favor indique el género con el que se identifica:'"
      ]
     },
     "metadata": {},
     "output_type": "display_data"
    },
    {
     "data": {
      "text/plain": [
       "['Mujer',\n",
       " 'Hombre',\n",
       " 'Fluído (Persona no identificada como varón ni como mujer)',\n",
       " 'No está seguro(a)',\n",
       " 'Fluido, mujer política',\n",
       " 'No me deja marcar mujer ',\n",
       " 'Mujer trans']"
      ]
     },
     "metadata": {},
     "output_type": "display_data"
    },
    {
     "data": {
      "text/plain": [
       "'Columna - '"
      ]
     },
     "metadata": {},
     "output_type": "display_data"
    },
    {
     "data": {
      "text/plain": [
       "3"
      ]
     },
     "metadata": {},
     "output_type": "display_data"
    },
    {
     "data": {
      "text/plain": [
       "'Indique su estado civil:'"
      ]
     },
     "metadata": {},
     "output_type": "display_data"
    },
    {
     "data": {
      "text/plain": [
       "['Casado(a), o viviendo en pareja',\n",
       " 'En una relación de pareja',\n",
       " 'Soltero(a)',\n",
       " 'Divorciado(a)',\n",
       " 'Separado(a)',\n",
       " 'Viudo(a)']"
      ]
     },
     "metadata": {},
     "output_type": "display_data"
    },
    {
     "data": {
      "text/plain": [
       "'Columna - '"
      ]
     },
     "metadata": {},
     "output_type": "display_data"
    },
    {
     "data": {
      "text/plain": [
       "5"
      ]
     },
     "metadata": {},
     "output_type": "display_data"
    },
    {
     "data": {
      "text/plain": [
       "'¿Cuál es el estado actual de su documentación? '"
      ]
     },
     "metadata": {},
     "output_type": "display_data"
    },
    {
     "data": {
      "text/plain": [
       "['Pasaporte en vigor',\n",
       " 'Visado/permiso de residencia',\n",
       " 'Sin documentos',\n",
       " 'Visado/permiso de estancia',\n",
       " 'Visado/permiso de tránsito']"
      ]
     },
     "metadata": {},
     "output_type": "display_data"
    },
    {
     "data": {
      "text/plain": [
       "'Columna - '"
      ]
     },
     "metadata": {},
     "output_type": "display_data"
    },
    {
     "data": {
      "text/plain": [
       "6"
      ]
     },
     "metadata": {},
     "output_type": "display_data"
    },
    {
     "data": {
      "text/plain": [
       "'¿Tiene la nacionalidad europea? '"
      ]
     },
     "metadata": {},
     "output_type": "display_data"
    },
    {
     "data": {
      "text/plain": [
       "['Europea (países comunitarios)', 'No europea (países extracomunitarios)']"
      ]
     },
     "metadata": {},
     "output_type": "display_data"
    },
    {
     "data": {
      "text/plain": [
       "'Columna - '"
      ]
     },
     "metadata": {},
     "output_type": "display_data"
    },
    {
     "data": {
      "text/plain": [
       "7"
      ]
     },
     "metadata": {},
     "output_type": "display_data"
    },
    {
     "data": {
      "text/plain": [
       "'¿Cuál es el máximo nivel educativo que ha terminado?'"
      ]
     },
     "metadata": {},
     "output_type": "display_data"
    },
    {
     "data": {
      "text/plain": [
       "['Estudios universitarios completos (licenciatura, diplomatura, ingeniería o grado completo)',\n",
       " 'Estudios de post-grado completos',\n",
       " 'Formación Profesional o similar completos',\n",
       " 'Estudios secundarios completos (ESO, Bachiller elemental)',\n",
       " 'Estudios primarios completos (Primaria, EGB, completos)',\n",
       " 'Educación primaria incompleta (Primaria, EGB incompletas)']"
      ]
     },
     "metadata": {},
     "output_type": "display_data"
    },
    {
     "data": {
      "text/plain": [
       "'Columna - '"
      ]
     },
     "metadata": {},
     "output_type": "display_data"
    },
    {
     "data": {
      "text/plain": [
       "11"
      ]
     },
     "metadata": {},
     "output_type": "display_data"
    },
    {
     "data": {
      "text/plain": [
       "'Por favor indique el número de MENORES a su cargo DURANTE la cuarentena:'"
      ]
     },
     "metadata": {},
     "output_type": "display_data"
    },
    {
     "data": {
      "text/plain": [
       "[0.0, 1.0, 2.0, 3.0, 21.0]"
      ]
     },
     "metadata": {},
     "output_type": "display_data"
    },
    {
     "data": {
      "text/plain": [
       "'Columna - '"
      ]
     },
     "metadata": {},
     "output_type": "display_data"
    },
    {
     "data": {
      "text/plain": [
       "12"
      ]
     },
     "metadata": {},
     "output_type": "display_data"
    },
    {
     "data": {
      "text/plain": [
       "'Por favor indique el número de personas dependientes mayores de 18 años a su cargo (incluyendo personas mayores, personas con diversidad funcional) DURANTE la cuarentena:'"
      ]
     },
     "metadata": {},
     "output_type": "display_data"
    },
    {
     "data": {
      "text/plain": [
       "[0.0, 1.0, 2.0, 3.0, 4.0]"
      ]
     },
     "metadata": {},
     "output_type": "display_data"
    },
    {
     "data": {
      "text/plain": [
       "'Columna - '"
      ]
     },
     "metadata": {},
     "output_type": "display_data"
    },
    {
     "data": {
      "text/plain": [
       "13"
      ]
     },
     "metadata": {},
     "output_type": "display_data"
    },
    {
     "data": {
      "text/plain": [
       "'Por favor, indique con cuánta gente tenía contacto habitualmente en un día normal ANTES  de la cuarentena (incluyendo el hogar, lo laboral, lo social...). Nos referimos a contactos individuales cara a cara, es decir, con las que charla o trata diferentes asuntos en persona.'"
      ]
     },
     "metadata": {},
     "output_type": "display_data"
    },
    {
     "data": {
      "text/plain": [
       "['De 11 a 20 personas',\n",
       " 'De 1 a 10 personas',\n",
       " 'De 21 a 30 personas',\n",
       " 'Más de 50 personas',\n",
       " 'De 31 a 50 personas',\n",
       " 'Ninguna']"
      ]
     },
     "metadata": {},
     "output_type": "display_data"
    },
    {
     "data": {
      "text/plain": [
       "'Columna - '"
      ]
     },
     "metadata": {},
     "output_type": "display_data"
    },
    {
     "data": {
      "text/plain": [
       "14"
      ]
     },
     "metadata": {},
     "output_type": "display_data"
    },
    {
     "data": {
      "text/plain": [
       "'Por favor, indique con cuánta gente tiene/tuvo contacto habitualmente en un día normal DURANTE la cuarentena  (incluyendo el hogar, lo laboral, lo social...). Nos referimos a contactos individuales cara a cara, es decir, con las que charla o trata diferentes asuntos en persona.'"
      ]
     },
     "metadata": {},
     "output_type": "display_data"
    },
    {
     "data": {
      "text/plain": [
       "['De 1 a 10 personas',\n",
       " 'Ninguna',\n",
       " 'De 11 a 20 personas',\n",
       " 'De 21 a 30 personas',\n",
       " 'Más de 50 personas',\n",
       " 'De 31 a 50 personas']"
      ]
     },
     "metadata": {},
     "output_type": "display_data"
    },
    {
     "data": {
      "text/plain": [
       "'Columna - '"
      ]
     },
     "metadata": {},
     "output_type": "display_data"
    },
    {
     "data": {
      "text/plain": [
       "16"
      ]
     },
     "metadata": {},
     "output_type": "display_data"
    },
    {
     "data": {
      "text/plain": [
       "'Por favor, indique el espacio en el que vive/vivía DURANTE el confinamiento:'"
      ]
     },
     "metadata": {},
     "output_type": "display_data"
    },
    {
     "data": {
      "text/plain": [
       "['Piso',\n",
       " 'Adosado',\n",
       " 'Chalet',\n",
       " 'Casa de campo',\n",
       " 'Hospital psiquiátrico',\n",
       " 'Residencia/piso protegido']"
      ]
     },
     "metadata": {},
     "output_type": "display_data"
    },
    {
     "data": {
      "text/plain": [
       "'Columna - '"
      ]
     },
     "metadata": {},
     "output_type": "display_data"
    },
    {
     "data": {
      "text/plain": [
       "17"
      ]
     },
     "metadata": {},
     "output_type": "display_data"
    },
    {
     "data": {
      "text/plain": [
       "'Por favor indique si es dueño de su vivienda o vive alquilado/a:'"
      ]
     },
     "metadata": {},
     "output_type": "display_data"
    },
    {
     "data": {
      "text/plain": [
       "['Alquiler (privado)',\n",
       " 'Propiedad privada (familia)',\n",
       " 'Propiedad privada (suya)',\n",
       " 'Sin piso de propiedad ni contrato de alquiler (viviendo en casa de una amistad o familiar, etc.)',\n",
       " 'No procede',\n",
       " 'Alquiler (del estado, piso de protección oficial)']"
      ]
     },
     "metadata": {},
     "output_type": "display_data"
    },
    {
     "data": {
      "text/plain": [
       "'Columna - '"
      ]
     },
     "metadata": {},
     "output_type": "display_data"
    },
    {
     "data": {
      "text/plain": [
       "19"
      ]
     },
     "metadata": {},
     "output_type": "display_data"
    },
    {
     "data": {
      "text/plain": [
       "'Diría que su espacio de residencia DURANTE la cuarentena tiene:'"
      ]
     },
     "metadata": {},
     "output_type": "display_data"
    },
    {
     "data": {
      "text/plain": [
       "['Mucha luz natural', 'Luz natural media', 'Poca luz natural']"
      ]
     },
     "metadata": {},
     "output_type": "display_data"
    },
    {
     "data": {
      "text/plain": [
       "'Columna - '"
      ]
     },
     "metadata": {},
     "output_type": "display_data"
    },
    {
     "data": {
      "text/plain": [
       "20"
      ]
     },
     "metadata": {},
     "output_type": "display_data"
    },
    {
     "data": {
      "text/plain": [
       "'Diría que su espacio de residencia DURANTE la cuarentena tiene:.1'"
      ]
     },
     "metadata": {},
     "output_type": "display_data"
    },
    {
     "data": {
      "text/plain": [
       "['Mucha ventilación', 'Ventilación media', 'Poca ventilación']"
      ]
     },
     "metadata": {},
     "output_type": "display_data"
    },
    {
     "data": {
      "text/plain": [
       "'Columna - '"
      ]
     },
     "metadata": {},
     "output_type": "display_data"
    },
    {
     "data": {
      "text/plain": [
       "24"
      ]
     },
     "metadata": {},
     "output_type": "display_data"
    },
    {
     "data": {
      "text/plain": [
       "'Teniendo en mente su lugar de residencia DURANTE el confinamiento, por favor, indique. Número de personas en su mismo dormitorio excluyéndose a usted mismo/a:'"
      ]
     },
     "metadata": {},
     "output_type": "display_data"
    },
    {
     "data": {
      "text/plain": [
       "[1.0, 0.0, 2.0, 3.0, 4.0]"
      ]
     },
     "metadata": {},
     "output_type": "display_data"
    },
    {
     "data": {
      "text/plain": [
       "'Columna - '"
      ]
     },
     "metadata": {},
     "output_type": "display_data"
    },
    {
     "data": {
      "text/plain": [
       "27"
      ]
     },
     "metadata": {},
     "output_type": "display_data"
    },
    {
     "data": {
      "text/plain": [
       "'¿Qué duración tenía su jornada laboral ANTES (en los 12 meses anteriores al inicio de la cuarentena o la mayor parte de ese tiempo):'"
      ]
     },
     "metadata": {},
     "output_type": "display_data"
    },
    {
     "data": {
      "text/plain": [
       "['Tiempo completo (aproximadamente 40h)',\n",
       " 'Tiempo parcial (aproximadamente 20h)',\n",
       " 'Menos de 20 h']"
      ]
     },
     "metadata": {},
     "output_type": "display_data"
    },
    {
     "data": {
      "text/plain": [
       "'Columna - '"
      ]
     },
     "metadata": {},
     "output_type": "display_data"
    },
    {
     "data": {
      "text/plain": [
       "33"
      ]
     },
     "metadata": {},
     "output_type": "display_data"
    },
    {
     "data": {
      "text/plain": [
       "'DURANTE el confinamiento en su hogar:'"
      ]
     },
     "metadata": {},
     "output_type": "display_data"
    },
    {
     "data": {
      "text/plain": [
       "['Han tenido suficiente dinero para sostenerse',\n",
       " 'Han tenido que pedir dinero prestado a una amistad o familiar para sostenerse',\n",
       " 'Ha tenido que pedir una ayuda para sostenerse',\n",
       " 'No han tenido ni han podido pedir suficiente dinero para sostenerse',\n",
       " 'Han tenido que pedir un préstamo al banco para sostenerse']"
      ]
     },
     "metadata": {},
     "output_type": "display_data"
    },
    {
     "data": {
      "text/plain": [
       "'Columna - '"
      ]
     },
     "metadata": {},
     "output_type": "display_data"
    },
    {
     "data": {
      "text/plain": [
       "34"
      ]
     },
     "metadata": {},
     "output_type": "display_data"
    },
    {
     "data": {
      "text/plain": [
       "'Supongamos que usted (y su cónyuge o pareja) convierte en dinero todos sus fondos en cuentas corrientes y/o de ahorros, inversiones en Bolsa, bonos/letras, bienes inmuebles, y venden su casa, sus vehículos y todas sus cosas de valor. A continuación, supongamos que el dinero de todas estas operaciones lo utiliza para pagar su hipoteca y otros créditos, préstamos, deudas y tarjetas de crédito. ¿Le quedaría dinero después de pagar todas sus deudas, o todavía debería dinero? (basta con un estimación aproximada).'"
      ]
     },
     "metadata": {},
     "output_type": "display_data"
    },
    {
     "data": {
      "text/plain": [
       "['Le quedaría dinero',\n",
       " 'Seguiría debiendo dinero',\n",
       " 'Las deudas serían equivalentes a los bienes',\n",
       " 'Las deudas serían equivalentes a los bienes (paridad)']"
      ]
     },
     "metadata": {},
     "output_type": "display_data"
    },
    {
     "data": {
      "text/plain": [
       "'Columna - '"
      ]
     },
     "metadata": {},
     "output_type": "display_data"
    },
    {
     "data": {
      "text/plain": [
       "37"
      ]
     },
     "metadata": {},
     "output_type": "display_data"
    },
    {
     "data": {
      "text/plain": [
       "'Recibe tratamiento o medicación psiquiátrica ACTUALMENTE:'"
      ]
     },
     "metadata": {},
     "output_type": "display_data"
    },
    {
     "data": {
      "text/plain": [
       "['No', 'Sí']"
      ]
     },
     "metadata": {},
     "output_type": "display_data"
    },
    {
     "data": {
      "text/plain": [
       "'Columna - '"
      ]
     },
     "metadata": {},
     "output_type": "display_data"
    },
    {
     "data": {
      "text/plain": [
       "38"
      ]
     },
     "metadata": {},
     "output_type": "display_data"
    },
    {
     "data": {
      "text/plain": [
       "'Recibe tratamiento psicológico o sigue una terapia ACTUALMENTE:'"
      ]
     },
     "metadata": {},
     "output_type": "display_data"
    },
    {
     "data": {
      "text/plain": [
       "['No', 'Sí']"
      ]
     },
     "metadata": {},
     "output_type": "display_data"
    },
    {
     "data": {
      "text/plain": [
       "'Columna - '"
      ]
     },
     "metadata": {},
     "output_type": "display_data"
    },
    {
     "data": {
      "text/plain": [
       "40"
      ]
     },
     "metadata": {},
     "output_type": "display_data"
    },
    {
     "data": {
      "text/plain": [
       "'Por favor indique si necesita ayuda para las tareas cotidianas y de autocuidado como hacer la compra, realizar las tareas del hogar, lavarse y peinarse, cocinar, gestionar el dinero, etc.'"
      ]
     },
     "metadata": {},
     "output_type": "display_data"
    },
    {
     "data": {
      "text/plain": [
       "['No necesito ayuda', 'Necesito ayuda']"
      ]
     },
     "metadata": {},
     "output_type": "display_data"
    },
    {
     "data": {
      "text/plain": [
       "'Columna - '"
      ]
     },
     "metadata": {},
     "output_type": "display_data"
    },
    {
     "data": {
      "text/plain": [
       "42"
      ]
     },
     "metadata": {},
     "output_type": "display_data"
    },
    {
     "data": {
      "text/plain": [
       "'Por favor, indique si en el pasado usted ha tenido algún intento de suicidio:'"
      ]
     },
     "metadata": {},
     "output_type": "display_data"
    },
    {
     "data": {
      "text/plain": [
       "['No', 'Sí']"
      ]
     },
     "metadata": {},
     "output_type": "display_data"
    },
    {
     "data": {
      "text/plain": [
       "'Columna - '"
      ]
     },
     "metadata": {},
     "output_type": "display_data"
    },
    {
     "data": {
      "text/plain": [
       "43"
      ]
     },
     "metadata": {},
     "output_type": "display_data"
    },
    {
     "data": {
      "text/plain": [
       "'Por favor indique si le han diagnosticado de infección por coronavirus'"
      ]
     },
     "metadata": {},
     "output_type": "display_data"
    },
    {
     "data": {
      "text/plain": [
       "['No',\n",
       " 'Puede que haya pasado/esté pasando la enfermedad pero no me han hecho la prueba',\n",
       " 'Sí, padecí la infección y me recuperé',\n",
       " 'Sí, actualmente infectado/a']"
      ]
     },
     "metadata": {},
     "output_type": "display_data"
    },
    {
     "data": {
      "text/plain": [
       "'Columna - '"
      ]
     },
     "metadata": {},
     "output_type": "display_data"
    },
    {
     "data": {
      "text/plain": [
       "44"
      ]
     },
     "metadata": {},
     "output_type": "display_data"
    },
    {
     "data": {
      "text/plain": [
       "'En el caso de tener o haber tenido un diagnóstico de coronavirus, ¿cómo valoraría la severidad de la enfermedad? '"
      ]
     },
     "metadata": {},
     "output_type": "display_data"
    },
    {
     "data": {
      "text/plain": [
       "['No procede', 'Leve', 'Moderada', 'Grave']"
      ]
     },
     "metadata": {},
     "output_type": "display_data"
    },
    {
     "data": {
      "text/plain": [
       "'Columna - '"
      ]
     },
     "metadata": {},
     "output_type": "display_data"
    },
    {
     "data": {
      "text/plain": [
       "45"
      ]
     },
     "metadata": {},
     "output_type": "display_data"
    },
    {
     "data": {
      "text/plain": [
       "'En este caso, ¿permaneció aislado/a dentro del domicilio (sin salir de una habitación y sin compañía durante la duración de los síntomas y 15 días más)?'"
      ]
     },
     "metadata": {},
     "output_type": "display_data"
    },
    {
     "data": {
      "text/plain": [
       "['No procede', 'Sólo parcialmente', 'Sí']"
      ]
     },
     "metadata": {},
     "output_type": "display_data"
    },
    {
     "data": {
      "text/plain": [
       "'Columna - '"
      ]
     },
     "metadata": {},
     "output_type": "display_data"
    },
    {
     "data": {
      "text/plain": [
       "47"
      ]
     },
     "metadata": {},
     "output_type": "display_data"
    },
    {
     "data": {
      "text/plain": [
       "'En caso afirmativo, valore, por favor, la severidad de la enfermedad (tenga en cuenta el de mayor gravedad en caso de ser varios casos)'"
      ]
     },
     "metadata": {},
     "output_type": "display_data"
    },
    {
     "data": {
      "text/plain": [
       "['No procede', 'Moderada', 'Leve', 'Grave', 'Fallecimiento por infección']"
      ]
     },
     "metadata": {},
     "output_type": "display_data"
    },
    {
     "data": {
      "text/plain": [
       "'Columna - '"
      ]
     },
     "metadata": {},
     "output_type": "display_data"
    },
    {
     "data": {
      "text/plain": [
       "48"
      ]
     },
     "metadata": {},
     "output_type": "display_data"
    },
    {
     "data": {
      "text/plain": [
       "'Alguna persona de su familia diagnosticada de infección por coronavirus, ¿ha convivido en su hogar durante el proceso de su enfermedad?'"
      ]
     },
     "metadata": {},
     "output_type": "display_data"
    },
    {
     "data": {
      "text/plain": [
       "['No procede', 'No', 'Sí']"
      ]
     },
     "metadata": {},
     "output_type": "display_data"
    },
    {
     "data": {
      "text/plain": [
       "'Columna - '"
      ]
     },
     "metadata": {},
     "output_type": "display_data"
    },
    {
     "data": {
      "text/plain": [
       "51"
      ]
     },
     "metadata": {},
     "output_type": "display_data"
    },
    {
     "data": {
      "text/plain": [
       "'¿Considera que las medidas que se han llevado a cabo para prevenir la evolución de la pandemia son adecuadas y justas?'"
      ]
     },
     "metadata": {},
     "output_type": "display_data"
    },
    {
     "data": {
      "text/plain": [
       "[4.0, 3.0, 5.0, 2.0, 1.0]"
      ]
     },
     "metadata": {},
     "output_type": "display_data"
    },
    {
     "data": {
      "text/plain": [
       "'Columna - '"
      ]
     },
     "metadata": {},
     "output_type": "display_data"
    },
    {
     "data": {
      "text/plain": [
       "52"
      ]
     },
     "metadata": {},
     "output_type": "display_data"
    },
    {
     "data": {
      "text/plain": [
       "'La idea de que otra persona pueda controlar sus pensamientos '"
      ]
     },
     "metadata": {},
     "output_type": "display_data"
    },
    {
     "data": {
      "text/plain": [
       "[0, 1, 2, 3, 4]"
      ]
     },
     "metadata": {},
     "output_type": "display_data"
    },
    {
     "data": {
      "text/plain": [
       "'Columna - '"
      ]
     },
     "metadata": {},
     "output_type": "display_data"
    },
    {
     "data": {
      "text/plain": [
       "53"
      ]
     },
     "metadata": {},
     "output_type": "display_data"
    },
    {
     "data": {
      "text/plain": [
       "'Creer que la mayoría de sus problemas son culpa de los demás'"
      ]
     },
     "metadata": {},
     "output_type": "display_data"
    },
    {
     "data": {
      "text/plain": [
       "[0, 1, 2, 3, 4]"
      ]
     },
     "metadata": {},
     "output_type": "display_data"
    },
    {
     "data": {
      "text/plain": [
       "'Columna - '"
      ]
     },
     "metadata": {},
     "output_type": "display_data"
    },
    {
     "data": {
      "text/plain": [
       "54"
      ]
     },
     "metadata": {},
     "output_type": "display_data"
    },
    {
     "data": {
      "text/plain": [
       "'Sentir miedo en los espacios abiertos o en la calle '"
      ]
     },
     "metadata": {},
     "output_type": "display_data"
    },
    {
     "data": {
      "text/plain": [
       "[0, 1, 2, 3, 4]"
      ]
     },
     "metadata": {},
     "output_type": "display_data"
    },
    {
     "data": {
      "text/plain": [
       "'Columna - '"
      ]
     },
     "metadata": {},
     "output_type": "display_data"
    },
    {
     "data": {
      "text/plain": [
       "55"
      ]
     },
     "metadata": {},
     "output_type": "display_data"
    },
    {
     "data": {
      "text/plain": [
       "'Oír voces que otras personas no oyen '"
      ]
     },
     "metadata": {},
     "output_type": "display_data"
    },
    {
     "data": {
      "text/plain": [
       "[0, 1, 2, 3, 4]"
      ]
     },
     "metadata": {},
     "output_type": "display_data"
    },
    {
     "data": {
      "text/plain": [
       "'Columna - '"
      ]
     },
     "metadata": {},
     "output_type": "display_data"
    },
    {
     "data": {
      "text/plain": [
       "56"
      ]
     },
     "metadata": {},
     "output_type": "display_data"
    },
    {
     "data": {
      "text/plain": [
       "'La idea de que uno no se puede fiar de la mayoría de las personas '"
      ]
     },
     "metadata": {},
     "output_type": "display_data"
    },
    {
     "data": {
      "text/plain": [
       "[0, 1, 2, 3, 4]"
      ]
     },
     "metadata": {},
     "output_type": "display_data"
    },
    {
     "data": {
      "text/plain": [
       "'Columna - '"
      ]
     },
     "metadata": {},
     "output_type": "display_data"
    },
    {
     "data": {
      "text/plain": [
       "57"
      ]
     },
     "metadata": {},
     "output_type": "display_data"
    },
    {
     "data": {
      "text/plain": [
       "'Tener miedo de repente y sin razón'"
      ]
     },
     "metadata": {},
     "output_type": "display_data"
    },
    {
     "data": {
      "text/plain": [
       "[0, 1, 2, 3, 4]"
      ]
     },
     "metadata": {},
     "output_type": "display_data"
    },
    {
     "data": {
      "text/plain": [
       "'Columna - '"
      ]
     },
     "metadata": {},
     "output_type": "display_data"
    },
    {
     "data": {
      "text/plain": [
       "58"
      ]
     },
     "metadata": {},
     "output_type": "display_data"
    },
    {
     "data": {
      "text/plain": [
       "'Arrebatos de cólera o ataques de furia que no logra controlar'"
      ]
     },
     "metadata": {},
     "output_type": "display_data"
    },
    {
     "data": {
      "text/plain": [
       "[0, 1, 2, 3, 4]"
      ]
     },
     "metadata": {},
     "output_type": "display_data"
    },
    {
     "data": {
      "text/plain": [
       "'Columna - '"
      ]
     },
     "metadata": {},
     "output_type": "display_data"
    },
    {
     "data": {
      "text/plain": [
       "59"
      ]
     },
     "metadata": {},
     "output_type": "display_data"
    },
    {
     "data": {
      "text/plain": [
       "'Miedo a salir de casa solo/a'"
      ]
     },
     "metadata": {},
     "output_type": "display_data"
    },
    {
     "data": {
      "text/plain": [
       "[0, 1, 2, 3, 4]"
      ]
     },
     "metadata": {},
     "output_type": "display_data"
    },
    {
     "data": {
      "text/plain": [
       "'Columna - '"
      ]
     },
     "metadata": {},
     "output_type": "display_data"
    },
    {
     "data": {
      "text/plain": [
       "60"
      ]
     },
     "metadata": {},
     "output_type": "display_data"
    },
    {
     "data": {
      "text/plain": [
       "'Sentirse solo/a '"
      ]
     },
     "metadata": {},
     "output_type": "display_data"
    },
    {
     "data": {
      "text/plain": [
       "[0.0, 1.0, 2.0, 3.0, 4.0]"
      ]
     },
     "metadata": {},
     "output_type": "display_data"
    },
    {
     "data": {
      "text/plain": [
       "'Columna - '"
      ]
     },
     "metadata": {},
     "output_type": "display_data"
    },
    {
     "data": {
      "text/plain": [
       "61"
      ]
     },
     "metadata": {},
     "output_type": "display_data"
    },
    {
     "data": {
      "text/plain": [
       "'Sentirse triste '"
      ]
     },
     "metadata": {},
     "output_type": "display_data"
    },
    {
     "data": {
      "text/plain": [
       "[2, 3, 1, 4, 0]"
      ]
     },
     "metadata": {},
     "output_type": "display_data"
    },
    {
     "data": {
      "text/plain": [
       "'Columna - '"
      ]
     },
     "metadata": {},
     "output_type": "display_data"
    },
    {
     "data": {
      "text/plain": [
       "62"
      ]
     },
     "metadata": {},
     "output_type": "display_data"
    },
    {
     "data": {
      "text/plain": [
       "'No sentir interés por las cosas '"
      ]
     },
     "metadata": {},
     "output_type": "display_data"
    },
    {
     "data": {
      "text/plain": [
       "[0, 1, 2, 3, 4]"
      ]
     },
     "metadata": {},
     "output_type": "display_data"
    },
    {
     "data": {
      "text/plain": [
       "'Columna - '"
      ]
     },
     "metadata": {},
     "output_type": "display_data"
    },
    {
     "data": {
      "text/plain": [
       "63"
      ]
     },
     "metadata": {},
     "output_type": "display_data"
    },
    {
     "data": {
      "text/plain": [
       "'Sentirse nervioso o con mucha ansiedad '"
      ]
     },
     "metadata": {},
     "output_type": "display_data"
    },
    {
     "data": {
      "text/plain": [
       "[1, 3, 4, 2, 0]"
      ]
     },
     "metadata": {},
     "output_type": "display_data"
    },
    {
     "data": {
      "text/plain": [
       "'Columna - '"
      ]
     },
     "metadata": {},
     "output_type": "display_data"
    },
    {
     "data": {
      "text/plain": [
       "64"
      ]
     },
     "metadata": {},
     "output_type": "display_data"
    },
    {
     "data": {
      "text/plain": [
       "'Creer que los demás se dan cuenta de sus pensamientos '"
      ]
     },
     "metadata": {},
     "output_type": "display_data"
    },
    {
     "data": {
      "text/plain": [
       "[0.0, 1.0, 2.0, 3.0, 4.0]"
      ]
     },
     "metadata": {},
     "output_type": "display_data"
    },
    {
     "data": {
      "text/plain": [
       "'Columna - '"
      ]
     },
     "metadata": {},
     "output_type": "display_data"
    },
    {
     "data": {
      "text/plain": [
       "65"
      ]
     },
     "metadata": {},
     "output_type": "display_data"
    },
    {
     "data": {
      "text/plain": [
       "'La sensación de que los demás no le comprenden o no le hacen caso'"
      ]
     },
     "metadata": {},
     "output_type": "display_data"
    },
    {
     "data": {
      "text/plain": [
       "[0, 1, 2, 3, 4]"
      ]
     },
     "metadata": {},
     "output_type": "display_data"
    },
    {
     "data": {
      "text/plain": [
       "'Columna - '"
      ]
     },
     "metadata": {},
     "output_type": "display_data"
    },
    {
     "data": {
      "text/plain": [
       "66"
      ]
     },
     "metadata": {},
     "output_type": "display_data"
    },
    {
     "data": {
      "text/plain": [
       "'La impresión de que otras personas son poco amistosas o que usted no les gusta'"
      ]
     },
     "metadata": {},
     "output_type": "display_data"
    },
    {
     "data": {
      "text/plain": [
       "[0, 1, 2, 3, 4]"
      ]
     },
     "metadata": {},
     "output_type": "display_data"
    },
    {
     "data": {
      "text/plain": [
       "'Columna - '"
      ]
     },
     "metadata": {},
     "output_type": "display_data"
    },
    {
     "data": {
      "text/plain": [
       "67"
      ]
     },
     "metadata": {},
     "output_type": "display_data"
    },
    {
     "data": {
      "text/plain": [
       "'Tener que hacer las cosas muy despacio para estar seguro de que las hace bien '"
      ]
     },
     "metadata": {},
     "output_type": "display_data"
    },
    {
     "data": {
      "text/plain": [
       "[0, 1, 2, 3, 4]"
      ]
     },
     "metadata": {},
     "output_type": "display_data"
    },
    {
     "data": {
      "text/plain": [
       "'Columna - '"
      ]
     },
     "metadata": {},
     "output_type": "display_data"
    },
    {
     "data": {
      "text/plain": [
       "68"
      ]
     },
     "metadata": {},
     "output_type": "display_data"
    },
    {
     "data": {
      "text/plain": [
       "'Sentirse inferior a los demás '"
      ]
     },
     "metadata": {},
     "output_type": "display_data"
    },
    {
     "data": {
      "text/plain": [
       "[0.0, 1.0, 2.0, 3.0, 4.0]"
      ]
     },
     "metadata": {},
     "output_type": "display_data"
    },
    {
     "data": {
      "text/plain": [
       "'Columna - '"
      ]
     },
     "metadata": {},
     "output_type": "display_data"
    },
    {
     "data": {
      "text/plain": [
       "69"
      ]
     },
     "metadata": {},
     "output_type": "display_data"
    },
    {
     "data": {
      "text/plain": [
       "'Dolores musculares '"
      ]
     },
     "metadata": {},
     "output_type": "display_data"
    },
    {
     "data": {
      "text/plain": [
       "[2, 1, 0, 3, 4]"
      ]
     },
     "metadata": {},
     "output_type": "display_data"
    },
    {
     "data": {
      "text/plain": [
       "'Columna - '"
      ]
     },
     "metadata": {},
     "output_type": "display_data"
    },
    {
     "data": {
      "text/plain": [
       "70"
      ]
     },
     "metadata": {},
     "output_type": "display_data"
    },
    {
     "data": {
      "text/plain": [
       "'Sensación de que las otras personas le miran o hablan de usted '"
      ]
     },
     "metadata": {},
     "output_type": "display_data"
    },
    {
     "data": {
      "text/plain": [
       "[0, 1, 2, 3, 4]"
      ]
     },
     "metadata": {},
     "output_type": "display_data"
    },
    {
     "data": {
      "text/plain": [
       "'Columna - '"
      ]
     },
     "metadata": {},
     "output_type": "display_data"
    },
    {
     "data": {
      "text/plain": [
       "71"
      ]
     },
     "metadata": {},
     "output_type": "display_data"
    },
    {
     "data": {
      "text/plain": [
       "'Tener que comprobar una y otra vez todo lo que hace '"
      ]
     },
     "metadata": {},
     "output_type": "display_data"
    },
    {
     "data": {
      "text/plain": [
       "[0, 1, 2, 3, 4]"
      ]
     },
     "metadata": {},
     "output_type": "display_data"
    },
    {
     "data": {
      "text/plain": [
       "'Columna - '"
      ]
     },
     "metadata": {},
     "output_type": "display_data"
    },
    {
     "data": {
      "text/plain": [
       "72"
      ]
     },
     "metadata": {},
     "output_type": "display_data"
    },
    {
     "data": {
      "text/plain": [
       "'Tener dificultades para tomar decisiones '"
      ]
     },
     "metadata": {},
     "output_type": "display_data"
    },
    {
     "data": {
      "text/plain": [
       "[0, 1, 2, 3, 4]"
      ]
     },
     "metadata": {},
     "output_type": "display_data"
    },
    {
     "data": {
      "text/plain": [
       "'Columna - '"
      ]
     },
     "metadata": {},
     "output_type": "display_data"
    },
    {
     "data": {
      "text/plain": [
       "73"
      ]
     },
     "metadata": {},
     "output_type": "display_data"
    },
    {
     "data": {
      "text/plain": [
       "'Sentir miedo a viajar en autobús, metro o tren'"
      ]
     },
     "metadata": {},
     "output_type": "display_data"
    },
    {
     "data": {
      "text/plain": [
       "[0, 1, 3, 4, 2]"
      ]
     },
     "metadata": {},
     "output_type": "display_data"
    },
    {
     "data": {
      "text/plain": [
       "'Columna - '"
      ]
     },
     "metadata": {},
     "output_type": "display_data"
    },
    {
     "data": {
      "text/plain": [
       "74"
      ]
     },
     "metadata": {},
     "output_type": "display_data"
    },
    {
     "data": {
      "text/plain": [
       "'Sentir calor o frío de repente '"
      ]
     },
     "metadata": {},
     "output_type": "display_data"
    },
    {
     "data": {
      "text/plain": [
       "[0, 1, 2, 3, 4]"
      ]
     },
     "metadata": {},
     "output_type": "display_data"
    },
    {
     "data": {
      "text/plain": [
       "'Columna - '"
      ]
     },
     "metadata": {},
     "output_type": "display_data"
    },
    {
     "data": {
      "text/plain": [
       "75"
      ]
     },
     "metadata": {},
     "output_type": "display_data"
    },
    {
     "data": {
      "text/plain": [
       "'Tener que evitar ciertos lugares o situaciones porque le dan miedo'"
      ]
     },
     "metadata": {},
     "output_type": "display_data"
    },
    {
     "data": {
      "text/plain": [
       "[0, 1, 2, 3, 4]"
      ]
     },
     "metadata": {},
     "output_type": "display_data"
    },
    {
     "data": {
      "text/plain": [
       "'Columna - '"
      ]
     },
     "metadata": {},
     "output_type": "display_data"
    },
    {
     "data": {
      "text/plain": [
       "76"
      ]
     },
     "metadata": {},
     "output_type": "display_data"
    },
    {
     "data": {
      "text/plain": [
       "'Que se le quede la mente en blanco '"
      ]
     },
     "metadata": {},
     "output_type": "display_data"
    },
    {
     "data": {
      "text/plain": [
       "[0, 1, 2, 3, 4]"
      ]
     },
     "metadata": {},
     "output_type": "display_data"
    },
    {
     "data": {
      "text/plain": [
       "'Columna - '"
      ]
     },
     "metadata": {},
     "output_type": "display_data"
    },
    {
     "data": {
      "text/plain": [
       "77"
      ]
     },
     "metadata": {},
     "output_type": "display_data"
    },
    {
     "data": {
      "text/plain": [
       "'Entumecimiento y hormigueo en alguna parte del cuerpo'"
      ]
     },
     "metadata": {},
     "output_type": "display_data"
    },
    {
     "data": {
      "text/plain": [
       "[0, 1, 2, 3, 4]"
      ]
     },
     "metadata": {},
     "output_type": "display_data"
    },
    {
     "data": {
      "text/plain": [
       "'Columna - '"
      ]
     },
     "metadata": {},
     "output_type": "display_data"
    },
    {
     "data": {
      "text/plain": [
       "78"
      ]
     },
     "metadata": {},
     "output_type": "display_data"
    },
    {
     "data": {
      "text/plain": [
       "'Sentirse desesperanzado con respecto al futuro '"
      ]
     },
     "metadata": {},
     "output_type": "display_data"
    },
    {
     "data": {
      "text/plain": [
       "[3.0, 1.0, 4.0, 2.0, 0.0]"
      ]
     },
     "metadata": {},
     "output_type": "display_data"
    },
    {
     "data": {
      "text/plain": [
       "'Columna - '"
      ]
     },
     "metadata": {},
     "output_type": "display_data"
    },
    {
     "data": {
      "text/plain": [
       "79"
      ]
     },
     "metadata": {},
     "output_type": "display_data"
    },
    {
     "data": {
      "text/plain": [
       "'Tener dificultades para concentrarse '"
      ]
     },
     "metadata": {},
     "output_type": "display_data"
    },
    {
     "data": {
      "text/plain": [
       "[2, 3, 4, 1, 0]"
      ]
     },
     "metadata": {},
     "output_type": "display_data"
    },
    {
     "data": {
      "text/plain": [
       "'Columna - '"
      ]
     },
     "metadata": {},
     "output_type": "display_data"
    },
    {
     "data": {
      "text/plain": [
       "80"
      ]
     },
     "metadata": {},
     "output_type": "display_data"
    },
    {
     "data": {
      "text/plain": [
       "'Sentirse débil en alguna parte del cuerpo '"
      ]
     },
     "metadata": {},
     "output_type": "display_data"
    },
    {
     "data": {
      "text/plain": [
       "[0, 2, 1, 3, 4]"
      ]
     },
     "metadata": {},
     "output_type": "display_data"
    },
    {
     "data": {
      "text/plain": [
       "'Columna - '"
      ]
     },
     "metadata": {},
     "output_type": "display_data"
    },
    {
     "data": {
      "text/plain": [
       "81"
      ]
     },
     "metadata": {},
     "output_type": "display_data"
    },
    {
     "data": {
      "text/plain": [
       "'Sentirse preocupado/a, tenso/a o agitado/a '"
      ]
     },
     "metadata": {},
     "output_type": "display_data"
    },
    {
     "data": {
      "text/plain": [
       "[3, 2, 1, 4, 0]"
      ]
     },
     "metadata": {},
     "output_type": "display_data"
    },
    {
     "data": {
      "text/plain": [
       "'Columna - '"
      ]
     },
     "metadata": {},
     "output_type": "display_data"
    },
    {
     "data": {
      "text/plain": [
       "82"
      ]
     },
     "metadata": {},
     "output_type": "display_data"
    },
    {
     "data": {
      "text/plain": [
       "'Pesadez en los brazos o en las piernas '"
      ]
     },
     "metadata": {},
     "output_type": "display_data"
    },
    {
     "data": {
      "text/plain": [
       "[0, 1, 2, 3, 4]"
      ]
     },
     "metadata": {},
     "output_type": "display_data"
    },
    {
     "data": {
      "text/plain": [
       "'Columna - '"
      ]
     },
     "metadata": {},
     "output_type": "display_data"
    },
    {
     "data": {
      "text/plain": [
       "83"
      ]
     },
     "metadata": {},
     "output_type": "display_data"
    },
    {
     "data": {
      "text/plain": [
       "'Sentirse incómodo cuando la gente le mira o habla acerca de usted '"
      ]
     },
     "metadata": {},
     "output_type": "display_data"
    },
    {
     "data": {
      "text/plain": [
       "[0, 1, 2, 3, 4]"
      ]
     },
     "metadata": {},
     "output_type": "display_data"
    },
    {
     "data": {
      "text/plain": [
       "'Columna - '"
      ]
     },
     "metadata": {},
     "output_type": "display_data"
    },
    {
     "data": {
      "text/plain": [
       "84"
      ]
     },
     "metadata": {},
     "output_type": "display_data"
    },
    {
     "data": {
      "text/plain": [
       "'Tener pensamientos que no son suyos '"
      ]
     },
     "metadata": {},
     "output_type": "display_data"
    },
    {
     "data": {
      "text/plain": [
       "[0.0, 1.0, 2.0, 3.0, 4.0]"
      ]
     },
     "metadata": {},
     "output_type": "display_data"
    },
    {
     "data": {
      "text/plain": [
       "'Columna - '"
      ]
     },
     "metadata": {},
     "output_type": "display_data"
    },
    {
     "data": {
      "text/plain": [
       "85"
      ]
     },
     "metadata": {},
     "output_type": "display_data"
    },
    {
     "data": {
      "text/plain": [
       "'Sentir el impulso de golpear, herir o hacer daño a alguien '"
      ]
     },
     "metadata": {},
     "output_type": "display_data"
    },
    {
     "data": {
      "text/plain": [
       "[0, 1, 2, 3, 4]"
      ]
     },
     "metadata": {},
     "output_type": "display_data"
    },
    {
     "data": {
      "text/plain": [
       "'Columna - '"
      ]
     },
     "metadata": {},
     "output_type": "display_data"
    },
    {
     "data": {
      "text/plain": [
       "86"
      ]
     },
     "metadata": {},
     "output_type": "display_data"
    },
    {
     "data": {
      "text/plain": [
       "'Tener ganas de romper algo'"
      ]
     },
     "metadata": {},
     "output_type": "display_data"
    },
    {
     "data": {
      "text/plain": [
       "[0, 1, 2, 3, 4]"
      ]
     },
     "metadata": {},
     "output_type": "display_data"
    },
    {
     "data": {
      "text/plain": [
       "'Columna - '"
      ]
     },
     "metadata": {},
     "output_type": "display_data"
    },
    {
     "data": {
      "text/plain": [
       "87"
      ]
     },
     "metadata": {},
     "output_type": "display_data"
    },
    {
     "data": {
      "text/plain": [
       "'Sentirse muy cohibido/a entre otras personas '"
      ]
     },
     "metadata": {},
     "output_type": "display_data"
    },
    {
     "data": {
      "text/plain": [
       "[0.0, 1.0, 2.0, 3.0, 4.0]"
      ]
     },
     "metadata": {},
     "output_type": "display_data"
    },
    {
     "data": {
      "text/plain": [
       "'Columna - '"
      ]
     },
     "metadata": {},
     "output_type": "display_data"
    },
    {
     "data": {
      "text/plain": [
       "88"
      ]
     },
     "metadata": {},
     "output_type": "display_data"
    },
    {
     "data": {
      "text/plain": [
       "'Sentir miedo o ansiedad entre mucha gente (en el cine, supermercado, etc.) '"
      ]
     },
     "metadata": {},
     "output_type": "display_data"
    },
    {
     "data": {
      "text/plain": [
       "[0, 1, 2, 3, 4]"
      ]
     },
     "metadata": {},
     "output_type": "display_data"
    },
    {
     "data": {
      "text/plain": [
       "'Columna - '"
      ]
     },
     "metadata": {},
     "output_type": "display_data"
    },
    {
     "data": {
      "text/plain": [
       "89"
      ]
     },
     "metadata": {},
     "output_type": "display_data"
    },
    {
     "data": {
      "text/plain": [
       "'Ataques de terror o pánico '"
      ]
     },
     "metadata": {},
     "output_type": "display_data"
    },
    {
     "data": {
      "text/plain": [
       "[0.0, 1.0, 2.0, 3.0, 4.0]"
      ]
     },
     "metadata": {},
     "output_type": "display_data"
    },
    {
     "data": {
      "text/plain": [
       "'Columna - '"
      ]
     },
     "metadata": {},
     "output_type": "display_data"
    },
    {
     "data": {
      "text/plain": [
       "90"
      ]
     },
     "metadata": {},
     "output_type": "display_data"
    },
    {
     "data": {
      "text/plain": [
       "'Tener discusiones frecuentes '"
      ]
     },
     "metadata": {},
     "output_type": "display_data"
    },
    {
     "data": {
      "text/plain": [
       "[0, 1, 2, 3, 4]"
      ]
     },
     "metadata": {},
     "output_type": "display_data"
    },
    {
     "data": {
      "text/plain": [
       "'Columna - '"
      ]
     },
     "metadata": {},
     "output_type": "display_data"
    },
    {
     "data": {
      "text/plain": [
       "91"
      ]
     },
     "metadata": {},
     "output_type": "display_data"
    },
    {
     "data": {
      "text/plain": [
       "'El que otros no le reconozcan adecuadamente sus logros'"
      ]
     },
     "metadata": {},
     "output_type": "display_data"
    },
    {
     "data": {
      "text/plain": [
       "[0, 1, 2, 3, 4]"
      ]
     },
     "metadata": {},
     "output_type": "display_data"
    },
    {
     "data": {
      "text/plain": [
       "'Columna - '"
      ]
     },
     "metadata": {},
     "output_type": "display_data"
    },
    {
     "data": {
      "text/plain": [
       "92"
      ]
     },
     "metadata": {},
     "output_type": "display_data"
    },
    {
     "data": {
      "text/plain": [
       "'Sentirse inquieto/a o intranquilo/a '"
      ]
     },
     "metadata": {},
     "output_type": "display_data"
    },
    {
     "data": {
      "text/plain": [
       "[1, 3, 2, 0, 4]"
      ]
     },
     "metadata": {},
     "output_type": "display_data"
    },
    {
     "data": {
      "text/plain": [
       "'Columna - '"
      ]
     },
     "metadata": {},
     "output_type": "display_data"
    },
    {
     "data": {
      "text/plain": [
       "93"
      ]
     },
     "metadata": {},
     "output_type": "display_data"
    },
    {
     "data": {
      "text/plain": [
       "'La sensación de ser un/a inútil o no valer nada'"
      ]
     },
     "metadata": {},
     "output_type": "display_data"
    },
    {
     "data": {
      "text/plain": [
       "[0.0, 1.0, 2.0, 4.0, 3.0]"
      ]
     },
     "metadata": {},
     "output_type": "display_data"
    },
    {
     "data": {
      "text/plain": [
       "'Columna - '"
      ]
     },
     "metadata": {},
     "output_type": "display_data"
    },
    {
     "data": {
      "text/plain": [
       "94"
      ]
     },
     "metadata": {},
     "output_type": "display_data"
    },
    {
     "data": {
      "text/plain": [
       "'Gritar o tirar cosas '"
      ]
     },
     "metadata": {},
     "output_type": "display_data"
    },
    {
     "data": {
      "text/plain": [
       "[0.0, 1.0, 2.0, 3.0, 4.0]"
      ]
     },
     "metadata": {},
     "output_type": "display_data"
    },
    {
     "data": {
      "text/plain": [
       "'Columna - '"
      ]
     },
     "metadata": {},
     "output_type": "display_data"
    },
    {
     "data": {
      "text/plain": [
       "95"
      ]
     },
     "metadata": {},
     "output_type": "display_data"
    },
    {
     "data": {
      "text/plain": [
       "'La impresión de que la gente intentaría aprovecharse de usted si los dejara '"
      ]
     },
     "metadata": {},
     "output_type": "display_data"
    },
    {
     "data": {
      "text/plain": [
       "[0, 1, 2, 3, 4]"
      ]
     },
     "metadata": {},
     "output_type": "display_data"
    },
    {
     "data": {
      "text/plain": [
       "'Columna - '"
      ]
     },
     "metadata": {},
     "output_type": "display_data"
    },
    {
     "data": {
      "text/plain": [
       "96"
      ]
     },
     "metadata": {},
     "output_type": "display_data"
    },
    {
     "data": {
      "text/plain": [
       "'La idea de que debería ser castigado/a por sus pecados '"
      ]
     },
     "metadata": {},
     "output_type": "display_data"
    },
    {
     "data": {
      "text/plain": [
       "[0, 1, 2, 4, 3]"
      ]
     },
     "metadata": {},
     "output_type": "display_data"
    },
    {
     "name": "stdout",
     "output_type": "stream",
     "text": [
      "Campo abierto\n"
     ]
    },
    {
     "data": {
      "text/plain": [
       "'Columna - '"
      ]
     },
     "metadata": {},
     "output_type": "display_data"
    },
    {
     "data": {
      "text/plain": [
       "0"
      ]
     },
     "metadata": {},
     "output_type": "display_data"
    },
    {
     "data": {
      "text/plain": [
       "'Marca temporal'"
      ]
     },
     "metadata": {},
     "output_type": "display_data"
    },
    {
     "data": {
      "text/plain": [
       "'Columna - '"
      ]
     },
     "metadata": {},
     "output_type": "display_data"
    },
    {
     "data": {
      "text/plain": [
       "2"
      ]
     },
     "metadata": {},
     "output_type": "display_data"
    },
    {
     "data": {
      "text/plain": [
       "'Fecha de nacimiento (para ir a tu año pincha en la flecha al lado de la fecha y luego haz scroll en la barra lateral)'"
      ]
     },
     "metadata": {},
     "output_type": "display_data"
    },
    {
     "data": {
      "text/plain": [
       "'Columna - '"
      ]
     },
     "metadata": {},
     "output_type": "display_data"
    },
    {
     "data": {
      "text/plain": [
       "4"
      ]
     },
     "metadata": {},
     "output_type": "display_data"
    },
    {
     "data": {
      "text/plain": [
       "'Por favor, señale su lugar de nacimiento'"
      ]
     },
     "metadata": {},
     "output_type": "display_data"
    },
    {
     "data": {
      "text/plain": [
       "'Columna - '"
      ]
     },
     "metadata": {},
     "output_type": "display_data"
    },
    {
     "data": {
      "text/plain": [
       "8"
      ]
     },
     "metadata": {},
     "output_type": "display_data"
    },
    {
     "data": {
      "text/plain": [
       "'Por favor, detalle sus estudios, si procede:'"
      ]
     },
     "metadata": {},
     "output_type": "display_data"
    },
    {
     "data": {
      "text/plain": [
       "'Columna - '"
      ]
     },
     "metadata": {},
     "output_type": "display_data"
    },
    {
     "data": {
      "text/plain": [
       "9"
      ]
     },
     "metadata": {},
     "output_type": "display_data"
    },
    {
     "data": {
      "text/plain": [
       "'Por favor, indique su estructura de convivencia habitual durante los 12 meses ANTERIORES al confinamiento:'"
      ]
     },
     "metadata": {},
     "output_type": "display_data"
    },
    {
     "data": {
      "text/plain": [
       "'Columna - '"
      ]
     },
     "metadata": {},
     "output_type": "display_data"
    },
    {
     "data": {
      "text/plain": [
       "10"
      ]
     },
     "metadata": {},
     "output_type": "display_data"
    },
    {
     "data": {
      "text/plain": [
       "'Por favor, indique su estructura de convivencia habitual DURANTE la reclusión:'"
      ]
     },
     "metadata": {},
     "output_type": "display_data"
    },
    {
     "data": {
      "text/plain": [
       "'Columna - '"
      ]
     },
     "metadata": {},
     "output_type": "display_data"
    },
    {
     "data": {
      "text/plain": [
       "15"
      ]
     },
     "metadata": {},
     "output_type": "display_data"
    },
    {
     "data": {
      "text/plain": [
       "'Por favor, indique su Código Postal durante el confinamiento: '"
      ]
     },
     "metadata": {},
     "output_type": "display_data"
    },
    {
     "data": {
      "text/plain": [
       "'Columna - '"
      ]
     },
     "metadata": {},
     "output_type": "display_data"
    },
    {
     "data": {
      "text/plain": [
       "21"
      ]
     },
     "metadata": {},
     "output_type": "display_data"
    },
    {
     "data": {
      "text/plain": [
       "'Por favor indique si existen/existían estos elementos en su espacio de residencia DURANTE la cuarentena:'"
      ]
     },
     "metadata": {},
     "output_type": "display_data"
    },
    {
     "data": {
      "text/plain": [
       "'Columna - '"
      ]
     },
     "metadata": {},
     "output_type": "display_data"
    },
    {
     "data": {
      "text/plain": [
       "22"
      ]
     },
     "metadata": {},
     "output_type": "display_data"
    },
    {
     "data": {
      "text/plain": [
       "'Teniendo en mente su lugar de residencia DURANTE el confinamiento, por favor, indique. Número de habitaciones sin contar baño y cocina:'"
      ]
     },
     "metadata": {},
     "output_type": "display_data"
    },
    {
     "data": {
      "text/plain": [
       "'Columna - '"
      ]
     },
     "metadata": {},
     "output_type": "display_data"
    },
    {
     "data": {
      "text/plain": [
       "23"
      ]
     },
     "metadata": {},
     "output_type": "display_data"
    },
    {
     "data": {
      "text/plain": [
       "'Teniendo en mente su lugar de residencia DURANTE el confinamiento, por favor, indique. Número de personas con las que cohabitaba/cohabita:'"
      ]
     },
     "metadata": {},
     "output_type": "display_data"
    },
    {
     "data": {
      "text/plain": [
       "'Columna - '"
      ]
     },
     "metadata": {},
     "output_type": "display_data"
    },
    {
     "data": {
      "text/plain": [
       "26"
      ]
     },
     "metadata": {},
     "output_type": "display_data"
    },
    {
     "data": {
      "text/plain": [
       "'Por favor, detalle tipo de trabajo en ese periodo si procede:'"
      ]
     },
     "metadata": {},
     "output_type": "display_data"
    },
    {
     "data": {
      "text/plain": [
       "'Columna - '"
      ]
     },
     "metadata": {},
     "output_type": "display_data"
    },
    {
     "data": {
      "text/plain": [
       "28"
      ]
     },
     "metadata": {},
     "output_type": "display_data"
    },
    {
     "data": {
      "text/plain": [
       "'¿Cuál ha sido su situación laboral DURANTE la cuarentena?'"
      ]
     },
     "metadata": {},
     "output_type": "display_data"
    },
    {
     "data": {
      "text/plain": [
       "'Columna - '"
      ]
     },
     "metadata": {},
     "output_type": "display_data"
    },
    {
     "data": {
      "text/plain": [
       "29"
      ]
     },
     "metadata": {},
     "output_type": "display_data"
    },
    {
     "data": {
      "text/plain": [
       "'¿Cuál considera que podría ser su situación laboral o académica DESPU√âS de la crisis provocada por el coronavirus (en los 12 meses posteriores al fin de la cuarentena o la mayor parte de ese tiempo):?'"
      ]
     },
     "metadata": {},
     "output_type": "display_data"
    },
    {
     "data": {
      "text/plain": [
       "'Columna - '"
      ]
     },
     "metadata": {},
     "output_type": "display_data"
    },
    {
     "data": {
      "text/plain": [
       "32"
      ]
     },
     "metadata": {},
     "output_type": "display_data"
    },
    {
     "data": {
      "text/plain": [
       "'¿Cuál era el nivel aproximado de ingresos MENSUALES netos regulares en su HOGAR (unidad en la que se comparten gastos: individuo, pareja, familia...) DURANTE la cuarentena:'"
      ]
     },
     "metadata": {},
     "output_type": "display_data"
    },
    {
     "data": {
      "text/plain": [
       "'Columna - '"
      ]
     },
     "metadata": {},
     "output_type": "display_data"
    },
    {
     "data": {
      "text/plain": [
       "35"
      ]
     },
     "metadata": {},
     "output_type": "display_data"
    },
    {
     "data": {
      "text/plain": [
       "'Por favor, indique si presenta EN LA ACTUALIDAD alguna de las siguientes condiciones de salud:'"
      ]
     },
     "metadata": {},
     "output_type": "display_data"
    },
    {
     "data": {
      "text/plain": [
       "'Columna - '"
      ]
     },
     "metadata": {},
     "output_type": "display_data"
    },
    {
     "data": {
      "text/plain": [
       "36"
      ]
     },
     "metadata": {},
     "output_type": "display_data"
    },
    {
     "data": {
      "text/plain": [
       "'Si ha recibido alguna vez un diagnóstico psiquiátrico, por favor indique cuál:'"
      ]
     },
     "metadata": {},
     "output_type": "display_data"
    },
    {
     "data": {
      "text/plain": [
       "'Columna - '"
      ]
     },
     "metadata": {},
     "output_type": "display_data"
    },
    {
     "data": {
      "text/plain": [
       "39"
      ]
     },
     "metadata": {},
     "output_type": "display_data"
    },
    {
     "data": {
      "text/plain": [
       "'Si ha consumido tóxicos con una frecuencia SEMANAL en los últimos 6 meses por favor indique cuáles:'"
      ]
     },
     "metadata": {},
     "output_type": "display_data"
    },
    {
     "data": {
      "text/plain": [
       "'Columna - '"
      ]
     },
     "metadata": {},
     "output_type": "display_data"
    },
    {
     "data": {
      "text/plain": [
       "41"
      ]
     },
     "metadata": {},
     "output_type": "display_data"
    },
    {
     "data": {
      "text/plain": [
       "'Por favor indique, si lo hay, el grado de discapacidad que indique su certificado % reconocido (0 si no tiene):'"
      ]
     },
     "metadata": {},
     "output_type": "display_data"
    },
    {
     "data": {
      "text/plain": [
       "'Columna - '"
      ]
     },
     "metadata": {},
     "output_type": "display_data"
    },
    {
     "data": {
      "text/plain": [
       "46"
      ]
     },
     "metadata": {},
     "output_type": "display_data"
    },
    {
     "data": {
      "text/plain": [
       "'En caso de que algún miembro de la unidad familiar haya sido diagnosticado de infección por coronavirus, indique por favor de quién se trata (señale más de una opción si procede)'"
      ]
     },
     "metadata": {},
     "output_type": "display_data"
    },
    {
     "data": {
      "text/plain": [
       "'Columna - '"
      ]
     },
     "metadata": {},
     "output_type": "display_data"
    },
    {
     "data": {
      "text/plain": [
       "49"
      ]
     },
     "metadata": {},
     "output_type": "display_data"
    },
    {
     "data": {
      "text/plain": [
       "'¿Cuántas veces a la semana ha salido de casa durante la cuarentena?'"
      ]
     },
     "metadata": {},
     "output_type": "display_data"
    },
    {
     "data": {
      "text/plain": [
       "'Columna - '"
      ]
     },
     "metadata": {},
     "output_type": "display_data"
    },
    {
     "data": {
      "text/plain": [
       "50"
      ]
     },
     "metadata": {},
     "output_type": "display_data"
    },
    {
     "data": {
      "text/plain": [
       "'Por qué motivos ha salido a la calle durante la cuarentena (seleccione tantas opciones como necesite)'"
      ]
     },
     "metadata": {},
     "output_type": "display_data"
    }
   ],
   "source": [
    "print('Campo cerrado')\n",
    "for i in range(len(data.columns)):\n",
    "    repeated_values = data.iloc[:, i].value_counts()[data.iloc[:, i].value_counts() > 0].index.tolist()\n",
    "    if len(repeated_values) < 10:  # Corrección aquí\n",
    "      display('Columna - ', i, data.columns[i], repeated_values)\n",
    "\n",
    "print('Campo abierto')\n",
    "for i in range(len(data.columns)):\n",
    "    repeated_values = data.iloc[:, i].value_counts()[data.iloc[:, i].value_counts() > 0].index.tolist()\n",
    "    if len(repeated_values) > 10:  # Corrección aquí\n",
    "        display('Columna - ', i, data.columns[i])  # Aquí también corregí data[i] a data.columns[i] para obtener el nombre de la columna\n",
    "        #for value in repeated_values:\n",
    "            #count = data.iloc[:, i].value_counts()[value]\n",
    "            #print(f\"El valor {value} se repite {count} veces.\")\n"
   ]
  },
  {
   "cell_type": "markdown",
   "metadata": {
    "id": "A4tKCnocIEZh"
   },
   "source": [
    "Campo abierto\n",
    "\n",
    "Columna -  0 Marca temporal --> Eliminar\n",
    "\n",
    "Columna -  2 Fecha de nacimiento (para ir a tu año pincha en la flecha al lado de la fecha y luego haz scroll en la barra lateral) --> Separar en año y mes (contar la edad y agrupar por grupos) --> generaciones de que sean significativas en la literatura.\n",
    "\n",
    "Columna -  4 Por favor, señale su lugar de nacimiento  --> eliminar\n",
    "\n",
    "Columna -  8 Por favor, detalle sus estudios, si procede: --> quedarse con la clasificacion basica y si es influyente mirar con nlp\n",
    "\n",
    "Columna -  9 Por favor, indique su estructura de convivencia habitual durante los 12 meses ANTERIORES al confinamiento: --> luego para ver influencia. Si vives solo genera ansiedad, si vives con gente  tmb.\n",
    "\n",
    "Columna -  10 Por favor, indique su estructura de convivencia habitual DURANTE la reclusión: (ver si ha cambiado con la anterior) --> **añadir columna de cambio de estructura**\n",
    "\n",
    "Columna -  15 Por favor, indique su Código Postal durante el confinamiento: --> si influye, hacemos estudio.\n",
    "\n",
    "Columna -  21 Por favor indique si existen/existían estos elementos en su espacio de residencia DURANTE la cuarentena: (ventana, balcón, terraza, etc. se marca más de una) --> generar columna para cada uno. en el analisis ver si se agrupan varias\n",
    "\n",
    "Columna -  22 Teniendo en mente su lugar de residencia DURANTE el confinamiento, por favor, indique. Número de habitaciones sin contar baño y cocina: --> esta es numérica, no hace falta hacer nada\n",
    "\n",
    "Columna -  23 Teniendo en mente su lugar de residencia DURANTE el confinamiento, por favor, indique. Número de personas con las que cohabitaba/cohabita: --> esta es numérica, no hace falta hacer nada\n",
    "\n",
    "Columna -  26 Por favor, detalle tipo de trabajo en ese periodo si procede:\n",
    "\n",
    "Columna -  28 ¬øCu√°l ha sido su situación laboral DURANTE la cuarentena?\n",
    "\n",
    "Columna -  29 ¬øCu√°l considera que podría ser su situación laboral o académica DESPU√âS de la crisis provocada por el coronavirus (en los 12 meses posteriores al fin de la cuarentena o la mayor parte de ese tiempo):?\n",
    "\n",
    "Columna -  30 En los últimos 12 meses ANTES del confinamiento, ¬øcu√°l fue la principal ocupación de la PERSONA que aporta un mayor importe económico al HOGAR?\n",
    "\n",
    "Columna -  32 ¬øCu√°l era el nivel aproximado de ingresos MENSUALES netos regulares en su HOGAR (unidad en la que se comparten gastos: individuo, pareja, familia...) DURANTE la cuarentena:  --> ya está discretizada\n",
    "\n",
    "Columna -  35 Por favor, indique si presenta EN LA ACTUALIDAD alguna de las siguientes condiciones de salud: --> separar por columnas?\n",
    "\n",
    "Columna -  36 Si ha recibido alguna vez un diagnóstico psiqui√°trico, por favor indique cu√°l: --> separar por columnas?\n",
    "\n",
    "Columna -  39 Si ha consumido tóxicos con una frecuencia SEMANAL en los últimos 6 meses por favor indique cu√°les: --> separar por columnas\n",
    "\n",
    "Columna -  41 Por favor indique, si lo hay, el grado de discapacidad que indique su certificado % reconocido (0 si no tiene): --> agrupar por rangos\n",
    "\n",
    "Columna -  46 En caso de que algún miembro de la unidad familiar haya sido diagnosticado de infección por coronavirus, indique por favor de quién se trata (señale m√°s de una opción si procede)\n",
    "\n",
    "Columna -  49 ¬øCu√°ntas veces a la semana ha salido de casa durante la cuarentena?\n",
    "\n",
    "Columna -  50 Por qué motivos ha salido a la calle durante la cuarentena (seleccione tantas opciones como necesite)\n",
    "\n",
    "\n",
    "Los NaNs ver que hacemos, si ponemos assumptions o no.\n",
    "\n",
    "**Publicar el dataset. Existen revistas que publican articulos. Buscar datapaper o dataarticle. Revistas en las que se puedan publicar aunq sean q bajo. Data inbrieve. Se paga mucho.\n",
    "Revistas indexadas y aceptan articulos de datapaper o dataarticle.**\n",
    "Límite 500. Indexados en el JSP? decir JCR\n",
    "\n",
    "Que tenga revisión por pares.\n",
    "\n",
    "Problema de los datos --> no se tomaron bajo ninguna supervision porque estabamos en confinamiento. PAra solucionarlo lo publicamos.\n"
   ]
  },
  {
   "cell_type": "code",
   "execution_count": 21,
   "metadata": {},
   "outputs": [
    {
     "data": {
      "text/html": [
       "<div>\n",
       "<style scoped>\n",
       "    .dataframe tbody tr th:only-of-type {\n",
       "        vertical-align: middle;\n",
       "    }\n",
       "\n",
       "    .dataframe tbody tr th {\n",
       "        vertical-align: top;\n",
       "    }\n",
       "\n",
       "    .dataframe thead th {\n",
       "        text-align: right;\n",
       "    }\n",
       "</style>\n",
       "<table border=\"1\" class=\"dataframe\">\n",
       "  <thead>\n",
       "    <tr style=\"text-align: right;\">\n",
       "      <th></th>\n",
       "      <th>Marca temporal</th>\n",
       "      <th>Por favor indique el género con el que se identifica:</th>\n",
       "      <th>Fecha de nacimiento (para ir a tu año pincha en la flecha al lado de la fecha y luego haz scroll en la barra lateral)</th>\n",
       "      <th>Indique su estado civil:</th>\n",
       "      <th>Por favor, señale su lugar de nacimiento</th>\n",
       "      <th>¿Cuál es el estado actual de su documentación?</th>\n",
       "      <th>¿Tiene la nacionalidad europea?</th>\n",
       "      <th>¿Cuál es el máximo nivel educativo que ha terminado?</th>\n",
       "      <th>Por favor, detalle sus estudios, si procede:</th>\n",
       "      <th>Por favor, indique su estructura de convivencia habitual durante los 12 meses ANTERIORES al confinamiento:</th>\n",
       "      <th>...</th>\n",
       "      <th>Sentirse muy cohibido/a entre otras personas</th>\n",
       "      <th>Sentir miedo o ansiedad entre mucha gente (en el cine, supermercado, etc.)</th>\n",
       "      <th>Ataques de terror o pánico</th>\n",
       "      <th>Tener discusiones frecuentes</th>\n",
       "      <th>El que otros no le reconozcan adecuadamente sus logros</th>\n",
       "      <th>Sentirse inquieto/a o intranquilo/a</th>\n",
       "      <th>La sensación de ser un/a inútil o no valer nada</th>\n",
       "      <th>Gritar o tirar cosas</th>\n",
       "      <th>La impresión de que la gente intentaría aprovecharse de usted si los dejara</th>\n",
       "      <th>La idea de que debería ser castigado/a por sus pecados</th>\n",
       "    </tr>\n",
       "  </thead>\n",
       "  <tbody>\n",
       "    <tr>\n",
       "      <th>0</th>\n",
       "      <td>30/04/2020 22:57</td>\n",
       "      <td>Mujer</td>\n",
       "      <td>21/09/1990</td>\n",
       "      <td>Soltero(a)</td>\n",
       "      <td>Madrid</td>\n",
       "      <td>Pasaporte en vigor</td>\n",
       "      <td>Europea (países comunitarios)</td>\n",
       "      <td>Estudios de post-grado completos</td>\n",
       "      <td>Licenciada en Psicología, Máster Psicología ge...</td>\n",
       "      <td>Amigos(as)</td>\n",
       "      <td>...</td>\n",
       "      <td>0.0</td>\n",
       "      <td>1</td>\n",
       "      <td>1.0</td>\n",
       "      <td>1</td>\n",
       "      <td>0</td>\n",
       "      <td>2</td>\n",
       "      <td>1.0</td>\n",
       "      <td>0.0</td>\n",
       "      <td>0</td>\n",
       "      <td>0</td>\n",
       "    </tr>\n",
       "    <tr>\n",
       "      <th>1</th>\n",
       "      <td>01/05/2020 0:56</td>\n",
       "      <td>Hombre</td>\n",
       "      <td>01/01/1962</td>\n",
       "      <td>Casado(a), o viviendo en pareja</td>\n",
       "      <td>Madrid</td>\n",
       "      <td>Pasaporte en vigor</td>\n",
       "      <td>Europea (países comunitarios)</td>\n",
       "      <td>Estudios de post-grado completos</td>\n",
       "      <td>Doctorado</td>\n",
       "      <td>Familia propia</td>\n",
       "      <td>...</td>\n",
       "      <td>0.0</td>\n",
       "      <td>0</td>\n",
       "      <td>0.0</td>\n",
       "      <td>0</td>\n",
       "      <td>4</td>\n",
       "      <td>0</td>\n",
       "      <td>0.0</td>\n",
       "      <td>0.0</td>\n",
       "      <td>4</td>\n",
       "      <td>0</td>\n",
       "    </tr>\n",
       "    <tr>\n",
       "      <th>2</th>\n",
       "      <td>01/05/2020 17:51</td>\n",
       "      <td>Hombre</td>\n",
       "      <td>15/01/1993</td>\n",
       "      <td>Soltero(a)</td>\n",
       "      <td>Córdoba (España)</td>\n",
       "      <td>Pasaporte en vigor</td>\n",
       "      <td>Europea (países comunitarios)</td>\n",
       "      <td>Estudios de post-grado completos</td>\n",
       "      <td>Grado en Psicología, Máster, Doctorado</td>\n",
       "      <td>Amigos(as)</td>\n",
       "      <td>...</td>\n",
       "      <td>0.0</td>\n",
       "      <td>0</td>\n",
       "      <td>0.0</td>\n",
       "      <td>1</td>\n",
       "      <td>0</td>\n",
       "      <td>0</td>\n",
       "      <td>0.0</td>\n",
       "      <td>0.0</td>\n",
       "      <td>0</td>\n",
       "      <td>0</td>\n",
       "    </tr>\n",
       "    <tr>\n",
       "      <th>3</th>\n",
       "      <td>01/05/2020 19:31</td>\n",
       "      <td>Mujer</td>\n",
       "      <td>16/08/1981</td>\n",
       "      <td>Casado(a), o viviendo en pareja</td>\n",
       "      <td>Madrid</td>\n",
       "      <td>Pasaporte en vigor</td>\n",
       "      <td>Europea (países comunitarios)</td>\n",
       "      <td>Estudios de post-grado completos</td>\n",
       "      <td>Postgrado en Psicologia</td>\n",
       "      <td>Familia propia</td>\n",
       "      <td>...</td>\n",
       "      <td>0.0</td>\n",
       "      <td>0</td>\n",
       "      <td>0.0</td>\n",
       "      <td>0</td>\n",
       "      <td>0</td>\n",
       "      <td>3</td>\n",
       "      <td>0.0</td>\n",
       "      <td>0.0</td>\n",
       "      <td>0</td>\n",
       "      <td>0</td>\n",
       "    </tr>\n",
       "    <tr>\n",
       "      <th>4</th>\n",
       "      <td>02/05/2020 12:51</td>\n",
       "      <td>Hombre</td>\n",
       "      <td>21/04/1982</td>\n",
       "      <td>Soltero(a)</td>\n",
       "      <td>Málaga</td>\n",
       "      <td>Pasaporte en vigor</td>\n",
       "      <td>Europea (países comunitarios)</td>\n",
       "      <td>Estudios universitarios completos (licenciatur...</td>\n",
       "      <td>NaN</td>\n",
       "      <td>Compañeros(as)</td>\n",
       "      <td>...</td>\n",
       "      <td>0.0</td>\n",
       "      <td>1</td>\n",
       "      <td>0.0</td>\n",
       "      <td>0</td>\n",
       "      <td>0</td>\n",
       "      <td>0</td>\n",
       "      <td>0.0</td>\n",
       "      <td>0.0</td>\n",
       "      <td>0</td>\n",
       "      <td>0</td>\n",
       "    </tr>\n",
       "    <tr>\n",
       "      <th>...</th>\n",
       "      <td>...</td>\n",
       "      <td>...</td>\n",
       "      <td>...</td>\n",
       "      <td>...</td>\n",
       "      <td>...</td>\n",
       "      <td>...</td>\n",
       "      <td>...</td>\n",
       "      <td>...</td>\n",
       "      <td>...</td>\n",
       "      <td>...</td>\n",
       "      <td>...</td>\n",
       "      <td>...</td>\n",
       "      <td>...</td>\n",
       "      <td>...</td>\n",
       "      <td>...</td>\n",
       "      <td>...</td>\n",
       "      <td>...</td>\n",
       "      <td>...</td>\n",
       "      <td>...</td>\n",
       "      <td>...</td>\n",
       "      <td>...</td>\n",
       "    </tr>\n",
       "    <tr>\n",
       "      <th>976</th>\n",
       "      <td>10/05/2020 19:39</td>\n",
       "      <td>Mujer</td>\n",
       "      <td>18/02/1983</td>\n",
       "      <td>En una relación de pareja</td>\n",
       "      <td>Vigo</td>\n",
       "      <td>Pasaporte en vigor</td>\n",
       "      <td>Europea (países comunitarios)</td>\n",
       "      <td>Estudios de post-grado completos</td>\n",
       "      <td>Doctorado en Ciencias de la Tierra</td>\n",
       "      <td>Familia propia</td>\n",
       "      <td>...</td>\n",
       "      <td>0.0</td>\n",
       "      <td>0</td>\n",
       "      <td>0.0</td>\n",
       "      <td>0</td>\n",
       "      <td>0</td>\n",
       "      <td>0</td>\n",
       "      <td>0.0</td>\n",
       "      <td>0.0</td>\n",
       "      <td>0</td>\n",
       "      <td>0</td>\n",
       "    </tr>\n",
       "    <tr>\n",
       "      <th>977</th>\n",
       "      <td>10/05/2020 20:21</td>\n",
       "      <td>Mujer</td>\n",
       "      <td>28/02/1983</td>\n",
       "      <td>Soltero(a)</td>\n",
       "      <td>Ciudad Real(Castilla-La Mancha)</td>\n",
       "      <td>NaN</td>\n",
       "      <td>Europea (países comunitarios)</td>\n",
       "      <td>Estudios de post-grado completos</td>\n",
       "      <td>Máster en investigación e innovación educativa.</td>\n",
       "      <td>Familia de origen</td>\n",
       "      <td>...</td>\n",
       "      <td>0.0</td>\n",
       "      <td>1</td>\n",
       "      <td>0.0</td>\n",
       "      <td>0</td>\n",
       "      <td>0</td>\n",
       "      <td>0</td>\n",
       "      <td>0.0</td>\n",
       "      <td>0.0</td>\n",
       "      <td>0</td>\n",
       "      <td>0</td>\n",
       "    </tr>\n",
       "    <tr>\n",
       "      <th>978</th>\n",
       "      <td>10/05/2020 20:26</td>\n",
       "      <td>Hombre</td>\n",
       "      <td>11/11/1984</td>\n",
       "      <td>Casado(a), o viviendo en pareja</td>\n",
       "      <td>Madrid</td>\n",
       "      <td>Pasaporte en vigor</td>\n",
       "      <td>Europea (países comunitarios)</td>\n",
       "      <td>Estudios de post-grado completos</td>\n",
       "      <td>Dr. Ingeniería Química</td>\n",
       "      <td>Pareja</td>\n",
       "      <td>...</td>\n",
       "      <td>0.0</td>\n",
       "      <td>0</td>\n",
       "      <td>0.0</td>\n",
       "      <td>1</td>\n",
       "      <td>0</td>\n",
       "      <td>1</td>\n",
       "      <td>0.0</td>\n",
       "      <td>0.0</td>\n",
       "      <td>0</td>\n",
       "      <td>0</td>\n",
       "    </tr>\n",
       "    <tr>\n",
       "      <th>979</th>\n",
       "      <td>10/05/2020 21:39</td>\n",
       "      <td>Mujer</td>\n",
       "      <td>18/01/1986</td>\n",
       "      <td>Soltero(a)</td>\n",
       "      <td>Gandía (Valencia)</td>\n",
       "      <td>Pasaporte en vigor</td>\n",
       "      <td>Europea (países comunitarios)</td>\n",
       "      <td>Estudios secundarios completos (ESO, Bachiller...</td>\n",
       "      <td>ESO</td>\n",
       "      <td>Solo/a</td>\n",
       "      <td>...</td>\n",
       "      <td>4.0</td>\n",
       "      <td>0</td>\n",
       "      <td>0.0</td>\n",
       "      <td>2</td>\n",
       "      <td>1</td>\n",
       "      <td>4</td>\n",
       "      <td>3.0</td>\n",
       "      <td>0.0</td>\n",
       "      <td>0</td>\n",
       "      <td>0</td>\n",
       "    </tr>\n",
       "    <tr>\n",
       "      <th>980</th>\n",
       "      <td>10/05/2020 23:36</td>\n",
       "      <td>Mujer</td>\n",
       "      <td>27/07/1986</td>\n",
       "      <td>Casado(a), o viviendo en pareja</td>\n",
       "      <td>Alcázar de san Juan</td>\n",
       "      <td>NaN</td>\n",
       "      <td>NaN</td>\n",
       "      <td>Formación Profesional o similar completos</td>\n",
       "      <td>Grado superior en administración y finanzas (c...</td>\n",
       "      <td>Pareja</td>\n",
       "      <td>...</td>\n",
       "      <td>0.0</td>\n",
       "      <td>2</td>\n",
       "      <td>0.0</td>\n",
       "      <td>1</td>\n",
       "      <td>3</td>\n",
       "      <td>1</td>\n",
       "      <td>1.0</td>\n",
       "      <td>0.0</td>\n",
       "      <td>0</td>\n",
       "      <td>0</td>\n",
       "    </tr>\n",
       "  </tbody>\n",
       "</table>\n",
       "<p>981 rows × 97 columns</p>\n",
       "</div>"
      ],
      "text/plain": [
       "       Marca temporal Por favor indique el género con el que se identifica:  \\\n",
       "0    30/04/2020 22:57                                              Mujer      \n",
       "1     01/05/2020 0:56                                             Hombre      \n",
       "2    01/05/2020 17:51                                             Hombre      \n",
       "3    01/05/2020 19:31                                              Mujer      \n",
       "4    02/05/2020 12:51                                             Hombre      \n",
       "..                ...                                                ...      \n",
       "976  10/05/2020 19:39                                              Mujer      \n",
       "977  10/05/2020 20:21                                              Mujer      \n",
       "978  10/05/2020 20:26                                             Hombre      \n",
       "979  10/05/2020 21:39                                              Mujer      \n",
       "980  10/05/2020 23:36                                              Mujer      \n",
       "\n",
       "    Fecha de nacimiento (para ir a tu año pincha en la flecha al lado de la fecha y luego haz scroll en la barra lateral)  \\\n",
       "0                                           21/09/1990                                                                      \n",
       "1                                           01/01/1962                                                                      \n",
       "2                                           15/01/1993                                                                      \n",
       "3                                           16/08/1981                                                                      \n",
       "4                                           21/04/1982                                                                      \n",
       "..                                                 ...                                                                      \n",
       "976                                         18/02/1983                                                                      \n",
       "977                                         28/02/1983                                                                      \n",
       "978                                         11/11/1984                                                                      \n",
       "979                                         18/01/1986                                                                      \n",
       "980                                         27/07/1986                                                                      \n",
       "\n",
       "            Indique su estado civil: Por favor, señale su lugar de nacimiento  \\\n",
       "0                         Soltero(a)                                   Madrid   \n",
       "1    Casado(a), o viviendo en pareja                                   Madrid   \n",
       "2                         Soltero(a)                         Córdoba (España)   \n",
       "3    Casado(a), o viviendo en pareja                                   Madrid   \n",
       "4                         Soltero(a)                                   Málaga   \n",
       "..                               ...                                      ...   \n",
       "976        En una relación de pareja                                     Vigo   \n",
       "977                       Soltero(a)          Ciudad Real(Castilla-La Mancha)   \n",
       "978  Casado(a), o viviendo en pareja                                   Madrid   \n",
       "979                       Soltero(a)                        Gandía (Valencia)   \n",
       "980  Casado(a), o viviendo en pareja                     Alcázar de san Juan    \n",
       "\n",
       "    ¿Cuál es el estado actual de su documentación?   \\\n",
       "0                                Pasaporte en vigor   \n",
       "1                                Pasaporte en vigor   \n",
       "2                                Pasaporte en vigor   \n",
       "3                                Pasaporte en vigor   \n",
       "4                                Pasaporte en vigor   \n",
       "..                                              ...   \n",
       "976                              Pasaporte en vigor   \n",
       "977                                             NaN   \n",
       "978                              Pasaporte en vigor   \n",
       "979                              Pasaporte en vigor   \n",
       "980                                             NaN   \n",
       "\n",
       "    ¿Tiene la nacionalidad europea?   \\\n",
       "0      Europea (países comunitarios)   \n",
       "1      Europea (países comunitarios)   \n",
       "2      Europea (países comunitarios)   \n",
       "3      Europea (países comunitarios)   \n",
       "4      Europea (países comunitarios)   \n",
       "..                               ...   \n",
       "976    Europea (países comunitarios)   \n",
       "977    Europea (países comunitarios)   \n",
       "978    Europea (países comunitarios)   \n",
       "979    Europea (países comunitarios)   \n",
       "980                              NaN   \n",
       "\n",
       "    ¿Cuál es el máximo nivel educativo que ha terminado?  \\\n",
       "0                     Estudios de post-grado completos     \n",
       "1                     Estudios de post-grado completos     \n",
       "2                     Estudios de post-grado completos     \n",
       "3                     Estudios de post-grado completos     \n",
       "4    Estudios universitarios completos (licenciatur...     \n",
       "..                                                 ...     \n",
       "976                   Estudios de post-grado completos     \n",
       "977                   Estudios de post-grado completos     \n",
       "978                   Estudios de post-grado completos     \n",
       "979  Estudios secundarios completos (ESO, Bachiller...     \n",
       "980          Formación Profesional o similar completos     \n",
       "\n",
       "          Por favor, detalle sus estudios, si procede:  \\\n",
       "0    Licenciada en Psicología, Máster Psicología ge...   \n",
       "1                                            Doctorado   \n",
       "2               Grado en Psicología, Máster, Doctorado   \n",
       "3                              Postgrado en Psicologia   \n",
       "4                                                  NaN   \n",
       "..                                                 ...   \n",
       "976                 Doctorado en Ciencias de la Tierra   \n",
       "977   Máster en investigación e innovación educativa.    \n",
       "978                             Dr. Ingeniería Química   \n",
       "979                                                ESO   \n",
       "980  Grado superior en administración y finanzas (c...   \n",
       "\n",
       "    Por favor, indique su estructura de convivencia habitual durante los 12 meses ANTERIORES al confinamiento:  \\\n",
       "0                                           Amigos(as)                                                           \n",
       "1                                       Familia propia                                                           \n",
       "2                                           Amigos(as)                                                           \n",
       "3                                       Familia propia                                                           \n",
       "4                                       Compañeros(as)                                                           \n",
       "..                                                 ...                                                           \n",
       "976                                     Familia propia                                                           \n",
       "977                                  Familia de origen                                                           \n",
       "978                                             Pareja                                                           \n",
       "979                                             Solo/a                                                           \n",
       "980                                             Pareja                                                           \n",
       "\n",
       "     ... Sentirse muy cohibido/a entre otras personas   \\\n",
       "0    ...                                           0.0   \n",
       "1    ...                                           0.0   \n",
       "2    ...                                           0.0   \n",
       "3    ...                                           0.0   \n",
       "4    ...                                           0.0   \n",
       "..   ...                                           ...   \n",
       "976  ...                                           0.0   \n",
       "977  ...                                           0.0   \n",
       "978  ...                                           0.0   \n",
       "979  ...                                           4.0   \n",
       "980  ...                                           0.0   \n",
       "\n",
       "     Sentir miedo o ansiedad entre mucha gente (en el cine, supermercado, etc.)   \\\n",
       "0                                                    1                             \n",
       "1                                                    0                             \n",
       "2                                                    0                             \n",
       "3                                                    0                             \n",
       "4                                                    1                             \n",
       "..                                                 ...                             \n",
       "976                                                  0                             \n",
       "977                                                  1                             \n",
       "978                                                  0                             \n",
       "979                                                  0                             \n",
       "980                                                  2                             \n",
       "\n",
       "     Ataques de terror o pánico  Tener discusiones frecuentes   \\\n",
       "0                            1.0                             1   \n",
       "1                            0.0                             0   \n",
       "2                            0.0                             1   \n",
       "3                            0.0                             0   \n",
       "4                            0.0                             0   \n",
       "..                           ...                           ...   \n",
       "976                          0.0                             0   \n",
       "977                          0.0                             0   \n",
       "978                          0.0                             1   \n",
       "979                          0.0                             2   \n",
       "980                          0.0                             1   \n",
       "\n",
       "    El que otros no le reconozcan adecuadamente sus logros  \\\n",
       "0                                                    0       \n",
       "1                                                    4       \n",
       "2                                                    0       \n",
       "3                                                    0       \n",
       "4                                                    0       \n",
       "..                                                 ...       \n",
       "976                                                  0       \n",
       "977                                                  0       \n",
       "978                                                  0       \n",
       "979                                                  1       \n",
       "980                                                  3       \n",
       "\n",
       "     Sentirse inquieto/a o intranquilo/a   \\\n",
       "0                                       2   \n",
       "1                                       0   \n",
       "2                                       0   \n",
       "3                                       3   \n",
       "4                                       0   \n",
       "..                                    ...   \n",
       "976                                     0   \n",
       "977                                     0   \n",
       "978                                     1   \n",
       "979                                     4   \n",
       "980                                     1   \n",
       "\n",
       "    La sensación de ser un/a inútil o no valer nada Gritar o tirar cosas   \\\n",
       "0                                               1.0                   0.0   \n",
       "1                                               0.0                   0.0   \n",
       "2                                               0.0                   0.0   \n",
       "3                                               0.0                   0.0   \n",
       "4                                               0.0                   0.0   \n",
       "..                                              ...                   ...   \n",
       "976                                             0.0                   0.0   \n",
       "977                                             0.0                   0.0   \n",
       "978                                             0.0                   0.0   \n",
       "979                                             3.0                   0.0   \n",
       "980                                             1.0                   0.0   \n",
       "\n",
       "    La impresión de que la gente intentaría aprovecharse de usted si los dejara   \\\n",
       "0                                                    0                             \n",
       "1                                                    4                             \n",
       "2                                                    0                             \n",
       "3                                                    0                             \n",
       "4                                                    0                             \n",
       "..                                                 ...                             \n",
       "976                                                  0                             \n",
       "977                                                  0                             \n",
       "978                                                  0                             \n",
       "979                                                  0                             \n",
       "980                                                  0                             \n",
       "\n",
       "    La idea de que debería ser castigado/a por sus pecados   \n",
       "0                                                    0       \n",
       "1                                                    0       \n",
       "2                                                    0       \n",
       "3                                                    0       \n",
       "4                                                    0       \n",
       "..                                                 ...       \n",
       "976                                                  0       \n",
       "977                                                  0       \n",
       "978                                                  0       \n",
       "979                                                  0       \n",
       "980                                                  0       \n",
       "\n",
       "[981 rows x 97 columns]"
      ]
     },
     "metadata": {},
     "output_type": "display_data"
    }
   ],
   "source": [
    "display(data)"
   ]
  },
  {
   "cell_type": "code",
   "execution_count": 22,
   "metadata": {
    "id": "2y4rsQouLjO6"
   },
   "outputs": [],
   "source": [
    "#import pandas as pd\n",
    "#!pip install pandas-profiling"
   ]
  },
  {
   "cell_type": "code",
   "execution_count": 23,
   "metadata": {
    "id": "9E16hXbyL-O2"
   },
   "outputs": [],
   "source": [
    "#!pip install --upgrade pydantic"
   ]
  },
  {
   "cell_type": "code",
   "execution_count": 24,
   "metadata": {
    "id": "upEma8HLMYU3"
   },
   "outputs": [],
   "source": [
    "#!pip install pydantic-settings"
   ]
  },
  {
   "cell_type": "code",
   "execution_count": 25,
   "metadata": {
    "id": "rz9SGY-7MkUS"
   },
   "outputs": [],
   "source": [
    "#!pip install pydantic==1.8.2"
   ]
  },
  {
   "cell_type": "markdown",
   "metadata": {
    "id": "XOQMIl6RxDXd"
   },
   "source": [
    "# Analizamos 1a columna - Género"
   ]
  },
  {
   "cell_type": "code",
   "execution_count": 26,
   "metadata": {
    "colab": {
     "base_uri": "https://localhost:8080/"
    },
    "executionInfo": {
     "elapsed": 8,
     "status": "ok",
     "timestamp": 1717951859434,
     "user": {
      "displayName": "BERTA PADILLA BAEZA",
      "userId": "17038178126289984285"
     },
     "user_tz": -120
    },
    "id": "OKStouL4qDMY",
    "outputId": "541fe1d4-febf-414a-bee7-21a94572e939"
   },
   "outputs": [
    {
     "name": "stdout",
     "output_type": "stream",
     "text": [
      "El valor \"Mujer \"se repite 761 veces.\n",
      "El valor \"Hombre \"se repite 205 veces.\n",
      "El valor \"Fluído (Persona no identificada como varón ni como mujer) \"se repite 7 veces.\n",
      "El valor \"No está seguro(a) \"se repite 3 veces.\n",
      "El valor \"Fluido, mujer política \"se repite 1 veces.\n",
      "El valor \"No me deja marcar mujer  \"se repite 1 veces.\n",
      "El valor \"Mujer trans \"se repite 1 veces.\n"
     ]
    }
   ],
   "source": [
    "i = 1\n",
    "repeated_values = data.iloc[:, i].value_counts()[data.iloc[:, i].value_counts() > 0].index.tolist()\n",
    "for value in repeated_values:\n",
    "    count = data.iloc[:, i].value_counts()[value]\n",
    "    print(f\"El valor \", end='')\n",
    "    print(f\"\\\"{value} \\\"\", end='')\n",
    "    print(f\"se repite {count} veces.\")"
   ]
  },
  {
   "cell_type": "markdown",
   "metadata": {
    "id": "mJBCGmOPrxeL"
   },
   "source": [
    "- Cambiamos el valor `Fluído (Persona no identificada como varón ni como mujer)` por `Fluido`.\n",
    "- Marcamos el `no estoy seguro` como `Fluido`\n",
    "- Cambiamos `Fluido, mujer política` por `Fluido`\n",
    "- Cambiamos `No me deja marcar mujer` por `Mujer`\n",
    "- Nans + mujer trans = 'other'\n"
   ]
  },
  {
   "cell_type": "code",
   "execution_count": 27,
   "metadata": {
    "colab": {
     "base_uri": "https://localhost:8080/"
    },
    "executionInfo": {
     "elapsed": 5,
     "status": "ok",
     "timestamp": 1717951859434,
     "user": {
      "displayName": "BERTA PADILLA BAEZA",
      "userId": "17038178126289984285"
     },
     "user_tz": -120
    },
    "id": "-mYT4MCDrwWD",
    "outputId": "3f5ffb41-f5a2-452d-cd50-b1cdc518466d"
   },
   "outputs": [
    {
     "name": "stdout",
     "output_type": "stream",
     "text": [
      "El valor \"Mujer \" se repite 768 veces - 78.29 %.\n",
      "El valor \"Hombre \" se repite 205 veces - 20.90 %.\n",
      "El valor \"Fluido \" se repite 8 veces - 0.82 %.\n",
      "El valor \"Mujer \" se repite 768 veces - 78.29 %.\n",
      "Hay un - 0.00% de casos NaN.\n"
     ]
    }
   ],
   "source": [
    "data.iloc[:,1] = data.iloc[:,1].replace(\"Fluído (Persona no identificada como varón ni como mujer)\", \"Fluido\")\n",
    "data.iloc[:,1] = data.iloc[:,1].replace(\"Fluido, mujer política\", \"Fluido\")\n",
    "data.iloc[:,1] = data.iloc[:,1].replace(\"No me deja marcar mujer \", \"Mujer\")\n",
    "\n",
    "i = 1\n",
    "repeated_values = data.iloc[:, i].value_counts()[data.iloc[:, i].value_counts() > 0].index.tolist()\n",
    "repeated_values = [x.replace('Mujer trans', 'Mujer') for x in repeated_values]\n",
    "\n",
    "if 'No está seguro(a)' in repeated_values:\n",
    "    repeated_values.remove('No está seguro(a)')\n",
    "\n",
    "\n",
    "for j in range (len(data)):\n",
    "  if data.iloc[j,i] not in repeated_values:\n",
    "    data.iloc[j,i] = 'Mujer'\n",
    "\n",
    "#print(repeated_values)\n",
    "for value in repeated_values:\n",
    "  count = data.iloc[:, i].value_counts()[value]\n",
    "  perc = count*100/len(data)\n",
    "  print(f\"El valor \\\"{value} \\\" se repite {count} veces - {perc:.2f} %.\")\n",
    "\n",
    "# % de NaNs\n",
    "prnan_percentage = data.iloc[:,i].isna().mean() * 100\n",
    "print(f\"Hay un - {prnan_percentage:.2f}% de casos NaN.\")\n",
    "\n"
   ]
  },
  {
   "cell_type": "markdown",
   "metadata": {
    "id": "N_mPsb3lyPGt"
   },
   "source": [
    "# Analizamos 2a columna - Fecha de nacimiento\n",
    "\n",
    "En este caso no nos interesa tener día, mes y año juntos:\n",
    "\n",
    "- Podemos dividirlo y quedarnos con columna mes y año. --> **Listo**\n",
    "\n",
    "- Eliminar fechas de nacimiento futuras --> **Listo** (comparando con fecha actual, no con fecha del formulario\n",
    "\n",
    "- Quizás podemos también mirar la edad (restar la fecha de nacimiento con la de respuesta del cuestionario) y distrubuir a la sociedad por rangos de edades. ¿?"
   ]
  },
  {
   "cell_type": "code",
   "execution_count": 28,
   "metadata": {
    "id": "qOAWMQ4IpZNs"
   },
   "outputs": [],
   "source": [
    "i = 2\n",
    "\n",
    "edad = ['16-25', '26-35', '36-45', '>46', 'Unknown']\n",
    "for j in range(len(data)):\n",
    "    try:\n",
    "        date = data.iloc[j, 2] = pd.to_datetime(data.iloc[j, 2], dayfirst=True)\n",
    "\n",
    "        if date >= pd.Timestamp.now():\n",
    "              new_year = int('19' + str(date.year)[-2:])\n",
    "              date = date.replace(year=new_year)\n",
    "              data.iloc[j,i] = date\n",
    "\n",
    "        if int(2020 - data.iloc[j, 2].year) >= 16:\n",
    "          age = (2020 - data.iloc[j, 2].year)\n",
    "          if 16 <= age and age<=25:\n",
    "            data.at[j, 'Age'] = edad[0]\n",
    "\n",
    "          elif 26 <= age and age<=35:\n",
    "            data.at[j, 'Age'] =  edad[1]\n",
    "\n",
    "          elif 36 <= age and age<=45:\n",
    "            data.at[j, 'Age'] = edad[2]\n",
    "\n",
    "          elif 46 <= age:\n",
    "            data.at[j, 'Age'] = edad[3]\n",
    "\n",
    "        else:\n",
    "          data.at[j, 'Age'] = edad[4]\n",
    "\n",
    "    except:\n",
    "        data.iloc[j,2] = edad[4]\n",
    "        data.at[j, 'Age'] = edad[4]\n",
    "\n",
    "\n"
   ]
  },
  {
   "cell_type": "code",
   "execution_count": 29,
   "metadata": {
    "colab": {
     "base_uri": "https://localhost:8080/"
    },
    "executionInfo": {
     "elapsed": 24,
     "status": "ok",
     "timestamp": 1717951861148,
     "user": {
      "displayName": "BERTA PADILLA BAEZA",
      "userId": "17038178126289984285"
     },
     "user_tz": -120
    },
    "id": "-TIc56hgn1lG",
    "outputId": "f8b28954-3231-4c1e-c51c-b5b57e3434ed"
   },
   "outputs": [
    {
     "data": {
      "text/plain": [
       "Age\n",
       "26-35      407\n",
       "36-45      298\n",
       ">46        110\n",
       "16-25       96\n",
       "Unknown     70\n",
       "Name: count, dtype: int64"
      ]
     },
     "metadata": {},
     "output_type": "display_data"
    },
    {
     "name": "stdout",
     "output_type": "stream",
     "text": [
      "Hay un - 0.00% de casos NaN.\n"
     ]
    }
   ],
   "source": [
    "age_counts = data['Age'].value_counts()\n",
    "\n",
    "# Print the unique values and their counts\n",
    "display(age_counts)\n",
    "\n",
    "# % de NaNs\n",
    "prnan_percentage = data['Age'].isna().mean() * 100\n",
    "print(f\"Hay un - {prnan_percentage:.2f}% de casos NaN.\")"
   ]
  },
  {
   "cell_type": "markdown",
   "metadata": {
    "id": "vvS0zfNimm_S"
   },
   "source": [
    "Convertimos en edad y discretizamos segun la bibliografia: (<25, 25-45, 45-65, >65) https://www.ncbi.nlm.nih.gov/pmc/articles/PMC6983585/\n",
    "\n",
    "DOI: 10.1017/S0033291797006077 --> every 10 years from 25"
   ]
  },
  {
   "cell_type": "markdown",
   "metadata": {
    "id": "xmF4iMya6Au1"
   },
   "source": [
    "# Analizamos 3a columna - Estado civil"
   ]
  },
  {
   "cell_type": "code",
   "execution_count": 30,
   "metadata": {},
   "outputs": [
    {
     "data": {
      "text/plain": [
       "array(['Soltero(a)', 'Casado(a), o viviendo en pareja',\n",
       "       'En una relación de pareja', 'Divorciado(a)', 'Separado(a)', nan,\n",
       "       'Viudo(a)'], dtype=object)"
      ]
     },
     "metadata": {},
     "output_type": "display_data"
    },
    {
     "name": "stdout",
     "output_type": "stream",
     "text": [
      "El valor \"Soltero(a)\" se repite 274 veces.\n",
      "El valor \"Casado(a), o viviendo en pareja\" se repite 353 veces.\n",
      "El valor \"En una relación de pareja\" se repite 312 veces.\n",
      "El valor \"Divorciado(a)\" se repite 24 veces.\n",
      "El valor \"Separado(a)\" se repite 11 veces.\n",
      "El valor \"NaN\" se repite 1 veces.\n",
      "El valor \"Viudo(a)\" se repite 6 veces.\n"
     ]
    }
   ],
   "source": [
    "import pandas as pd\n",
    "\n",
    "# Asignar el índice de la columna\n",
    "i = 3\n",
    "# Obtener los valores únicos y mostrar\n",
    "unique_values = data.iloc[:, i].unique()\n",
    "display(unique_values)\n",
    "\n",
    "# Iterar sobre los valores únicos\n",
    "for value in unique_values:\n",
    "    if pd.isna(value):\n",
    "        count = data.iloc[:, i].isna().sum()  # Cuenta de NaNs\n",
    "        print(f\"El valor \\\"NaN\\\" se repite {count} veces.\")\n",
    "    else:\n",
    "        count = data.iloc[:, i].value_counts()[value]\n",
    "        print(f\"El valor \\\"{value}\\\" se repite {count} veces.\")\n"
   ]
  },
  {
   "cell_type": "markdown",
   "metadata": {
    "id": "URBC3Ps36LaY"
   },
   "source": [
    "- Cambiamos `En una relación de pareja` por `Relacion pareja`.\n"
   ]
  },
  {
   "cell_type": "code",
   "execution_count": 31,
   "metadata": {
    "colab": {
     "base_uri": "https://localhost:8080/"
    },
    "executionInfo": {
     "elapsed": 13,
     "status": "ok",
     "timestamp": 1717951861148,
     "user": {
      "displayName": "BERTA PADILLA BAEZA",
      "userId": "17038178126289984285"
     },
     "user_tz": -120
    },
    "id": "4sVe0YEy5_b6",
    "outputId": "af6c12b7-5f8f-45b1-dbad-e8b972d68d2b"
   },
   "outputs": [
    {
     "data": {
      "text/plain": [
       "array(['Soltero(a)', 'Casado(a), o viviendo en pareja', 'Relacion pareja',\n",
       "       'Divorciado(a)', 'Separado(a)', nan, 'Viudo(a)'], dtype=object)"
      ]
     },
     "metadata": {},
     "output_type": "display_data"
    },
    {
     "data": {
      "text/plain": [
       "['Casado(a), o viviendo en pareja',\n",
       " 'Relacion pareja',\n",
       " 'Soltero(a)',\n",
       " 'Divorciado(a)',\n",
       " 'Separado(a)',\n",
       " 'Viudo(a)']"
      ]
     },
     "metadata": {},
     "output_type": "display_data"
    },
    {
     "name": "stdout",
     "output_type": "stream",
     "text": [
      "El valor Casado(a), o viviendo en pareja se repite 354 veces - 36.09 %.\n",
      "El valor Relacion pareja se repite 312 veces - 31.80 %.\n",
      "El valor Soltero(a) se repite 274 veces - 27.93 %.\n",
      "El valor Divorciado(a) se repite 24 veces - 2.45 %.\n",
      "El valor Separado(a) se repite 11 veces - 1.12 %.\n",
      "El valor Viudo(a) se repite 6 veces - 0.61 %.\n",
      "Hay un 0.00% de casos NaN.\n"
     ]
    }
   ],
   "source": [
    "i = 3\n",
    "data.iloc[:,i] = data.iloc[:,i].replace(\"En una relación de pareja\", 'Relacion pareja')\n",
    "\n",
    "display(data.iloc[:, i].unique())\n",
    "\n",
    "estado_civil = ['Relacion pareja', 'Casado(a), o viviendo en pareja', 'Soltero(a)', 'Divorciado(a)', 'Separado(a)', 'Viudo(a)', 'Other' ]\n",
    "\n",
    "for j in range(len(data.iloc[:,i])):\n",
    "  if data.iloc[j,i] not in estado_civil:\n",
    "    data.iloc[j,i] = 'Casado(a), o viviendo en pareja'\n",
    "\n",
    "repeated_values = data.iloc[:, i].value_counts()[data.iloc[:, i].value_counts() > 0].index.tolist()\n",
    "\n",
    "display(repeated_values)\n",
    "\n",
    "for value in repeated_values:\n",
    "  count = data.iloc[:, i].value_counts()[value]\n",
    "  perc = count*100/len(data)\n",
    "  print(f\"El valor {value} se repite {count} veces - {perc:.2f} %.\")\n",
    "\n",
    "# % de NaNs\n",
    "prnan_percentage = data.iloc[:,i].isna().mean() * 100\n",
    "print(f\"Hay un {prnan_percentage:.2f}% de casos NaN.\")"
   ]
  },
  {
   "cell_type": "markdown",
   "metadata": {
    "id": "mGNuNjcS_v4W"
   },
   "source": [
    "# Analizamos 4a columna - Lugar de nacimiento\n",
    "\n",
    "Muchos valores distintos podemos:\n",
    "\n",
    "- Agrupar por país\n",
    "- Por comunidad autónoma\n",
    "- **Descartar porque no será significativo el lugar de nacimiento --> mucho ruido**"
   ]
  },
  {
   "cell_type": "code",
   "execution_count": 32,
   "metadata": {
    "colab": {
     "base_uri": "https://localhost:8080/"
    },
    "executionInfo": {
     "elapsed": 870,
     "status": "ok",
     "timestamp": 1717951862008,
     "user": {
      "displayName": "BERTA PADILLA BAEZA",
      "userId": "17038178126289984285"
     },
     "user_tz": -120
    },
    "id": "GT6IrZwI_2YS",
    "outputId": "2c3b130b-3c81-43c1-80b5-94126f163d18"
   },
   "outputs": [
    {
     "name": "stdout",
     "output_type": "stream",
     "text": [
      "El valor Madrid se repite 208 veces.\n",
      "El valor Málaga se repite 54 veces.\n",
      "El valor Barcelona se repite 53 veces.\n",
      "El valor Madrid  se repite 36 veces.\n",
      "El valor Málaga  se repite 26 veces.\n",
      "El valor Malaga se repite 21 veces.\n",
      "El valor España se repite 16 veces.\n",
      "El valor Sevilla se repite 16 veces.\n",
      "El valor Valencia se repite 15 veces.\n",
      "El valor Barcelona  se repite 14 veces.\n",
      "El valor Granada se repite 14 veces.\n",
      "El valor Murcia se repite 12 veces.\n",
      "El valor Huelva se repite 10 veces.\n",
      "El valor Burgos se repite 9 veces.\n",
      "El valor Zaragoza se repite 8 veces.\n",
      "El valor Bilbao se repite 8 veces.\n",
      "El valor Pamplona se repite 7 veces.\n",
      "El valor Oviedo se repite 7 veces.\n",
      "El valor Asturias se repite 7 veces.\n",
      "El valor Vigo se repite 6 veces.\n",
      "El valor Cáceres se repite 6 veces.\n",
      "El valor Gijón se repite 6 veces.\n",
      "El valor Segovia se repite 6 veces.\n",
      "El valor Cádiz se repite 6 veces.\n",
      "El valor Colombia se repite 5 veces.\n",
      "El valor Santander se repite 5 veces.\n",
      "El valor Pontevedra se repite 5 veces.\n",
      "El valor Toledo se repite 5 veces.\n",
      "El valor Valladolid se repite 4 veces.\n",
      "El valor Leganés se repite 4 veces.\n",
      "El valor Talavera de la Reina se repite 4 veces.\n",
      "El valor Badajoz se repite 4 veces.\n",
      "El valor Móstoles se repite 4 veces.\n",
      "El valor Avilés se repite 4 veces.\n",
      "El valor madrid se repite 4 veces.\n",
      "El valor Almería  se repite 4 veces.\n",
      "El valor León se repite 4 veces.\n",
      "El valor Jaén se repite 4 veces.\n",
      "El valor Murcia  se repite 4 veces.\n",
      "El valor Italia se repite 4 veces.\n",
      "El valor Venezuela se repite 4 veces.\n",
      "El valor Avilés  se repite 3 veces.\n",
      "El valor A Coruña  se repite 3 veces.\n",
      "El valor Granollers se repite 3 veces.\n",
      "El valor Tarragona se repite 3 veces.\n",
      "El valor granada se repite 3 veces.\n",
      "El valor Alicante se repite 3 veces.\n",
      "El valor Argentina se repite 3 veces.\n",
      "El valor España  se repite 3 veces.\n",
      "El valor Valencia  se repite 3 veces.\n",
      "El valor A Coruña se repite 3 veces.\n",
      "El valor Cadiz se repite 3 veces.\n",
      "El valor Zaragoza  se repite 3 veces.\n",
      "El valor Girona se repite 3 veces.\n",
      "El valor Albacete se repite 3 veces.\n",
      "El valor Granada  se repite 3 veces.\n",
      "El valor Ferrol se repite 3 veces.\n",
      "El valor Cordoba se repite 2 veces.\n",
      "El valor Madrid, España  se repite 2 veces.\n",
      "El valor Córdoba  se repite 2 veces.\n",
      "El valor Jerez de la Frontera se repite 2 veces.\n",
      "El valor Móstoles (Madrid) se repite 2 veces.\n",
      "El valor León  se repite 2 veces.\n",
      "El valor Gijón, Asturias se repite 2 veces.\n",
      "El valor Ceuta se repite 2 veces.\n",
      "El valor Cádiz  se repite 2 veces.\n",
      "El valor Alicante  se repite 2 veces.\n",
      "El valor Getafe se repite 2 veces.\n",
      "El valor Lanzarote  se repite 2 veces.\n",
      "El valor Cartagena se repite 2 veces.\n",
      "El valor Cantabria se repite 2 veces.\n",
      "El valor Elche se repite 2 veces.\n",
      "El valor Bizkaia se repite 2 veces.\n",
      "El valor Guadalajara se repite 2 veces.\n",
      "El valor Santa Cruz de Tenerife se repite 2 veces.\n",
      "El valor Tenerife se repite 2 veces.\n",
      "El valor Salamanca se repite 2 veces.\n",
      "El valor Córdoba (España) se repite 2 veces.\n",
      "El valor Bilbao  se repite 2 veces.\n",
      "El valor Almería se repite 2 veces.\n",
      "El valor Mérida se repite 2 veces.\n",
      "El valor Lugo se repite 2 veces.\n",
      "El valor portugal se repite 2 veces.\n",
      "El valor Venezuela  se repite 2 veces.\n",
      "El valor Rumania se repite 2 veces.\n",
      "El valor Valdepeñas se repite 2 veces.\n",
      "El valor Lleida se repite 2 veces.\n",
      "El valor Vitoria-Gasteiz se repite 2 veces.\n",
      "El valor Cáceres  se repite 2 veces.\n",
      "El valor Terrassa se repite 2 veces.\n",
      "El valor Las Ventas de Retamosa (  Toledo) se repite 1 veces.\n",
      "El valor País Vasco se repite 1 veces.\n",
      "El valor Sevilla, España se repite 1 veces.\n",
      "El valor Salares, Málaga se repite 1 veces.\n",
      "El valor Mendoza, Argentina se repite 1 veces.\n",
      "El valor Salamanca, España se repite 1 veces.\n",
      "El valor Linares (Jaén)  se repite 1 veces.\n",
      "El valor Villanueva de la Serena Badajoz se repite 1 veces.\n",
      "El valor Tartanedo (Guadalajara) España se repite 1 veces.\n",
      "El valor Castellón de la Plana se repite 1 veces.\n",
      "El valor Badalona  se repite 1 veces.\n",
      "El valor As Pontes de García Rodríguez se repite 1 veces.\n",
      "El valor Logroño se repite 1 veces.\n",
      "El valor Ndnd se repite 1 veces.\n",
      "El valor Ponferrada  se repite 1 veces.\n",
      "El valor Milan, Italia se repite 1 veces.\n",
      "El valor Tortosa se repite 1 veces.\n",
      "El valor Ucrania  se repite 1 veces.\n",
      "El valor Gipuzkoa se repite 1 veces.\n",
      "El valor Guayaquil, Ecuador se repite 1 veces.\n",
      "El valor Brighton, Inglaterra se repite 1 veces.\n",
      "El valor Ronda se repite 1 veces.\n",
      "El valor La Línea de la Concepción (Cádiz) se repite 1 veces.\n",
      "El valor Brasil  se repite 1 veces.\n",
      "El valor San Lorenzo del Escorial  se repite 1 veces.\n",
      "El valor Las Palmas de Gran Canaria se repite 1 veces.\n",
      "El valor Tuineje, Fuerteventura se repite 1 veces.\n",
      "El valor Leganés  se repite 1 veces.\n",
      "El valor Santiago de Compostela se repite 1 veces.\n",
      "El valor Córdoba, España se repite 1 veces.\n",
      "El valor Huelva  se repite 1 veces.\n",
      "El valor Málaga España se repite 1 veces.\n",
      "El valor Algeciras se repite 1 veces.\n",
      "El valor Cuenca se repite 1 veces.\n",
      "El valor A Cañiza (Pontevedra) se repite 1 veces.\n",
      "El valor Peníscola se repite 1 veces.\n",
      "El valor Sabadell se repite 1 veces.\n",
      "El valor Melilla se repite 1 veces.\n",
      "El valor Baracaldo se repite 1 veces.\n",
      "El valor Ciudad Real  se repite 1 veces.\n",
      "El valor Burgos  se repite 1 veces.\n",
      "El valor Guadalajara  se repite 1 veces.\n",
      "El valor Guadalajara, España se repite 1 veces.\n",
      "El valor Uruguay se repite 1 veces.\n",
      "El valor Perú se repite 1 veces.\n",
      "El valor Noalejo se repite 1 veces.\n",
      "El valor El Tigre Vegachi se repite 1 veces.\n",
      "El valor Málaga-españa se repite 1 veces.\n",
      "El valor Huesca se repite 1 veces.\n",
      "El valor Priego de Córdoba  se repite 1 veces.\n",
      "El valor Frankfurt se repite 1 veces.\n",
      "El valor Holanda se repite 1 veces.\n",
      "El valor Logroño  se repite 1 veces.\n",
      "El valor Balmaseda se repite 1 veces.\n",
      "El valor Almendralejo se repite 1 veces.\n",
      "El valor Caudete (Albacete) se repite 1 veces.\n",
      "El valor La Unión se repite 1 veces.\n",
      "El valor MURCIA se repite 1 veces.\n",
      "El valor Oviedo (Asturias)  se repite 1 veces.\n",
      "El valor Linares se repite 1 veces.\n",
      "El valor Elda (Alicante) se repite 1 veces.\n",
      "El valor Avila se repite 1 veces.\n",
      "El valor Hellín se repite 1 veces.\n",
      "El valor Elda se repite 1 veces.\n",
      "El valor zaragoza se repite 1 veces.\n",
      "El valor Bootle, Liverpool, Reino Unido se repite 1 veces.\n",
      "El valor  A Coruña se repite 1 veces.\n",
      "El valor Odessa, Ucrania se repite 1 veces.\n",
      "El valor Almunia de San Juan se repite 1 veces.\n",
      "El valor Benalmádena se repite 1 veces.\n",
      "El valor Jaen se repite 1 veces.\n",
      "El valor ciudad real se repite 1 veces.\n",
      "El valor Córdoba se repite 1 veces.\n",
      "El valor Gerona se repite 1 veces.\n",
      "El valor A Estrada se repite 1 veces.\n",
      "El valor Llerena se repite 1 veces.\n",
      "El valor Merlo Bs As R. Argentina  se repite 1 veces.\n",
      "El valor Santa cruz de Tenerife se repite 1 veces.\n",
      "El valor Murvia se repite 1 veces.\n",
      "El valor Ciudad Real(Castilla-La Mancha) se repite 1 veces.\n",
      "El valor Gandía (Valencia) se repite 1 veces.\n",
      "El valor España Murcia  se repite 1 veces.\n",
      "El valor Navaoral de la Mata se repite 1 veces.\n",
      "El valor Badajoz  se repite 1 veces.\n",
      "El valor Londres  se repite 1 veces.\n",
      "El valor Cáceres, Extremadura se repite 1 veces.\n",
      "El valor Buenos Aires se repite 1 veces.\n",
      "El valor Atienza, Guadalajara se repite 1 veces.\n",
      "El valor Marruecos  se repite 1 veces.\n",
      "El valor malaga se repite 1 veces.\n",
      "El valor Tomelloso se repite 1 veces.\n",
      "El valor Oviedo-Asturias se repite 1 veces.\n",
      "El valor 22/01/1996 se repite 1 veces.\n",
      "El valor Ecuador  se repite 1 veces.\n",
      "El valor Madrid, España se repite 1 veces.\n",
      "El valor Zamora  se repite 1 veces.\n",
      "El valor √Åvila se repite 1 veces.\n",
      "El valor Guayaquil (Ecuador) se repite 1 veces.\n",
      "El valor Torrent, Valencia. España se repite 1 veces.\n",
      "El valor Orihuela (Alicante) se repite 1 veces.\n",
      "El valor Gijón (Asturias)  se repite 1 veces.\n",
      "El valor Don Benito Badajoz se repite 1 veces.\n",
      "El valor españa se repite 1 veces.\n",
      "El valor alicante se repite 1 veces.\n",
      "El valor Plasencia se repite 1 veces.\n",
      "El valor Paris (Francia) se repite 1 veces.\n",
      "El valor Antequera se repite 1 veces.\n",
      "El valor Tudela  se repite 1 veces.\n",
      "El valor San Sebastián se repite 1 veces.\n",
      "El valor Llerena (Badajoz) se repite 1 veces.\n",
      "El valor Córdoba, argentina  se repite 1 veces.\n",
      "El valor Leon se repite 1 veces.\n",
      "El valor Badalona se repite 1 veces.\n",
      "El valor Ponferrada se repite 1 veces.\n",
      "El valor Toledo  se repite 1 veces.\n",
      "El valor sevilla  se repite 1 veces.\n",
      "El valor Jerez de la frontera se repite 1 veces.\n",
      "El valor Palencia  se repite 1 veces.\n",
      "El valor Campdevànol se repite 1 veces.\n",
      "El valor Tomelloso  se repite 1 veces.\n",
      "El valor Algeciras  se repite 1 veces.\n",
      "El valor Alcázar de San Juan (CR) se repite 1 veces.\n",
      "El valor Estepona se repite 1 veces.\n",
      "El valor Andalucia  se repite 1 veces.\n",
      "El valor Brasil se repite 1 veces.\n",
      "El valor Menorca, España se repite 1 veces.\n",
      "El valor San Lorenzo del Escorial se repite 1 veces.\n",
      "El valor Marmolejo (Jaén)  se repite 1 veces.\n",
      "El valor Vilamur, lleida se repite 1 veces.\n",
      "El valor √öbeda, Jaén se repite 1 veces.\n",
      "El valor Igualada se repite 1 veces.\n",
      "El valor Tenerife  se repite 1 veces.\n",
      "El valor Las Palmas de GC se repite 1 veces.\n",
      "El valor Tarifa se repite 1 veces.\n",
      "El valor Calasparra (Murcia) se repite 1 veces.\n",
      "El valor San Pedro de Rozados, Salamanca se repite 1 veces.\n",
      "El valor Capdepera, Mallorca se repite 1 veces.\n",
      "El valor Sevilla  se repite 1 veces.\n",
      "El valor Santurtzi se repite 1 veces.\n",
      "El valor Alcañiz (Teruel) se repite 1 veces.\n",
      "El valor España, Madrid se repite 1 veces.\n",
      "El valor Chicana de la Frontera, Cádiz  se repite 1 veces.\n",
      "El valor Las Palmas de Gran Canaria  se repite 1 veces.\n",
      "El valor Las Palmas se repite 1 veces.\n",
      "El valor Newcastle, UK se repite 1 veces.\n",
      "El valor Chile  se repite 1 veces.\n",
      "El valor Pamplona  se repite 1 veces.\n",
      "El valor Gran Canaria se repite 1 veces.\n",
      "El valor Ibague-Colombia se repite 1 veces.\n",
      "El valor San Fernando de Henares se repite 1 veces.\n",
      "El valor Catalunya se repite 1 veces.\n",
      "El valor Gijón, Asturias, España se repite 1 veces.\n",
      "El valor Hospital San Francisco de Asís, Madrid, Madrid. se repite 1 veces.\n",
      "El valor Berja (Almeria) se repite 1 veces.\n",
      "El valor Bahamas se repite 1 veces.\n",
      "El valor Talavera de la reina  se repite 1 veces.\n",
      "El valor Alcazar de San Juan se repite 1 veces.\n",
      "El valor Navarra se repite 1 veces.\n",
      "El valor ASTURIAS  se repite 1 veces.\n",
      "El valor Cartagena, Murcia se repite 1 veces.\n",
      "El valor Casasimarro se repite 1 veces.\n",
      "El valor Ubeda se repite 1 veces.\n",
      "El valor Alcala de henares se repite 1 veces.\n",
      "El valor México se repite 1 veces.\n",
      "El valor Mostoles se repite 1 veces.\n",
      "El valor Vigo, Pontevedra  se repite 1 veces.\n",
      "El valor Almansa se repite 1 veces.\n",
      "El valor Polonia se repite 1 veces.\n",
      "El valor Granada, España  se repite 1 veces.\n",
      "El valor Santander  se repite 1 veces.\n",
      "El valor Valéncia se repite 1 veces.\n",
      "El valor Alcalá  de Henares  (Madrid) se repite 1 veces.\n",
      "El valor Caracas, Venezuela se repite 1 veces.\n",
      "El valor Manresa se repite 1 veces.\n",
      "El valor Arnedo (la Rioja) se repite 1 veces.\n",
      "El valor Turin, Italia  se repite 1 veces.\n",
      "El valor Mataró se repite 1 veces.\n",
      "El valor Valencia, España se repite 1 veces.\n",
      "El valor Villanueva de los Infantes se repite 1 veces.\n",
      "El valor Saint-Rapha√´l (France) se repite 1 veces.\n",
      "El valor Cangas del Narcea se repite 1 veces.\n",
      "El valor Toledo, España se repite 1 veces.\n",
      "El valor Cangas de Morrazo (Pontevedra) se repite 1 veces.\n",
      "El valor Ourense se repite 1 veces.\n",
      "El valor Suiza se repite 1 veces.\n",
      "El valor Riaño, Langreo se repite 1 veces.\n",
      "El valor España, Cádiz se repite 1 veces.\n",
      "El valor PASAIA - GUIPUZKOA se repite 1 veces.\n",
      "El valor México  se repite 1 veces.\n",
      "El valor Mar del plata, Argentina. se repite 1 veces.\n",
      "El valor Jaén  se repite 1 veces.\n",
      "El valor Pravia se repite 1 veces.\n",
      "El valor Italia  se repite 1 veces.\n",
      "El valor asruries se repite 1 veces.\n",
      "El valor La Habana, Cuba se repite 1 veces.\n",
      "El valor Turin, italia se repite 1 veces.\n",
      "El valor Zamora se repite 1 veces.\n",
      "El valor Ibiza se repite 1 veces.\n",
      "El valor Gandía, Valencia se repite 1 veces.\n",
      "El valor Santillana del Mar Cantabria  se repite 1 veces.\n",
      "El valor Reus  se repite 1 veces.\n",
      "El valor Cabra (Córdoba)  se repite 1 veces.\n",
      "El valor Erandio se repite 1 veces.\n",
      "El valor Guanajuato, México se repite 1 veces.\n",
      "El valor Monforte de Lemos (Lugo) se repite 1 veces.\n",
      "El valor Marbella se repite 1 veces.\n",
      "El valor Vizcaya se repite 1 veces.\n",
      "El valor Asturias  se repite 1 veces.\n",
      "El valor cáceres se repite 1 veces.\n",
      "El valor Linares, Jaén se repite 1 veces.\n",
      "El valor La coruña se repite 1 veces.\n",
      "El valor Ciudad Real se repite 1 veces.\n",
      "El valor Sant Feliu De Llobregat  se repite 1 veces.\n",
      "El valor Durango se repite 1 veces.\n",
      "El valor Riosa se repite 1 veces.\n",
      "El valor Granada, España se repite 1 veces.\n",
      "El valor Segovia  se repite 1 veces.\n",
      "El valor Castelló de la Plana se repite 1 veces.\n",
      "El valor Argentina  se repite 1 veces.\n",
      "El valor barcelona se repite 1 veces.\n",
      "El valor Alhaurín de la Torre se repite 1 veces.\n",
      "El valor Alcázar de san Juan  se repite 1 veces.\n"
     ]
    }
   ],
   "source": [
    "i = 4\n",
    "repeated_values = data.iloc[:, i].value_counts()[data.iloc[:, i].value_counts() > 0].index.tolist()\n",
    "for value in repeated_values:\n",
    "  count = data.iloc[:, i].value_counts()[value]\n",
    "  print(f\"El valor {value} se repite {count} veces.\")"
   ]
  },
  {
   "cell_type": "markdown",
   "metadata": {
    "id": "MmvqQ1QlANHz"
   },
   "source": [
    "# Analizamos 5a columna - Estado actual de documentación"
   ]
  },
  {
   "cell_type": "code",
   "execution_count": 33,
   "metadata": {
    "colab": {
     "base_uri": "https://localhost:8080/"
    },
    "executionInfo": {
     "elapsed": 12,
     "status": "ok",
     "timestamp": 1717951862008,
     "user": {
      "displayName": "BERTA PADILLA BAEZA",
      "userId": "17038178126289984285"
     },
     "user_tz": -120
    },
    "id": "iQ9UnC0vATse",
    "outputId": "87a8dde2-4073-4728-ceae-355248fae569"
   },
   "outputs": [
    {
     "name": "stdout",
     "output_type": "stream",
     "text": [
      "El valor Pasaporte en vigor se repite 866 veces.\n",
      "El valor Visado/permiso de residencia se repite 43 veces.\n",
      "El valor Sin documentos se repite 15 veces.\n",
      "El valor Visado/permiso de estancia se repite 2 veces.\n",
      "El valor Visado/permiso de tránsito se repite 1 veces.\n"
     ]
    }
   ],
   "source": [
    "i = 5\n",
    "repeated_values = data.iloc[:, i].value_counts()[data.iloc[:, i].value_counts() > 0].index.tolist()\n",
    "for value in repeated_values:\n",
    "  count = data.iloc[:, i].value_counts()[value]\n",
    "  print(f\"El valor {value} se repite {count} veces.\")"
   ]
  },
  {
   "cell_type": "markdown",
   "metadata": {
    "id": "jz_seV6gAdpY"
   },
   "source": [
    "Mantenemos solo:\n",
    "- Pasaporte en vigor\n",
    "- Visado/permiso de residencia\n",
    "- Sin documentos\n",
    "- Visado/permiso de estancia\n",
    "- Visado/permiso de tránsito --> Visado/permiso de transito"
   ]
  },
  {
   "cell_type": "code",
   "execution_count": 34,
   "metadata": {
    "colab": {
     "base_uri": "https://localhost:8080/"
    },
    "executionInfo": {
     "elapsed": 5,
     "status": "ok",
     "timestamp": 1717951862008,
     "user": {
      "displayName": "BERTA PADILLA BAEZA",
      "userId": "17038178126289984285"
     },
     "user_tz": -120
    },
    "id": "RM4LUtvNAbpL",
    "outputId": "df860473-a682-4c6d-d8db-4009debe3f88"
   },
   "outputs": [
    {
     "name": "stdout",
     "output_type": "stream",
     "text": [
      "El valor Pasaporte en vigor se repite 921 veces - 93.88 %.\n",
      "El valor Visado/permiso de residencia se repite 43 veces - 4.38 %.\n",
      "El valor Sin documentos se repite 15 veces - 1.53 %.\n",
      "El valor Visado/permiso de estancia se repite 2 veces - 0.20 %.\n",
      "Hay un 0.00% de casos NaN.\n"
     ]
    }
   ],
   "source": [
    "i = 5\n",
    "data.iloc[:,i] = data.iloc[:,i].replace(\"Visado/permiso de tránsito\", 'Visado/permiso de transito')\n",
    "repeated_values_1 = data.iloc[:, i].value_counts()[data.iloc[:, i].value_counts() > 0].index.tolist()\n",
    "docu = ['Pasaporte en vigor', 'Visado/permiso de residencia', 'Sin documentos', 'Visado/permiso de estancia', 'Visado/permiso de tránsito']\n",
    "\n",
    "for j in range(len(data)):\n",
    "  if data.iloc[j,i] not in docu:\n",
    "    data.iloc[j,i] = 'Pasaporte en vigor'\n",
    "\n",
    "repeated_values = data.iloc[:, i].value_counts()[data.iloc[:, i].value_counts() > 0].index.tolist()\n",
    "for value in repeated_values:\n",
    "  count = data.iloc[:, i].value_counts()[value]\n",
    "  perc = count*100/len(data)\n",
    "  print(f\"El valor {value} se repite {count} veces - {perc:.2f} %.\")\n",
    "\n",
    "# % de NaNs\n",
    "prnan_percentage = data.iloc[:,i].isna().mean() * 100\n",
    "print(f\"Hay un {prnan_percentage:.2f}% de casos NaN.\")"
   ]
  },
  {
   "cell_type": "markdown",
   "metadata": {
    "id": "KTqn44Y8BLk4"
   },
   "source": [
    "# Analizamos 6a columna - Nacionalidad\n",
    "\n"
   ]
  },
  {
   "cell_type": "code",
   "execution_count": 35,
   "metadata": {
    "colab": {
     "base_uri": "https://localhost:8080/"
    },
    "executionInfo": {
     "elapsed": 3,
     "status": "ok",
     "timestamp": 1717951862008,
     "user": {
      "displayName": "BERTA PADILLA BAEZA",
      "userId": "17038178126289984285"
     },
     "user_tz": -120
    },
    "id": "0nTWoZQWBT47",
    "outputId": "7243d760-1e21-481c-9658-8297c6a19b3d"
   },
   "outputs": [
    {
     "name": "stdout",
     "output_type": "stream",
     "text": [
      "El valor \"Europea (países comunitarios)\" se repite 938 veces.\n",
      "El valor \"No europea (países extracomunitarios)\" se repite 22 veces.\n"
     ]
    }
   ],
   "source": [
    "i = 6\n",
    "repeated_values = data.iloc[:, i].value_counts()[data.iloc[:, i].value_counts() > 0].index.tolist()\n",
    "for value in repeated_values:\n",
    "  count = data.iloc[:, i].value_counts()[value]\n",
    "  print(f\"El valor \\\"{value}\\\" se repite {count} veces.\")\n"
   ]
  },
  {
   "cell_type": "markdown",
   "metadata": {
    "id": "vEKFjCgeBgb3"
   },
   "source": [
    "Mantenemos solo:\n",
    "- Europea (países comunitarios) --> Europea\n",
    "- No europea (países extracomunitarios) --> No europea\n"
   ]
  },
  {
   "cell_type": "code",
   "execution_count": 36,
   "metadata": {
    "colab": {
     "base_uri": "https://localhost:8080/"
    },
    "executionInfo": {
     "elapsed": 409,
     "status": "ok",
     "timestamp": 1717951862415,
     "user": {
      "displayName": "BERTA PADILLA BAEZA",
      "userId": "17038178126289984285"
     },
     "user_tz": -120
    },
    "id": "XFaiG_AsBqOw",
    "outputId": "e240f374-7ae1-469b-b26c-6a3e9e6e19a3"
   },
   "outputs": [
    {
     "name": "stdout",
     "output_type": "stream",
     "text": [
      "El valor 'Europea' se repite 959 veces - 97.76%.\n",
      "El valor 'No europea' se repite 22 veces - 2.24%.\n",
      "Hay un 0.00% de casos NaN.\n"
     ]
    }
   ],
   "source": [
    "import pandas as pd\n",
    "\n",
    "# Reemplazar valores utilizando parte del texto constante\n",
    "i = 6\n",
    "# Reemplazo de valores específicos con regex\n",
    "data.iloc[:, i] = data.iloc[:, i].replace(\n",
    "    to_replace=r\"Europea \\(países comunitarios\\)\", value='Europea', regex=True\n",
    ")\n",
    "data.iloc[:, i] = data.iloc[:, i].replace(\n",
    "    to_replace=r\"No europea \\(países extracomunitarios\\)\", value='No europea', regex=True\n",
    ")\n",
    "\n",
    "# Lista de valores válidos\n",
    "nacionalidad = ['Europea', 'No europea']\n",
    "\n",
    "# Asignar \"Europea\" a cualquier valor que no esté en la lista nacionalidad\n",
    "data.iloc[:, i] = data.iloc[:, i].apply(lambda x: 'Europea' if x not in nacionalidad else x)\n",
    "\n",
    "# Calcular la frecuencia de los valores en la columna\n",
    "value_counts = data.iloc[:, i].value_counts()\n",
    "\n",
    "# Mostrar el número de repeticiones y el porcentaje para cada valor\n",
    "for value, count in value_counts.items():\n",
    "    perc = count * 100 / len(data)\n",
    "    print(f\"El valor '{value}' se repite {count} veces - {perc:.2f}%.\")\n",
    "\n",
    "# Calcular y mostrar el porcentaje de NaNs\n",
    "prnan_percentage = data.iloc[:, i].isna().mean() * 100\n",
    "print(f\"Hay un {prnan_percentage:.2f}% de casos NaN.\")\n"
   ]
  },
  {
   "cell_type": "code",
   "execution_count": 37,
   "metadata": {
    "id": "CTUY02RYLpx6"
   },
   "outputs": [],
   "source": [
    "data = data.dropna(subset=[data.columns[i]])"
   ]
  },
  {
   "cell_type": "markdown",
   "metadata": {
    "id": "fYapeoZtCtmw"
   },
   "source": [
    "# Analizamos 7a columna - Máximo nivel educativo"
   ]
  },
  {
   "cell_type": "code",
   "execution_count": 38,
   "metadata": {
    "colab": {
     "base_uri": "https://localhost:8080/"
    },
    "executionInfo": {
     "elapsed": 16,
     "status": "ok",
     "timestamp": 1717951862415,
     "user": {
      "displayName": "BERTA PADILLA BAEZA",
      "userId": "17038178126289984285"
     },
     "user_tz": -120
    },
    "id": "46d4vQNhC4Ao",
    "outputId": "08508e52-eb67-49c5-e488-8e94264b2551"
   },
   "outputs": [
    {
     "name": "stdout",
     "output_type": "stream",
     "text": [
      "El valor Estudios universitarios completos (licenciatura, diplomatura, ingeniería o grado completo) se repite 383 veces.\n",
      "El valor Estudios de post-grado completos se repite 259 veces.\n",
      "El valor Formación Profesional o similar completos se repite 200 veces.\n",
      "El valor Estudios secundarios completos (ESO, Bachiller elemental) se repite 103 veces.\n",
      "El valor Estudios primarios completos (Primaria, EGB, completos) se repite 23 veces.\n",
      "El valor Educación primaria incompleta (Primaria, EGB incompletas) se repite 4 veces.\n"
     ]
    }
   ],
   "source": [
    "i = 7\n",
    "repeated_values = data.iloc[:, i].value_counts()[data.iloc[:, i].value_counts() > 0].index.tolist()\n",
    "for value in repeated_values:\n",
    "  count = data.iloc[:, i].value_counts()[value]\n",
    "  print(f\"El valor {value} se repite {count} veces.\")\n"
   ]
  },
  {
   "cell_type": "code",
   "execution_count": 39,
   "metadata": {
    "colab": {
     "base_uri": "https://localhost:8080/"
    },
    "executionInfo": {
     "elapsed": 12,
     "status": "ok",
     "timestamp": 1717951862415,
     "user": {
      "displayName": "BERTA PADILLA BAEZA",
      "userId": "17038178126289984285"
     },
     "user_tz": -120
    },
    "id": "842Hltt1ETwh",
    "outputId": "611c7c2e-3383-4879-845e-a29aefcc65b4"
   },
   "outputs": [
    {
     "name": "stdout",
     "output_type": "stream",
     "text": [
      "El valor Estudios universitarios se repite 383 veces - 39.04 %.\n",
      "El valor Estudios de post-grado se repite 268 veces - 27.32 %.\n",
      "El valor Formacion profesional se repite 200 veces - 20.39 %.\n",
      "El valor Estudios secundarios se repite 103 veces - 10.50 %.\n",
      "El valor Estudios primarios se repite 23 veces - 2.34 %.\n",
      "El valor Educacion primaria incompleta se repite 4 veces - 0.41 %.\n",
      "Hay un 0.00% de casos NaN.\n"
     ]
    }
   ],
   "source": [
    "i = 7\n",
    "data.iloc[:,i] = data.iloc[:,i].replace(\"Estudios universitarios completos (licenciatura, diplomatura, ingeniería o grado completo)\", 'Estudios universitarios')\n",
    "data.iloc[:,i] = data.iloc[:,i].replace(\"Estudios de post-grado completos\", 'Estudios de post-grado')\n",
    "data.iloc[:,i] = data.iloc[:,i].replace(\"Formación Profesional o similar completos\", 'Formacion profesional')\n",
    "data.iloc[:,i] = data.iloc[:,i].replace(\"Estudios secundarios completos (ESO, Bachiller elemental)\", 'Estudios secundarios')\n",
    "data.iloc[:,i] = data.iloc[:,i].replace(\"Estudios primarios completos (Primaria, EGB, completos)\", 'Estudios primarios')\n",
    "data.iloc[:,i] = data.iloc[:,i].replace(\"Educación primaria incompleta (Primaria, EGB incompletas)\", 'Educacion primaria incompleta')\n",
    "\n",
    "estudios = ['Estudios de post-grado','Estudios universitarios', 'Formacion profesional', 'Estudios secundarios', 'Estudios primarios', 'Educacion primaria incompleta']\n",
    "\n",
    "for j in range(len(data)):\n",
    "  if data.iloc[j,i] not in estudios:\n",
    "    data.iloc[j,i] = 'Estudios de post-grado'\n",
    "\n",
    "repeated_values = data.iloc[:, i].value_counts()[data.iloc[:, i].value_counts() > 0].index.tolist()\n",
    "for value in repeated_values:\n",
    "  count = data.iloc[:, i].value_counts()[value]\n",
    "  perc = count*100/len(data)\n",
    "  print(f\"El valor {value} se repite {count} veces - {perc:.2f} %.\")\n",
    "\n",
    "# % de NaNs\n",
    "prnan_percentage = data.iloc[:,i].isna().mean() * 100\n",
    "print(f\"Hay un {prnan_percentage:.2f}% de casos NaN.\")"
   ]
  },
  {
   "cell_type": "code",
   "execution_count": 40,
   "metadata": {
    "id": "J_M1YhRIPIAS"
   },
   "outputs": [],
   "source": [
    "# ESTO LO HE COMENTADO YO PORQUE SOLO MUESTRA TODAS LAS COLUMNAS\n",
    "\n",
    "for j in range(len(data)):\n",
    "  if data.iloc[j,i] not in estudios:\n",
    "    print(display(data.iloc[j,:]))"
   ]
  },
  {
   "cell_type": "markdown",
   "metadata": {
    "id": "r-FV44ROF4RY"
   },
   "source": [
    "# Analizamos 8a columna - detalle de estudios\n",
    "\n",
    "Muchos valores distintos podemos:\n",
    "\n",
    "- Agrupar por categoría\n",
    "- **Descartar porque no será significativo --> mucho ruido**"
   ]
  },
  {
   "cell_type": "code",
   "execution_count": 41,
   "metadata": {
    "colab": {
     "base_uri": "https://localhost:8080/"
    },
    "executionInfo": {
     "elapsed": 1678,
     "status": "ok",
     "timestamp": 1717951864085,
     "user": {
      "displayName": "BERTA PADILLA BAEZA",
      "userId": "17038178126289984285"
     },
     "user_tz": -120
    },
    "id": "dnp_QEvLF9kk",
    "outputId": "968247cc-5a56-4be6-8ff8-31259117f1aa"
   },
   "outputs": [
    {
     "name": "stdout",
     "output_type": "stream",
     "text": [
      "El valor Derecho se repite 10 veces.\n",
      "El valor Doctorado se repite 8 veces.\n",
      "El valor Magisterio se repite 6 veces.\n",
      "El valor Psicología se repite 6 veces.\n",
      "El valor Master se repite 4 veces.\n",
      "El valor Trabajo social se repite 4 veces.\n",
      "El valor Periodismo se repite 4 veces.\n",
      "El valor Máster se repite 3 veces.\n",
      "El valor Licenciatura se repite 3 veces.\n",
      "El valor Marketing se repite 3 veces.\n",
      "El valor Psicóloga se repite 3 veces.\n",
      "El valor Arquitectura  se repite 3 veces.\n",
      "El valor Periodismo  se repite 3 veces.\n",
      "El valor Diseño de moda se repite 3 veces.\n",
      "El valor ESO se repite 3 veces.\n",
      "El valor Bachillerato se repite 3 veces.\n",
      "El valor Ingeniería Informática se repite 3 veces.\n",
      "El valor Arquitecto se repite 3 veces.\n",
      "El valor Medicina se repite 3 veces.\n",
      "El valor Biología se repite 3 veces.\n",
      "El valor Grado en ciencias ambientales y máster  se repite 3 veces.\n",
      "El valor Veterinaria  se repite 3 veces.\n",
      "El valor Relaciones Indistriales se repite 2 veces.\n",
      "El valor Integración Social se repite 2 veces.\n",
      "El valor Grado superior se repite 2 veces.\n",
      "El valor Diseño de producto se repite 2 veces.\n",
      "El valor Diseño gráfico se repite 2 veces.\n",
      "El valor Administración y dirección de empresas se repite 2 veces.\n",
      "El valor EGB se repite 2 veces.\n",
      "El valor Maestra  se repite 2 veces.\n",
      "El valor Bellas Artes se repite 2 veces.\n",
      "El valor Grado Superior en Administración y Finanzas se repite 2 veces.\n",
      "El valor Psicologa se repite 2 veces.\n",
      "El valor Técnico superior en educación infantil se repite 2 veces.\n",
      "El valor Administración y dirección de empresas  se repite 2 veces.\n",
      "El valor Diseño se repite 2 veces.\n",
      "El valor Publicidad y RRPP se repite 2 veces.\n",
      "El valor Estudiante de Grado en Ingeniería Forestal se repite 2 veces.\n",
      "El valor Biologia se repite 2 veces.\n",
      "El valor MBA se repite 2 veces.\n",
      "El valor Licenciatura en Psicología se repite 2 veces.\n",
      "El valor Arquitectura se repite 2 veces.\n",
      "El valor Publicidad  se repite 2 veces.\n",
      "El valor Publicidad se repite 2 veces.\n",
      "El valor Educadora social  se repite 2 veces.\n",
      "El valor Licenciada en psicologia se repite 2 veces.\n",
      "El valor Licenciada en Derecho se repite 2 veces.\n",
      "El valor Bachiller se repite 2 veces.\n",
      "El valor Ingeniería de telecomunicaciones se repite 2 veces.\n",
      "El valor Psicologia  se repite 2 veces.\n",
      "El valor Pedagogia se repite 2 veces.\n",
      "El valor Comunicación Audiovisual se repite 2 veces.\n",
      "El valor Educación social se repite 2 veces.\n",
      "El valor Bachillerato  se repite 2 veces.\n",
      "El valor Filología inglesa se repite 2 veces.\n",
      "El valor Informática se repite 2 veces.\n",
      "El valor Enfermería  se repite 2 veces.\n",
      "El valor Enfermeria se repite 1 veces.\n",
      "El valor Estudiando un Máster Universitario  se repite 1 veces.\n",
      "El valor carrera de turismo  y MBA se repite 1 veces.\n",
      "El valor Grado en Veterinaria se repite 1 veces.\n",
      "El valor Pedagogía  se repite 1 veces.\n",
      "El valor Grado en Publicidad y RRRPP se repite 1 veces.\n",
      "El valor Grado en Psicología, Máster Violencia de Género se repite 1 veces.\n",
      "El valor Técnico en instalaciones de telecomunicaciones se repite 1 veces.\n",
      "El valor Técnica en Gestión Humana se repite 1 veces.\n",
      "El valor Entre en la eso y suspendia y repetía me metieron en un fpb y tampoco hice gran cosa..... se repite 1 veces.\n",
      "El valor Relaciones Laborales y Recursos Humanos, UMA se repite 1 veces.\n",
      "El valor Graduado en Periodismo se repite 1 veces.\n",
      "El valor Derecho y ADE se repite 1 veces.\n",
      "El valor Enseñanzas Artísticas Superiores de Diseño de Moda se repite 1 veces.\n",
      "El valor Magisterio y diseño de moda se repite 1 veces.\n",
      "El valor Licenciada en filosofía y ciencias de la educación se repite 1 veces.\n",
      "El valor Proyectos y Dirección de Obras de Decoración y Arquitectura Efímera  se repite 1 veces.\n",
      "El valor Tengo el título de la ESO, de Bachillerato en modalidad de ciencias de la salud y actualmente curso 4to de Medicina sin asignaturas pendientes de cursos anteriores. se repite 1 veces.\n",
      "El valor Diplomatura en arte dramático  se repite 1 veces.\n",
      "El valor psicologa y economista se repite 1 veces.\n",
      "El valor Nee se repite 1 veces.\n",
      "El valor Licenciatura en Bellas Artes, CAP se repite 1 veces.\n",
      "El valor Graduada en Nutrición humana y Dietética  se repite 1 veces.\n",
      "El valor Master universitario se repite 1 veces.\n",
      "El valor Grado en Trabajo Social se repite 1 veces.\n",
      "El valor Grado en Historia. Máster en Gestión del Patrimonio Cultural y Museología. Máster en Investigación en Humanidades. Actualmente, Investigador en Formación  se repite 1 veces.\n",
      "El valor Ingeniería y dos masters se repite 1 veces.\n",
      "El valor Telecomunicaciones se repite 1 veces.\n",
      "El valor Maestra educación infantil se repite 1 veces.\n",
      "El valor Turismo se repite 1 veces.\n",
      "El valor Grado superior de música, grado en maestro de educación Primaria, máster del profesorado.  se repite 1 veces.\n",
      "El valor Biologa se repite 1 veces.\n",
      "El valor Licenciatura en Traducción e Interpretación  se repite 1 veces.\n",
      "El valor Edificacion y Obra Civil (Delineacion) se repite 1 veces.\n",
      "El valor Aux.de enfermeria se repite 1 veces.\n",
      "El valor Grado en Estudios Ingleses se repite 1 veces.\n",
      "El valor Lenguas y Literatura se repite 1 veces.\n",
      "El valor PhD patología vegetal se repite 1 veces.\n",
      "El valor Licenciado en Filosofía / Técnico superior de sonido se repite 1 veces.\n",
      "El valor Grado en veterinaria  se repite 1 veces.\n",
      "El valor Filosofía y derecho se repite 1 veces.\n",
      "El valor Grado en Periodismo se repite 1 veces.\n",
      "El valor Master Traducción para el mundo editorial. se repite 1 veces.\n",
      "El valor Grado de Veterinaria en la Universidad Complutense de Madrid  se repite 1 veces.\n",
      "El valor Gestión alojamientos turísticos, técnico en estética  se repite 1 veces.\n",
      "El valor Doble grado en Ciencias Políticas y Sociología se repite 1 veces.\n",
      "El valor Técnico Superior de Gestión de Alojamientos Turísticos se repite 1 veces.\n",
      "El valor Grado formativo de grado superior  se repite 1 veces.\n",
      "El valor Grado en Economia Master Mk Digital se repite 1 veces.\n",
      "El valor Eso se repite 1 veces.\n",
      "El valor Sociología se repite 1 veces.\n",
      "El valor Bachillerato de ciencias de la salud se repite 1 veces.\n",
      "El valor Grado en ingeniería biomédica, máster en visión artificial; en la actualidad cursando un doctorado en ingeniería biomédica se repite 1 veces.\n",
      "El valor Ingeniería superior de telecomunicación y máster se repite 1 veces.\n",
      "El valor Auxiliar de vuelo se repite 1 veces.\n",
      "El valor Licenciada en Psicología, Máster Psicología general Sanitaria  se repite 1 veces.\n",
      "El valor Licenciada en Filología  se repite 1 veces.\n",
      "El valor Grado en comunicación audiovisual en ingles  se repite 1 veces.\n",
      "El valor Delienate induatrial se repite 1 veces.\n",
      "El valor Grado en sociología se repite 1 veces.\n",
      "El valor Ingeniero industrial se repite 1 veces.\n",
      "El valor Licenciada en Derecho, MBA se repite 1 veces.\n",
      "El valor Doctora en educación se repite 1 veces.\n",
      "El valor Licenciatura en Administración de Empresas se repite 1 veces.\n",
      "El valor Doctorado en psicología se repite 1 veces.\n",
      "El valor Ciencia y tecnología de los alimentos se repite 1 veces.\n",
      "El valor Grado en Derecho + MBA se repite 1 veces.\n",
      "El valor Bachillerato y Marketing digital se repite 1 veces.\n",
      "El valor Grado universitario de enfermería + 2 masters se repite 1 veces.\n",
      "El valor Educación Primaria y Especial/ Sexología. se repite 1 veces.\n",
      "El valor Grado medio administrativo se repite 1 veces.\n",
      "El valor FP fotografía completado, Ilustración en curso se repite 1 veces.\n",
      "El valor Licenciatura Medicina se repite 1 veces.\n",
      "El valor Máster en Comunicación Social se repite 1 veces.\n",
      "El valor Cursos de jardineria, restauración y tapaciría se repite 1 veces.\n",
      "El valor Tec. Laboratorio análisis clínico y Tec. Nutrición y dietética.  se repite 1 veces.\n",
      "El valor Grado en Turismo se repite 1 veces.\n",
      "El valor Grado en conservción y restauración de los bienes culturales se repite 1 veces.\n",
      "El valor FP de Imagen y Sonido se repite 1 veces.\n",
      "El valor Grado medio en Técnico Ayuda a Personas en Situacion de Dependencia  se repite 1 veces.\n",
      "El valor Doctorado en arquitectura se repite 1 veces.\n",
      "El valor Diplomatura de Interpretación  se repite 1 veces.\n",
      "El valor Ciencias políticas  se repite 1 veces.\n",
      "El valor Arquitecto de interiores y Máster en Paisajismo se repite 1 veces.\n",
      "El valor Comunicación audiovisual se repite 1 veces.\n",
      "El valor Licenciada en CC. Políticas y Sociología. Máster en Historia Contemporánea. se repite 1 veces.\n",
      "El valor Maestra educación primaria se repite 1 veces.\n",
      "El valor Grado superior Diseño de joyería  se repite 1 veces.\n",
      "El valor Magisterio de educación infantil se repite 1 veces.\n",
      "El valor Licenciatura en Comunicacion Social y Planificación se repite 1 veces.\n",
      "El valor Bachiller de ciencias sociales y G.M.F.P técnico en aceites de oliva y vinos.  se repite 1 veces.\n",
      "El valor Licenciatura + dea se repite 1 veces.\n",
      "El valor Grado Ingeniería Diseño Industrial y Desarrollo del Producto se repite 1 veces.\n",
      "El valor Grado Superior en Integración Social y Animación Sociocultural se repite 1 veces.\n",
      "El valor Licenciada en medicina, especialidad en Medicina familiar y comunitaria. Master en Sexología y asesoramiento de pareja  se repite 1 veces.\n",
      "El valor Máster en Sistemas de Información e Investigación de Mercados se repite 1 veces.\n",
      "El valor Técnico en cuidados auxiliares de enfermería se repite 1 veces.\n",
      "El valor Tecnico de construcción  se repite 1 veces.\n",
      "El valor Cfgs analisis y control se repite 1 veces.\n",
      "El valor Periodismo y Literatura se repite 1 veces.\n",
      "El valor Fotofrafia para cine y television se repite 1 veces.\n",
      "El valor Grado medio estética  se repite 1 veces.\n",
      "El valor Doctora en sociología se repite 1 veces.\n",
      "El valor Educación social  se repite 1 veces.\n",
      "El valor Licenciado en Ciencias Físicas se repite 1 veces.\n",
      "El valor Ingeniero Técnico en Telecomunicaciones se repite 1 veces.\n",
      "El valor Acabando Periodismo y Comunicación Audiovisual se repite 1 veces.\n",
      "El valor Educacion se repite 1 veces.\n",
      "El valor Grado en Educación Social se repite 1 veces.\n",
      "El valor Ciclo formativo de grado superior se repite 1 veces.\n",
      "El valor Maestra lengua extranjera se repite 1 veces.\n",
      "El valor Graduada enfermería se repite 1 veces.\n",
      "El valor Publicidad y rrpp aunque me dedico a las artes en especial a la fotografía y escritura se repite 1 veces.\n",
      "El valor Universitarios no completos en arquitectura y diseño se repite 1 veces.\n",
      "El valor Licenciatura en Historia del Arte y Máster en Gestión del Patrimonio  se repite 1 veces.\n",
      "El valor Licenciada se repite 1 veces.\n",
      "El valor Estudiante de doctorado se repite 1 veces.\n",
      "El valor Estudiando Grado en ingenieria informatica se repite 1 veces.\n",
      "El valor Master tecnicas y ciencias de la calidad del agua se repite 1 veces.\n",
      "El valor Ldo. com av y aux. Veterinaria, etc se repite 1 veces.\n",
      "El valor Historia del Arte se repite 1 veces.\n",
      "El valor 2 grados superiores se repite 1 veces.\n",
      "El valor Licenciatura en Geografía e Historia se repite 1 veces.\n",
      "El valor Enfermera y especialista en familia y comunitaria  se repite 1 veces.\n",
      "El valor Licenciatura en psicología y máster Universitario se repite 1 veces.\n",
      "El valor Doble licenciatura en Periodismo y Comunicación Audiovisal por la UC3M y Máster de Periodismo Cultural se repite 1 veces.\n",
      "El valor Ciencias Físicas se repite 1 veces.\n",
      "El valor Ingeniería Técnica en Mecánica (perito) se repite 1 veces.\n",
      "El valor Graduado social se repite 1 veces.\n",
      "El valor Licenciada en Educación física se repite 1 veces.\n",
      "El valor Grado en biología se repite 1 veces.\n",
      "El valor Ingenieria se repite 1 veces.\n",
      "El valor Marketing. Masajista se repite 1 veces.\n",
      "El valor DUE CON 2 M√ÅSTER OFICIALES se repite 1 veces.\n",
      "El valor Doctora en Química Organometálica se repite 1 veces.\n",
      "El valor DUE se repite 1 veces.\n",
      "El valor Técnico superior de laboratorio de diagnóstico clinico se repite 1 veces.\n",
      "El valor Licenciada y DEA se repite 1 veces.\n",
      "El valor Licenciada en CC ambientales, máster en gestión integral del agua se repite 1 veces.\n",
      "El valor Diplomada Relaciones Laborales se repite 1 veces.\n",
      "El valor Psicología Clínica y Ecopsicologia se repite 1 veces.\n",
      "El valor Doctor en Matemáticas se repite 1 veces.\n",
      "El valor BIOLOGIA se repite 1 veces.\n",
      "El valor Trabajo Social se repite 1 veces.\n",
      "El valor diplomatura Biblioteconomía y documentación y Licenciatura en Periodismo se repite 1 veces.\n",
      "El valor Relaciones Laborales y Recursos Humanos  se repite 1 veces.\n",
      "El valor Licenciatura+Máster se repite 1 veces.\n",
      "El valor Máster en Ciencia de datos e ingeniería de computadores se repite 1 veces.\n",
      "El valor Licenciada en Farmacia. Licenciada en Ciencia y Tecnología de los Alimentos  se repite 1 veces.\n",
      "El valor Grado en Biotecnología, Postgrado en Investigación en ciencias farmacéuticas, Máster en investigación, desarrollo y control de medicamentos  se repite 1 veces.\n",
      "El valor Doctoranda en Biología se repite 1 veces.\n",
      "El valor Licenciada en Psicomotricidad se repite 1 veces.\n",
      "El valor Ade se repite 1 veces.\n",
      "El valor Licenciada en Bellas Artes  se repite 1 veces.\n",
      "El valor Doctora en Ciencias Físicas se repite 1 veces.\n",
      "El valor Ingeniería Técnica minas se repite 1 veces.\n",
      "El valor Grado en Biología y Máster en Química se repite 1 veces.\n",
      "El valor Técnico superior laboratorio análisis clínicos se repite 1 veces.\n",
      "El valor Licenciatura Ciencias Químicas se repite 1 veces.\n",
      "El valor Matrona y Enfermera se repite 1 veces.\n",
      "El valor BUP  se repite 1 veces.\n",
      "El valor FP Grado superior en fotografía, y actualmente cursando FP Grado superior en estilismo de indumentaria se repite 1 veces.\n",
      "El valor Licenciatura pedagogía musical se repite 1 veces.\n",
      "El valor Tec. Laboratorio / Trabajo Administración..Estatutario se repite 1 veces.\n",
      "El valor Licenciatura historia se repite 1 veces.\n",
      "El valor Dos diplomaturas  se repite 1 veces.\n",
      "El valor Máster en Programación se repite 1 veces.\n",
      "El valor Matrona. Sexóloga  se repite 1 veces.\n",
      "El valor Marketing  se repite 1 veces.\n",
      "El valor administracion y finanzas se repite 1 veces.\n",
      "El valor Máster en Gestión Internacional de la Empresa se repite 1 veces.\n",
      "El valor GM Explotación de Sistemas Informáticos  se repite 1 veces.\n",
      "El valor Grado Universitario en ciencias de la actividad física y del deporte  se repite 1 veces.\n",
      "El valor Licenciatura en biología, máster espacios naturales protegidos y máster biodiversidad en áreas tropicales y su conservación se repite 1 veces.\n",
      "El valor Ingeniería informática se repite 1 veces.\n",
      "El valor Doctorado en Químicas se repite 1 veces.\n",
      "El valor I.T. en Topografía, I. de Organización Industrial, Doctorando TIC se repite 1 veces.\n",
      "El valor Diplomado en Turismo se repite 1 veces.\n",
      "El valor Geografía e historia se repite 1 veces.\n",
      "El valor he estudiado audiovisual y teatro sin titulo oficial se repite 1 veces.\n",
      "El valor Grado en Geología se repite 1 veces.\n",
      "El valor Doctor en Ciencias Físicas se repite 1 veces.\n",
      "El valor Murcia se repite 1 veces.\n",
      "El valor Grado en biología y máster en biología marina se repite 1 veces.\n",
      "El valor Doctorado en Ciencias de la Tierra se repite 1 veces.\n",
      "El valor Máster en investigación e innovación educativa.  se repite 1 veces.\n",
      "El valor Dr. Ingeniería Química se repite 1 veces.\n",
      "El valor sistemas microoinformaticos se repite 1 veces.\n",
      "El valor Licenciatura en Psicología. Grado en Educación Social. Máster de Profesorado. Máster de Igualdad y Género. se repite 1 veces.\n",
      "El valor Grado en biología y máster en biología marina  se repite 1 veces.\n",
      "El valor Doctorado en Biología  se repite 1 veces.\n",
      "El valor psicología se repite 1 veces.\n",
      "El valor Master en Ling√ºística Aplicada y Educación se repite 1 veces.\n",
      "El valor Doctora en Informática se repite 1 veces.\n",
      "El valor Superiores  se repite 1 veces.\n",
      "El valor Bachillerato superior  se repite 1 veces.\n",
      "El valor Diseño de producto. Diseño en permacultura se repite 1 veces.\n",
      "El valor Eduadora infantil se repite 1 veces.\n",
      "El valor Lic. Ciencias Ambientales se repite 1 veces.\n",
      "El valor BE (Ingeniero Industrial) 1967, BA (Licenciado en Filosofía y Letras) 1971 y BComm (licenciado en Económicas) 1984, todo ello en UCD en Irlanda se repite 1 veces.\n",
      "El valor Licenciatura y Máster se repite 1 veces.\n",
      "El valor Bachillerato científico se repite 1 veces.\n",
      "El valor Doctorado en ciencias  se repite 1 veces.\n",
      "El valor Comunicación Audiovisual  se repite 1 veces.\n",
      "El valor Licenciatura derecho se repite 1 veces.\n",
      "El valor Diplomada en Educación Primaria  se repite 1 veces.\n",
      "El valor Licenciatura en Biología, Máster en Calidad de Aguas se repite 1 veces.\n",
      "El valor Ingeniero Industrial se repite 1 veces.\n",
      "El valor Licenciada en Medicina y Cirugía se repite 1 veces.\n",
      "El valor Pedagogía se repite 1 veces.\n",
      "El valor Licenciado en biología se repite 1 veces.\n",
      "El valor Máster de profesorado, Grado en Estudios Ingleses y Magisterio de Lengua Extranjera se repite 1 veces.\n",
      "El valor Grado en filosofía se repite 1 veces.\n",
      "El valor Master en Dirección y Gestión de RRHH se repite 1 veces.\n",
      "El valor Fp imagen y sonido se repite 1 veces.\n",
      "El valor Lda. Derecho. C.A.P. Inglés EOI C-1. Grado medio conservatorio. se repite 1 veces.\n",
      "El valor Licenciada en pedagogía. Maestra en Educación Musical. C1 de inglés se repite 1 veces.\n",
      "El valor CFGS Integración Social  se repite 1 veces.\n",
      "El valor Técnico en telecomunicaciones  se repite 1 veces.\n",
      "El valor Grado superior en técnico en administración y finanzas  se repite 1 veces.\n",
      "El valor Diplomatura de empresariales se repite 1 veces.\n",
      "El valor Estudios grado en educación infantil se repite 1 veces.\n",
      "El valor Licenciatura Comunicación Audiovisual se repite 1 veces.\n",
      "El valor Licenciada en Biología  se repite 1 veces.\n",
      "El valor Graduada en Ciencias Ambientales y terminando Máster en Mejora Genética Vegetal se repite 1 veces.\n",
      "El valor Grado Biologia y Máster en Investigación Biomedica traslacional  se repite 1 veces.\n",
      "El valor Ciencias del mar se repite 1 veces.\n",
      "El valor Comunicación y artes audiovisuales se repite 1 veces.\n",
      "El valor Bachillerato humanistico se repite 1 veces.\n",
      "El valor Médico especialista en Medicina Familiar y Comunitaria se repite 1 veces.\n",
      "El valor Music Business se repite 1 veces.\n",
      "El valor Administrativa se repite 1 veces.\n",
      "El valor Licenciada pedagogía se repite 1 veces.\n",
      "El valor Técnico en laboratorio clínico se repite 1 veces.\n",
      "El valor √ìptico se repite 1 veces.\n",
      "El valor Auxiliares de enfermería / técnico de laboratorio se repite 1 veces.\n",
      "El valor Máster en Selección y Gestión del Talento y grado en Psicología se repite 1 veces.\n",
      "El valor Licenciatura derecho. Experta en mediación. se repite 1 veces.\n",
      "El valor Fotografía  se repite 1 veces.\n",
      "El valor Traducción e Interpretación, Profesora de idiomas se repite 1 veces.\n",
      "El valor Ling√ºística se repite 1 veces.\n",
      "El valor Electricidad se repite 1 veces.\n",
      "El valor 2 Grados FP: Diseño Gráfico e Iluminación y Captación de Imagen. se repite 1 veces.\n",
      "El valor Licenciatura letras se repite 1 veces.\n",
      "El valor Licenciatura Publicidad y RRPP se repite 1 veces.\n",
      "El valor Médica  se repite 1 veces.\n",
      "El valor Licenciatura en psicología, 2 máster  se repite 1 veces.\n",
      "El valor Licenciada en Ciencias de la Actividad Física y Deporte y Licenciada en Psicología se repite 1 veces.\n",
      "El valor Lenguas modernas y máster en educación se repite 1 veces.\n",
      "El valor Recursos Humanos se repite 1 veces.\n",
      "El valor Ingeniero Superior Industrial, Máster Grstion I+D se repite 1 veces.\n",
      "El valor Biología  se repite 1 veces.\n",
      "El valor Grado Universitario en Enfermería se repite 1 veces.\n",
      "El valor Técnico en empresas y actividades turísticas se repite 1 veces.\n",
      "El valor Doctora en Farmacia se repite 1 veces.\n",
      "El valor Arquitectura de Interiores se repite 1 veces.\n",
      "El valor Licenciatura en biología se repite 1 veces.\n",
      "El valor Master Economía y Empresa se repite 1 veces.\n",
      "El valor Doctora en Bioquímica se repite 1 veces.\n",
      "El valor Doctor en Investigación Biomédica  se repite 1 veces.\n",
      "El valor Grado en Biología se repite 1 veces.\n",
      "El valor Mecanica y electronica se repite 1 veces.\n",
      "El valor Grado Trabajo Social se repite 1 veces.\n",
      "El valor Licenciatura en Geografía e Historia, Msgisterio se repite 1 veces.\n",
      "El valor Diplomatura informática se repite 1 veces.\n",
      "El valor Licenciada en Historia del Arte se repite 1 veces.\n",
      "El valor Técnico administrativo  se repite 1 veces.\n",
      "El valor Grado en física y máster en Big data se repite 1 veces.\n",
      "El valor Licenciada en Bellas Artes; Graduada en Pedagogía. se repite 1 veces.\n",
      "El valor Doctora en Biología (microbiología) se repite 1 veces.\n",
      "El valor Máster en Biotecnología Alimentaria se repite 1 veces.\n",
      "El valor Doctorado en Ciencias Aplicadas se repite 1 veces.\n",
      "El valor Itop se repite 1 veces.\n",
      "El valor Grado en Bioquímica y Máster en I+D se repite 1 veces.\n",
      "El valor Administrativo se repite 1 veces.\n",
      "El valor Licenciada en Filología Anglogermánica se repite 1 veces.\n",
      "El valor Biología y Biotecnología Molecular  se repite 1 veces.\n",
      "El valor Licenciatura en química se repite 1 veces.\n",
      "El valor Química se repite 1 veces.\n",
      "El valor Biología, doctorado en el área de Fisiología Vegetal se repite 1 veces.\n",
      "El valor Tecnico Laboratorio se repite 1 veces.\n",
      "El valor Televisión  se repite 1 veces.\n",
      "El valor Doctora en Biología  se repite 1 veces.\n",
      "El valor Arquitecto Técnico se repite 1 veces.\n",
      "El valor Licenciatura en CC Biológicas se repite 1 veces.\n",
      "El valor FP I se repite 1 veces.\n",
      "El valor Grado Biología. Master Biotecnología.  se repite 1 veces.\n",
      "El valor Máster  se repite 1 veces.\n",
      "El valor Grado en Comunicación Audiovisual y Master in Animation and VFX se repite 1 veces.\n",
      "El valor Administración y finanzas se repite 1 veces.\n",
      "El valor Educadora Social y Terapeuta Familiar se repite 1 veces.\n",
      "El valor Licenciatura,diplomatura,tres masters i 2 postgrados se repite 1 veces.\n",
      "El valor 2 Maestrías, cursando PhD se repite 1 veces.\n",
      "El valor Grado en publicidad y relaciones públicas  se repite 1 veces.\n",
      "El valor Arquitecto  se repite 1 veces.\n",
      "El valor Bachiller en Ciencias  se repite 1 veces.\n",
      "El valor Educación social y Psicopedagogia se repite 1 veces.\n",
      "El valor Cocinero se repite 1 veces.\n",
      "El valor Licenciatuta en administración y dirección de empresas se repite 1 veces.\n",
      "El valor Bellas artes se repite 1 veces.\n",
      "El valor Licenciada en Historia del arte/Grado en Pedagogía Terapéutica  se repite 1 veces.\n",
      "El valor Educacion social se repite 1 veces.\n",
      "El valor Licenciatura en Publicidad y RR.PP. se repite 1 veces.\n",
      "El valor Veterinaria-Master en industria farmacéutica se repite 1 veces.\n",
      "El valor Business & marketing se repite 1 veces.\n",
      "El valor Ciencias Políticas se repite 1 veces.\n",
      "El valor Grado en veterinaria se repite 1 veces.\n",
      "El valor Lic. Ciencias Políticas y dos másters se repite 1 veces.\n",
      "El valor Enfermera se repite 1 veces.\n",
      "El valor no se repite 1 veces.\n",
      "El valor BA Honours Tourism Management (Licenciatura en gestión Turística) se repite 1 veces.\n",
      "El valor Bioquímica, máster en genética avanzada se repite 1 veces.\n",
      "El valor Psicología. Máster en educación se repite 1 veces.\n",
      "El valor Ciclo formativo de grado superior  se repite 1 veces.\n",
      "El valor Estoy en la universidad se repite 1 veces.\n",
      "El valor Licenciada en Filología Hispánica se repite 1 veces.\n",
      "El valor Comercio Internacional se repite 1 veces.\n",
      "El valor Historia del Arte y Doctorado en Diseño de Espacio Público se repite 1 veces.\n",
      "El valor Psicóloga social y educativa se repite 1 veces.\n",
      "El valor Ingeniero informático se repite 1 veces.\n",
      "El valor Licenciada  se repite 1 veces.\n",
      "El valor Diplomatura en Educación Social  se repite 1 veces.\n",
      "El valor Diplomada Turismo se repite 1 veces.\n",
      "El valor Licenciado en Traducción y en Periodismo se repite 1 veces.\n",
      "El valor Diseño, MA diseño editorial.  se repite 1 veces.\n",
      "El valor Licenciatura en Filología Hispánica y Máster en Formación del Profesorado se repite 1 veces.\n",
      "El valor Graduado en Administración y Dirección de Empresas se repite 1 veces.\n",
      "El valor Técnico superior comercio internacional  se repite 1 veces.\n",
      "El valor Doctor en Biología se repite 1 veces.\n",
      "El valor Máster Industria Musical se repite 1 veces.\n",
      "El valor Tecnico Superior Integración Social se repite 1 veces.\n",
      "El valor ESO y Auxiliar Veterinaria se repite 1 veces.\n",
      "El valor Trabajo Social  se repite 1 veces.\n",
      "El valor Economista  se repite 1 veces.\n",
      "El valor Licenciatura en Comunicación Audiovisual se repite 1 veces.\n",
      "El valor Técnico Superior que Admon y Finanzas se repite 1 veces.\n",
      "El valor Ing. Informática  se repite 1 veces.\n",
      "El valor Licenciatura en Biotecnología y Master en Biotecnología de la Reproducción Humana Asistida  se repite 1 veces.\n",
      "El valor Sonido se repite 1 veces.\n",
      "El valor Licenciada en Publicidad y Relaciones Públicas se repite 1 veces.\n",
      "El valor Psicoterapia sistémica se repite 1 veces.\n",
      "El valor Doctorado en economía se repite 1 veces.\n",
      "El valor Licenciatura en Ciencias Ambientales se repite 1 veces.\n",
      "El valor Diseño gráfico publicitario se repite 1 veces.\n",
      "El valor Licenciado se repite 1 veces.\n",
      "El valor Publicidad y Relacione Públicas se repite 1 veces.\n",
      "El valor Master en Antropología de Orientación Publica  se repite 1 veces.\n",
      "El valor Doctorado en ciencias sociales aplicadas  se repite 1 veces.\n",
      "El valor Licenciatura en Traducción e Interpretación se repite 1 veces.\n",
      "El valor Ciencias Veterinarias se repite 1 veces.\n",
      "El valor Licenciatura en Historia se repite 1 veces.\n",
      "El valor Grado en Sociología y Ciencias Políticas se repite 1 veces.\n",
      "El valor licenciada se repite 1 veces.\n",
      "El valor FP1(SANITARIA) se repite 1 veces.\n",
      "El valor Cursos privados de maauillaje y peluquería después de la ESO se repite 1 veces.\n",
      "El valor Formación profesional superior en diseño y producción editorial. se repite 1 veces.\n",
      "El valor Técnica en Educación Infantil se repite 1 veces.\n",
      "El valor Lic. Psicología. Máster psicología general sanitaria. se repite 1 veces.\n",
      "El valor Lcda.CC Ambientales se repite 1 veces.\n",
      "El valor Ingeniaría de Telecomunicaciones  se repite 1 veces.\n",
      "El valor Licenciatura y Master se repite 1 veces.\n",
      "El valor Filología Románica y Teoría de la Literatura se repite 1 veces.\n",
      "El valor Musicoterapia  se repite 1 veces.\n",
      "El valor Diplomado en empresariales y 2 másteres  se repite 1 veces.\n",
      "El valor FP2 ilustración y diseño se repite 1 veces.\n",
      "El valor Licenciada en diseño gráfico con maestría en ilustración se repite 1 veces.\n",
      "El valor Filología hispánica  se repite 1 veces.\n",
      "El valor Ciclo superior Técnico de audiovisuales y espectáculos se repite 1 veces.\n",
      "El valor Ingeniero técnico industrial se repite 1 veces.\n",
      "El valor Licenciada en publicidad y rr.pp., máster en fotografía contemporánea, máster en Bellas Artes, actualmente doctoranda en Bellas Artes. se repite 1 veces.\n",
      "El valor Estudios superiores de diseño gráfico y 4 años cursados de Psicología y otros 4 de bellas artes  se repite 1 veces.\n",
      "El valor Hosteleria se repite 1 veces.\n",
      "El valor Gráfica publicitaria, fotografía, máster en marketing estratégico se repite 1 veces.\n",
      "El valor FP superior en Administración de Sistemas Informáticos, Máster en programación Java se repite 1 veces.\n",
      "El valor Llicenciada en derecho se repite 1 veces.\n",
      "El valor Técnico superior ilustración  se repite 1 veces.\n",
      "El valor Grado en Educación Primaria se repite 1 veces.\n",
      "El valor Doctorado en Historía se repite 1 veces.\n",
      "El valor Artes gráficas se repite 1 veces.\n",
      "El valor Licenciada en arte dramático. Escenografía  se repite 1 veces.\n",
      "El valor Psicólogo Educativo  se repite 1 veces.\n",
      "El valor Grado en Química + Máster formación profesorado se repite 1 veces.\n",
      "El valor Estudiando FP grado superior se repite 1 veces.\n",
      "El valor Grado superior administración de sistemas se repite 1 veces.\n",
      "El valor Doble grado en periodismo y comunicación audiovisual se repite 1 veces.\n",
      "El valor Licenciado en Economía, Master dirección de marketing, Máster Marketing digital se repite 1 veces.\n",
      "El valor Grado en Psicología, Máster, Doctorado se repite 1 veces.\n",
      "El valor Postgrado en Psicologia se repite 1 veces.\n",
      "El valor ADE + Comunicación Audiovisual se repite 1 veces.\n",
      "El valor Técnico superior en animación sociocultural y turística se repite 1 veces.\n",
      "El valor Licenciado en Publicidad y Relaciones Públicas se repite 1 veces.\n",
      "El valor Traducción y Profesorado de Secundaria se repite 1 veces.\n",
      "El valor arquitecto se repite 1 veces.\n",
      "El valor Lda Periodismo se repite 1 veces.\n",
      "El valor Fp1 peluquería se repite 1 veces.\n",
      "El valor Bachillerato, Grado superior forestal y grado profesional de musica se repite 1 veces.\n",
      "El valor Magisterio Lengua Extranjera (Inglés) se repite 1 veces.\n",
      "El valor Mecanografía. Modulo de administración, EGB, E.S.O se repite 1 veces.\n",
      "El valor Licenciada en comunicación de masas y multimedia se repite 1 veces.\n",
      "El valor Grado en Estudios de Asia y √Åfrica. Postgrado especialista traductor árabe-español. Mba gestión de empresas e instituciones culturales. se repite 1 veces.\n",
      "El valor Graduada en √ìptica y Optometría se repite 1 veces.\n",
      "El valor Licenciada en BBAA  y  Maestra se repite 1 veces.\n",
      "El valor Diplomados  se repite 1 veces.\n",
      "El valor Doctor Filosofía  se repite 1 veces.\n",
      "El valor Graduada en Matemàticas, graduada en estadística aplicada, máster de estadística e investigación operativa se repite 1 veces.\n",
      "El valor Graduada en Publicidad y Relaciones Públicas se repite 1 veces.\n",
      "El valor Grado universitario de Educación Infantil, Licenciatura en Pedagogía no finalizada, postgrado no oficial en Gestalt para infancia y adolescencia se repite 1 veces.\n",
      "El valor Licenciada en psicología  se repite 1 veces.\n",
      "El valor Técnica superior en Integración Social se repite 1 veces.\n",
      "El valor Desarrollo de Productos Electrónicos FP2 se repite 1 veces.\n",
      "El valor Traducción  se repite 1 veces.\n",
      "El valor Técnico de iluminación se repite 1 veces.\n",
      "El valor FPII Electr√≤nica Industrial se repite 1 veces.\n",
      "El valor Auxiliar enfermería i técnica en farmacia y parafernalia  se repite 1 veces.\n",
      "El valor Máster en Formación del Profesorado se repite 1 veces.\n",
      "El valor Educadora social se repite 1 veces.\n",
      "El valor Máster oficial sanitario se repite 1 veces.\n",
      "El valor sociología, imagen, audiovisuales se repite 1 veces.\n",
      "El valor Grado Biotecnología, Master en Investigación Clínica se repite 1 veces.\n",
      "El valor Licenciatura filosofía se repite 1 veces.\n",
      "El valor Técnico en cuidados auxiliares de enfermería  se repite 1 veces.\n",
      "El valor Grado en Filosofía se repite 1 veces.\n",
      "El valor ingeniero técnico en informática de sistemas se repite 1 veces.\n",
      "El valor Máster Estadística se repite 1 veces.\n",
      "El valor Licenciado geologia se repite 1 veces.\n",
      "El valor SIN ACABAR NINGUNO se repite 1 veces.\n",
      "El valor Tecnología de los alimentos  se repite 1 veces.\n",
      "El valor Graduada en educación primaria especializada en interculturalidad. Estudiando especialización en profesora de música. se repite 1 veces.\n",
      "El valor Grado en psicología  se repite 1 veces.\n",
      "El valor Artes  se repite 1 veces.\n",
      "El valor Licenciatura en Sociología y Master en Educación se repite 1 veces.\n",
      "El valor Ingenieria tecnica industrial esp. Química. Master se repite 1 veces.\n",
      "El valor Ingenieria de edificación  se repite 1 veces.\n",
      "El valor EP Música  se repite 1 veces.\n",
      "El valor Ingeniería técnica + licenciatura se repite 1 veces.\n",
      "El valor Licenciaturas en España y el Francia se repite 1 veces.\n",
      "El valor Licenciatura en Bellas Artes minor en Audiovisual, Máster en dirección de arte en cine, Máster de profesorado ( Antiguo CAP ) se repite 1 veces.\n",
      "El valor Master y cursando doctorado, en biología se repite 1 veces.\n",
      "El valor Historia e Ingeniería de Telecomunicaciones se repite 1 veces.\n",
      "El valor Geografia se repite 1 veces.\n",
      "El valor Licenciado en n Derecho y Master en Bolsa y Mercados Financieros se repite 1 veces.\n",
      "El valor Trabajo social  se repite 1 veces.\n",
      "El valor Información y documentacion se repite 1 veces.\n",
      "El valor Técnica en educación infantil se repite 1 veces.\n",
      "El valor Magisterio y FP interpretación de lengua de signos se repite 1 veces.\n",
      "El valor Técnico Sociosanitario e Integradora Social  se repite 1 veces.\n",
      "El valor Estética y Belleza integral  se repite 1 veces.\n",
      "El valor LADE + Máster formación profesorado + Grado diseño de moda se repite 1 veces.\n",
      "El valor Abogado  se repite 1 veces.\n",
      "El valor Foi grado medio se repite 1 veces.\n",
      "El valor FPGM Cocina y gastronomía se repite 1 veces.\n",
      "El valor Primaria, PCPI auxiliar comercio y almacén, Grado Medio Pre impresión en artes gráficas. se repite 1 veces.\n",
      "El valor Ilustración  se repite 1 veces.\n",
      "El valor Grado maestra de infantil se repite 1 veces.\n",
      "El valor Lda. Biología, Master Educación, Posgrado en Divulgación Científica se repite 1 veces.\n",
      "El valor Ciclo formativo de grado superior higiene bucodental se repite 1 veces.\n",
      "El valor Máster en igualdad de género se repite 1 veces.\n",
      "El valor Tecnico en integración Social. Tecnico sociosanotario se repite 1 veces.\n",
      "El valor Magisterio de Lengua Extranjera se repite 1 veces.\n",
      "El valor Maestra ed.infantil se repite 1 veces.\n",
      "El valor FP Produccion Audiovisual se repite 1 veces.\n",
      "El valor Licenciada en derecho  se repite 1 veces.\n",
      "El valor Técnico en auxiliar administrativo  se repite 1 veces.\n",
      "El valor √öltimo curso de Marketing e investigación de mercados UMA se repite 1 veces.\n",
      "El valor Fisioterapeuta + Master en Osteopatia Estructural se repite 1 veces.\n",
      "El valor Estudios superiores de patronaje se repite 1 veces.\n",
      "El valor Magisterio  se repite 1 veces.\n",
      "El valor Ingeniero informatico se repite 1 veces.\n",
      "El valor Licenciada derecho se repite 1 veces.\n",
      "El valor Dirección y proyectos de obras de decoracion se repite 1 veces.\n",
      "El valor Historia del Arte  se repite 1 veces.\n",
      "El valor Tec. Sup. Integración Social se repite 1 veces.\n",
      "El valor Cursos de maquillaje y caracterización, uñas esculpidas, extensiones de pestañas, efectos especiales en maquillaje.  se repite 1 veces.\n",
      "El valor Grado en Traducción e interpretación se repite 1 veces.\n",
      "El valor Grado en ADE se repite 1 veces.\n",
      "El valor Arquitecto e Ing. Civil se repite 1 veces.\n",
      "El valor Grado en Derecho se repite 1 veces.\n",
      "El valor Magisterio EI se repite 1 veces.\n",
      "El valor Grado en Comunicación Audiovisual + Máster universitario oficial en Contenidos y Formatos Audiovisuakes  se repite 1 veces.\n",
      "El valor Licenciado en Biología se repite 1 veces.\n",
      "El valor Egb y electricidad se repite 1 veces.\n",
      "El valor Lic. En documentación , Master Gestión del Patrimonio y Arqueología se repite 1 veces.\n",
      "El valor Diseño Gráfico se repite 1 veces.\n",
      "El valor T.S Educación Infantil se repite 1 veces.\n",
      "El valor Psicologia se repite 1 veces.\n",
      "El valor Ingeniería informática superior se repite 1 veces.\n",
      "El valor Diplomatura de diseño de moda y accesorios  se repite 1 veces.\n",
      "El valor Periodismo y máster en Marketing se repite 1 veces.\n",
      "El valor Conservatorio se repite 1 veces.\n",
      "El valor Licenciatura Admin. y Direcc. Empresas se repite 1 veces.\n",
      "El valor Secretariado se repite 1 veces.\n",
      "El valor Produccion espectáculos  se repite 1 veces.\n",
      "El valor DEA completado se repite 1 veces.\n",
      "El valor Ingeniería industrial se repite 1 veces.\n",
      "El valor Grado en Publicidad y RRPP se repite 1 veces.\n",
      "El valor Licenciada en Biología se repite 1 veces.\n",
      "El valor Grado magisterio infantil y máster en dificultades de aprendizaje y trastornos del lenguaje  se repite 1 veces.\n",
      "El valor Grado en Composición de Músicas Contemporáneas se repite 1 veces.\n",
      "El valor Grado en Psicología. Máster  en Psicología  clínica, legal y forense. Máster  en gestión,  dirección  y liderazgo de RRHH +PRL. se repite 1 veces.\n",
      "El valor Ingeniería de Caminos, Canales y Puertos se repite 1 veces.\n",
      "El valor Licenciada en Historia del Arte (Geografía e Historia) se repite 1 veces.\n",
      "El valor Bachilletaro, Técnico Superior en Integración Social se repite 1 veces.\n",
      "El valor FP  se repite 1 veces.\n",
      "El valor Ingeniería civil se repite 1 veces.\n",
      "El valor Fp2 administrativo se repite 1 veces.\n",
      "El valor Grado en Turismo  se repite 1 veces.\n",
      "El valor Diseño de moda e Ilustración  se repite 1 veces.\n",
      "El valor Bioquímica  se repite 1 veces.\n",
      "El valor Administración se repite 1 veces.\n",
      "El valor Licenciada en Filología Clásica se repite 1 veces.\n",
      "El valor Licenciatura en Periodismo, postgrado en Diseño gráfico se repite 1 veces.\n",
      "El valor Actualmente, estudiante del Grado de Sociología en la UNED se repite 1 veces.\n",
      "El valor Veterinaria se repite 1 veces.\n",
      "El valor Lda. Filología Francesa/Técnico Comer.Internacional/Máster Profesorado se repite 1 veces.\n",
      "El valor Derecho y Máster en Asesoría Juridica de Empresas  se repite 1 veces.\n",
      "El valor Máster Psicología General Sanitaria se repite 1 veces.\n",
      "El valor Publicidad y Relaciones Públicas  se repite 1 veces.\n",
      "El valor Grado en Ingeniería en Diseño Industrial y Desarrollo del Producto se repite 1 veces.\n",
      "El valor Diplomatura en Relaciones Laborales se repite 1 veces.\n",
      "El valor Administración de empresas se repite 1 veces.\n",
      "El valor Hasta la ESO se repite 1 veces.\n",
      "El valor Grado en Ingeniería Informática  se repite 1 veces.\n",
      "El valor Magisterio Educación Infantil  se repite 1 veces.\n",
      "El valor Traducción e Interpretación se repite 1 veces.\n",
      "El valor Arquitecta con Master de profesorado de Secundaria y FP se repite 1 veces.\n",
      "El valor FP2 Técnica Administrativa se repite 1 veces.\n",
      "El valor Grado en Ade Máster de Estrategia y Marketing de la Empresa  se repite 1 veces.\n",
      "El valor Grado superior comercio internacional  se repite 1 veces.\n",
      "El valor Grado en Historia se repite 1 veces.\n",
      "El valor Diseñadora de moda se repite 1 veces.\n",
      "El valor Diplomatura sin finalizar  se repite 1 veces.\n",
      "El valor Tecnico super de intérprete de lengua de signos española se repite 1 veces.\n",
      "El valor Filología inglesa (Master + doctorado en curso) se repite 1 veces.\n",
      "El valor Formación profesional administrativo se repite 1 veces.\n",
      "El valor Mediación comunicativa se repite 1 veces.\n",
      "El valor Licenciado Superior en Percusión se repite 1 veces.\n",
      "El valor Derecho hasta tercero de grado y actualmente teletrabajando en registro de la propiedad  se repite 1 veces.\n",
      "El valor Técnico Auxliar en curas de enfermetia se repite 1 veces.\n",
      "El valor Audiovisual se repite 1 veces.\n",
      "El valor FP superior se repite 1 veces.\n",
      "El valor Diplomatura Empresariales se repite 1 veces.\n",
      "El valor Psicología  se repite 1 veces.\n",
      "El valor Técnico deportivo se repite 1 veces.\n",
      "El valor Licenciada en comunicación audiovisual  se repite 1 veces.\n",
      "El valor Licenciatura en ciencias de la comunicación se repite 1 veces.\n",
      "El valor Bellas Artes / Master diseño gráfico y nuevas tecnologías informáticas se repite 1 veces.\n",
      "El valor Historia-máster de documentación  se repite 1 veces.\n",
      "El valor Grado en arquitectura  se repite 1 veces.\n",
      "El valor Com.Audiovisual se repite 1 veces.\n",
      "El valor Licenciada en Ciencias Económicas se repite 1 veces.\n",
      "El valor Técnico superior en gráfica publicitaria se repite 1 veces.\n",
      "El valor Doble grado en Derecho y ADE / Máster en Finanzas se repite 1 veces.\n",
      "El valor Fp superior administración y finanzas se repite 1 veces.\n",
      "El valor Técnico Superior en salud ambiental se repite 1 veces.\n",
      "El valor Caracterización, estetica se repite 1 veces.\n",
      "El valor Licenciatura en publicidad y rrpp se repite 1 veces.\n",
      "El valor Maestra de Educación Primaria se repite 1 veces.\n",
      "El valor Protocolo, Organización de Eventos y Comunicación Corporativa se repite 1 veces.\n",
      "El valor TAFAD se repite 1 veces.\n",
      "El valor Fisioterapia se repite 1 veces.\n",
      "El valor Diplomada en Fisioterapia  se repite 1 veces.\n",
      "El valor Filología Inglesa, traducción  se repite 1 veces.\n",
      "El valor Ingeniería en edificación  se repite 1 veces.\n",
      "El valor RRHH se repite 1 veces.\n",
      "El valor Relaciones Laborales se repite 1 veces.\n",
      "El valor Diplomada en enfermeria se repite 1 veces.\n",
      "El valor Maestra de Educación Infantil y Primaria se repite 1 veces.\n",
      "El valor Diseño gráfico/publicidad se repite 1 veces.\n",
      "El valor Fps cerámica artística se repite 1 veces.\n",
      "El valor Diolomatura en Trabajo Social se repite 1 veces.\n",
      "El valor Ciencias Empresariales se repite 1 veces.\n",
      "El valor Maestra especialidad Educación Musical se repite 1 veces.\n",
      "El valor Diplomada en Diseño de Interiores se repite 1 veces.\n",
      "El valor Grado superior ilustración y medio de impresión digital se repite 1 veces.\n",
      "El valor Técnico informático se repite 1 veces.\n",
      "El valor ESO, GRADO medio en Sistemas y Redes, Grado Superior en Desarrollo aplicaciones web y Grado superior en desarrollo aplicaciones Multiplataforma se repite 1 veces.\n",
      "El valor Grado en veterinaria y Máster en seguridad alimentaria se repite 1 veces.\n",
      "El valor Tecnico Deportivo se repite 1 veces.\n",
      "El valor Arquitectura de interiores se repite 1 veces.\n",
      "El valor Licenciada en Publicidad y RRPP se repite 1 veces.\n",
      "El valor Interiorismo  se repite 1 veces.\n",
      "El valor Estética se repite 1 veces.\n",
      "El valor Ilustración. Ciclo de grado superior  se repite 1 veces.\n",
      "El valor Doctora en Microbiología se repite 1 veces.\n",
      "El valor TCAE Y GESTI√ìN ADMINISTRATIVA se repite 1 veces.\n",
      "El valor Técnico superior en sistemas de telecomunicación e informaticos. Técnico superior en realización de audiovisuales. se repite 1 veces.\n",
      "El valor Economía/Postgrado en mercados financieros  se repite 1 veces.\n",
      "El valor Auxiliar de enfermería  se repite 1 veces.\n",
      "El valor Grado superior en administración y finanzas (ciclo superior)  se repite 1 veces.\n"
     ]
    }
   ],
   "source": [
    "i = 8\n",
    "repeated_values = data.iloc[:, i].value_counts()[data.iloc[:, i].value_counts() > 0].index.tolist()\n",
    "for value in repeated_values:\n",
    "  count = data.iloc[:, i].value_counts()[value]\n",
    "  print(f\"El valor {value} se repite {count} veces.\")\n"
   ]
  },
  {
   "cell_type": "markdown",
   "metadata": {
    "id": "cvfZd1phGRoZ"
   },
   "source": [
    "# columnas 9-10 comparamos estructura familiar antes y despues del covid\n",
    "\n",
    "lo hacemos antes de preprocesar las columnas, para ver si cambian las de 'other'"
   ]
  },
  {
   "cell_type": "code",
   "execution_count": 42,
   "metadata": {
    "colab": {
     "base_uri": "https://localhost:8080/"
    },
    "executionInfo": {
     "elapsed": 506,
     "status": "ok",
     "timestamp": 1717951864589,
     "user": {
      "displayName": "BERTA PADILLA BAEZA",
      "userId": "17038178126289984285"
     },
     "user_tz": -120
    },
    "id": "nGW-nqgeTK5_",
    "outputId": "225a127c-c472-49ae-f697-341bfa2eff98"
   },
   "outputs": [
    {
     "name": "stdout",
     "output_type": "stream",
     "text": [
      "769 personas no han cambiado la estructura\n",
      " Hay un 78.39, % que no han cambiado la estructura\n"
     ]
    }
   ],
   "source": [
    "comparando_estructura = (data.iloc[:,9] == data.iloc[:,10]).sum()\n",
    "\n",
    "print(comparando_estructura, 'personas no han cambiado la estructura')\n",
    "\n",
    "# % de NaNs\n",
    "perc_cambio = comparando_estructura * 100/len(data)\n",
    "print(f\" Hay un {perc_cambio:.2f}, % que no han cambiado la estructura\")"
   ]
  },
  {
   "cell_type": "code",
   "execution_count": 43,
   "metadata": {
    "colab": {
     "base_uri": "https://localhost:8080/"
    },
    "executionInfo": {
     "elapsed": 11,
     "status": "ok",
     "timestamp": 1717951864589,
     "user": {
      "displayName": "BERTA PADILLA BAEZA",
      "userId": "17038178126289984285"
     },
     "user_tz": -120
    },
    "id": "RlUq2klMTLiF",
    "outputId": "8b07a78b-e4a1-406b-cb3a-fb60da2d1ee3"
   },
   "outputs": [
    {
     "name": "stdout",
     "output_type": "stream",
     "text": [
      "769 personas no han cambiado la estructura\n",
      "Hay un 78.39% que no han cambiado la estructura\n"
     ]
    }
   ],
   "source": [
    "# Crear la columna de cambio de estructura (0: no cambio, 1: sí cambio)\n",
    "data['Cambio_Estructura_convivencia'] = (data.iloc[:, 9] != data.iloc[:, 10]).astype(int)\n",
    "\n",
    "# Calcular el número de personas que no han cambiado la estructura\n",
    "comparando_estructura = (data['Cambio_Estructura_convivencia'] == 0).sum()\n",
    "print(comparando_estructura, 'personas no han cambiado la estructura')\n",
    "\n",
    "# Calcular el porcentaje de personas que no han cambiado la estructura\n",
    "perc_cambio = comparando_estructura * 100 / len(data)\n",
    "print(f\"Hay un {perc_cambio:.2f}% que no han cambiado la estructura\")\n",
    "\n"
   ]
  },
  {
   "cell_type": "markdown",
   "metadata": {
    "id": "EwIQP1zzUFvj"
   },
   "source": [
    "# Analizamos 9a columna - Eestructura de convivencia  durante los 12 meses ANTERIORES al confinamiento"
   ]
  },
  {
   "cell_type": "code",
   "execution_count": 44,
   "metadata": {
    "colab": {
     "base_uri": "https://localhost:8080/"
    },
    "executionInfo": {
     "elapsed": 9,
     "status": "ok",
     "timestamp": 1717951864589,
     "user": {
      "displayName": "BERTA PADILLA BAEZA",
      "userId": "17038178126289984285"
     },
     "user_tz": -120
    },
    "id": "2cW2jBbvGZq4",
    "outputId": "f4011560-cbc4-4be1-d6d7-5215ed710aeb"
   },
   "outputs": [
    {
     "name": "stdout",
     "output_type": "stream",
     "text": [
      "El valor Pareja se repite 315 veces.\n",
      "El valor Familia propia se repite 202 veces.\n",
      "El valor Solo/a se repite 130 veces.\n",
      "El valor Familia de origen se repite 111 veces.\n",
      "El valor Amigos(as) se repite 63 veces.\n",
      "El valor Compañeros(as) se repite 61 veces.\n",
      "El valor Familia de origen (sólo madre) se repite 29 veces.\n",
      "El valor Con hermanos(as) se repite 10 veces.\n",
      "El valor Con otros(as) familiares se repite 10 veces.\n",
      "El valor Extraños(as) se repite 6 veces.\n",
      "El valor Familia de origen (sólo padre) se repite 3 veces.\n",
      "El valor Con abuelos(as) se repite 2 veces.\n",
      "El valor Madre, Pareja e hija se repite 2 veces.\n",
      "El valor Vivienda tutelada para personas con diversidad funcional  se repite 2 veces.\n",
      "El valor Pareja/ familia y viajes largos se repite 1 veces.\n",
      "El valor Con mis suegros mi pareja mi hija mi cuñada y mi sobrina se repite 1 veces.\n",
      "El valor Hace seis meses en mi lugar de origen con mi familia(ambos padres y hermanos) los últimos 5 meses con extraños compartiendo piso y desde que inició el confinamiento vine a vivir al piso de mis amigos  se repite 1 veces.\n",
      "El valor Padres, hermana y cuñado se repite 1 veces.\n",
      "El valor Con mi hijo y mi hermana se repite 1 veces.\n",
      "El valor Con pareja y sola se repite 1 veces.\n",
      "El valor Con pareja, ruptura y sola se repite 1 veces.\n",
      "El valor Sola cuatro meses previos a la cuarentena, con familia de origen solo madre antes de eso se repite 1 veces.\n",
      "El valor Ex-pareja y familia de origen se repite 1 veces.\n",
      "El valor Madre y hermano se repite 1 veces.\n",
      "El valor Solo y pereja a temporadas se repite 1 veces.\n",
      "El valor En familia hasta febrero 2020. Desde entonces, sola.  se repite 1 veces.\n",
      "El valor tribu se repite 1 veces.\n",
      "El valor Madre, Abuela y hermana se repite 1 veces.\n",
      "El valor Pareja e hijos de mi pareja, fines de semana  se repite 1 veces.\n",
      "El valor Piso compartido se repite 1 veces.\n",
      "El valor 6 meses familia de origen/ 6 meses con amiga se repite 1 veces.\n",
      "El valor Madre y hermana se repite 1 veces.\n",
      "El valor Pareja/ familia de origen se repite 1 veces.\n",
      "El valor Comunidad se repite 1 veces.\n",
      "El valor Casa de padres por ruptura se repite 1 veces.\n",
      "El valor Estuve con mi familia de origen (madre) hasta septiempte que me mude para estudiar con amigas se repite 1 veces.\n",
      "El valor Hermano y madre se repite 1 veces.\n",
      "El valor Separado con hijos se repite 1 veces.\n",
      "El valor Familia de origen, desde octubre sola se repite 1 veces.\n",
      "El valor Mi madre y mi abuelo  se repite 1 veces.\n",
      "El valor Mixto, meses en familia de origen con sólo madre y hermana, luego unos meses en pareja se repite 1 veces.\n",
      "El valor Mirad en pareja, mitad sola se repite 1 veces.\n",
      "El valor Familia propia y padres se repite 1 veces.\n",
      "El valor Familia de Origen con hijo a cargo  se repite 1 veces.\n",
      "El valor Con mi pareja y mis surgros se repite 1 veces.\n",
      "El valor Hermano y novio. se repite 1 veces.\n",
      "El valor Padre y pareja se repite 1 veces.\n",
      "El valor De septiembre'19 a Enero'20 vivi sólo, después con mi padre  se repite 1 veces.\n"
     ]
    }
   ],
   "source": [
    "i = 9\n",
    "repeated_values = data.iloc[:, i].value_counts()[data.iloc[:, i].value_counts() > 0].index.tolist()\n",
    "for value in repeated_values:\n",
    "  count = data.iloc[:, i].value_counts()[value]\n",
    "  print(f\"El valor {value} se repite {count} veces.\")"
   ]
  },
  {
   "cell_type": "code",
   "execution_count": 45,
   "metadata": {
    "colab": {
     "base_uri": "https://localhost:8080/"
    },
    "executionInfo": {
     "elapsed": 6,
     "status": "ok",
     "timestamp": 1717951864589,
     "user": {
      "displayName": "BERTA PADILLA BAEZA",
      "userId": "17038178126289984285"
     },
     "user_tz": -120
    },
    "id": "SZ88OmjqQfMP",
    "outputId": "da22b797-1cc8-48fd-decf-f34a76bdb492"
   },
   "outputs": [
    {
     "name": "stdout",
     "output_type": "stream",
     "text": [
      "El valor Pareja se repite 408 veces - 41.59 %.\n",
      "El valor Familia propia se repite 202 veces - 20.59 %.\n",
      "El valor Solo/a se repite 130 veces - 13.25 %.\n",
      "El valor Familia de origen se repite 111 veces - 11.31 %.\n",
      "El valor Compañeros(as) se repite 67 veces - 6.83 %.\n",
      "El valor Amigos(as) se repite 63 veces - 6.42 %.\n",
      "Hay un 0.00% de casos NaN.\n"
     ]
    }
   ],
   "source": [
    "i = 9\n",
    "\n",
    "data.iloc[:,i] = data.iloc[:,i].replace(\"Extraños(as)\", 'Compañeros(as)')\n",
    "data.iloc[:,i] = data.iloc[:,i].replace(\"Familia de origen (sólo padre)\", ' Familia de origen')\n",
    "data.iloc[:,i] = data.iloc[:,i].replace(\"Familia de origen (sólo madre)\", ' Familia de origen')\n",
    "\n",
    "estructura = ['Solo/a', 'Pareja', 'Familia propia', 'Familia de origen', 'Amigos(as)', 'Compañeros(as)', 'Otros']\n",
    "\n",
    "for j in range(len(data)):\n",
    "  if data.iloc[j,i] not in estructura:\n",
    "    data.iloc[j,i] = 'Pareja'\n",
    "\n",
    "repeated_values = data.iloc[:, i].value_counts()[data.iloc[:, i].value_counts() > 0].index.tolist()\n",
    "for value in repeated_values:\n",
    "  count = data.iloc[:, i].value_counts()[value]\n",
    "  perc = count*100/len(data)\n",
    "  print(f\"El valor {value} se repite {count} veces - {perc:.2f} %.\")\n",
    "\n",
    "# % de NaNs\n",
    "prnan_percentage = data.iloc[:,i].isna().mean() * 100\n",
    "print(f\"Hay un {prnan_percentage:.2f}% de casos NaN.\")"
   ]
  },
  {
   "cell_type": "markdown",
   "metadata": {
    "id": "APABCs0LIFhS"
   },
   "source": [
    "# Analizamos 10a columna - Estructura de convivencia DURANTE el confinamiento\n",
    "\n",
    "Quizás sería interesante valorar si ha habido cambio de estructura de convivencia\n",
    "\n"
   ]
  },
  {
   "cell_type": "code",
   "execution_count": 46,
   "metadata": {
    "colab": {
     "base_uri": "https://localhost:8080/"
    },
    "executionInfo": {
     "elapsed": 481,
     "status": "ok",
     "timestamp": 1717951865067,
     "user": {
      "displayName": "BERTA PADILLA BAEZA",
      "userId": "17038178126289984285"
     },
     "user_tz": -120
    },
    "id": "kEFYevKBIiik",
    "outputId": "aa4f8b76-c4a2-42d3-c8c0-9f6618ab5a57"
   },
   "outputs": [
    {
     "name": "stdout",
     "output_type": "stream",
     "text": [
      "El valor Pareja se repite 342 veces.\n",
      "El valor Familia propia se repite 195 veces.\n",
      "El valor Familia de origen se repite 137 veces.\n",
      "El valor Solo/a se repite 116 veces.\n",
      "El valor Amigos(as) se repite 46 veces.\n",
      "El valor Familia de origen (sólo madre) se repite 36 veces.\n",
      "El valor Compañeros(as) se repite 31 veces.\n",
      "El valor Con otros(as) familiares se repite 10 veces.\n",
      "El valor Con hermanos(as) se repite 9 veces.\n",
      "El valor Familia de origen (sólo padre) se repite 6 veces.\n",
      "El valor Pareja, Madre enhija se repite 2 veces.\n",
      "El valor Vivienda tutelada para personas con diversidad funcional  se repite 2 veces.\n",
      "El valor Con niño de acogida  se repite 2 veces.\n",
      "El valor Mitad sola y mitad acompañada se repite 1 veces.\n",
      "El valor Hermana, hermano y novio. se repite 1 veces.\n",
      "El valor Padre y pareja se repite 1 veces.\n",
      "El valor Madre y hermana se repite 1 veces.\n",
      "El valor Madre, abuela y hermana se repite 1 veces.\n",
      "El valor Mi familia y una amiga qye ha tenido que venir por razones personales  se repite 1 veces.\n",
      "El valor Familia de origen + pareja se repite 1 veces.\n",
      "El valor Padres, hermana y cuñado se repite 1 veces.\n",
      "El valor Con mis suegros mi pareja mi hija y mi sobrina se repite 1 veces.\n",
      "El valor sobrinos  se repite 1 veces.\n",
      "El valor Con abuelos(as) se repite 1 veces.\n",
      "El valor Pareja e hijos de mi pareja una semana cada 15 dias se repite 1 veces.\n",
      "El valor Con mi hijo y mi hermana se repite 1 veces.\n",
      "El valor Familia propia y padres se repite 1 veces.\n",
      "El valor Familoa de origen y mi pareja se repite 1 veces.\n",
      "El valor Madre y hermano se repite 1 veces.\n",
      "El valor Madre + hermana se repite 1 veces.\n",
      "El valor Pareja y amiga se repite 1 veces.\n",
      "El valor Dos meses con familia, ahora con compañeros debido a mi vuelta al trabajo se repite 1 veces.\n",
      "El valor Tuve que volver a casa, con mi madre y mi hermana. se repite 1 veces.\n",
      "El valor Centro especializado en Salud Mental (TCA) se repite 1 veces.\n",
      "El valor Familia propia y madre se repite 1 veces.\n",
      "El valor Pareja, bebé nacido en enero y mis padres se repite 1 veces.\n",
      "El valor SE sumó el padre de mi pareja con nosotros  se repite 1 veces.\n",
      "El valor Extraños(as) se repite 1 veces.\n",
      "El valor Perro se repite 1 veces.\n",
      "El valor Padre. Tía, pareja se repite 1 veces.\n",
      "El valor con pareja sanitaria trabajando 6 dias de 7  hasta hace 3 semanas  que nos hemos separado (no por el confinamiento) se repite 1 veces.\n",
      "El valor Extrañas+ nuevo compañero de trabajo  se repite 1 veces.\n",
      "El valor Comunidad se repite 1 veces.\n",
      "El valor En un centro hospitalario (ITA) se repite 1 veces.\n",
      "El valor Ingreso y luego familia de origen se repite 1 veces.\n",
      "El valor Madre y pareja se repite 1 veces.\n",
      "El valor Más 2 niños, su hijo y sobrino se repite 1 veces.\n",
      "El valor Mi pareja mas 2 personas que no conocía antes se repite 1 veces.\n",
      "El valor Hermano y pareja se repite 1 veces.\n",
      "El valor Hermano y madre se repite 1 veces.\n",
      "El valor Separado con hijos se repite 1 veces.\n",
      "El valor Mi madre y mi abuelo  se repite 1 veces.\n",
      "El valor Pareja y familia política  se repite 1 veces.\n",
      "El valor Amigxs y compañerxs de piso, también dos parejas de compañerxs se repite 1 veces.\n",
      "El valor Familia de Origen con hijo a cargo  se repite 1 veces.\n",
      "El valor Mi pareja y mis suegros se repite 1 veces.\n",
      "El valor Mucha gente. Desde el Sáhara hasta Tarragona, pasando por la familia biológica, he visitado a muchas personas. se repite 1 veces.\n"
     ]
    }
   ],
   "source": [
    "i = 10\n",
    "repeated_values = data.iloc[:, i].value_counts()[data.iloc[:, i].value_counts() > 0].index.tolist()\n",
    "for value in repeated_values:\n",
    "  count = data.iloc[:, i].value_counts()[value]\n",
    "  print(f\"El valor {value} se repite {count} veces.\")"
   ]
  },
  {
   "cell_type": "code",
   "execution_count": 47,
   "metadata": {
    "colab": {
     "base_uri": "https://localhost:8080/"
    },
    "executionInfo": {
     "elapsed": 5,
     "status": "ok",
     "timestamp": 1717951865067,
     "user": {
      "displayName": "BERTA PADILLA BAEZA",
      "userId": "17038178126289984285"
     },
     "user_tz": -120
    },
    "id": "8ZowMbLRS7Je",
    "outputId": "dff7d2eb-0e4a-48c1-a170-c4cfa56f8e71"
   },
   "outputs": [
    {
     "name": "stdout",
     "output_type": "stream",
     "text": [
      "El valor Pareja se repite 455 veces - 46.38 %.\n",
      "El valor Familia propia se repite 195 veces - 19.88 %.\n",
      "El valor Familia de origen se repite 137 veces - 13.97 %.\n",
      "El valor Solo/a se repite 116 veces - 11.82 %.\n",
      "El valor Amigos(as) se repite 46 veces - 4.69 %.\n",
      "El valor Compañeros(as) se repite 32 veces - 3.26 %.\n",
      "Hay un 0.00% de casos NaN.\n"
     ]
    }
   ],
   "source": [
    "i = 10\n",
    "\n",
    "data.iloc[:,i] = data.iloc[:,i].replace(\"Extraños(as)\", 'Compañeros(as)')\n",
    "data.iloc[:,i] = data.iloc[:,i].replace(\"Familia de origen (sólo padre)\", ' Familia de origen')\n",
    "data.iloc[:,i] = data.iloc[:,i].replace(\"Familia de origen (sólo madre)\", ' Familia de origen')\n",
    "\n",
    "\n",
    "estructura = ['Solo/a', 'Pareja', 'Familia propia', 'Familia de origen', 'Amigos(as)', 'Compañeros(as)', 'Otros']\n",
    "\n",
    "for j in range(len(data)):\n",
    "  if data.iloc[j,i] not in estructura:\n",
    "    data.iloc[j,i] = 'Pareja'\n",
    "\n",
    "repeated_values = data.iloc[:, i].value_counts()[data.iloc[:, i].value_counts() > 0].index.tolist()\n",
    "for value in repeated_values:\n",
    "  count = data.iloc[:, i].value_counts()[value]\n",
    "  perc = count*100/len(data)\n",
    "  print(f\"El valor {value} se repite {count} veces - {perc:.2f} %.\")\n",
    "\n",
    "# % de NaNs\n",
    "prnan_percentage = data.iloc[:,i].isna().mean() * 100\n",
    "print(f\"Hay un {prnan_percentage:.2f}% de casos NaN.\")"
   ]
  },
  {
   "cell_type": "markdown",
   "metadata": {
    "id": "3bjco_BWKWfy"
   },
   "source": [
    "# Analizamos 11a columna - Número de MENORES a su cargo DURANTE la cuarentena"
   ]
  },
  {
   "cell_type": "code",
   "execution_count": 48,
   "metadata": {
    "colab": {
     "base_uri": "https://localhost:8080/"
    },
    "executionInfo": {
     "elapsed": 339,
     "status": "ok",
     "timestamp": 1717951865404,
     "user": {
      "displayName": "BERTA PADILLA BAEZA",
      "userId": "17038178126289984285"
     },
     "user_tz": -120
    },
    "id": "WlnYxk1RKVin",
    "outputId": "c72d937e-badf-4deb-d434-2cb7cb56a898"
   },
   "outputs": [
    {
     "name": "stdout",
     "output_type": "stream",
     "text": [
      "El valor 0.0 se repite 687 veces.\n",
      "El valor 1.0 se repite 110 veces.\n",
      "El valor 2.0 se repite 79 veces.\n",
      "El valor 3.0 se repite 12 veces.\n",
      "El valor 21.0 se repite 1 veces.\n"
     ]
    }
   ],
   "source": [
    "i = 11\n",
    "repeated_values = data.iloc[:, i].value_counts()[data.iloc[:, i].value_counts() > 0].index.tolist()\n",
    "for value in repeated_values:\n",
    "  count = data.iloc[:, i].value_counts()[value]\n",
    "  print(f\"El valor {value} se repite {count} veces.\")"
   ]
  },
  {
   "cell_type": "markdown",
   "metadata": {
    "id": "upSfmbv1KkzB"
   },
   "source": [
    "Nos quedamos solo con los valores numéricos.\n",
    "\n",
    "- 21 debe ser un outlier, lo eliminamos?"
   ]
  },
  {
   "cell_type": "code",
   "execution_count": 49,
   "metadata": {
    "colab": {
     "base_uri": "https://localhost:8080/"
    },
    "executionInfo": {
     "elapsed": 11,
     "status": "ok",
     "timestamp": 1717951865405,
     "user": {
      "displayName": "BERTA PADILLA BAEZA",
      "userId": "17038178126289984285"
     },
     "user_tz": -120
    },
    "id": "H-NVby6lK9gD",
    "outputId": "fb53178f-9131-4525-bee8-477172635365"
   },
   "outputs": [
    {
     "name": "stdout",
     "output_type": "stream",
     "text": [
      "El valor 0.0 se repite 780 veces - 79.51 %.\n",
      "El valor 1.0 se repite 110 veces - 11.21 %.\n",
      "El valor 2.0 se repite 79 veces - 8.05 %.\n",
      "El valor 3.0 se repite 12 veces - 1.22 %.\n",
      "Hay un 0.00% de casos NaN.\n"
     ]
    }
   ],
   "source": [
    "# Paso 1: Convertir a numérico, forzar errores a NaN\n",
    "i = 11\n",
    "data.iloc[:, i] = pd.to_numeric(data.iloc[:, i], errors='coerce')\n",
    "\n",
    "# Paso 2: Aplicar las condiciones\n",
    "for j in range(len(data)):\n",
    "    if data.iloc[j, i] > 3 or pd.isna(data.iloc[j, i]):\n",
    "        data.iloc[j, i] = 0\n",
    "    else:\n",
    "        data.iloc[j, i] = int(data.iloc[j, i])\n",
    "\n",
    "# Paso 3: Si aún tienes NaN y deseas convertir a int, puedes llenar los NaN con un valor predeterminado (como 0)\n",
    "data.iloc[:, i] = data.iloc[:, i].fillna(0).astype(int)\n",
    "\n",
    "# Mostrar la cantidad de repeticiones de cada valor\n",
    "repeated_values = data.iloc[:, i].value_counts()[data.iloc[:, i].value_counts() > 0].index.tolist()\n",
    "for value in repeated_values:\n",
    "    count = data.iloc[:, i].value_counts()[value]\n",
    "    perc = count * 100 / len(data)\n",
    "    print(f\"El valor {value} se repite {count} veces - {perc:.2f} %.\")\n",
    "\n",
    "# Calcular el porcentaje de NaNs (esto siempre dará 0% porque ya hemos llenado los NaN)\n",
    "prnan_percentage = data.iloc[:, i].isna().mean() * 100\n",
    "print(f\"Hay un {prnan_percentage:.2f}% de casos NaN.\")\n"
   ]
  },
  {
   "cell_type": "markdown",
   "metadata": {
    "id": "I-oHtXTEMG0Q"
   },
   "source": [
    "# Columna 12 - Número de personas dependientes mayores de 18 años a su cargo\n"
   ]
  },
  {
   "cell_type": "code",
   "execution_count": 50,
   "metadata": {
    "colab": {
     "base_uri": "https://localhost:8080/"
    },
    "executionInfo": {
     "elapsed": 8,
     "status": "ok",
     "timestamp": 1717951865405,
     "user": {
      "displayName": "BERTA PADILLA BAEZA",
      "userId": "17038178126289984285"
     },
     "user_tz": -120
    },
    "id": "j6HgE9ywKkEM",
    "outputId": "eafe1d2d-578d-4790-b7d1-e6174c4657ce"
   },
   "outputs": [
    {
     "name": "stdout",
     "output_type": "stream",
     "text": [
      "El valor 0.0 se repite 775 veces.\n",
      "El valor 1.0 se repite 50 veces.\n",
      "El valor 2.0 se repite 19 veces.\n",
      "El valor 3.0 se repite 5 veces.\n",
      "El valor 4.0 se repite 2 veces.\n"
     ]
    }
   ],
   "source": [
    "i = 12\n",
    "repeated_values = data.iloc[:, i].value_counts()[data.iloc[:, i].value_counts() > 0].index.tolist()\n",
    "for value in repeated_values:\n",
    "  count = data.iloc[:, i].value_counts()[value]\n",
    "  print(f\"El valor {value} se repite {count} veces.\")"
   ]
  },
  {
   "cell_type": "markdown",
   "metadata": {
    "id": "V-fypl64MY04"
   },
   "source": [
    "Nos quedamos solo con los valores numéricos."
   ]
  },
  {
   "cell_type": "code",
   "execution_count": 51,
   "metadata": {
    "colab": {
     "base_uri": "https://localhost:8080/"
    },
    "executionInfo": {
     "elapsed": 301,
     "status": "ok",
     "timestamp": 1717951865702,
     "user": {
      "displayName": "BERTA PADILLA BAEZA",
      "userId": "17038178126289984285"
     },
     "user_tz": -120
    },
    "id": "0iMf3Jb5MaPX",
    "outputId": "b0a65297-7773-444f-83fd-3e7eed02ee22"
   },
   "outputs": [
    {
     "name": "stdout",
     "output_type": "stream",
     "text": [
      "El valor 0.0 se repite 905 veces - 92.25 %.\n",
      "El valor 1.0 se repite 50 veces - 5.10 %.\n",
      "El valor 2.0 se repite 19 veces - 1.94 %.\n",
      "El valor 3.0 se repite 5 veces - 0.51 %.\n",
      "El valor 4.0 se repite 2 veces - 0.20 %.\n",
      "Hay un 0.00% de casos NaN.\n"
     ]
    }
   ],
   "source": [
    "i = 12\n",
    "data.iloc[:,i] = pd.to_numeric(data.iloc[:,i], errors='coerce')\n",
    "\n",
    "for j in range(len(data)):\n",
    "    if data.iloc[j,i]>4 or pd.isna(data.iloc[j,i]):\n",
    "        data.iloc[j,i]=0\n",
    "    else:\n",
    "        data.iloc[j, i] = int(data.iloc[j, i])\n",
    "    \n",
    "    # Paso 3: Si aún tienes NaN y deseas convertir a int, puedes llenar los NaN con un valor predeterminado (como 0)\n",
    "    data.iloc[:, i] = data.iloc[:, i].fillna(0).astype(int)\n",
    "      \n",
    "\n",
    "repeated_values = data.iloc[:, i].value_counts()[data.iloc[:, i].value_counts() > 0].index.tolist()\n",
    "for value in repeated_values:\n",
    "  count = data.iloc[:, i].value_counts()[value]\n",
    "  perc = count*100/len(data)\n",
    "  print(f\"El valor {value} se repite {count} veces - {perc:.2f} %.\")\n",
    "\n",
    "# % de NaNs\n",
    "prnan_percentage = data.iloc[:,i].isna().mean() * 100\n",
    "print(f\"Hay un {prnan_percentage:.2f}% de casos NaN.\")"
   ]
  },
  {
   "cell_type": "markdown",
   "metadata": {
    "id": "Nc7jjtEyMwlQ"
   },
   "source": [
    "# Columna 13 - Con cuánta gente tenía contacto habitualmente en un día normal ANTES  de la cuarentena (incluyendo el hogar, lo laboral, lo social...).\n",
    "\n"
   ]
  },
  {
   "cell_type": "code",
   "execution_count": 52,
   "metadata": {
    "colab": {
     "base_uri": "https://localhost:8080/"
    },
    "executionInfo": {
     "elapsed": 6,
     "status": "ok",
     "timestamp": 1717951865702,
     "user": {
      "displayName": "BERTA PADILLA BAEZA",
      "userId": "17038178126289984285"
     },
     "user_tz": -120
    },
    "id": "P18q5Fr-M7Qw",
    "outputId": "1f7e3e44-73c6-4825-c488-5ab16d38b1ba"
   },
   "outputs": [
    {
     "name": "stdout",
     "output_type": "stream",
     "text": [
      "El valor De 11 a 20 personas se repite 334 veces.\n",
      "El valor De 1 a 10 personas se repite 292 veces.\n",
      "El valor De 21 a 30 personas se repite 156 veces.\n",
      "El valor Más de 50 personas se repite 103 veces.\n",
      "El valor De 31 a 50 personas se repite 89 veces.\n",
      "El valor Ninguna se repite 1 veces.\n"
     ]
    }
   ],
   "source": [
    "i = 13\n",
    "repeated_values = data.iloc[:, i].value_counts()[data.iloc[:, i].value_counts() > 0].index.tolist()\n",
    "for value in repeated_values:\n",
    "  count = data.iloc[:, i].value_counts()[value]\n",
    "  print(f\"El valor {value} se repite {count} veces.\")"
   ]
  },
  {
   "cell_type": "markdown",
   "metadata": {
    "id": "nstC2d-vNEBZ"
   },
   "source": [
    "Mantenemos:\n",
    "- De 1 a 10 personas\n",
    "- De 11 a 20 personas\n",
    "- De 21 a 30 personas\n",
    "- De 31 a 50 personas\n",
    "- Más de 50 personas\n",
    "- Ninguna"
   ]
  },
  {
   "cell_type": "code",
   "execution_count": 53,
   "metadata": {
    "colab": {
     "base_uri": "https://localhost:8080/"
    },
    "executionInfo": {
     "elapsed": 409,
     "status": "ok",
     "timestamp": 1717951866109,
     "user": {
      "displayName": "BERTA PADILLA BAEZA",
      "userId": "17038178126289984285"
     },
     "user_tz": -120
    },
    "id": "mDnWsg3GNCS5",
    "outputId": "ce62546f-e6b1-4697-c635-c26bf04d9397"
   },
   "outputs": [
    {
     "name": "stdout",
     "output_type": "stream",
     "text": [
      "El valor De 11 a 20 personas se repite 334 veces - 34.05 %.\n",
      "El valor De 1 a 10 personas se repite 292 veces - 29.77 %.\n",
      "El valor De 21 a 30 personas se repite 156 veces - 15.90 %.\n",
      "El valor Mas de 50 personas se repite 103 veces - 10.50 %.\n",
      "El valor De 31 a 50 personas se repite 89 veces - 9.07 %.\n",
      "El valor Ninguna se repite 7 veces - 0.71 %.\n",
      "Hay un 0.00% de casos NaN.\n"
     ]
    }
   ],
   "source": [
    "i = 13\n",
    "data.iloc[:,i] = data.iloc[:,i].replace(\"Más de 50 personas\", 'Mas de 50 personas')\n",
    "\n",
    "n_personas = ['De 1 a 10 personas', 'De 11 a 20 personas', 'De 21 a 30 personas', 'De 31 a 50 personas', 'Mas de 50 personas', 'Ninguna']\n",
    "\n",
    "for j in range(len(data)):\n",
    "  if data.iloc[j,i] not in n_personas:\n",
    "    data.iloc[j,i] = 'Ninguna'\n",
    "\n",
    "repeated_values = data.iloc[:, i].value_counts()[data.iloc[:, i].value_counts() > 0].index.tolist()\n",
    "for value in repeated_values:\n",
    "  count = data.iloc[:, i].value_counts()[value]\n",
    "  perc = count*100/len(data)\n",
    "  print(f\"El valor {value} se repite {count} veces - {perc:.2f} %.\")\n",
    "\n",
    "# % de NaNs\n",
    "prnan_percentage = data.iloc[:,i].isna().mean() * 100\n",
    "print(f\"Hay un {prnan_percentage:.2f}% de casos NaN.\")"
   ]
  },
  {
   "cell_type": "markdown",
   "metadata": {
    "id": "ohPDzA-7N185"
   },
   "source": [
    "# Columna 14 - Con cuánta gente tiene/tuvo contacto habitualmente en un día normal DURANTE la cuarentena  (incluyendo el hogar, lo laboral, lo social...)."
   ]
  },
  {
   "cell_type": "code",
   "execution_count": 54,
   "metadata": {
    "colab": {
     "base_uri": "https://localhost:8080/"
    },
    "executionInfo": {
     "elapsed": 6,
     "status": "ok",
     "timestamp": 1717951866109,
     "user": {
      "displayName": "BERTA PADILLA BAEZA",
      "userId": "17038178126289984285"
     },
     "user_tz": -120
    },
    "id": "5Ek1JQCdOCKl",
    "outputId": "10eb0614-05c4-4cdd-aee5-6e710b88f8d3"
   },
   "outputs": [
    {
     "name": "stdout",
     "output_type": "stream",
     "text": [
      "El valor De 1 a 10 personas se repite 804 veces.\n",
      "El valor Ninguna se repite 116 veces.\n",
      "El valor De 11 a 20 personas se repite 26 veces.\n",
      "El valor De 21 a 30 personas se repite 12 veces.\n",
      "El valor Más de 50 personas se repite 11 veces.\n",
      "El valor De 31 a 50 personas se repite 6 veces.\n"
     ]
    }
   ],
   "source": [
    "i = 14\n",
    "repeated_values = data.iloc[:, i].value_counts()[data.iloc[:, i].value_counts() > 0].index.tolist()\n",
    "for value in repeated_values:\n",
    "  count = data.iloc[:, i].value_counts()[value]\n",
    "  print(f\"El valor {value} se repite {count} veces.\")"
   ]
  },
  {
   "cell_type": "code",
   "execution_count": 55,
   "metadata": {
    "colab": {
     "base_uri": "https://localhost:8080/"
    },
    "executionInfo": {
     "elapsed": 366,
     "status": "ok",
     "timestamp": 1717951866472,
     "user": {
      "displayName": "BERTA PADILLA BAEZA",
      "userId": "17038178126289984285"
     },
     "user_tz": -120
    },
    "id": "HQsiVR7hOKpc",
    "outputId": "9d695273-3eee-4865-8c0d-ff557b2ee023"
   },
   "outputs": [
    {
     "name": "stdout",
     "output_type": "stream",
     "text": [
      "El valor De 1 a 10 personas se repite 804 veces - 81.96 %.\n",
      "El valor Ninguna se repite 133 veces - 13.56 %.\n",
      "El valor De 11 a 20 personas se repite 26 veces - 2.65 %.\n",
      "El valor De 21 a 30 personas se repite 12 veces - 1.22 %.\n",
      "El valor De 31 a 50 personas se repite 6 veces - 0.61 %.\n",
      "Hay un 0.00% de casos NaN.\n"
     ]
    }
   ],
   "source": [
    "i = 14\n",
    "data.iloc[:,i] = data.iloc[:,i].replace(\"Más  de 50 personas\", 'Mas de 50 personas')\n",
    "\n",
    "n_personas = ['De 1 a 10 personas', 'De 11 a 20 personas', 'De 21 a 30 personas', 'De 31 a 50 personas', 'Mas de 50 personas', 'Ninguna']\n",
    "\n",
    "for j in range(len(data)):\n",
    "  if data.iloc[j,i] not in n_personas:\n",
    "    data.iloc[j,i] = 'Ninguna'\n",
    "\n",
    "repeated_values = data.iloc[:, i].value_counts()[data.iloc[:, i].value_counts() > 0].index.tolist()\n",
    "for value in repeated_values:\n",
    "  count = data.iloc[:, i].value_counts()[value]\n",
    "  perc = count*100/len(data)\n",
    "  print(f\"El valor {value} se repite {count} veces - {perc:.2f} %.\")\n",
    "\n",
    "# % de NaNs\n",
    "prnan_percentage = data.iloc[:,i].isna().mean() * 100\n",
    "print(f\"Hay un {prnan_percentage:.2f}% de casos NaN.\")"
   ]
  },
  {
   "cell_type": "markdown",
   "metadata": {
    "id": "VIZdbPqv0eJy"
   },
   "source": [
    "# Añadimos columna cambio de N personas relacionadas"
   ]
  },
  {
   "cell_type": "code",
   "execution_count": 56,
   "metadata": {
    "colab": {
     "base_uri": "https://localhost:8080/"
    },
    "executionInfo": {
     "elapsed": 9,
     "status": "ok",
     "timestamp": 1717951866472,
     "user": {
      "displayName": "BERTA PADILLA BAEZA",
      "userId": "17038178126289984285"
     },
     "user_tz": -120
    },
    "id": "qbFhTT-xOXU2",
    "outputId": "9728aef4-7631-4b67-e73f-95f5c7739553"
   },
   "outputs": [
    {
     "name": "stdout",
     "output_type": "stream",
     "text": [
      "769 personas no han cambiado el número de personas con el q se relacionan\n",
      " Hay un 25.59, % que no han cambiado el número de personas de contacto\n"
     ]
    }
   ],
   "source": [
    "#Comparamos antes y despues\n",
    "\n",
    "# Crear la columna de cambio de estructura (0: no cambio, 1: sí cambio)\n",
    "data['Cambio_N_personas_relacion'] = (data.iloc[:, 13] != data.iloc[:, 14]).astype(int)\n",
    "\n",
    "# Calcular el número de personas que no han cambiado\n",
    "comparando_contacto = (data['Cambio_N_personas_relacion'] == 0).sum()\n",
    "print(comparando_estructura, 'personas no han cambiado el número de personas con el q se relacionan')\n",
    "\n",
    "# % de NaNs\n",
    "perc_cambio = comparando_contacto * 100/len(data)\n",
    "print(f\" Hay un {perc_cambio:.2f}, % que no han cambiado el número de personas de contacto\")"
   ]
  },
  {
   "cell_type": "markdown",
   "metadata": {
    "id": "AO9kAAAnOwfW"
   },
   "source": [
    "# Columna 15 - Código Postal durante el confinamiento\n",
    "\n",
    "Eliminar los no numéricos"
   ]
  },
  {
   "cell_type": "code",
   "execution_count": 57,
   "metadata": {
    "colab": {
     "base_uri": "https://localhost:8080/"
    },
    "executionInfo": {
     "elapsed": 1548,
     "status": "ok",
     "timestamp": 1717951868015,
     "user": {
      "displayName": "BERTA PADILLA BAEZA",
      "userId": "17038178126289984285"
     },
     "user_tz": -120
    },
    "id": "daDIFk6sOo23",
    "outputId": "26ba9ee7-dd93-46e7-c816-5420fa21fc0f"
   },
   "outputs": [
    {
     "name": "stdout",
     "output_type": "stream",
     "text": [
      "El valor 28005.0 se repite 20 veces.\n",
      "El valor 28045.0 se repite 19 veces.\n",
      "El valor 29010.0 se repite 15 veces.\n",
      "El valor 28004.0 se repite 15 veces.\n",
      "El valor 28015.0 se repite 14 veces.\n",
      "El valor 28039.0 se repite 13 veces.\n",
      "El valor 28012.0 se repite 11 veces.\n",
      "El valor 29002.0 se repite 10 veces.\n",
      "El valor 28019.0 se repite 10 veces.\n",
      "El valor 29003.0 se repite 8 veces.\n",
      "El valor 29012.0 se repite 8 veces.\n",
      "El valor 28010.0 se repite 8 veces.\n",
      "El valor 28038.0 se repite 7 veces.\n",
      "El valor 28029.0 se repite 7 veces.\n",
      "El valor 28017.0 se repite 7 veces.\n",
      "El valor 8012.0 se repite 7 veces.\n",
      "El valor 8025.0 se repite 7 veces.\n",
      "El valor 28011.0 se repite 7 veces.\n",
      "El valor 28031.0 se repite 7 veces.\n",
      "El valor 28003.0 se repite 7 veces.\n",
      "El valor 29018.0 se repite 7 veces.\n",
      "El valor 50003.0 se repite 6 veces.\n",
      "El valor 28053.0 se repite 6 veces.\n",
      "El valor 29008.0 se repite 6 veces.\n",
      "El valor 28035.0 se repite 6 veces.\n",
      "El valor 8004.0 se repite 6 veces.\n",
      "El valor 29004.0 se repite 6 veces.\n",
      "El valor 29017.0 se repite 6 veces.\n",
      "El valor 28026.0 se repite 5 veces.\n",
      "El valor 28047.0 se repite 5 veces.\n",
      "El valor 29640.0 se repite 5 veces.\n",
      "El valor 29014.0 se repite 5 veces.\n",
      "El valor 28030.0 se repite 5 veces.\n",
      "El valor 29190.0 se repite 5 veces.\n",
      "El valor 28002.0 se repite 5 veces.\n",
      "El valor 28037.0 se repite 5 veces.\n",
      "El valor 29016.0 se repite 5 veces.\n",
      "El valor 28033.0 se repite 5 veces.\n",
      "El valor 28523.0 se repite 5 veces.\n",
      "El valor 28034.0 se repite 5 veces.\n",
      "El valor 28696.0 se repite 5 veces.\n",
      "El valor 28027.0 se repite 5 veces.\n",
      "El valor 33402.0 se repite 4 veces.\n",
      "El valor 28400.0 se repite 4 veces.\n",
      "El valor 29009.0 se repite 4 veces.\n",
      "El valor 28008.0 se repite 4 veces.\n",
      "El valor 41015.0 se repite 4 veces.\n",
      "El valor 29011.0 se repite 4 veces.\n",
      "El valor 30009.0 se repite 4 veces.\n",
      "El valor 29631.0 se repite 4 veces.\n",
      "El valor 29620.0 se repite 4 veces.\n",
      "El valor 9006.0 se repite 4 veces.\n",
      "El valor 39300.0 se repite 4 veces.\n",
      "El valor 8024.0 se repite 4 veces.\n",
      "El valor 28500.0 se repite 4 veces.\n",
      "El valor 29007.0 se repite 4 veces.\n",
      "El valor 46100.0 se repite 4 veces.\n",
      "El valor 28934.0 se repite 4 veces.\n",
      "El valor 28009.0 se repite 4 veces.\n",
      "El valor 28013.0 se repite 4 veces.\n",
      "El valor 28100.0 se repite 4 veces.\n",
      "El valor 29005.0 se repite 3 veces.\n",
      "El valor 29006.0 se repite 3 veces.\n",
      "El valor 8003.0 se repite 3 veces.\n",
      "El valor 33400.0 se repite 3 veces.\n",
      "El valor 46006.0 se repite 3 veces.\n",
      "El valor 8016.0 se repite 3 veces.\n",
      "El valor 8940.0 se repite 3 veces.\n",
      "El valor 33204.0 se repite 3 veces.\n",
      "El valor 28043.0 se repite 3 veces.\n",
      "El valor 28660.0 se repite 3 veces.\n",
      "El valor 8023.0 se repite 3 veces.\n",
      "El valor 28028.0 se repite 3 veces.\n",
      "El valor 28022.0 se repite 3 veces.\n",
      "El valor 28007.0 se repite 3 veces.\n",
      "El valor 28231.0 se repite 3 veces.\n",
      "El valor 28903.0 se repite 3 veces.\n",
      "El valor 28935.0 se repite 3 veces.\n",
      "El valor 29013.0 se repite 3 veces.\n",
      "El valor 8901.0 se repite 3 veces.\n",
      "El valor 8014.0 se repite 3 veces.\n",
      "El valor 28902.0 se repite 3 veces.\n",
      "El valor 30730.0 se repite 3 veces.\n",
      "El valor 28020.0 se repite 3 veces.\n",
      "El valor 21004.0 se repite 3 veces.\n",
      "El valor 50007.0 se repite 3 veces.\n",
      "El valor 29680.0 se repite 3 veces.\n",
      "El valor 28521.0 se repite 3 veces.\n",
      "El valor 28600.0 se repite 3 veces.\n",
      "El valor 8030.0 se repite 3 veces.\n",
      "El valor 28051.0 se repite 3 veces.\n",
      "El valor 13700.0 se repite 3 veces.\n",
      "El valor 46111.0 se repite 2 veces.\n",
      "El valor 10910.0 se repite 2 veces.\n",
      "El valor 28042.0 se repite 2 veces.\n",
      "El valor 8031.0 se repite 2 veces.\n",
      "El valor 30007.0 se repite 2 veces.\n",
      "El valor 30001.0 se repite 2 veces.\n",
      "El valor 28620.0 se repite 2 veces.\n",
      "El valor 18190.0 se repite 2 veces.\n",
      "El valor 15009.0 se repite 2 veces.\n",
      "El valor 28800.0 se repite 2 veces.\n",
      "El valor 28983.0 se repite 2 veces.\n",
      "El valor 28036.0 se repite 2 veces.\n",
      "El valor 41530.0 se repite 2 veces.\n",
      "El valor 37003.0 se repite 2 veces.\n",
      "El valor 15404.0 se repite 2 veces.\n",
      "El valor 41007.0 se repite 2 veces.\n",
      "El valor 0.0 se repite 2 veces.\n",
      "El valor 28938.0 se repite 2 veces.\n",
      "El valor 18100.0 se repite 2 veces.\n",
      "El valor 8402.0 se repite 2 veces.\n",
      "El valor 28140.0 se repite 2 veces.\n",
      "El valor 46021.0 se repite 2 veces.\n",
      "El valor 26580.0 se repite 2 veces.\n",
      "El valor 28915.0 se repite 2 veces.\n",
      "El valor 28320.0 se repite 2 veces.\n",
      "El valor 41003.0 se repite 2 veces.\n",
      "El valor 33405.0 se repite 2 veces.\n",
      "El valor 28021.0 se repite 2 veces.\n",
      "El valor 35507.0 se repite 2 veces.\n",
      "El valor 28044.0 se repite 2 veces.\n",
      "El valor 48930.0 se repite 2 veces.\n",
      "El valor 14800.0 se repite 2 veces.\n",
      "El valor 29700.0 se repite 2 veces.\n",
      "El valor 24401.0 se repite 2 veces.\n",
      "El valor 28232.0 se repite 2 veces.\n",
      "El valor 3600.0 se repite 2 veces.\n",
      "El valor 28912.0 se repite 2 veces.\n",
      "El valor 24010.0 se repite 2 veces.\n",
      "El valor 41002.0 se repite 2 veces.\n",
      "El valor 6800.0 se repite 2 veces.\n",
      "El valor 28006.0 se repite 2 veces.\n",
      "El valor 19004.0 se repite 2 veces.\n",
      "El valor 30012.0 se repite 2 veces.\n",
      "El valor 8013.0 se repite 2 veces.\n",
      "El valor 10002.0 se repite 2 veces.\n",
      "El valor 28904.0 se repite 2 veces.\n",
      "El valor 28041.0 se repite 2 veces.\n",
      "El valor 31621.0 se repite 2 veces.\n",
      "El valor 46003.0 se repite 2 veces.\n",
      "El valor 8032.0 se repite 2 veces.\n",
      "El valor 36001.0 se repite 2 veces.\n",
      "El valor 28806.0 se repite 2 veces.\n",
      "El valor 8026.0 se repite 2 veces.\n",
      "El valor 46134.0 se repite 2 veces.\n",
      "El valor 8042.0 se repite 2 veces.\n",
      "El valor 50004.0 se repite 2 veces.\n",
      "El valor 29130.0 se repite 2 veces.\n",
      "El valor 6380.0 se repite 2 veces.\n",
      "El valor 48902.0 se repite 2 veces.\n",
      "El valor 8225.0 se repite 2 veces.\n",
      "El valor 30011.0 se repite 2 veces.\n",
      "El valor 46022.0 se repite 2 veces.\n",
      "El valor 29720.0 se repite 2 veces.\n",
      "El valor 28918.0 se repite 2 veces.\n",
      "El valor 48100.0 se repite 2 veces.\n",
      "El valor 28229.0 se repite 2 veces.\n",
      "El valor 18300.0 se repite 2 veces.\n",
      "El valor 30500.0 se repite 2 veces.\n",
      "El valor 28023.0 se repite 2 veces.\n",
      "El valor 28046.0 se repite 2 veces.\n",
      "El valor 8028.0 se repite 2 veces.\n",
      "El valor 28032.0 se repite 2 veces.\n",
      "El valor 18013.0 se repite 1 veces.\n",
      "El valor 33450.0 se repite 1 veces.\n",
      "El valor 15630.0 se repite 1 veces.\n",
      "El valor 28901.0 se repite 1 veces.\n",
      "El valor 43005.0 se repite 1 veces.\n",
      "El valor 85858.0 se repite 1 veces.\n",
      "El valor 14900.0 se repite 1 veces.\n",
      "El valor 29651.0 se repite 1 veces.\n",
      "El valor 15402.0 se repite 1 veces.\n",
      "El valor 20230.0 se repite 1 veces.\n",
      "El valor 40420.0 se repite 1 veces.\n",
      "El valor 38036.0 se repite 1 veces.\n",
      "El valor 29342.0 se repite 1 veces.\n",
      "El valor 17007.0 se repite 1 veces.\n",
      "El valor 15320.0 se repite 1 veces.\n",
      "El valor 39004.0 se repite 1 veces.\n",
      "El valor 29639.0 se repite 1 veces.\n",
      "El valor 12100.0 se repite 1 veces.\n",
      "El valor 8440.0 se repite 1 veces.\n",
      "El valor 8140.0 se repite 1 veces.\n",
      "El valor 47012.0 se repite 1 veces.\n",
      "El valor 8750.0 se repite 1 veces.\n",
      "El valor 13270.0 se repite 1 veces.\n",
      "El valor 7340.0 se repite 1 veces.\n",
      "El valor 27002.0 se repite 1 veces.\n",
      "El valor 48600.0 se repite 1 veces.\n",
      "El valor 11007.0 se repite 1 veces.\n",
      "El valor 33420.0 se repite 1 veces.\n",
      "El valor 6010.0 se repite 1 veces.\n",
      "El valor 14120.0 se repite 1 veces.\n",
      "El valor 9140.0 se repite 1 veces.\n",
      "El valor 38300.0 se repite 1 veces.\n",
      "El valor 33208.0 se repite 1 veces.\n",
      "El valor 33600.0 se repite 1 veces.\n",
      "El valor 28054.0 se repite 1 veces.\n",
      "El valor 48006.0 se repite 1 veces.\n",
      "El valor 28921.0 se repite 1 veces.\n",
      "El valor 28250.0 se repite 1 veces.\n",
      "El valor 8036.0 se repite 1 veces.\n",
      "El valor 26005.0 se repite 1 veces.\n",
      "El valor 7300.0 se repite 1 veces.\n",
      "El valor 18003.0 se repite 1 veces.\n",
      "El valor 21007.0 se repite 1 veces.\n",
      "El valor 3801.0 se repite 1 veces.\n",
      "El valor 28411.0 se repite 1 veces.\n",
      "El valor 41009.0 se repite 1 veces.\n",
      "El valor 29500.0 se repite 1 veces.\n",
      "El valor 34004.0 se repite 1 veces.\n",
      "El valor 37007.0 se repite 1 veces.\n",
      "El valor 29714.0 se repite 1 veces.\n",
      "El valor 3203.0 se repite 1 veces.\n",
      "El valor 33589.0 se repite 1 veces.\n",
      "El valor 28049.0 se repite 1 veces.\n",
      "El valor 35006.0 se repite 1 veces.\n",
      "El valor 21002.0 se repite 1 veces.\n",
      "El valor 11406.0 se repite 1 veces.\n",
      "El valor 28802.0 se repite 1 veces.\n",
      "El valor 28055.0 se repite 1 veces.\n",
      "El valor 35240.0 se repite 1 veces.\n",
      "El valor 35004.0 se repite 1 veces.\n",
      "El valor 29780.0 se repite 1 veces.\n",
      "El valor 41927.0 se repite 1 veces.\n",
      "El valor 29590.0 se repite 1 veces.\n",
      "El valor 41010.0 se repite 1 veces.\n",
      "El valor 7817.0 se repite 1 veces.\n",
      "El valor 48903.0 se repite 1 veces.\n",
      "El valor 28703.0 se repite 1 veces.\n",
      "El valor 30005.0 se repite 1 veces.\n",
      "El valor 30565.0 se repite 1 veces.\n",
      "El valor 30310.0 se repite 1 veces.\n",
      "El valor 48001.0 se repite 1 veces.\n",
      "El valor 31180.0 se repite 1 veces.\n",
      "El valor 30506.0 se repite 1 veces.\n",
      "El valor 10394.0 se repite 1 veces.\n",
      "El valor 31008.0 se repite 1 veces.\n",
      "El valor 30840.0 se repite 1 veces.\n",
      "El valor 3013.0 se repite 1 veces.\n",
      "El valor 50017.0 se repite 1 veces.\n",
      "El valor 3003.0 se repite 1 veces.\n",
      "El valor 20011.0 se repite 1 veces.\n",
      "El valor 31015.0 se repite 1 veces.\n",
      "El valor 29200.0 se repite 1 veces.\n",
      "El valor 39012.0 se repite 1 veces.\n",
      "El valor 31620.0 se repite 1 veces.\n",
      "El valor 3509.0 se repite 1 veces.\n",
      "El valor 30006.0 se repite 1 veces.\n",
      "El valor 28941.0 se repite 1 veces.\n",
      "El valor 33416.0 se repite 1 veces.\n",
      "El valor 46700.0 se repite 1 veces.\n",
      "El valor 50019.0 se repite 1 veces.\n",
      "El valor 13001.0 se repite 1 veces.\n",
      "El valor 36391.0 se repite 1 veces.\n",
      "El valor 36004.0 se repite 1 veces.\n",
      "El valor 30150.0 se repite 1 veces.\n",
      "El valor 48004.0 se repite 1 veces.\n",
      "El valor 8027.0 se repite 1 veces.\n",
      "El valor 8018.0 se repite 1 veces.\n",
      "El valor 13670.0 se repite 1 veces.\n",
      "El valor 30562.0 se repite 1 veces.\n",
      "El valor 29630.0 se repite 1 veces.\n",
      "El valor 18690.0 se repite 1 veces.\n",
      "El valor 37008.0 se repite 1 veces.\n",
      "El valor 30820.0 se repite 1 veces.\n",
      "El valor 3e+19 se repite 1 veces.\n",
      "El valor 15001.0 se repite 1 veces.\n",
      "El valor 50014.0 se repite 1 veces.\n",
      "El valor 30739.0 se repite 1 veces.\n",
      "El valor 30161.0 se repite 1 veces.\n",
      "El valor 28110.0 se repite 1 veces.\n",
      "El valor 3540.0 se repite 1 veces.\n",
      "El valor 31001.0 se repite 1 veces.\n",
      "El valor 46184.0 se repite 1 veces.\n",
      "El valor 36209.0 se repite 1 veces.\n",
      "El valor 4005.0 se repite 1 veces.\n",
      "El valor 15679.0 se repite 1 veces.\n",
      "El valor 46950.0 se repite 1 veces.\n",
      "El valor 5635.0 se repite 1 veces.\n",
      "El valor 10140.0 se repite 1 veces.\n",
      "El valor 13500.0 se repite 1 veces.\n",
      "El valor 36213.0 se repite 1 veces.\n",
      "El valor 13005.0 se repite 1 veces.\n",
      "El valor 46019.0 se repite 1 veces.\n",
      "El valor 30579.0 se repite 1 veces.\n",
      "El valor 41020.0 se repite 1 veces.\n",
      "El valor 18014.0 se repite 1 veces.\n",
      "El valor 41008.0 se repite 1 veces.\n",
      "El valor 8391.0 se repite 1 veces.\n",
      "El valor 8198.0 se repite 1 veces.\n",
      "El valor 8191.0 se repite 1 veces.\n",
      "El valor 22420.0 se repite 1 veces.\n",
      "El valor 8401.0 se repite 1 veces.\n",
      "El valor 4460.0 se repite 1 veces.\n",
      "El valor 18001.0 se repite 1 veces.\n",
      "El valor 46120.0 se repite 1 veces.\n",
      "El valor 46018.0 se repite 1 veces.\n",
      "El valor 2400.0 se repite 1 veces.\n",
      "El valor 6300.0 se repite 1 veces.\n",
      "El valor 6120.0 se repite 1 veces.\n",
      "El valor 28936.0 se repite 1 veces.\n",
      "El valor 41110.0 se repite 1 veces.\n",
      "El valor 45006.0 se repite 1 veces.\n",
      "El valor 24391.0 se repite 1 veces.\n",
      "El valor 24004.0 se repite 1 veces.\n",
      "El valor 30107.0 se repite 1 veces.\n",
      "El valor 46900.0 se repite 1 veces.\n",
      "El valor 8015.0 se repite 1 veces.\n",
      "El valor 47008.0 se repite 1 veces.\n",
      "El valor 47004.0 se repite 1 veces.\n",
      "El valor 41950.0 se repite 1 veces.\n",
      "El valor 24008.0 se repite 1 veces.\n",
      "El valor 42153.0 se repite 1 veces.\n",
      "El valor 28922.0 se repite 1 veces.\n",
      "El valor 26329.0 se repite 1 veces.\n",
      "El valor 19003.0 se repite 1 veces.\n",
      "El valor 46460.0 se repite 1 veces.\n",
      "El valor 48992.0 se repite 1 veces.\n",
      "El valor 45290.0 se repite 1 veces.\n",
      "El valor 21003.0 se repite 1 veces.\n",
      "El valor 45340.0 se repite 1 veces.\n",
      "El valor 8110.0 se repite 1 veces.\n",
      "El valor 45960.0 se repite 1 veces.\n",
      "El valor 14920.0 se repite 1 veces.\n",
      "El valor 8904.0 se repite 1 veces.\n",
      "El valor 8011.0 se repite 1 veces.\n",
      "El valor 5480.0 se repite 1 veces.\n",
      "El valor 48196.0 se repite 1 veces.\n",
      "El valor 8240.0 se repite 1 veces.\n",
      "El valor 28760.0 se repite 1 veces.\n",
      "El valor 39770.0 se repite 1 veces.\n",
      "El valor 28880.0 se repite 1 veces.\n",
      "El valor 48700.0 se repite 1 veces.\n",
      "El valor 28109.0 se repite 1 veces.\n",
      "El valor 31004.0 se repite 1 veces.\n",
      "El valor 45686.0 se repite 1 veces.\n",
      "El valor 4760.0 se repite 1 veces.\n",
      "El valor 37006.0 se repite 1 veces.\n",
      "El valor 29738.0 se repite 1 veces.\n",
      "El valor 8593.0 se repite 1 veces.\n",
      "El valor 48901.0 se repite 1 veces.\n",
      "El valor 28937.0 se repite 1 veces.\n",
      "El valor 28050.0 se repite 1 veces.\n",
      "El valor 11202.0 se repite 1 veces.\n",
      "El valor 41920.0 se repite 1 veces.\n",
      "El valor 30510.0 se repite 1 veces.\n",
      "El valor 23400.0 se repite 1 veces.\n",
      "El valor 8310.0 se repite 1 veces.\n",
      "El valor 23002.0 se repite 1 veces.\n",
      "El valor 30400.0 se repite 1 veces.\n",
      "El valor 39700.0 se repite 1 veces.\n",
      "El valor 46176.0 se repite 1 veces.\n",
      "El valor 29001.0 se repite 1 veces.\n",
      "El valor 38206.0 se repite 1 veces.\n",
      "El valor 50006.0 se repite 1 veces.\n",
      "El valor 9002.0 se repite 1 veces.\n",
      "El valor 35070.0 se repite 1 veces.\n",
      "El valor 28925.0 se repite 1 veces.\n",
      "El valor 8224.0 se repite 1 veces.\n",
      "El valor 29591.0 se repite 1 veces.\n",
      "El valor 18004.0 se repite 1 veces.\n",
      "El valor 46930.0 se repite 1 veces.\n",
      "El valor 8329.0 se repite 1 veces.\n",
      "El valor 38360.0 se repite 1 veces.\n",
      "El valor 28648.0 se repite 1 veces.\n",
      "El valor 41907.0 se repite 1 veces.\n",
      "El valor 8029.0 se repite 1 veces.\n",
      "El valor 8860.0 se repite 1 veces.\n",
      "El valor 43820.0 se repite 1 veces.\n",
      "El valor 1400.0 se repite 1 veces.\n",
      "El valor 8041.0 se repite 1 veces.\n",
      "El valor 8208.0 se repite 1 veces.\n",
      "El valor 40194.0 se repite 1 veces.\n",
      "El valor 25003.0 se repite 1 veces.\n",
      "El valor 1001.0 se repite 1 veces.\n",
      "El valor 28905.0 se repite 1 veces.\n",
      "El valor 17530.0 se repite 1 veces.\n",
      "El valor 28931.0 se repite 1 veces.\n",
      "El valor 45530.0 se repite 1 veces.\n",
      "El valor 29690.0 se repite 1 veces.\n",
      "El valor 28280.0 se repite 1 veces.\n",
      "El valor 50002.0 se repite 1 veces.\n",
      "El valor 26004.0 se repite 1 veces.\n",
      "El valor 28220.0 se repite 1 veces.\n",
      "El valor 45004.0 se repite 1 veces.\n",
      "El valor 14840.0 se repite 1 veces.\n",
      "El valor 19174.0 se repite 1 veces.\n",
      "El valor 28470.0 se repite 1 veces.\n",
      "El valor 31016.0 se repite 1 veces.\n",
      "El valor 39350.0 se repite 1 veces.\n",
      "El valor 10300.0 se repite 1 veces.\n",
      "El valor 28770.0 se repite 1 veces.\n",
      "El valor 28933.0 se repite 1 veces.\n",
      "El valor 8903.0 se repite 1 veces.\n",
      "El valor 28018.0 se repite 1 veces.\n",
      "El valor 36207.0 se repite 1 veces.\n",
      "El valor 33209.0 se repite 1 veces.\n",
      "El valor 45860.0 se repite 1 veces.\n",
      "El valor 28016.0 se repite 1 veces.\n",
      "El valor 28200.0 se repite 1 veces.\n",
      "El valor 25500.0 se repite 1 veces.\n",
      "El valor 28024.0 se repite 1 veces.\n",
      "El valor 36202.0 se repite 1 veces.\n",
      "El valor 31014.0 se repite 1 veces.\n",
      "El valor 45100.0 se repite 1 veces.\n",
      "El valor 25199.0 se repite 1 veces.\n",
      "El valor 8788.0 se repite 1 veces.\n",
      "El valor 8038.0 se repite 1 veces.\n",
      "El valor 8759.0 se repite 1 veces.\n",
      "El valor 35018.0 se repite 1 veces.\n",
      "El valor 30870.0 se repite 1 veces.\n",
      "El valor 14014.0 se repite 1 veces.\n",
      "El valor 33940.0 se repite 1 veces.\n",
      "El valor 11203.0 se repite 1 veces.\n",
      "El valor 11550.0 se repite 1 veces.\n",
      "El valor 38296.0 se repite 1 veces.\n",
      "El valor 28300.0 se repite 1 veces.\n",
      "El valor 36900.0 se repite 1 veces.\n",
      "El valor 28942.0 se repite 1 veces.\n",
      "El valor 8120.0 se repite 1 veces.\n",
      "El valor 33430.0 se repite 1 veces.\n",
      "El valor 15007.0 se repite 1 veces.\n",
      "El valor 28751.0 se repite 1 veces.\n",
      "El valor 39640.0 se repite 1 veces.\n",
      "El valor 33006.0 se repite 1 veces.\n",
      "El valor 36003.0 se repite 1 veces.\n",
      "El valor 17130.0 se repite 1 veces.\n",
      "El valor 1300118.0 se repite 1 veces.\n",
      "El valor 18009.0 se repite 1 veces.\n",
      "El valor 24196.0 se repite 1 veces.\n",
      "El valor 11160.0 se repite 1 veces.\n",
      "El valor 8242.0 se repite 1 veces.\n",
      "El valor 14004.0 se repite 1 veces.\n",
      "El valor 8007.0 se repite 1 veces.\n",
      "El valor 50012.0 se repite 1 veces.\n",
      "El valor 8811.0 se repite 1 veces.\n",
      "El valor 28710.0 se repite 1 veces.\n",
      "El valor 32002.0 se repite 1 veces.\n",
      "El valor 19420.0 se repite 1 veces.\n",
      "El valor 45007.0 se repite 1 veces.\n",
      "El valor 11350.0 se repite 1 veces.\n",
      "El valor 46117.0 se repite 1 veces.\n",
      "El valor 3330.0 se repite 1 veces.\n",
      "El valor 8560.0 se repite 1 veces.\n",
      "El valor 33401.0 se repite 1 veces.\n",
      "El valor 3001.0 se repite 1 veces.\n",
      "El valor 28850.0 se repite 1 veces.\n",
      "El valor 28970.0 se repite 1 veces.\n",
      "El valor 8173.0 se repite 1 veces.\n",
      "El valor 11008.0 se repite 1 veces.\n",
      "El valor 24193.0 se repite 1 veces.\n",
      "El valor 33010.0 se repite 1 veces.\n",
      "El valor 36340.0 se repite 1 veces.\n",
      "El valor 33403.0 se repite 1 veces.\n",
      "El valor 7400.0 se repite 1 veces.\n",
      "El valor 18008.0 se repite 1 veces.\n",
      "El valor 8830.0 se repite 1 veces.\n",
      "El valor 18007.0 se repite 1 veces.\n",
      "El valor 49013.0 se repite 1 veces.\n",
      "El valor 8912.0 se repite 1 veces.\n",
      "El valor 8915.0 se repite 1 veces.\n",
      "El valor 27003.0 se repite 1 veces.\n",
      "El valor 28943.0 se repite 1 veces.\n",
      "El valor 8260.0 se repite 1 veces.\n",
      "El valor 15660.0 se repite 1 veces.\n",
      "El valor 51001.0 se repite 1 veces.\n",
      "El valor 33201.0 se repite 1 veces.\n",
      "El valor 29315.0 se repite 1 veces.\n",
      "El valor 41840.0 se repite 1 veces.\n",
      "El valor 28260.0 se repite 1 veces.\n",
      "El valor 39314.0 se repite 1 veces.\n",
      "El valor 31007.0 se repite 1 veces.\n",
      "El valor 45830.0 se repite 1 veces.\n",
      "El valor 8005.0 se repite 1 veces.\n",
      "El valor 38632.0 se repite 1 veces.\n",
      "El valor 50420.0 se repite 1 veces.\n",
      "El valor 28052.0 se repite 1 veces.\n",
      "El valor 8186.0 se repite 1 veces.\n",
      "El valor 29603.0 se repite 1 veces.\n",
      "El valor 28977.0 se repite 1 veces.\n",
      "El valor 31011.0 se repite 1 veces.\n",
      "El valor 33011.0 se repite 1 veces.\n",
      "El valor 28514.0 se repite 1 veces.\n",
      "El valor 50016.0 se repite 1 veces.\n",
      "El valor 39692.0 se repite 1 veces.\n",
      "El valor 28290.0 se repite 1 veces.\n",
      "El valor 33203.0 se repite 1 veces.\n",
      "El valor 28001.0 se repite 1 veces.\n",
      "El valor 7013.0 se repite 1 veces.\n",
      "El valor 27004.0 se repite 1 veces.\n",
      "El valor 28210.0 se repite 1 veces.\n",
      "El valor 8222.0 se repite 1 veces.\n",
      "El valor 18015.0 se repite 1 veces.\n",
      "El valor 50830.0 se repite 1 veces.\n",
      "El valor 35118.0 se repite 1 veces.\n",
      "El valor 38205.0 se repite 1 veces.\n",
      "El valor 33160.0 se repite 1 veces.\n",
      "El valor 13250.0 se repite 1 veces.\n",
      "El valor 8922.0 se repite 1 veces.\n",
      "El valor 8020.0 se repite 1 veces.\n",
      "El valor 18110.0 se repite 1 veces.\n",
      "El valor 46512.0 se repite 1 veces.\n"
     ]
    }
   ],
   "source": [
    "i = 15\n",
    "repeated_values = data.iloc[:, i].value_counts()[data.iloc[:, i].value_counts() > 0].index.tolist()\n",
    "for value in repeated_values:\n",
    "  count = data.iloc[:, i].value_counts()[value]\n",
    "  print(f\"El valor {value} se repite {count} veces.\")"
   ]
  },
  {
   "cell_type": "code",
   "execution_count": 58,
   "metadata": {
    "colab": {
     "base_uri": "https://localhost:8080/"
    },
    "executionInfo": {
     "elapsed": 17,
     "status": "ok",
     "timestamp": 1717951868016,
     "user": {
      "displayName": "BERTA PADILLA BAEZA",
      "userId": "17038178126289984285"
     },
     "user_tz": -120
    },
    "id": "p2ninF3qPJ63",
    "outputId": "b3e09e32-d614-4711-f05c-f9f6a17ee5ae"
   },
   "outputs": [
    {
     "name": "stdout",
     "output_type": "stream",
     "text": [
      "Hay un 0.20% de casos NaN.\n"
     ]
    }
   ],
   "source": [
    "i = 15\n",
    "data.iloc[:,i] = pd.to_numeric(data.iloc[:,i], errors='coerce')\n",
    "\n",
    "# % de NaNs\n",
    "prnan_percentage = data.iloc[:,i].isna().mean() * 100\n",
    "print(f\"Hay un {prnan_percentage:.2f}% de casos NaN.\")"
   ]
  },
  {
   "cell_type": "markdown",
   "metadata": {
    "id": "ig5L6r__PO9a"
   },
   "source": [
    "# Columna 16 - Espacio en el que vive/vivía DURANTE el confinamiento"
   ]
  },
  {
   "cell_type": "code",
   "execution_count": 59,
   "metadata": {
    "colab": {
     "base_uri": "https://localhost:8080/"
    },
    "executionInfo": {
     "elapsed": 9,
     "status": "ok",
     "timestamp": 1717951868016,
     "user": {
      "displayName": "BERTA PADILLA BAEZA",
      "userId": "17038178126289984285"
     },
     "user_tz": -120
    },
    "id": "J4ZUlSeePUCV",
    "outputId": "a495f139-33c7-44c0-df7b-a86c34b3f8be"
   },
   "outputs": [
    {
     "name": "stdout",
     "output_type": "stream",
     "text": [
      "El valor Piso se repite 803 veces.\n",
      "El valor Adosado se repite 83 veces.\n",
      "El valor Chalet se repite 54 veces.\n",
      "El valor Casa de campo se repite 30 veces.\n",
      "El valor Hospital psiquiátrico se repite 4 veces.\n",
      "El valor Residencia/piso protegido se repite 3 veces.\n"
     ]
    }
   ],
   "source": [
    "i = 16\n",
    "repeated_values = data.iloc[:, i].value_counts()[data.iloc[:, i].value_counts() > 0].index.tolist()\n",
    "for value in repeated_values:\n",
    "  count = data.iloc[:, i].value_counts()[value]\n",
    "  print(f\"El valor {value} se repite {count} veces.\")"
   ]
  },
  {
   "cell_type": "markdown",
   "metadata": {
    "id": "DIRTaAYlrY4l"
   },
   "source": [
    "Mantenemos:\n",
    "- Piso\n",
    "- Adosado\n",
    "- Chalet\n",
    "- Casa de campo\n",
    "- Hospital psiquiatrico\n",
    "- residencia/ piso protegido\n"
   ]
  },
  {
   "cell_type": "code",
   "execution_count": 60,
   "metadata": {
    "colab": {
     "base_uri": "https://localhost:8080/"
    },
    "executionInfo": {
     "elapsed": 7,
     "status": "ok",
     "timestamp": 1717951868016,
     "user": {
      "displayName": "BERTA PADILLA BAEZA",
      "userId": "17038178126289984285"
     },
     "user_tz": -120
    },
    "id": "6xnsZg_qrW7H",
    "outputId": "abfc5fd8-96b5-4a26-acd5-691f3f14eb7a"
   },
   "outputs": [
    {
     "name": "stdout",
     "output_type": "stream",
     "text": [
      "El valor Piso se repite 811 veces - 82.67 %.\n",
      "El valor Adosado se repite 83 veces - 8.46 %.\n",
      "El valor Chalet se repite 54 veces - 5.50 %.\n",
      "El valor Casa de campo se repite 30 veces - 3.06 %.\n",
      "El valor Residencia/piso protegido se repite 3 veces - 0.31 %.\n",
      "Hay un 0.00% de casos NaN.\n"
     ]
    }
   ],
   "source": [
    "i = 16\n",
    "data.iloc[:,i] = data.iloc[:,i].replace(\"Hospital psiquiátrico \", 'Hospital psiquiatrico')\n",
    "\n",
    "residencia = ['Piso', 'Adosado', 'Chalet', 'Casa de campo', 'Hospital psiquiatrico', 'Residencia/piso protegido']\n",
    "\n",
    "for j in range(len(data)):\n",
    "  if data.iloc[j,i] not in residencia:\n",
    "    data.iloc[j,i] = 'Piso'\n",
    "\n",
    "repeated_values = data.iloc[:, i].value_counts()[data.iloc[:, i].value_counts() > 0].index.tolist()\n",
    "for value in repeated_values:\n",
    "  count = data.iloc[:, i].value_counts()[value]\n",
    "  perc = count*100/len(data)\n",
    "  print(f\"El valor {value} se repite {count} veces - {perc:.2f} %.\")\n",
    "\n",
    "# % de NaNs\n",
    "prnan_percentage = data.iloc[:,i].isna().mean() * 100\n",
    "print(f\"Hay un {prnan_percentage:.2f}% de casos NaN.\")"
   ]
  },
  {
   "cell_type": "code",
   "execution_count": 61,
   "metadata": {
    "id": "EBnfemV51tY-"
   },
   "outputs": [],
   "source": [
    "for j in range(len(data)):\n",
    "  if data.iloc[j,i] not in residencia:\n",
    "    print(display(data.iloc[j,:]))"
   ]
  },
  {
   "cell_type": "markdown",
   "metadata": {
    "id": "bTUT8uiytqss"
   },
   "source": [
    "# Columna 17 - Dueño de su vivienda o vive alquilado/a"
   ]
  },
  {
   "cell_type": "code",
   "execution_count": 62,
   "metadata": {
    "colab": {
     "base_uri": "https://localhost:8080/"
    },
    "executionInfo": {
     "elapsed": 13,
     "status": "ok",
     "timestamp": 1717951868527,
     "user": {
      "displayName": "BERTA PADILLA BAEZA",
      "userId": "17038178126289984285"
     },
     "user_tz": -120
    },
    "id": "_pWdaniBtsH0",
    "outputId": "401d7571-bab9-4dab-f2f7-cbc6e65c1f49"
   },
   "outputs": [
    {
     "name": "stdout",
     "output_type": "stream",
     "text": [
      "El valor Alquiler (privado) se repite 445 veces.\n",
      "El valor Propiedad privada (familia) se repite 215 veces.\n",
      "El valor Propiedad privada (suya) se repite 211 veces.\n",
      "El valor Sin piso de propiedad ni contrato de alquiler (viviendo en casa de una amistad o familiar, etc.) se repite 80 veces.\n",
      "El valor No procede se repite 16 veces.\n",
      "El valor Alquiler (del estado, piso de protección oficial) se repite 11 veces.\n"
     ]
    }
   ],
   "source": [
    "i = 17\n",
    "repeated_values = data.iloc[:, i].value_counts()[data.iloc[:, i].value_counts() > 0].index.tolist()\n",
    "for value in repeated_values:\n",
    "  count = data.iloc[:, i].value_counts()[value]\n",
    "  print(f\"El valor {value} se repite {count} veces.\")"
   ]
  },
  {
   "cell_type": "markdown",
   "metadata": {
    "id": "f1APq1Sot1UN"
   },
   "source": [
    "Mantenemos:\n",
    "- Alquiler (privado)\n",
    "- Alquiler (del estado, piso de protección oficial)\n",
    "- Propiedad privada (familia)\n",
    "- Propiedad privada (suya)\n",
    "- Sin piso de propiedad ni contrato de alquiler (viviendo en casa de una amistad o familiar, etc.)\n",
    "- No procede\n"
   ]
  },
  {
   "cell_type": "code",
   "execution_count": 63,
   "metadata": {
    "colab": {
     "base_uri": "https://localhost:8080/"
    },
    "executionInfo": {
     "elapsed": 10,
     "status": "ok",
     "timestamp": 1717951868528,
     "user": {
      "displayName": "BERTA PADILLA BAEZA",
      "userId": "17038178126289984285"
     },
     "user_tz": -120
    },
    "id": "PXNyUFc6t06b",
    "outputId": "c3a37e0c-34ae-48cb-942a-361866f67ad6"
   },
   "outputs": [
    {
     "name": "stdout",
     "output_type": "stream",
     "text": [
      "El valor Alquiler (privado) se repite 448 veces - 45.67 %.\n",
      "El valor Propiedad privada (familia) se repite 215 veces - 21.92 %.\n",
      "El valor Propiedad privada (suya) se repite 211 veces - 21.51 %.\n",
      "El valor Sin piso de propiedad ni contrato de alquiler (viviendo en casa de una amistad o familiar, etc.) se repite 80 veces - 8.15 %.\n",
      "El valor No procede se repite 16 veces - 1.63 %.\n",
      "El valor Alquiler (del estado, piso de proteccion oficial) se repite 11 veces - 1.12 %.\n",
      "Hay un 0.00% de casos NaN.\n"
     ]
    }
   ],
   "source": [
    "i = 17\n",
    "data.iloc[:,i] = data.iloc[:,i].replace(\"Alquiler (del estado, piso de protección oficial)\", 'Alquiler (del estado, piso de proteccion oficial)')\n",
    "\n",
    "propiedad = ['Alquiler (privado)', 'Alquiler (del estado, piso de proteccion oficial)', 'Propiedad privada (familia)', 'Propiedad privada (suya)', 'Sin piso de propiedad ni contrato de alquiler (viviendo en casa de una amistad o familiar, etc.)', 'No procede']\n",
    "\n",
    "for j in range(len(data)):\n",
    "  if data.iloc[j,i] not in propiedad:\n",
    "    data.iloc[j,i] = 'Alquiler (privado)'\n",
    "\n",
    "repeated_values = data.iloc[:, i].value_counts()[data.iloc[:, i].value_counts() > 0].index.tolist()\n",
    "for value in repeated_values:\n",
    "  count = data.iloc[:, i].value_counts()[value]\n",
    "  perc = count*100/len(data)\n",
    "  print(f\"El valor {value} se repite {count} veces - {perc:.2f} %.\")\n",
    "\n",
    "# % de NaNs\n",
    "prnan_percentage = data.iloc[:,i].isna().mean() * 100\n",
    "print(f\"Hay un {prnan_percentage:.2f}% de casos NaN.\")"
   ]
  },
  {
   "cell_type": "code",
   "execution_count": 64,
   "metadata": {
    "id": "qVEqGwFh2eVn"
   },
   "outputs": [],
   "source": [
    "for j in range(len(data)):\n",
    "  if data.iloc[j,i] not in propiedad:\n",
    "    print(display(data.iloc[j,:]))"
   ]
  },
  {
   "cell_type": "markdown",
   "metadata": {
    "id": "xZD1ZM8Gu7pV"
   },
   "source": [
    "# Columna 18 - Metros cuadrados útiles (los que puede pisar) tiene/tenía su espacio de residencia DURANTE la cuarentena?\n"
   ]
  },
  {
   "cell_type": "code",
   "execution_count": 65,
   "metadata": {
    "colab": {
     "base_uri": "https://localhost:8080/"
    },
    "executionInfo": {
     "elapsed": 7,
     "status": "ok",
     "timestamp": 1717951868528,
     "user": {
      "displayName": "BERTA PADILLA BAEZA",
      "userId": "17038178126289984285"
     },
     "user_tz": -120
    },
    "id": "dOBiNgy3vNkb",
    "outputId": "e52cff5a-76ff-4f41-9280-7ebb0b58b433"
   },
   "outputs": [
    {
     "name": "stdout",
     "output_type": "stream",
     "text": [
      "El valor 76 a 90 metros cuadrados se repite 204 veces.\n",
      "El valor 46 a 60 metros cuadrados se repite 165 veces.\n",
      "El valor 61 a 75 metros cuadrados se repite 157 veces.\n",
      "El valor 91 a 105 metros cuadrados se repite 104 veces.\n",
      "El valor 30 a 45 metros cuadrados se repite 103 veces.\n",
      "El valor 106 a 120 metros cuadrados se repite 78 veces.\n",
      "El valor Más de 180 metros cuadrados se repite 71 veces.\n",
      "El valor 121 a 150 metros cuadrados se repite 41 veces.\n",
      "El valor 151 a 180 metros cuadrados se repite 29 veces.\n",
      "El valor Menos de 30 metros cuadrados se repite 21 veces.\n"
     ]
    }
   ],
   "source": [
    "i = 18\n",
    "repeated_values = data.iloc[:, i].value_counts()[data.iloc[:, i].value_counts() > 0].index.tolist()\n",
    "for value in repeated_values:\n",
    "  count = data.iloc[:, i].value_counts()[value]\n",
    "  print(f\"El valor {value} se repite {count} veces.\")"
   ]
  },
  {
   "cell_type": "markdown",
   "metadata": {
    "id": "5yKHmryUved0"
   },
   "source": [
    "Mantenemos:\n",
    "- Menos de 30 metros cuadrados\n",
    "- 30 a 45 metros cuadrados\n",
    "- 46 a 60 metros cuadrados\n",
    "- 61 a 75 metros cuadrados\n",
    "- 76 a 90 metros cuadrados\n",
    "- 91 a 105 metros cuadrados\n",
    "- 106 a 120 metros cuadrados\n",
    "- 121 a 150 metros cuadrados\n",
    "- 151 a 180 metros cuadrados\n",
    "- Mas de 180 metros cuadrados"
   ]
  },
  {
   "cell_type": "code",
   "execution_count": 66,
   "metadata": {
    "colab": {
     "base_uri": "https://localhost:8080/"
    },
    "executionInfo": {
     "elapsed": 318,
     "status": "ok",
     "timestamp": 1717951868841,
     "user": {
      "displayName": "BERTA PADILLA BAEZA",
      "userId": "17038178126289984285"
     },
     "user_tz": -120
    },
    "id": "7u9P5Q1JvNFz",
    "outputId": "c80718a8-37f1-46b4-c182-9122c12ea729"
   },
   "outputs": [
    {
     "name": "stdout",
     "output_type": "stream",
     "text": [
      "El valor 76 a 90 metros cuadrados se repite 212 veces - 21.61 %.\n",
      "El valor 46 a 60 metros cuadrados se repite 165 veces - 16.82 %.\n",
      "El valor 61 a 75 metros cuadrados se repite 157 veces - 16.00 %.\n",
      "El valor 91 a 105 metros cuadrados se repite 104 veces - 10.60 %.\n",
      "El valor 30 a 45 metros cuadrados se repite 103 veces - 10.50 %.\n",
      "El valor 106 a 120 metros cuadrados se repite 78 veces - 7.95 %.\n",
      "El valor Mas de 180 metros cuadrados se repite 71 veces - 7.24 %.\n",
      "El valor 121 a 150 metros cuadrados se repite 41 veces - 4.18 %.\n",
      "El valor 151 a 180 metros cuadrados se repite 29 veces - 2.96 %.\n",
      "El valor Menos de 30 metros cuadrados se repite 21 veces - 2.14 %.\n",
      "Hay un 0.00% de casos NaN.\n"
     ]
    }
   ],
   "source": [
    "i = 18\n",
    "data.iloc[:,i] = data.iloc[:,i].replace(\"Más de 180 metros cuadrados\", 'Mas de 180 metros cuadrados')\n",
    "\n",
    "metros_cuad = ['Menos de 30 metros cuadrados', '30 a 45 metros cuadrados', '46 a 60 metros cuadrados', '61 a 75 metros cuadrados', '76 a 90 metros cuadrados', '91 a 105 metros cuadrados', '106 a 120 metros cuadrados', '121 a 150 metros cuadrados', '151 a 180 metros cuadrados', 'Mas de 180 metros cuadrados' ]\n",
    "\n",
    "for j in range(len(data)):\n",
    "  if data.iloc[j,i] not in metros_cuad:\n",
    "    data.iloc[j,i] = '76 a 90 metros cuadrados'\n",
    "\n",
    "repeated_values = data.iloc[:, i].value_counts()[data.iloc[:, i].value_counts() > 0].index.tolist()\n",
    "for value in repeated_values:\n",
    "  count = data.iloc[:, i].value_counts()[value]\n",
    "  perc = count*100/len(data)\n",
    "  print(f\"El valor {value} se repite {count} veces - {perc:.2f} %.\")\n",
    "\n",
    "# % de NaNs\n",
    "prnan_percentage = data.iloc[:,i].isna().mean() * 100\n",
    "print(f\"Hay un {prnan_percentage:.2f}% de casos NaN.\")"
   ]
  },
  {
   "cell_type": "code",
   "execution_count": 67,
   "metadata": {
    "id": "_e5ZbZTf3dkx"
   },
   "outputs": [],
   "source": [
    "for j in range(len(data)):\n",
    "  if data.iloc[j,i] not in metros_cuad:\n",
    "    print(display(data.iloc[j,:]))"
   ]
  },
  {
   "cell_type": "markdown",
   "metadata": {
    "id": "cbt3xic9wTL1"
   },
   "source": [
    "# Columna 19 - Diria que su espacio de residencia DURANTE la cuarentena tiene:"
   ]
  },
  {
   "cell_type": "code",
   "execution_count": 68,
   "metadata": {
    "colab": {
     "base_uri": "https://localhost:8080/"
    },
    "executionInfo": {
     "elapsed": 6,
     "status": "ok",
     "timestamp": 1717951868841,
     "user": {
      "displayName": "BERTA PADILLA BAEZA",
      "userId": "17038178126289984285"
     },
     "user_tz": -120
    },
    "id": "iNwVS8uXwt4F",
    "outputId": "b0d0d5a9-9624-4ef6-8ec7-5b818cf3b4f5"
   },
   "outputs": [
    {
     "name": "stdout",
     "output_type": "stream",
     "text": [
      "El valor Mucha luz natural se repite 560 veces.\n",
      "El valor Luz natural media se repite 345 veces.\n",
      "El valor Poca luz natural se repite 74 veces.\n"
     ]
    }
   ],
   "source": [
    "i = 19\n",
    "repeated_values = data.iloc[:, i].value_counts()[data.iloc[:, i].value_counts() > 0].index.tolist()\n",
    "for value in repeated_values:\n",
    "  count = data.iloc[:, i].value_counts()[value]\n",
    "  print(f\"El valor {value} se repite {count} veces.\")"
   ]
  },
  {
   "cell_type": "markdown",
   "metadata": {
    "id": "XwLaC13bwwpW"
   },
   "source": [
    "Mantenemos:\n",
    "- Poca luz natural\n",
    "- Luz natural media\n",
    "- Mucha luz natural"
   ]
  },
  {
   "cell_type": "code",
   "execution_count": 69,
   "metadata": {
    "colab": {
     "base_uri": "https://localhost:8080/"
    },
    "executionInfo": {
     "elapsed": 295,
     "status": "ok",
     "timestamp": 1717951869133,
     "user": {
      "displayName": "BERTA PADILLA BAEZA",
      "userId": "17038178126289984285"
     },
     "user_tz": -120
    },
    "id": "vvox5HaKytXX",
    "outputId": "d1c59d43-856a-4736-d862-691b5e78fc8c"
   },
   "outputs": [
    {
     "name": "stdout",
     "output_type": "stream",
     "text": [
      "El valor Mucha luz natural se repite 562 veces - 57.29 %.\n",
      "El valor Luz natural media se repite 345 veces - 35.17 %.\n",
      "El valor Poca luz natural se repite 74 veces - 7.54 %.\n",
      "Hay un 0.00% de casos NaN.\n"
     ]
    }
   ],
   "source": [
    "i = 19\n",
    "\n",
    "luz = ['Poca luz natural', 'Luz natural media', 'Mucha luz natural']\n",
    "\n",
    "for j in range(len(data)):\n",
    "  if data.iloc[j,i] not in luz:\n",
    "    data.iloc[j,i] = 'Mucha luz natural'\n",
    "\n",
    "repeated_values = data.iloc[:, i].value_counts()[data.iloc[:, i].value_counts() > 0].index.tolist()\n",
    "for value in repeated_values:\n",
    "  count = data.iloc[:, i].value_counts()[value]\n",
    "  perc = count*100/len(data)\n",
    "  print(f\"El valor {value} se repite {count} veces - {perc:.2f} %.\")\n",
    "\n",
    "# % de NaNs\n",
    "prnan_percentage = data.iloc[:,i].isna().mean() * 100\n",
    "print(f\"Hay un {prnan_percentage:.2f}% de casos NaN.\")"
   ]
  },
  {
   "cell_type": "code",
   "execution_count": 70,
   "metadata": {
    "id": "5P8Z7su7w6Vr"
   },
   "outputs": [],
   "source": [
    "for j in range(len(data)):\n",
    "  if data.iloc[j,i] not in luz:\n",
    "    print(display(data.iloc[j,:]))"
   ]
  },
  {
   "cell_type": "markdown",
   "metadata": {
    "id": "-kJUSOq7zMW1"
   },
   "source": [
    "# Columna 20 - Diría que su espacio de residencia DURANTE la cuarentena tiene:"
   ]
  },
  {
   "cell_type": "code",
   "execution_count": 71,
   "metadata": {
    "colab": {
     "base_uri": "https://localhost:8080/"
    },
    "executionInfo": {
     "elapsed": 382,
     "status": "ok",
     "timestamp": 1717951869510,
     "user": {
      "displayName": "BERTA PADILLA BAEZA",
      "userId": "17038178126289984285"
     },
     "user_tz": -120
    },
    "id": "BNI3kJ66zWS4",
    "outputId": "368faef9-a941-447a-95f5-74fe1338c493"
   },
   "outputs": [
    {
     "name": "stdout",
     "output_type": "stream",
     "text": [
      "El valor Mucha ventilación se repite 628 veces.\n",
      "El valor Ventilación media se repite 319 veces.\n",
      "El valor Poca ventilación se repite 31 veces.\n"
     ]
    }
   ],
   "source": [
    "i = 20\n",
    "repeated_values = data.iloc[:, i].value_counts()[data.iloc[:, i].value_counts() > 0].index.tolist()\n",
    "for value in repeated_values:\n",
    "  count = data.iloc[:, i].value_counts()[value]\n",
    "  print(f\"El valor {value} se repite {count} veces.\")"
   ]
  },
  {
   "cell_type": "markdown",
   "metadata": {
    "id": "fR1vPcDDzYBy"
   },
   "source": [
    "Mantenemos:\n",
    "- Mucha ventilación\n",
    "- Ventilación media\n",
    "- Poca ventilación\n"
   ]
  },
  {
   "cell_type": "code",
   "execution_count": 72,
   "metadata": {
    "colab": {
     "base_uri": "https://localhost:8080/"
    },
    "executionInfo": {
     "elapsed": 11,
     "status": "ok",
     "timestamp": 1717951869510,
     "user": {
      "displayName": "BERTA PADILLA BAEZA",
      "userId": "17038178126289984285"
     },
     "user_tz": -120
    },
    "id": "u0z19vgjE_ID",
    "outputId": "413ac977-444e-4417-bc0b-20788db515b2"
   },
   "outputs": [
    {
     "name": "stdout",
     "output_type": "stream",
     "text": [
      "El valor Mucha ventilacion se repite 631 veces - 64.32 %.\n",
      "El valor Ventilacion media se repite 319 veces - 32.52 %.\n",
      "El valor Poca ventilacion se repite 31 veces - 3.16 %.\n",
      "Hay un 0.00% de casos NaN.\n"
     ]
    }
   ],
   "source": [
    "i = 20\n",
    "\n",
    "data.iloc[:,i] = data.iloc[:,i].replace(\"Mucha ventilación\", 'Mucha ventilacion')\n",
    "data.iloc[:,i] = data.iloc[:,i].replace(\"Ventilación media\", 'Ventilacion media')\n",
    "data.iloc[:,i] = data.iloc[:,i].replace(\"Poca ventilación\", 'Poca ventilacion')\n",
    "\n",
    "\n",
    "ventilacion = ['Mucha ventilacion', 'Ventilacion media', 'Poca ventilacion']\n",
    "\n",
    "\n",
    "for j in range(len(data)):\n",
    "  if data.iloc[j,i] not in ventilacion:\n",
    "    data.iloc[j,i] = 'Mucha ventilacion'\n",
    "\n",
    "repeated_values = data.iloc[:, i].value_counts()[data.iloc[:, i].value_counts() > 0].index.tolist()\n",
    "for value in repeated_values:\n",
    "  count = data.iloc[:, i].value_counts()[value]\n",
    "  perc = count*100/len(data)\n",
    "  print(f\"El valor {value} se repite {count} veces - {perc:.2f} %.\")\n",
    "\n",
    "# % de NaNs\n",
    "prnan_percentage = data.iloc[:,i].isna().mean() * 100\n",
    "print(f\"Hay un {prnan_percentage:.2f}% de casos NaN.\")"
   ]
  },
  {
   "cell_type": "markdown",
   "metadata": {
    "id": "4PZEUWcJF1PP"
   },
   "source": [
    "# Columna 21 - Por favor indique si existen/existían estos elementos en su espacio de residencia DURANTE la cuarentena:"
   ]
  },
  {
   "cell_type": "code",
   "execution_count": 73,
   "metadata": {
    "colab": {
     "base_uri": "https://localhost:8080/"
    },
    "executionInfo": {
     "elapsed": 7,
     "status": "ok",
     "timestamp": 1717951869510,
     "user": {
      "displayName": "BERTA PADILLA BAEZA",
      "userId": "17038178126289984285"
     },
     "user_tz": -120
    },
    "id": "0VMGFjO6F_9p",
    "outputId": "80f958d2-c955-41e0-cea6-4ed01f89ab39"
   },
   "outputs": [
    {
     "name": "stdout",
     "output_type": "stream",
     "text": [
      "El valor Ventana se repite 252 veces.\n",
      "El valor Ventana, Balcón privado se repite 162 veces.\n",
      "El valor Ventana, Terraza privada se repite 90 veces.\n",
      "El valor Ventana: sí/no se repite 67 veces.\n",
      "El valor Terraza privada se repite 52 veces.\n",
      "El valor Balcón privado se repite 50 veces.\n",
      "El valor Ventana: sí/no, Balcón privado se repite 50 veces.\n",
      "El valor Ventana, Balcón privado, Terraza privada se repite 50 veces.\n",
      "El valor Ventana: sí/no, Terraza privada se repite 35 veces.\n",
      "El valor Jardín privado se repite 19 veces.\n",
      "El valor Ventana, Terraza privada, Jardín privado se repite 18 veces.\n",
      "El valor Ventana, Balcón privado, Terraza privada, Jardín privado, Terreno privado al aire libre se repite 14 veces.\n",
      "El valor Ventana, Balcón privado, Terraza privada, Jardín privado se repite 14 veces.\n",
      "El valor Ventana: sí/no, Balcón privado, Terraza privada se repite 11 veces.\n",
      "El valor Ventana, Jardín privado se repite 10 veces.\n",
      "El valor Terreno privado al aire libre se repite 10 veces.\n",
      "El valor Ventana, Jardín privado, Terreno privado al aire libre se repite 9 veces.\n",
      "El valor Ventana, Balcón privado, Terraza privada, Terreno privado al aire libre se repite 5 veces.\n",
      "El valor Ventana: sí/no, Jardín privado se repite 5 veces.\n",
      "El valor Ventana, Terraza privada, Jardín privado, Terreno privado al aire libre se repite 5 veces.\n",
      "El valor Ventana: sí/no, Terraza privada, Jardín privado, Terreno privado al aire libre se repite 4 veces.\n",
      "El valor Ventana, Terraza privada, Terreno privado al aire libre se repite 4 veces.\n",
      "El valor Ventana: sí/no, Balcón privado, Terraza privada, Jardín privado se repite 4 veces.\n",
      "El valor Ventana: sí/no, Balcón privado, Jardín privado se repite 4 veces.\n",
      "El valor Jardín privado, Terreno privado al aire libre se repite 4 veces.\n",
      "El valor Ventana, Terreno privado al aire libre se repite 3 veces.\n",
      "El valor Ventana, Balcón privado, Jardín privado se repite 3 veces.\n",
      "El valor Ventana, Balcón privado, Terreno privado al aire libre se repite 3 veces.\n",
      "El valor Balcón privado, Terraza privada se repite 3 veces.\n",
      "El valor Ventana: sí/no, Balcón privado, Terraza privada, Jardín privado, Terreno privado al aire libre se repite 3 veces.\n",
      "El valor Ventana: sí/no, Terraza privada, Jardín privado se repite 3 veces.\n",
      "El valor Ventana, Balcón privado, Jardín privado, Terreno privado al aire libre se repite 2 veces.\n",
      "El valor Ventana: sí/no, Terreno privado al aire libre se repite 2 veces.\n",
      "El valor Ventana: sí/no, Terraza privada, Terreno privado al aire libre se repite 2 veces.\n",
      "El valor Terraza privada, Jardín privado se repite 2 veces.\n",
      "El valor Ventana: sí/no, Jardín privado, Terreno privado al aire libre se repite 1 veces.\n",
      "El valor Balcón privado, Terraza privada, Jardín privado se repite 1 veces.\n"
     ]
    }
   ],
   "source": [
    "i = 21\n",
    "repeated_values = data.iloc[:, i].value_counts()[data.iloc[:, i].value_counts() > 0].index.tolist()\n",
    "for value in repeated_values:\n",
    "  count = data.iloc[:, i].value_counts()[value]\n",
    "  print(f\"El valor {value} se repite {count} veces.\")"
   ]
  },
  {
   "cell_type": "code",
   "execution_count": 74,
   "metadata": {
    "id": "jGajtVRHy4Fm"
   },
   "outputs": [],
   "source": [
    "valores= ['Ventana', 'Balcón  privado','Terraza privada', 'Jardín privado', 'Terreno privado al aire libre' ]\n",
    "\n",
    "# Crear columnas para cada valor y inicializarlas en 0\n",
    "for valor in valores:\n",
    "    data[valor] = 0\n",
    "\n",
    "# Crear una columna para cada valor y marcar con 1 si el valor está presente en la columna original\n",
    "for j in range(len(data)):\n",
    "    for valor in valores:\n",
    "        if str(valor) in str(data.iloc[j, i]):\n",
    "            data.at[j, valor] = 1\n"
   ]
  },
  {
   "cell_type": "markdown",
   "metadata": {
    "id": "vFNTcXYHF_wV"
   },
   "source": [
    "muchos valores"
   ]
  },
  {
   "cell_type": "markdown",
   "metadata": {
    "id": "sXPHAwK6GJ_f"
   },
   "source": [
    "# Columna 22 - Teniendo en mente su lugar de residencia DURANTE el confinamiento, por favor, indique. Número de habitaciones sin contar baño y cocina:"
   ]
  },
  {
   "cell_type": "code",
   "execution_count": 75,
   "metadata": {
    "colab": {
     "base_uri": "https://localhost:8080/"
    },
    "executionInfo": {
     "elapsed": 8,
     "status": "ok",
     "timestamp": 1717951870254,
     "user": {
      "displayName": "BERTA PADILLA BAEZA",
      "userId": "17038178126289984285"
     },
     "user_tz": -120
    },
    "id": "rR9Yoz8VGTwQ",
    "outputId": "41882733-31c7-4990-ef53-28cfd9c4e97a"
   },
   "outputs": [
    {
     "name": "stdout",
     "output_type": "stream",
     "text": [
      "El valor 3.0 se repite 325 veces.\n",
      "El valor 4.0 se repite 247 veces.\n",
      "El valor 2.0 se repite 168 veces.\n",
      "El valor 5.0 se repite 101 veces.\n",
      "El valor 1.0 se repite 64 veces.\n",
      "El valor 6.0 se repite 28 veces.\n",
      "El valor 7.0 se repite 13 veces.\n",
      "El valor 8.0 se repite 10 veces.\n",
      "El valor 0.0 se repite 5 veces.\n",
      "El valor 10.0 se repite 4 veces.\n",
      "El valor 9.0 se repite 3 veces.\n",
      "El valor 21.0 se repite 2 veces.\n",
      "El valor 50.0 se repite 2 veces.\n",
      "El valor 25.0 se repite 1 veces.\n",
      "El valor 22.0 se repite 1 veces.\n",
      "El valor 19.0 se repite 1 veces.\n",
      "El valor 99.0 se repite 1 veces.\n"
     ]
    }
   ],
   "source": [
    "i = 22\n",
    "repeated_values = data.iloc[:, i].value_counts()[data.iloc[:, i].value_counts() > 0].index.tolist()\n",
    "for value in repeated_values:\n",
    "  count = data.iloc[:, i].value_counts()[value]\n",
    "  print(f\"El valor {value} se repite {count} veces.\")"
   ]
  },
  {
   "cell_type": "markdown",
   "metadata": {
    "id": "VUqWaNoRKuPR"
   },
   "source": [
    "Nos quedamos solo con los valores numéricos"
   ]
  },
  {
   "cell_type": "code",
   "execution_count": 76,
   "metadata": {
    "colab": {
     "base_uri": "https://localhost:8080/"
    },
    "executionInfo": {
     "elapsed": 4,
     "status": "ok",
     "timestamp": 1717951870255,
     "user": {
      "displayName": "BERTA PADILLA BAEZA",
      "userId": "17038178126289984285"
     },
     "user_tz": -120
    },
    "id": "rXu_-aevK2mm",
    "outputId": "c9e9e849-6e14-456d-e77f-eac5e06ac1e0"
   },
   "outputs": [
    {
     "name": "stdout",
     "output_type": "stream",
     "text": [
      "El valor 3.0 se repite 325 veces - 33.13 %.\n",
      "El valor 4.0 se repite 247 veces - 25.18 %.\n",
      "El valor 2.0 se repite 168 veces - 17.13 %.\n",
      "El valor 5.0 se repite 101 veces - 10.30 %.\n",
      "El valor 1.0 se repite 64 veces - 6.52 %.\n",
      "El valor 6.0 se repite 28 veces - 2.85 %.\n",
      "El valor 7.0 se repite 13 veces - 1.33 %.\n",
      "El valor 8.0 se repite 10 veces - 1.02 %.\n",
      "El valor 0 se repite 10 veces - 1.02 %.\n",
      "El valor >10 se repite 8 veces - 0.82 %.\n",
      "El valor 10.0 se repite 4 veces - 0.41 %.\n",
      "El valor 9.0 se repite 3 veces - 0.31 %.\n",
      "Hay un 0.00% de casos NaN.\n"
     ]
    },
    {
     "name": "stderr",
     "output_type": "stream",
     "text": [
      "C:\\Users\\Ceiec09\\AppData\\Local\\Temp\\ipykernel_9412\\111703337.py:6: FutureWarning: Setting an item of incompatible dtype is deprecated and will raise an error in a future version of pandas. Value '>10' has dtype incompatible with float64, please explicitly cast to a compatible dtype first.\n",
      "  data.iloc[j,i] = '>10'\n"
     ]
    }
   ],
   "source": [
    "i = 22\n",
    "data.iloc[:,i] = pd.to_numeric(data.iloc[:,i], errors='coerce')\n",
    "\n",
    "for j in range(len(data)):\n",
    "  if data.iloc[j,i] > 10:\n",
    "    data.iloc[j,i] = '>10'\n",
    "  elif pd.isna(data.iloc[j, i]):\n",
    "    data.iloc[j,i] = 0\n",
    "\n",
    "repeated_values = data.iloc[:, i].value_counts()[data.iloc[:, i].value_counts() > 0].index.tolist()\n",
    "for value in repeated_values:\n",
    "  count = data.iloc[:, i].value_counts()[value]\n",
    "  perc = count*100/len(data)\n",
    "  print(f\"El valor {value} se repite {count} veces - {perc:.2f} %.\")\n",
    "\n",
    "# % de NaNs\n",
    "prnan_percentage = data.iloc[:,i].isna().mean() * 100\n",
    "print(f\"Hay un {prnan_percentage:.2f}% de casos NaN.\")\n"
   ]
  },
  {
   "cell_type": "markdown",
   "metadata": {
    "id": "6jpulZgpLBAK"
   },
   "source": [
    "# Columna 23 - Teniendo en mente su lugar de residencia DURANTE el confinamiento, por favor, indique. Número de personas con las que cohabitaba/cohabita:\n",
    "\n",
    "Solo valores numéricos"
   ]
  },
  {
   "cell_type": "code",
   "execution_count": 77,
   "metadata": {
    "colab": {
     "base_uri": "https://localhost:8080/"
    },
    "executionInfo": {
     "elapsed": 7,
     "status": "ok",
     "timestamp": 1717951870617,
     "user": {
      "displayName": "BERTA PADILLA BAEZA",
      "userId": "17038178126289984285"
     },
     "user_tz": -120
    },
    "id": "36xqFPuqLLCE",
    "outputId": "94d16b43-a447-425f-cade-fdecdf49a869"
   },
   "outputs": [
    {
     "name": "stdout",
     "output_type": "stream",
     "text": [
      "El valor 1.0 se repite 381 veces.\n",
      "El valor 2.0 se repite 205 veces.\n",
      "El valor 3.0 se repite 158 veces.\n",
      "El valor 0.0 se repite 110 veces.\n",
      "El valor 4.0 se repite 69 veces.\n",
      "El valor 5.0 se repite 26 veces.\n",
      "El valor 6.0 se repite 11 veces.\n",
      "El valor 7.0 se repite 4 veces.\n",
      "El valor 10.0 se repite 3 veces.\n",
      "El valor 50.0 se repite 2 veces.\n",
      "El valor 30.0 se repite 2 veces.\n",
      "El valor 25.0 se repite 1 veces.\n",
      "El valor 40.0 se repite 1 veces.\n",
      "El valor 21.0 se repite 1 veces.\n",
      "El valor 16.0 se repite 1 veces.\n",
      "El valor 11.0 se repite 1 veces.\n",
      "El valor 31.0 se repite 1 veces.\n"
     ]
    }
   ],
   "source": [
    "i = 23\n",
    "repeated_values = data.iloc[:, i].value_counts()[data.iloc[:, i].value_counts() > 0].index.tolist()\n",
    "for value in repeated_values:\n",
    "  count = data.iloc[:, i].value_counts()[value]\n",
    "  print(f\"El valor {value} se repite {count} veces.\")"
   ]
  },
  {
   "cell_type": "code",
   "execution_count": 78,
   "metadata": {
    "colab": {
     "base_uri": "https://localhost:8080/"
    },
    "executionInfo": {
     "elapsed": 310,
     "status": "ok",
     "timestamp": 1717951870922,
     "user": {
      "displayName": "BERTA PADILLA BAEZA",
      "userId": "17038178126289984285"
     },
     "user_tz": -120
    },
    "id": "Vawbla20LNkB",
    "outputId": "a6479e0b-1641-49b1-c4a9-9e2cc97570d5"
   },
   "outputs": [
    {
     "name": "stderr",
     "output_type": "stream",
     "text": [
      "C:\\Users\\Ceiec09\\AppData\\Local\\Temp\\ipykernel_9412\\2818781265.py:15: FutureWarning: Setting an item of incompatible dtype is deprecated and will raise an error in a future version of pandas. Value '1-2' has dtype incompatible with float64, please explicitly cast to a compatible dtype first.\n",
      "  data.iloc[j, i] = n_personas[1]\n"
     ]
    },
    {
     "name": "stdout",
     "output_type": "stream",
     "text": [
      "El valor 1-2 se repite 813 veces - 82.87 %.\n",
      "El valor 0 se repite 114 veces - 11.62 %.\n",
      "El valor 3-4 se repite 37 veces - 3.77 %.\n",
      "El valor >10 se repite 10 veces - 1.02 %.\n",
      "El valor 7-8 se repite 4 veces - 0.41 %.\n",
      "El valor 9-10 se repite 3 veces - 0.31 %.\n",
      "Hay un 0.00% de casos NaN.\n"
     ]
    }
   ],
   "source": [
    "i = 23\n",
    "data.iloc[:,i] = pd.to_numeric(data.iloc[:,i], errors='coerce')\n",
    "\n",
    "n_personas = ['0', '1-2', '3-4', '5-6', '7-8', '9-10', '>10']\n",
    "\n",
    "for j in range(len(data)):\n",
    "  if pd.isna(data.iloc[j, i]):\n",
    "    data.iloc[j, i] = n_personas[0]\n",
    "\n",
    "  data.iloc[j,i] = int(data.iloc[j,i])\n",
    "  if data.iloc[j,i] == 0 :\n",
    "    data.iloc[j, i] = n_personas[0]\n",
    "\n",
    "  elif data.iloc[j,i] == 1 or data.iloc[j,i] == 2:\n",
    "    data.iloc[j, i] = n_personas[1]\n",
    "\n",
    "  elif data.iloc[j,i] == 3 or data.iloc[j,i] == 4:\n",
    "    data.iloc[j, i] = n_personas[1]\n",
    "\n",
    "  elif data.iloc[j,i] == 5 or data.iloc[j,i] == 6:\n",
    "    data.iloc[j, i] = n_personas[2]\n",
    "\n",
    "  elif data.iloc[j,i] == 7 or data.iloc[j,i] == 8:\n",
    "    data.iloc[j, i] = n_personas[4]\n",
    "\n",
    "  elif data.iloc[j,i] == 9 or data.iloc[j,i] == 10:\n",
    "    data.iloc[j, i] = n_personas[5]\n",
    "\n",
    "  elif data.iloc[j,i] > 10:\n",
    "    data.iloc[j, i] = n_personas[6]\n",
    "\n",
    "\n",
    "repeated_values = data.iloc[:, i].value_counts()[data.iloc[:, i].value_counts() > 0].index.tolist()\n",
    "for value in repeated_values:\n",
    "  count = data.iloc[:, i].value_counts()[value]\n",
    "  perc = count*100/len(data)\n",
    "  print(f\"El valor {value} se repite {count} veces - {perc:.2f} %.\")\n",
    "\n",
    "# % de NaNs\n",
    "prnan_percentage = data.iloc[:,i].isna().mean() * 100\n",
    "print(f\"Hay un {prnan_percentage:.2f}% de casos NaN.\")"
   ]
  },
  {
   "cell_type": "markdown",
   "metadata": {
    "id": "sI85k-QqLSow"
   },
   "source": [
    "# Columna 24 - Teniendo en mente su lugar de residencia DURANTE el confinamiento, por favor, indique. Número de personas en su mismo dormitorio excluyendose a usted mismo/a:\n",
    "\n",
    "Solo valores numéricos"
   ]
  },
  {
   "cell_type": "code",
   "execution_count": 79,
   "metadata": {
    "colab": {
     "base_uri": "https://localhost:8080/"
    },
    "executionInfo": {
     "elapsed": 265,
     "status": "ok",
     "timestamp": 1717951871184,
     "user": {
      "displayName": "BERTA PADILLA BAEZA",
      "userId": "17038178126289984285"
     },
     "user_tz": -120
    },
    "id": "OS3jyQ0HLa8j",
    "outputId": "86e6a0d2-d505-4845-b410-658df3d615f3"
   },
   "outputs": [
    {
     "name": "stdout",
     "output_type": "stream",
     "text": [
      "El valor 1.0 se repite 529 veces.\n",
      "El valor 0.0 se repite 353 veces.\n",
      "El valor 2.0 se repite 78 veces.\n",
      "El valor 3.0 se repite 11 veces.\n",
      "El valor 4.0 se repite 1 veces.\n"
     ]
    }
   ],
   "source": [
    "i = 24\n",
    "repeated_values = data.iloc[:, i].value_counts()[data.iloc[:, i].value_counts() > 0].index.tolist()\n",
    "for value in repeated_values:\n",
    "  count = data.iloc[:, i].value_counts()[value]\n",
    "  print(f\"El valor {value} se repite {count} veces.\")"
   ]
  },
  {
   "cell_type": "code",
   "execution_count": 80,
   "metadata": {
    "colab": {
     "base_uri": "https://localhost:8080/"
    },
    "executionInfo": {
     "elapsed": 9,
     "status": "ok",
     "timestamp": 1717951871184,
     "user": {
      "displayName": "BERTA PADILLA BAEZA",
      "userId": "17038178126289984285"
     },
     "user_tz": -120
    },
    "id": "H-pMvlLXLdYH",
    "outputId": "75d87f9b-d5df-49cb-b8d4-e3a81ce41cc1"
   },
   "outputs": [
    {
     "name": "stdout",
     "output_type": "stream",
     "text": [
      "El valor 1.0 se repite 529 veces - 53.92 %.\n",
      "El valor 0.0 se repite 353 veces - 35.98 %.\n",
      "El valor 2.0 se repite 78 veces - 7.95 %.\n",
      "El valor 3.0 se repite 11 veces - 1.12 %.\n",
      "El valor 0 se repite 9 veces - 0.92 %.\n",
      "El valor 4.0 se repite 1 veces - 0.10 %.\n",
      "Hay un 0.00% de casos NaN.\n"
     ]
    },
    {
     "name": "stderr",
     "output_type": "stream",
     "text": [
      "C:\\Users\\Ceiec09\\AppData\\Local\\Temp\\ipykernel_9412\\1676260053.py:6: FutureWarning: Setting an item of incompatible dtype is deprecated and will raise an error in a future version of pandas. Value '0' has dtype incompatible with float64, please explicitly cast to a compatible dtype first.\n",
      "  data.iloc[j, i] = n_personas[0]\n"
     ]
    }
   ],
   "source": [
    "i = 24\n",
    "data.iloc[:,i] = pd.to_numeric(data.iloc[:,i], errors='coerce')\n",
    "\n",
    "for j in range(len(data)):\n",
    "  if pd.isna(data.iloc[j, i]):\n",
    "    data.iloc[j, i] = n_personas[0]\n",
    "\n",
    "repeated_values = data.iloc[:, i].value_counts()[data.iloc[:, i].value_counts() > 0].index.tolist()\n",
    "for value in repeated_values:\n",
    "  count = data.iloc[:, i].value_counts()[value]\n",
    "  perc = count*100/len(data)\n",
    "  print(f\"El valor {value} se repite {count} veces - {perc:.2f} %.\")\n",
    "\n",
    "# % de NaNs\n",
    "prnan_percentage = data.iloc[:,i].isna().mean() * 100\n",
    "print(f\"Hay un {prnan_percentage:.2f}% de casos NaN.\")"
   ]
  },
  {
   "cell_type": "markdown",
   "metadata": {
    "id": "-twBOvGtgAIR"
   },
   "source": [
    "# Columna 25: Situación laboral ANTES (en los 12 meses anteriores al inicio de la cuarentena o la mayor parte de ese tiempo)"
   ]
  },
  {
   "cell_type": "code",
   "execution_count": 81,
   "metadata": {
    "colab": {
     "base_uri": "https://localhost:8080/"
    },
    "executionInfo": {
     "elapsed": 6,
     "status": "ok",
     "timestamp": 1717951871184,
     "user": {
      "displayName": "BERTA PADILLA BAEZA",
      "userId": "17038178126289984285"
     },
     "user_tz": -120
    },
    "id": "Hfvey4AXgIHv",
    "outputId": "9df9e6ca-f886-4c53-e15c-a64d854ab2ea"
   },
   "outputs": [
    {
     "name": "stdout",
     "output_type": "stream",
     "text": [
      "El valor Activo ocupado/a por cuenta ajena se repite 644 veces.\n",
      "El valor Activo ocupado/a por cuenta propia se repite 116 veces.\n",
      "El valor Estudiante-prácticas se repite 69 veces.\n",
      "El valor Activo parado/a se repite 48 veces.\n",
      "El valor Trabajo sin contrato se repite 26 veces.\n",
      "El valor Pensionista se repite 23 veces.\n",
      "El valor Inactivo/a se repite 21 veces.\n",
      "El valor Trabajo protegido se repite 15 veces.\n",
      "El valor Incapacidad (baja) temporal se repite 9 veces.\n",
      "El valor Trabajador/a del hogar se repite 8 veces.\n"
     ]
    }
   ],
   "source": [
    "i = 25\n",
    "repeated_values = data.iloc[:, i].value_counts()[data.iloc[:, i].value_counts() > 0].index.tolist()\n",
    "for value in repeated_values:\n",
    "  count = data.iloc[:, i].value_counts()[value]\n",
    "  print(f\"El valor {value} se repite {count} veces.\")"
   ]
  },
  {
   "cell_type": "markdown",
   "metadata": {
    "id": "FwfN2UDbghv4"
   },
   "source": [
    "Nos quedamos con:\n",
    "- Activo ocupado/a por cuenta ajena\n",
    "- Activo ocupado/a por cuenta propia\n",
    "- Estudiante-practicas\n",
    "- Activo parado/a\n",
    "- Trabajo sin contrato\n",
    "- Pensionista\n",
    "- Inactivo/a\n",
    "- Trabajo protegido\n",
    "- Incapacidad (baja) temporal\n",
    "- Trabajador/a del hogar"
   ]
  },
  {
   "cell_type": "code",
   "execution_count": 82,
   "metadata": {
    "colab": {
     "base_uri": "https://localhost:8080/"
    },
    "executionInfo": {
     "elapsed": 323,
     "status": "ok",
     "timestamp": 1717951871503,
     "user": {
      "displayName": "BERTA PADILLA BAEZA",
      "userId": "17038178126289984285"
     },
     "user_tz": -120
    },
    "id": "Jt9DwOcnq2by",
    "outputId": "4399ec4e-385c-40a8-887f-7e438c531199"
   },
   "outputs": [
    {
     "name": "stdout",
     "output_type": "stream",
     "text": [
      "El valor Activo ocupado/a por cuenta ajena se repite 646 veces - 65.85 %.\n",
      "El valor Activo ocupado/a por cuenta propia se repite 116 veces - 11.82 %.\n",
      "El valor Estudiante-practicas se repite 69 veces - 7.03 %.\n",
      "El valor Activo parado/a se repite 48 veces - 4.89 %.\n",
      "El valor Trabajo sin contrato se repite 26 veces - 2.65 %.\n",
      "El valor Pensionista se repite 23 veces - 2.34 %.\n",
      "El valor Inactivo/a se repite 21 veces - 2.14 %.\n",
      "El valor Trabajo protegido se repite 15 veces - 1.53 %.\n",
      "El valor Incapacidad (baja) temporal se repite 9 veces - 0.92 %.\n",
      "El valor Trabajador/a del hogar se repite 8 veces - 0.82 %.\n",
      "Hay un 0.00% de casos NaN.\n"
     ]
    }
   ],
   "source": [
    "i = 25\n",
    "\n",
    "data.iloc[:,i] = data.iloc[:,i].replace(\"Estudiante-prácticas\", 'Estudiante-practicas')\n",
    "\n",
    "trabajo = ['Activo ocupado/a por cuenta ajena', 'Activo ocupado/a por cuenta propia', 'Estudiante-practicas', 'Activo parado/a', 'Trabajo sin contrato', 'Pensionista', 'Inactivo/a', 'Trabajo protegido', 'Incapacidad (baja) temporal', 'Trabajador/a del hogar']\n",
    "\n",
    "\n",
    "for j in range(len(data)):\n",
    "  if data.iloc[j,i] not in trabajo:\n",
    "    data.iloc[j,i] = 'Activo ocupado/a por cuenta ajena'\n",
    "\n",
    "repeated_values = data.iloc[:, i].value_counts()[data.iloc[:, i].value_counts() > 0].index.tolist()\n",
    "for value in repeated_values:\n",
    "  count = data.iloc[:, i].value_counts()[value]\n",
    "  perc = count*100/len(data)\n",
    "  print(f\"El valor {value} se repite {count} veces - {perc:.2f} %.\")\n",
    "\n",
    "# % de NaNs\n",
    "prnan_percentage = data.iloc[:,i].isna().mean() * 100\n",
    "print(f\"Hay un {prnan_percentage:.2f}% de casos NaN.\")"
   ]
  },
  {
   "cell_type": "markdown",
   "metadata": {
    "id": "qcYnQDr3rmVI"
   },
   "source": [
    "# Columna 26: Por favor, detalle tipo de trabajo en ese periodo si procede:\n",
    "\n",
    "Mucha variedad"
   ]
  },
  {
   "cell_type": "code",
   "execution_count": 83,
   "metadata": {
    "colab": {
     "base_uri": "https://localhost:8080/"
    },
    "executionInfo": {
     "elapsed": 1398,
     "status": "ok",
     "timestamp": 1717951872893,
     "user": {
      "displayName": "BERTA PADILLA BAEZA",
      "userId": "17038178126289984285"
     },
     "user_tz": -120
    },
    "id": "Iy-9C9FzrmI6",
    "outputId": "24bb0b2f-a687-48f9-fbac-65f3291f1261"
   },
   "outputs": [
    {
     "name": "stdout",
     "output_type": "stream",
     "text": [
      "El valor Camarera se repite 12 veces.\n",
      "El valor Dependienta se repite 11 veces.\n",
      "El valor Administrativo se repite 9 veces.\n",
      "El valor Profesora se repite 9 veces.\n",
      "El valor Administración se repite 6 veces.\n",
      "El valor Oficina se repite 6 veces.\n",
      "El valor Maestra se repite 5 veces.\n",
      "El valor Camarero se repite 5 veces.\n",
      "El valor Administrativo  se repite 5 veces.\n",
      "El valor Administrativa se repite 5 veces.\n",
      "El valor Enfermera se repite 4 veces.\n",
      "El valor Hostelería se repite 4 veces.\n",
      "El valor Investigación se repite 4 veces.\n",
      "El valor Abogada se repite 4 veces.\n",
      "El valor Investigador se repite 4 veces.\n",
      "El valor Auxiliar administrativo se repite 4 veces.\n",
      "El valor Tatuadora se repite 4 veces.\n",
      "El valor Educadora social se repite 4 veces.\n",
      "El valor Profesora secundaria se repite 3 veces.\n",
      "El valor Diseñadora gráfica se repite 3 veces.\n",
      "El valor Profesor se repite 3 veces.\n",
      "El valor Periodista se repite 3 veces.\n",
      "El valor Programador se repite 3 veces.\n",
      "El valor Maestra  se repite 3 veces.\n",
      "El valor Becaria en departamento de calidad, medio ambiente y PRL se repite 3 veces.\n",
      "El valor Docente se repite 3 veces.\n",
      "El valor Teletrabajo se repite 3 veces.\n",
      "El valor Hospital se repite 3 veces.\n",
      "El valor Psicología se repite 3 veces.\n",
      "El valor Teleoperadora se repite 3 veces.\n",
      "El valor Fotógrafo se repite 3 veces.\n",
      "El valor Profesora de secundaria se repite 3 veces.\n",
      "El valor Técnico de sonido se repite 3 veces.\n",
      "El valor Educadora se repite 2 veces.\n",
      "El valor autónomo periodista se repite 2 veces.\n",
      "El valor Promotor se repite 2 veces.\n",
      "El valor Autónomos  se repite 2 veces.\n",
      "El valor Investigador postdoctoral se repite 2 veces.\n",
      "El valor Asistente Administrativo se repite 2 veces.\n",
      "El valor Informática se repite 2 veces.\n",
      "El valor Jubilado se repite 2 veces.\n",
      "El valor Camarera  se repite 2 veces.\n",
      "El valor Diseñadora  se repite 2 veces.\n",
      "El valor Marketing se repite 2 veces.\n",
      "El valor Cocinera se repite 2 veces.\n",
      "El valor Administrativa  se repite 2 veces.\n",
      "El valor Vendedor  se repite 2 veces.\n",
      "El valor Educadora social  se repite 2 veces.\n",
      "El valor Publicidad  se repite 2 veces.\n",
      "El valor Opositor se repite 2 veces.\n",
      "El valor RRHH se repite 2 veces.\n",
      "El valor Profesora  se repite 2 veces.\n",
      "El valor - se repite 2 veces.\n",
      "El valor Educadora en escuela infantil se repite 2 veces.\n",
      "El valor Estudio de tatuajes  se repite 2 veces.\n",
      "El valor Ventas se repite 2 veces.\n",
      "El valor Clases particulares se repite 2 veces.\n",
      "El valor Informático se repite 2 veces.\n",
      "El valor Psicoterapeuta se repite 2 veces.\n",
      "El valor Educadora infantil se repite 2 veces.\n",
      "El valor Autónoma se repite 2 veces.\n",
      "El valor Recepcionista se repite 2 veces.\n",
      "El valor Arquitectura  se repite 2 veces.\n",
      "El valor Comercio se repite 2 veces.\n",
      "El valor Ninguno se repite 2 veces.\n",
      "El valor Hosteleria se repite 2 veces.\n",
      "El valor Empresaria se repite 2 veces.\n",
      "El valor Abogado se repite 2 veces.\n",
      "El valor Finanzas se repite 2 veces.\n",
      "El valor Trabajo de oficina se repite 2 veces.\n",
      "El valor Investigador en formación se repite 1 veces.\n",
      "El valor Dueño de bar se repite 1 veces.\n",
      "El valor Maestra educación infantil se repite 1 veces.\n",
      "El valor Profesora Educación Secundaria se repite 1 veces.\n",
      "El valor Diseñadora de moda se repite 1 veces.\n",
      "El valor Extra de camarera y prácticas  una revista de fotografía  se repite 1 veces.\n",
      "El valor Turismo se repite 1 veces.\n",
      "El valor Auxiliar de vuelo se repite 1 veces.\n",
      "El valor Integrador social se repite 1 veces.\n",
      "El valor Estaba apunto de comenzar un trabajo se repite 1 veces.\n",
      "El valor Ingeniería se repite 1 veces.\n",
      "El valor Representante de Ventas de Farmacias se repite 1 veces.\n",
      "El valor Limpieza de hogar  se repite 1 veces.\n",
      "El valor Montador de alumino/ ventanas, puertas, armarios etc... se repite 1 veces.\n",
      "El valor En paro. ¿Cuál es la diferencia entre activo parado e inactivo? se repite 1 veces.\n",
      "El valor Veterinaria investigadora, becada a través de Garantía Juvenil se repite 1 veces.\n",
      "El valor Estudiaba se repite 1 veces.\n",
      "El valor Técnico delineador  se repite 1 veces.\n",
      "El valor Consultoría IT se repite 1 veces.\n",
      "El valor RR.HH. se repite 1 veces.\n",
      "El valor Oposición se repite 1 veces.\n",
      "El valor Diseñador gráfico  se repite 1 veces.\n",
      "El valor Encargada de hotel se repite 1 veces.\n",
      "El valor Operario fabrica se repite 1 veces.\n",
      "El valor Auxiliares administrativa se repite 1 veces.\n",
      "El valor Atención al cliente se repite 1 veces.\n",
      "El valor Area Manager  se repite 1 veces.\n",
      "El valor Heladeria/turroneria se repite 1 veces.\n",
      "El valor Doctorado (remunerado) se repite 1 veces.\n",
      "El valor Finalizando escritura de la tesis doctoral se repite 1 veces.\n",
      "El valor Diseño gráfico  se repite 1 veces.\n",
      "El valor Textil se repite 1 veces.\n",
      "El valor docente universitario se repite 1 veces.\n",
      "El valor Peon producción  se repite 1 veces.\n",
      "El valor Profesora de inglés en una academia se repite 1 veces.\n",
      "El valor hostelería  se repite 1 veces.\n",
      "El valor Veterinario  se repite 1 veces.\n",
      "El valor Psicóloga infanto-juvenil se repite 1 veces.\n",
      "El valor Estudiante se repite 1 veces.\n",
      "El valor Psicóloga Centro de Día se repite 1 veces.\n",
      "El valor psicoterapia infantil y adultos se repite 1 veces.\n",
      "El valor K4 se repite 1 veces.\n",
      "El valor Expansión Real Estate se repite 1 veces.\n",
      "El valor Delineante  se repite 1 veces.\n",
      "El valor Enseñanza  se repite 1 veces.\n",
      "El valor Ayudante cocina se repite 1 veces.\n",
      "El valor Atención al publico, correos se repite 1 veces.\n",
      "El valor Recepcionista de hotel.  se repite 1 veces.\n",
      "El valor Aeropuerto  se repite 1 veces.\n",
      "El valor Captadora de socios para una ONG se repite 1 veces.\n",
      "El valor Gestión logistica se repite 1 veces.\n",
      "El valor Dependienta online se repite 1 veces.\n",
      "El valor Ingenieria se repite 1 veces.\n",
      "El valor Asesora legal fondo de inversión se repite 1 veces.\n",
      "El valor Hosteleri se repite 1 veces.\n",
      "El valor Modista y diseñadora de moda se repite 1 veces.\n",
      "El valor investigador postdoc, precario se repite 1 veces.\n",
      "El valor Alimentación se repite 1 veces.\n",
      "El valor Funcionario se repite 1 veces.\n",
      "El valor Tripulante de cabina se repite 1 veces.\n",
      "El valor Enfermera hospital vall hebron  se repite 1 veces.\n",
      "El valor Dependienta-camarera se repite 1 veces.\n",
      "El valor Animadora infantil se repite 1 veces.\n",
      "El valor Socióloga - Técnico de Formación para el Empleo. se repite 1 veces.\n",
      "El valor Taquilla  se repite 1 veces.\n",
      "El valor Monitor de atividades deportivas se repite 1 veces.\n",
      "El valor Profesora-autónoma se repite 1 veces.\n",
      "El valor Diseñadora gráfica en agencia de publicidad se repite 1 veces.\n",
      "El valor Diseñador de producto digital se repite 1 veces.\n",
      "El valor Técnico comercio internacional  se repite 1 veces.\n",
      "El valor Audiovisual se repite 1 veces.\n",
      "El valor Educadora infantil  se repite 1 veces.\n",
      "El valor Arquitecto de interiores se repite 1 veces.\n",
      "El valor Dependiente de tienda se repite 1 veces.\n",
      "El valor Profesora PILATES EMBARAZO se repite 1 veces.\n",
      "El valor Consultoria se repite 1 veces.\n",
      "El valor Administrativa en escuela privada se repite 1 veces.\n",
      "El valor Trabajo de oficina en Amazon  se repite 1 veces.\n",
      "El valor Prácticas en agencia de viajes se repite 1 veces.\n",
      "El valor Profesora de español en una ONG se repite 1 veces.\n",
      "El valor Ambientación cinematografica se repite 1 veces.\n",
      "El valor Artista se repite 1 veces.\n",
      "El valor Instituto se repite 1 veces.\n",
      "El valor Formador técnico se repite 1 veces.\n",
      "El valor Analista Banca se repite 1 veces.\n",
      "El valor TCAE se repite 1 veces.\n",
      "El valor Atención al cliente y reputación online sector hotelero se repite 1 veces.\n",
      "El valor Laboratorio y edar se repite 1 veces.\n",
      "El valor Profesora online  se repite 1 veces.\n",
      "El valor Electrico/auxiliar de camara se repite 1 veces.\n",
      "El valor Médica de familia  se repite 1 veces.\n",
      "El valor Centro de estética  se repite 1 veces.\n",
      "El valor Profesora de danza  se repite 1 veces.\n",
      "El valor PDI  se repite 1 veces.\n",
      "El valor Recepcionista/Administrativa se repite 1 veces.\n",
      "El valor Ingeniera de telecomunicaciones se repite 1 veces.\n",
      "El valor Gestoria se repite 1 veces.\n",
      "El valor Administracion publica se repite 1 veces.\n",
      "El valor Programadora se repite 1 veces.\n",
      "El valor Profesora sustituta de universidad se repite 1 veces.\n",
      "El valor Negocio textil se repite 1 veces.\n",
      "El valor Diseño grafico se repite 1 veces.\n",
      "El valor Estudiante de FP superior se repite 1 veces.\n",
      "El valor Ingeniera de producción  se repite 1 veces.\n",
      "El valor Técnica de Infancia se repite 1 veces.\n",
      "El valor Redes de telecomunicaciones se repite 1 veces.\n",
      "El valor Empresario se repite 1 veces.\n",
      "El valor Intérprete del Patrimonio  se repite 1 veces.\n",
      "El valor Guía turística  se repite 1 veces.\n",
      "El valor Consultor informático se repite 1 veces.\n",
      "El valor Jefe de obra  se repite 1 veces.\n",
      "El valor Hacia producción para un musical durante su gira. Antes del confinamiento estábamos en Francia y Alemania actuando  se repite 1 veces.\n",
      "El valor no procede se repite 1 veces.\n",
      "El valor Montaje automatismos se repite 1 veces.\n",
      "El valor Profesora enseñanza secundaria se repite 1 veces.\n",
      "El valor Trabajo de periodista en oficina se repite 1 veces.\n",
      "El valor Profesor de escuela Municipal de música se repite 1 veces.\n",
      "El valor Psicóloga infantil  se repite 1 veces.\n",
      "El valor Artesano madera con tienda online se repite 1 veces.\n",
      "El valor Médico se repite 1 veces.\n",
      "El valor Médico  se repite 1 veces.\n",
      "El valor Sanitaria se repite 1 veces.\n",
      "El valor Consultora de insdustrias farmacéuticas se repite 1 veces.\n",
      "El valor Atención sanitaria se repite 1 veces.\n",
      "El valor Embriología tecnica se repite 1 veces.\n",
      "El valor Arqueologa se repite 1 veces.\n",
      "El valor Gestor proyectos I+d se repite 1 veces.\n",
      "El valor Formación y dinamización social se repite 1 veces.\n",
      "El valor estudiante de doctorado se repite 1 veces.\n",
      "El valor documentalista se repite 1 veces.\n",
      "El valor Recursos humanos se repite 1 veces.\n",
      "El valor Seguros se repite 1 veces.\n",
      "El valor MAP se repite 1 veces.\n",
      "El valor Funcionaria  se repite 1 veces.\n",
      "El valor Laboratorio farmacéutico  se repite 1 veces.\n",
      "El valor Masajista se repite 1 veces.\n",
      "El valor Doctorado se repite 1 veces.\n",
      "El valor Empleada de hogar  se repite 1 veces.\n",
      "El valor Funcionaria justicia se repite 1 veces.\n",
      "El valor Técnico superior en actividades técnicas y profesionales se repite 1 veces.\n",
      "El valor Genetista clínico se repite 1 veces.\n",
      "El valor Investigación biosanitario se repite 1 veces.\n",
      "El valor Ingeniero de sistemas  se repite 1 veces.\n",
      "El valor Investigación dentro del marco de mis estudios de doctorado se repite 1 veces.\n",
      "El valor Profesor  se repite 1 veces.\n",
      "El valor Activo se repite 1 veces.\n",
      "El valor Funcionariado se repite 1 veces.\n",
      "El valor Trabajos esporádicos como fotógrafa o dj, muy inestable y con muy pocos ingresos. También trabajé un mes en un call center se repite 1 veces.\n",
      "El valor Actividades infantiles se repite 1 veces.\n",
      "El valor Agente de viajes  se repite 1 veces.\n",
      "El valor Administración sanidad se repite 1 veces.\n",
      "El valor Matrona Centro Salud se repite 1 veces.\n",
      "El valor Funcionaria Ministerio  se repite 1 veces.\n",
      "El valor Biblioteca se repite 1 veces.\n",
      "El valor Restauradora de muebles  se repite 1 veces.\n",
      "El valor Ayudante investigadora en una universidad pública se repite 1 veces.\n",
      "El valor recepcionista se repite 1 veces.\n",
      "El valor Docente e Investigadora se repite 1 veces.\n",
      "El valor Ayudante de investigación en el CSIC  se repite 1 veces.\n",
      "El valor ING Software se repite 1 veces.\n",
      "El valor Ingeniería para el desarrollo de nuevos productos se repite 1 veces.\n",
      "El valor Artes gráficas se repite 1 veces.\n",
      "El valor Trabajo eventual del SAS de pocos meses, intercalado con trabajo del hogar a una empresa sin contrato.  se repite 1 veces.\n",
      "El valor Soy cuidadora de uno de mis dos hijos discapacitados y ama de casa se repite 1 veces.\n",
      "El valor Autónoma; empresas lúdicas y de marketing se repite 1 veces.\n",
      "El valor Técnico de logística se repite 1 veces.\n",
      "El valor Geólogo se repite 1 veces.\n",
      "El valor Montaje de módulos prefabricados  se repite 1 veces.\n",
      "El valor Sin trabajo  se repite 1 veces.\n",
      "El valor Prácticas de máster y realización del trabajo final del mismo. se repite 1 veces.\n",
      "El valor Personal Docente Investigador se repite 1 veces.\n",
      "El valor Funcionaria. se repite 1 veces.\n",
      "El valor Investigador post-doctoral se repite 1 veces.\n",
      "El valor Entrenador personal  se repite 1 veces.\n",
      "El valor Jefe de sucursal en tienda de videojuegos se repite 1 veces.\n",
      "El valor ama de casa se repite 1 veces.\n",
      "El valor Dependienta y profesora particular se repite 1 veces.\n",
      "El valor Conductora en Metroligero Oeste se repite 1 veces.\n",
      "El valor Limpiadora se repite 1 veces.\n",
      "El valor Producción y venta textil  se repite 1 veces.\n",
      "El valor Enfermero se repite 1 veces.\n",
      "El valor Diseñador se repite 1 veces.\n",
      "El valor Profesor universitario  se repite 1 veces.\n",
      "El valor Estudiante enfermería se repite 1 veces.\n",
      "El valor realizacion audiovisual se repite 1 veces.\n",
      "El valor Profesora inglés se repite 1 veces.\n",
      "El valor Cooperación, apoyo a refugiadxs se repite 1 veces.\n",
      "El valor Docente a distancia se repite 1 veces.\n",
      "El valor Escuela infantil se repite 1 veces.\n",
      "El valor Doctorando (en Países Bajos), con contrato. se repite 1 veces.\n",
      "El valor Técnica de Inclusión en ONG se repite 1 veces.\n",
      "El valor Tec prrll se repite 1 veces.\n",
      "El valor Profesora secundaria  se repite 1 veces.\n",
      "El valor Profesora autónoma  se repite 1 veces.\n",
      "El valor Investigador/Científico se repite 1 veces.\n",
      "El valor Profesora de español con personas inmigrantes se repite 1 veces.\n",
      "El valor Administrador de sistemas se repite 1 veces.\n",
      "El valor Trabajador de un cine se repite 1 veces.\n",
      "El valor Maestra interina se repite 1 veces.\n",
      "El valor Recursos Humanos se repite 1 veces.\n",
      "El valor Enseñanza se repite 1 veces.\n",
      "El valor Profesora ESO se repite 1 veces.\n",
      "El valor Productor audiovisual se repite 1 veces.\n",
      "El valor Gestor telefónico  se repite 1 veces.\n",
      "El valor Contable se repite 1 veces.\n",
      "El valor cuidados domicilios particulares-ex se repite 1 veces.\n",
      "El valor Maquetadora se repite 1 veces.\n",
      "El valor Paro se repite 1 veces.\n",
      "El valor Responsable de Medio Ambiente se repite 1 veces.\n",
      "El valor Prácticas Máster Profesorado se repite 1 veces.\n",
      "El valor Operador de camara se repite 1 veces.\n",
      "El valor Técnico rrhh  se repite 1 veces.\n",
      "El valor Dependienta tienda ropa se repite 1 veces.\n",
      "El valor Funcionaria de justicia se repite 1 veces.\n",
      "El valor Legal se repite 1 veces.\n",
      "El valor Cuidadora persona mayor se repite 1 veces.\n",
      "El valor √ìptico se repite 1 veces.\n",
      "El valor Auxiliar de enfermeria se repite 1 veces.\n",
      "El valor Trabajo de cafetería (camarera/cocinera) se repite 1 veces.\n",
      "El valor Prácticas de universidad y máster + trabajos de cara al público se repite 1 veces.\n",
      "El valor Sociosanitario  se repite 1 veces.\n",
      "El valor Funcionario periodista se repite 1 veces.\n",
      "El valor Docente universitario sustituto se repite 1 veces.\n",
      "El valor Asesora Legal se repite 1 veces.\n",
      "El valor Coordinadora de proyectos Europeos y fomadora del programa europeo Erasmus + y Cuerpo Europeo de Solidaridad se repite 1 veces.\n",
      "El valor Operario de factoría  se repite 1 veces.\n",
      "El valor Venta de entradas para eventos  se repite 1 veces.\n",
      "El valor Médica en Agencia Sanitaria de la Junta de Andalucía  se repite 1 veces.\n",
      "El valor Investigador científico se repite 1 veces.\n",
      "El valor Médico de Emergencias extrahospitalarias se repite 1 veces.\n",
      "El valor Comercial se repite 1 veces.\n",
      "El valor Monitora de extraescolares se repite 1 veces.\n",
      "El valor Laboratorio de investigación  se repite 1 veces.\n",
      "El valor Investigación en farmacéutica  se repite 1 veces.\n",
      "El valor Enfermera temporal se repite 1 veces.\n",
      "El valor Dependienta en centro comercial se repite 1 veces.\n",
      "El valor Laboratorio  se repite 1 veces.\n",
      "El valor En un laboratorio de investigación se repite 1 veces.\n",
      "El valor Gestor de proyectos en universidad pública se repite 1 veces.\n",
      "El valor 6 meses se repite 1 veces.\n",
      "El valor Técnico de laboratorio se repite 1 veces.\n",
      "El valor fabrica se repite 1 veces.\n",
      "El valor En labores domesticas se repite 1 veces.\n",
      "El valor Asesora de Imagen se repite 1 veces.\n",
      "El valor teletrabjo  se repite 1 veces.\n",
      "El valor administracion de una fábrica se repite 1 veces.\n",
      "El valor Ingeniero mecánico I+D e Ingeniero de producción se repite 1 veces.\n",
      "El valor Contrato predoctoral  se repite 1 veces.\n",
      "El valor Propagación de plantas se repite 1 veces.\n",
      "El valor Doctorado en la universidad  se repite 1 veces.\n",
      "El valor Investigación remunerada se repite 1 veces.\n",
      "El valor Dependiente panadería pastelería cafetería se repite 1 veces.\n",
      "El valor Ayudante en un taller de diseño y confección de moda se repite 1 veces.\n",
      "El valor Responsable Laboratorio Microbiología se repite 1 veces.\n",
      "El valor Responsable técnico comercial se repite 1 veces.\n",
      "El valor Investigador predoctoral FPI se repite 1 veces.\n",
      "El valor Investigador predoctoral se repite 1 veces.\n",
      "El valor Ciberseguridad  se repite 1 veces.\n",
      "El valor Aux administrativa  se repite 1 veces.\n",
      "El valor Químico en un centro de investigación se repite 1 veces.\n",
      "El valor Biólogo en grupo de investigación  se repite 1 veces.\n",
      "El valor Tecnico laboratorio se repite 1 veces.\n",
      "El valor Técnico en empresa comunicación tv  se repite 1 veces.\n",
      "El valor Investigadora Postdoctoral  se repite 1 veces.\n",
      "El valor Técnico de Redes se repite 1 veces.\n",
      "El valor Tienda y call center se repite 1 veces.\n",
      "El valor Vendedora se repite 1 veces.\n",
      "El valor Comunicación Interna se repite 1 veces.\n",
      "El valor Osteopata se repite 1 veces.\n",
      "El valor Veterinaria clínica  se repite 1 veces.\n",
      "El valor Traductora se repite 1 veces.\n",
      "El valor Investigador universitario se repite 1 veces.\n",
      "El valor Clases de inglés  se repite 1 veces.\n",
      "El valor Educadora Social y Terapeuta Familiar se repite 1 veces.\n",
      "El valor Justamente en marzo comencé a trabajar en una tienda de animales de compañía. se repite 1 veces.\n",
      "El valor Ejecutiva de cuentas publicidad se repite 1 veces.\n",
      "El valor Creativa publicitaria  se repite 1 veces.\n",
      "El valor Monitor/informador de medioambiente se repite 1 veces.\n",
      "El valor Productor de eventos se repite 1 veces.\n",
      "El valor Producción Audiovisual se repite 1 veces.\n",
      "El valor Chef se repite 1 veces.\n",
      "El valor Coordinadora ONG se repite 1 veces.\n",
      "El valor Ilustradora se repite 1 veces.\n",
      "El valor Diseño gráfico se repite 1 veces.\n",
      "El valor Ingeniero de software se repite 1 veces.\n",
      "El valor Fisioterapeuta  se repite 1 veces.\n",
      "El valor Profesor de inglés se repite 1 veces.\n",
      "El valor Hostelería/Paro se repite 1 veces.\n",
      "El valor Marketing  se repite 1 veces.\n",
      "El valor Responsable de comunicación en oficina se repite 1 veces.\n",
      "El valor Ceramista, dibujante e ilustradora  se repite 1 veces.\n",
      "El valor PO se repite 1 veces.\n",
      "El valor Comunicación  se repite 1 veces.\n",
      "El valor investigadora se repite 1 veces.\n",
      "El valor Pastelera se repite 1 veces.\n",
      "El valor Funcionaria educación se repite 1 veces.\n",
      "El valor Taquillero  se repite 1 veces.\n",
      "El valor Administración Pública se repite 1 veces.\n",
      "El valor Técnico proyectista se repite 1 veces.\n",
      "El valor Atención al usuario  se repite 1 veces.\n",
      "El valor Gestión de proyectos se repite 1 veces.\n",
      "El valor Librera/ profesora PT se repite 1 veces.\n",
      "El valor Formadora, dinamizadora vecinal y técnica en igualdad se repite 1 veces.\n",
      "El valor Estilista en sector audiovisual se repite 1 veces.\n",
      "El valor Bombero en formacion se repite 1 veces.\n",
      "El valor Investigador  se repite 1 veces.\n",
      "El valor Cocinero se repite 1 veces.\n",
      "El valor Diseño Gráfico se repite 1 veces.\n",
      "El valor  Comercial  se repite 1 veces.\n",
      "El valor Diseñador producto digital  se repite 1 veces.\n",
      "El valor Responsable de operaciones se repite 1 veces.\n",
      "El valor Integrador Social se repite 1 veces.\n",
      "El valor Psicólogo se repite 1 veces.\n",
      "El valor Oficial de Notaría  se repite 1 veces.\n",
      "El valor Filmaciones audiovisuales se repite 1 veces.\n",
      "El valor Estudiando 3¬∫ de Psicología  se repite 1 veces.\n",
      "El valor Redactora en la sección de ciencia de un medio de comunicación online.  se repite 1 veces.\n",
      "El valor Social Media Strategist se repite 1 veces.\n",
      "El valor Funcionaria educación universitaria se repite 1 veces.\n",
      "El valor Clínica Veterinaria se repite 1 veces.\n",
      "El valor Musicoterapeuta  se repite 1 veces.\n",
      "El valor Consultoría informática  se repite 1 veces.\n",
      "El valor Técnico superior de medio ambiente se repite 1 veces.\n",
      "El valor Comedor escolar  - Tienda de zapatos se repite 1 veces.\n",
      "El valor Diseñador gráfico en agencia de publicidad se repite 1 veces.\n",
      "El valor Dependiente se repite 1 veces.\n",
      "El valor Maquilladora freelance en audiovisuales se repite 1 veces.\n",
      "El valor Venta online se repite 1 veces.\n",
      "El valor no procede, parado se repite 1 veces.\n",
      "El valor Técnico de vídeo. se repite 1 veces.\n",
      "El valor Técnica Superior Sociología  se repite 1 veces.\n",
      "El valor Administrativa contable se repite 1 veces.\n",
      "El valor Coordinación y redes sociales en festival de música más profesora en un curso de producción y gestión de festivales se repite 1 veces.\n",
      "El valor Estudiaba para ocupar una futura plaza de interina se repite 1 veces.\n",
      "El valor Educador se repite 1 veces.\n",
      "El valor Industria farmacéutica se repite 1 veces.\n",
      "El valor editor de video/grafista se repite 1 veces.\n",
      "El valor Informática  se repite 1 veces.\n",
      "El valor A cargo del diseño y del equipo de diseño de accesorios de Scalpers y Mim se repite 1 veces.\n",
      "El valor Terapeuta  se repite 1 veces.\n",
      "El valor Productor Informativos TV se repite 1 veces.\n",
      "El valor Pasear perros se repite 1 veces.\n",
      "El valor Construcción se repite 1 veces.\n",
      "El valor business Intelligence se repite 1 veces.\n",
      "El valor Trabajo en una galería de arte y doy clase en una escuela de fotografía. También tengo actividad profesional como artista por cuenta propia.  se repite 1 veces.\n",
      "El valor Producción audiovisual  se repite 1 veces.\n",
      "El valor Camarero de barra se repite 1 veces.\n",
      "El valor Marketing digital se repite 1 veces.\n",
      "El valor Programador informático se repite 1 veces.\n",
      "El valor Ayudante de hostelería  se repite 1 veces.\n",
      "El valor Administrativa en un hipermercado se repite 1 veces.\n",
      "El valor Producción de fotografia se repite 1 veces.\n",
      "El valor Librero se repite 1 veces.\n",
      "El valor Ilustrador se repite 1 veces.\n",
      "El valor  Comercial se repite 1 veces.\n",
      "El valor Camarera. Asistente administrartivo. se repite 1 veces.\n",
      "El valor Cajera se repite 1 veces.\n",
      "El valor Diseñador gráfico se repite 1 veces.\n",
      "El valor Psicólogo-psicoterpéuta, psicólogo investigador se repite 1 veces.\n",
      "El valor Psicóloga terapeuta se repite 1 veces.\n",
      "El valor Producer en una agencia de publicidad se repite 1 veces.\n",
      "El valor Arquitecto se repite 1 veces.\n",
      "El valor Producción Audiovisual  se repite 1 veces.\n",
      "El valor Monitor de ocio y tiempo libre. se repite 1 veces.\n",
      "El valor arquitecto se repite 1 veces.\n",
      "El valor Diseñador gráfico para tv se repite 1 veces.\n",
      "El valor Investigación  se repite 1 veces.\n",
      "El valor Periodista freelance se repite 1 veces.\n",
      "El valor Peluquera se repite 1 veces.\n",
      "El valor Músico se repite 1 veces.\n",
      "El valor Editora de contenidos (teletrabajo) se repite 1 veces.\n",
      "El valor Hostelería y estilismo se repite 1 veces.\n",
      "El valor Contable en asesoria se repite 1 veces.\n",
      "El valor Auxiliar de arte se repite 1 veces.\n",
      "El valor √öltimo trabajo durante la campaña de navidad y trabajos freelance esporádicos. Estudiante a tiempo completo  se repite 1 veces.\n",
      "El valor Auxiliar administrativo  se repite 1 veces.\n",
      "El valor Informatica se repite 1 veces.\n",
      "El valor Supermercados.  se repite 1 veces.\n",
      "El valor analista/diseñador se repite 1 veces.\n",
      "El valor Butanero se repite 1 veces.\n",
      "El valor Auxiliar de enfermería  se repite 1 veces.\n",
      "El valor Copy creativa se repite 1 veces.\n",
      "El valor Trabajo con contrato a 15h/semana y dos trabajos más sin contrato uno de 12h y otro de 5h por semana.  se repite 1 veces.\n",
      "El valor Tecnico se repite 1 veces.\n",
      "El valor Educadora en centro de rehabilitación psicosocial con personas con enfermedad mental se repite 1 veces.\n",
      "El valor Mantenimiento en Metro de Madrid se repite 1 veces.\n",
      "El valor Programa de empleo temporal PET  se repite 1 veces.\n",
      "El valor Logística se repite 1 veces.\n",
      "El valor Técnico de iluminación se repite 1 veces.\n",
      "El valor ninguno se repite 1 veces.\n",
      "El valor Profesora y autora de textos escolares. Precaria se repite 1 veces.\n",
      "El valor Trabajo ocasional en hostelería / Ferias y promociones se repite 1 veces.\n",
      "El valor Account Manager se repite 1 veces.\n",
      "El valor Diseñadora se repite 1 veces.\n",
      "El valor Peluquería se repite 1 veces.\n",
      "El valor Gestión Cultural se repite 1 veces.\n",
      "El valor Desarrollo Big Data se repite 1 veces.\n",
      "El valor Recepcionista  se repite 1 veces.\n",
      "El valor Estudio de oposiciones se repite 1 veces.\n",
      "El valor Autonoma/hostelería y empleada del hogar (cuidado de menores) se repite 1 veces.\n",
      "El valor Quality Analyst se repite 1 veces.\n",
      "El valor Atención al visitante en Museos se repite 1 veces.\n",
      "El valor Conserge se repite 1 veces.\n",
      "El valor Construcción  se repite 1 veces.\n",
      "El valor Clases en red se repite 1 veces.\n",
      "El valor Orientadores  se repite 1 veces.\n",
      "El valor Administración  se repite 1 veces.\n",
      "El valor Tecnico medio ambiente se repite 1 veces.\n",
      "El valor Psicoterapia se repite 1 veces.\n",
      "El valor Administrativa en registro de l propiedad  se repite 1 veces.\n",
      "El valor Limpiadora, encargada de compras y médicos en una casa de un matrimonio mayor se repite 1 veces.\n",
      "El valor Tatuaje  se repite 1 veces.\n",
      "El valor Trabajador social  se repite 1 veces.\n",
      "El valor Cuidador personas con diversidad funcional se repite 1 veces.\n",
      "El valor Administativo se repite 1 veces.\n",
      "El valor Cajera en tienda de ropa se repite 1 veces.\n",
      "El valor Gerente tienda se repite 1 veces.\n",
      "El valor Tatuador se repite 1 veces.\n",
      "El valor Psicóloga se repite 1 veces.\n",
      "El valor Runner/ se repite 1 veces.\n",
      "El valor Técnico Sociosanitario en residencia se repite 1 veces.\n",
      "El valor Esteticista se repite 1 veces.\n",
      "El valor Diseñadora de ropa se repite 1 veces.\n",
      "El valor Agente inmobiliario  se repite 1 veces.\n",
      "El valor Tenporal se repite 1 veces.\n",
      "El valor Educador residencia se repite 1 veces.\n",
      "El valor Mozo de almacén  se repite 1 veces.\n",
      "El valor Psicologa se repite 1 veces.\n",
      "El valor Integradora social centro de menores tutelados se repite 1 veces.\n",
      "El valor Venta al detalle se repite 1 veces.\n",
      "El valor Peón de almacén se repite 1 veces.\n",
      "El valor Gestora de emergencias  se repite 1 veces.\n",
      "El valor Ingeniero se repite 1 veces.\n",
      "El valor Educación artística se repite 1 veces.\n",
      "El valor Auxiliar en cei  se repite 1 veces.\n",
      "El valor Técnica en uñad y maquilladora se repite 1 veces.\n",
      "El valor pastelería  se repite 1 veces.\n",
      "El valor Revisión de contenido se repite 1 veces.\n",
      "El valor Diseñadora gráfica y dirección y organización de festival. se repite 1 veces.\n",
      "El valor Coordinadora se repite 1 veces.\n",
      "El valor gestión de escuela de surf/ albergue / campamento  se repite 1 veces.\n",
      "El valor Camarera en un bar se repite 1 veces.\n",
      "El valor Social media manager  se repite 1 veces.\n",
      "El valor Socorrista piscina climatizada se repite 1 veces.\n",
      "El valor Ayudante de cocina se repite 1 veces.\n",
      "El valor Ilustración  se repite 1 veces.\n",
      "El valor Rodaje de serie de televisión se repite 1 veces.\n",
      "El valor Diseñador gráfico en una empresa (presencial) se repite 1 veces.\n",
      "El valor Veterinaria se repite 1 veces.\n",
      "El valor Maestra de educación especial  se repite 1 veces.\n",
      "El valor Production Assistant se repite 1 veces.\n",
      "El valor Técnico y recepcionista se repite 1 veces.\n",
      "El valor Electromecánico se repite 1 veces.\n",
      "El valor Trabajadora de supermercado se repite 1 veces.\n",
      "El valor Educación, aunque lo dejé en noviembre para montar mi propia empresa. se repite 1 veces.\n",
      "El valor Dirección de arte en publicidad  se repite 1 veces.\n",
      "El valor Maquilladora se repite 1 veces.\n",
      "El valor Adninistrativo se repite 1 veces.\n",
      "El valor Hybris Architect se repite 1 veces.\n",
      "El valor Dependienta tienda se repite 1 veces.\n",
      "El valor Trabajo como cajerx de supermercado se repite 1 veces.\n",
      "El valor Profesora interina. Estuve también en el paro unos meses.  se repite 1 veces.\n",
      "El valor Costurera se repite 1 veces.\n",
      "El valor Sector Industrial se repite 1 veces.\n",
      "El valor Investigadora científica  se repite 1 veces.\n",
      "El valor Community Manager se repite 1 veces.\n",
      "El valor Administración en una ONG se repite 1 veces.\n",
      "El valor Consultor de RRHH se repite 1 veces.\n",
      "El valor Cuido de niños y personas dependientes se repite 1 veces.\n",
      "El valor Operaria industrial  se repite 1 veces.\n",
      "El valor Peón limpieza se repite 1 veces.\n",
      "El valor Consultoría Industrial se repite 1 veces.\n",
      "El valor Trabajo voluntario de tipo social se repite 1 veces.\n",
      "El valor Encargada en cafetería-librería  se repite 1 veces.\n",
      "El valor Administrativa/Moza de almacén en tienda online de ropa se repite 1 veces.\n",
      "El valor Opositora se repite 1 veces.\n",
      "El valor Higienista dental se repite 1 veces.\n",
      "El valor Recepcionista apartamentos  se repite 1 veces.\n",
      "El valor Fisioterapeuta se repite 1 veces.\n",
      "El valor Fines de semana trabajo sin contrato  se repite 1 veces.\n",
      "El valor Opositor  se repite 1 veces.\n",
      "El valor Diseñadora en una empresa de restauracion se repite 1 veces.\n",
      "El valor Graduada social se repite 1 veces.\n",
      "El valor Atención al cliente  se repite 1 veces.\n",
      "El valor Integradora social en aula TEA se repite 1 veces.\n",
      "El valor pizzería  se repite 1 veces.\n",
      "El valor Daba clases particulares dos veces por semana pero estaba en paro se repite 1 veces.\n",
      "El valor Comercio textil se repite 1 veces.\n",
      "El valor Trading se repite 1 veces.\n",
      "El valor Reservas en el sector turismo se repite 1 veces.\n",
      "El valor Gestor Contable Y Laboral  se repite 1 veces.\n",
      "El valor Limpiadora de coches se repite 1 veces.\n",
      "El valor Mozo almacen se repite 1 veces.\n",
      "El valor Asesora de ventas en tienda de bricolaje se repite 1 veces.\n",
      "El valor Dependienta de tienda de moda, estudiante y estudiante en prácticas  se repite 1 veces.\n",
      "El valor Aux farmacia se repite 1 veces.\n",
      "El valor Consultora multinacional se repite 1 veces.\n",
      "El valor Redactora senior se repite 1 veces.\n",
      "El valor Administrativo sanitario se repite 1 veces.\n",
      "El valor Profesor de batería en escuela municipal y músico en espectáculo en vivo se repite 1 veces.\n",
      "El valor Tec.Sonido se repite 1 veces.\n",
      "El valor Indefinido se repite 1 veces.\n",
      "El valor Diseño gráfico como autonoma se repite 1 veces.\n",
      "El valor Contrato de menos horas de las que hacía regularmente,  sin cobrar las horas extras. se repite 1 veces.\n",
      "El valor Escaparatista se repite 1 veces.\n",
      "El valor Coordinador eventos se repite 1 veces.\n",
      "El valor Profesora interina se repite 1 veces.\n",
      "El valor Panadero se repite 1 veces.\n",
      "El valor Psicóloga  se repite 1 veces.\n",
      "El valor Gerente empresa mayorista material eléctrico se repite 1 veces.\n",
      "El valor Estudiante/postproducción audiovisual se repite 1 veces.\n",
      "El valor Cobductor se repite 1 veces.\n",
      "El valor Técnico de laboratorio  se repite 1 veces.\n",
      "El valor Desde enero, en periodo de prueba se repite 1 veces.\n",
      "El valor Personal de supermercado se repite 1 veces.\n",
      "El valor Personal Supermercados se repite 1 veces.\n",
      "El valor Técnico Anatomia patológica se repite 1 veces.\n",
      "El valor Dependienta tienda de diseño gráfico hasta Diciembre 2019, de ahí a la actualidad mismos jefes pero creando un futuro negocio online de regalo creativo que no ha podido despegar debido a la situación actual por Covid se repite 1 veces.\n",
      "El valor Educación infantil se repite 1 veces.\n",
      "El valor Artesana se repite 1 veces.\n",
      "El valor Educación se repite 1 veces.\n",
      "El valor Cajera en Media Markt se repite 1 veces.\n",
      "El valor Monitora de natación  se repite 1 veces.\n",
      "El valor Fisioterapeuta en residencias de ancianos  se repite 1 veces.\n",
      "El valor Supermercados  se repite 1 veces.\n",
      "El valor Autónomo  se repite 1 veces.\n",
      "El valor Alquiler de coches se repite 1 veces.\n",
      "El valor Dependiente tienda se repite 1 veces.\n",
      "El valor Autonoma, ceramista se repite 1 veces.\n",
      "El valor Erte se repite 1 veces.\n",
      "El valor Departamento de compras se repite 1 veces.\n",
      "El valor Esteticien se repite 1 veces.\n",
      "El valor Administrador de sistemas informáticos. se repite 1 veces.\n",
      "El valor Monitora residencial con enfermos TMG se repite 1 veces.\n",
      "El valor Dependienta  se repite 1 veces.\n",
      "El valor Tengo una marca de camisetas que hago yo misma  se repite 1 veces.\n",
      "El valor De hecho esperaba unas prácticas los últimos seis meses y cuando iba a empezarlas empezó también el confinamiento. se repite 1 veces.\n",
      "El valor En paro se repite 1 veces.\n",
      "El valor Contramaestre de embarcación de trabajo se repite 1 veces.\n",
      "El valor Técnico de calidad en empresa alimentaria se repite 1 veces.\n",
      "El valor Dependienta/encargada sector textil se repite 1 veces.\n",
      "El valor Ama de casa se repite 1 veces.\n",
      "El valor Técnico especialista en radiodiagnóstico  se repite 1 veces.\n",
      "El valor Encargada centro de estetica se repite 1 veces.\n",
      "El valor Dietista cocina central (comedores escolares) se repite 1 veces.\n",
      "El valor Directora de proyectos se repite 1 veces.\n",
      "El valor Responsable de evaluación de proveedores en empresa de alimentación se repite 1 veces.\n",
      "El valor Consultoría de negocio se repite 1 veces.\n",
      "El valor Administración/recepción  se repite 1 veces.\n"
     ]
    }
   ],
   "source": [
    "i = 26\n",
    "repeated_values = data.iloc[:, i].value_counts()[data.iloc[:, i].value_counts() > 0].index.tolist()\n",
    "for value in repeated_values:\n",
    "  count = data.iloc[:, i].value_counts()[value]\n",
    "  print(f\"El valor {value} se repite {count} veces.\")"
   ]
  },
  {
   "cell_type": "markdown",
   "metadata": {
    "id": "FdRKNrjDrwdh"
   },
   "source": [
    "# Columna 27: ¬øQué duración tenía su jornada laboral ANTES (en los 12 meses anteriores al inicio de la cuarentena o la mayor parte de ese tiempo):"
   ]
  },
  {
   "cell_type": "code",
   "execution_count": 84,
   "metadata": {
    "colab": {
     "base_uri": "https://localhost:8080/"
    },
    "executionInfo": {
     "elapsed": 16,
     "status": "ok",
     "timestamp": 1717951872893,
     "user": {
      "displayName": "BERTA PADILLA BAEZA",
      "userId": "17038178126289984285"
     },
     "user_tz": -120
    },
    "id": "wVNX5lr2r2nJ",
    "outputId": "a9fa11e6-ecf0-4af7-d212-6ff06ecd92c3"
   },
   "outputs": [
    {
     "name": "stdout",
     "output_type": "stream",
     "text": [
      "El valor Tiempo completo (aproximadamente 40h) se repite 694 veces.\n",
      "El valor Tiempo parcial (aproximadamente 20h) se repite 165 veces.\n",
      "El valor Menos de 20 h se repite 51 veces.\n"
     ]
    }
   ],
   "source": [
    "i = 27\n",
    "repeated_values = data.iloc[:, i].value_counts()[data.iloc[:, i].value_counts() > 0].index.tolist()\n",
    "for value in repeated_values:\n",
    "  count = data.iloc[:, i].value_counts()[value]\n",
    "  print(f\"El valor {value} se repite {count} veces.\")"
   ]
  },
  {
   "cell_type": "code",
   "execution_count": 85,
   "metadata": {
    "colab": {
     "base_uri": "https://localhost:8080/"
    },
    "executionInfo": {
     "elapsed": 5,
     "status": "ok",
     "timestamp": 1717951872893,
     "user": {
      "displayName": "BERTA PADILLA BAEZA",
      "userId": "17038178126289984285"
     },
     "user_tz": -120
    },
    "id": "QrwWZObIr7tm",
    "outputId": "29e565fd-82dd-43cb-da91-41200c7a82c0"
   },
   "outputs": [
    {
     "name": "stdout",
     "output_type": "stream",
     "text": [
      "El valor Tiempo completo (aproximadamente 40h) se repite 694 veces - 70.74 %.\n",
      "El valor Tiempo parcial (aproximadamente 20h) se repite 165 veces - 16.82 %.\n",
      "El valor No procede se repite 71 veces - 7.24 %.\n",
      "El valor Menos de 20 h se repite 51 veces - 5.20 %.\n",
      "Hay un 0.00% de casos NaN.\n"
     ]
    }
   ],
   "source": [
    "i = 27\n",
    "\n",
    "jornada = ['Tiempo completo (aproximadamente 40h)', 'Tiempo parcial (aproximadamente 20h)', 'Menos de 20 h', 'No procede']\n",
    "\n",
    "for j in range(len(data)):\n",
    "  if data.iloc[j,i] not in jornada:\n",
    "    data.iloc[j,i] = 'No procede'\n",
    "\n",
    "repeated_values = data.iloc[:, i].value_counts()[data.iloc[:, i].value_counts() > 0].index.tolist()\n",
    "for value in repeated_values:\n",
    "  count = data.iloc[:, i].value_counts()[value]\n",
    "  perc = count*100/len(data)\n",
    "  print(f\"El valor {value} se repite {count} veces - {perc:.2f} %.\")\n",
    "\n",
    "# % de NaNs\n",
    "prnan_percentage = data.iloc[:,i].isna().mean() * 100\n",
    "print(f\"Hay un {prnan_percentage:.2f}% de casos NaN.\")"
   ]
  },
  {
   "cell_type": "markdown",
   "metadata": {
    "id": "EitnuKQatZr1"
   },
   "source": [
    "# Columna 28: ¬øCu√°l ha sido su situación laboral DURANTE la cuarentena?\n"
   ]
  },
  {
   "cell_type": "code",
   "execution_count": 86,
   "metadata": {
    "colab": {
     "base_uri": "https://localhost:8080/"
    },
    "executionInfo": {
     "elapsed": 3,
     "status": "ok",
     "timestamp": 1717951872893,
     "user": {
      "displayName": "BERTA PADILLA BAEZA",
      "userId": "17038178126289984285"
     },
     "user_tz": -120
    },
    "id": "cNtBzuDgteuk",
    "outputId": "29f19a5f-560a-4ce5-d79b-71d6874ec432"
   },
   "outputs": [
    {
     "name": "stdout",
     "output_type": "stream",
     "text": [
      "El valor Teletrabajo por cuenta ajena se repite 320 veces.\n",
      "El valor ERTE se repite 161 veces.\n",
      "El valor Parado sin subsidio se repite 109 veces.\n",
      "El valor Trabajo presencial por cuenta ajena se repite 88 veces.\n",
      "El valor Parado con subsidio se repite 68 veces.\n",
      "El valor Estudiando desde casa se repite 56 veces.\n",
      "El valor Autónomo/a o empresario/a en cese de actividad por COVID-19 se repite 50 veces.\n",
      "El valor Teletrabajo por cuenta propia se repite 44 veces.\n",
      "El valor Pensionista se repite 29 veces.\n",
      "El valor Flexibilización horaria en el trabajo se repite 20 veces.\n",
      "El valor Trabajador/a del hogar se repite 9 veces.\n",
      "El valor Trabajo presencial por cuenta propia se repite 7 veces.\n",
      "El valor ERE se repite 1 veces.\n"
     ]
    }
   ],
   "source": [
    "i = 28\n",
    "repeated_values = data.iloc[:, i].value_counts()[data.iloc[:, i].value_counts() > 0].index.tolist()\n",
    "for value in repeated_values:\n",
    "  count = data.iloc[:, i].value_counts()[value]\n",
    "  print(f\"El valor {value} se repite {count} veces.\")"
   ]
  },
  {
   "cell_type": "code",
   "execution_count": 87,
   "metadata": {
    "colab": {
     "base_uri": "https://localhost:8080/"
    },
    "executionInfo": {
     "elapsed": 459,
     "status": "ok",
     "timestamp": 1717951873350,
     "user": {
      "displayName": "BERTA PADILLA BAEZA",
      "userId": "17038178126289984285"
     },
     "user_tz": -120
    },
    "id": "U-gWYtJHtjjK",
    "outputId": "17d88d3a-20c8-45e2-888f-0627d925e32f"
   },
   "outputs": [
    {
     "name": "stdout",
     "output_type": "stream",
     "text": [
      "El valor Teletrabajo por cuenta ajena se repite 320 veces - 32.62 %.\n",
      "El valor ERTE se repite 161 veces - 16.41 %.\n",
      "El valor Parado sin subsidio se repite 109 veces - 11.11 %.\n",
      "El valor Trabajo presencial por cuenta ajena se repite 88 veces - 8.97 %.\n",
      "El valor Parado con subsidio se repite 68 veces - 6.93 %.\n",
      "El valor Estudiando desde casa se repite 56 veces - 5.71 %.\n",
      "El valor Autonomo/a o empresario/a en cese de actividad por COVID-19 se repite 50 veces - 5.10 %.\n",
      "El valor Teletrabajo por cuenta propia se repite 44 veces - 4.49 %.\n",
      "El valor Pensionista se repite 29 veces - 2.96 %.\n",
      "El valor Flexibilizacion horaria en el trabajo se repite 20 veces - 2.04 %.\n",
      "El valor otro se repite 19 veces - 1.94 %.\n",
      "El valor Trabajador/a del hogar se repite 9 veces - 0.92 %.\n",
      "El valor Trabajo presencial por cuenta propia se repite 7 veces - 0.71 %.\n",
      "El valor ERE se repite 1 veces - 0.10 %.\n",
      "Hay un 0.00% de casos NaN.\n"
     ]
    }
   ],
   "source": [
    "i = 28\n",
    "\n",
    "data.iloc[:,i] = data.iloc[:,i].replace(\"Autónomo/a o empresario/a en cese de actividad por COVID-19\", 'Autonomo/a o empresario/a en cese de actividad por COVID-19')\n",
    "data.iloc[:,i] = data.iloc[:,i].replace(\"Flexibilización horaria en el trabajo\", 'Flexibilizacion horaria en el trabajo')\n",
    "\n",
    "trabajo = ['Teletrabajo por cuenta ajena', 'ERTE', 'Trabajo presencial por cuenta ajena', 'Parado con subsidio', 'Parado sin subsidio', 'Trabajo presencial', 'Estudiando desde casa', 'Autonomo/a o empresario/a en cese de actividad por COVID-19', 'Teletrabajo por cuenta propia', 'Pensionista','Flexibilizacion horaria en el trabajo', 'Trabajador/a del hogar', 'Trabajo presencial por cuenta propia', 'ERE', 'otro']\n",
    "\n",
    "for j in range(len(data)):\n",
    "  if data.iloc[j,i] not in trabajo:\n",
    "    data.iloc[j,i] = 'otro'\n",
    "\n",
    "repeated_values = data.iloc[:, i].value_counts()[data.iloc[:, i].value_counts() > 0].index.tolist()\n",
    "for value in repeated_values:\n",
    "  count = data.iloc[:, i].value_counts()[value]\n",
    "  perc = count*100/len(data)\n",
    "  print(f\"El valor {value} se repite {count} veces - {perc:.2f} %.\")\n",
    "\n",
    "# % de NaNs\n",
    "prnan_percentage = data.iloc[:,i].isna().mean() * 100\n",
    "print(f\"Hay un {prnan_percentage:.2f}% de casos NaN.\")"
   ]
  },
  {
   "cell_type": "markdown",
   "metadata": {
    "id": "KFDWlmekyh0k"
   },
   "source": [
    "# Columna 29: Cual considera que podría ser su situación laboral o académica DESPUÉS de la crisis provocada por el coronavirus (en los 12 meses posteriores al fin de la cuarentena o la mayor parte de ese tiempo):?\n"
   ]
  },
  {
   "cell_type": "code",
   "execution_count": 88,
   "metadata": {
    "colab": {
     "base_uri": "https://localhost:8080/"
    },
    "executionInfo": {
     "elapsed": 11,
     "status": "ok",
     "timestamp": 1717951873351,
     "user": {
      "displayName": "BERTA PADILLA BAEZA",
      "userId": "17038178126289984285"
     },
     "user_tz": -120
    },
    "id": "TG6hvyeWymnB",
    "outputId": "e777eef4-1e3b-4852-cfbf-81a218892a82"
   },
   "outputs": [
    {
     "name": "stdout",
     "output_type": "stream",
     "text": [
      "El valor Trabajo presencial por cuenta ajena se repite 397 veces.\n",
      "El valor Teletrabajo por cuenta ajena se repite 128 veces.\n",
      "El valor Parado sin subsidio se repite 106 veces.\n",
      "El valor Parado con subsidio se repite 71 veces.\n",
      "El valor Trabajo presencial por cuenta propia se repite 62 veces.\n",
      "El valor Flexibilización horaria en el trabajo se repite 47 veces.\n",
      "El valor Estudiando desde casa se repite 47 veces.\n",
      "El valor Teletrabajo por cuenta propia se repite 38 veces.\n",
      "El valor ERTE se repite 36 veces.\n",
      "El valor Pensionista se repite 30 veces.\n",
      "El valor Trabajador/a del hogar se repite 9 veces.\n",
      "El valor ERE se repite 4 veces.\n"
     ]
    }
   ],
   "source": [
    "i = 29\n",
    "repeated_values = data.iloc[:, i].value_counts()[data.iloc[:, i].value_counts() > 0].index.tolist()\n",
    "for value in repeated_values:\n",
    "  count = data.iloc[:, i].value_counts()[value]\n",
    "  print(f\"El valor {value} se repite {count} veces.\")"
   ]
  },
  {
   "cell_type": "code",
   "execution_count": 89,
   "metadata": {
    "colab": {
     "base_uri": "https://localhost:8080/"
    },
    "executionInfo": {
     "elapsed": 9,
     "status": "ok",
     "timestamp": 1717951873351,
     "user": {
      "displayName": "BERTA PADILLA BAEZA",
      "userId": "17038178126289984285"
     },
     "user_tz": -120
    },
    "id": "C31K-QAWypsu",
    "outputId": "4a715649-6e68-48ce-f036-f5f7899a60c8"
   },
   "outputs": [
    {
     "name": "stdout",
     "output_type": "stream",
     "text": [
      "El valor Trabajo presencial por cuenta ajena se repite 397 veces - 40.47 %.\n",
      "El valor Teletrabajo por cuenta ajena se repite 128 veces - 13.05 %.\n",
      "El valor Parado sin subsidio se repite 106 veces - 10.81 %.\n",
      "El valor Parado con subsidio se repite 71 veces - 7.24 %.\n",
      "El valor Trabajo presencial por cuenta propia se repite 62 veces - 6.32 %.\n",
      "El valor Flexibilizacion horaria en el trabajo se repite 47 veces - 4.79 %.\n",
      "El valor Estudiando desde casa se repite 47 veces - 4.79 %.\n",
      "El valor Teletrabajo por cuenta propia se repite 38 veces - 3.87 %.\n",
      "El valor ERTE se repite 36 veces - 3.67 %.\n",
      "El valor Pensionista se repite 30 veces - 3.06 %.\n",
      "El valor Trabajador/a del hogar se repite 9 veces - 0.92 %.\n",
      "El valor otro se repite 6 veces - 0.61 %.\n",
      "El valor ERE se repite 4 veces - 0.41 %.\n",
      "Hay un 0.00% de casos NaN.\n"
     ]
    }
   ],
   "source": [
    "i = 29\n",
    "\n",
    "data.iloc[:,i] = data.iloc[:,i].replace(\"Flexibilización horaria en el trabajo\", 'Flexibilizacion horaria en el trabajo')\n",
    "\n",
    "trabajo = ['Teletrabajo por cuenta ajena', 'ERTE', 'Trabajo presencial por cuenta ajena', 'Parado con subsidio', 'Parado sin subsidio', 'Trabajo presencial', 'Estudiando desde casa', 'Autonomo/a o empresario/a en cese de actividad por COVID-19', 'Teletrabajo por cuenta propia', 'Pensionista','Flexibilizacion horaria en el trabajo', 'Trabajador/a del hogar', 'Trabajo presencial por cuenta propia', 'ERE', 'otro']\n",
    "\n",
    "for j in range(len(data)):\n",
    "  if data.iloc[j,i] not in trabajo:\n",
    "    data.iloc[j,i] = 'otro'\n",
    "\n",
    "repeated_values = data.iloc[:, i].value_counts()[data.iloc[:, i].value_counts() > 0].index.tolist()\n",
    "for value in repeated_values:\n",
    "  count = data.iloc[:, i].value_counts()[value]\n",
    "  perc = count*100/len(data)\n",
    "  print(f\"El valor {value} se repite {count} veces - {perc:.2f} %.\")\n",
    "\n",
    "# % de NaNs\n",
    "prnan_percentage = data.iloc[:,i].isna().mean() * 100\n",
    "print(f\"Hay un {prnan_percentage:.2f}% de casos NaN.\")"
   ]
  },
  {
   "cell_type": "code",
   "execution_count": 90,
   "metadata": {
    "colab": {
     "base_uri": "https://localhost:8080/"
    },
    "executionInfo": {
     "elapsed": 8,
     "status": "ok",
     "timestamp": 1717951873351,
     "user": {
      "displayName": "BERTA PADILLA BAEZA",
      "userId": "17038178126289984285"
     },
     "user_tz": -120
    },
    "id": "AJcZg9yAbweD",
    "outputId": "4aed460a-f890-4567-bbf1-d14bdeed3e54"
   },
   "outputs": [
    {
     "name": "stdout",
     "output_type": "stream",
     "text": [
      "381 personas no han cambiado la estructura\n",
      "Hay un 38.84% que no han cambiado la estructura\n"
     ]
    }
   ],
   "source": [
    "# Crear la columna de cambio de estructura (0: no cambio, 1: sí cambio)\n",
    "\n",
    "data['Cambio_formato_trabajo'] = (data.iloc[:, i-1] != data.iloc[:, i]).astype(int)\n",
    "\n",
    "# Calcular el número de personas que no han cambiado la estructura\n",
    "comparando_estructura = (data['Cambio_formato_trabajo'] == 0).sum()\n",
    "print(comparando_estructura, 'personas no han cambiado la estructura')\n",
    "\n",
    "# Calcular el porcentaje de personas que no han cambiado la estructura\n",
    "perc_cambio = comparando_estructura * 100 / len(data)\n",
    "print(f\"Hay un {perc_cambio:.2f}% que no han cambiado la estructura\")\n",
    "\n"
   ]
  },
  {
   "cell_type": "markdown",
   "metadata": {
    "id": "P92KeHyQzQWM"
   },
   "source": [
    "# Columna 30: En los últimos 12 meses ANTES del confinamiento, cual fue la principal ocupación de la PERSONA que aporta un mayor importe económico al HOGAR?"
   ]
  },
  {
   "cell_type": "code",
   "execution_count": 91,
   "metadata": {
    "colab": {
     "base_uri": "https://localhost:8080/"
    },
    "executionInfo": {
     "elapsed": 6,
     "status": "ok",
     "timestamp": 1717951873351,
     "user": {
      "displayName": "BERTA PADILLA BAEZA",
      "userId": "17038178126289984285"
     },
     "user_tz": -120
    },
    "id": "BWeTvJ5zzYzJ",
    "outputId": "4867dcda-e6c9-4c39-aab6-3c6b1263b4bf"
   },
   "outputs": [
    {
     "name": "stdout",
     "output_type": "stream",
     "text": [
      "El valor Altos/as ejecutivos/as, propiedad de negocios grandes, profesionales (arquitectura, dentistas, judicatura, abogacía, ingeniería, medicina, sociología, psicología, profesorado de la universidad...) se repite 212 veces.\n",
      "El valor Administración, propiedad de negocios pequeños (peritaje industriales, enfermería, estadística, informática, profesorado de secundaria...) se repite 166 veces.\n",
      "El valor Profesionales menores, artistas, supervisión (agentes inmobiliarios, trabajo social, profesorado de primaria, representantes de ventas...) se repite 147 veces.\n",
      "El valor Técnicos/as, semiprofesionales, propiedad de comercios medianos (controladores/as aéreos, dietistas, secretarios/as, técnicos/as de ventas...) se repite 117 veces.\n",
      "El valor Operarios/as, trabajadore/a semi-cualificado/a (transportes, cocina, peluquería...) se repite 90 veces.\n",
      "El valor Trabajadores/as no cualificados/as (camareros/as, basuras, jardines....) se repite 68 veces.\n",
      "El valor Jubilado/a o pensionista se repite 62 veces.\n",
      "El valor Propietarios/as de negocios muy pequeños, trabajo manual cualificado, artesanos/as, agricultores/as (electricidad, panadería, carpintería, soldadura...) se repite 57 veces.\n",
      "El valor Ventas, propiedad de pequeños negocios (cajeros/as, mecanografía, teleoperadores/as....) se repite 45 veces.\n",
      "El valor Jornaleros/as, trabajos menores de servicios (limpieza, portería, lavaplatos) se repite 13 veces.\n"
     ]
    }
   ],
   "source": [
    "i = 30\n",
    "repeated_values = data.iloc[:, i].value_counts()[data.iloc[:, i].value_counts() > 0].index.tolist()\n",
    "for value in repeated_values:\n",
    "  count = data.iloc[:, i].value_counts()[value]\n",
    "  print(f\"El valor {value} se repite {count} veces.\")"
   ]
  },
  {
   "cell_type": "code",
   "execution_count": 92,
   "metadata": {
    "colab": {
     "base_uri": "https://localhost:8080/"
    },
    "executionInfo": {
     "elapsed": 419,
     "status": "ok",
     "timestamp": 1717951873765,
     "user": {
      "displayName": "BERTA PADILLA BAEZA",
      "userId": "17038178126289984285"
     },
     "user_tz": -120
    },
    "id": "lufKxqb_zdJi",
    "outputId": "43b413d0-c105-4b5d-f4f1-d370f6746285"
   },
   "outputs": [
    {
     "name": "stdout",
     "output_type": "stream",
     "text": [
      "El valor Altos/as ejecutivos/as, propiedad de negocios grandes, profesionales se repite 212 veces - 21.61 %.\n",
      "El valor otro se repite 170 veces - 17.33 %.\n",
      "El valor Profesionales menores, artistas, supervision se repite 147 veces - 14.98 %.\n",
      "El valor Tecnicos/as, semiprofesionales, propiedad de comercios medianos se repite 117 veces - 11.93 %.\n",
      "El valor Operarios/as, trabajadore/a semi-cualificado/a se repite 90 veces - 9.17 %.\n",
      "El valor Trabajadores/as no cualificados/as se repite 68 veces - 6.93 %.\n",
      "El valor Jubilado/a o pensionista se repite 62 veces - 6.32 %.\n",
      "El valor Propietarios/as de negocios muy pequenos, trabajo manual cualificado, artesanos/as, agricultores/as se repite 57 veces - 5.81 %.\n",
      "El valor Ventas, propiedad de pequenos negocios se repite 45 veces - 4.59 %.\n",
      "El valor Jornaleros/as, trabajos menores de servicios se repite 13 veces - 1.33 %.\n",
      "Hay un 0.00% de casos NaN.\n"
     ]
    }
   ],
   "source": [
    "i = 30\n",
    "\n",
    "data.iloc[:,i] = data.iloc[:,i].replace(\"Altos/as ejecutivos/as, propiedad de negocios grandes, profesionales (arquitectura, dentistas, judicatura, abogacía, ingeniería, medicina, sociología, psicología, profesorado de la universidad...)\", 'Altos/as ejecutivos/as, propiedad de negocios grandes, profesionales')\n",
    "data.iloc[:,i] = data.iloc[:,i].replace(\"Administración, propiedad de negocios pequeños (peritaje industriales, enfermería, estadística, inform√°tica, profesorado de secundaria...)\", 'Administracion, propiedad de negocios pequenos')\n",
    "data.iloc[:,i] = data.iloc[:,i].replace(\"Profesionales menores, artistas, supervisión (agentes inmobiliarios, trabajo social, profesorado de primaria, representantes de ventas...)\", 'Profesionales menores, artistas, supervision')\n",
    "data.iloc[:,i] = data.iloc[:,i].replace(\"Técnicos/as, semiprofesionales, propiedad de comercios medianos (controladores/as aéreos, dietistas, secretarios/as, técnicos/as de ventas...)\", 'Tecnicos/as, semiprofesionales, propiedad de comercios medianos')\n",
    "data.iloc[:,i] = data.iloc[:,i].replace(\"Operarios/as, trabajadore/a semi-cualificado/a (transportes, cocina, peluquería...)\", 'Operarios/as, trabajadore/a semi-cualificado/a')\n",
    "data.iloc[:,i] = data.iloc[:,i].replace(\"Trabajadores/as no cualificados/as (camareros/as, basuras, jardines....)\", 'Trabajadores/as no cualificados/as')\n",
    "data.iloc[:,i] = data.iloc[:,i].replace(\"Propietarios/as de negocios muy pequeños, trabajo manual cualificado, artesanos/as, agricultores/as (electricidad, panadería, carpintería, soldadura...)\", 'Propietarios/as de negocios muy pequenos, trabajo manual cualificado, artesanos/as, agricultores/as')\n",
    "data.iloc[:,i] = data.iloc[:,i].replace(\"Ventas, propiedad de pequeños negocios (cajeros/as, mecanografía, teleoperadores/as....)\", 'Ventas, propiedad de pequenos negocios')\n",
    "data.iloc[:,i] = data.iloc[:,i].replace(\"Jornaleros/as, trabajos menores de servicios (limpieza, portería, lavaplatos)\", 'Jornaleros/as, trabajos menores de servicios')\n",
    "\n",
    "trabajo = ['Altos/as ejecutivos/as, propiedad de negocios grandes, profesionales','Administracion, propiedad de negocios pequenos', 'Profesionales menores, artistas, supervision','Tecnicos/as, semiprofesionales, propiedad de comercios medianos', 'Operarios/as, trabajadore/a semi-cualificado/a', 'Trabajadores/as no cualificados/as', 'Jubilado/a o pensionista', 'Propietarios/as de negocios muy pequenos, trabajo manual cualificado, artesanos/as, agricultores/as', 'Ventas, propiedad de pequenos negocios', 'Jornaleros/as, trabajos menores de servicios', 'otro' ]\n",
    "\n",
    "for j in range(len(data)):\n",
    "  if data.iloc[j,i] not in trabajo:\n",
    "    data.iloc[j,i] = 'otro'\n",
    "\n",
    "repeated_values = data.iloc[:, i].value_counts()[data.iloc[:, i].value_counts() > 0].index.tolist()\n",
    "for value in repeated_values:\n",
    "  count = data.iloc[:, i].value_counts()[value]\n",
    "  perc = count*100/len(data)\n",
    "  print(f\"El valor {value} se repite {count} veces - {perc:.2f} %.\")\n",
    "\n",
    "# % de NaNs\n",
    "prnan_percentage = data.iloc[:,i].isna().mean() * 100\n",
    "print(f\"Hay un {prnan_percentage:.2f}% de casos NaN.\")"
   ]
  },
  {
   "cell_type": "markdown",
   "metadata": {
    "id": "RElhL2dF4Puw"
   },
   "source": [
    "# Columna 31: Cuáll era el nivel aproximado de ingresos MENSUALES netos regulares en su HOGAR (unidad en la que se comparten gastos: individuo, pareja, familia...) ANTES de la cuarentena (en los 12 meses anteriores al inicio de la cuarentena o la mayor parte de ese tiempo):"
   ]
  },
  {
   "cell_type": "code",
   "execution_count": 93,
   "metadata": {
    "colab": {
     "base_uri": "https://localhost:8080/"
    },
    "executionInfo": {
     "elapsed": 12,
     "status": "ok",
     "timestamp": 1717951873765,
     "user": {
      "displayName": "BERTA PADILLA BAEZA",
      "userId": "17038178126289984285"
     },
     "user_tz": -120
    },
    "id": "Ch4No4RM4XE4",
    "outputId": "ad71dba3-5388-4a48-a566-8e143760814c"
   },
   "outputs": [
    {
     "name": "stdout",
     "output_type": "stream",
     "text": [
      "El valor De 1000 a 1499 euros se repite 179 veces.\n",
      "El valor De 1500 a 1999 euros se repite 172 veces.\n",
      "El valor De 2000 a 2499 euros se repite 151 veces.\n",
      "El valor De 2500 a 2999 euros se repite 123 veces.\n",
      "El valor De 3000 a 3499 euros se repite 91 veces.\n",
      "El valor De 500 a 999 euros se repite 91 veces.\n",
      "El valor De 3500 a 3999 euros se repite 56 veces.\n",
      "El valor De 4000 a 4499 euros se repite 51 veces.\n",
      "El valor Más de 5000 euros se repite 31 veces.\n",
      "El valor Hasta 499 euros se repite 23 veces.\n"
     ]
    }
   ],
   "source": [
    "i = 31\n",
    "repeated_values = data.iloc[:, i].value_counts()[data.iloc[:, i].value_counts() > 0].index.tolist()\n",
    "for value in repeated_values:\n",
    "  count = data.iloc[:, i].value_counts()[value]\n",
    "  print(f\"El valor {value} se repite {count} veces.\")"
   ]
  },
  {
   "cell_type": "code",
   "execution_count": 94,
   "metadata": {
    "colab": {
     "base_uri": "https://localhost:8080/"
    },
    "executionInfo": {
     "elapsed": 8,
     "status": "ok",
     "timestamp": 1717951873765,
     "user": {
      "displayName": "BERTA PADILLA BAEZA",
      "userId": "17038178126289984285"
     },
     "user_tz": -120
    },
    "id": "EOKOqI844kGU",
    "outputId": "fa511511-363f-4232-c9c5-77ad048318ed"
   },
   "outputs": [
    {
     "name": "stdout",
     "output_type": "stream",
     "text": [
      "El valor De 1000 a 1499 euros se repite 223 veces - 22.73 %.\n",
      "El valor De 1500 a 1999 euros se repite 172 veces - 17.53 %.\n",
      "El valor De 2000 a 2499 euros se repite 151 veces - 15.39 %.\n",
      "El valor De 2500 a 2999 euros se repite 123 veces - 12.54 %.\n",
      "El valor De 3000 a 3499 euros se repite 91 veces - 9.28 %.\n",
      "El valor De 500 a 999 euros se repite 91 veces - 9.28 %.\n",
      "El valor De 3500 a 3999 euros se repite 56 veces - 5.71 %.\n",
      "El valor De 4000 a 4499 euros se repite 51 veces - 5.20 %.\n",
      "El valor Hasta 499 euros se repite 23 veces - 2.34 %.\n",
      "Hay un 0.00% de casos NaN.\n"
     ]
    }
   ],
   "source": [
    "i = 31\n",
    "\n",
    "ingresos_mensuales = ['0 euros', 'Hasta 499 euros','De 500 a 999 euros', 'De 1000 a 1499 euros','De 1500 a 1999 euros', 'De 2000 a 2499 euros', 'De 2500 a 2999 euros', 'De 3000 a 3499 euros', 'De 3500 a 3999 euros', 'De 4000 a 4499 euros', 'De 4500 a 5000 euros', 'M√°s de 5000 euros']\n",
    "\n",
    "for j in range(len(data)):\n",
    "  if data.iloc[j,i] not in ingresos_mensuales:\n",
    "    data.iloc[j,i] = 'De 1000 a 1499 euros'\n",
    "\n",
    "repeated_values = data.iloc[:, i].value_counts()[data.iloc[:, i].value_counts() > 0].index.tolist()\n",
    "for value in repeated_values:\n",
    "  count = data.iloc[:, i].value_counts()[value]\n",
    "  perc = count*100/len(data)\n",
    "  print(f\"El valor {value} se repite {count} veces - {perc:.2f} %.\")\n",
    "\n",
    "# % de NaNs\n",
    "prnan_percentage = data.iloc[:,i].isna().mean() * 100\n",
    "print(f\"Hay un {prnan_percentage:.2f}% de casos NaN.\")"
   ]
  },
  {
   "cell_type": "code",
   "execution_count": 95,
   "metadata": {
    "id": "O2gwunAMyuYp"
   },
   "outputs": [],
   "source": [
    "for j in range(len(data)):\n",
    "  if data.iloc[j,i] not in ingresos_mensuales:\n",
    "    print(display(data.iloc[j,:]))"
   ]
  },
  {
   "cell_type": "markdown",
   "metadata": {
    "id": "24tZQ0Shsnbj"
   },
   "source": [
    "\n",
    "\n",
    "\n",
    "# Columna 32: cual era el nivel aproximado de ingresos MENSUALES netos regulares en su HOGAR (unidad en la que se comparten gastos: individuo, pareja, familia...) DURANTE la cuarentena:"
   ]
  },
  {
   "cell_type": "code",
   "execution_count": 96,
   "metadata": {
    "colab": {
     "base_uri": "https://localhost:8080/"
    },
    "executionInfo": {
     "elapsed": 5,
     "status": "ok",
     "timestamp": 1717951873765,
     "user": {
      "displayName": "BERTA PADILLA BAEZA",
      "userId": "17038178126289984285"
     },
     "user_tz": -120
    },
    "id": "_YEqT7CstOqT",
    "outputId": "3d3f75c9-ff94-46f7-a731-2b51d68f9627"
   },
   "outputs": [
    {
     "name": "stdout",
     "output_type": "stream",
     "text": [
      "El valor De 1000 a 1499 euros se repite 206 veces.\n",
      "El valor De 1500 a 1999 euros se repite 142 veces.\n",
      "El valor De 500 a 999 euros se repite 141 veces.\n",
      "El valor De 2000 a 2499 euros se repite 113 veces.\n",
      "El valor De 2500 a 2999 euros se repite 90 veces.\n",
      "El valor Hasta 499 euros se repite 70 veces.\n",
      "El valor De 3000 a 3499 euros se repite 64 veces.\n",
      "El valor De 3500 a 3999 euros se repite 39 veces.\n",
      "El valor De 4000 a 4499 euros se repite 32 veces.\n",
      "El valor Más de 5000 euros se repite 23 veces.\n",
      "El valor De 4500 a 5000 euros se repite 9 veces.\n",
      "El valor 0 se repite 8 veces.\n",
      "El valor 300 se repite 3 veces.\n",
      "El valor Ninguno se repite 2 veces.\n",
      "El valor 0 euros se repite 2 veces.\n",
      "El valor Aún no he cobrado se repite 1 veces.\n",
      "El valor Menos de 200 se repite 1 veces.\n",
      "El valor 370‚Ç¨ se repite 1 veces.\n",
      "El valor 200 euros se repite 1 veces.\n",
      "El valor 0 debido a la tardanza en los pagos del ERTE por parte del SEPE.  se repite 1 veces.\n",
      "El valor No avía ingreso  se repite 1 veces.\n",
      "El valor 0‚Ç¨ se repite 1 veces.\n",
      "El valor Nada.no hemls cobrado nada durante todo este tiempo. se repite 1 veces.\n",
      "El valor No lo sé bien  se repite 1 veces.\n",
      "El valor depende del lugar se repite 1 veces.\n",
      "El valor Actualmente no tengo ingresos se repite 1 veces.\n",
      "El valor Menos de 499‚Ç¨ se repite 1 veces.\n",
      "El valor Cero euros  se repite 1 veces.\n",
      "El valor Nada, alguna pequeña ayuda de la familia para lo básico se repite 1 veces.\n",
      "El valor 400 euros se repite 1 veces.\n",
      "El valor 650‚Ç¨ 1 sueldo 3 personas se repite 1 veces.\n",
      "El valor 0‚Ç¨, a día de hoy no hemos contado ningún ERTE se repite 1 veces.\n",
      "El valor Los dos estamos sin trabajo, 0 se repite 1 veces.\n",
      "El valor Ninguno. No han pagado el erte se repite 1 veces.\n",
      "El valor Yo todavia no he cobrado el poco paro que me queda por problemas asociados a mi ex empresa, mi ex pareja ha venido a compartir el cuidado de nuestra hija y poder hacer frente a gastos básicos, vivienda y comida, el no ha cobrado el erte tampoco aún, estamos viviendo de los pocos ahorros que teníamos  se repite 1 veces.\n",
      "El valor 650 se repite 1 veces.\n",
      "El valor Sin ingresos durante la cuarentena se repite 1 veces.\n",
      "El valor Cero, ya que aún no he cobrado el ERTE. Estoy viviendo de los ahorros. se repite 1 veces.\n",
      "El valor Aún no he cobrado el ERTE se repite 1 veces.\n",
      "El valor no se la respuesta se repite 1 veces.\n"
     ]
    }
   ],
   "source": [
    "i = 32\n",
    "repeated_values = data.iloc[:, i].value_counts()[data.iloc[:, i].value_counts() > 0].index.tolist()\n",
    "for value in repeated_values:\n",
    "  count = data.iloc[:, i].value_counts()[value]\n",
    "  print(f\"El valor {value} se repite {count} veces.\")"
   ]
  },
  {
   "cell_type": "code",
   "execution_count": 97,
   "metadata": {
    "colab": {
     "base_uri": "https://localhost:8080/"
    },
    "executionInfo": {
     "elapsed": 460,
     "status": "ok",
     "timestamp": 1717951874221,
     "user": {
      "displayName": "BERTA PADILLA BAEZA",
      "userId": "17038178126289984285"
     },
     "user_tz": -120
    },
    "id": "5pxq_AtRtTua",
    "outputId": "280b99fe-7d43-4b7a-d0dd-a3f1f11f2a95"
   },
   "outputs": [
    {
     "name": "stdout",
     "output_type": "stream",
     "text": [
      "El valor De 1000 a 1499 euros se repite 279 veces - 28.44 %.\n",
      "El valor De 1500 a 1999 euros se repite 142 veces - 14.48 %.\n",
      "El valor De 500 a 999 euros se repite 141 veces - 14.37 %.\n",
      "El valor De 2000 a 2499 euros se repite 113 veces - 11.52 %.\n",
      "El valor De 2500 a 2999 euros se repite 90 veces - 9.17 %.\n",
      "El valor Hasta 499 euros se repite 70 veces - 7.14 %.\n",
      "El valor De 3000 a 3499 euros se repite 64 veces - 6.52 %.\n",
      "El valor De 3500 a 3999 euros se repite 39 veces - 3.98 %.\n",
      "El valor De 4000 a 4499 euros se repite 32 veces - 3.26 %.\n",
      "El valor De 4500 a 5000 euros se repite 9 veces - 0.92 %.\n",
      "El valor 0 euros se repite 2 veces - 0.20 %.\n",
      "Hay un 0.00% de casos NaN.\n"
     ]
    }
   ],
   "source": [
    "i = 32\n",
    "ingresos_mensuales = ['0 euros', 'Hasta 499 euros','De 500 a 999 euros', 'De 1000 a 1499 euros','De 1500 a 1999 euros', 'De 2000 a 2499 euros', 'De 2500 a 2999 euros', 'De 3000 a 3499 euros', 'De 3500 a 3999 euros', 'De 4000 a 4499 euros', 'De 4500 a 5000 euros', 'M√°s de 5000 euros']\n",
    "for j in range(len(data)):\n",
    "  if data.iloc[j,i] not in ingresos_mensuales:\n",
    "    data.iloc[j,i] = 'De 1000 a 1499 euros'\n",
    "\n",
    "repeated_values = data.iloc[:, i].value_counts()[data.iloc[:, i].value_counts() > 0].index.tolist()\n",
    "for value in repeated_values:\n",
    "  count = data.iloc[:, i].value_counts()[value]\n",
    "  perc = count*100/len(data)\n",
    "  print(f\"El valor {value} se repite {count} veces - {perc:.2f} %.\")\n",
    "\n",
    "# % de NaNs\n",
    "prnan_percentage = data.iloc[:,i].isna().mean() * 100\n",
    "print(f\"Hay un {prnan_percentage:.2f}% de casos NaN.\")"
   ]
  },
  {
   "cell_type": "code",
   "execution_count": 98,
   "metadata": {
    "colab": {
     "base_uri": "https://localhost:8080/"
    },
    "executionInfo": {
     "elapsed": 14,
     "status": "ok",
     "timestamp": 1717951874222,
     "user": {
      "displayName": "BERTA PADILLA BAEZA",
      "userId": "17038178126289984285"
     },
     "user_tz": -120
    },
    "id": "5JR0Mjl1QyAJ",
    "outputId": "47a762c2-c63d-4688-80ea-b426041d78dd"
   },
   "outputs": [
    {
     "name": "stdout",
     "output_type": "stream",
     "text": [
      "32\n",
      "486 personas no han cambiado la estructura\n",
      "Hay un 49.54% que no han cambiado la estructura\n"
     ]
    }
   ],
   "source": [
    "# Crear la columna de cambio de estructura (0: no cambio, 1: sí cambio)\n",
    "print(i)\n",
    "\n",
    "data['Cambio_ingresos'] = (data.iloc[:, i-1] != data.iloc[:, i]).astype(int)\n",
    "\n",
    "# Calcular el número de personas que no han cambiado la estructura\n",
    "comparando_estructura = (data['Cambio_ingresos'] == 0).sum()\n",
    "print(comparando_estructura, 'personas no han cambiado la estructura')\n",
    "\n",
    "# Calcular el porcentaje de personas que no han cambiado la estructura\n",
    "perc_cambio = comparando_estructura * 100 / len(data)\n",
    "print(f\"Hay un {perc_cambio:.2f}% que no han cambiado la estructura\")\n",
    "\n"
   ]
  },
  {
   "cell_type": "markdown",
   "metadata": {
    "id": "U5GRsufyepcC"
   },
   "source": [
    "# Columna 33: DURANTE el confinamiento en su hogar:"
   ]
  },
  {
   "cell_type": "code",
   "execution_count": 99,
   "metadata": {
    "colab": {
     "base_uri": "https://localhost:8080/"
    },
    "executionInfo": {
     "elapsed": 11,
     "status": "ok",
     "timestamp": 1717951874222,
     "user": {
      "displayName": "BERTA PADILLA BAEZA",
      "userId": "17038178126289984285"
     },
     "user_tz": -120
    },
    "id": "cbVHyy5-eyOB",
    "outputId": "71ef061a-ca94-4037-89e7-bf9137ed0182"
   },
   "outputs": [
    {
     "name": "stdout",
     "output_type": "stream",
     "text": [
      "El valor Han tenido suficiente dinero para sostenerse se repite 821 veces.\n",
      "El valor Han tenido que pedir dinero prestado a una amistad o familiar para sostenerse se repite 91 veces.\n",
      "El valor Ha tenido que pedir una ayuda para sostenerse se repite 46 veces.\n",
      "El valor No han tenido ni han podido pedir suficiente dinero para sostenerse se repite 12 veces.\n",
      "El valor Han tenido que pedir un préstamo al banco para sostenerse se repite 11 veces.\n",
      "Hay un 0.00% de casos NaN.\n",
      "0\n"
     ]
    }
   ],
   "source": [
    "i = 33\n",
    "repeated_values = data.iloc[:, i].value_counts()[data.iloc[:, i].value_counts() > 0].index.tolist()\n",
    "for value in repeated_values:\n",
    "  count = data.iloc[:, i].value_counts()[value]\n",
    "  print(f\"El valor {value} se repite {count} veces.\")\n",
    "  # % de NaNs\n",
    "prnan_percentage = data.iloc[:,i].isna().mean() * 100\n",
    "print(f\"Hay un {prnan_percentage:.2f}% de casos NaN.\")\n",
    "print(data.iloc[:,i].isna().sum())\n",
    "\n",
    "for j in range(len(data)):\n",
    "  if data.iloc[j,i] not in repeated_values:\n",
    "    print(display(data.iloc[j,0]))"
   ]
  },
  {
   "cell_type": "markdown",
   "metadata": {
    "id": "kfSwVH1se8Is"
   },
   "source": [
    "# Columna 34: Supongamos que usted (y su cónyuge o pareja) convierte en dinero todos sus fondos en cuentas corrientes y/o de ahorros, inversiones en Bolsa, bonos/letras, bienes inmuebles, y venden su casa, sus vehículos y todas sus cosas de valor. A continuación, supongamos que el dinero de todas estas operaciones lo utiliza para pagar su hipoteca y otros créditos, préstamos, deudas y tarjetas de crédito. ¬øLe quedaría dinero después de pagar todas sus deudas, o todavía debería dinero? (basta con un estimación aproximada)."
   ]
  },
  {
   "cell_type": "code",
   "execution_count": 100,
   "metadata": {
    "colab": {
     "base_uri": "https://localhost:8080/"
    },
    "executionInfo": {
     "elapsed": 10,
     "status": "ok",
     "timestamp": 1717951874222,
     "user": {
      "displayName": "BERTA PADILLA BAEZA",
      "userId": "17038178126289984285"
     },
     "user_tz": -120
    },
    "id": "tadzPZF6e7s-",
    "outputId": "9880dc9f-0ae4-41e5-8600-87dff248292c"
   },
   "outputs": [
    {
     "name": "stdout",
     "output_type": "stream",
     "text": [
      "El valor Le quedaría dinero se repite 574 veces.\n",
      "El valor Seguiría debiendo dinero se repite 265 veces.\n",
      "El valor Las deudas serían equivalentes a los bienes se repite 130 veces.\n",
      "El valor Las deudas serían equivalentes a los bienes (paridad) se repite 1 veces.\n",
      "Hay un 0.00% de casos NaN.\n",
      "0\n"
     ]
    }
   ],
   "source": [
    "i = 34\n",
    "repeated_values = data.iloc[:, i].value_counts()[data.iloc[:, i].value_counts() > 0].index.tolist()\n",
    "for value in repeated_values:\n",
    "  count = data.iloc[:, i].value_counts()[value]\n",
    "  print(f\"El valor {value} se repite {count} veces.\")\n",
    "\n",
    "data.iloc[:, i] = data.iloc[:, i].fillna('Le quedaría dinero')\n",
    "\n",
    "prnan_percentage = data.iloc[:,i].isna().mean() * 100\n",
    "print(f\"Hay un {prnan_percentage:.2f}% de casos NaN.\")\n",
    "print(data.iloc[:,i].isna().sum())"
   ]
  },
  {
   "cell_type": "markdown",
   "metadata": {
    "id": "D2Nc9u3kfFie"
   },
   "source": [
    "# Columna 35: Por favor, indique si presenta EN LA ACTUALIDAD alguna de las siguientes condiciones de salud:"
   ]
  },
  {
   "cell_type": "code",
   "execution_count": 101,
   "metadata": {
    "colab": {
     "base_uri": "https://localhost:8080/"
    },
    "executionInfo": {
     "elapsed": 360,
     "status": "ok",
     "timestamp": 1717951874575,
     "user": {
      "displayName": "BERTA PADILLA BAEZA",
      "userId": "17038178126289984285"
     },
     "user_tz": -120
    },
    "id": "nqXCsN6pfK54",
    "outputId": "b58f475a-64d6-4845-9a3c-f58a9ba41516"
   },
   "outputs": [
    {
     "name": "stdout",
     "output_type": "stream",
     "text": [
      "El valor No presenta se repite 429 veces.\n",
      "El valor Alergias se repite 105 veces.\n",
      "El valor Migraña se repite 58 veces.\n",
      "El valor Alergias, Migraña se repite 32 veces.\n",
      "El valor Respiratorias, Alergias se repite 31 veces.\n",
      "El valor Endocrino-metabólicas se repite 28 veces.\n",
      "El valor Digestivas se repite 23 veces.\n",
      "El valor Respiratorias se repite 19 veces.\n",
      "El valor Digestivas, Alergias se repite 13 veces.\n",
      "El valor Inmunológicas se repite 11 veces.\n",
      "El valor Digestivas, Migraña se repite 11 veces.\n",
      "El valor Neurológicas se repite 7 veces.\n",
      "El valor No presenta, Alergias se repite 5 veces.\n",
      "El valor Endocrino-metabólicas, Alergias se repite 5 veces.\n",
      "El valor Digestivas, Alergias, Migraña se repite 5 veces.\n",
      "El valor Secuela motora accidente se repite 4 veces.\n",
      "El valor Respiratorias, Alergias, Migraña se repite 4 veces.\n",
      "El valor Hematológicas-oncológicas se repite 4 veces.\n",
      "El valor Cardiovasculares se repite 4 veces.\n",
      "El valor Infecciosas se repite 4 veces.\n",
      "El valor Respiratorias, Migraña se repite 3 veces.\n",
      "El valor Digestivas, Endocrino-metabólicas se repite 3 veces.\n",
      "El valor Digestivas, Inmunológicas se repite 3 veces.\n",
      "El valor Respiratorias, Inmunológicas, Alergias se repite 3 veces.\n",
      "El valor Endocrino-metabólicas, Alergias, Migraña se repite 3 veces.\n",
      "El valor Inmunológicas, Alergias se repite 3 veces.\n",
      "El valor Endocrino-metabólicas, Migraña se repite 3 veces.\n",
      "El valor Mentales se repite 3 veces.\n",
      "El valor Neurológicas, Endocrino-metabólicas, Migraña se repite 2 veces.\n",
      "El valor Digestivas, Endocrino-metabólicas, Alergias, Migraña se repite 2 veces.\n",
      "El valor Respiratorias, Digestivas, Alergias, Migraña se repite 2 veces.\n",
      "El valor Ansiedad se repite 2 veces.\n",
      "El valor Endocrino-metabólicas, Cardiovasculares se repite 2 veces.\n",
      "El valor Inmunológicas, Endocrino-metabólicas se repite 2 veces.\n",
      "El valor Neurológicas, Alergias se repite 2 veces.\n",
      "El valor Respiratorias, Migraña, Hipoxia y ansiedad se repite 1 veces.\n",
      "El valor Alergias, Migraña, Psicológicas Ataques de pánico y ansiedad se repite 1 veces.\n",
      "El valor Sordera parcial se repite 1 veces.\n",
      "El valor No presenta, Embarazo se repite 1 veces.\n",
      "El valor Respiratorias, Endocrino-metabólicas, Alergias, Reartrodesis lumbar se repite 1 veces.\n",
      "El valor Operaciones de hernias discales se repite 1 veces.\n",
      "El valor Fractura de peroné actualmente  se repite 1 veces.\n",
      "El valor Inmunológicas, Polimiositis se repite 1 veces.\n",
      "El valor Lesiones en tendones del hombro se repite 1 veces.\n",
      "El valor Digestivas, Endocrino-metabólicas, Alergias se repite 1 veces.\n",
      "El valor Digestivas, Endocrino-metabólicas, Migraña se repite 1 veces.\n",
      "El valor Digestivas, Migraña, Ansiedad  se repite 1 veces.\n",
      "El valor Respiratorias, Digestivas, Alergias, Fibromialgia, Depresión se repite 1 veces.\n",
      "El valor Endocrino-metabólicas, Dermatológica, Urológica se repite 1 veces.\n",
      "El valor Migraña, Psicológica/psiquiátrica se repite 1 veces.\n",
      "El valor Digestivas, Neurológicas, Migraña, Fibromialgia, Endometriosis se repite 1 veces.\n",
      "El valor Alergias, Ansiedad  se repite 1 veces.\n",
      "El valor Neurológicas, Migraña se repite 1 veces.\n",
      "El valor Contracturas se repite 1 veces.\n",
      "El valor Tept se repite 1 veces.\n",
      "El valor Alergias, Nefrológicas se repite 1 veces.\n",
      "El valor Digestivas, Endocrino-metabólicas, Ansiedad se repite 1 veces.\n",
      "El valor No presenta, Endocrino-metabólicas se repite 1 veces.\n",
      "El valor Respiratorias, Diabetes tipo 2 se repite 1 veces.\n",
      "El valor Respiratorias, Hematológicas-oncológicas, Endocrino-metabólicas se repite 1 veces.\n",
      "El valor Respiratorias, Neurológicas, Cardiovasculares se repite 1 veces.\n",
      "El valor Dolores espalda se repite 1 veces.\n",
      "El valor Digestivas, Inmunológicas, Cardiovasculares se repite 1 veces.\n",
      "El valor Digestivas, Endocrino-metabólicas, Psiquiátrica se repite 1 veces.\n",
      "El valor Depresión se repite 1 veces.\n",
      "El valor Respiratorias, Neurológicas, Migraña se repite 1 veces.\n",
      "El valor Transtorno del sueño se repite 1 veces.\n",
      "El valor Secuela motora accidente, He pasado el covid-19 en el confinamiento se repite 1 veces.\n",
      "El valor Digestivas, Inmunológicas, Endocrino-metabólicas, Alergias, Migraña, Secuela motora accidente, Fibromialgia se repite 1 veces.\n",
      "El valor Hipertensión se repite 1 veces.\n",
      "El valor Inmunológicas, Neurológicas, Endocrino-metabólicas se repite 1 veces.\n",
      "El valor Migraña, Ginecologicas se repite 1 veces.\n",
      "El valor Digestivas, Alergias, Ansiedad se repite 1 veces.\n",
      "El valor Alergias, Artrosis se repite 1 veces.\n",
      "El valor Hipertensión arterial se repite 1 veces.\n",
      "El valor Cardiovasculares, Migraña se repite 1 veces.\n",
      "El valor Respiratorias, Infecciosas, Digestivas, Inmunológicas, Hematológicas-oncológicas, Neurológicas, Endocrino-metabólicas, Cardiovasculares, Migraña, Distrofia ocular con problemas en tratamiento se repite 1 veces.\n",
      "El valor Inmunológicas, Endocrino-metabólicas, Alergias, Migraña, Fibromialgia, Segunda opinión reumatología. Pendiente para valorar fibromialgia ???  se repite 1 veces.\n",
      "El valor Digestivas, Migraña, Discopatía degenerativa (hernias discales)  se repite 1 veces.\n",
      "El valor Embarazo se repite 1 veces.\n",
      "El valor Digestivas, Estreñimiento se repite 1 veces.\n",
      "El valor Respiratorias, Cardiovasculares, Fibromialgia se repite 1 veces.\n",
      "El valor Digestivas, Inmunológicas, Alergias se repite 1 veces.\n",
      "El valor Respiratorias, Digestivas, Alergias, Fibromialgia se repite 1 veces.\n",
      "El valor he tenido tendencia al asma se repite 1 veces.\n",
      "El valor Alergias, Migraña, Urológicas se repite 1 veces.\n",
      "El valor Digestivas, Cardiovasculares se repite 1 veces.\n",
      "El valor Respiratorias, Digestivas, Endocrino-metabólicas, Alergias se repite 1 veces.\n",
      "El valor Migraña, Desviación de columna  se repite 1 veces.\n",
      "El valor No presenta, Esguince de tobillo se repite 1 veces.\n",
      "El valor Respiratorias, Inmunológicas, Neurológicas, Endocrino-metabólicas, Alergias, Migraña, Artródesis y degenerativa  se repite 1 veces.\n",
      "El valor Pérdida de olfato y gusto desde el inicio del confinamiento (sin diagnosticar) se repite 1 veces.\n",
      "El valor No presenta, Espina Bífida  se repite 1 veces.\n",
      "El valor Inflamatoria - espondilitis anquilosante  se repite 1 veces.\n",
      "El valor Inmunológicas, Endocrino-metabólicas, Migraña se repite 1 veces.\n",
      "El valor Respiratorias, Neurológicas, Alergias, Migraña se repite 1 veces.\n",
      "El valor Otorrino se repite 1 veces.\n",
      "El valor Digestivas, Cardiovasculares, Alergias, Migraña se repite 1 veces.\n",
      "El valor Problemas de salud mental se repite 1 veces.\n",
      "El valor Problemas cervicales: 1 hernia y varias protusiones se repite 1 veces.\n",
      "El valor Endocrino-metabólicas, Migraña, Secuela motora accidente se repite 1 veces.\n",
      "El valor Inmunológicas, Cardiovasculares, Migraña se repite 1 veces.\n",
      "El valor Alergias, Hipotiroidismo subclínico se repite 1 veces.\n",
      "El valor Inmunológicas, Pongo inmunologica por una psoriasis bastante pronunciada se repite 1 veces.\n",
      "El valor Depresión, ansiedad se repite 1 veces.\n",
      "El valor Fatiga crónica se repite 1 veces.\n",
      "El valor Alergias, Ansiedad se repite 1 veces.\n",
      "El valor ansiedad, depresión se repite 1 veces.\n",
      "El valor Respiratorias, Cardiovasculares se repite 1 veces.\n",
      "El valor Urología se repite 1 veces.\n",
      "El valor Inmunológicas, Neurológicas se repite 1 veces.\n",
      "El valor Ansiedad depresiva se repite 1 veces.\n",
      "El valor Dolor de cabeza  se repite 1 veces.\n",
      "El valor Diabetes se repite 1 veces.\n",
      "El valor Hernias discales se repite 1 veces.\n",
      "El valor Depresion  se repite 1 veces.\n",
      "El valor No presenta, Dolores musculares por escoliosis en la coumna se repite 1 veces.\n",
      "El valor Digestivas, Inmunológicas, Alergias, Migraña se repite 1 veces.\n",
      "El valor Neurológicas, Endocrino-metabólicas se repite 1 veces.\n",
      "El valor Inmunológicas, Fibromialgia se repite 1 veces.\n",
      "El valor Neurológicas, Fibromialgia se repite 1 veces.\n",
      "El valor Digestivas, Migraña, Salud mental se repite 1 veces.\n",
      "El valor Varias bajadas de tensión. Perdida del conocimiento y desmayo. se repite 1 veces.\n",
      "El valor Respiratorias, Psicologicas y dematologicas se repite 1 veces.\n",
      "El valor Respiratorias, Digestivas, Inmunológicas, Endocrino-metabólicas, Alergias, Migraña se repite 1 veces.\n",
      "El valor Migraña, Secuela motora accidente se repite 1 veces.\n",
      "El valor Psicólogicas se repite 1 veces.\n",
      "El valor Respiratorias, Alergias, Embarazo, depresión  se repite 1 veces.\n",
      "El valor Trombocitosis se repite 1 veces.\n",
      "El valor Respiratorias, Digestivas, Inmunológicas se repite 1 veces.\n",
      "El valor Respiratorias, Digestivas, Alergias, Migraña, Celiaquia se repite 1 veces.\n",
      "El valor Alergias, Ginecológica se repite 1 veces.\n",
      "El valor Digestivas, Ansiedad  se repite 1 veces.\n",
      "El valor ansiedad se repite 1 veces.\n",
      "El valor Respiratorias, Digestivas, Cardiovasculares, Alergias, Migraña se repite 1 veces.\n",
      "El valor Migraña, Anemia y taticardia  se repite 1 veces.\n",
      "El valor Alergias, Migraña, Fibromialgia se repite 1 veces.\n",
      "El valor Digestivas, Endocrino-metabólicas, Migraña, Ansiedad, ataques de pánico, predepresiva se repite 1 veces.\n",
      "El valor Respiratorias, Endocrino-metabólicas, Migraña se repite 1 veces.\n",
      "El valor Alergias, Psiquiatricas se repite 1 veces.\n",
      "El valor Respiratorias, Digestivas se repite 1 veces.\n",
      "El valor Respiratorias, Digestivas, Endocrino-metabólicas, Migraña se repite 1 veces.\n",
      "El valor Digestivas, Ansiedad se repite 1 veces.\n",
      "El valor Respiratorias, TAG se repite 1 veces.\n",
      "El valor Alergias, Secuela motora accidente se repite 1 veces.\n"
     ]
    }
   ],
   "source": [
    "i = 35\n",
    "repeated_values = data.iloc[:, i].value_counts()[data.iloc[:, i].value_counts() > 0].index.tolist()\n",
    "for value in repeated_values:\n",
    "  count = data.iloc[:, i].value_counts()[value]\n",
    "  print(f\"El valor {value} se repite {count} veces.\")"
   ]
  },
  {
   "cell_type": "code",
   "execution_count": 102,
   "metadata": {
    "id": "yxPlw86BfXB0"
   },
   "outputs": [],
   "source": [
    "#valores = ['No presenta', 'Alergias','Migraña', 'Respiratorias', 'Endocrino-metabólicas', 'Digestivas', 'Inmunológicas', 'Hematológicas-oncológicas', 'Cardiovasculares', 'Infecciosas', 'Mentales' ]\n",
    "\n",
    "valores = ['condicion de salud']\n",
    "# Crear columnas para cada valor y inicializarlas en 0\n",
    "for valor in valores:\n",
    "    data[valor] = 1\n",
    "\n",
    "# Crear una columna para cada valor y marcar con 1 si el valor está presente en la columna original\n",
    "for j in range(len(data)):\n",
    "    for valor in valores:\n",
    "      valorx = 'No presenta'\n",
    "      if str(valorx) in str(data.iloc[j, i]) or pd.isna(data.iloc[j,i]):\n",
    "            data.at[j, valores[0]] = 0\n"
   ]
  },
  {
   "cell_type": "markdown",
   "metadata": {
    "id": "rSDyrJjGixqC"
   },
   "source": [
    "# Columna 36: Si ha recibido alguna vez un diagnóstico psiqui√°trico, por favor indique cu√°l:"
   ]
  },
  {
   "cell_type": "code",
   "execution_count": 103,
   "metadata": {
    "colab": {
     "base_uri": "https://localhost:8080/"
    },
    "executionInfo": {
     "elapsed": 4,
     "status": "ok",
     "timestamp": 1717951874575,
     "user": {
      "displayName": "BERTA PADILLA BAEZA",
      "userId": "17038178126289984285"
     },
     "user_tz": -120
    },
    "id": "GHP0iDMSivGF",
    "outputId": "19273792-f127-41f4-9fcf-a9952d54a339"
   },
   "outputs": [
    {
     "name": "stdout",
     "output_type": "stream",
     "text": [
      "El valor Nunca he recibido un diagnóstico psiquiátrico se repite 642 veces.\n",
      "El valor Depresión se repite 129 veces.\n",
      "El valor Ansiedad se repite 20 veces.\n",
      "El valor Trastorno de la conducta alimentaria se repite 16 veces.\n",
      "El valor Ansiedad  se repite 10 veces.\n",
      "El valor Depresión, Trastorno de la conducta alimentaria se repite 10 veces.\n",
      "El valor Depresión, Trastorno de la personalidad se repite 8 veces.\n",
      "El valor Depresión, Ansiedad se repite 7 veces.\n",
      "El valor Depresión, Trastorno de la conducta alimentaria, Trastorno de la personalidad se repite 5 veces.\n",
      "El valor Trastorno por consumo sustancias se repite 4 veces.\n",
      "El valor Trastorno de la personalidad se repite 4 veces.\n",
      "El valor Depresión, Trastorno de la conducta alimentaria, Ansiedad se repite 3 veces.\n",
      "El valor Psicosis se repite 3 veces.\n",
      "El valor TDAH se repite 2 veces.\n",
      "El valor TOC se repite 2 veces.\n",
      "El valor Ansiedad generalizada se repite 2 veces.\n",
      "El valor Depresión, Psicosis se repite 2 veces.\n",
      "El valor Nunca he recibido un diagnóstico psiquiátrico, Ansiedad se repite 2 veces.\n",
      "El valor Varios de los descritos anteriormente se repite 2 veces.\n",
      "El valor Trastorno de ansiedad  se repite 1 veces.\n",
      "El valor Depresión, Trastorno de la conducta alimentaria, T. Estrés postraumático complejo, fobia social, t. dismórfico corporal, TOC, t. ansiedad generalizada. se repite 1 veces.\n",
      "El valor Ansiedad crónica se repite 1 veces.\n",
      "El valor Trastorno obsesivo compulsivo se repite 1 veces.\n",
      "El valor Depresión, Trastorno Bipolar tipo II se repite 1 veces.\n",
      "El valor Depresión, Ansiedad  se repite 1 veces.\n",
      "El valor Depresión, Ansiedad, TOC se repite 1 veces.\n",
      "El valor Trastorno obsesivo se repite 1 veces.\n",
      "El valor Trastorno de la personalidad, Adicción  se repite 1 veces.\n",
      "El valor Trastorno de estrés postraumático  se repite 1 veces.\n",
      "El valor Trastorno de la conducta alimentaria, ansiedad generalizada se repite 1 veces.\n",
      "El valor Depresión, Trastorno de la conducta alimentaria, Ataques de pánico se repite 1 veces.\n",
      "El valor Depresión, ANSIEDAD se repite 1 veces.\n",
      "El valor Síntomas esquizofrénicos se repite 1 veces.\n",
      "El valor Depresión, Trastorno por consumo sustancias se repite 1 veces.\n",
      "El valor Trastornos del sueño y ansiedad derivados de un episodio violento  se repite 1 veces.\n",
      "El valor Depresión, Trastorno por consumo sustancias, Psicosis se repite 1 veces.\n",
      "El valor Depresión, Trastorno de pánico se repite 1 veces.\n",
      "El valor Ansiedad cronica se repite 1 veces.\n",
      "El valor Ansiedad, fobia social se repite 1 veces.\n",
      "El valor TDAH y altas capacidades se repite 1 veces.\n",
      "El valor Depresión  se repite 1 veces.\n",
      "El valor Depresión, ansiedad, TCA, posible TEA, estrés post-traumático se repite 1 veces.\n",
      "El valor Maniaco depresiva se repite 1 veces.\n",
      "El valor Trastorno obsesivo compulsivo  se repite 1 veces.\n",
      "El valor Trastorno de déficit de atención  se repite 1 veces.\n",
      "El valor Depresión, Trastorno adaptativo mixto se repite 1 veces.\n",
      "El valor Tept se repite 1 veces.\n",
      "El valor Depresión, Ansiedad, trastorno socio afectivo  se repite 1 veces.\n",
      "El valor Trastorno bipolar tipo dos se repite 1 veces.\n",
      "El valor Urología se repite 1 veces.\n",
      "El valor Estres postraumatico se repite 1 veces.\n",
      "El valor Trastorno de ansiedad generalizada se repite 1 veces.\n",
      "El valor TLP, hipomanía, depresión, rasgos psicóticos se repite 1 veces.\n",
      "El valor Depresión, Trastorno de ansiedad generalizado (TAG) se repite 1 veces.\n",
      "El valor Un T. O. C. Hace muchos años se repite 1 veces.\n",
      "El valor Depresión, Trastorno bipolar se repite 1 veces.\n",
      "El valor Depresión, Transtorno Mixto Ansioso Depresivo se repite 1 veces.\n",
      "El valor Ansiedad. se repite 1 veces.\n",
      "El valor Depresión, Hipocondría/Ansiedad se repite 1 veces.\n",
      "El valor Depresión, Trastorno de la conducta alimentaria, Trastorno de la personalidad, Trastorno por consumo sustancias, Psicosis se repite 1 veces.\n",
      "El valor Depresión, TCA, ansiedad, consumo de sustancias se repite 1 veces.\n",
      "El valor Trastorno de la conducta alimentaria, Trastorno por consumo sustancias se repite 1 veces.\n",
      "El valor TAG se repite 1 veces.\n",
      "El valor Ansiedad y ataques de pánico se repite 1 veces.\n",
      "El valor Depresión, Distimia se repite 1 veces.\n",
      "El valor Depresión, Distimia y cuadro de ansiedad se repite 1 veces.\n",
      "El valor bipolaridad tipo 2 se repite 1 veces.\n",
      "El valor Estrés crónico y ansiedad se repite 1 veces.\n",
      "El valor Depresión, Trastorno por consumo sustancias, Ansiedad y ataques de pánico se repite 1 veces.\n",
      "El valor Estres postraumatico por la muerte de un hermano en accidente se repite 1 veces.\n",
      "El valor Trastorno de la conducta alimentaria, Trastorno de la personalidad se repite 1 veces.\n",
      "El valor Depresión, Trastorno de ansiedad generalizado se repite 1 veces.\n",
      "El valor Depresión, Trastorno de la conducta alimentaria, Trastorno de la personalidad, Estres Post Traumatico se repite 1 veces.\n",
      "El valor Depresión, Ansiedad y Agorafobia  se repite 1 veces.\n",
      "El valor Cuadro de ansiedad  se repite 1 veces.\n",
      "El valor Depresión, Trastorno de la conducta alimentaria, Trastorno de la personalidad, Agorafobia se repite 1 veces.\n",
      "El valor Trastorno ansioso depresivo se repite 1 veces.\n",
      "El valor Depresión, Trastorno de estrés post traumático complejo y ansiedad se repite 1 veces.\n"
     ]
    }
   ],
   "source": [
    "i = 36\n",
    "repeated_values = data.iloc[:, i].value_counts()[data.iloc[:, i].value_counts() > 0].index.tolist()\n",
    "for value in repeated_values:\n",
    "  count = data.iloc[:, i].value_counts()[value]\n",
    "  print(f\"El valor {value} se repite {count} veces.\")"
   ]
  },
  {
   "cell_type": "code",
   "execution_count": 104,
   "metadata": {
    "id": "P5XHqbIGi2h4"
   },
   "outputs": [],
   "source": [
    "#valores = ['Nunca he recibido un diagnóstico psiqui√°trico', 'Depresión', 'nsiedad','Trastorno de la conducta alimentaria', 'Trastorno de la personalidad', 'Trastorno por consumo sustancias' ]\n",
    "\n",
    "valores = ['diagnostico_psiquiatrico']\n",
    "\n",
    "# Crear columnas para cada valor y inicializarlas en 0\n",
    "for valor in valores:\n",
    "    data[valor] = 1\n",
    "\n",
    "# Crear una columna para cada valor y marcar con 1 si el valor está presente en la columna original\n",
    "for j in range(len(data)):\n",
    "    for valor in valores:\n",
    "      valorx = 'Nunca he recibido un diagnóstico psiquiátrico'\n",
    "      if str(valorx) in str(data.iloc[j, i]) or pd.isna(data.iloc[j,i]):\n",
    "          data.at[j, valores[0]] = 0"
   ]
  },
  {
   "cell_type": "markdown",
   "metadata": {
    "id": "_kc-ptcgjvLy"
   },
   "source": [
    "# Columna 37: Recibe tratamiento o medicación psiqui√°trica ACTUALMENTE:"
   ]
  },
  {
   "cell_type": "code",
   "execution_count": 105,
   "metadata": {
    "colab": {
     "base_uri": "https://localhost:8080/"
    },
    "executionInfo": {
     "elapsed": 15,
     "status": "ok",
     "timestamp": 1717951874894,
     "user": {
      "displayName": "BERTA PADILLA BAEZA",
      "userId": "17038178126289984285"
     },
     "user_tz": -120
    },
    "id": "-G9c-ENKjuMa",
    "outputId": "a6b9bf81-8f2c-43e0-b68c-376b6c641619"
   },
   "outputs": [
    {
     "name": "stdout",
     "output_type": "stream",
     "text": [
      "El valor No se repite 876 veces.\n",
      "El valor Sí se repite 105 veces.\n"
     ]
    }
   ],
   "source": [
    "i = 37\n",
    "repeated_values = data.iloc[:, i].value_counts()[data.iloc[:, i].value_counts() > 0].index.tolist()\n",
    "\n",
    "for j in range(len(data)):\n",
    "  if pd.isna(data.iloc[j,i]):\n",
    "    data.iloc[j,i]= 'No'\n",
    "\n",
    "for value in repeated_values:\n",
    "  count = data.iloc[:, i].value_counts()[value]\n",
    "  print(f\"El valor {value} se repite {count} veces.\")\n",
    "\n"
   ]
  },
  {
   "cell_type": "markdown",
   "metadata": {
    "id": "XDIaIIBkj7TX"
   },
   "source": [
    "# Columna 38: Recibe tratamiento psicológico o sigue una terapia ACTUALMENTE:"
   ]
  },
  {
   "cell_type": "code",
   "execution_count": 106,
   "metadata": {
    "colab": {
     "base_uri": "https://localhost:8080/"
    },
    "executionInfo": {
     "elapsed": 10,
     "status": "ok",
     "timestamp": 1717951874895,
     "user": {
      "displayName": "BERTA PADILLA BAEZA",
      "userId": "17038178126289984285"
     },
     "user_tz": -120
    },
    "id": "ncoDwe4Fj64n",
    "outputId": "1ce06e18-e30e-4a57-c042-f3a04d026395"
   },
   "outputs": [
    {
     "name": "stdout",
     "output_type": "stream",
     "text": [
      "El valor No se repite 807 veces.\n",
      "El valor Sí se repite 174 veces.\n"
     ]
    }
   ],
   "source": [
    "i = 38\n",
    "repeated_values = data.iloc[:, i].value_counts()[data.iloc[:, i].value_counts() > 0].index.tolist()\n",
    "\n",
    "for j in range(len(data)):\n",
    "  if pd.isna(data.iloc[j,i]):\n",
    "    data.iloc[j,i]= 'No'\n",
    "\n",
    "for value in repeated_values:\n",
    "  count = data.iloc[:, i].value_counts()[value]\n",
    "  print(f\"El valor {value} se repite {count} veces.\")"
   ]
  },
  {
   "cell_type": "markdown",
   "metadata": {
    "id": "M9hZP_tnkDui"
   },
   "source": [
    "# Columna 39: Si ha consumido tóxicos con una frecuencia SEMANAL en los últimos 6 meses por favor indique cu√°les:"
   ]
  },
  {
   "cell_type": "code",
   "execution_count": 107,
   "metadata": {
    "colab": {
     "base_uri": "https://localhost:8080/"
    },
    "executionInfo": {
     "elapsed": 409,
     "status": "ok",
     "timestamp": 1717951875297,
     "user": {
      "displayName": "BERTA PADILLA BAEZA",
      "userId": "17038178126289984285"
     },
     "user_tz": -120
    },
    "id": "41bGUTUykLuW",
    "outputId": "f0df1914-e1fd-420f-edc0-6a128cab72a1"
   },
   "outputs": [
    {
     "name": "stdout",
     "output_type": "stream",
     "text": [
      "El valor No he consumido en ningún tóxico con frecuencia semanal en ese periodo se repite 215 veces.\n",
      "El valor Cafeína, Alcohol se repite 164 veces.\n",
      "El valor Cafeína se repite 159 veces.\n",
      "El valor Alcohol se repite 86 veces.\n",
      "El valor Cafeína, Tabaco, Alcohol se repite 78 veces.\n",
      "El valor Cafeína, Tabaco se repite 52 veces.\n",
      "El valor Cafeína, Tabaco, Alcohol, Cannabis se repite 49 veces.\n",
      "El valor Tabaco, Alcohol se repite 37 veces.\n",
      "El valor Tabaco se repite 22 veces.\n",
      "El valor Tabaco, Alcohol, Cannabis se repite 14 veces.\n",
      "El valor Cafeína, Tabaco, Cannabis se repite 11 veces.\n",
      "El valor Cafeína, Tabaco, Alcohol, Cannabis, Cocaína se repite 10 veces.\n",
      "El valor Cannabis se repite 9 veces.\n",
      "El valor Cafeína, Alcohol, Cannabis se repite 7 veces.\n",
      "El valor Cafeína, Alcohol, Otros: Indique cuáles se repite 6 veces.\n",
      "El valor No he consumido en ningún tóxico con frecuencia semanal en ese periodo, Cafeína se repite 6 veces.\n",
      "El valor Cafeína, Cannabis se repite 6 veces.\n",
      "El valor Tabaco, Cannabis se repite 5 veces.\n",
      "El valor Otros: Indique cuáles se repite 4 veces.\n",
      "El valor Tabaco, Alcohol, Cocaína se repite 4 veces.\n",
      "El valor Cafeína, Tabaco, Alcohol, Cocaína se repite 4 veces.\n",
      "El valor Alcohol, Cannabis se repite 3 veces.\n",
      "El valor Cafeína, Tabaco, Alcohol, Cannabis, Otros: Indique cuáles se repite 2 veces.\n",
      "El valor Cafeína, Otros: Indique cuáles se repite 2 veces.\n",
      "El valor Tabaco, Alcohol, Cannabis, Cocaína se repite 2 veces.\n",
      "El valor Cafeína, Alcohol, Opiáceos se repite 1 veces.\n",
      "El valor Cafeína, Tabaco, Cannabis, Opiáceos se repite 1 veces.\n",
      "El valor Cafeína, Tabaco, Alcohol, Cannabis, Alucinógenos se repite 1 veces.\n",
      "El valor Alcohol, Otros: Indique cuáles se repite 1 veces.\n",
      "El valor Cafeína, Tabaco, Cannabis, Cocaína se repite 1 veces.\n",
      "El valor No he consumido en ningún tóxico con frecuencia semanal en ese periodo, Alcohol se repite 1 veces.\n",
      "El valor Cafeína, Tabaco, Alcohol, Otros: Indique cuáles se repite 1 veces.\n",
      "El valor Cafeína, Tabaco, Alucinógenos se repite 1 veces.\n",
      "El valor Cafeína, Cannabis, Otros: Indique cuáles se repite 1 veces.\n",
      "El valor Tabaco, Alcohol, Cannabis, Cocaína, Alucinógenos se repite 1 veces.\n",
      "El valor Cafeína, Tabaco, Alcohol, Cannabis, Cocaína, Opiáceos, Alucinógenos se repite 1 veces.\n",
      "El valor Tabaco, Alcohol, Cannabis, Otros: Indique cuáles se repite 1 veces.\n",
      "El valor Tabaco, Cannabis, Cocaína se repite 1 veces.\n",
      "El valor Cafeína, Cannabis, Cocaína se repite 1 veces.\n",
      "El valor Cafeína, Tabaco, Alcohol, Cocaína, Opiáceos se repite 1 veces.\n",
      "El valor Cafeína, Alcohol, Cocaína, Opiáceos se repite 1 veces.\n"
     ]
    }
   ],
   "source": [
    "i = 39\n",
    "repeated_values = data.iloc[:, i].value_counts()[data.iloc[:, i].value_counts() > 0].index.tolist()\n",
    "for value in repeated_values:\n",
    "  count = data.iloc[:, i].value_counts()[value]\n",
    "  print(f\"El valor {value} se repite {count} veces.\")"
   ]
  },
  {
   "cell_type": "code",
   "execution_count": 108,
   "metadata": {
    "id": "8-DFoHookOza"
   },
   "outputs": [],
   "source": [
    "#valores = ['No he consumido en ningún tóxico con frecuencia semanal en ese periodo', 'Cafeína', 'Alcohol','Tabaco', 'Cannabis', 'Opi√°ceos', 'Alucinógenos' ]\n",
    "\n",
    "valores = ['toxico con frecuencia']\n",
    "# Crear columnas para cada valor y inicializarlas en 0\n",
    "for valor in valores:\n",
    "    data[valor] = 1\n",
    "\n",
    "# Crear una columna para cada valor y marcar con 1 si el valor está presente en la columna original\n",
    "for j in range(len(data)):\n",
    "    for valor in valores:\n",
    "      valorx = 'No he consumido en ningún tóxico con frecuencia semanal en ese periodo'\n",
    "      if str(valorx) in str(data.iloc[j, i]) or pd.isna(data.iloc[j,i]):\n",
    "          data.at[j, valores[0]] = 0"
   ]
  },
  {
   "cell_type": "markdown",
   "metadata": {
    "id": "3cxVoLr_k-It"
   },
   "source": [
    "# Columna 40: Por favor indique si necesita ayuda para las tareas cotidianas y de autocuidado como hacer la compra, realizar las tareas del hogar, lavarse y peinarse, cocinar, gestionar el dinero, etc."
   ]
  },
  {
   "cell_type": "code",
   "execution_count": 109,
   "metadata": {
    "colab": {
     "base_uri": "https://localhost:8080/"
    },
    "executionInfo": {
     "elapsed": 9,
     "status": "ok",
     "timestamp": 1717951875299,
     "user": {
      "displayName": "BERTA PADILLA BAEZA",
      "userId": "17038178126289984285"
     },
     "user_tz": -120
    },
    "id": "Lx8cXDxCk9rz",
    "outputId": "e401b90c-3ec4-4149-dcf8-61809883705d"
   },
   "outputs": [
    {
     "name": "stdout",
     "output_type": "stream",
     "text": [
      "El valor No necesito ayuda se repite 937 veces.\n",
      "El valor Necesito ayuda se repite 44 veces.\n"
     ]
    }
   ],
   "source": [
    "i = 40\n",
    "\n",
    "data.iloc[:, i] = data.iloc[:, i].fillna('No necesito ayuda')\n",
    "\n",
    "\n",
    "repeated_values = data.iloc[:, i].value_counts()[data.iloc[:, i].value_counts() > 0].index.tolist()\n",
    "\n",
    "\n",
    "for value in repeated_values:\n",
    "  count = data.iloc[:, i].value_counts()[value]\n",
    "  print(f\"El valor {value} se repite {count} veces.\")"
   ]
  },
  {
   "cell_type": "markdown",
   "metadata": {
    "id": "4R2PHU3elGdQ"
   },
   "source": [
    "# Columna 41: Por favor indique, si lo hay, el grado de discapacidad que indique su certificado % reconocido (0 si no tiene):\n",
    "\n",
    "https://www.boe.es/diario_boe/txt.php?id=BOE-A-2022-17105"
   ]
  },
  {
   "cell_type": "code",
   "execution_count": 110,
   "metadata": {
    "colab": {
     "base_uri": "https://localhost:8080/"
    },
    "executionInfo": {
     "elapsed": 9,
     "status": "ok",
     "timestamp": 1717951875299,
     "user": {
      "displayName": "BERTA PADILLA BAEZA",
      "userId": "17038178126289984285"
     },
     "user_tz": -120
    },
    "id": "JJG6LimwlGKO",
    "outputId": "acbf842c-1030-4efa-8e6d-5e1135dea71e"
   },
   "outputs": [
    {
     "name": "stdout",
     "output_type": "stream",
     "text": [
      "El valor 0.0 se repite 644 veces.\n",
      "El valor 33.0 se repite 6 veces.\n",
      "El valor 65.0 se repite 3 veces.\n",
      "El valor 38.0 se repite 2 veces.\n",
      "El valor 43.0 se repite 1 veces.\n",
      "El valor 66.0 se repite 1 veces.\n",
      "El valor 13.0 se repite 1 veces.\n",
      "El valor 19.0 se repite 1 veces.\n",
      "El valor 91.0 se repite 1 veces.\n",
      "El valor 7.0 se repite 1 veces.\n",
      "El valor 77.0 se repite 1 veces.\n",
      "El valor 8.0 se repite 1 veces.\n",
      "El valor 68.0 se repite 1 veces.\n",
      "El valor 35.0 se repite 1 veces.\n",
      "El valor 90.0 se repite 1 veces.\n",
      "El valor 53.0 se repite 1 veces.\n",
      "El valor 72.0 se repite 1 veces.\n",
      "El valor 62.0 se repite 1 veces.\n",
      "El valor 20.0 se repite 1 veces.\n",
      "El valor 67.0 se repite 1 veces.\n",
      "El valor 41.0 se repite 1 veces.\n",
      "El valor 81.0 se repite 1 veces.\n",
      "El valor 12.0 se repite 1 veces.\n",
      "El valor 40.0 se repite 1 veces.\n",
      "El valor 75.0 se repite 1 veces.\n"
     ]
    }
   ],
   "source": [
    "i = 41\n",
    "repeated_values = data.iloc[:, i].value_counts()[data.iloc[:, i].value_counts() > 0].index.tolist()\n",
    "for value in repeated_values:\n",
    "  count = data.iloc[:, i].value_counts()[value]\n",
    "  print(f\"El valor {value} se repite {count} veces.\")"
   ]
  },
  {
   "cell_type": "code",
   "execution_count": 111,
   "metadata": {
    "colab": {
     "base_uri": "https://localhost:8080/"
    },
    "executionInfo": {
     "elapsed": 269,
     "status": "ok",
     "timestamp": 1717951875562,
     "user": {
      "displayName": "BERTA PADILLA BAEZA",
      "userId": "17038178126289984285"
     },
     "user_tz": -120
    },
    "id": "2PI8bk2AlC81",
    "outputId": "661cde78-d35f-4ee2-bdb3-6ee3c11b2d97"
   },
   "outputs": [
    {
     "name": "stderr",
     "output_type": "stream",
     "text": [
      "C:\\Users\\Ceiec09\\AppData\\Local\\Temp\\ipykernel_9412\\3830589277.py:4: FutureWarning: Setting an item of incompatible dtype is deprecated and will raise an error in a future version of pandas. Value '0' has dtype incompatible with float64, please explicitly cast to a compatible dtype first.\n",
      "  data.iloc[j, i] = discapacidad[0]\n"
     ]
    },
    {
     "name": "stdout",
     "output_type": "stream",
     "text": [
      "El valor '0' se repite 949 veces.\n",
      "El valor '50-95' se repite 14 veces.\n",
      "El valor '25-49' se repite 12 veces.\n",
      "El valor '5-24' se repite 6 veces.\n"
     ]
    }
   ],
   "source": [
    "discapacidad = ['0','<5', '5-24', '25-49', '50-95', '96-100']\n",
    "for j in range(len(data)):\n",
    "    if pd.isna(data.iloc[j, i]):\n",
    "        data.iloc[j, i] = discapacidad[0]\n",
    "    else:\n",
    "        try:\n",
    "            data.iloc[j, i] = int(data.iloc[j, i])\n",
    "            if data.iloc[j, i] == 0:\n",
    "                data.iloc[j, i] = discapacidad[0]\n",
    "            elif data.iloc[j, i] < 5:\n",
    "                data.iloc[j, i] = discapacidad[1]\n",
    "            elif 5 <= data.iloc[j, i] <= 24:\n",
    "                data.iloc[j, i] = discapacidad[2]\n",
    "            elif 25 <= data.iloc[j, i] <= 49:\n",
    "                data.iloc[j, i] = discapacidad[3]\n",
    "            elif 50 <= data.iloc[j, i] <= 95:\n",
    "                data.iloc[j, i] = discapacidad[4]\n",
    "            elif 96 <= data.iloc[j, i] <= 100:\n",
    "                data.iloc[j, i] = discapacidad[5]\n",
    "        except ValueError:\n",
    "            data.iloc[j, i] = discapacidad[0]\n",
    "\n",
    "# Contar los valores repetidos en la columna categorizada\n",
    "repeated_values = data.iloc[:, i].value_counts()\n",
    "for value, count in repeated_values.items():\n",
    "    print(f\"El valor '{value}' se repite {count} veces.\")\n"
   ]
  },
  {
   "cell_type": "markdown",
   "metadata": {
    "id": "jm9WJYhNmXM-"
   },
   "source": [
    "# columna 42: Por favor, indique si en el pasado usted ha tenido algún intento de suicidio:"
   ]
  },
  {
   "cell_type": "code",
   "execution_count": 112,
   "metadata": {
    "colab": {
     "base_uri": "https://localhost:8080/"
    },
    "executionInfo": {
     "elapsed": 473,
     "status": "ok",
     "timestamp": 1717951876033,
     "user": {
      "displayName": "BERTA PADILLA BAEZA",
      "userId": "17038178126289984285"
     },
     "user_tz": -120
    },
    "id": "I7Vy2wNmnRBm",
    "outputId": "86352335-7592-4f9a-8963-bcdedfc690a5"
   },
   "outputs": [
    {
     "name": "stdout",
     "output_type": "stream",
     "text": [
      "El valor No se repite 887 veces.\n",
      "El valor Sí se repite 87 veces.\n",
      "Hay un - 0.00% de casos NaN.\n"
     ]
    }
   ],
   "source": [
    "i = 42\n",
    "repeated_values = data.iloc[:, i].value_counts()[data.iloc[:, i].value_counts() > 0].index.tolist()\n",
    "for value in repeated_values:\n",
    "  count = data.iloc[:, i].value_counts()[value]\n",
    "  print(f\"El valor {value} se repite {count} veces.\")\n",
    "for j in range(len(data)):\n",
    "  if pd.isna(data.iloc[j,i]):\n",
    "    data.iloc[j,i] = 'No'\n",
    "\n",
    "# % de NaNs\n",
    "prnan_percentage = data.iloc[:,i].isna().mean() * 100\n",
    "print(f\"Hay un - {prnan_percentage:.2f}% de casos NaN.\")"
   ]
  },
  {
   "cell_type": "markdown",
   "metadata": {
    "id": "UfwnKWvjnS4D"
   },
   "source": [
    "# Columna 43: Por favor indique si le han diagnosticado de infección por coronavirus"
   ]
  },
  {
   "cell_type": "code",
   "execution_count": 113,
   "metadata": {
    "colab": {
     "base_uri": "https://localhost:8080/"
    },
    "executionInfo": {
     "elapsed": 9,
     "status": "ok",
     "timestamp": 1717951876033,
     "user": {
      "displayName": "BERTA PADILLA BAEZA",
      "userId": "17038178126289984285"
     },
     "user_tz": -120
    },
    "id": "7Jy_xHkznU4-",
    "outputId": "2566d9fe-d46a-439e-e016-d54b33fadc1d"
   },
   "outputs": [
    {
     "name": "stdout",
     "output_type": "stream",
     "text": [
      "El valor No se repite 774 veces.\n",
      "El valor Puede que haya pasado/esté pasando la enfermedad pero no me han hecho la prueba se repite 192 veces.\n",
      "El valor Sí, padecí la infección y me recuperé se repite 10 veces.\n",
      "El valor Sí, actualmente infectado/a se repite 1 veces.\n",
      "Hay un - 0.00% de casos NaN.\n"
     ]
    }
   ],
   "source": [
    "i = 43\n",
    "repeated_values = data.iloc[:, i].value_counts()[data.iloc[:, i].value_counts() > 0].index.tolist()\n",
    "for value in repeated_values:\n",
    "  count = data.iloc[:, i].value_counts()[value]\n",
    "  print(f\"El valor {value} se repite {count} veces.\")\n",
    "\n",
    "for j in range(len(data)):\n",
    "  if pd.isna(data.iloc[j,i]):\n",
    "    data.iloc[j,i] = 'No'\n",
    "\n",
    "# % de NaNs\n",
    "prnan_percentage = data.iloc[:,i].isna().mean() * 100\n",
    "print(f\"Hay un - {prnan_percentage:.2f}% de casos NaN.\")"
   ]
  },
  {
   "cell_type": "markdown",
   "metadata": {
    "id": "HapH4pPdng8P"
   },
   "source": [
    "# Columna 44: En el caso de tener o haber tenido un diagnóstico de coronavirus, ¬øcómo valoraría la severidad de la enfermedad?"
   ]
  },
  {
   "cell_type": "code",
   "execution_count": 114,
   "metadata": {
    "colab": {
     "base_uri": "https://localhost:8080/"
    },
    "executionInfo": {
     "elapsed": 7,
     "status": "ok",
     "timestamp": 1717951876033,
     "user": {
      "displayName": "BERTA PADILLA BAEZA",
      "userId": "17038178126289984285"
     },
     "user_tz": -120
    },
    "id": "hdOwT68AnlXG",
    "outputId": "909bff1d-cde1-4248-f3f0-2aba538f5bf9"
   },
   "outputs": [
    {
     "name": "stdout",
     "output_type": "stream",
     "text": [
      "El valor No procede se repite 689 veces.\n",
      "El valor Leve se repite 76 veces.\n",
      "El valor Moderada se repite 39 veces.\n",
      "El valor Grave se repite 17 veces.\n",
      "Hay un - 0.00% de casos NaN.\n"
     ]
    }
   ],
   "source": [
    "i = 44\n",
    "repeated_values = data.iloc[:, i].value_counts()[data.iloc[:, i].value_counts() > 0].index.tolist()\n",
    "for value in repeated_values:\n",
    "  count = data.iloc[:, i].value_counts()[value]\n",
    "  print(f\"El valor {value} se repite {count} veces.\")\n",
    "\n",
    "for j in range(len(data)):\n",
    "  if pd.isna(data.iloc[j,i]):\n",
    "    data.iloc[j,i] = 'No procede'\n",
    "\n",
    "# % de NaNs\n",
    "prnan_percentage = data.iloc[:,i].isna().mean() * 100\n",
    "print(f\"Hay un - {prnan_percentage:.2f}% de casos NaN.\")"
   ]
  },
  {
   "cell_type": "markdown",
   "metadata": {
    "id": "PODzlpkznpCF"
   },
   "source": [
    "# Columna 45: En este caso, ¬øpermaneció aislado/a dentro del domicilio (sin salir de una habitación y sin compañía durante la duración de los síntomas y 15 días m√°s)?"
   ]
  },
  {
   "cell_type": "code",
   "execution_count": 115,
   "metadata": {
    "colab": {
     "base_uri": "https://localhost:8080/"
    },
    "executionInfo": {
     "elapsed": 319,
     "status": "ok",
     "timestamp": 1717951876347,
     "user": {
      "displayName": "BERTA PADILLA BAEZA",
      "userId": "17038178126289984285"
     },
     "user_tz": -120
    },
    "id": "cslAy7UNnsRG",
    "outputId": "c75eca9d-7545-4c9e-9cf4-57518e332b81"
   },
   "outputs": [
    {
     "name": "stdout",
     "output_type": "stream",
     "text": [
      "El valor No procede se repite 718 veces.\n",
      "El valor Sólo parcialmente se repite 68 veces.\n",
      "El valor Sí se repite 37 veces.\n",
      "Hay un - 0.00% de casos NaN.\n"
     ]
    }
   ],
   "source": [
    "i = 45\n",
    "repeated_values = data.iloc[:, i].value_counts()[data.iloc[:, i].value_counts() > 0].index.tolist()\n",
    "for value in repeated_values:\n",
    "  count = data.iloc[:, i].value_counts()[value]\n",
    "  print(f\"El valor {value} se repite {count} veces.\")\n",
    "\n",
    "for j in range(len(data)):\n",
    "  if pd.isna(data.iloc[j,i]):\n",
    "    data.iloc[j,i] = 'No procede'\n",
    "\n",
    "# % de NaNs\n",
    "prnan_percentage = data.iloc[:,i].isna().mean() * 100\n",
    "print(f\"Hay un - {prnan_percentage:.2f}% de casos NaN.\")"
   ]
  },
  {
   "cell_type": "markdown",
   "metadata": {
    "id": "iTkJ0qd9nwgC"
   },
   "source": [
    "# Columna 46: En caso de que algún miembro de la unidad familiar haya sido diagnosticado de infección por coronavirus, indique por favor de quién se trata (señale m√°s de una opción si procede)"
   ]
  },
  {
   "cell_type": "code",
   "execution_count": 116,
   "metadata": {
    "colab": {
     "base_uri": "https://localhost:8080/"
    },
    "executionInfo": {
     "elapsed": 16,
     "status": "ok",
     "timestamp": 1717951876348,
     "user": {
      "displayName": "BERTA PADILLA BAEZA",
      "userId": "17038178126289984285"
     },
     "user_tz": -120
    },
    "id": "tTEMJh5LnvRW",
    "outputId": "50fed546-56dc-4693-eee1-d2832b4bf8a2"
   },
   "outputs": [
    {
     "name": "stdout",
     "output_type": "stream",
     "text": [
      "El valor No procede se repite 691 veces.\n",
      "El valor Pareja se repite 20 veces.\n",
      "El valor Otro: se repite 16 veces.\n",
      "El valor Abuelo/a se repite 13 veces.\n",
      "El valor Madre se repite 11 veces.\n",
      "El valor Padre se repite 9 veces.\n",
      "El valor Hermano/a se repite 6 veces.\n",
      "El valor Primo se repite 4 veces.\n",
      "El valor Tía se repite 4 veces.\n",
      "El valor Tío se repite 4 veces.\n",
      "El valor Suegro se repite 4 veces.\n",
      "El valor Padre, Madre se repite 3 veces.\n",
      "El valor Tio se repite 2 veces.\n",
      "El valor Amiga compañera de piso se repite 2 veces.\n",
      "El valor Amigo se repite 2 veces.\n",
      "El valor Tia se repite 2 veces.\n",
      "El valor Primos y Tía Abuela se repite 1 veces.\n",
      "El valor Compañeros de piso se repite 1 veces.\n",
      "El valor Prima (enfermera) se repite 1 veces.\n",
      "El valor Tío  se repite 1 veces.\n",
      "El valor Tíos y primos  se repite 1 veces.\n",
      "El valor Amiga se repite 1 veces.\n",
      "El valor Amigos  se repite 1 veces.\n",
      "El valor Prima y tío  se repite 1 veces.\n",
      "El valor Nadie diagnosticado se repite 1 veces.\n",
      "El valor Ninguno se repite 1 veces.\n",
      "El valor Tia  se repite 1 veces.\n",
      "El valor Padre, Madre, Hermano/a, Abuelo/a se repite 1 veces.\n",
      "El valor Madre, Abuelo/a se repite 1 veces.\n",
      "El valor Un tío se repite 1 veces.\n",
      "El valor Otro:, Tío se repite 1 veces.\n",
      "El valor Hijo/a, Tuvo todos los síntomas 15 días antes q yo , fue diagnosticada como constipado grande  se repite 1 veces.\n",
      "El valor Padre, Primo se repite 1 veces.\n",
      "El valor Primos se repite 1 veces.\n",
      "El valor Tío (2) se repite 1 veces.\n",
      "El valor Abuela de mi pareja se repite 1 veces.\n",
      "El valor mi padre pero reside en otra comunidad y no conmigo se repite 1 veces.\n",
      "El valor tio materno se repite 1 veces.\n",
      "El valor Compañerxs de piso  se repite 1 veces.\n",
      "El valor Prima se repite 1 veces.\n",
      "El valor tío y primo se repite 1 veces.\n",
      "El valor No procede, Nadie se repite 1 veces.\n",
      "El valor Otro:, Cuñado y cuñada se repite 1 veces.\n",
      "El valor Tía paterna se repite 1 veces.\n",
      "El valor el tio de mi marido se repite 1 veces.\n",
      "El valor Abuelo/a, Tia se repite 1 veces.\n",
      "El valor No procede, Otro: se repite 1 veces.\n",
      "El valor Un paciente ingresado conmigo se repite 1 veces.\n",
      "El valor Hijo/a se repite 1 veces.\n",
      "El valor Tíos  se repite 1 veces.\n",
      "El valor Sobrino se repite 1 veces.\n",
      "El valor tia se repite 1 veces.\n",
      "El valor Otro:, Tia se repite 1 veces.\n",
      "El valor 0 se repite 1 veces.\n",
      "El valor Tios se repite 1 veces.\n"
     ]
    }
   ],
   "source": [
    "i = 46\n",
    "repeated_values = data.iloc[:, i].value_counts()[data.iloc[:, i].value_counts() > 0].index.tolist()\n",
    "for value in repeated_values:\n",
    "  count = data.iloc[:, i].value_counts()[value]\n",
    "  print(f\"El valor {value} se repite {count} veces.\")"
   ]
  },
  {
   "cell_type": "code",
   "execution_count": 117,
   "metadata": {
    "id": "S3gBiohKoBA-"
   },
   "outputs": [],
   "source": [
    "data.iloc[:,i] = data.iloc[:,i].apply(lambda x: 0 if x == 'No procede' else 1)\n"
   ]
  },
  {
   "cell_type": "markdown",
   "metadata": {
    "id": "KfVTLpqXoWVU"
   },
   "source": [
    "# Columna 47: En caso afirmativo, valore, por favor, la severidad de la enfermedad (tenga en cuenta el de mayor gravedad en caso de ser varios casos)"
   ]
  },
  {
   "cell_type": "code",
   "execution_count": 118,
   "metadata": {
    "colab": {
     "base_uri": "https://localhost:8080/"
    },
    "executionInfo": {
     "elapsed": 299,
     "status": "ok",
     "timestamp": 1717951876636,
     "user": {
      "displayName": "BERTA PADILLA BAEZA",
      "userId": "17038178126289984285"
     },
     "user_tz": -120
    },
    "id": "yZPV0StSoZsC",
    "outputId": "11fb50c1-fd6e-4aff-8e8f-f30c6885d51d"
   },
   "outputs": [
    {
     "name": "stdout",
     "output_type": "stream",
     "text": [
      "El valor No procede se repite 670 veces.\n",
      "El valor Moderada se repite 56 veces.\n",
      "El valor Leve se repite 51 veces.\n",
      "El valor Grave se repite 18 veces.\n",
      "El valor Fallecimiento por infección se repite 16 veces.\n",
      "Hay un - 0.00% de casos NaN.\n"
     ]
    }
   ],
   "source": [
    "i = 47\n",
    "repeated_values = data.iloc[:, i].value_counts()[data.iloc[:, i].value_counts() > 0].index.tolist()\n",
    "for value in repeated_values:\n",
    "  count = data.iloc[:, i].value_counts()[value]\n",
    "  print(f\"El valor {value} se repite {count} veces.\")\n",
    "\n",
    "for j in range(len(data)):\n",
    "  if pd.isna(data.iloc[j,i]):\n",
    "    data.iloc[j,i] = 'No procede'\n",
    "\n",
    "# % de NaNs\n",
    "prnan_percentage = data.iloc[:,i].isna().mean() * 100\n",
    "print(f\"Hay un - {prnan_percentage:.2f}% de casos NaN.\")"
   ]
  },
  {
   "cell_type": "markdown",
   "metadata": {
    "id": "Ea_TDF2UokT6"
   },
   "source": [
    "# Columna 48: Alguna persona de su familia diagnosticada de infección por coronavirus, ¬øha convivido en su hogar durante el proceso de su enfermedad?"
   ]
  },
  {
   "cell_type": "code",
   "execution_count": 119,
   "metadata": {
    "colab": {
     "base_uri": "https://localhost:8080/"
    },
    "executionInfo": {
     "elapsed": 8,
     "status": "ok",
     "timestamp": 1717951876636,
     "user": {
      "displayName": "BERTA PADILLA BAEZA",
      "userId": "17038178126289984285"
     },
     "user_tz": -120
    },
    "id": "2E4mjkAZol6i",
    "outputId": "b8396137-e471-421e-fa36-d0bd8e8b41c0"
   },
   "outputs": [
    {
     "name": "stdout",
     "output_type": "stream",
     "text": [
      "El valor No procede se repite 486 veces.\n",
      "El valor No se repite 364 veces.\n",
      "El valor Sí se repite 37 veces.\n",
      "Hay un - 0.00% de casos NaN.\n"
     ]
    }
   ],
   "source": [
    "i = 48\n",
    "repeated_values = data.iloc[:, i].value_counts()[data.iloc[:, i].value_counts() > 0].index.tolist()\n",
    "for value in repeated_values:\n",
    "  count = data.iloc[:, i].value_counts()[value]\n",
    "  print(f\"El valor {value} se repite {count} veces.\")\n",
    "for j in range(len(data)):\n",
    "  if pd.isna(data.iloc[j,i]):\n",
    "    data.iloc[j,i] = 'No procede'\n",
    "\n",
    "# % de NaNs\n",
    "prnan_percentage = data.iloc[:,i].isna().mean() * 100\n",
    "print(f\"Hay un - {prnan_percentage:.2f}% de casos NaN.\")"
   ]
  },
  {
   "cell_type": "code",
   "execution_count": 120,
   "metadata": {
    "id": "QW9xc7CSoybl"
   },
   "outputs": [],
   "source": [
    "data['familiar_covid'] = data.iloc[:,i].apply(lambda x: 0 if x == 'No procede' or x== 'No' else 1)\n"
   ]
  },
  {
   "cell_type": "markdown",
   "metadata": {
    "id": "rVbSMcbro36P"
   },
   "source": [
    "# Columna 49: ¬øCu√°ntas veces a la semana ha salido de casa durante la cuarentena?"
   ]
  },
  {
   "cell_type": "code",
   "execution_count": 121,
   "metadata": {
    "colab": {
     "base_uri": "https://localhost:8080/"
    },
    "executionInfo": {
     "elapsed": 4,
     "status": "ok",
     "timestamp": 1717951876636,
     "user": {
      "displayName": "BERTA PADILLA BAEZA",
      "userId": "17038178126289984285"
     },
     "user_tz": -120
    },
    "id": "cs_FwBXio6xd",
    "outputId": "f4e01cbe-0c5d-473b-a0cb-0ba312843351"
   },
   "outputs": [
    {
     "name": "stdout",
     "output_type": "stream",
     "text": [
      "El valor Cada 10 días aproximadamente se repite 304 veces.\n",
      "El valor Una media de 1 ó 2 veces a la semana se repite 279 veces.\n",
      "El valor Todos los días se repite 129 veces.\n",
      "El valor No he salido se repite 100 veces.\n",
      "El valor Más de 2 veces a la semana se repite 84 veces.\n",
      "El valor 3 veces se repite 2 veces.\n",
      "El valor 4 veces se repite 2 veces.\n",
      "El valor Cada 15 días se repite 2 veces.\n",
      "El valor A partir de que me dieran el alta de la infeccion por covid19, el 14 de abril todos los días para trabajar. se repite 1 veces.\n",
      "El valor Un día a la semana se repite 1 veces.\n",
      "El valor Solo he salido 3-4 veces en toda la cuarentena se repite 1 veces.\n",
      "El valor 1 día se repite 1 veces.\n",
      "El valor Solo 1 día  se repite 1 veces.\n",
      "El valor Sacar perro 3 veces al día.  se repite 1 veces.\n",
      "El valor Mientras estuve de baja no salí,  cuando me dieron el alta ya empecé a salir diariamente se repite 1 veces.\n",
      "El valor Una vez a hacer una gran compra  se repite 1 veces.\n",
      "El valor He salido 3 veces durante los 50 dias se repite 1 veces.\n",
      "El valor Cuando no he estado en aislamiento se repite 1 veces.\n",
      "El valor A sacar a los perros  se repite 1 veces.\n",
      "El valor 3 veces en toda la cuarentena para ir a comprar se repite 1 veces.\n",
      "El valor Cada 4/5 dias aprox se repite 1 veces.\n",
      "El valor 5-6 veces a la semana se repite 1 veces.\n",
      "El valor Cada dia, tengo dos perros. se repite 1 veces.\n",
      "El valor Tres veces se repite 1 veces.\n",
      "El valor Solo para citas médicas, una vez cada 21 días aproximadamente  se repite 1 veces.\n",
      "El valor 3 - 4 veces se repite 1 veces.\n",
      "El valor Cada 4 semanas se repite 1 veces.\n",
      "El valor Durante el primer mes, una media de 1 ó 2 veces a la semana, después todos los días (para pasear al perro) se repite 1 veces.\n",
      "El valor Cada quince/veinte días se repite 1 veces.\n",
      "El valor he estado mas de un mes sin salir. luego sali unas cuatro a cinco veces a pasear y compra se repite 1 veces.\n",
      "El valor diario (bajar basura) y semanal (subir el carro de compra hecha por mi mujer) se repite 1 veces.\n",
      "El valor Una sola vez por urgencia (apendicitis aguda) se repite 1 veces.\n",
      "El valor sólo para trabajar de lunes a viernes se repite 1 veces.\n",
      "El valor 4 veces en el total de la cuarentena se repite 1 veces.\n",
      "El valor 1 a la semana se repite 1 veces.\n",
      "El valor 1 vez  cada 15 días se repite 1 veces.\n",
      "El valor Cada 20 días  se repite 1 veces.\n",
      "El valor Cada 20 dias se repite 1 veces.\n",
      "El valor Un dia se repite 1 veces.\n",
      "El valor Después de 1 mes se repite 1 veces.\n",
      "El valor 2 veces en toda la cuarentena se repite 1 veces.\n",
      "El valor 02 dias se repite 1 veces.\n",
      "El valor He salido 4 veces en toda la cuarentena. se repite 1 veces.\n",
      "El valor A los 30 días  se repite 1 veces.\n",
      "El valor Solo salí una vez para realizar una prueba médica. se repite 1 veces.\n",
      "El valor Sábado y domingo se repite 1 veces.\n",
      "El valor Al estar de baja por coronavirus no he salido hasta hace una semana se repite 1 veces.\n",
      "El valor Una vez cada dos semanas se repite 1 veces.\n",
      "El valor He salido 2 veces en toda la cuarentena se repite 1 veces.\n",
      "El valor Todos los días laborables se repite 1 veces.\n",
      "El valor 1 vez cada 15 dias se repite 1 veces.\n",
      "El valor 3 veces en toda la cuarentena  se repite 1 veces.\n",
      "El valor 5 días se repite 1 veces.\n",
      "El valor Todos los días para ir a trabajar. se repite 1 veces.\n",
      "El valor 3 días se repite 1 veces.\n",
      "El valor Durante las 5 semanas que estuve diagnosticada y de baja por coronavirus (me diagnosticaron sin hacerme pruebas) salí dos veces para comprar.  se repite 1 veces.\n",
      "El valor He salido 4 veces (una vez ya llevábamos 1 mes confinados) se repite 1 veces.\n",
      "El valor De lunes a viernes para ir al trabajo se repite 1 veces.\n",
      "El valor Tengo perro, 3 veces al día solo por el  se repite 1 veces.\n",
      "El valor 1 hora por dia se repite 1 veces.\n",
      "El valor En el centro psiquiátrico ninguna ( primer mes de confinamiento) , después si he salido.   se repite 1 veces.\n",
      "El valor 2 veces en 50 días se repite 1 veces.\n",
      "El valor 2 veces desde que comenzo la cuarentena se repite 1 veces.\n",
      "El valor Cada 12/15 días se repite 1 veces.\n",
      "El valor 1 se repite 1 veces.\n",
      "El valor 1 vez al mes se repite 1 veces.\n",
      "El valor 3  veces en 50 días se repite 1 veces.\n",
      "El valor En 2 ocasiones  se repite 1 veces.\n",
      "El valor Para ir al trabajo. Todos los días se repite 1 veces.\n",
      "El valor Solo he salido 3 veces en 50 dias se repite 1 veces.\n",
      "El valor 1 vez  se repite 1 veces.\n",
      "El valor 2 veces en toda la cuarentena  se repite 1 veces.\n",
      "El valor 2 veces para asistir a visitas y pruebas médicas  se repite 1 veces.\n",
      "El valor 2 veces en  todo el periodo de confinamiento se repite 1 veces.\n",
      "El valor 3 veces en toda la cuarentena se repite 1 veces.\n",
      "El valor Cada 15 dias se repite 1 veces.\n",
      "El valor 5 se repite 1 veces.\n",
      "El valor Una vez en toda la cuarentena se repite 1 veces.\n",
      "El valor He salido una sola vez a comprar hasta que ya he podido salir con mi hija, su padre iba a la compra y tirar la basura se repite 1 veces.\n",
      "El valor 2 veces en el total de días se repite 1 veces.\n",
      "El valor Una vez cada 3 semanas aproximadamente  se repite 1 veces.\n",
      "El valor 1 sólo día se repite 1 veces.\n",
      "El valor Cada 15 días aproximadamente se repite 1 veces.\n"
     ]
    }
   ],
   "source": [
    "i = 49\n",
    "repeated_values = data.iloc[:, i].value_counts()[data.iloc[:, i].value_counts() > 0].index.tolist()\n",
    "for value in repeated_values:\n",
    "  count = data.iloc[:, i].value_counts()[value]\n",
    "  print(f\"El valor {value} se repite {count} veces.\")"
   ]
  },
  {
   "cell_type": "code",
   "execution_count": 122,
   "metadata": {
    "colab": {
     "base_uri": "https://localhost:8080/"
    },
    "executionInfo": {
     "elapsed": 326,
     "status": "ok",
     "timestamp": 1717951876960,
     "user": {
      "displayName": "BERTA PADILLA BAEZA",
      "userId": "17038178126289984285"
     },
     "user_tz": -120
    },
    "id": "JG9bittOrZ5K",
    "outputId": "63f1f8a2-eca8-4180-a46b-fcad4d23cf18"
   },
   "outputs": [
    {
     "name": "stdout",
     "output_type": "stream",
     "text": [
      "El valor Cada 10 días aproximadamente se repite 304 veces - 30.99 %.\n",
      "El valor Una media de 1 ó 2 veces a la semana se repite 279 veces - 28.44 %.\n",
      "El valor otros se repite 169 veces - 17.23 %.\n",
      "El valor Todos los días se repite 129 veces - 13.15 %.\n",
      "El valor No he salido se repite 100 veces - 10.19 %.\n",
      "Hay un 0.00% de casos NaN.\n"
     ]
    }
   ],
   "source": [
    "i = 49\n",
    "\n",
    "dias= [ 'No he salido', 'Una media de 1 ó 2 veces a la semana','M√°s de 2 veces a la semana', 'Cada 10 días aproximadamente', 'Todos los días', 'otros']\n",
    "\n",
    "for j in range(len(data)):\n",
    "  if data.iloc[j,i] not in dias:\n",
    "    data.iloc[j,i] = 'otros'\n",
    "\n",
    "repeated_values = data.iloc[:, i].value_counts()[data.iloc[:, i].value_counts() > 0].index.tolist()\n",
    "for value in repeated_values:\n",
    "  count = data.iloc[:, i].value_counts()[value]\n",
    "  perc = count*100/len(data)\n",
    "  print(f\"El valor {value} se repite {count} veces - {perc:.2f} %.\")\n",
    "\n",
    "# % de NaNs\n",
    "prnan_percentage = data.iloc[:,i].isna().mean() * 100\n",
    "print(f\"Hay un {prnan_percentage:.2f}% de casos NaN.\")"
   ]
  },
  {
   "cell_type": "markdown",
   "metadata": {
    "id": "afj9cGqypI_y"
   },
   "source": [
    "# Columna 50: Por qué motivos ha salido a la calle durante la cuarentena (seleccione tantas opciones como necesite)"
   ]
  },
  {
   "cell_type": "code",
   "execution_count": 123,
   "metadata": {
    "colab": {
     "base_uri": "https://localhost:8080/"
    },
    "executionInfo": {
     "elapsed": 275,
     "status": "ok",
     "timestamp": 1717951877233,
     "user": {
      "displayName": "BERTA PADILLA BAEZA",
      "userId": "17038178126289984285"
     },
     "user_tz": -120
    },
    "id": "b45X4fhopIxf",
    "outputId": "9688bc21-ba39-4c67-e2ef-9d18ae6efa36"
   },
   "outputs": [
    {
     "name": "stdout",
     "output_type": "stream",
     "text": [
      "El valor Hacer la compra se repite 254 veces.\n",
      "El valor Hacer la compra, Comprar en la farmacia se repite 171 veces.\n",
      "El valor Acudir al trabajo/ganarse la vida, Hacer la compra se repite 56 veces.\n",
      "El valor Hacer la compra, Comprar en la farmacia, Apoyar a otra persona fuera del domicilio se repite 31 veces.\n",
      "El valor Hacer la compra, Apoyar a otra persona fuera del domicilio se repite 31 veces.\n",
      "El valor Acudir al trabajo/ganarse la vida, Hacer la compra, Comprar en la farmacia se repite 29 veces.\n",
      "El valor Hacer la compra, Comprar en la farmacia, Acudir al banco se repite 24 veces.\n",
      "El valor Acudir al trabajo/ganarse la vida se repite 20 veces.\n",
      "El valor Hacer la compra, Acudir al banco se repite 14 veces.\n",
      "El valor Comprar en la farmacia se repite 13 veces.\n",
      "El valor Tirar la basura se repite 8 veces.\n",
      "El valor Hacer la compra, Sacar al perro se repite 8 veces.\n",
      "El valor No he salido se repite 7 veces.\n",
      "El valor Acudir al trabajo/ganarse la vida, Hacer la compra, Comprar en la farmacia, Acudir al banco se repite 7 veces.\n",
      "El valor Apoyar a otra persona fuera del domicilio se repite 7 veces.\n",
      "El valor Acudir al trabajo/ganarse la vida, Hacer la compra, Comprar en la farmacia, Apoyar a otra persona fuera del domicilio se repite 7 veces.\n",
      "El valor Sacar al perro se repite 6 veces.\n",
      "El valor Acudir al trabajo/ganarse la vida, Hacer la compra, Apoyar a otra persona fuera del domicilio se repite 5 veces.\n",
      "El valor Hacer la compra, Pasear al perro se repite 5 veces.\n",
      "El valor Hacer la compra, Comprar en la farmacia, Sacar al perro se repite 5 veces.\n",
      "El valor Hacer la compra, Comprar en la farmacia, Acudir al banco, Apoyar a otra persona fuera del domicilio se repite 5 veces.\n",
      "El valor Acudir al trabajo/ganarse la vida, Hacer la compra, Acudir al banco se repite 4 veces.\n",
      "El valor Perro se repite 4 veces.\n",
      "El valor Hacer la compra, Comprar en la farmacia, Tirar la basura se repite 4 veces.\n",
      "El valor Hacer la compra, Comprar en la farmacia, Pasear al perro se repite 4 veces.\n",
      "El valor Pasear al perro se repite 4 veces.\n",
      "El valor Sacar al perro  se repite 4 veces.\n",
      "El valor No he Salido. Ha salido mi pareja se repite 3 veces.\n",
      "El valor Comprar en la farmacia, Acudir al banco se repite 3 veces.\n",
      "El valor Pasear al perro  se repite 3 veces.\n",
      "El valor Hacer la compra, Tirar la basura se repite 3 veces.\n",
      "El valor Acudir al trabajo/ganarse la vida, Hacer la compra, Comprar en la farmacia, Acudir al banco, Apoyar a otra persona fuera del domicilio se repite 2 veces.\n",
      "El valor Sacar la basura se repite 2 veces.\n",
      "El valor Médico se repite 2 veces.\n",
      "El valor Acudir al trabajo/ganarse la vida, Hacer la compra, Perro se repite 2 veces.\n",
      "El valor Hospital se repite 2 veces.\n",
      "El valor Acudir al trabajo/ganarse la vida, Apoyar a otra persona fuera del domicilio se repite 2 veces.\n",
      "El valor Hacer la compra, Tirar la basura  se repite 2 veces.\n",
      "El valor Hacer la compra, Comprar en la farmacia, Acudir al banco, Sacar al perro  se repite 2 veces.\n",
      "El valor Consulta médica  se repite 2 veces.\n",
      "El valor vivo en un pueblo y tengo perro se repite 2 veces.\n",
      "El valor Hacer la compra, sacar al perro se repite 2 veces.\n",
      "El valor Hacer la compra, Perro se repite 2 veces.\n",
      "El valor Acudir al trabajo/ganarse la vida, Perros  se repite 2 veces.\n",
      "El valor Hacer la compra, Rehabilitación se repite 1 veces.\n",
      "El valor Hacer la compra, Cuidar del campo se repite 1 veces.\n",
      "El valor Hacer la compra, Comprar en la farmacia, tirar la basura se repite 1 veces.\n",
      "El valor Hacer la compra, Comprar en la farmacia, Mantenimiento vehiculo se repite 1 veces.\n",
      "El valor Hacer la compra, Apoyar a otra persona fuera del domicilio, Ansiedad mucha gente en casa y poco espacio se repite 1 veces.\n",
      "El valor Comprar en la farmacia, Ir al estanco  se repite 1 veces.\n",
      "El valor Hacer la compra, Acudir al banco, Pasear al perro se repite 1 veces.\n",
      "El valor Hacer la compra, Comprar en la farmacia, Pasear perros se repite 1 veces.\n",
      "El valor Hacer la compra, Apoyar a otra persona fuera del domicilio, Tabaco se repite 1 veces.\n",
      "El valor Acudir al trabajo/ganarse la vida, Hacer la compra, Voluntariado se repite 1 veces.\n",
      "El valor Hacer la compra, Comprar en la farmacia, Pasear con mi perra. se repite 1 veces.\n",
      "El valor Dar un paseo, mi domicilio tenía un terreno amplio se repite 1 veces.\n",
      "El valor Hacer la compra, Comprar en la farmacia, Sacae al perro se repite 1 veces.\n",
      "El valor Acudir al trabajo/ganarse la vida, Hacer la compra, Comprar en la farmacia, Médico  se repite 1 veces.\n",
      "El valor Comprar en la farmacia, Ir al médico  se repite 1 veces.\n",
      "El valor Hacer la compra, Comprar en la farmacia, Sacar perro se repite 1 veces.\n",
      "El valor Una vez en 1 mes y medio para revision traumatológica  se repite 1 veces.\n",
      "El valor Urgencias se repite 1 veces.\n",
      "El valor Comprar en la farmacia, Citas médicas se repite 1 veces.\n",
      "El valor Hacer la compra, Tratamiento de quimioterapia de mi padre se repite 1 veces.\n",
      "El valor Comprar en la farmacia, Visita a urgencias  se repite 1 veces.\n",
      "El valor Sacar basura se repite 1 veces.\n",
      "El valor Sacar al perro. se repite 1 veces.\n",
      "El valor Pasear a mi perra se repite 1 veces.\n",
      "El valor Tirar la basura y hacer compra se repite 1 veces.\n",
      "El valor Acudir al trabajo/ganarse la vida, Pasear al perro y tirar la basura se repite 1 veces.\n",
      "El valor Hacer la compra, Comprar en la farmacia, Apoyar a otra persona fuera del domicilio, Sacar a los perros se repite 1 veces.\n",
      "El valor Hacer la compra, Comprar en la farmacia, Ir al veterinario se repite 1 veces.\n",
      "El valor Hacer la compra, Comprar en la farmacia, Apoyar a otra persona fuera del domicilio, Pasear al perro se repite 1 veces.\n",
      "El valor Hacer la compra, Consultas médicas  se repite 1 veces.\n",
      "El valor Acudir al trabajo/ganarse la vida, Hacer la compra, Apoyar a otra persona fuera del domicilio, voluntariado en permacultura se repite 1 veces.\n",
      "El valor Acudir al trabajo/ganarse la vida, Hacer la compra, Dentista urgencia se repite 1 veces.\n",
      "El valor Apoyar a otra persona fuera del domicilio, Sacar perro se repite 1 veces.\n",
      "El valor Hacer la compra, Estanco se repite 1 veces.\n",
      "El valor Comprar en la farmacia, Apoyar a otra persona fuera del domicilio, bajar basura y reciclar. Ayudar a mi mujer a subir la compra semanal se repite 1 veces.\n",
      "El valor Hacer la compra, Sacar la basura se repite 1 veces.\n",
      "El valor Hacer la compra, pasear perro se repite 1 veces.\n",
      "El valor Hacer la compra, Un poco de ansiedad. se repite 1 veces.\n",
      "El valor Pasear al peque con autismo cuando lo ha necesitado. Al mayor, tb con discapacidad, le pasea mi marido. se repite 1 veces.\n",
      "El valor Hacer la compra, Comprar en la farmacia, pasear al perro se repite 1 veces.\n",
      "El valor Al medico  se repite 1 veces.\n",
      "El valor Hacer la compra, Comprar en la farmacia, Recoger certificado de baja de otra persona en el centro de salud se repite 1 veces.\n",
      "El valor Urgencia hospitalaria se repite 1 veces.\n",
      "El valor Hacer la compra, Mudanza se repite 1 veces.\n",
      "El valor Hacer la compra, sacar a la perra de paseo se repite 1 veces.\n",
      "El valor Hacer la compra, Jugar  se repite 1 veces.\n",
      "El valor Pruebas embarazo se repite 1 veces.\n",
      "El valor Hacer la compra, Comprar en la farmacia, Apoyar a otra persona fuera del domicilio, Sacar al perro a diario se repite 1 veces.\n",
      "El valor Comprar en la farmacia, Ir al hospital 3 veces y 1 centro de salud  se repite 1 veces.\n",
      "El valor Hacer la compra, Pasear al perro  se repite 1 veces.\n",
      "El valor Hacer la compra, Cuidar de mis caballos se repite 1 veces.\n",
      "El valor Acudir al trabajo/ganarse la vida, Comprar en la farmacia se repite 1 veces.\n",
      "El valor Acudir al trabajo/ganarse la vida, Comprar en la farmacia, Dentista se repite 1 veces.\n",
      "El valor Hacer la compra, Apoyar a otra persona fuera del domicilio, Paseo perro se repite 1 veces.\n",
      "El valor Hacer la compra, Comprar en la farmacia, Hospital/centro salud se repite 1 veces.\n",
      "El valor Hacer la compra, Comprar en la farmacia, Apoyar a otra persona fuera del domicilio, Llevar a mi pareja al trabajo se repite 1 veces.\n",
      "El valor Comprar en la farmacia, Tirar la basura se repite 1 veces.\n",
      "El valor Comprar en la farmacia, Veterinaria y basura se repite 1 veces.\n",
      "El valor Hacer la compra, Acudir hospital y centro médico se repite 1 veces.\n",
      "El valor Hacer la compra, Custodia compartida se repite 1 veces.\n",
      "El valor Soy masover,  cuido una masia en la montaña  se repite 1 veces.\n",
      "El valor Hacer la compra, Pasear perro se repite 1 veces.\n",
      "El valor Hacer la compra, Comprar en la farmacia, Acudir al banco, Pasear al perro se repite 1 veces.\n",
      "El valor Comprar en la farmacia, Medico, estoy embarazada se repite 1 veces.\n",
      "El valor Hacer la compra, Comprar en la farmacia, Tirar cartón / vidrio se repite 1 veces.\n",
      "El valor Hacer la compra, Comprar en la farmacia, Bajar a la perra se repite 1 veces.\n",
      "El valor Acudir al trabajo/ganarse la vida, Hacer la compra, Comprar en la farmacia, Acudir al banco, Apoyar a otra persona fuera del domicilio, Pasear al perro se repite 1 veces.\n",
      "El valor Hacer la compra, Comprar en la farmacia, Tirar la basura  se repite 1 veces.\n",
      "El valor Hacer la compra, Ocasionalmente sacar al perro  se repite 1 veces.\n",
      "El valor Comprar en la farmacia, Apoyar a otra persona fuera del domicilio se repite 1 veces.\n",
      "El valor Hacer la compra, Tirar basura y reciclaje se repite 1 veces.\n",
      "El valor Hacer la compra, Acudir al banco, Pasear a mi perro se repite 1 veces.\n",
      "El valor Hacer la compra, Comprar en la farmacia, Apoyar a otra persona fuera del domicilio, Sacar la basura se repite 1 veces.\n",
      "El valor Acudir al trabajo/ganarse la vida, Hacer la compra, Pasear al perro se repite 1 veces.\n",
      "El valor Acudir al hospital se repite 1 veces.\n",
      "El valor Hacer la compra, Cita médica se repite 1 veces.\n",
      "El valor Tirar basura se repite 1 veces.\n",
      "El valor Acudir al trabajo/ganarse la vida, Bajar al perro se repite 1 veces.\n",
      "El valor Pasear a mí perra se repite 1 veces.\n",
      "El valor tengo perro  se repite 1 veces.\n",
      "El valor Hacer la compra, Comprar en la farmacia, Acudir al banco, Sacar a mi perro se repite 1 veces.\n",
      "El valor Sacar a mis perros se repite 1 veces.\n",
      "El valor pasear a mis perros  se repite 1 veces.\n",
      "El valor Hacer la compra, Sacar perro se repite 1 veces.\n",
      "El valor Hacer la compra, Comprar en la farmacia, Pasear a mi perra se repite 1 veces.\n",
      "El valor Comprar en la farmacia, Crisis de ansiedad propia se repite 1 veces.\n",
      "El valor Hacer la compra, Comprar en la farmacia, Apoyar a otra persona fuera del domicilio, Sacar a mis perros  se repite 1 veces.\n",
      "El valor Hacer la compra, Pasear perros se repite 1 veces.\n",
      "El valor Pasear a la perra se repite 1 veces.\n",
      "El valor Hacer la compra, Comprar en la farmacia, Pasear a los perros  se repite 1 veces.\n",
      "El valor Vivo con una perrita se repite 1 veces.\n",
      "El valor Hacer la compra, Apoyar a otra persona fuera del domicilio, Sacar al perro se repite 1 veces.\n",
      "El valor Hacer la compra, Acudir al banco, Tirar la basura se repite 1 veces.\n",
      "El valor Salir con mi hijo. Tiene autismo. se repite 1 veces.\n",
      "El valor Acudir al trabajo/ganarse la vida, Perros se repite 1 veces.\n",
      "El valor Hacer la compra, Sacar a los perros se repite 1 veces.\n",
      "El valor Prueba médica (test serotología coronavirus)  se repite 1 veces.\n",
      "El valor Bajar la basura y arrancar el coche se repite 1 veces.\n",
      "El valor Hacer la compra, Comprar en la farmacia, Estanco se repite 1 veces.\n",
      "El valor Hacer la compra, Acudir al banco, Apoyar a otra persona fuera del domicilio se repite 1 veces.\n",
      "El valor Hacer la compra, Hacer deporte se repite 1 veces.\n",
      "El valor Sacar perro se repite 1 veces.\n",
      "El valor Hacer la compra, Llevar a los niños a casa de su padre los fines de semana  se repite 1 veces.\n",
      "El valor Sacar al perro para sus necesidades se repite 1 veces.\n",
      "El valor Sacar a los perros. se repite 1 veces.\n",
      "El valor Para dar un paseo con mi hijo se repite 1 veces.\n",
      "El valor Hacer la compra, Comprar en la farmacia, Consulta médica se repite 1 veces.\n",
      "El valor Hacer la compra, Bajar al perro se repite 1 veces.\n",
      "El valor Hacer la compra, Comprar en la farmacia, Acudir al banco, Sacar al perro se repite 1 veces.\n",
      "El valor Acudir al trabajo/ganarse la vida, Acudir al banco se repite 1 veces.\n",
      "El valor Sacar a mis perras se repite 1 veces.\n",
      "El valor Acudir al trabajo/ganarse la vida, Paseo mascota se repite 1 veces.\n",
      "El valor Hacer la compra, Pasear a mi perro se repite 1 veces.\n",
      "El valor Hacer la compra, Recibir pedidos hechos antes del estado de alarma se repite 1 veces.\n",
      "El valor Hacer la compra, Sacar a la perra a hacer sus necesidades se repite 1 veces.\n",
      "El valor Acudir al trabajo/ganarse la vida, Hacer la compra, No volverme loca se repite 1 veces.\n",
      "El valor Hacer la compra, Comprar en la farmacia, Perros  se repite 1 veces.\n",
      "El valor Hacer la compra, Comprar en la farmacia, Revisiones medicas se repite 1 veces.\n",
      "El valor Sacar a los perros se repite 1 veces.\n",
      "El valor Tengo perro se repite 1 veces.\n",
      "El valor Sacar a los perros  se repite 1 veces.\n",
      "El valor Hacer la compra, Comprar en la farmacia, Tabaco se repite 1 veces.\n",
      "El valor Acudir al médico se repite 1 veces.\n",
      "El valor Cuidado madre operada corazon se repite 1 veces.\n",
      "El valor Hacer la compra, Comprar en la farmacia, Coger medicación del domicilio de mis padres( el cual estaba vacío). se repite 1 veces.\n",
      "El valor Hacer la compra, Comprar en la farmacia, Acudir al banco, Para mi y mis padres se repite 1 veces.\n",
      "El valor Hacer la compra, Comprar en la farmacia, Correos y hospital se repite 1 veces.\n"
     ]
    }
   ],
   "source": [
    "i = 50\n",
    "repeated_values = data.iloc[:, i].value_counts()[data.iloc[:, i].value_counts() > 0].index.tolist()\n",
    "for value in repeated_values:\n",
    "  count = data.iloc[:, i].value_counts()[value]\n",
    "  print(f\"El valor {value} se repite {count} veces.\")"
   ]
  },
  {
   "cell_type": "markdown",
   "metadata": {
    "id": "45LUaNH4wVGl"
   },
   "source": [
    "# Drop las columans qu no son de interes"
   ]
  },
  {
   "cell_type": "code",
   "execution_count": 124,
   "metadata": {
    "id": "d1hv2LEcwUZV"
   },
   "outputs": [],
   "source": [
    "data = data.drop(columns=['Marca temporal'], errors='ignore')\n",
    "\n",
    "data = data.drop(columns=['Fecha de nacimiento (para ir a tu año pincha en la flecha al lado de la fecha y luego haz scroll en la barra lateral)'], errors='ignore')\n",
    "data = data.drop(columns=['Por favor, señale su lugar de nacimiento'], errors='ignore')\n",
    "data = data.drop(columns=['Por favor, detalle sus estudios, si procede:'], errors='ignore')\n",
    "data = data.drop(columns=['Por favor indique si existen/existían estos elementos en su espacio de residencia DURANTE la cuarentena:'], errors='ignore')\n",
    "data = data.drop(columns=['Por favor, detalle tipo de trabajo en ese periodo si procede:'], errors='ignore')\n",
    "data = data.drop(columns=['Por favor, indique si presenta EN LA ACTUALIDAD alguna de las siguientes condiciones de salud:'], errors='ignore')\n",
    "data = data.drop(columns=['Si ha recibido alguna vez un diagnóstico psiquiátrico, por favor indique cuál:'], errors='ignore')\n",
    "data = data.drop(columns=['Si ha consumido tóxicos con una frecuencia SEMANAL en los últimos 6 meses por favor indique cuáles:'], errors='ignore')\n",
    "data = data.drop(columns=['Por favor, indique su Código Postal durante el confinamiento:'], errors='ignore')\n",
    "data = data.drop(columns=['En caso de que algún miembro de la unidad familiar haya sido diagnosticado de infección por coronavirus, indique por favor de quién se trata (señale más de una opción si procede)'], errors='ignore')\n",
    "\n",
    "data = data.drop(columns=['Por qué motivos ha salido a la calle durante la cuarentena (seleccione tantas opciones como necesite)'], errors='ignore')\n"
   ]
  },
  {
   "cell_type": "markdown",
   "metadata": {
    "id": "YSM6xvUdfdq-"
   },
   "source": [
    "Llenamos el resto de columnas, si hay nan --> 0"
   ]
  },
  {
   "cell_type": "code",
   "execution_count": 125,
   "metadata": {
    "id": "KWLv1QNfe-Ty"
   },
   "outputs": [],
   "source": [
    "columnas_rango = data.columns[39:85]  # Asegúrate de que el rango es correcto\n",
    "\n",
    "# Verificar si hay NaNs en el rango y sustituir por 0 si es necesario\n",
    "hay_nans = data[columnas_rango].isna().any().any()\n",
    "\n",
    "if hay_nans:\n",
    "    data[columnas_rango] = data[columnas_rango].fillna(0)"
   ]
  },
  {
   "cell_type": "code",
   "execution_count": 126,
   "metadata": {
    "colab": {
     "base_uri": "https://localhost:8080/",
     "height": 602
    },
    "executionInfo": {
     "elapsed": 392,
     "status": "ok",
     "timestamp": 1717951877623,
     "user": {
      "displayName": "BERTA PADILLA BAEZA",
      "userId": "17038178126289984285"
     },
     "user_tz": -120
    },
    "id": "qwqhMNkJuJkB",
    "outputId": "d848288e-1a0c-493b-81b0-4cee9226f7cc"
   },
   "outputs": [
    {
     "name": "stdout",
     "output_type": "stream",
     "text": [
      "\n",
      "Número de filas con al menos un valor NaN: 2\n",
      "\n",
      "Número de filas con más de 3 valores NaN entre las columnas 0 y 95: 2\n"
     ]
    },
    {
     "data": {
      "text/html": [
       "<div>\n",
       "<style scoped>\n",
       "    .dataframe tbody tr th:only-of-type {\n",
       "        vertical-align: middle;\n",
       "    }\n",
       "\n",
       "    .dataframe tbody tr th {\n",
       "        vertical-align: top;\n",
       "    }\n",
       "\n",
       "    .dataframe thead th {\n",
       "        text-align: right;\n",
       "    }\n",
       "</style>\n",
       "<table border=\"1\" class=\"dataframe\">\n",
       "  <thead>\n",
       "    <tr style=\"text-align: right;\">\n",
       "      <th></th>\n",
       "      <th>Por favor indique el género con el que se identifica:</th>\n",
       "      <th>Indique su estado civil:</th>\n",
       "      <th>¿Cuál es el estado actual de su documentación?</th>\n",
       "      <th>¿Tiene la nacionalidad europea?</th>\n",
       "      <th>¿Cuál es el máximo nivel educativo que ha terminado?</th>\n",
       "      <th>Por favor, indique su estructura de convivencia habitual durante los 12 meses ANTERIORES al confinamiento:</th>\n",
       "      <th>Por favor, indique su estructura de convivencia habitual DURANTE la reclusión:</th>\n",
       "      <th>Por favor indique el número de MENORES a su cargo DURANTE la cuarentena:</th>\n",
       "      <th>Por favor indique el número de personas dependientes mayores de 18 años a su cargo (incluyendo personas mayores, personas con diversidad funcional) DURANTE la cuarentena:</th>\n",
       "      <th>Por favor, indique con cuánta gente tenía contacto habitualmente en un día normal ANTES  de la cuarentena (incluyendo el hogar, lo laboral, lo social...). Nos referimos a contactos individuales cara a cara, es decir, con las que charla o trata diferentes asuntos en persona.</th>\n",
       "      <th>...</th>\n",
       "      <th>Age</th>\n",
       "      <th>Cambio_Estructura_convivencia</th>\n",
       "      <th>Cambio_N_personas_relacion</th>\n",
       "      <th>Ventana</th>\n",
       "      <th>Balcón  privado</th>\n",
       "      <th>Terraza privada</th>\n",
       "      <th>Jardín privado</th>\n",
       "      <th>Terreno privado al aire libre</th>\n",
       "      <th>Cambio_formato_trabajo</th>\n",
       "      <th>Cambio_ingresos</th>\n",
       "    </tr>\n",
       "  </thead>\n",
       "  <tbody>\n",
       "    <tr>\n",
       "      <th>16</th>\n",
       "      <td>Mujer</td>\n",
       "      <td>Soltero(a)</td>\n",
       "      <td>Pasaporte en vigor</td>\n",
       "      <td>Europea</td>\n",
       "      <td>Estudios de post-grado</td>\n",
       "      <td>Solo/a</td>\n",
       "      <td>Solo/a</td>\n",
       "      <td>0.0</td>\n",
       "      <td>0.0</td>\n",
       "      <td>De 1 a 10 personas</td>\n",
       "      <td>...</td>\n",
       "      <td>26-35</td>\n",
       "      <td>0</td>\n",
       "      <td>1</td>\n",
       "      <td>1</td>\n",
       "      <td>0</td>\n",
       "      <td>0</td>\n",
       "      <td>0</td>\n",
       "      <td>0</td>\n",
       "      <td>1</td>\n",
       "      <td>0</td>\n",
       "    </tr>\n",
       "    <tr>\n",
       "      <th>25</th>\n",
       "      <td>Mujer</td>\n",
       "      <td>Relacion pareja</td>\n",
       "      <td>Pasaporte en vigor</td>\n",
       "      <td>Europea</td>\n",
       "      <td>Estudios universitarios</td>\n",
       "      <td>Familia de origen</td>\n",
       "      <td>Amigos(as)</td>\n",
       "      <td>0.0</td>\n",
       "      <td>0.0</td>\n",
       "      <td>De 11 a 20 personas</td>\n",
       "      <td>...</td>\n",
       "      <td>16-25</td>\n",
       "      <td>1</td>\n",
       "      <td>1</td>\n",
       "      <td>1</td>\n",
       "      <td>0</td>\n",
       "      <td>0</td>\n",
       "      <td>0</td>\n",
       "      <td>0</td>\n",
       "      <td>1</td>\n",
       "      <td>0</td>\n",
       "    </tr>\n",
       "  </tbody>\n",
       "</table>\n",
       "<p>2 rows × 96 columns</p>\n",
       "</div>"
      ],
      "text/plain": [
       "   Por favor indique el género con el que se identifica:  \\\n",
       "16                                              Mujer      \n",
       "25                                              Mujer      \n",
       "\n",
       "   Indique su estado civil: ¿Cuál es el estado actual de su documentación?   \\\n",
       "16               Soltero(a)                              Pasaporte en vigor   \n",
       "25          Relacion pareja                              Pasaporte en vigor   \n",
       "\n",
       "   ¿Tiene la nacionalidad europea?   \\\n",
       "16                          Europea   \n",
       "25                          Europea   \n",
       "\n",
       "   ¿Cuál es el máximo nivel educativo que ha terminado?  \\\n",
       "16                             Estudios de post-grado     \n",
       "25                            Estudios universitarios     \n",
       "\n",
       "   Por favor, indique su estructura de convivencia habitual durante los 12 meses ANTERIORES al confinamiento:  \\\n",
       "16                                             Solo/a                                                           \n",
       "25                                  Familia de origen                                                           \n",
       "\n",
       "   Por favor, indique su estructura de convivencia habitual DURANTE la reclusión:  \\\n",
       "16                                             Solo/a                               \n",
       "25                                         Amigos(as)                               \n",
       "\n",
       "    Por favor indique el número de MENORES a su cargo DURANTE la cuarentena:  \\\n",
       "16                                                0.0                          \n",
       "25                                                0.0                          \n",
       "\n",
       "    Por favor indique el número de personas dependientes mayores de 18 años a su cargo (incluyendo personas mayores, personas con diversidad funcional) DURANTE la cuarentena:  \\\n",
       "16                                                0.0                                                                                                                            \n",
       "25                                                0.0                                                                                                                            \n",
       "\n",
       "   Por favor, indique con cuánta gente tenía contacto habitualmente en un día normal ANTES  de la cuarentena (incluyendo el hogar, lo laboral, lo social...). Nos referimos a contactos individuales cara a cara, es decir, con las que charla o trata diferentes asuntos en persona.  \\\n",
       "16                                 De 1 a 10 personas                                                                                                                                                                                                                                   \n",
       "25                                De 11 a 20 personas                                                                                                                                                                                                                                   \n",
       "\n",
       "    ...    Age  Cambio_Estructura_convivencia Cambio_N_personas_relacion  \\\n",
       "16  ...  26-35                              0                          1   \n",
       "25  ...  16-25                              1                          1   \n",
       "\n",
       "   Ventana Balcón  privado Terraza privada Jardín privado  \\\n",
       "16       1               0               0              0   \n",
       "25       1               0               0              0   \n",
       "\n",
       "   Terreno privado al aire libre Cambio_formato_trabajo Cambio_ingresos  \n",
       "16                             0                      1               0  \n",
       "25                             0                      1               0  \n",
       "\n",
       "[2 rows x 96 columns]"
      ]
     },
     "metadata": {},
     "output_type": "display_data"
    },
    {
     "name": "stdout",
     "output_type": "stream",
     "text": [
      "\n",
      "Fila 16 tiene NaN en las siguientes columnas:\n",
      " - Columna 'Por favor, indique su Código Postal durante el confinamiento: '\n",
      "\n",
      "Fila 25 tiene NaN en las siguientes columnas:\n",
      " - Columna 'Por favor, indique su Código Postal durante el confinamiento: '\n",
      "Columnas con valores NaN: ['Por favor, indique su Código Postal durante el confinamiento: ']\n"
     ]
    }
   ],
   "source": [
    "nan_rows_count = data.isna().any(axis=1).sum()\n",
    "\n",
    "\n",
    "\n",
    "print(f\"\\nNúmero de filas con al menos un valor NaN: {nan_rows_count}\")\n",
    "\n",
    "start_col = 0\n",
    "end_col = 95\n",
    "\n",
    "# Filtrar filas con más de 3 NaNs en el rango de columnas especificado\n",
    "columns_to_check = data.columns[start_col:end_col + 1]\n",
    "rows_with_nan = data[columns_to_check][data[columns_to_check].isnull().sum(axis=1) >0]\n",
    "\n",
    "# Contar el número de filas con más de 3 NaNs en el rango especificado\n",
    "nan_rows_count = rows_with_nan.shape[0]\n",
    "print(f\"\\nNúmero de filas con más de 3 valores NaN entre las columnas {start_col} y {end_col}: {nan_rows_count}\")\n",
    "\n",
    "# Display de las filas que tienen más de 3 NaNs en el rango especificado\n",
    "display(rows_with_nan)\n",
    "\n",
    "# Iterar sobre las filas que tienen más de 3 NaNs para imprimir las columnas específicas\n",
    "for idx in rows_with_nan.index:\n",
    "    print(f\"\\nFila {idx} tiene NaN en las siguientes columnas:\")\n",
    "    for col in columns_to_check:\n",
    "        if pd.isna(data.loc[idx, col]):\n",
    "            print(f\" - Columna '{col}'\")\n",
    "columnas_con_nans = data.columns[data.isna().any()].tolist()\n",
    "\n",
    "print(\"Columnas con valores NaN:\", columnas_con_nans)\n",
    "\n",
    "\n"
   ]
  },
  {
   "cell_type": "code",
   "execution_count": 127,
   "metadata": {
    "colab": {
     "base_uri": "https://localhost:8080/",
     "height": 649
    },
    "executionInfo": {
     "elapsed": 16,
     "status": "ok",
     "timestamp": 1717951877624,
     "user": {
      "displayName": "BERTA PADILLA BAEZA",
      "userId": "17038178126289984285"
     },
     "user_tz": -120
    },
    "id": "XtHritcudJmI",
    "outputId": "057aa8de-fb10-4ba0-d2af-02664db00699"
   },
   "outputs": [
    {
     "name": "stdout",
     "output_type": "stream",
     "text": [
      "87\n",
      "(981, 100)\n"
     ]
    },
    {
     "data": {
      "text/html": [
       "<div>\n",
       "<style scoped>\n",
       "    .dataframe tbody tr th:only-of-type {\n",
       "        vertical-align: middle;\n",
       "    }\n",
       "\n",
       "    .dataframe tbody tr th {\n",
       "        vertical-align: top;\n",
       "    }\n",
       "\n",
       "    .dataframe thead th {\n",
       "        text-align: right;\n",
       "    }\n",
       "</style>\n",
       "<table border=\"1\" class=\"dataframe\">\n",
       "  <thead>\n",
       "    <tr style=\"text-align: right;\">\n",
       "      <th></th>\n",
       "      <th>La idea de que debería ser castigado/a por sus pecados</th>\n",
       "      <th>Age</th>\n",
       "      <th>Cambio_Estructura_convivencia</th>\n",
       "      <th>Cambio_N_personas_relacion</th>\n",
       "      <th>Ventana</th>\n",
       "      <th>Balcón  privado</th>\n",
       "      <th>Terraza privada</th>\n",
       "      <th>Jardín privado</th>\n",
       "      <th>Terreno privado al aire libre</th>\n",
       "      <th>Cambio_formato_trabajo</th>\n",
       "      <th>Cambio_ingresos</th>\n",
       "      <th>condicion de salud</th>\n",
       "      <th>diagnostico_psiquiatrico</th>\n",
       "      <th>toxico con frecuencia</th>\n",
       "      <th>familiar_covid</th>\n",
       "    </tr>\n",
       "  </thead>\n",
       "  <tbody>\n",
       "    <tr>\n",
       "      <th>0</th>\n",
       "      <td>0</td>\n",
       "      <td>26-35</td>\n",
       "      <td>0</td>\n",
       "      <td>1</td>\n",
       "      <td>1</td>\n",
       "      <td>0</td>\n",
       "      <td>0</td>\n",
       "      <td>0</td>\n",
       "      <td>0</td>\n",
       "      <td>1</td>\n",
       "      <td>0</td>\n",
       "      <td>1</td>\n",
       "      <td>0</td>\n",
       "      <td>1</td>\n",
       "      <td>0</td>\n",
       "    </tr>\n",
       "    <tr>\n",
       "      <th>1</th>\n",
       "      <td>0</td>\n",
       "      <td>&gt;46</td>\n",
       "      <td>0</td>\n",
       "      <td>1</td>\n",
       "      <td>1</td>\n",
       "      <td>0</td>\n",
       "      <td>0</td>\n",
       "      <td>0</td>\n",
       "      <td>1</td>\n",
       "      <td>1</td>\n",
       "      <td>0</td>\n",
       "      <td>1</td>\n",
       "      <td>0</td>\n",
       "      <td>1</td>\n",
       "      <td>0</td>\n",
       "    </tr>\n",
       "    <tr>\n",
       "      <th>2</th>\n",
       "      <td>0</td>\n",
       "      <td>26-35</td>\n",
       "      <td>1</td>\n",
       "      <td>1</td>\n",
       "      <td>1</td>\n",
       "      <td>0</td>\n",
       "      <td>0</td>\n",
       "      <td>1</td>\n",
       "      <td>0</td>\n",
       "      <td>1</td>\n",
       "      <td>0</td>\n",
       "      <td>0</td>\n",
       "      <td>0</td>\n",
       "      <td>1</td>\n",
       "      <td>0</td>\n",
       "    </tr>\n",
       "    <tr>\n",
       "      <th>3</th>\n",
       "      <td>0</td>\n",
       "      <td>36-45</td>\n",
       "      <td>0</td>\n",
       "      <td>1</td>\n",
       "      <td>0</td>\n",
       "      <td>0</td>\n",
       "      <td>0</td>\n",
       "      <td>1</td>\n",
       "      <td>0</td>\n",
       "      <td>1</td>\n",
       "      <td>0</td>\n",
       "      <td>0</td>\n",
       "      <td>0</td>\n",
       "      <td>1</td>\n",
       "      <td>0</td>\n",
       "    </tr>\n",
       "    <tr>\n",
       "      <th>4</th>\n",
       "      <td>0</td>\n",
       "      <td>36-45</td>\n",
       "      <td>0</td>\n",
       "      <td>1</td>\n",
       "      <td>1</td>\n",
       "      <td>0</td>\n",
       "      <td>1</td>\n",
       "      <td>0</td>\n",
       "      <td>0</td>\n",
       "      <td>1</td>\n",
       "      <td>0</td>\n",
       "      <td>0</td>\n",
       "      <td>0</td>\n",
       "      <td>1</td>\n",
       "      <td>0</td>\n",
       "    </tr>\n",
       "    <tr>\n",
       "      <th>...</th>\n",
       "      <td>...</td>\n",
       "      <td>...</td>\n",
       "      <td>...</td>\n",
       "      <td>...</td>\n",
       "      <td>...</td>\n",
       "      <td>...</td>\n",
       "      <td>...</td>\n",
       "      <td>...</td>\n",
       "      <td>...</td>\n",
       "      <td>...</td>\n",
       "      <td>...</td>\n",
       "      <td>...</td>\n",
       "      <td>...</td>\n",
       "      <td>...</td>\n",
       "      <td>...</td>\n",
       "    </tr>\n",
       "    <tr>\n",
       "      <th>976</th>\n",
       "      <td>0</td>\n",
       "      <td>36-45</td>\n",
       "      <td>0</td>\n",
       "      <td>1</td>\n",
       "      <td>1</td>\n",
       "      <td>0</td>\n",
       "      <td>1</td>\n",
       "      <td>1</td>\n",
       "      <td>0</td>\n",
       "      <td>0</td>\n",
       "      <td>0</td>\n",
       "      <td>0</td>\n",
       "      <td>0</td>\n",
       "      <td>1</td>\n",
       "      <td>0</td>\n",
       "    </tr>\n",
       "    <tr>\n",
       "      <th>977</th>\n",
       "      <td>0</td>\n",
       "      <td>36-45</td>\n",
       "      <td>1</td>\n",
       "      <td>1</td>\n",
       "      <td>1</td>\n",
       "      <td>0</td>\n",
       "      <td>0</td>\n",
       "      <td>0</td>\n",
       "      <td>0</td>\n",
       "      <td>1</td>\n",
       "      <td>0</td>\n",
       "      <td>1</td>\n",
       "      <td>0</td>\n",
       "      <td>0</td>\n",
       "      <td>0</td>\n",
       "    </tr>\n",
       "    <tr>\n",
       "      <th>978</th>\n",
       "      <td>0</td>\n",
       "      <td>36-45</td>\n",
       "      <td>0</td>\n",
       "      <td>1</td>\n",
       "      <td>1</td>\n",
       "      <td>0</td>\n",
       "      <td>1</td>\n",
       "      <td>0</td>\n",
       "      <td>0</td>\n",
       "      <td>1</td>\n",
       "      <td>0</td>\n",
       "      <td>0</td>\n",
       "      <td>0</td>\n",
       "      <td>1</td>\n",
       "      <td>0</td>\n",
       "    </tr>\n",
       "    <tr>\n",
       "      <th>979</th>\n",
       "      <td>0</td>\n",
       "      <td>26-35</td>\n",
       "      <td>0</td>\n",
       "      <td>1</td>\n",
       "      <td>1</td>\n",
       "      <td>0</td>\n",
       "      <td>0</td>\n",
       "      <td>0</td>\n",
       "      <td>0</td>\n",
       "      <td>0</td>\n",
       "      <td>1</td>\n",
       "      <td>0</td>\n",
       "      <td>1</td>\n",
       "      <td>1</td>\n",
       "      <td>0</td>\n",
       "    </tr>\n",
       "    <tr>\n",
       "      <th>980</th>\n",
       "      <td>0</td>\n",
       "      <td>26-35</td>\n",
       "      <td>0</td>\n",
       "      <td>1</td>\n",
       "      <td>1</td>\n",
       "      <td>0</td>\n",
       "      <td>1</td>\n",
       "      <td>0</td>\n",
       "      <td>0</td>\n",
       "      <td>1</td>\n",
       "      <td>1</td>\n",
       "      <td>0</td>\n",
       "      <td>0</td>\n",
       "      <td>1</td>\n",
       "      <td>0</td>\n",
       "    </tr>\n",
       "  </tbody>\n",
       "</table>\n",
       "<p>981 rows × 15 columns</p>\n",
       "</div>"
      ],
      "text/plain": [
       "     La idea de que debería ser castigado/a por sus pecados     Age  \\\n",
       "0                                                    0        26-35   \n",
       "1                                                    0          >46   \n",
       "2                                                    0        26-35   \n",
       "3                                                    0        36-45   \n",
       "4                                                    0        36-45   \n",
       "..                                                 ...          ...   \n",
       "976                                                  0        36-45   \n",
       "977                                                  0        36-45   \n",
       "978                                                  0        36-45   \n",
       "979                                                  0        26-35   \n",
       "980                                                  0        26-35   \n",
       "\n",
       "     Cambio_Estructura_convivencia  Cambio_N_personas_relacion  Ventana  \\\n",
       "0                                0                           1        1   \n",
       "1                                0                           1        1   \n",
       "2                                1                           1        1   \n",
       "3                                0                           1        0   \n",
       "4                                0                           1        1   \n",
       "..                             ...                         ...      ...   \n",
       "976                              0                           1        1   \n",
       "977                              1                           1        1   \n",
       "978                              0                           1        1   \n",
       "979                              0                           1        1   \n",
       "980                              0                           1        1   \n",
       "\n",
       "     Balcón  privado  Terraza privada  Jardín privado  \\\n",
       "0                  0                0               0   \n",
       "1                  0                0               0   \n",
       "2                  0                0               1   \n",
       "3                  0                0               1   \n",
       "4                  0                1               0   \n",
       "..               ...              ...             ...   \n",
       "976                0                1               1   \n",
       "977                0                0               0   \n",
       "978                0                1               0   \n",
       "979                0                0               0   \n",
       "980                0                1               0   \n",
       "\n",
       "     Terreno privado al aire libre  Cambio_formato_trabajo  Cambio_ingresos  \\\n",
       "0                                0                       1                0   \n",
       "1                                1                       1                0   \n",
       "2                                0                       1                0   \n",
       "3                                0                       1                0   \n",
       "4                                0                       1                0   \n",
       "..                             ...                     ...              ...   \n",
       "976                              0                       0                0   \n",
       "977                              0                       1                0   \n",
       "978                              0                       1                0   \n",
       "979                              0                       0                1   \n",
       "980                              0                       1                1   \n",
       "\n",
       "     condicion de salud  diagnostico_psiquiatrico  toxico con frecuencia  \\\n",
       "0                     1                         0                      1   \n",
       "1                     1                         0                      1   \n",
       "2                     0                         0                      1   \n",
       "3                     0                         0                      1   \n",
       "4                     0                         0                      1   \n",
       "..                  ...                       ...                    ...   \n",
       "976                   0                         0                      1   \n",
       "977                   1                         0                      0   \n",
       "978                   0                         0                      1   \n",
       "979                   0                         1                      1   \n",
       "980                   0                         0                      1   \n",
       "\n",
       "     familiar_covid  \n",
       "0                 0  \n",
       "1                 0  \n",
       "2                 0  \n",
       "3                 0  \n",
       "4                 0  \n",
       "..              ...  \n",
       "976               0  \n",
       "977               0  \n",
       "978               0  \n",
       "979               0  \n",
       "980               0  \n",
       "\n",
       "[981 rows x 15 columns]"
      ]
     },
     "metadata": {},
     "output_type": "display_data"
    }
   ],
   "source": [
    "indice_columna = data.columns.get_loc('Cambio_Estructura_convivencia')\n",
    "print(indice_columna)\n",
    "forma = data.shape\n",
    "print(forma)\n",
    "display(data.iloc[:,85:])"
   ]
  },
  {
   "cell_type": "code",
   "execution_count": 128,
   "metadata": {
    "colab": {
     "base_uri": "https://localhost:8080/",
     "height": 1000
    },
    "executionInfo": {
     "elapsed": 13,
     "status": "ok",
     "timestamp": 1717951877624,
     "user": {
      "displayName": "BERTA PADILLA BAEZA",
      "userId": "17038178126289984285"
     },
     "user_tz": -120
    },
    "id": "uLWR1cnhjUvS",
    "outputId": "539526cc-f37d-48f5-8bc1-35ff1f75c4e2"
   },
   "outputs": [
    {
     "data": {
      "text/html": [
       "<div>\n",
       "<style scoped>\n",
       "    .dataframe tbody tr th:only-of-type {\n",
       "        vertical-align: middle;\n",
       "    }\n",
       "\n",
       "    .dataframe tbody tr th {\n",
       "        vertical-align: top;\n",
       "    }\n",
       "\n",
       "    .dataframe thead th {\n",
       "        text-align: right;\n",
       "    }\n",
       "</style>\n",
       "<table border=\"1\" class=\"dataframe\">\n",
       "  <thead>\n",
       "    <tr style=\"text-align: right;\">\n",
       "      <th></th>\n",
       "      <th>Por favor indique el género con el que se identifica:</th>\n",
       "      <th>Indique su estado civil:</th>\n",
       "      <th>¿Cuál es el estado actual de su documentación?</th>\n",
       "      <th>¿Tiene la nacionalidad europea?</th>\n",
       "      <th>¿Cuál es el máximo nivel educativo que ha terminado?</th>\n",
       "      <th>Por favor, indique su estructura de convivencia habitual durante los 12 meses ANTERIORES al confinamiento:</th>\n",
       "      <th>Por favor, indique su estructura de convivencia habitual DURANTE la reclusión:</th>\n",
       "      <th>Por favor indique el número de MENORES a su cargo DURANTE la cuarentena:</th>\n",
       "      <th>Por favor indique el número de personas dependientes mayores de 18 años a su cargo (incluyendo personas mayores, personas con diversidad funcional) DURANTE la cuarentena:</th>\n",
       "      <th>Por favor, indique con cuánta gente tenía contacto habitualmente en un día normal ANTES  de la cuarentena (incluyendo el hogar, lo laboral, lo social...). Nos referimos a contactos individuales cara a cara, es decir, con las que charla o trata diferentes asuntos en persona.</th>\n",
       "      <th>...</th>\n",
       "      <th>Balcón  privado</th>\n",
       "      <th>Terraza privada</th>\n",
       "      <th>Jardín privado</th>\n",
       "      <th>Terreno privado al aire libre</th>\n",
       "      <th>Cambio_formato_trabajo</th>\n",
       "      <th>Cambio_ingresos</th>\n",
       "      <th>condicion de salud</th>\n",
       "      <th>diagnostico_psiquiatrico</th>\n",
       "      <th>toxico con frecuencia</th>\n",
       "      <th>familiar_covid</th>\n",
       "    </tr>\n",
       "  </thead>\n",
       "  <tbody>\n",
       "    <tr>\n",
       "      <th>0</th>\n",
       "      <td>Mujer</td>\n",
       "      <td>Soltero(a)</td>\n",
       "      <td>Pasaporte en vigor</td>\n",
       "      <td>Europea</td>\n",
       "      <td>Estudios de post-grado</td>\n",
       "      <td>Amigos(as)</td>\n",
       "      <td>Amigos(as)</td>\n",
       "      <td>0.0</td>\n",
       "      <td>0.0</td>\n",
       "      <td>De 11 a 20 personas</td>\n",
       "      <td>...</td>\n",
       "      <td>0</td>\n",
       "      <td>0</td>\n",
       "      <td>0</td>\n",
       "      <td>0</td>\n",
       "      <td>1</td>\n",
       "      <td>0</td>\n",
       "      <td>1</td>\n",
       "      <td>0</td>\n",
       "      <td>1</td>\n",
       "      <td>0</td>\n",
       "    </tr>\n",
       "    <tr>\n",
       "      <th>1</th>\n",
       "      <td>Hombre</td>\n",
       "      <td>Casado(a), o viviendo en pareja</td>\n",
       "      <td>Pasaporte en vigor</td>\n",
       "      <td>Europea</td>\n",
       "      <td>Estudios de post-grado</td>\n",
       "      <td>Familia propia</td>\n",
       "      <td>Familia propia</td>\n",
       "      <td>0.0</td>\n",
       "      <td>1.0</td>\n",
       "      <td>De 11 a 20 personas</td>\n",
       "      <td>...</td>\n",
       "      <td>0</td>\n",
       "      <td>0</td>\n",
       "      <td>0</td>\n",
       "      <td>1</td>\n",
       "      <td>1</td>\n",
       "      <td>0</td>\n",
       "      <td>1</td>\n",
       "      <td>0</td>\n",
       "      <td>1</td>\n",
       "      <td>0</td>\n",
       "    </tr>\n",
       "    <tr>\n",
       "      <th>2</th>\n",
       "      <td>Hombre</td>\n",
       "      <td>Soltero(a)</td>\n",
       "      <td>Pasaporte en vigor</td>\n",
       "      <td>Europea</td>\n",
       "      <td>Estudios de post-grado</td>\n",
       "      <td>Amigos(as)</td>\n",
       "      <td>Familia de origen</td>\n",
       "      <td>0.0</td>\n",
       "      <td>0.0</td>\n",
       "      <td>De 11 a 20 personas</td>\n",
       "      <td>...</td>\n",
       "      <td>0</td>\n",
       "      <td>0</td>\n",
       "      <td>1</td>\n",
       "      <td>0</td>\n",
       "      <td>1</td>\n",
       "      <td>0</td>\n",
       "      <td>0</td>\n",
       "      <td>0</td>\n",
       "      <td>1</td>\n",
       "      <td>0</td>\n",
       "    </tr>\n",
       "    <tr>\n",
       "      <th>3</th>\n",
       "      <td>Mujer</td>\n",
       "      <td>Casado(a), o viviendo en pareja</td>\n",
       "      <td>Pasaporte en vigor</td>\n",
       "      <td>Europea</td>\n",
       "      <td>Estudios de post-grado</td>\n",
       "      <td>Familia propia</td>\n",
       "      <td>Familia propia</td>\n",
       "      <td>2.0</td>\n",
       "      <td>0.0</td>\n",
       "      <td>De 11 a 20 personas</td>\n",
       "      <td>...</td>\n",
       "      <td>0</td>\n",
       "      <td>0</td>\n",
       "      <td>1</td>\n",
       "      <td>0</td>\n",
       "      <td>1</td>\n",
       "      <td>0</td>\n",
       "      <td>0</td>\n",
       "      <td>0</td>\n",
       "      <td>1</td>\n",
       "      <td>0</td>\n",
       "    </tr>\n",
       "    <tr>\n",
       "      <th>4</th>\n",
       "      <td>Hombre</td>\n",
       "      <td>Soltero(a)</td>\n",
       "      <td>Pasaporte en vigor</td>\n",
       "      <td>Europea</td>\n",
       "      <td>Estudios universitarios</td>\n",
       "      <td>Compañeros(as)</td>\n",
       "      <td>Compañeros(as)</td>\n",
       "      <td>0.0</td>\n",
       "      <td>0.0</td>\n",
       "      <td>De 11 a 20 personas</td>\n",
       "      <td>...</td>\n",
       "      <td>0</td>\n",
       "      <td>1</td>\n",
       "      <td>0</td>\n",
       "      <td>0</td>\n",
       "      <td>1</td>\n",
       "      <td>0</td>\n",
       "      <td>0</td>\n",
       "      <td>0</td>\n",
       "      <td>1</td>\n",
       "      <td>0</td>\n",
       "    </tr>\n",
       "    <tr>\n",
       "      <th>...</th>\n",
       "      <td>...</td>\n",
       "      <td>...</td>\n",
       "      <td>...</td>\n",
       "      <td>...</td>\n",
       "      <td>...</td>\n",
       "      <td>...</td>\n",
       "      <td>...</td>\n",
       "      <td>...</td>\n",
       "      <td>...</td>\n",
       "      <td>...</td>\n",
       "      <td>...</td>\n",
       "      <td>...</td>\n",
       "      <td>...</td>\n",
       "      <td>...</td>\n",
       "      <td>...</td>\n",
       "      <td>...</td>\n",
       "      <td>...</td>\n",
       "      <td>...</td>\n",
       "      <td>...</td>\n",
       "      <td>...</td>\n",
       "      <td>...</td>\n",
       "    </tr>\n",
       "    <tr>\n",
       "      <th>976</th>\n",
       "      <td>Mujer</td>\n",
       "      <td>Relacion pareja</td>\n",
       "      <td>Pasaporte en vigor</td>\n",
       "      <td>Europea</td>\n",
       "      <td>Estudios de post-grado</td>\n",
       "      <td>Familia propia</td>\n",
       "      <td>Familia propia</td>\n",
       "      <td>2.0</td>\n",
       "      <td>0.0</td>\n",
       "      <td>De 21 a 30 personas</td>\n",
       "      <td>...</td>\n",
       "      <td>0</td>\n",
       "      <td>1</td>\n",
       "      <td>1</td>\n",
       "      <td>0</td>\n",
       "      <td>0</td>\n",
       "      <td>0</td>\n",
       "      <td>0</td>\n",
       "      <td>0</td>\n",
       "      <td>1</td>\n",
       "      <td>0</td>\n",
       "    </tr>\n",
       "    <tr>\n",
       "      <th>977</th>\n",
       "      <td>Mujer</td>\n",
       "      <td>Soltero(a)</td>\n",
       "      <td>Pasaporte en vigor</td>\n",
       "      <td>Europea</td>\n",
       "      <td>Estudios de post-grado</td>\n",
       "      <td>Familia de origen</td>\n",
       "      <td>Solo/a</td>\n",
       "      <td>0.0</td>\n",
       "      <td>0.0</td>\n",
       "      <td>De 11 a 20 personas</td>\n",
       "      <td>...</td>\n",
       "      <td>0</td>\n",
       "      <td>0</td>\n",
       "      <td>0</td>\n",
       "      <td>0</td>\n",
       "      <td>1</td>\n",
       "      <td>0</td>\n",
       "      <td>1</td>\n",
       "      <td>0</td>\n",
       "      <td>0</td>\n",
       "      <td>0</td>\n",
       "    </tr>\n",
       "    <tr>\n",
       "      <th>978</th>\n",
       "      <td>Hombre</td>\n",
       "      <td>Casado(a), o viviendo en pareja</td>\n",
       "      <td>Pasaporte en vigor</td>\n",
       "      <td>Europea</td>\n",
       "      <td>Estudios de post-grado</td>\n",
       "      <td>Pareja</td>\n",
       "      <td>Pareja</td>\n",
       "      <td>0.0</td>\n",
       "      <td>0.0</td>\n",
       "      <td>De 21 a 30 personas</td>\n",
       "      <td>...</td>\n",
       "      <td>0</td>\n",
       "      <td>1</td>\n",
       "      <td>0</td>\n",
       "      <td>0</td>\n",
       "      <td>1</td>\n",
       "      <td>0</td>\n",
       "      <td>0</td>\n",
       "      <td>0</td>\n",
       "      <td>1</td>\n",
       "      <td>0</td>\n",
       "    </tr>\n",
       "    <tr>\n",
       "      <th>979</th>\n",
       "      <td>Mujer</td>\n",
       "      <td>Soltero(a)</td>\n",
       "      <td>Pasaporte en vigor</td>\n",
       "      <td>Europea</td>\n",
       "      <td>Estudios secundarios</td>\n",
       "      <td>Solo/a</td>\n",
       "      <td>Solo/a</td>\n",
       "      <td>0.0</td>\n",
       "      <td>0.0</td>\n",
       "      <td>De 1 a 10 personas</td>\n",
       "      <td>...</td>\n",
       "      <td>0</td>\n",
       "      <td>0</td>\n",
       "      <td>0</td>\n",
       "      <td>0</td>\n",
       "      <td>0</td>\n",
       "      <td>1</td>\n",
       "      <td>0</td>\n",
       "      <td>1</td>\n",
       "      <td>1</td>\n",
       "      <td>0</td>\n",
       "    </tr>\n",
       "    <tr>\n",
       "      <th>980</th>\n",
       "      <td>Mujer</td>\n",
       "      <td>Casado(a), o viviendo en pareja</td>\n",
       "      <td>Pasaporte en vigor</td>\n",
       "      <td>Europea</td>\n",
       "      <td>Formacion profesional</td>\n",
       "      <td>Pareja</td>\n",
       "      <td>Pareja</td>\n",
       "      <td>0.0</td>\n",
       "      <td>0.0</td>\n",
       "      <td>De 31 a 50 personas</td>\n",
       "      <td>...</td>\n",
       "      <td>0</td>\n",
       "      <td>1</td>\n",
       "      <td>0</td>\n",
       "      <td>0</td>\n",
       "      <td>1</td>\n",
       "      <td>1</td>\n",
       "      <td>0</td>\n",
       "      <td>0</td>\n",
       "      <td>1</td>\n",
       "      <td>0</td>\n",
       "    </tr>\n",
       "  </tbody>\n",
       "</table>\n",
       "<p>981 rows × 55 columns</p>\n",
       "</div>"
      ],
      "text/plain": [
       "    Por favor indique el género con el que se identifica:  \\\n",
       "0                                                Mujer      \n",
       "1                                               Hombre      \n",
       "2                                               Hombre      \n",
       "3                                                Mujer      \n",
       "4                                               Hombre      \n",
       "..                                                 ...      \n",
       "976                                              Mujer      \n",
       "977                                              Mujer      \n",
       "978                                             Hombre      \n",
       "979                                              Mujer      \n",
       "980                                              Mujer      \n",
       "\n",
       "            Indique su estado civil:  \\\n",
       "0                         Soltero(a)   \n",
       "1    Casado(a), o viviendo en pareja   \n",
       "2                         Soltero(a)   \n",
       "3    Casado(a), o viviendo en pareja   \n",
       "4                         Soltero(a)   \n",
       "..                               ...   \n",
       "976                  Relacion pareja   \n",
       "977                       Soltero(a)   \n",
       "978  Casado(a), o viviendo en pareja   \n",
       "979                       Soltero(a)   \n",
       "980  Casado(a), o viviendo en pareja   \n",
       "\n",
       "    ¿Cuál es el estado actual de su documentación?   \\\n",
       "0                                Pasaporte en vigor   \n",
       "1                                Pasaporte en vigor   \n",
       "2                                Pasaporte en vigor   \n",
       "3                                Pasaporte en vigor   \n",
       "4                                Pasaporte en vigor   \n",
       "..                                              ...   \n",
       "976                              Pasaporte en vigor   \n",
       "977                              Pasaporte en vigor   \n",
       "978                              Pasaporte en vigor   \n",
       "979                              Pasaporte en vigor   \n",
       "980                              Pasaporte en vigor   \n",
       "\n",
       "    ¿Tiene la nacionalidad europea?   \\\n",
       "0                            Europea   \n",
       "1                            Europea   \n",
       "2                            Europea   \n",
       "3                            Europea   \n",
       "4                            Europea   \n",
       "..                               ...   \n",
       "976                          Europea   \n",
       "977                          Europea   \n",
       "978                          Europea   \n",
       "979                          Europea   \n",
       "980                          Europea   \n",
       "\n",
       "    ¿Cuál es el máximo nivel educativo que ha terminado?  \\\n",
       "0                               Estudios de post-grado     \n",
       "1                               Estudios de post-grado     \n",
       "2                               Estudios de post-grado     \n",
       "3                               Estudios de post-grado     \n",
       "4                              Estudios universitarios     \n",
       "..                                                 ...     \n",
       "976                             Estudios de post-grado     \n",
       "977                             Estudios de post-grado     \n",
       "978                             Estudios de post-grado     \n",
       "979                               Estudios secundarios     \n",
       "980                              Formacion profesional     \n",
       "\n",
       "    Por favor, indique su estructura de convivencia habitual durante los 12 meses ANTERIORES al confinamiento:  \\\n",
       "0                                           Amigos(as)                                                           \n",
       "1                                       Familia propia                                                           \n",
       "2                                           Amigos(as)                                                           \n",
       "3                                       Familia propia                                                           \n",
       "4                                       Compañeros(as)                                                           \n",
       "..                                                 ...                                                           \n",
       "976                                     Familia propia                                                           \n",
       "977                                  Familia de origen                                                           \n",
       "978                                             Pareja                                                           \n",
       "979                                             Solo/a                                                           \n",
       "980                                             Pareja                                                           \n",
       "\n",
       "    Por favor, indique su estructura de convivencia habitual DURANTE la reclusión:  \\\n",
       "0                                           Amigos(as)                               \n",
       "1                                       Familia propia                               \n",
       "2                                    Familia de origen                               \n",
       "3                                       Familia propia                               \n",
       "4                                       Compañeros(as)                               \n",
       "..                                                 ...                               \n",
       "976                                     Familia propia                               \n",
       "977                                             Solo/a                               \n",
       "978                                             Pareja                               \n",
       "979                                             Solo/a                               \n",
       "980                                             Pareja                               \n",
       "\n",
       "     Por favor indique el número de MENORES a su cargo DURANTE la cuarentena:  \\\n",
       "0                                                  0.0                          \n",
       "1                                                  0.0                          \n",
       "2                                                  0.0                          \n",
       "3                                                  2.0                          \n",
       "4                                                  0.0                          \n",
       "..                                                 ...                          \n",
       "976                                                2.0                          \n",
       "977                                                0.0                          \n",
       "978                                                0.0                          \n",
       "979                                                0.0                          \n",
       "980                                                0.0                          \n",
       "\n",
       "     Por favor indique el número de personas dependientes mayores de 18 años a su cargo (incluyendo personas mayores, personas con diversidad funcional) DURANTE la cuarentena:  \\\n",
       "0                                                  0.0                                                                                                                            \n",
       "1                                                  1.0                                                                                                                            \n",
       "2                                                  0.0                                                                                                                            \n",
       "3                                                  0.0                                                                                                                            \n",
       "4                                                  0.0                                                                                                                            \n",
       "..                                                 ...                                                                                                                            \n",
       "976                                                0.0                                                                                                                            \n",
       "977                                                0.0                                                                                                                            \n",
       "978                                                0.0                                                                                                                            \n",
       "979                                                0.0                                                                                                                            \n",
       "980                                                0.0                                                                                                                            \n",
       "\n",
       "    Por favor, indique con cuánta gente tenía contacto habitualmente en un día normal ANTES  de la cuarentena (incluyendo el hogar, lo laboral, lo social...). Nos referimos a contactos individuales cara a cara, es decir, con las que charla o trata diferentes asuntos en persona.  \\\n",
       "0                                  De 11 a 20 personas                                                                                                                                                                                                                                   \n",
       "1                                  De 11 a 20 personas                                                                                                                                                                                                                                   \n",
       "2                                  De 11 a 20 personas                                                                                                                                                                                                                                   \n",
       "3                                  De 11 a 20 personas                                                                                                                                                                                                                                   \n",
       "4                                  De 11 a 20 personas                                                                                                                                                                                                                                   \n",
       "..                                                 ...                                                                                                                                                                                                                                   \n",
       "976                                De 21 a 30 personas                                                                                                                                                                                                                                   \n",
       "977                                De 11 a 20 personas                                                                                                                                                                                                                                   \n",
       "978                                De 21 a 30 personas                                                                                                                                                                                                                                   \n",
       "979                                 De 1 a 10 personas                                                                                                                                                                                                                                   \n",
       "980                                De 31 a 50 personas                                                                                                                                                                                                                                   \n",
       "\n",
       "     ... Balcón  privado  Terraza privada Jardín privado  \\\n",
       "0    ...               0                0              0   \n",
       "1    ...               0                0              0   \n",
       "2    ...               0                0              1   \n",
       "3    ...               0                0              1   \n",
       "4    ...               0                1              0   \n",
       "..   ...             ...              ...            ...   \n",
       "976  ...               0                1              1   \n",
       "977  ...               0                0              0   \n",
       "978  ...               0                1              0   \n",
       "979  ...               0                0              0   \n",
       "980  ...               0                1              0   \n",
       "\n",
       "    Terreno privado al aire libre Cambio_formato_trabajo Cambio_ingresos  \\\n",
       "0                               0                      1               0   \n",
       "1                               1                      1               0   \n",
       "2                               0                      1               0   \n",
       "3                               0                      1               0   \n",
       "4                               0                      1               0   \n",
       "..                            ...                    ...             ...   \n",
       "976                             0                      0               0   \n",
       "977                             0                      1               0   \n",
       "978                             0                      1               0   \n",
       "979                             0                      0               1   \n",
       "980                             0                      1               1   \n",
       "\n",
       "    condicion de salud diagnostico_psiquiatrico toxico con frecuencia  \\\n",
       "0                    1                        0                     1   \n",
       "1                    1                        0                     1   \n",
       "2                    0                        0                     1   \n",
       "3                    0                        0                     1   \n",
       "4                    0                        0                     1   \n",
       "..                 ...                      ...                   ...   \n",
       "976                  0                        0                     1   \n",
       "977                  1                        0                     0   \n",
       "978                  0                        0                     1   \n",
       "979                  0                        1                     1   \n",
       "980                  0                        0                     1   \n",
       "\n",
       "    familiar_covid  \n",
       "0                0  \n",
       "1                0  \n",
       "2                0  \n",
       "3                0  \n",
       "4                0  \n",
       "..             ...  \n",
       "976              0  \n",
       "977              0  \n",
       "978              0  \n",
       "979              0  \n",
       "980              0  \n",
       "\n",
       "[981 rows x 55 columns]"
      ]
     },
     "metadata": {},
     "output_type": "display_data"
    }
   ],
   "source": [
    "final_data = pd.concat([data.iloc[:, :40], data.iloc[:, 85:]], axis=1)\n",
    "\n",
    "display(final_data)"
   ]
  },
  {
   "cell_type": "code",
   "execution_count": 129,
   "metadata": {
    "colab": {
     "base_uri": "https://localhost:8080/"
    },
    "executionInfo": {
     "elapsed": 294,
     "status": "ok",
     "timestamp": 1717951877907,
     "user": {
      "displayName": "BERTA PADILLA BAEZA",
      "userId": "17038178126289984285"
     },
     "user_tz": -120
    },
    "id": "cpHSLbLNkGvY",
    "outputId": "60c9676b-df19-4eee-e427-228e500e506b"
   },
   "outputs": [
    {
     "name": "stdout",
     "output_type": "stream",
     "text": [
      "Nombres de todas las columnas:\n",
      "-  Por favor indique el género con el que se identifica:\n",
      "-  Indique su estado civil:\n",
      "-  ¿Cuál es el estado actual de su documentación? \n",
      "-  ¿Tiene la nacionalidad europea? \n",
      "-  ¿Cuál es el máximo nivel educativo que ha terminado?\n",
      "-  Por favor, indique su estructura de convivencia habitual durante los 12 meses ANTERIORES al confinamiento:\n",
      "-  Por favor, indique su estructura de convivencia habitual DURANTE la reclusión:\n",
      "-  Por favor indique el número de MENORES a su cargo DURANTE la cuarentena:\n",
      "-  Por favor indique el número de personas dependientes mayores de 18 años a su cargo (incluyendo personas mayores, personas con diversidad funcional) DURANTE la cuarentena:\n",
      "-  Por favor, indique con cuánta gente tenía contacto habitualmente en un día normal ANTES  de la cuarentena (incluyendo el hogar, lo laboral, lo social...). Nos referimos a contactos individuales cara a cara, es decir, con las que charla o trata diferentes asuntos en persona.\n",
      "-  Por favor, indique con cuánta gente tiene/tuvo contacto habitualmente en un día normal DURANTE la cuarentena  (incluyendo el hogar, lo laboral, lo social...). Nos referimos a contactos individuales cara a cara, es decir, con las que charla o trata diferentes asuntos en persona.\n",
      "-  Por favor, indique su Código Postal durante el confinamiento: \n",
      "-  Por favor, indique el espacio en el que vive/vivía DURANTE el confinamiento:\n",
      "-  Por favor indique si es dueño de su vivienda o vive alquilado/a:\n",
      "-  ¿Cuántos metros cuadrados útiles (los que puede pisar) tiene/tenía su espacio de residencia DURANTE la cuarentena?\n",
      "-  Diría que su espacio de residencia DURANTE la cuarentena tiene:\n",
      "-  Diría que su espacio de residencia DURANTE la cuarentena tiene:.1\n",
      "-  Teniendo en mente su lugar de residencia DURANTE el confinamiento, por favor, indique. Número de habitaciones sin contar baño y cocina:\n",
      "-  Teniendo en mente su lugar de residencia DURANTE el confinamiento, por favor, indique. Número de personas con las que cohabitaba/cohabita:\n",
      "-  Teniendo en mente su lugar de residencia DURANTE el confinamiento, por favor, indique. Número de personas en su mismo dormitorio excluyéndose a usted mismo/a:\n",
      "-  Situación laboral ANTES (en los 12 meses anteriores al inicio de la cuarentena o la mayor parte de ese tiempo)\n",
      "-  ¿Qué duración tenía su jornada laboral ANTES (en los 12 meses anteriores al inicio de la cuarentena o la mayor parte de ese tiempo):\n",
      "-  ¿Cuál ha sido su situación laboral DURANTE la cuarentena?\n",
      "-  ¿Cuál considera que podría ser su situación laboral o académica DESPU√âS de la crisis provocada por el coronavirus (en los 12 meses posteriores al fin de la cuarentena o la mayor parte de ese tiempo):?\n",
      "-  En los últimos 12 meses ANTES del confinamiento, ¿cuál fue la principal ocupación de la PERSONA que aporta un mayor importe económico al HOGAR?\n",
      "-  ¿Cuál era el nivel aproximado de ingresos MENSUALES netos regulares en su HOGAR (unidad en la que se comparten gastos: individuo, pareja, familia...) ANTES de la cuarentena (en los 12 meses anteriores al inicio de la cuarentena o la mayor parte de ese tiempo):\n",
      "-  ¿Cuál era el nivel aproximado de ingresos MENSUALES netos regulares en su HOGAR (unidad en la que se comparten gastos: individuo, pareja, familia...) DURANTE la cuarentena:\n",
      "-  DURANTE el confinamiento en su hogar:\n",
      "-  Supongamos que usted (y su cónyuge o pareja) convierte en dinero todos sus fondos en cuentas corrientes y/o de ahorros, inversiones en Bolsa, bonos/letras, bienes inmuebles, y venden su casa, sus vehículos y todas sus cosas de valor. A continuación, supongamos que el dinero de todas estas operaciones lo utiliza para pagar su hipoteca y otros créditos, préstamos, deudas y tarjetas de crédito. ¿Le quedaría dinero después de pagar todas sus deudas, o todavía debería dinero? (basta con un estimación aproximada).\n",
      "-  Recibe tratamiento o medicación psiquiátrica ACTUALMENTE:\n",
      "-  Recibe tratamiento psicológico o sigue una terapia ACTUALMENTE:\n",
      "-  Por favor indique si necesita ayuda para las tareas cotidianas y de autocuidado como hacer la compra, realizar las tareas del hogar, lavarse y peinarse, cocinar, gestionar el dinero, etc.\n",
      "-  Por favor indique, si lo hay, el grado de discapacidad que indique su certificado % reconocido (0 si no tiene):\n",
      "-  Por favor, indique si en el pasado usted ha tenido algún intento de suicidio:\n",
      "-  Por favor indique si le han diagnosticado de infección por coronavirus\n",
      "-  En el caso de tener o haber tenido un diagnóstico de coronavirus, ¿cómo valoraría la severidad de la enfermedad? \n",
      "-  En este caso, ¿permaneció aislado/a dentro del domicilio (sin salir de una habitación y sin compañía durante la duración de los síntomas y 15 días más)?\n",
      "-  En caso afirmativo, valore, por favor, la severidad de la enfermedad (tenga en cuenta el de mayor gravedad en caso de ser varios casos)\n",
      "-  Alguna persona de su familia diagnosticada de infección por coronavirus, ¿ha convivido en su hogar durante el proceso de su enfermedad?\n",
      "-  ¿Cuántas veces a la semana ha salido de casa durante la cuarentena?\n",
      "-  La idea de que debería ser castigado/a por sus pecados \n",
      "-  Age\n",
      "-  Cambio_Estructura_convivencia\n",
      "-  Cambio_N_personas_relacion\n",
      "-  Ventana\n",
      "-  Balcón  privado\n",
      "-  Terraza privada\n",
      "-  Jardín privado\n",
      "-  Terreno privado al aire libre\n",
      "-  Cambio_formato_trabajo\n",
      "-  Cambio_ingresos\n",
      "-  condicion de salud\n",
      "-  diagnostico_psiquiatrico\n",
      "-  toxico con frecuencia\n",
      "-  familiar_covid\n"
     ]
    }
   ],
   "source": [
    "print(\"Nombres de todas las columnas:\")\n",
    "colums = final_data.columns.tolist()\n",
    "for i in colums:\n",
    "  print('- ',i)\n"
   ]
  },
  {
   "cell_type": "code",
   "execution_count": 130,
   "metadata": {
    "editable": true,
    "id": "3WAs2pKcvr5s",
    "slideshow": {
     "slide_type": ""
    },
    "tags": []
   },
   "outputs": [],
   "source": [
    "#final_data.to_csv('/content/drive/MyDrive/TFM/final_data.csv', index=False)\n",
    "final_data.to_csv('./CSV_ALFREDO/final_data.csv', index=False, sep=';', encoding=resultado['encoding'])"
   ]
  },
  {
   "cell_type": "code",
   "execution_count": 131,
   "metadata": {
    "colab": {
     "base_uri": "https://localhost:8080/",
     "height": 583
    },
    "executionInfo": {
     "elapsed": 7,
     "status": "ok",
     "timestamp": 1717951878496,
     "user": {
      "displayName": "BERTA PADILLA BAEZA",
      "userId": "17038178126289984285"
     },
     "user_tz": -120
    },
    "id": "Cl8519BqurEL",
    "outputId": "e2651cb9-8883-4436-d0ef-e3b1acf76772"
   },
   "outputs": [
    {
     "data": {
      "text/html": [
       "<div>\n",
       "<style scoped>\n",
       "    .dataframe tbody tr th:only-of-type {\n",
       "        vertical-align: middle;\n",
       "    }\n",
       "\n",
       "    .dataframe tbody tr th {\n",
       "        vertical-align: top;\n",
       "    }\n",
       "\n",
       "    .dataframe thead th {\n",
       "        text-align: right;\n",
       "    }\n",
       "</style>\n",
       "<table border=\"1\" class=\"dataframe\">\n",
       "  <thead>\n",
       "    <tr style=\"text-align: right;\">\n",
       "      <th></th>\n",
       "      <th>¿Considera que las medidas que se han llevado a cabo para prevenir la evolución de la pandemia son adecuadas y justas?</th>\n",
       "      <th>La idea de que otra persona pueda controlar sus pensamientos</th>\n",
       "      <th>Creer que la mayoría de sus problemas son culpa de los demás</th>\n",
       "      <th>Sentir miedo en los espacios abiertos o en la calle</th>\n",
       "      <th>Oír voces que otras personas no oyen</th>\n",
       "      <th>La idea de que uno no se puede fiar de la mayoría de las personas</th>\n",
       "      <th>Tener miedo de repente y sin razón</th>\n",
       "      <th>Arrebatos de cólera o ataques de furia que no logra controlar</th>\n",
       "      <th>Miedo a salir de casa solo/a</th>\n",
       "      <th>Sentirse solo/a</th>\n",
       "      <th>...</th>\n",
       "      <th>Tener ganas de romper algo</th>\n",
       "      <th>Sentirse muy cohibido/a entre otras personas</th>\n",
       "      <th>Sentir miedo o ansiedad entre mucha gente (en el cine, supermercado, etc.)</th>\n",
       "      <th>Ataques de terror o pánico</th>\n",
       "      <th>Tener discusiones frecuentes</th>\n",
       "      <th>El que otros no le reconozcan adecuadamente sus logros</th>\n",
       "      <th>Sentirse inquieto/a o intranquilo/a</th>\n",
       "      <th>La sensación de ser un/a inútil o no valer nada</th>\n",
       "      <th>Gritar o tirar cosas</th>\n",
       "      <th>La impresión de que la gente intentaría aprovecharse de usted si los dejara</th>\n",
       "    </tr>\n",
       "  </thead>\n",
       "  <tbody>\n",
       "    <tr>\n",
       "      <th>0</th>\n",
       "      <td>3.0</td>\n",
       "      <td>0</td>\n",
       "      <td>0</td>\n",
       "      <td>2</td>\n",
       "      <td>0</td>\n",
       "      <td>0</td>\n",
       "      <td>0</td>\n",
       "      <td>1</td>\n",
       "      <td>0</td>\n",
       "      <td>2.0</td>\n",
       "      <td>...</td>\n",
       "      <td>2</td>\n",
       "      <td>0.0</td>\n",
       "      <td>1</td>\n",
       "      <td>1.0</td>\n",
       "      <td>1</td>\n",
       "      <td>0</td>\n",
       "      <td>2</td>\n",
       "      <td>1.0</td>\n",
       "      <td>0.0</td>\n",
       "      <td>0</td>\n",
       "    </tr>\n",
       "    <tr>\n",
       "      <th>1</th>\n",
       "      <td>3.0</td>\n",
       "      <td>0</td>\n",
       "      <td>0</td>\n",
       "      <td>0</td>\n",
       "      <td>0</td>\n",
       "      <td>4</td>\n",
       "      <td>0</td>\n",
       "      <td>0</td>\n",
       "      <td>0</td>\n",
       "      <td>0.0</td>\n",
       "      <td>...</td>\n",
       "      <td>0</td>\n",
       "      <td>0.0</td>\n",
       "      <td>0</td>\n",
       "      <td>0.0</td>\n",
       "      <td>0</td>\n",
       "      <td>4</td>\n",
       "      <td>0</td>\n",
       "      <td>0.0</td>\n",
       "      <td>0.0</td>\n",
       "      <td>4</td>\n",
       "    </tr>\n",
       "    <tr>\n",
       "      <th>2</th>\n",
       "      <td>4.0</td>\n",
       "      <td>0</td>\n",
       "      <td>0</td>\n",
       "      <td>1</td>\n",
       "      <td>0</td>\n",
       "      <td>0</td>\n",
       "      <td>0</td>\n",
       "      <td>0</td>\n",
       "      <td>0</td>\n",
       "      <td>0.0</td>\n",
       "      <td>...</td>\n",
       "      <td>0</td>\n",
       "      <td>0.0</td>\n",
       "      <td>0</td>\n",
       "      <td>0.0</td>\n",
       "      <td>1</td>\n",
       "      <td>0</td>\n",
       "      <td>0</td>\n",
       "      <td>0.0</td>\n",
       "      <td>0.0</td>\n",
       "      <td>0</td>\n",
       "    </tr>\n",
       "    <tr>\n",
       "      <th>3</th>\n",
       "      <td>4.0</td>\n",
       "      <td>0</td>\n",
       "      <td>0</td>\n",
       "      <td>1</td>\n",
       "      <td>0</td>\n",
       "      <td>1</td>\n",
       "      <td>1</td>\n",
       "      <td>2</td>\n",
       "      <td>0</td>\n",
       "      <td>2.0</td>\n",
       "      <td>...</td>\n",
       "      <td>0</td>\n",
       "      <td>0.0</td>\n",
       "      <td>0</td>\n",
       "      <td>0.0</td>\n",
       "      <td>0</td>\n",
       "      <td>0</td>\n",
       "      <td>3</td>\n",
       "      <td>0.0</td>\n",
       "      <td>0.0</td>\n",
       "      <td>0</td>\n",
       "    </tr>\n",
       "    <tr>\n",
       "      <th>4</th>\n",
       "      <td>3.0</td>\n",
       "      <td>0</td>\n",
       "      <td>0</td>\n",
       "      <td>1</td>\n",
       "      <td>0</td>\n",
       "      <td>0</td>\n",
       "      <td>1</td>\n",
       "      <td>0</td>\n",
       "      <td>0</td>\n",
       "      <td>0.0</td>\n",
       "      <td>...</td>\n",
       "      <td>0</td>\n",
       "      <td>0.0</td>\n",
       "      <td>1</td>\n",
       "      <td>0.0</td>\n",
       "      <td>0</td>\n",
       "      <td>0</td>\n",
       "      <td>0</td>\n",
       "      <td>0.0</td>\n",
       "      <td>0.0</td>\n",
       "      <td>0</td>\n",
       "    </tr>\n",
       "    <tr>\n",
       "      <th>...</th>\n",
       "      <td>...</td>\n",
       "      <td>...</td>\n",
       "      <td>...</td>\n",
       "      <td>...</td>\n",
       "      <td>...</td>\n",
       "      <td>...</td>\n",
       "      <td>...</td>\n",
       "      <td>...</td>\n",
       "      <td>...</td>\n",
       "      <td>...</td>\n",
       "      <td>...</td>\n",
       "      <td>...</td>\n",
       "      <td>...</td>\n",
       "      <td>...</td>\n",
       "      <td>...</td>\n",
       "      <td>...</td>\n",
       "      <td>...</td>\n",
       "      <td>...</td>\n",
       "      <td>...</td>\n",
       "      <td>...</td>\n",
       "      <td>...</td>\n",
       "    </tr>\n",
       "    <tr>\n",
       "      <th>976</th>\n",
       "      <td>5.0</td>\n",
       "      <td>0</td>\n",
       "      <td>0</td>\n",
       "      <td>0</td>\n",
       "      <td>0</td>\n",
       "      <td>0</td>\n",
       "      <td>0</td>\n",
       "      <td>0</td>\n",
       "      <td>0</td>\n",
       "      <td>0.0</td>\n",
       "      <td>...</td>\n",
       "      <td>0</td>\n",
       "      <td>0.0</td>\n",
       "      <td>0</td>\n",
       "      <td>0.0</td>\n",
       "      <td>0</td>\n",
       "      <td>0</td>\n",
       "      <td>0</td>\n",
       "      <td>0.0</td>\n",
       "      <td>0.0</td>\n",
       "      <td>0</td>\n",
       "    </tr>\n",
       "    <tr>\n",
       "      <th>977</th>\n",
       "      <td>4.0</td>\n",
       "      <td>0</td>\n",
       "      <td>0</td>\n",
       "      <td>1</td>\n",
       "      <td>0</td>\n",
       "      <td>0</td>\n",
       "      <td>0</td>\n",
       "      <td>0</td>\n",
       "      <td>0</td>\n",
       "      <td>0.0</td>\n",
       "      <td>...</td>\n",
       "      <td>0</td>\n",
       "      <td>0.0</td>\n",
       "      <td>1</td>\n",
       "      <td>0.0</td>\n",
       "      <td>0</td>\n",
       "      <td>0</td>\n",
       "      <td>0</td>\n",
       "      <td>0.0</td>\n",
       "      <td>0.0</td>\n",
       "      <td>0</td>\n",
       "    </tr>\n",
       "    <tr>\n",
       "      <th>978</th>\n",
       "      <td>4.0</td>\n",
       "      <td>0</td>\n",
       "      <td>0</td>\n",
       "      <td>0</td>\n",
       "      <td>0</td>\n",
       "      <td>0</td>\n",
       "      <td>0</td>\n",
       "      <td>0</td>\n",
       "      <td>0</td>\n",
       "      <td>0.0</td>\n",
       "      <td>...</td>\n",
       "      <td>0</td>\n",
       "      <td>0.0</td>\n",
       "      <td>0</td>\n",
       "      <td>0.0</td>\n",
       "      <td>1</td>\n",
       "      <td>0</td>\n",
       "      <td>1</td>\n",
       "      <td>0.0</td>\n",
       "      <td>0.0</td>\n",
       "      <td>0</td>\n",
       "    </tr>\n",
       "    <tr>\n",
       "      <th>979</th>\n",
       "      <td>1.0</td>\n",
       "      <td>0</td>\n",
       "      <td>2</td>\n",
       "      <td>2</td>\n",
       "      <td>0</td>\n",
       "      <td>0</td>\n",
       "      <td>4</td>\n",
       "      <td>3</td>\n",
       "      <td>1</td>\n",
       "      <td>4.0</td>\n",
       "      <td>...</td>\n",
       "      <td>1</td>\n",
       "      <td>4.0</td>\n",
       "      <td>0</td>\n",
       "      <td>0.0</td>\n",
       "      <td>2</td>\n",
       "      <td>1</td>\n",
       "      <td>4</td>\n",
       "      <td>3.0</td>\n",
       "      <td>0.0</td>\n",
       "      <td>0</td>\n",
       "    </tr>\n",
       "    <tr>\n",
       "      <th>980</th>\n",
       "      <td>5.0</td>\n",
       "      <td>1</td>\n",
       "      <td>0</td>\n",
       "      <td>1</td>\n",
       "      <td>0</td>\n",
       "      <td>0</td>\n",
       "      <td>0</td>\n",
       "      <td>0</td>\n",
       "      <td>1</td>\n",
       "      <td>1.0</td>\n",
       "      <td>...</td>\n",
       "      <td>0</td>\n",
       "      <td>0.0</td>\n",
       "      <td>2</td>\n",
       "      <td>0.0</td>\n",
       "      <td>1</td>\n",
       "      <td>3</td>\n",
       "      <td>1</td>\n",
       "      <td>1.0</td>\n",
       "      <td>0.0</td>\n",
       "      <td>0</td>\n",
       "    </tr>\n",
       "  </tbody>\n",
       "</table>\n",
       "<p>981 rows × 45 columns</p>\n",
       "</div>"
      ],
      "text/plain": [
       "     ¿Considera que las medidas que se han llevado a cabo para prevenir la evolución de la pandemia son adecuadas y justas?  \\\n",
       "0                                                  3.0                                                                        \n",
       "1                                                  3.0                                                                        \n",
       "2                                                  4.0                                                                        \n",
       "3                                                  4.0                                                                        \n",
       "4                                                  3.0                                                                        \n",
       "..                                                 ...                                                                        \n",
       "976                                                5.0                                                                        \n",
       "977                                                4.0                                                                        \n",
       "978                                                4.0                                                                        \n",
       "979                                                1.0                                                                        \n",
       "980                                                5.0                                                                        \n",
       "\n",
       "     La idea de que otra persona pueda controlar sus pensamientos   \\\n",
       "0                                                    0               \n",
       "1                                                    0               \n",
       "2                                                    0               \n",
       "3                                                    0               \n",
       "4                                                    0               \n",
       "..                                                 ...               \n",
       "976                                                  0               \n",
       "977                                                  0               \n",
       "978                                                  0               \n",
       "979                                                  0               \n",
       "980                                                  1               \n",
       "\n",
       "     Creer que la mayoría de sus problemas son culpa de los demás  \\\n",
       "0                                                    0              \n",
       "1                                                    0              \n",
       "2                                                    0              \n",
       "3                                                    0              \n",
       "4                                                    0              \n",
       "..                                                 ...              \n",
       "976                                                  0              \n",
       "977                                                  0              \n",
       "978                                                  0              \n",
       "979                                                  2              \n",
       "980                                                  0              \n",
       "\n",
       "     Sentir miedo en los espacios abiertos o en la calle   \\\n",
       "0                                                    2      \n",
       "1                                                    0      \n",
       "2                                                    1      \n",
       "3                                                    1      \n",
       "4                                                    1      \n",
       "..                                                 ...      \n",
       "976                                                  0      \n",
       "977                                                  1      \n",
       "978                                                  0      \n",
       "979                                                  2      \n",
       "980                                                  1      \n",
       "\n",
       "     Oír voces que otras personas no oyen   \\\n",
       "0                                        0   \n",
       "1                                        0   \n",
       "2                                        0   \n",
       "3                                        0   \n",
       "4                                        0   \n",
       "..                                     ...   \n",
       "976                                      0   \n",
       "977                                      0   \n",
       "978                                      0   \n",
       "979                                      0   \n",
       "980                                      0   \n",
       "\n",
       "     La idea de que uno no se puede fiar de la mayoría de las personas   \\\n",
       "0                                                    0                    \n",
       "1                                                    4                    \n",
       "2                                                    0                    \n",
       "3                                                    1                    \n",
       "4                                                    0                    \n",
       "..                                                 ...                    \n",
       "976                                                  0                    \n",
       "977                                                  0                    \n",
       "978                                                  0                    \n",
       "979                                                  0                    \n",
       "980                                                  0                    \n",
       "\n",
       "     Tener miedo de repente y sin razón  \\\n",
       "0                                     0   \n",
       "1                                     0   \n",
       "2                                     0   \n",
       "3                                     1   \n",
       "4                                     1   \n",
       "..                                  ...   \n",
       "976                                   0   \n",
       "977                                   0   \n",
       "978                                   0   \n",
       "979                                   4   \n",
       "980                                   0   \n",
       "\n",
       "     Arrebatos de cólera o ataques de furia que no logra controlar  \\\n",
       "0                                                    1               \n",
       "1                                                    0               \n",
       "2                                                    0               \n",
       "3                                                    2               \n",
       "4                                                    0               \n",
       "..                                                 ...               \n",
       "976                                                  0               \n",
       "977                                                  0               \n",
       "978                                                  0               \n",
       "979                                                  3               \n",
       "980                                                  0               \n",
       "\n",
       "     Miedo a salir de casa solo/a  Sentirse solo/a   ...  \\\n",
       "0                               0               2.0  ...   \n",
       "1                               0               0.0  ...   \n",
       "2                               0               0.0  ...   \n",
       "3                               0               2.0  ...   \n",
       "4                               0               0.0  ...   \n",
       "..                            ...               ...  ...   \n",
       "976                             0               0.0  ...   \n",
       "977                             0               0.0  ...   \n",
       "978                             0               0.0  ...   \n",
       "979                             1               4.0  ...   \n",
       "980                             1               1.0  ...   \n",
       "\n",
       "     Tener ganas de romper algo  \\\n",
       "0                             2   \n",
       "1                             0   \n",
       "2                             0   \n",
       "3                             0   \n",
       "4                             0   \n",
       "..                          ...   \n",
       "976                           0   \n",
       "977                           0   \n",
       "978                           0   \n",
       "979                           1   \n",
       "980                           0   \n",
       "\n",
       "     Sentirse muy cohibido/a entre otras personas   \\\n",
       "0                                              0.0   \n",
       "1                                              0.0   \n",
       "2                                              0.0   \n",
       "3                                              0.0   \n",
       "4                                              0.0   \n",
       "..                                             ...   \n",
       "976                                            0.0   \n",
       "977                                            0.0   \n",
       "978                                            0.0   \n",
       "979                                            4.0   \n",
       "980                                            0.0   \n",
       "\n",
       "     Sentir miedo o ansiedad entre mucha gente (en el cine, supermercado, etc.)   \\\n",
       "0                                                    1                             \n",
       "1                                                    0                             \n",
       "2                                                    0                             \n",
       "3                                                    0                             \n",
       "4                                                    1                             \n",
       "..                                                 ...                             \n",
       "976                                                  0                             \n",
       "977                                                  1                             \n",
       "978                                                  0                             \n",
       "979                                                  0                             \n",
       "980                                                  2                             \n",
       "\n",
       "     Ataques de terror o pánico   Tener discusiones frecuentes   \\\n",
       "0                            1.0                              1   \n",
       "1                            0.0                              0   \n",
       "2                            0.0                              1   \n",
       "3                            0.0                              0   \n",
       "4                            0.0                              0   \n",
       "..                           ...                            ...   \n",
       "976                          0.0                              0   \n",
       "977                          0.0                              0   \n",
       "978                          0.0                              1   \n",
       "979                          0.0                              2   \n",
       "980                          0.0                              1   \n",
       "\n",
       "     El que otros no le reconozcan adecuadamente sus logros  \\\n",
       "0                                                    0        \n",
       "1                                                    4        \n",
       "2                                                    0        \n",
       "3                                                    0        \n",
       "4                                                    0        \n",
       "..                                                 ...        \n",
       "976                                                  0        \n",
       "977                                                  0        \n",
       "978                                                  0        \n",
       "979                                                  1        \n",
       "980                                                  3        \n",
       "\n",
       "     Sentirse inquieto/a o intranquilo/a   \\\n",
       "0                                       2   \n",
       "1                                       0   \n",
       "2                                       0   \n",
       "3                                       3   \n",
       "4                                       0   \n",
       "..                                    ...   \n",
       "976                                     0   \n",
       "977                                     0   \n",
       "978                                     1   \n",
       "979                                     4   \n",
       "980                                     1   \n",
       "\n",
       "     La sensación de ser un/a inútil o no valer nada  Gritar o tirar cosas   \\\n",
       "0                                                1.0                    0.0   \n",
       "1                                                0.0                    0.0   \n",
       "2                                                0.0                    0.0   \n",
       "3                                                0.0                    0.0   \n",
       "4                                                0.0                    0.0   \n",
       "..                                               ...                    ...   \n",
       "976                                              0.0                    0.0   \n",
       "977                                              0.0                    0.0   \n",
       "978                                              0.0                    0.0   \n",
       "979                                              3.0                    0.0   \n",
       "980                                              1.0                    0.0   \n",
       "\n",
       "     La impresión de que la gente intentaría aprovecharse de usted si los dejara   \n",
       "0                                                    0                             \n",
       "1                                                    4                             \n",
       "2                                                    0                             \n",
       "3                                                    0                             \n",
       "4                                                    0                             \n",
       "..                                                 ...                             \n",
       "976                                                  0                             \n",
       "977                                                  0                             \n",
       "978                                                  0                             \n",
       "979                                                  0                             \n",
       "980                                                  0                             \n",
       "\n",
       "[981 rows x 45 columns]"
      ]
     },
     "metadata": {},
     "output_type": "display_data"
    }
   ],
   "source": [
    "final_data_test = data.iloc[:, 40:85]\n",
    "\n",
    "display(final_data_test)"
   ]
  },
  {
   "cell_type": "code",
   "execution_count": 132,
   "metadata": {
    "editable": true,
    "id": "u1cQhaoVu7We",
    "slideshow": {
     "slide_type": ""
    },
    "tags": []
   },
   "outputs": [],
   "source": [
    "# Guardar el DataFrame final_data_test con codificación UTF-8\n",
    "final_data_test.to_csv('./CSV_ALFREDO/final_data_test.csv', index=False, sep=';', encoding=resultado['encoding'])\n"
   ]
  },
  {
   "cell_type": "code",
   "execution_count": null,
   "metadata": {},
   "outputs": [],
   "source": []
  },
  {
   "cell_type": "code",
   "execution_count": null,
   "metadata": {},
   "outputs": [],
   "source": []
  }
 ],
 "metadata": {
  "colab": {
   "authorship_tag": "ABX9TyPdP+lskdrhstI/5OGiNfZC",
   "mount_file_id": "1PZRYs-AVQWDg7nUQ9087u117AxdBJ2UG",
   "provenance": []
  },
  "kernelspec": {
   "display_name": "Python 3 (ipykernel)",
   "language": "python",
   "name": "python3"
  },
  "language_info": {
   "codemirror_mode": {
    "name": "ipython",
    "version": 3
   },
   "file_extension": ".py",
   "mimetype": "text/x-python",
   "name": "python",
   "nbconvert_exporter": "python",
   "pygments_lexer": "ipython3",
   "version": "3.12.7"
  }
 },
 "nbformat": 4,
 "nbformat_minor": 4
}
