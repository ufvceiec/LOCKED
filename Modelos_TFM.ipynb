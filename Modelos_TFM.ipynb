{
 "cells": [
  {
   "cell_type": "code",
   "execution_count": 1,
   "metadata": {},
   "outputs": [
    {
     "name": "stdout",
     "output_type": "stream",
     "text": [
      "2024-11-21 12:06:54.383937\n"
     ]
    }
   ],
   "source": [
    "import datetime\n",
    "hora_inicio_codigo = datetime.datetime.now()\n",
    "print(hora_inicio_codigo)"
   ]
  },
  {
   "cell_type": "code",
   "execution_count": 2,
   "metadata": {
    "executionInfo": {
     "elapsed": 2536,
     "status": "ok",
     "timestamp": 1726144347515,
     "user": {
      "displayName": "BERTA PADILLA BAEZA",
      "userId": "17038178126289984285"
     },
     "user_tz": -120
    },
    "id": "f8WHPvknAQFr"
   },
   "outputs": [],
   "source": [
    "import numpy as np\n",
    "import matplotlib.pyplot as plt\n",
    "import pandas as pd\n",
    "import seaborn as sns\n",
    "\n",
    "import csv\n",
    "import math\n",
    "import os\n",
    "import chardet\n",
    "import shap\n",
    "from tqdm import tqdm\n",
    "\n",
    "from imblearn.over_sampling import SMOTE\n",
    "from sklearn.tree import DecisionTreeClassifier\n",
    "from sklearn.ensemble import RandomForestClassifier, GradientBoostingClassifier\n",
    "from sklearn.svm import SVC\n",
    "from sklearn.naive_bayes import GaussianNB\n",
    "from sklearn.linear_model import LogisticRegression\n",
    "from sklearn.neural_network import MLPClassifier\n",
    "from sklearn.model_selection import KFold, GridSearchCV, StratifiedKFold, train_test_split, cross_val_predict\n",
    "from sklearn.metrics import accuracy_score, confusion_matrix, mean_squared_error"
   ]
  },
  {
   "cell_type": "code",
   "execution_count": 3,
   "metadata": {
    "colab": {
     "base_uri": "https://localhost:8080/",
     "height": 1000
    },
    "editable": true,
    "executionInfo": {
     "elapsed": 5557,
     "status": "ok",
     "timestamp": 1726144398672,
     "user": {
      "displayName": "BERTA PADILLA BAEZA",
      "userId": "17038178126289984285"
     },
     "user_tz": -120
    },
    "id": "Ywp9i282B5y8",
    "outputId": "8a9f41c1-134b-46f2-f836-463328424002",
    "slideshow": {
     "slide_type": ""
    },
    "tags": []
   },
   "outputs": [
    {
     "name": "stdout",
     "output_type": "stream",
     "text": [
      "Codificación detectada: utf-8\n",
      "Codificación detectada: utf-8\n"
     ]
    }
   ],
   "source": [
    "data_file = './CSV_ALFREDO/final_data_numeric.csv'\n",
    "\n",
    "with open(data_file, 'rb') as file:\n",
    "    resultado = chardet.detect(file.read(10000))\n",
    "\n",
    "# Ver la codificación detectada\n",
    "print(f\"Codificación detectada: {resultado['encoding']}\")\n",
    "\n",
    "# Leer el archivo CSV con la codificación detectada\n",
    "data = pd.read_csv(data_file, sep=';', encoding=resultado['encoding'])\n",
    "\n",
    "y_file = './CSV_ALFREDO/result.csv'\n",
    "\n",
    "# Ver la codificación detectada\n",
    "print(f\"Codificación detectada: {resultado['encoding']}\")\n",
    "\n",
    "# Leer el archivo CSV con la codificación detectada\n",
    "y = pd.read_csv(y_file, sep=';', encoding=resultado['encoding'])"
   ]
  },
  {
   "cell_type": "markdown",
   "metadata": {
    "id": "AoXGFgO-DvBG"
   },
   "source": [
    "# Separamos en X_Train, X_Test, y_train, y_test"
   ]
  },
  {
   "cell_type": "code",
   "execution_count": 4,
   "metadata": {
    "editable": true,
    "slideshow": {
     "slide_type": ""
    },
    "tags": []
   },
   "outputs": [],
   "source": [
    "# Definición de las columnas para cada subset (ajustado según los nombres exactos)\n",
    "demographic_columns = [\n",
    "    'por_favor_indique_el_genero_con_el_que_se_identifica:',  # Gender\n",
    "    'indique_su_estado_civil:',  # Marital Status\n",
    "    '¿tiene_la_nacionalidad_europea?',  # Nationality\n",
    "    '¿cual_es_el_estado_actual_de_su_documentacion?',  # Current Documentation Status\n",
    "    '¿cual_es_el_maximo_nivel_educativo_que_ha_terminado?',  # Education Level\n",
    "    'por_favor,_indique_su_estructura_de_convivencia_habitual_durante_los_12_meses_anteriores_al_confinamiento:',  # Family Structure before COVID\n",
    "    'por_favor,_indique_su_estructura_de_convivencia_habitual_durante_la_reclusion:',  # Family Structure during COVID\n",
    "    'por_favor_indique_el_numero_de_menores_a_su_cargo_durante_la_cuarentena:',  # Number of Minors in Care During COVID\n",
    "    'por_favor_indique_el_numero_de_personas_dependientes_mayores_de_18_años_a_su_cargo_(incluyendo_personas_mayores,_personas_con_diversidad_funcional)_durante_la_cuarentena:',  # Number of Dependents\n",
    "    'por_favor,_indique_con_cuanta_gente_tenia_contacto_habitualmente_en_un_dia_normal_antes__de_la_cuarentena_(incluyendo_el_hogar,_lo_laboral,_lo_social...)._nos_referimos_a_contactos_individuales_cara_a_cara,_es_decir,_con_las_que_charla_o_trata_diferentes_asuntos_en_persona.',  # Social Contacts Before COVID\n",
    "    'por_favor,_indique_con_cuanta_gente_tiene/tuvo_contacto_habitualmente_en_un_dia_normal_durante_la_cuarentena__(incluyendo_el_hogar,_lo_laboral,_lo_social...)._nos_referimos_a_contactos_individuales_cara_a_cara,_es_decir,_con_las_que_charla_o_trata_diferentes_asuntos_en_persona.'  # Social Contacts During COVID\n",
    "    ]\n",
    "\n",
    "living_columns = [\n",
    "    'por_favor,_indique_el_espacio_en_el_que_vive/vivia_durante_el_confinamiento:',  # Type of Living Space During Confinement\n",
    "    'por_favor_indique_si_es_dueño_de_su_vivienda_o_vive_alquilado/a:',  # Property Ownership\n",
    "    '¿cuantos_metros_cuadrados_utiles_(los_que_puede_pisar)_tiene/tenia_su_espacio_de_residencia_durante_la_cuarentena?',  # Square Meters of Living Space\n",
    "    'diria_que_su_espacio_de_residencia_durante_la_cuarentena_tiene:',  # Light During Quarantine\n",
    "    'diria_que_su_espacio_de_residencia_durante_la_cuarentena_tiene:.1',  # Ventilation During Quarantine\n",
    "    'teniendo_en_mente_su_lugar_de_residencia_durante_el_confinamiento,_por_favor,_indique._numero_de_habitaciones_sin_contar_baño_y_cocina:',  # Number of Rooms\n",
    "    'teniendo_en_mente_su_lugar_de_residencia_durante_el_confinamiento,_por_favor,_indique._numero_de_personas_con_las_que_cohabitaba/cohabita:',  # Number of Cohabitants\n",
    "    'teniendo_en_mente_su_lugar_de_residencia_durante_el_confinamiento,_por_favor,_indique._numero_de_personas_en_su_mismo_dormitorio_excluyendose_a_usted_mismo/a:',  # Number of Cohabitants in the Same Room\n",
    "    '¿cuantas_veces_a_la_semana_ha_salido_de_casa_durante_la_cuarentena?',  # Outings During Quarantine\n",
    "    'la_idea_de_que_deberia_ser_castigado/a_por_sus_pecados',  # Assessment of Self Punishment\n",
    "]\n",
    "\n",
    "economic_columns = [\n",
    "    'situacion_laboral_antes_(en_los_12_meses_anteriores_al_inicio_de_la_cuarentena_o_la_mayor_parte_de_ese_tiempo)',  # Employment Status Before Quarantine\n",
    "    '¿que_duracion_tenia_su_jornada_laboral_antes_(en_los_12_meses_anteriores_al_inicio_de_la_cuarentena_o_la_mayor_parte_de_ese_tiempo):',  # Working Hours Before Quarantine\n",
    "    '¿cual_ha_sido_su_situacion_laboral_durante_la_cuarentena?',  # Employment Status During Quarantine\n",
    "    '¿cual_considera_que_podria_ser_su_situacion_laboral_o_academica_despu√âs_de_la_crisis_provocada_por_el_coronavirus_(en_los_12_meses_posteriores_al_fin_de_la_cuarentena_o_la_mayor_parte_de_ese_tiempo):?',  # Employment Status After Quarantine\n",
    "    'en_los_ultimos_12_meses_antes_del_confinamiento,_¿cual_fue_la_principal_ocupacion_de_la_persona_que_aporta_un_mayor_importe_economico_al_hogar?',  # Occupation of the Person with the Highest Economic Contribution\n",
    "    '¿cual_era_el_nivel_aproximado_de_ingresos_mensuales_netos_regulares_en_su_hogar_(unidad_en_la_que_se_comparten_gastos:_individuo,_pareja,_familia...)_antes_de_la_cuarentena_(en_los_12_meses_anteriores_al_inicio_de_la_cuarentena_o_la_mayor_parte_de_ese_tiempo):',  # Net Monthly Income Before COVID\n",
    "    '¿cual_era_el_nivel_aproximado_de_ingresos_mensuales_netos_regulares_en_su_hogar_(unidad_en_la_que_se_comparten_gastos:_individuo,_pareja,_familia...)_durante_la_cuarentena:',  # Net Monthly Income During COVID\n",
    "    'durante_el_confinamiento_en_su_hogar:',  # Household Conditions During Confinement\n",
    "    'supongamos_que_usted_(y_su_conyuge_o_pareja)_convierte_en_dinero_todos_sus_fondos_en_cuentas_corrientes_y/o_de_ahorros,_inversiones_en_bolsa,_bonos/letras,_bienes_inmuebles,_y_venden_su_casa,_sus_vehiculos_y_todas_sus_cosas_de_valor._a_continuacion,_supongamos_que_el_dinero_de_todas_estas_operaciones_lo_utiliza_para_pagar_su_hipoteca_y_otros_creditos,_prestamos,_deudas_y_tarjetas_de_credito._¿le_quedaria_dinero_despues_de_pagar_todas_sus_deudas,_o_todavia_deberia_dinero?_(basta_con_un_estimacion_aproximada).',  # Financial Assessment After Liquidation\n",
    "]\n",
    "\n",
    "health_columns = [\n",
    "    'condicion_de_salud',  # Health Condition and Specific Needs\n",
    "    'recibe_tratamiento_o_medicacion_psiquiatrica_actualmente:',  # Psychiatric Treatment\n",
    "    'recibe_tratamiento_psicologico_o_sigue_una_terapia_actualmente:',  # Psychological Treatment\n",
    "    'por_favor_indique_si_necesita_ayuda_para_las_tareas_cotidianas_y_de_autocuidado_como_hacer_la_compra,_realizar_las_tareas_del_hogar,_lavarse_y_peinarse,_cocinar,_gestionar_el_dinero,_etc.',  # Help for Daily Tasks\n",
    "    'por_favor_indique,_si_lo_hay,_el_grado_de_discapacidad_que_indique_su_certificado_%_reconocido_(0_si_no_tiene):',  # Chronic Illness\n",
    "    'por_favor,_indique_si_en_el_pasado_usted_ha_tenido_algun_intento_de_suicidio:',\n",
    "    'por_favor_indique_si_le_han_diagnosticado_de_infeccion_por_coronavirus',\n",
    "    'en_el_caso_de_tener_o_haber_tenido_un_diagnostico_de_coronavirus,_¿como_valoraria_la_severidad_de_la_enfermedad?',\n",
    "    'en_este_caso,_¿permanecio_aislado/a_dentro_del_domicilio_(sin_salir_de_una_habitacion_y_sin_compañia_durante_la_duracion_de_los_sintomas_y_15_dias_mas)?',\n",
    "    'alguna_persona_de_su_familia_diagnosticada_de_infeccion_por_coronavirus,_¿ha_convivido_en_su_hogar_durante_el_proceso_de_su_enfermedad?',\n",
    "    'en_caso_afirmativo,_valore,_por_favor,_la_severidad_de_la_enfermedad_(tenga_en_cuenta_el_de_mayor_gravedad_en_caso_de_ser_varios_casos)',\n",
    "    'familiar_covid'\n",
    "]"
   ]
  },
  {
   "cell_type": "code",
   "execution_count": 5,
   "metadata": {},
   "outputs": [
    {
     "name": "stdout",
     "output_type": "stream",
     "text": [
      "Subconjuntos de datos guardados exitosamente.\n"
     ]
    }
   ],
   "source": [
    "# Crear subconjuntos de datos\n",
    "demographic_df = data[demographic_columns]\n",
    "living_df = data[living_columns]\n",
    "economic_df = data[economic_columns]\n",
    "health_df = data[health_columns]\n",
    "\n",
    "# Guardar los subconjuntos en archivos CSV\n",
    "demographic_df.to_csv('./sets/demographic_data.csv', sep=';', index=False)\n",
    "#display(demographic_df)\n",
    "living_df.to_csv('./sets/living_data.csv', sep=';', index=False)\n",
    "#display(living_df)\n",
    "economic_df.to_csv('./sets/economic_data.csv', sep=';', index=False)\n",
    "#display(economic_df)\n",
    "health_df.to_csv('./sets/health_data.csv', sep=';', index=False)\n",
    "#display(health_df)\n",
    "\n",
    "datasets = [demographic_df, living_df, economic_df, health_df]\n",
    "\n",
    "print(\"Subconjuntos de datos guardados exitosamente.\")"
   ]
  },
  {
   "cell_type": "code",
   "execution_count": 6,
   "metadata": {},
   "outputs": [
    {
     "name": "stdout",
     "output_type": "stream",
     "text": [
      "Archivos en './sets': ['demographic_data.csv', 'economic_data.csv', 'health_data.csv', 'living_data.csv']\n"
     ]
    }
   ],
   "source": [
    "# Directorios\n",
    "input_dir = './sets'\n",
    "output_dir = './entrenamiento'\n",
    "\n",
    "# Asegurarse de que el directorio de salida existe\n",
    "os.makedirs(output_dir, exist_ok=True)\n",
    "\n",
    "# Leer los archivos en el directorio './sets'\n",
    "sub_sets = os.listdir(input_dir)\n",
    "\n",
    "sub_sets = [x for x in sub_sets if x.endswith('.csv')]\n",
    "\n",
    "print(\"Archivos en './sets':\", sub_sets)"
   ]
  },
  {
   "cell_type": "code",
   "execution_count": 7,
   "metadata": {},
   "outputs": [
    {
     "name": "stdout",
     "output_type": "stream",
     "text": [
      "Codificación detectada para demographic_data.csv: EUC-JP\n",
      "Codificación detectada para economic_data.csv: utf-8\n",
      "Codificación detectada para health_data.csv: EUC-JP\n",
      "Codificación detectada para living_data.csv: EUC-JP\n"
     ]
    }
   ],
   "source": [
    "datasets = []\n",
    "\n",
    "# Cargar todos los datasets en la lista datasets\n",
    "for sub_set in sub_sets:\n",
    "    data_file = f'{input_dir}/{sub_set}'\n",
    "    \n",
    "    with open(data_file, 'rb') as file:\n",
    "        resultado = chardet.detect(file.read(10000))\n",
    "\n",
    "    # Ver la codificación detectada\n",
    "    print(f\"Codificación detectada para {sub_set}: {resultado['encoding']}\")\n",
    "    \n",
    "    # Leer el archivo CSV con la codificación detectada\n",
    "    data = pd.read_csv(data_file, sep=';', encoding=resultado['encoding'])\n",
    "    datasets.append((sub_set, data))  # Guarda el nombre del archivo y el DataFrame"
   ]
  },
  {
   "cell_type": "code",
   "execution_count": 8,
   "metadata": {},
   "outputs": [
    {
     "name": "stdout",
     "output_type": "stream",
     "text": [
      "Codificación detectada para 'result.csv': utf-8\n",
      "Nombres de las columnas en 'result.csv': ['Hostilidad', 'Somatización', 'Depresión', 'Obsesión-compulsión', 'Ansiedad', 'Sensibilidad interpersonal', 'Agorafobia', 'Ideación paranoide', 'Psicoticismo']\n"
     ]
    }
   ],
   "source": [
    "# Leer el archivo 'result.csv' para obtener las columnas de interés\n",
    "y_file = './CSV_ALFREDO/result.csv'\n",
    "\n",
    "with open(y_file, 'rb') as file:\n",
    "    resultado = chardet.detect(file.read(10000))\n",
    "\n",
    "# Ver la codificación detectada\n",
    "print(f\"Codificación detectada para 'result.csv': {resultado['encoding']}\")\n",
    "\n",
    "# Leer el archivo CSV con la codificación detectada\n",
    "y = pd.read_csv(y_file, sep=';', encoding=resultado['encoding'])\n",
    "\n",
    "# Almacenar los nombres de las columnas en un array\n",
    "columnas = y.columns.to_list()\n",
    "print(\"Nombres de las columnas en 'result.csv':\", columnas)"
   ]
  },
  {
   "cell_type": "code",
   "execution_count": 9,
   "metadata": {},
   "outputs": [
    {
     "name": "stdout",
     "output_type": "stream",
     "text": [
      "Archivo guardado: ./entrenamiento/demographic_data_with_Hostilidad.csv\n",
      "Archivo guardado: ./entrenamiento/demographic_data_with_Somatización.csv\n",
      "Archivo guardado: ./entrenamiento/demographic_data_with_Depresión.csv\n",
      "Archivo guardado: ./entrenamiento/demographic_data_with_Obsesión-compulsión.csv\n",
      "Archivo guardado: ./entrenamiento/demographic_data_with_Ansiedad.csv\n",
      "Archivo guardado: ./entrenamiento/demographic_data_with_Sensibilidad interpersonal.csv\n",
      "Archivo guardado: ./entrenamiento/demographic_data_with_Agorafobia.csv\n",
      "Archivo guardado: ./entrenamiento/demographic_data_with_Ideación paranoide.csv\n",
      "Archivo guardado: ./entrenamiento/demographic_data_with_Psicoticismo.csv\n",
      "Archivo guardado: ./entrenamiento/economic_data_with_Hostilidad.csv\n",
      "Archivo guardado: ./entrenamiento/economic_data_with_Somatización.csv\n",
      "Archivo guardado: ./entrenamiento/economic_data_with_Depresión.csv\n",
      "Archivo guardado: ./entrenamiento/economic_data_with_Obsesión-compulsión.csv\n",
      "Archivo guardado: ./entrenamiento/economic_data_with_Ansiedad.csv\n",
      "Archivo guardado: ./entrenamiento/economic_data_with_Sensibilidad interpersonal.csv\n",
      "Archivo guardado: ./entrenamiento/economic_data_with_Agorafobia.csv\n",
      "Archivo guardado: ./entrenamiento/economic_data_with_Ideación paranoide.csv\n",
      "Archivo guardado: ./entrenamiento/economic_data_with_Psicoticismo.csv\n",
      "Archivo guardado: ./entrenamiento/health_data_with_Hostilidad.csv\n",
      "Archivo guardado: ./entrenamiento/health_data_with_Somatización.csv\n",
      "Archivo guardado: ./entrenamiento/health_data_with_Depresión.csv\n",
      "Archivo guardado: ./entrenamiento/health_data_with_Obsesión-compulsión.csv\n",
      "Archivo guardado: ./entrenamiento/health_data_with_Ansiedad.csv\n",
      "Archivo guardado: ./entrenamiento/health_data_with_Sensibilidad interpersonal.csv\n",
      "Archivo guardado: ./entrenamiento/health_data_with_Agorafobia.csv\n",
      "Archivo guardado: ./entrenamiento/health_data_with_Ideación paranoide.csv\n",
      "Archivo guardado: ./entrenamiento/health_data_with_Psicoticismo.csv\n",
      "Archivo guardado: ./entrenamiento/living_data_with_Hostilidad.csv\n",
      "Archivo guardado: ./entrenamiento/living_data_with_Somatización.csv\n",
      "Archivo guardado: ./entrenamiento/living_data_with_Depresión.csv\n",
      "Archivo guardado: ./entrenamiento/living_data_with_Obsesión-compulsión.csv\n",
      "Archivo guardado: ./entrenamiento/living_data_with_Ansiedad.csv\n",
      "Archivo guardado: ./entrenamiento/living_data_with_Sensibilidad interpersonal.csv\n",
      "Archivo guardado: ./entrenamiento/living_data_with_Agorafobia.csv\n",
      "Archivo guardado: ./entrenamiento/living_data_with_Ideación paranoide.csv\n",
      "Archivo guardado: ./entrenamiento/living_data_with_Psicoticismo.csv\n"
     ]
    }
   ],
   "source": [
    "# Crear nuevos datasets combinando cada sub_set con cada columna de y\n",
    "for sub_set_name, dataset in datasets:\n",
    "    for columna in columnas:\n",
    "        # Crear un nuevo DataFrame con la columna de y y los datos del dataset original\n",
    "        new_dataset = dataset.copy()  # Hacer una copia del dataset original\n",
    "        new_dataset[columna] = y[columna]  # Añadir la columna de 'y' al nuevo dataset\n",
    "        \n",
    "        # Guardar el nuevo DataFrame en un nuevo archivo CSV\n",
    "        output_file = f'{output_dir}/{sub_set_name[:-4]}_with_{columna}.csv'\n",
    "        new_dataset.to_csv(output_file, sep=';', index=False, encoding='utf-8')\n",
    "        \n",
    "        print(f\"Archivo guardado: {output_file}\")"
   ]
  },
  {
   "cell_type": "code",
   "execution_count": 10,
   "metadata": {},
   "outputs": [
    {
     "name": "stdout",
     "output_type": "stream",
     "text": [
      "Datasets encontrados: ['demographic_data_with_Agorafobia.csv', 'demographic_data_with_Ansiedad.csv', 'demographic_data_with_Depresión.csv', 'demographic_data_with_Hostilidad.csv', 'demographic_data_with_Ideación paranoide.csv', 'demographic_data_with_Obsesión-compulsión.csv', 'demographic_data_with_Psicoticismo.csv', 'demographic_data_with_Sensibilidad interpersonal.csv', 'demographic_data_with_Somatización.csv', 'economic_data_with_Agorafobia.csv', 'economic_data_with_Ansiedad.csv', 'economic_data_with_Depresión.csv', 'economic_data_with_Hostilidad.csv', 'economic_data_with_Ideación paranoide.csv', 'economic_data_with_Obsesión-compulsión.csv', 'economic_data_with_Psicoticismo.csv', 'economic_data_with_Sensibilidad interpersonal.csv', 'economic_data_with_Somatización.csv', 'health_data_with_Agorafobia.csv', 'health_data_with_Ansiedad.csv', 'health_data_with_Depresión.csv', 'health_data_with_Hostilidad.csv', 'health_data_with_Ideación paranoide.csv', 'health_data_with_Obsesión-compulsión.csv', 'health_data_with_Psicoticismo.csv', 'health_data_with_Sensibilidad interpersonal.csv', 'health_data_with_Somatización.csv', 'living_data_with_Agorafobia.csv', 'living_data_with_Ansiedad.csv', 'living_data_with_Depresión.csv', 'living_data_with_Hostilidad.csv', 'living_data_with_Ideación paranoide.csv', 'living_data_with_Obsesión-compulsión.csv', 'living_data_with_Psicoticismo.csv', 'living_data_with_Sensibilidad interpersonal.csv', 'living_data_with_Somatización.csv']\n"
     ]
    }
   ],
   "source": [
    "# Directorio donde están los datasets\n",
    "data_dir = './entrenamiento'\n",
    "datasets = os.listdir(data_dir)\n",
    "balanced_dir = './entrenamiento_balanceado'\n",
    "\n",
    "# Crear el directorio si no existe\n",
    "os.makedirs(balanced_dir, exist_ok=True)\n",
    "\n",
    "# Filtrar archivos que no son CSV\n",
    "datasets = [d for d in datasets if d.endswith('.csv')]\n",
    "\n",
    "print(f'Datasets encontrados: {datasets}')"
   ]
  },
  {
   "cell_type": "code",
   "execution_count": 11,
   "metadata": {},
   "outputs": [
    {
     "name": "stderr",
     "output_type": "stream",
     "text": [
      "C:\\Users\\Ceiec09\\AppData\\Local\\Temp\\ipykernel_15000\\1170576296.py:26: SettingWithCopyWarning: \n",
      "A value is trying to be set on a copy of a slice from a DataFrame.\n",
      "Try using .loc[row_indexer,col_indexer] = value instead\n",
      "\n",
      "See the caveats in the documentation: https://pandas.pydata.org/pandas-docs/stable/user_guide/indexing.html#returning-a-view-versus-a-copy\n",
      "  clase_mayoritaria['distancia'] = clase_mayoritaria.drop(columns=str(data_file).split('_')[-1][:-4]).apply(\n"
     ]
    },
    {
     "name": "stdout",
     "output_type": "stream",
     "text": [
      "SMOTE y downsampling no aleatorio aplicados. Dataset guardado como: ./entrenamiento_balanceado\\balanceado_demographic_data_with_Agorafobia.csv\n"
     ]
    },
    {
     "name": "stderr",
     "output_type": "stream",
     "text": [
      "C:\\Users\\Ceiec09\\AppData\\Local\\Temp\\ipykernel_15000\\1170576296.py:26: SettingWithCopyWarning: \n",
      "A value is trying to be set on a copy of a slice from a DataFrame.\n",
      "Try using .loc[row_indexer,col_indexer] = value instead\n",
      "\n",
      "See the caveats in the documentation: https://pandas.pydata.org/pandas-docs/stable/user_guide/indexing.html#returning-a-view-versus-a-copy\n",
      "  clase_mayoritaria['distancia'] = clase_mayoritaria.drop(columns=str(data_file).split('_')[-1][:-4]).apply(\n"
     ]
    },
    {
     "name": "stdout",
     "output_type": "stream",
     "text": [
      "SMOTE y downsampling no aleatorio aplicados. Dataset guardado como: ./entrenamiento_balanceado\\balanceado_demographic_data_with_Ansiedad.csv\n"
     ]
    },
    {
     "name": "stderr",
     "output_type": "stream",
     "text": [
      "C:\\Users\\Ceiec09\\AppData\\Local\\Temp\\ipykernel_15000\\1170576296.py:26: SettingWithCopyWarning: \n",
      "A value is trying to be set on a copy of a slice from a DataFrame.\n",
      "Try using .loc[row_indexer,col_indexer] = value instead\n",
      "\n",
      "See the caveats in the documentation: https://pandas.pydata.org/pandas-docs/stable/user_guide/indexing.html#returning-a-view-versus-a-copy\n",
      "  clase_mayoritaria['distancia'] = clase_mayoritaria.drop(columns=str(data_file).split('_')[-1][:-4]).apply(\n"
     ]
    },
    {
     "name": "stdout",
     "output_type": "stream",
     "text": [
      "SMOTE y downsampling no aleatorio aplicados. Dataset guardado como: ./entrenamiento_balanceado\\balanceado_demographic_data_with_Depresión.csv\n"
     ]
    },
    {
     "name": "stderr",
     "output_type": "stream",
     "text": [
      "C:\\Users\\Ceiec09\\AppData\\Local\\Temp\\ipykernel_15000\\1170576296.py:26: SettingWithCopyWarning: \n",
      "A value is trying to be set on a copy of a slice from a DataFrame.\n",
      "Try using .loc[row_indexer,col_indexer] = value instead\n",
      "\n",
      "See the caveats in the documentation: https://pandas.pydata.org/pandas-docs/stable/user_guide/indexing.html#returning-a-view-versus-a-copy\n",
      "  clase_mayoritaria['distancia'] = clase_mayoritaria.drop(columns=str(data_file).split('_')[-1][:-4]).apply(\n"
     ]
    },
    {
     "name": "stdout",
     "output_type": "stream",
     "text": [
      "SMOTE y downsampling no aleatorio aplicados. Dataset guardado como: ./entrenamiento_balanceado\\balanceado_demographic_data_with_Hostilidad.csv\n"
     ]
    },
    {
     "name": "stderr",
     "output_type": "stream",
     "text": [
      "C:\\Users\\Ceiec09\\AppData\\Local\\Temp\\ipykernel_15000\\1170576296.py:26: SettingWithCopyWarning: \n",
      "A value is trying to be set on a copy of a slice from a DataFrame.\n",
      "Try using .loc[row_indexer,col_indexer] = value instead\n",
      "\n",
      "See the caveats in the documentation: https://pandas.pydata.org/pandas-docs/stable/user_guide/indexing.html#returning-a-view-versus-a-copy\n",
      "  clase_mayoritaria['distancia'] = clase_mayoritaria.drop(columns=str(data_file).split('_')[-1][:-4]).apply(\n",
      "C:\\Users\\Ceiec09\\AppData\\Local\\Temp\\ipykernel_15000\\1170576296.py:26: SettingWithCopyWarning: \n",
      "A value is trying to be set on a copy of a slice from a DataFrame.\n",
      "Try using .loc[row_indexer,col_indexer] = value instead\n",
      "\n",
      "See the caveats in the documentation: https://pandas.pydata.org/pandas-docs/stable/user_guide/indexing.html#returning-a-view-versus-a-copy\n",
      "  clase_mayoritaria['distancia'] = clase_mayoritaria.drop(columns=str(data_file).split('_')[-1][:-4]).apply(\n"
     ]
    },
    {
     "name": "stdout",
     "output_type": "stream",
     "text": [
      "SMOTE y downsampling no aleatorio aplicados. Dataset guardado como: ./entrenamiento_balanceado\\balanceado_demographic_data_with_Ideación paranoide.csv\n",
      "SMOTE y downsampling no aleatorio aplicados. Dataset guardado como: ./entrenamiento_balanceado\\balanceado_demographic_data_with_Obsesión-compulsión.csv\n"
     ]
    },
    {
     "name": "stderr",
     "output_type": "stream",
     "text": [
      "C:\\Users\\Ceiec09\\AppData\\Local\\Temp\\ipykernel_15000\\1170576296.py:26: SettingWithCopyWarning: \n",
      "A value is trying to be set on a copy of a slice from a DataFrame.\n",
      "Try using .loc[row_indexer,col_indexer] = value instead\n",
      "\n",
      "See the caveats in the documentation: https://pandas.pydata.org/pandas-docs/stable/user_guide/indexing.html#returning-a-view-versus-a-copy\n",
      "  clase_mayoritaria['distancia'] = clase_mayoritaria.drop(columns=str(data_file).split('_')[-1][:-4]).apply(\n"
     ]
    },
    {
     "name": "stdout",
     "output_type": "stream",
     "text": [
      "SMOTE y downsampling no aleatorio aplicados. Dataset guardado como: ./entrenamiento_balanceado\\balanceado_demographic_data_with_Psicoticismo.csv\n"
     ]
    },
    {
     "name": "stderr",
     "output_type": "stream",
     "text": [
      "C:\\Users\\Ceiec09\\AppData\\Local\\Temp\\ipykernel_15000\\1170576296.py:26: SettingWithCopyWarning: \n",
      "A value is trying to be set on a copy of a slice from a DataFrame.\n",
      "Try using .loc[row_indexer,col_indexer] = value instead\n",
      "\n",
      "See the caveats in the documentation: https://pandas.pydata.org/pandas-docs/stable/user_guide/indexing.html#returning-a-view-versus-a-copy\n",
      "  clase_mayoritaria['distancia'] = clase_mayoritaria.drop(columns=str(data_file).split('_')[-1][:-4]).apply(\n",
      "C:\\Users\\Ceiec09\\AppData\\Local\\Temp\\ipykernel_15000\\1170576296.py:26: SettingWithCopyWarning: \n",
      "A value is trying to be set on a copy of a slice from a DataFrame.\n",
      "Try using .loc[row_indexer,col_indexer] = value instead\n",
      "\n",
      "See the caveats in the documentation: https://pandas.pydata.org/pandas-docs/stable/user_guide/indexing.html#returning-a-view-versus-a-copy\n",
      "  clase_mayoritaria['distancia'] = clase_mayoritaria.drop(columns=str(data_file).split('_')[-1][:-4]).apply(\n"
     ]
    },
    {
     "name": "stdout",
     "output_type": "stream",
     "text": [
      "SMOTE y downsampling no aleatorio aplicados. Dataset guardado como: ./entrenamiento_balanceado\\balanceado_demographic_data_with_Sensibilidad interpersonal.csv\n",
      "SMOTE y downsampling no aleatorio aplicados. Dataset guardado como: ./entrenamiento_balanceado\\balanceado_demographic_data_with_Somatización.csv\n"
     ]
    },
    {
     "name": "stderr",
     "output_type": "stream",
     "text": [
      "C:\\Users\\Ceiec09\\AppData\\Local\\Temp\\ipykernel_15000\\1170576296.py:26: SettingWithCopyWarning: \n",
      "A value is trying to be set on a copy of a slice from a DataFrame.\n",
      "Try using .loc[row_indexer,col_indexer] = value instead\n",
      "\n",
      "See the caveats in the documentation: https://pandas.pydata.org/pandas-docs/stable/user_guide/indexing.html#returning-a-view-versus-a-copy\n",
      "  clase_mayoritaria['distancia'] = clase_mayoritaria.drop(columns=str(data_file).split('_')[-1][:-4]).apply(\n",
      "C:\\Users\\Ceiec09\\AppData\\Local\\Temp\\ipykernel_15000\\1170576296.py:26: SettingWithCopyWarning: \n",
      "A value is trying to be set on a copy of a slice from a DataFrame.\n",
      "Try using .loc[row_indexer,col_indexer] = value instead\n",
      "\n",
      "See the caveats in the documentation: https://pandas.pydata.org/pandas-docs/stable/user_guide/indexing.html#returning-a-view-versus-a-copy\n",
      "  clase_mayoritaria['distancia'] = clase_mayoritaria.drop(columns=str(data_file).split('_')[-1][:-4]).apply(\n"
     ]
    },
    {
     "name": "stdout",
     "output_type": "stream",
     "text": [
      "SMOTE y downsampling no aleatorio aplicados. Dataset guardado como: ./entrenamiento_balanceado\\balanceado_economic_data_with_Agorafobia.csv\n",
      "SMOTE y downsampling no aleatorio aplicados. Dataset guardado como: ./entrenamiento_balanceado\\balanceado_economic_data_with_Ansiedad.csv\n"
     ]
    },
    {
     "name": "stderr",
     "output_type": "stream",
     "text": [
      "C:\\Users\\Ceiec09\\AppData\\Local\\Temp\\ipykernel_15000\\1170576296.py:26: SettingWithCopyWarning: \n",
      "A value is trying to be set on a copy of a slice from a DataFrame.\n",
      "Try using .loc[row_indexer,col_indexer] = value instead\n",
      "\n",
      "See the caveats in the documentation: https://pandas.pydata.org/pandas-docs/stable/user_guide/indexing.html#returning-a-view-versus-a-copy\n",
      "  clase_mayoritaria['distancia'] = clase_mayoritaria.drop(columns=str(data_file).split('_')[-1][:-4]).apply(\n",
      "C:\\Users\\Ceiec09\\AppData\\Local\\Temp\\ipykernel_15000\\1170576296.py:26: SettingWithCopyWarning: \n",
      "A value is trying to be set on a copy of a slice from a DataFrame.\n",
      "Try using .loc[row_indexer,col_indexer] = value instead\n",
      "\n",
      "See the caveats in the documentation: https://pandas.pydata.org/pandas-docs/stable/user_guide/indexing.html#returning-a-view-versus-a-copy\n",
      "  clase_mayoritaria['distancia'] = clase_mayoritaria.drop(columns=str(data_file).split('_')[-1][:-4]).apply(\n"
     ]
    },
    {
     "name": "stdout",
     "output_type": "stream",
     "text": [
      "SMOTE y downsampling no aleatorio aplicados. Dataset guardado como: ./entrenamiento_balanceado\\balanceado_economic_data_with_Depresión.csv\n",
      "SMOTE y downsampling no aleatorio aplicados. Dataset guardado como: ./entrenamiento_balanceado\\balanceado_economic_data_with_Hostilidad.csv\n"
     ]
    },
    {
     "name": "stderr",
     "output_type": "stream",
     "text": [
      "C:\\Users\\Ceiec09\\AppData\\Local\\Temp\\ipykernel_15000\\1170576296.py:26: SettingWithCopyWarning: \n",
      "A value is trying to be set on a copy of a slice from a DataFrame.\n",
      "Try using .loc[row_indexer,col_indexer] = value instead\n",
      "\n",
      "See the caveats in the documentation: https://pandas.pydata.org/pandas-docs/stable/user_guide/indexing.html#returning-a-view-versus-a-copy\n",
      "  clase_mayoritaria['distancia'] = clase_mayoritaria.drop(columns=str(data_file).split('_')[-1][:-4]).apply(\n"
     ]
    },
    {
     "name": "stdout",
     "output_type": "stream",
     "text": [
      "SMOTE y downsampling no aleatorio aplicados. Dataset guardado como: ./entrenamiento_balanceado\\balanceado_economic_data_with_Ideación paranoide.csv\n"
     ]
    },
    {
     "name": "stderr",
     "output_type": "stream",
     "text": [
      "C:\\Users\\Ceiec09\\AppData\\Local\\Temp\\ipykernel_15000\\1170576296.py:26: SettingWithCopyWarning: \n",
      "A value is trying to be set on a copy of a slice from a DataFrame.\n",
      "Try using .loc[row_indexer,col_indexer] = value instead\n",
      "\n",
      "See the caveats in the documentation: https://pandas.pydata.org/pandas-docs/stable/user_guide/indexing.html#returning-a-view-versus-a-copy\n",
      "  clase_mayoritaria['distancia'] = clase_mayoritaria.drop(columns=str(data_file).split('_')[-1][:-4]).apply(\n"
     ]
    },
    {
     "name": "stdout",
     "output_type": "stream",
     "text": [
      "SMOTE y downsampling no aleatorio aplicados. Dataset guardado como: ./entrenamiento_balanceado\\balanceado_economic_data_with_Obsesión-compulsión.csv\n"
     ]
    },
    {
     "name": "stderr",
     "output_type": "stream",
     "text": [
      "C:\\Users\\Ceiec09\\AppData\\Local\\Temp\\ipykernel_15000\\1170576296.py:26: SettingWithCopyWarning: \n",
      "A value is trying to be set on a copy of a slice from a DataFrame.\n",
      "Try using .loc[row_indexer,col_indexer] = value instead\n",
      "\n",
      "See the caveats in the documentation: https://pandas.pydata.org/pandas-docs/stable/user_guide/indexing.html#returning-a-view-versus-a-copy\n",
      "  clase_mayoritaria['distancia'] = clase_mayoritaria.drop(columns=str(data_file).split('_')[-1][:-4]).apply(\n"
     ]
    },
    {
     "name": "stdout",
     "output_type": "stream",
     "text": [
      "SMOTE y downsampling no aleatorio aplicados. Dataset guardado como: ./entrenamiento_balanceado\\balanceado_economic_data_with_Psicoticismo.csv\n"
     ]
    },
    {
     "name": "stderr",
     "output_type": "stream",
     "text": [
      "C:\\Users\\Ceiec09\\AppData\\Local\\Temp\\ipykernel_15000\\1170576296.py:26: SettingWithCopyWarning: \n",
      "A value is trying to be set on a copy of a slice from a DataFrame.\n",
      "Try using .loc[row_indexer,col_indexer] = value instead\n",
      "\n",
      "See the caveats in the documentation: https://pandas.pydata.org/pandas-docs/stable/user_guide/indexing.html#returning-a-view-versus-a-copy\n",
      "  clase_mayoritaria['distancia'] = clase_mayoritaria.drop(columns=str(data_file).split('_')[-1][:-4]).apply(\n",
      "C:\\Users\\Ceiec09\\AppData\\Local\\Temp\\ipykernel_15000\\1170576296.py:26: SettingWithCopyWarning: \n",
      "A value is trying to be set on a copy of a slice from a DataFrame.\n",
      "Try using .loc[row_indexer,col_indexer] = value instead\n",
      "\n",
      "See the caveats in the documentation: https://pandas.pydata.org/pandas-docs/stable/user_guide/indexing.html#returning-a-view-versus-a-copy\n",
      "  clase_mayoritaria['distancia'] = clase_mayoritaria.drop(columns=str(data_file).split('_')[-1][:-4]).apply(\n"
     ]
    },
    {
     "name": "stdout",
     "output_type": "stream",
     "text": [
      "SMOTE y downsampling no aleatorio aplicados. Dataset guardado como: ./entrenamiento_balanceado\\balanceado_economic_data_with_Sensibilidad interpersonal.csv\n",
      "SMOTE y downsampling no aleatorio aplicados. Dataset guardado como: ./entrenamiento_balanceado\\balanceado_economic_data_with_Somatización.csv\n"
     ]
    },
    {
     "name": "stderr",
     "output_type": "stream",
     "text": [
      "C:\\Users\\Ceiec09\\AppData\\Local\\Temp\\ipykernel_15000\\1170576296.py:26: SettingWithCopyWarning: \n",
      "A value is trying to be set on a copy of a slice from a DataFrame.\n",
      "Try using .loc[row_indexer,col_indexer] = value instead\n",
      "\n",
      "See the caveats in the documentation: https://pandas.pydata.org/pandas-docs/stable/user_guide/indexing.html#returning-a-view-versus-a-copy\n",
      "  clase_mayoritaria['distancia'] = clase_mayoritaria.drop(columns=str(data_file).split('_')[-1][:-4]).apply(\n",
      "C:\\Users\\Ceiec09\\AppData\\Local\\Temp\\ipykernel_15000\\1170576296.py:26: SettingWithCopyWarning: \n",
      "A value is trying to be set on a copy of a slice from a DataFrame.\n",
      "Try using .loc[row_indexer,col_indexer] = value instead\n",
      "\n",
      "See the caveats in the documentation: https://pandas.pydata.org/pandas-docs/stable/user_guide/indexing.html#returning-a-view-versus-a-copy\n",
      "  clase_mayoritaria['distancia'] = clase_mayoritaria.drop(columns=str(data_file).split('_')[-1][:-4]).apply(\n"
     ]
    },
    {
     "name": "stdout",
     "output_type": "stream",
     "text": [
      "SMOTE y downsampling no aleatorio aplicados. Dataset guardado como: ./entrenamiento_balanceado\\balanceado_health_data_with_Agorafobia.csv\n",
      "SMOTE y downsampling no aleatorio aplicados. Dataset guardado como: ./entrenamiento_balanceado\\balanceado_health_data_with_Ansiedad.csv\n"
     ]
    },
    {
     "name": "stderr",
     "output_type": "stream",
     "text": [
      "C:\\Users\\Ceiec09\\AppData\\Local\\Temp\\ipykernel_15000\\1170576296.py:26: SettingWithCopyWarning: \n",
      "A value is trying to be set on a copy of a slice from a DataFrame.\n",
      "Try using .loc[row_indexer,col_indexer] = value instead\n",
      "\n",
      "See the caveats in the documentation: https://pandas.pydata.org/pandas-docs/stable/user_guide/indexing.html#returning-a-view-versus-a-copy\n",
      "  clase_mayoritaria['distancia'] = clase_mayoritaria.drop(columns=str(data_file).split('_')[-1][:-4]).apply(\n"
     ]
    },
    {
     "name": "stdout",
     "output_type": "stream",
     "text": [
      "SMOTE y downsampling no aleatorio aplicados. Dataset guardado como: ./entrenamiento_balanceado\\balanceado_health_data_with_Depresión.csv\n"
     ]
    },
    {
     "name": "stderr",
     "output_type": "stream",
     "text": [
      "C:\\Users\\Ceiec09\\AppData\\Local\\Temp\\ipykernel_15000\\1170576296.py:26: SettingWithCopyWarning: \n",
      "A value is trying to be set on a copy of a slice from a DataFrame.\n",
      "Try using .loc[row_indexer,col_indexer] = value instead\n",
      "\n",
      "See the caveats in the documentation: https://pandas.pydata.org/pandas-docs/stable/user_guide/indexing.html#returning-a-view-versus-a-copy\n",
      "  clase_mayoritaria['distancia'] = clase_mayoritaria.drop(columns=str(data_file).split('_')[-1][:-4]).apply(\n"
     ]
    },
    {
     "name": "stdout",
     "output_type": "stream",
     "text": [
      "SMOTE y downsampling no aleatorio aplicados. Dataset guardado como: ./entrenamiento_balanceado\\balanceado_health_data_with_Hostilidad.csv\n"
     ]
    },
    {
     "name": "stderr",
     "output_type": "stream",
     "text": [
      "C:\\Users\\Ceiec09\\AppData\\Local\\Temp\\ipykernel_15000\\1170576296.py:26: SettingWithCopyWarning: \n",
      "A value is trying to be set on a copy of a slice from a DataFrame.\n",
      "Try using .loc[row_indexer,col_indexer] = value instead\n",
      "\n",
      "See the caveats in the documentation: https://pandas.pydata.org/pandas-docs/stable/user_guide/indexing.html#returning-a-view-versus-a-copy\n",
      "  clase_mayoritaria['distancia'] = clase_mayoritaria.drop(columns=str(data_file).split('_')[-1][:-4]).apply(\n"
     ]
    },
    {
     "name": "stdout",
     "output_type": "stream",
     "text": [
      "SMOTE y downsampling no aleatorio aplicados. Dataset guardado como: ./entrenamiento_balanceado\\balanceado_health_data_with_Ideación paranoide.csv\n"
     ]
    },
    {
     "name": "stderr",
     "output_type": "stream",
     "text": [
      "C:\\Users\\Ceiec09\\AppData\\Local\\Temp\\ipykernel_15000\\1170576296.py:26: SettingWithCopyWarning: \n",
      "A value is trying to be set on a copy of a slice from a DataFrame.\n",
      "Try using .loc[row_indexer,col_indexer] = value instead\n",
      "\n",
      "See the caveats in the documentation: https://pandas.pydata.org/pandas-docs/stable/user_guide/indexing.html#returning-a-view-versus-a-copy\n",
      "  clase_mayoritaria['distancia'] = clase_mayoritaria.drop(columns=str(data_file).split('_')[-1][:-4]).apply(\n",
      "C:\\Users\\Ceiec09\\AppData\\Local\\Temp\\ipykernel_15000\\1170576296.py:26: SettingWithCopyWarning: \n",
      "A value is trying to be set on a copy of a slice from a DataFrame.\n",
      "Try using .loc[row_indexer,col_indexer] = value instead\n",
      "\n",
      "See the caveats in the documentation: https://pandas.pydata.org/pandas-docs/stable/user_guide/indexing.html#returning-a-view-versus-a-copy\n",
      "  clase_mayoritaria['distancia'] = clase_mayoritaria.drop(columns=str(data_file).split('_')[-1][:-4]).apply(\n"
     ]
    },
    {
     "name": "stdout",
     "output_type": "stream",
     "text": [
      "SMOTE y downsampling no aleatorio aplicados. Dataset guardado como: ./entrenamiento_balanceado\\balanceado_health_data_with_Obsesión-compulsión.csv\n",
      "SMOTE y downsampling no aleatorio aplicados. Dataset guardado como: ./entrenamiento_balanceado\\balanceado_health_data_with_Psicoticismo.csv\n"
     ]
    },
    {
     "name": "stderr",
     "output_type": "stream",
     "text": [
      "C:\\Users\\Ceiec09\\AppData\\Local\\Temp\\ipykernel_15000\\1170576296.py:26: SettingWithCopyWarning: \n",
      "A value is trying to be set on a copy of a slice from a DataFrame.\n",
      "Try using .loc[row_indexer,col_indexer] = value instead\n",
      "\n",
      "See the caveats in the documentation: https://pandas.pydata.org/pandas-docs/stable/user_guide/indexing.html#returning-a-view-versus-a-copy\n",
      "  clase_mayoritaria['distancia'] = clase_mayoritaria.drop(columns=str(data_file).split('_')[-1][:-4]).apply(\n",
      "C:\\Users\\Ceiec09\\AppData\\Local\\Temp\\ipykernel_15000\\1170576296.py:26: SettingWithCopyWarning: \n",
      "A value is trying to be set on a copy of a slice from a DataFrame.\n",
      "Try using .loc[row_indexer,col_indexer] = value instead\n",
      "\n",
      "See the caveats in the documentation: https://pandas.pydata.org/pandas-docs/stable/user_guide/indexing.html#returning-a-view-versus-a-copy\n",
      "  clase_mayoritaria['distancia'] = clase_mayoritaria.drop(columns=str(data_file).split('_')[-1][:-4]).apply(\n"
     ]
    },
    {
     "name": "stdout",
     "output_type": "stream",
     "text": [
      "SMOTE y downsampling no aleatorio aplicados. Dataset guardado como: ./entrenamiento_balanceado\\balanceado_health_data_with_Sensibilidad interpersonal.csv\n",
      "SMOTE y downsampling no aleatorio aplicados. Dataset guardado como: ./entrenamiento_balanceado\\balanceado_health_data_with_Somatización.csv\n"
     ]
    },
    {
     "name": "stderr",
     "output_type": "stream",
     "text": [
      "C:\\Users\\Ceiec09\\AppData\\Local\\Temp\\ipykernel_15000\\1170576296.py:26: SettingWithCopyWarning: \n",
      "A value is trying to be set on a copy of a slice from a DataFrame.\n",
      "Try using .loc[row_indexer,col_indexer] = value instead\n",
      "\n",
      "See the caveats in the documentation: https://pandas.pydata.org/pandas-docs/stable/user_guide/indexing.html#returning-a-view-versus-a-copy\n",
      "  clase_mayoritaria['distancia'] = clase_mayoritaria.drop(columns=str(data_file).split('_')[-1][:-4]).apply(\n"
     ]
    },
    {
     "name": "stdout",
     "output_type": "stream",
     "text": [
      "SMOTE y downsampling no aleatorio aplicados. Dataset guardado como: ./entrenamiento_balanceado\\balanceado_living_data_with_Agorafobia.csv\n"
     ]
    },
    {
     "name": "stderr",
     "output_type": "stream",
     "text": [
      "C:\\Users\\Ceiec09\\AppData\\Local\\Temp\\ipykernel_15000\\1170576296.py:26: SettingWithCopyWarning: \n",
      "A value is trying to be set on a copy of a slice from a DataFrame.\n",
      "Try using .loc[row_indexer,col_indexer] = value instead\n",
      "\n",
      "See the caveats in the documentation: https://pandas.pydata.org/pandas-docs/stable/user_guide/indexing.html#returning-a-view-versus-a-copy\n",
      "  clase_mayoritaria['distancia'] = clase_mayoritaria.drop(columns=str(data_file).split('_')[-1][:-4]).apply(\n",
      "C:\\Users\\Ceiec09\\AppData\\Local\\Temp\\ipykernel_15000\\1170576296.py:26: SettingWithCopyWarning: \n",
      "A value is trying to be set on a copy of a slice from a DataFrame.\n",
      "Try using .loc[row_indexer,col_indexer] = value instead\n",
      "\n",
      "See the caveats in the documentation: https://pandas.pydata.org/pandas-docs/stable/user_guide/indexing.html#returning-a-view-versus-a-copy\n",
      "  clase_mayoritaria['distancia'] = clase_mayoritaria.drop(columns=str(data_file).split('_')[-1][:-4]).apply(\n"
     ]
    },
    {
     "name": "stdout",
     "output_type": "stream",
     "text": [
      "SMOTE y downsampling no aleatorio aplicados. Dataset guardado como: ./entrenamiento_balanceado\\balanceado_living_data_with_Ansiedad.csv\n",
      "SMOTE y downsampling no aleatorio aplicados. Dataset guardado como: ./entrenamiento_balanceado\\balanceado_living_data_with_Depresión.csv\n"
     ]
    },
    {
     "name": "stderr",
     "output_type": "stream",
     "text": [
      "C:\\Users\\Ceiec09\\AppData\\Local\\Temp\\ipykernel_15000\\1170576296.py:26: SettingWithCopyWarning: \n",
      "A value is trying to be set on a copy of a slice from a DataFrame.\n",
      "Try using .loc[row_indexer,col_indexer] = value instead\n",
      "\n",
      "See the caveats in the documentation: https://pandas.pydata.org/pandas-docs/stable/user_guide/indexing.html#returning-a-view-versus-a-copy\n",
      "  clase_mayoritaria['distancia'] = clase_mayoritaria.drop(columns=str(data_file).split('_')[-1][:-4]).apply(\n",
      "C:\\Users\\Ceiec09\\AppData\\Local\\Temp\\ipykernel_15000\\1170576296.py:26: SettingWithCopyWarning: \n",
      "A value is trying to be set on a copy of a slice from a DataFrame.\n",
      "Try using .loc[row_indexer,col_indexer] = value instead\n",
      "\n",
      "See the caveats in the documentation: https://pandas.pydata.org/pandas-docs/stable/user_guide/indexing.html#returning-a-view-versus-a-copy\n",
      "  clase_mayoritaria['distancia'] = clase_mayoritaria.drop(columns=str(data_file).split('_')[-1][:-4]).apply(\n"
     ]
    },
    {
     "name": "stdout",
     "output_type": "stream",
     "text": [
      "SMOTE y downsampling no aleatorio aplicados. Dataset guardado como: ./entrenamiento_balanceado\\balanceado_living_data_with_Hostilidad.csv\n",
      "SMOTE y downsampling no aleatorio aplicados. Dataset guardado como: ./entrenamiento_balanceado\\balanceado_living_data_with_Ideación paranoide.csv\n"
     ]
    },
    {
     "name": "stderr",
     "output_type": "stream",
     "text": [
      "C:\\Users\\Ceiec09\\AppData\\Local\\Temp\\ipykernel_15000\\1170576296.py:26: SettingWithCopyWarning: \n",
      "A value is trying to be set on a copy of a slice from a DataFrame.\n",
      "Try using .loc[row_indexer,col_indexer] = value instead\n",
      "\n",
      "See the caveats in the documentation: https://pandas.pydata.org/pandas-docs/stable/user_guide/indexing.html#returning-a-view-versus-a-copy\n",
      "  clase_mayoritaria['distancia'] = clase_mayoritaria.drop(columns=str(data_file).split('_')[-1][:-4]).apply(\n",
      "C:\\Users\\Ceiec09\\AppData\\Local\\Temp\\ipykernel_15000\\1170576296.py:26: SettingWithCopyWarning: \n",
      "A value is trying to be set on a copy of a slice from a DataFrame.\n",
      "Try using .loc[row_indexer,col_indexer] = value instead\n",
      "\n",
      "See the caveats in the documentation: https://pandas.pydata.org/pandas-docs/stable/user_guide/indexing.html#returning-a-view-versus-a-copy\n",
      "  clase_mayoritaria['distancia'] = clase_mayoritaria.drop(columns=str(data_file).split('_')[-1][:-4]).apply(\n"
     ]
    },
    {
     "name": "stdout",
     "output_type": "stream",
     "text": [
      "SMOTE y downsampling no aleatorio aplicados. Dataset guardado como: ./entrenamiento_balanceado\\balanceado_living_data_with_Obsesión-compulsión.csv\n",
      "SMOTE y downsampling no aleatorio aplicados. Dataset guardado como: ./entrenamiento_balanceado\\balanceado_living_data_with_Psicoticismo.csv\n"
     ]
    },
    {
     "name": "stderr",
     "output_type": "stream",
     "text": [
      "C:\\Users\\Ceiec09\\AppData\\Local\\Temp\\ipykernel_15000\\1170576296.py:26: SettingWithCopyWarning: \n",
      "A value is trying to be set on a copy of a slice from a DataFrame.\n",
      "Try using .loc[row_indexer,col_indexer] = value instead\n",
      "\n",
      "See the caveats in the documentation: https://pandas.pydata.org/pandas-docs/stable/user_guide/indexing.html#returning-a-view-versus-a-copy\n",
      "  clase_mayoritaria['distancia'] = clase_mayoritaria.drop(columns=str(data_file).split('_')[-1][:-4]).apply(\n"
     ]
    },
    {
     "name": "stdout",
     "output_type": "stream",
     "text": [
      "SMOTE y downsampling no aleatorio aplicados. Dataset guardado como: ./entrenamiento_balanceado\\balanceado_living_data_with_Sensibilidad interpersonal.csv\n",
      "SMOTE y downsampling no aleatorio aplicados. Dataset guardado como: ./entrenamiento_balanceado\\balanceado_living_data_with_Somatización.csv\n"
     ]
    },
    {
     "name": "stderr",
     "output_type": "stream",
     "text": [
      "C:\\Users\\Ceiec09\\AppData\\Local\\Temp\\ipykernel_15000\\1170576296.py:26: SettingWithCopyWarning: \n",
      "A value is trying to be set on a copy of a slice from a DataFrame.\n",
      "Try using .loc[row_indexer,col_indexer] = value instead\n",
      "\n",
      "See the caveats in the documentation: https://pandas.pydata.org/pandas-docs/stable/user_guide/indexing.html#returning-a-view-versus-a-copy\n",
      "  clase_mayoritaria['distancia'] = clase_mayoritaria.drop(columns=str(data_file).split('_')[-1][:-4]).apply(\n"
     ]
    }
   ],
   "source": [
    "for data_file in datasets:\n",
    "    # Cargar el dataset\n",
    "    data_path = os.path.join(data_dir, data_file)\n",
    "    data = pd.read_csv(data_path, sep=';')\n",
    "    \n",
    "    # Separar características y etiquetas\n",
    "    X = data.iloc[:, :-1]  # Todas las columnas menos la última\n",
    "    y = data.iloc[:, -1]   # Última columna\n",
    "\n",
    "    # Aplicar SMOTE para aumentar la clase minoritaria\n",
    "    smote = SMOTE(sampling_strategy='not minority', random_state=42)\n",
    "    X_resampled, y_resampled = smote.fit_resample(X, y)\n",
    "    \n",
    "    # Determinar el tamaño objetivo de la clase mayoritaria (igual al tamaño de la clase minoritaria original)\n",
    "    clase_min = y.value_counts().min()\n",
    "    \n",
    "    # Crear un DataFrame de las muestras resampleadas para manipulación\n",
    "    resampled_data = pd.DataFrame(X_resampled, columns=X.columns)\n",
    "    resampled_data[str(data_file).split('_')[-1][:-4]] = y_resampled  # Suponiendo que str(data_file).split('_')[-1][:-4] es el nombre de la columna de etiquetas\n",
    "    \n",
    "    # Filtrar la clase mayoritaria y ordenar por la distancia a la media (u otra métrica)\n",
    "    clase_mayoritaria = resampled_data[resampled_data[str(data_file).split('_')[-1][:-4]] == y.mode()[0]]\n",
    "    clase_mayoritaria_mean = clase_mayoritaria.mean(axis=0)  # Calculamos la media de la clase mayoritaria\n",
    "    \n",
    "    # Ordenar la clase mayoritaria por proximidad a la media y seleccionar las primeras `clase_min` muestras\n",
    "    clase_mayoritaria['distancia'] = clase_mayoritaria.drop(columns=str(data_file).split('_')[-1][:-4]).apply(\n",
    "        lambda row: ((row - clase_mayoritaria_mean[:-1]) ** 2).sum(), axis=1)\n",
    "    clase_mayoritaria_sorted = clase_mayoritaria.sort_values(by='distancia').head(clase_min)\n",
    "    \n",
    "    # Filtrar la clase minoritaria\n",
    "    clase_minoritaria = resampled_data[resampled_data[str(data_file).split('_')[-1][:-4]] != y.mode()[0]]\n",
    "    \n",
    "    # Combinar clase mayoritaria balanceada y clase minoritaria\n",
    "    balanced_data = pd.concat([clase_mayoritaria_sorted, clase_minoritaria]).drop(columns='distancia')\n",
    "    \n",
    "    # Guardar el dataset balanceado\n",
    "    balanced_data_path = os.path.join(balanced_dir, f'balanceado_{data_file}')\n",
    "    balanced_data.to_csv(balanced_data_path, sep=';', index=False)\n",
    "    \n",
    "    print(f'SMOTE y downsampling no aleatorio aplicados. Dataset guardado como: {balanced_data_path}')"
   ]
  },
  {
   "cell_type": "markdown",
   "metadata": {
    "id": "O8qx9Ye0H7Dg"
   },
   "source": [
    "# 1. Modelos de clasificación Binaria"
   ]
  },
  {
   "cell_type": "markdown",
   "metadata": {
    "id": "YfUT8_xWYnwa"
   },
   "source": [
    "Decision Trees"
   ]
  },
  {
   "cell_type": "code",
   "execution_count": 12,
   "metadata": {
    "colab": {
     "base_uri": "https://localhost:8080/"
    },
    "executionInfo": {
     "elapsed": 5096,
     "status": "ok",
     "timestamp": 1722678009346,
     "user": {
      "displayName": "BERTA PADILLA BAEZA",
      "userId": "17038178126289984285"
     },
     "user_tz": -120
    },
    "id": "bw1ZAnHnXlBP",
    "outputId": "f270a716-67f8-4c75-a1be-a87ab0987900"
   },
   "outputs": [],
   "source": [
    "# Diccionarios de hiperparámetros para cada modelo\n",
    "param_grids = {\n",
    "    'DecisionTree': {\n",
    "        'max_depth': [None, 10, 20, 30],\n",
    "        'min_samples_split': [2, 5, 10],\n",
    "        'min_samples_leaf': [1, 2, 4],\n",
    "        'criterion': ['gini', 'entropy']\n",
    "    },\n",
    "    'RandomForest': {\n",
    "        'n_estimators': [50, 100, 150],\n",
    "        'max_depth': [None, 10, 20],\n",
    "        'min_samples_split': [2, 5],\n",
    "        'min_samples_leaf': [1, 2]\n",
    "    },\n",
    "    'SVM': {\n",
    "        'C': [0.1, 1, 10],\n",
    "        'kernel': ['linear', 'rbf', 'poly'],\n",
    "        'degree': [3, 4, 5],\n",
    "        'gamma': ['scale', 'auto']\n",
    "    },\n",
    "    'GradientBoosting': {\n",
    "        'n_estimators': [50, 100, 150],\n",
    "        'learning_rate': [0.01, 0.1, 0.2],\n",
    "        'max_depth': [3, 4, 5],\n",
    "        'subsample': [0.8, 1.0]\n",
    "    },\n",
    "    'NaiveBayes': {\n",
    "        'var_smoothing': np.logspace(0, -9, num=10),\n",
    "    },\n",
    "    'LogisticRegression': [\n",
    "        {\n",
    "            'C': [0.01, 0.1, 1, 10, 100],\n",
    "            'penalty': ['l2'],\n",
    "            'solver': ['lbfgs'],\n",
    "            'max_iter': [100, 200, 500]\n",
    "        },\n",
    "        {\n",
    "            'C': [0.01, 0.1, 1, 10, 100],\n",
    "            'penalty': ['l1'],\n",
    "            'solver': ['liblinear'],\n",
    "            'max_iter': [100, 200, 500]\n",
    "        },\n",
    "        {\n",
    "            'C': [0.01, 0.1, 1, 10, 100],\n",
    "            'penalty': ['l2'],\n",
    "            'solver': ['liblinear'],\n",
    "            'max_iter': [100, 200, 500]\n",
    "        }\n",
    "    ],\n",
    "    'MLP': {\n",
    "        'hidden_layer_sizes': [(50,), (100,), (50, 50)],\n",
    "        'activation': ['relu', 'tanh'],\n",
    "        'solver': ['adam', 'sgd'],\n",
    "        'alpha': [0.0001, 0.001],\n",
    "        'learning_rate': ['constant', 'adaptive']\n",
    "    }\n",
    "}"
   ]
  },
  {
   "cell_type": "code",
   "execution_count": 13,
   "metadata": {},
   "outputs": [],
   "source": [
    "# Clasificadores\n",
    "classifiers = {\n",
    "    'DecisionTree': DecisionTreeClassifier(random_state=42),\n",
    "    'RandomForest': RandomForestClassifier(random_state=42),\n",
    "    'SVM': SVC(probability=True, random_state=42),  # Se necesita probability=True para SHAP\n",
    "    'GradientBoosting': GradientBoostingClassifier(random_state=42),\n",
    "    'NaiveBayes': GaussianNB(),\n",
    "    'LogisticRegression': LogisticRegression(random_state=42, max_iter=1000),\n",
    "    'MLP': MLPClassifier(random_state=42, max_iter=1000)\n",
    "}"
   ]
  },
  {
   "cell_type": "code",
   "execution_count": 14,
   "metadata": {},
   "outputs": [],
   "source": [
    "# Función para calcular sensibilidad y especificidad\n",
    "def calcular_sensibilidad_especificidad_conjunto(y_true, y_pred):\n",
    "    tn, fp, fn, tp = confusion_matrix(y_true, y_pred).ravel()\n",
    "    sensibilidad = tp / (tp + fn) if (tp + fn) > 0 else 0\n",
    "    especificidad = tn / (tn + fp) if (tn + fp) > 0 else 0\n",
    "    return sensibilidad, especificidad"
   ]
  },
  {
   "cell_type": "code",
   "execution_count": 15,
   "metadata": {},
   "outputs": [],
   "source": [
    "# Función para calcular los valores SHAP\n",
    "def calcular_shap_values(clasificador, X_train, X_test, nombre_algoritmo):\n",
    "    explainer = None\n",
    "\n",
    "    # Reducir el fondo para la explicación\n",
    "    background = shap.sample(X_train, 33)  # Reducir si el conjunto es grande\n",
    "\n",
    "    # Seleccionar el tipo de explicador según el modelo\n",
    "    if nombre_algoritmo in ['SVM', 'NaiveBayes', 'LogisticRegression', 'MLP']:\n",
    "        explainer = shap.KernelExplainer(clasificador.predict_proba, background)\n",
    "    elif nombre_algoritmo in ['RandomForest', 'DecisionTree', 'GradientBoosting']:\n",
    "        explainer = shap.TreeExplainer(clasificador)\n",
    "\n",
    "    # Calcular valores SHAP\n",
    "    shap_values = explainer.shap_values(X_test)\n",
    "\n",
    "    # Verificar si shap_values es una lista (caso de clasificación binaria)\n",
    "    if isinstance(shap_values, list):\n",
    "        # Seleccionar los valores SHAP de la clase positiva (índice 1)\n",
    "        shap_values = shap_values[1]\n",
    "    \n",
    "    # Verificar dimensiones del resultado y ajustar\n",
    "    if shap_values.ndim == 3:  # Caso raro con dimensiones adicionales\n",
    "        shap_values = shap_values[:, :, 1]  # Seleccionar la clase positiva\n",
    "\n",
    "    # Crear el DataFrame SHAP\n",
    "    shap_df = pd.DataFrame(shap_values, columns=X_test.columns)\n",
    "\n",
    "    return shap_df"
   ]
  },
  {
   "cell_type": "code",
   "execution_count": 16,
   "metadata": {},
   "outputs": [],
   "source": [
    "# Directorio de datos\n",
    "data_dir = './entrenamiento_balanceado'\n",
    "\n",
    "datasets = os.listdir(data_dir)\n",
    "\n",
    "datasets = [x for x in datasets if x.endswith('.csv')]"
   ]
  },
  {
   "cell_type": "code",
   "execution_count": 17,
   "metadata": {},
   "outputs": [],
   "source": [
    "# Número de particiones (folds) en la validación cruzada\n",
    "kf = KFold(n_splits=5, shuffle=True, random_state=42)\n",
    "\n",
    "resultados_totales = []"
   ]
  },
  {
   "cell_type": "code",
   "execution_count": 18,
   "metadata": {
    "scrolled": true
   },
   "outputs": [
    {
     "name": "stderr",
     "output_type": "stream",
     "text": [
      "Analizando:   0%|          | 0/36 [00:00<?, ?it/s]"
     ]
    },
    {
     "data": {
      "application/vnd.jupyter.widget-view+json": {
       "model_id": "1ebae5963dc1479aa382ca86a5e4e816",
       "version_major": 2,
       "version_minor": 0
      },
      "text/plain": [
       "  0%|          | 0/50 [00:00<?, ?it/s]"
      ]
     },
     "metadata": {},
     "output_type": "display_data"
    },
    {
     "data": {
      "application/vnd.jupyter.widget-view+json": {
       "model_id": "fa8c6bf4aafa4a6993e85901abf52ee3",
       "version_major": 2,
       "version_minor": 0
      },
      "text/plain": [
       "  0%|          | 0/50 [00:00<?, ?it/s]"
      ]
     },
     "metadata": {},
     "output_type": "display_data"
    },
    {
     "data": {
      "application/vnd.jupyter.widget-view+json": {
       "model_id": "d774d5bfc21046c58ec1a75dcea21f25",
       "version_major": 2,
       "version_minor": 0
      },
      "text/plain": [
       "  0%|          | 0/50 [00:00<?, ?it/s]"
      ]
     },
     "metadata": {},
     "output_type": "display_data"
    },
    {
     "data": {
      "application/vnd.jupyter.widget-view+json": {
       "model_id": "12c536f222324ae7a0bd85a9e6cdb85c",
       "version_major": 2,
       "version_minor": 0
      },
      "text/plain": [
       "  0%|          | 0/50 [00:00<?, ?it/s]"
      ]
     },
     "metadata": {},
     "output_type": "display_data"
    },
    {
     "name": "stderr",
     "output_type": "stream",
     "text": [
      "Analizando:   3%|▎         | 1/36 [01:52<1:05:53, 112.96s/it]"
     ]
    },
    {
     "data": {
      "application/vnd.jupyter.widget-view+json": {
       "model_id": "05b4678bdf1645f6a72dc28c123ced3e",
       "version_major": 2,
       "version_minor": 0
      },
      "text/plain": [
       "  0%|          | 0/68 [00:00<?, ?it/s]"
      ]
     },
     "metadata": {},
     "output_type": "display_data"
    },
    {
     "data": {
      "application/vnd.jupyter.widget-view+json": {
       "model_id": "e3668eb1c33d4ab48d51bfe200ad06f9",
       "version_major": 2,
       "version_minor": 0
      },
      "text/plain": [
       "  0%|          | 0/68 [00:00<?, ?it/s]"
      ]
     },
     "metadata": {},
     "output_type": "display_data"
    },
    {
     "data": {
      "application/vnd.jupyter.widget-view+json": {
       "model_id": "53b1d926ac994f19bde0be9f042c017b",
       "version_major": 2,
       "version_minor": 0
      },
      "text/plain": [
       "  0%|          | 0/68 [00:00<?, ?it/s]"
      ]
     },
     "metadata": {},
     "output_type": "display_data"
    },
    {
     "data": {
      "application/vnd.jupyter.widget-view+json": {
       "model_id": "6ed80df1660645ad85bf0e764408e89b",
       "version_major": 2,
       "version_minor": 0
      },
      "text/plain": [
       "  0%|          | 0/68 [00:00<?, ?it/s]"
      ]
     },
     "metadata": {},
     "output_type": "display_data"
    },
    {
     "name": "stderr",
     "output_type": "stream",
     "text": [
      "Analizando:   6%|▌         | 2/36 [04:57<1:27:49, 155.00s/it]"
     ]
    },
    {
     "data": {
      "application/vnd.jupyter.widget-view+json": {
       "model_id": "f0dbe870b50040029ac8d70992546bdc",
       "version_major": 2,
       "version_minor": 0
      },
      "text/plain": [
       "  0%|          | 0/64 [00:00<?, ?it/s]"
      ]
     },
     "metadata": {},
     "output_type": "display_data"
    },
    {
     "data": {
      "application/vnd.jupyter.widget-view+json": {
       "model_id": "ac073f863fb94b048aa691e0a08113ef",
       "version_major": 2,
       "version_minor": 0
      },
      "text/plain": [
       "  0%|          | 0/64 [00:00<?, ?it/s]"
      ]
     },
     "metadata": {},
     "output_type": "display_data"
    },
    {
     "data": {
      "application/vnd.jupyter.widget-view+json": {
       "model_id": "090e9160c7904ab899b34ea041511efe",
       "version_major": 2,
       "version_minor": 0
      },
      "text/plain": [
       "  0%|          | 0/64 [00:00<?, ?it/s]"
      ]
     },
     "metadata": {},
     "output_type": "display_data"
    },
    {
     "data": {
      "application/vnd.jupyter.widget-view+json": {
       "model_id": "88e6012dd74c450d972911515c5e3eb7",
       "version_major": 2,
       "version_minor": 0
      },
      "text/plain": [
       "  0%|          | 0/64 [00:00<?, ?it/s]"
      ]
     },
     "metadata": {},
     "output_type": "display_data"
    },
    {
     "name": "stderr",
     "output_type": "stream",
     "text": [
      "Analizando:   8%|▊         | 3/36 [06:28<1:09:15, 125.91s/it]"
     ]
    },
    {
     "data": {
      "application/vnd.jupyter.widget-view+json": {
       "model_id": "454e9e05861f4ef690bd01b969231c6f",
       "version_major": 2,
       "version_minor": 0
      },
      "text/plain": [
       "  0%|          | 0/59 [00:00<?, ?it/s]"
      ]
     },
     "metadata": {},
     "output_type": "display_data"
    },
    {
     "data": {
      "application/vnd.jupyter.widget-view+json": {
       "model_id": "b32bb980c1e64faaaf8bd15eae506465",
       "version_major": 2,
       "version_minor": 0
      },
      "text/plain": [
       "  0%|          | 0/59 [00:00<?, ?it/s]"
      ]
     },
     "metadata": {},
     "output_type": "display_data"
    },
    {
     "data": {
      "application/vnd.jupyter.widget-view+json": {
       "model_id": "c97698b04a9040c5b842a94d20aaaba8",
       "version_major": 2,
       "version_minor": 0
      },
      "text/plain": [
       "  0%|          | 0/59 [00:00<?, ?it/s]"
      ]
     },
     "metadata": {},
     "output_type": "display_data"
    },
    {
     "data": {
      "application/vnd.jupyter.widget-view+json": {
       "model_id": "edf95b5e588940808eb6b4ff48f82159",
       "version_major": 2,
       "version_minor": 0
      },
      "text/plain": [
       "  0%|          | 0/59 [00:00<?, ?it/s]"
      ]
     },
     "metadata": {},
     "output_type": "display_data"
    },
    {
     "name": "stderr",
     "output_type": "stream",
     "text": [
      "Analizando:  11%|█         | 4/36 [08:28<1:05:56, 123.63s/it]"
     ]
    },
    {
     "data": {
      "application/vnd.jupyter.widget-view+json": {
       "model_id": "f297c89caff944048a0f1873bd060c3d",
       "version_major": 2,
       "version_minor": 0
      },
      "text/plain": [
       "  0%|          | 0/52 [00:00<?, ?it/s]"
      ]
     },
     "metadata": {},
     "output_type": "display_data"
    },
    {
     "data": {
      "application/vnd.jupyter.widget-view+json": {
       "model_id": "20097cd9b1bb49a6b6deee3198331aeb",
       "version_major": 2,
       "version_minor": 0
      },
      "text/plain": [
       "  0%|          | 0/52 [00:00<?, ?it/s]"
      ]
     },
     "metadata": {},
     "output_type": "display_data"
    },
    {
     "data": {
      "application/vnd.jupyter.widget-view+json": {
       "model_id": "c0bdc59aeb3a483c8a9936cf5723e55c",
       "version_major": 2,
       "version_minor": 0
      },
      "text/plain": [
       "  0%|          | 0/52 [00:00<?, ?it/s]"
      ]
     },
     "metadata": {},
     "output_type": "display_data"
    },
    {
     "data": {
      "application/vnd.jupyter.widget-view+json": {
       "model_id": "ace04e7c764b4760bd272e55cb43c094",
       "version_major": 2,
       "version_minor": 0
      },
      "text/plain": [
       "  0%|          | 0/52 [00:00<?, ?it/s]"
      ]
     },
     "metadata": {},
     "output_type": "display_data"
    },
    {
     "name": "stderr",
     "output_type": "stream",
     "text": [
      "Analizando:  14%|█▍        | 5/36 [10:18<1:01:15, 118.55s/it]"
     ]
    },
    {
     "data": {
      "application/vnd.jupyter.widget-view+json": {
       "model_id": "4d7b3f2143644e37bdfd68d56227686a",
       "version_major": 2,
       "version_minor": 0
      },
      "text/plain": [
       "  0%|          | 0/67 [00:00<?, ?it/s]"
      ]
     },
     "metadata": {},
     "output_type": "display_data"
    },
    {
     "data": {
      "application/vnd.jupyter.widget-view+json": {
       "model_id": "d759e1aa4b884a4bbbdab8bd5afd2ed7",
       "version_major": 2,
       "version_minor": 0
      },
      "text/plain": [
       "  0%|          | 0/67 [00:00<?, ?it/s]"
      ]
     },
     "metadata": {},
     "output_type": "display_data"
    },
    {
     "data": {
      "application/vnd.jupyter.widget-view+json": {
       "model_id": "518a39ee628b48d09b76160ffe5f5f29",
       "version_major": 2,
       "version_minor": 0
      },
      "text/plain": [
       "  0%|          | 0/67 [00:00<?, ?it/s]"
      ]
     },
     "metadata": {},
     "output_type": "display_data"
    },
    {
     "data": {
      "application/vnd.jupyter.widget-view+json": {
       "model_id": "bb76d85aa33a4d628830e0c5d058ceb1",
       "version_major": 2,
       "version_minor": 0
      },
      "text/plain": [
       "  0%|          | 0/67 [00:00<?, ?it/s]"
      ]
     },
     "metadata": {},
     "output_type": "display_data"
    },
    {
     "name": "stderr",
     "output_type": "stream",
     "text": [
      "Analizando:  17%|█▋        | 6/36 [11:51<54:54, 109.80s/it]  "
     ]
    },
    {
     "data": {
      "application/vnd.jupyter.widget-view+json": {
       "model_id": "0a828af7545d4c049edfaca60ffe2173",
       "version_major": 2,
       "version_minor": 0
      },
      "text/plain": [
       "  0%|          | 0/56 [00:00<?, ?it/s]"
      ]
     },
     "metadata": {},
     "output_type": "display_data"
    },
    {
     "data": {
      "application/vnd.jupyter.widget-view+json": {
       "model_id": "b187a5d54c744554adb311bed91010b9",
       "version_major": 2,
       "version_minor": 0
      },
      "text/plain": [
       "  0%|          | 0/56 [00:00<?, ?it/s]"
      ]
     },
     "metadata": {},
     "output_type": "display_data"
    },
    {
     "data": {
      "application/vnd.jupyter.widget-view+json": {
       "model_id": "85bda10cc77a44df90ffddf03d3966ef",
       "version_major": 2,
       "version_minor": 0
      },
      "text/plain": [
       "  0%|          | 0/56 [00:00<?, ?it/s]"
      ]
     },
     "metadata": {},
     "output_type": "display_data"
    },
    {
     "data": {
      "application/vnd.jupyter.widget-view+json": {
       "model_id": "2463b4180ecd4634a4796bd9494025ff",
       "version_major": 2,
       "version_minor": 0
      },
      "text/plain": [
       "  0%|          | 0/56 [00:00<?, ?it/s]"
      ]
     },
     "metadata": {},
     "output_type": "display_data"
    },
    {
     "name": "stderr",
     "output_type": "stream",
     "text": [
      "Analizando:  19%|█▉        | 7/36 [13:09<48:05, 99.51s/it] "
     ]
    },
    {
     "data": {
      "application/vnd.jupyter.widget-view+json": {
       "model_id": "321d7016ef2a40069200474e289512e8",
       "version_major": 2,
       "version_minor": 0
      },
      "text/plain": [
       "  0%|          | 0/68 [00:00<?, ?it/s]"
      ]
     },
     "metadata": {},
     "output_type": "display_data"
    },
    {
     "data": {
      "application/vnd.jupyter.widget-view+json": {
       "model_id": "ec7d0181108d49c382b976b55645fec6",
       "version_major": 2,
       "version_minor": 0
      },
      "text/plain": [
       "  0%|          | 0/68 [00:00<?, ?it/s]"
      ]
     },
     "metadata": {},
     "output_type": "display_data"
    },
    {
     "data": {
      "application/vnd.jupyter.widget-view+json": {
       "model_id": "51d8765eb5bc4296833b98a79708bc88",
       "version_major": 2,
       "version_minor": 0
      },
      "text/plain": [
       "  0%|          | 0/68 [00:00<?, ?it/s]"
      ]
     },
     "metadata": {},
     "output_type": "display_data"
    },
    {
     "data": {
      "application/vnd.jupyter.widget-view+json": {
       "model_id": "4cec8cad47ee412fabdb67de745bef96",
       "version_major": 2,
       "version_minor": 0
      },
      "text/plain": [
       "  0%|          | 0/68 [00:00<?, ?it/s]"
      ]
     },
     "metadata": {},
     "output_type": "display_data"
    },
    {
     "name": "stderr",
     "output_type": "stream",
     "text": [
      "Analizando:  22%|██▏       | 8/36 [14:42<45:28, 97.43s/it]"
     ]
    },
    {
     "data": {
      "application/vnd.jupyter.widget-view+json": {
       "model_id": "dca6f13f12ce4113b00fbc2b6946d5a4",
       "version_major": 2,
       "version_minor": 0
      },
      "text/plain": [
       "  0%|          | 0/64 [00:00<?, ?it/s]"
      ]
     },
     "metadata": {},
     "output_type": "display_data"
    },
    {
     "data": {
      "application/vnd.jupyter.widget-view+json": {
       "model_id": "9952793bb61b4d1b8382b8e66101bf03",
       "version_major": 2,
       "version_minor": 0
      },
      "text/plain": [
       "  0%|          | 0/64 [00:00<?, ?it/s]"
      ]
     },
     "metadata": {},
     "output_type": "display_data"
    },
    {
     "data": {
      "application/vnd.jupyter.widget-view+json": {
       "model_id": "13b31b266f7a4f5d832acb04efb061a1",
       "version_major": 2,
       "version_minor": 0
      },
      "text/plain": [
       "  0%|          | 0/64 [00:00<?, ?it/s]"
      ]
     },
     "metadata": {},
     "output_type": "display_data"
    },
    {
     "data": {
      "application/vnd.jupyter.widget-view+json": {
       "model_id": "68a3fc1324f14c26828c672b763f8d10",
       "version_major": 2,
       "version_minor": 0
      },
      "text/plain": [
       "  0%|          | 0/64 [00:00<?, ?it/s]"
      ]
     },
     "metadata": {},
     "output_type": "display_data"
    },
    {
     "name": "stderr",
     "output_type": "stream",
     "text": [
      "Analizando:  25%|██▌       | 9/36 [15:57<40:37, 90.27s/it]"
     ]
    },
    {
     "data": {
      "application/vnd.jupyter.widget-view+json": {
       "model_id": "fb378b1e9bca491cbd2f93a82b90d8c1",
       "version_major": 2,
       "version_minor": 0
      },
      "text/plain": [
       "  0%|          | 0/50 [00:00<?, ?it/s]"
      ]
     },
     "metadata": {},
     "output_type": "display_data"
    },
    {
     "data": {
      "application/vnd.jupyter.widget-view+json": {
       "model_id": "4fed1e5364194643a9a53eefbb45dc03",
       "version_major": 2,
       "version_minor": 0
      },
      "text/plain": [
       "  0%|          | 0/50 [00:00<?, ?it/s]"
      ]
     },
     "metadata": {},
     "output_type": "display_data"
    },
    {
     "data": {
      "application/vnd.jupyter.widget-view+json": {
       "model_id": "c9755775885f40088d8f0700dd00abd6",
       "version_major": 2,
       "version_minor": 0
      },
      "text/plain": [
       "  0%|          | 0/50 [00:00<?, ?it/s]"
      ]
     },
     "metadata": {},
     "output_type": "display_data"
    },
    {
     "data": {
      "application/vnd.jupyter.widget-view+json": {
       "model_id": "b950f45c97784b7d80e793b625b6beeb",
       "version_major": 2,
       "version_minor": 0
      },
      "text/plain": [
       "  0%|          | 0/50 [00:00<?, ?it/s]"
      ]
     },
     "metadata": {},
     "output_type": "display_data"
    },
    {
     "name": "stderr",
     "output_type": "stream",
     "text": [
      "Analizando:  28%|██▊       | 10/36 [17:21<38:21, 88.53s/it]"
     ]
    },
    {
     "data": {
      "application/vnd.jupyter.widget-view+json": {
       "model_id": "a0d785d8ac4a4b14b36931efd5216e35",
       "version_major": 2,
       "version_minor": 0
      },
      "text/plain": [
       "  0%|          | 0/68 [00:00<?, ?it/s]"
      ]
     },
     "metadata": {},
     "output_type": "display_data"
    },
    {
     "data": {
      "application/vnd.jupyter.widget-view+json": {
       "model_id": "d5b3f7d50df045159e914affa7f3f880",
       "version_major": 2,
       "version_minor": 0
      },
      "text/plain": [
       "  0%|          | 0/68 [00:00<?, ?it/s]"
      ]
     },
     "metadata": {},
     "output_type": "display_data"
    },
    {
     "data": {
      "application/vnd.jupyter.widget-view+json": {
       "model_id": "f8d68961116f491b88d2f33ac0d11a6f",
       "version_major": 2,
       "version_minor": 0
      },
      "text/plain": [
       "  0%|          | 0/68 [00:00<?, ?it/s]"
      ]
     },
     "metadata": {},
     "output_type": "display_data"
    },
    {
     "data": {
      "application/vnd.jupyter.widget-view+json": {
       "model_id": "61094b72c8744d368e994aaa07b42383",
       "version_major": 2,
       "version_minor": 0
      },
      "text/plain": [
       "  0%|          | 0/68 [00:00<?, ?it/s]"
      ]
     },
     "metadata": {},
     "output_type": "display_data"
    },
    {
     "name": "stderr",
     "output_type": "stream",
     "text": [
      "Analizando:  31%|███       | 11/36 [19:04<38:41, 92.86s/it]"
     ]
    },
    {
     "data": {
      "application/vnd.jupyter.widget-view+json": {
       "model_id": "6c3fae02acef44519c2e0393fc2b4c85",
       "version_major": 2,
       "version_minor": 0
      },
      "text/plain": [
       "  0%|          | 0/64 [00:00<?, ?it/s]"
      ]
     },
     "metadata": {},
     "output_type": "display_data"
    },
    {
     "data": {
      "application/vnd.jupyter.widget-view+json": {
       "model_id": "a1dea5200f98410f87c17417dbe7b686",
       "version_major": 2,
       "version_minor": 0
      },
      "text/plain": [
       "  0%|          | 0/64 [00:00<?, ?it/s]"
      ]
     },
     "metadata": {},
     "output_type": "display_data"
    },
    {
     "data": {
      "application/vnd.jupyter.widget-view+json": {
       "model_id": "35b25359784e471bb884821b56d7c39b",
       "version_major": 2,
       "version_minor": 0
      },
      "text/plain": [
       "  0%|          | 0/64 [00:00<?, ?it/s]"
      ]
     },
     "metadata": {},
     "output_type": "display_data"
    },
    {
     "data": {
      "application/vnd.jupyter.widget-view+json": {
       "model_id": "52837c8790974fbda9551c9d794ea6a8",
       "version_major": 2,
       "version_minor": 0
      },
      "text/plain": [
       "  0%|          | 0/64 [00:00<?, ?it/s]"
      ]
     },
     "metadata": {},
     "output_type": "display_data"
    },
    {
     "name": "stderr",
     "output_type": "stream",
     "text": [
      "Analizando:  33%|███▎      | 12/36 [20:16<34:35, 86.47s/it]"
     ]
    },
    {
     "data": {
      "application/vnd.jupyter.widget-view+json": {
       "model_id": "1c644e53dd5c4a4c9b0095faecdcf666",
       "version_major": 2,
       "version_minor": 0
      },
      "text/plain": [
       "  0%|          | 0/59 [00:00<?, ?it/s]"
      ]
     },
     "metadata": {},
     "output_type": "display_data"
    },
    {
     "data": {
      "application/vnd.jupyter.widget-view+json": {
       "model_id": "57186a9391644a38bbd1b260a811e493",
       "version_major": 2,
       "version_minor": 0
      },
      "text/plain": [
       "  0%|          | 0/59 [00:00<?, ?it/s]"
      ]
     },
     "metadata": {},
     "output_type": "display_data"
    },
    {
     "data": {
      "application/vnd.jupyter.widget-view+json": {
       "model_id": "e2ed180b04c747d5a73035324a27a1c2",
       "version_major": 2,
       "version_minor": 0
      },
      "text/plain": [
       "  0%|          | 0/59 [00:00<?, ?it/s]"
      ]
     },
     "metadata": {},
     "output_type": "display_data"
    },
    {
     "data": {
      "application/vnd.jupyter.widget-view+json": {
       "model_id": "743608784f4b451cb18759c3dc68c724",
       "version_major": 2,
       "version_minor": 0
      },
      "text/plain": [
       "  0%|          | 0/59 [00:00<?, ?it/s]"
      ]
     },
     "metadata": {},
     "output_type": "display_data"
    },
    {
     "name": "stderr",
     "output_type": "stream",
     "text": [
      "Analizando:  36%|███▌      | 13/36 [21:47<33:42, 87.93s/it]"
     ]
    },
    {
     "data": {
      "application/vnd.jupyter.widget-view+json": {
       "model_id": "4f10041c0e8343abb1b5c9f00fbd54b2",
       "version_major": 2,
       "version_minor": 0
      },
      "text/plain": [
       "  0%|          | 0/52 [00:00<?, ?it/s]"
      ]
     },
     "metadata": {},
     "output_type": "display_data"
    },
    {
     "data": {
      "application/vnd.jupyter.widget-view+json": {
       "model_id": "54401fc0a7ba43ec860baf0dab5ed38d",
       "version_major": 2,
       "version_minor": 0
      },
      "text/plain": [
       "  0%|          | 0/52 [00:00<?, ?it/s]"
      ]
     },
     "metadata": {},
     "output_type": "display_data"
    },
    {
     "data": {
      "application/vnd.jupyter.widget-view+json": {
       "model_id": "1ff04c5c3de644d99ab21a8812631482",
       "version_major": 2,
       "version_minor": 0
      },
      "text/plain": [
       "  0%|          | 0/52 [00:00<?, ?it/s]"
      ]
     },
     "metadata": {},
     "output_type": "display_data"
    },
    {
     "data": {
      "application/vnd.jupyter.widget-view+json": {
       "model_id": "bee37f50d0e8490cb262606537176443",
       "version_major": 2,
       "version_minor": 0
      },
      "text/plain": [
       "  0%|          | 0/52 [00:00<?, ?it/s]"
      ]
     },
     "metadata": {},
     "output_type": "display_data"
    },
    {
     "name": "stderr",
     "output_type": "stream",
     "text": [
      "Analizando:  39%|███▉      | 14/36 [23:33<34:11, 93.25s/it]"
     ]
    },
    {
     "data": {
      "application/vnd.jupyter.widget-view+json": {
       "model_id": "f97a342cc38b477ea0edfcf87472c2aa",
       "version_major": 2,
       "version_minor": 0
      },
      "text/plain": [
       "  0%|          | 0/67 [00:00<?, ?it/s]"
      ]
     },
     "metadata": {},
     "output_type": "display_data"
    },
    {
     "data": {
      "application/vnd.jupyter.widget-view+json": {
       "model_id": "c5c944d90bda440ab19a76d432397dba",
       "version_major": 2,
       "version_minor": 0
      },
      "text/plain": [
       "  0%|          | 0/67 [00:00<?, ?it/s]"
      ]
     },
     "metadata": {},
     "output_type": "display_data"
    },
    {
     "data": {
      "application/vnd.jupyter.widget-view+json": {
       "model_id": "64b11972cee849e1b50922e4fd51960a",
       "version_major": 2,
       "version_minor": 0
      },
      "text/plain": [
       "  0%|          | 0/67 [00:00<?, ?it/s]"
      ]
     },
     "metadata": {},
     "output_type": "display_data"
    },
    {
     "data": {
      "application/vnd.jupyter.widget-view+json": {
       "model_id": "53eeee96be24419789d307f589c16dea",
       "version_major": 2,
       "version_minor": 0
      },
      "text/plain": [
       "  0%|          | 0/67 [00:00<?, ?it/s]"
      ]
     },
     "metadata": {},
     "output_type": "display_data"
    },
    {
     "name": "stderr",
     "output_type": "stream",
     "text": [
      "Analizando:  42%|████▏     | 15/36 [25:25<34:42, 99.18s/it]"
     ]
    },
    {
     "data": {
      "application/vnd.jupyter.widget-view+json": {
       "model_id": "4d72ea08ad984ff394d8cb1a691355ad",
       "version_major": 2,
       "version_minor": 0
      },
      "text/plain": [
       "  0%|          | 0/56 [00:00<?, ?it/s]"
      ]
     },
     "metadata": {},
     "output_type": "display_data"
    },
    {
     "data": {
      "application/vnd.jupyter.widget-view+json": {
       "model_id": "6ab943f508704141b884e49382b747eb",
       "version_major": 2,
       "version_minor": 0
      },
      "text/plain": [
       "  0%|          | 0/56 [00:00<?, ?it/s]"
      ]
     },
     "metadata": {},
     "output_type": "display_data"
    },
    {
     "data": {
      "application/vnd.jupyter.widget-view+json": {
       "model_id": "973ed794a0c345de8cc5781d43ef085e",
       "version_major": 2,
       "version_minor": 0
      },
      "text/plain": [
       "  0%|          | 0/56 [00:00<?, ?it/s]"
      ]
     },
     "metadata": {},
     "output_type": "display_data"
    },
    {
     "data": {
      "application/vnd.jupyter.widget-view+json": {
       "model_id": "c5c88ae1774d4c88bc83b9b9bc04edcb",
       "version_major": 2,
       "version_minor": 0
      },
      "text/plain": [
       "  0%|          | 0/56 [00:00<?, ?it/s]"
      ]
     },
     "metadata": {},
     "output_type": "display_data"
    },
    {
     "name": "stderr",
     "output_type": "stream",
     "text": [
      "Analizando:  44%|████▍     | 16/36 [27:00<32:33, 97.67s/it]"
     ]
    },
    {
     "data": {
      "application/vnd.jupyter.widget-view+json": {
       "model_id": "60bfc86a61174478a565ad5be981244c",
       "version_major": 2,
       "version_minor": 0
      },
      "text/plain": [
       "  0%|          | 0/68 [00:00<?, ?it/s]"
      ]
     },
     "metadata": {},
     "output_type": "display_data"
    },
    {
     "data": {
      "application/vnd.jupyter.widget-view+json": {
       "model_id": "befa0276fb494fc2876961f7dedaccef",
       "version_major": 2,
       "version_minor": 0
      },
      "text/plain": [
       "  0%|          | 0/68 [00:00<?, ?it/s]"
      ]
     },
     "metadata": {},
     "output_type": "display_data"
    },
    {
     "data": {
      "application/vnd.jupyter.widget-view+json": {
       "model_id": "791a53d512c74f30873363e2b3114944",
       "version_major": 2,
       "version_minor": 0
      },
      "text/plain": [
       "  0%|          | 0/68 [00:00<?, ?it/s]"
      ]
     },
     "metadata": {},
     "output_type": "display_data"
    },
    {
     "data": {
      "application/vnd.jupyter.widget-view+json": {
       "model_id": "bb9054e10fcb42799d708823a4c8a0e2",
       "version_major": 2,
       "version_minor": 0
      },
      "text/plain": [
       "  0%|          | 0/68 [00:00<?, ?it/s]"
      ]
     },
     "metadata": {},
     "output_type": "display_data"
    },
    {
     "name": "stderr",
     "output_type": "stream",
     "text": [
      "Analizando:  47%|████▋     | 17/36 [29:04<33:28, 105.73s/it]"
     ]
    },
    {
     "data": {
      "application/vnd.jupyter.widget-view+json": {
       "model_id": "d812d513eecf46cfab4d86275e0f9dcb",
       "version_major": 2,
       "version_minor": 0
      },
      "text/plain": [
       "  0%|          | 0/64 [00:00<?, ?it/s]"
      ]
     },
     "metadata": {},
     "output_type": "display_data"
    },
    {
     "data": {
      "application/vnd.jupyter.widget-view+json": {
       "model_id": "854e1226e6b84d80b784e756b63e8edd",
       "version_major": 2,
       "version_minor": 0
      },
      "text/plain": [
       "  0%|          | 0/64 [00:00<?, ?it/s]"
      ]
     },
     "metadata": {},
     "output_type": "display_data"
    },
    {
     "data": {
      "application/vnd.jupyter.widget-view+json": {
       "model_id": "53ee1cae117e4e7a9ff4313cea38c073",
       "version_major": 2,
       "version_minor": 0
      },
      "text/plain": [
       "  0%|          | 0/64 [00:00<?, ?it/s]"
      ]
     },
     "metadata": {},
     "output_type": "display_data"
    },
    {
     "data": {
      "application/vnd.jupyter.widget-view+json": {
       "model_id": "f2ad44a72a894063a60c0edc9e84473b",
       "version_major": 2,
       "version_minor": 0
      },
      "text/plain": [
       "  0%|          | 0/64 [00:00<?, ?it/s]"
      ]
     },
     "metadata": {},
     "output_type": "display_data"
    },
    {
     "name": "stderr",
     "output_type": "stream",
     "text": [
      "Analizando:  50%|█████     | 18/36 [30:17<28:43, 95.74s/it] "
     ]
    },
    {
     "data": {
      "application/vnd.jupyter.widget-view+json": {
       "model_id": "751c6ace189a43e5a2e5ee2485051cdd",
       "version_major": 2,
       "version_minor": 0
      },
      "text/plain": [
       "  0%|          | 0/50 [00:00<?, ?it/s]"
      ]
     },
     "metadata": {},
     "output_type": "display_data"
    },
    {
     "data": {
      "application/vnd.jupyter.widget-view+json": {
       "model_id": "24e621191e824ceaa484eac75c130c3f",
       "version_major": 2,
       "version_minor": 0
      },
      "text/plain": [
       "  0%|          | 0/50 [00:00<?, ?it/s]"
      ]
     },
     "metadata": {},
     "output_type": "display_data"
    },
    {
     "data": {
      "application/vnd.jupyter.widget-view+json": {
       "model_id": "a1c1011d95664688823a306f65e117a0",
       "version_major": 2,
       "version_minor": 0
      },
      "text/plain": [
       "  0%|          | 0/50 [00:00<?, ?it/s]"
      ]
     },
     "metadata": {},
     "output_type": "display_data"
    },
    {
     "data": {
      "application/vnd.jupyter.widget-view+json": {
       "model_id": "c70f61d80c8a42a1a258999b48ec2924",
       "version_major": 2,
       "version_minor": 0
      },
      "text/plain": [
       "  0%|          | 0/50 [00:00<?, ?it/s]"
      ]
     },
     "metadata": {},
     "output_type": "display_data"
    },
    {
     "name": "stderr",
     "output_type": "stream",
     "text": [
      "Analizando:  53%|█████▎    | 19/36 [31:36<25:43, 90.77s/it]"
     ]
    },
    {
     "data": {
      "application/vnd.jupyter.widget-view+json": {
       "model_id": "9e0bc28b7b4742169c65c91687a193c0",
       "version_major": 2,
       "version_minor": 0
      },
      "text/plain": [
       "  0%|          | 0/68 [00:00<?, ?it/s]"
      ]
     },
     "metadata": {},
     "output_type": "display_data"
    },
    {
     "data": {
      "application/vnd.jupyter.widget-view+json": {
       "model_id": "9c392a53a2bb485ebf9931319d0aca08",
       "version_major": 2,
       "version_minor": 0
      },
      "text/plain": [
       "  0%|          | 0/68 [00:00<?, ?it/s]"
      ]
     },
     "metadata": {},
     "output_type": "display_data"
    },
    {
     "data": {
      "application/vnd.jupyter.widget-view+json": {
       "model_id": "454692190e874464b88ca727e176f9a7",
       "version_major": 2,
       "version_minor": 0
      },
      "text/plain": [
       "  0%|          | 0/68 [00:00<?, ?it/s]"
      ]
     },
     "metadata": {},
     "output_type": "display_data"
    },
    {
     "data": {
      "application/vnd.jupyter.widget-view+json": {
       "model_id": "34a29ce21578481c9284ceb53cb41e5e",
       "version_major": 2,
       "version_minor": 0
      },
      "text/plain": [
       "  0%|          | 0/68 [00:00<?, ?it/s]"
      ]
     },
     "metadata": {},
     "output_type": "display_data"
    },
    {
     "name": "stderr",
     "output_type": "stream",
     "text": [
      "Analizando:  56%|█████▌    | 20/36 [33:36<26:34, 99.63s/it]"
     ]
    },
    {
     "data": {
      "application/vnd.jupyter.widget-view+json": {
       "model_id": "1bd282d97d724900ad9c4a7750ad875f",
       "version_major": 2,
       "version_minor": 0
      },
      "text/plain": [
       "  0%|          | 0/64 [00:00<?, ?it/s]"
      ]
     },
     "metadata": {},
     "output_type": "display_data"
    },
    {
     "data": {
      "application/vnd.jupyter.widget-view+json": {
       "model_id": "0bda999480c34f8d9d6a5f274968c55c",
       "version_major": 2,
       "version_minor": 0
      },
      "text/plain": [
       "  0%|          | 0/64 [00:00<?, ?it/s]"
      ]
     },
     "metadata": {},
     "output_type": "display_data"
    },
    {
     "data": {
      "application/vnd.jupyter.widget-view+json": {
       "model_id": "14cb4abe5c0a472cb0271f32d3076e4b",
       "version_major": 2,
       "version_minor": 0
      },
      "text/plain": [
       "  0%|          | 0/64 [00:00<?, ?it/s]"
      ]
     },
     "metadata": {},
     "output_type": "display_data"
    },
    {
     "data": {
      "application/vnd.jupyter.widget-view+json": {
       "model_id": "4d4a9ed4da3b4fc985b66f34d608bfcd",
       "version_major": 2,
       "version_minor": 0
      },
      "text/plain": [
       "  0%|          | 0/64 [00:00<?, ?it/s]"
      ]
     },
     "metadata": {},
     "output_type": "display_data"
    },
    {
     "name": "stderr",
     "output_type": "stream",
     "text": [
      "Analizando:  58%|█████▊    | 21/36 [34:40<22:14, 88.98s/it]"
     ]
    },
    {
     "data": {
      "application/vnd.jupyter.widget-view+json": {
       "model_id": "9571db33444744128dd76726f41756d8",
       "version_major": 2,
       "version_minor": 0
      },
      "text/plain": [
       "  0%|          | 0/59 [00:00<?, ?it/s]"
      ]
     },
     "metadata": {},
     "output_type": "display_data"
    },
    {
     "data": {
      "application/vnd.jupyter.widget-view+json": {
       "model_id": "309b60c6037b469ca7fa19b6e80bed07",
       "version_major": 2,
       "version_minor": 0
      },
      "text/plain": [
       "  0%|          | 0/59 [00:00<?, ?it/s]"
      ]
     },
     "metadata": {},
     "output_type": "display_data"
    },
    {
     "data": {
      "application/vnd.jupyter.widget-view+json": {
       "model_id": "3414b4871b734e70849c256fd208a274",
       "version_major": 2,
       "version_minor": 0
      },
      "text/plain": [
       "  0%|          | 0/59 [00:00<?, ?it/s]"
      ]
     },
     "metadata": {},
     "output_type": "display_data"
    },
    {
     "data": {
      "application/vnd.jupyter.widget-view+json": {
       "model_id": "779a584bce7e4456a92f6eb11f1f93a5",
       "version_major": 2,
       "version_minor": 0
      },
      "text/plain": [
       "  0%|          | 0/59 [00:00<?, ?it/s]"
      ]
     },
     "metadata": {},
     "output_type": "display_data"
    },
    {
     "name": "stderr",
     "output_type": "stream",
     "text": [
      "Analizando:  61%|██████    | 22/36 [36:10<20:49, 89.27s/it]"
     ]
    },
    {
     "data": {
      "application/vnd.jupyter.widget-view+json": {
       "model_id": "226607a9458248e688d56e50fb66e4ae",
       "version_major": 2,
       "version_minor": 0
      },
      "text/plain": [
       "  0%|          | 0/52 [00:00<?, ?it/s]"
      ]
     },
     "metadata": {},
     "output_type": "display_data"
    },
    {
     "data": {
      "application/vnd.jupyter.widget-view+json": {
       "model_id": "5400c229b563421183560cda76ab6c7e",
       "version_major": 2,
       "version_minor": 0
      },
      "text/plain": [
       "  0%|          | 0/52 [00:00<?, ?it/s]"
      ]
     },
     "metadata": {},
     "output_type": "display_data"
    },
    {
     "data": {
      "application/vnd.jupyter.widget-view+json": {
       "model_id": "ab6f9adad64e4bd6ab26f1c4b19cc2b7",
       "version_major": 2,
       "version_minor": 0
      },
      "text/plain": [
       "  0%|          | 0/52 [00:00<?, ?it/s]"
      ]
     },
     "metadata": {},
     "output_type": "display_data"
    },
    {
     "data": {
      "application/vnd.jupyter.widget-view+json": {
       "model_id": "dee3845b638b464fa01deba1bf400b23",
       "version_major": 2,
       "version_minor": 0
      },
      "text/plain": [
       "  0%|          | 0/52 [00:00<?, ?it/s]"
      ]
     },
     "metadata": {},
     "output_type": "display_data"
    },
    {
     "name": "stderr",
     "output_type": "stream",
     "text": [
      "Analizando:  64%|██████▍   | 23/36 [38:24<22:12, 102.54s/it]"
     ]
    },
    {
     "data": {
      "application/vnd.jupyter.widget-view+json": {
       "model_id": "1e2a1f3e61ac4154a51991c2a5b7d67f",
       "version_major": 2,
       "version_minor": 0
      },
      "text/plain": [
       "  0%|          | 0/67 [00:00<?, ?it/s]"
      ]
     },
     "metadata": {},
     "output_type": "display_data"
    },
    {
     "data": {
      "application/vnd.jupyter.widget-view+json": {
       "model_id": "d41ee34cdb764f6ba9555c37a0fe50b5",
       "version_major": 2,
       "version_minor": 0
      },
      "text/plain": [
       "  0%|          | 0/67 [00:00<?, ?it/s]"
      ]
     },
     "metadata": {},
     "output_type": "display_data"
    },
    {
     "data": {
      "application/vnd.jupyter.widget-view+json": {
       "model_id": "a7a90964f4954cf5b8c95b392098092e",
       "version_major": 2,
       "version_minor": 0
      },
      "text/plain": [
       "  0%|          | 0/67 [00:00<?, ?it/s]"
      ]
     },
     "metadata": {},
     "output_type": "display_data"
    },
    {
     "data": {
      "application/vnd.jupyter.widget-view+json": {
       "model_id": "4b0c4dde72f44eecbe0c4e37afab8bb5",
       "version_major": 2,
       "version_minor": 0
      },
      "text/plain": [
       "  0%|          | 0/67 [00:00<?, ?it/s]"
      ]
     },
     "metadata": {},
     "output_type": "display_data"
    },
    {
     "name": "stderr",
     "output_type": "stream",
     "text": [
      "Analizando:  67%|██████▋   | 24/36 [40:10<20:43, 103.64s/it]"
     ]
    },
    {
     "data": {
      "application/vnd.jupyter.widget-view+json": {
       "model_id": "b6fb4a67d69c4af7975b66bef7f23ead",
       "version_major": 2,
       "version_minor": 0
      },
      "text/plain": [
       "  0%|          | 0/56 [00:00<?, ?it/s]"
      ]
     },
     "metadata": {},
     "output_type": "display_data"
    },
    {
     "data": {
      "application/vnd.jupyter.widget-view+json": {
       "model_id": "2353dd747cc4403980482663663ca9f6",
       "version_major": 2,
       "version_minor": 0
      },
      "text/plain": [
       "  0%|          | 0/56 [00:00<?, ?it/s]"
      ]
     },
     "metadata": {},
     "output_type": "display_data"
    },
    {
     "data": {
      "application/vnd.jupyter.widget-view+json": {
       "model_id": "c3b7538d59bd4499aae78061aa83f6a6",
       "version_major": 2,
       "version_minor": 0
      },
      "text/plain": [
       "  0%|          | 0/56 [00:00<?, ?it/s]"
      ]
     },
     "metadata": {},
     "output_type": "display_data"
    },
    {
     "data": {
      "application/vnd.jupyter.widget-view+json": {
       "model_id": "d0d762301b4d44dd87ff9c18d9f6b053",
       "version_major": 2,
       "version_minor": 0
      },
      "text/plain": [
       "  0%|          | 0/56 [00:00<?, ?it/s]"
      ]
     },
     "metadata": {},
     "output_type": "display_data"
    },
    {
     "name": "stderr",
     "output_type": "stream",
     "text": [
      "Analizando:  69%|██████▉   | 25/36 [41:37<18:06, 98.77s/it] "
     ]
    },
    {
     "data": {
      "application/vnd.jupyter.widget-view+json": {
       "model_id": "355b5e44b5c449659445016b3d5d0c3f",
       "version_major": 2,
       "version_minor": 0
      },
      "text/plain": [
       "  0%|          | 0/68 [00:00<?, ?it/s]"
      ]
     },
     "metadata": {},
     "output_type": "display_data"
    },
    {
     "data": {
      "application/vnd.jupyter.widget-view+json": {
       "model_id": "c5b49b05bb644c6894386858bb135302",
       "version_major": 2,
       "version_minor": 0
      },
      "text/plain": [
       "  0%|          | 0/68 [00:00<?, ?it/s]"
      ]
     },
     "metadata": {},
     "output_type": "display_data"
    },
    {
     "data": {
      "application/vnd.jupyter.widget-view+json": {
       "model_id": "5d4596be642a4d28924e52bc51d63eaa",
       "version_major": 2,
       "version_minor": 0
      },
      "text/plain": [
       "  0%|          | 0/68 [00:00<?, ?it/s]"
      ]
     },
     "metadata": {},
     "output_type": "display_data"
    },
    {
     "data": {
      "application/vnd.jupyter.widget-view+json": {
       "model_id": "273e9a344b174d4bba9d718a686878f4",
       "version_major": 2,
       "version_minor": 0
      },
      "text/plain": [
       "  0%|          | 0/68 [00:00<?, ?it/s]"
      ]
     },
     "metadata": {},
     "output_type": "display_data"
    },
    {
     "name": "stderr",
     "output_type": "stream",
     "text": [
      "Analizando:  72%|███████▏  | 26/36 [44:17<19:30, 117.09s/it]"
     ]
    },
    {
     "data": {
      "application/vnd.jupyter.widget-view+json": {
       "model_id": "400004aff1124e0ebe2bf8370a61b9a8",
       "version_major": 2,
       "version_minor": 0
      },
      "text/plain": [
       "  0%|          | 0/64 [00:00<?, ?it/s]"
      ]
     },
     "metadata": {},
     "output_type": "display_data"
    },
    {
     "data": {
      "application/vnd.jupyter.widget-view+json": {
       "model_id": "0eba1c87ab3e4fe0ba393d0f6de8ab17",
       "version_major": 2,
       "version_minor": 0
      },
      "text/plain": [
       "  0%|          | 0/64 [00:00<?, ?it/s]"
      ]
     },
     "metadata": {},
     "output_type": "display_data"
    },
    {
     "data": {
      "application/vnd.jupyter.widget-view+json": {
       "model_id": "1025c7abe6ae4dd0a7f87659375210f7",
       "version_major": 2,
       "version_minor": 0
      },
      "text/plain": [
       "  0%|          | 0/64 [00:00<?, ?it/s]"
      ]
     },
     "metadata": {},
     "output_type": "display_data"
    },
    {
     "data": {
      "application/vnd.jupyter.widget-view+json": {
       "model_id": "6549eed3878e4f25ab0dee73d045a40a",
       "version_major": 2,
       "version_minor": 0
      },
      "text/plain": [
       "  0%|          | 0/64 [00:00<?, ?it/s]"
      ]
     },
     "metadata": {},
     "output_type": "display_data"
    },
    {
     "name": "stderr",
     "output_type": "stream",
     "text": [
      "Analizando:  75%|███████▌  | 27/36 [46:15<17:35, 117.28s/it]"
     ]
    },
    {
     "data": {
      "application/vnd.jupyter.widget-view+json": {
       "model_id": "4ad4fa08f29f41489ac6054e3fa85628",
       "version_major": 2,
       "version_minor": 0
      },
      "text/plain": [
       "  0%|          | 0/50 [00:00<?, ?it/s]"
      ]
     },
     "metadata": {},
     "output_type": "display_data"
    },
    {
     "data": {
      "application/vnd.jupyter.widget-view+json": {
       "model_id": "687debe7da5f4621a2dc4ea4fc6325be",
       "version_major": 2,
       "version_minor": 0
      },
      "text/plain": [
       "  0%|          | 0/50 [00:00<?, ?it/s]"
      ]
     },
     "metadata": {},
     "output_type": "display_data"
    },
    {
     "data": {
      "application/vnd.jupyter.widget-view+json": {
       "model_id": "22736b4fe5f84ff597d0297469b8c147",
       "version_major": 2,
       "version_minor": 0
      },
      "text/plain": [
       "  0%|          | 0/50 [00:00<?, ?it/s]"
      ]
     },
     "metadata": {},
     "output_type": "display_data"
    },
    {
     "name": "stderr",
     "output_type": "stream",
     "text": [
      "C:\\Users\\Ceiec09\\anaconda3\\Lib\\site-packages\\sklearn\\neural_network\\_multilayer_perceptron.py:690: ConvergenceWarning: Stochastic Optimizer: Maximum iterations (1000) reached and the optimization hasn't converged yet.\n",
      "  warnings.warn(\n"
     ]
    },
    {
     "data": {
      "application/vnd.jupyter.widget-view+json": {
       "model_id": "12d1c8e3f29544de8a4c5f7aced0a14c",
       "version_major": 2,
       "version_minor": 0
      },
      "text/plain": [
       "  0%|          | 0/50 [00:00<?, ?it/s]"
      ]
     },
     "metadata": {},
     "output_type": "display_data"
    },
    {
     "name": "stderr",
     "output_type": "stream",
     "text": [
      "Analizando:  78%|███████▊  | 28/36 [47:59<15:06, 113.27s/it]"
     ]
    },
    {
     "data": {
      "application/vnd.jupyter.widget-view+json": {
       "model_id": "320bc18912704275868e62efb1764c52",
       "version_major": 2,
       "version_minor": 0
      },
      "text/plain": [
       "  0%|          | 0/68 [00:00<?, ?it/s]"
      ]
     },
     "metadata": {},
     "output_type": "display_data"
    },
    {
     "data": {
      "application/vnd.jupyter.widget-view+json": {
       "model_id": "6c877e8cfca54e06b85674933ebf6732",
       "version_major": 2,
       "version_minor": 0
      },
      "text/plain": [
       "  0%|          | 0/68 [00:00<?, ?it/s]"
      ]
     },
     "metadata": {},
     "output_type": "display_data"
    },
    {
     "data": {
      "application/vnd.jupyter.widget-view+json": {
       "model_id": "33a55649a91446868c79e3fbd74f1624",
       "version_major": 2,
       "version_minor": 0
      },
      "text/plain": [
       "  0%|          | 0/68 [00:00<?, ?it/s]"
      ]
     },
     "metadata": {},
     "output_type": "display_data"
    },
    {
     "name": "stderr",
     "output_type": "stream",
     "text": [
      "C:\\Users\\Ceiec09\\anaconda3\\Lib\\site-packages\\sklearn\\neural_network\\_multilayer_perceptron.py:690: ConvergenceWarning: Stochastic Optimizer: Maximum iterations (1000) reached and the optimization hasn't converged yet.\n",
      "  warnings.warn(\n"
     ]
    },
    {
     "data": {
      "application/vnd.jupyter.widget-view+json": {
       "model_id": "3fead4c0d3844628a4bb109b4af8e79c",
       "version_major": 2,
       "version_minor": 0
      },
      "text/plain": [
       "  0%|          | 0/68 [00:00<?, ?it/s]"
      ]
     },
     "metadata": {},
     "output_type": "display_data"
    },
    {
     "name": "stderr",
     "output_type": "stream",
     "text": [
      "Analizando:  81%|████████  | 29/36 [50:08<13:46, 118.03s/it]"
     ]
    },
    {
     "data": {
      "application/vnd.jupyter.widget-view+json": {
       "model_id": "41df2d4b97994e1189bd861e1a4425bf",
       "version_major": 2,
       "version_minor": 0
      },
      "text/plain": [
       "  0%|          | 0/64 [00:00<?, ?it/s]"
      ]
     },
     "metadata": {},
     "output_type": "display_data"
    },
    {
     "data": {
      "application/vnd.jupyter.widget-view+json": {
       "model_id": "05b60ee7b5df4880beb365a198be52bb",
       "version_major": 2,
       "version_minor": 0
      },
      "text/plain": [
       "  0%|          | 0/64 [00:00<?, ?it/s]"
      ]
     },
     "metadata": {},
     "output_type": "display_data"
    },
    {
     "data": {
      "application/vnd.jupyter.widget-view+json": {
       "model_id": "259ca939bf05454183686a6fe68334b8",
       "version_major": 2,
       "version_minor": 0
      },
      "text/plain": [
       "  0%|          | 0/64 [00:00<?, ?it/s]"
      ]
     },
     "metadata": {},
     "output_type": "display_data"
    },
    {
     "data": {
      "application/vnd.jupyter.widget-view+json": {
       "model_id": "2063a29d13dc458eb7988869a3cacf48",
       "version_major": 2,
       "version_minor": 0
      },
      "text/plain": [
       "  0%|          | 0/64 [00:00<?, ?it/s]"
      ]
     },
     "metadata": {},
     "output_type": "display_data"
    },
    {
     "name": "stderr",
     "output_type": "stream",
     "text": [
      "Analizando:  83%|████████▎ | 30/36 [51:36<10:54, 109.08s/it]"
     ]
    },
    {
     "data": {
      "application/vnd.jupyter.widget-view+json": {
       "model_id": "e5fa99edd1ae4bdc895eb470431767be",
       "version_major": 2,
       "version_minor": 0
      },
      "text/plain": [
       "  0%|          | 0/59 [00:00<?, ?it/s]"
      ]
     },
     "metadata": {},
     "output_type": "display_data"
    },
    {
     "data": {
      "application/vnd.jupyter.widget-view+json": {
       "model_id": "d9e5161bee9440e2a51248e3198769f3",
       "version_major": 2,
       "version_minor": 0
      },
      "text/plain": [
       "  0%|          | 0/59 [00:00<?, ?it/s]"
      ]
     },
     "metadata": {},
     "output_type": "display_data"
    },
    {
     "data": {
      "application/vnd.jupyter.widget-view+json": {
       "model_id": "15db9c568ba54a2fb3694c8ded2644b0",
       "version_major": 2,
       "version_minor": 0
      },
      "text/plain": [
       "  0%|          | 0/59 [00:00<?, ?it/s]"
      ]
     },
     "metadata": {},
     "output_type": "display_data"
    },
    {
     "name": "stderr",
     "output_type": "stream",
     "text": [
      "C:\\Users\\Ceiec09\\anaconda3\\Lib\\site-packages\\sklearn\\neural_network\\_multilayer_perceptron.py:690: ConvergenceWarning: Stochastic Optimizer: Maximum iterations (1000) reached and the optimization hasn't converged yet.\n",
      "  warnings.warn(\n"
     ]
    },
    {
     "data": {
      "application/vnd.jupyter.widget-view+json": {
       "model_id": "859effa2e02246d5b43935fffdcbece1",
       "version_major": 2,
       "version_minor": 0
      },
      "text/plain": [
       "  0%|          | 0/59 [00:00<?, ?it/s]"
      ]
     },
     "metadata": {},
     "output_type": "display_data"
    },
    {
     "name": "stderr",
     "output_type": "stream",
     "text": [
      "Analizando:  86%|████████▌ | 31/36 [53:36<09:21, 112.40s/it]"
     ]
    },
    {
     "data": {
      "application/vnd.jupyter.widget-view+json": {
       "model_id": "628b1b4c46b84a7799fe991d2a2f2592",
       "version_major": 2,
       "version_minor": 0
      },
      "text/plain": [
       "  0%|          | 0/52 [00:00<?, ?it/s]"
      ]
     },
     "metadata": {},
     "output_type": "display_data"
    },
    {
     "data": {
      "application/vnd.jupyter.widget-view+json": {
       "model_id": "6912316681404d01bf4c7889b0d8192c",
       "version_major": 2,
       "version_minor": 0
      },
      "text/plain": [
       "  0%|          | 0/52 [00:00<?, ?it/s]"
      ]
     },
     "metadata": {},
     "output_type": "display_data"
    },
    {
     "data": {
      "application/vnd.jupyter.widget-view+json": {
       "model_id": "4817d9bea9e84f4791abe92a4e030071",
       "version_major": 2,
       "version_minor": 0
      },
      "text/plain": [
       "  0%|          | 0/52 [00:00<?, ?it/s]"
      ]
     },
     "metadata": {},
     "output_type": "display_data"
    },
    {
     "data": {
      "application/vnd.jupyter.widget-view+json": {
       "model_id": "5f3006e03c2c41d68bc86fec097895eb",
       "version_major": 2,
       "version_minor": 0
      },
      "text/plain": [
       "  0%|          | 0/52 [00:00<?, ?it/s]"
      ]
     },
     "metadata": {},
     "output_type": "display_data"
    },
    {
     "name": "stderr",
     "output_type": "stream",
     "text": [
      "Analizando:  89%|████████▉ | 32/36 [55:22<07:21, 110.31s/it]"
     ]
    },
    {
     "data": {
      "application/vnd.jupyter.widget-view+json": {
       "model_id": "f02b8c2823834e0897875b58591beef4",
       "version_major": 2,
       "version_minor": 0
      },
      "text/plain": [
       "  0%|          | 0/67 [00:00<?, ?it/s]"
      ]
     },
     "metadata": {},
     "output_type": "display_data"
    },
    {
     "data": {
      "application/vnd.jupyter.widget-view+json": {
       "model_id": "2ab9b42e52cb4ca9a9c2bfd470fce736",
       "version_major": 2,
       "version_minor": 0
      },
      "text/plain": [
       "  0%|          | 0/67 [00:00<?, ?it/s]"
      ]
     },
     "metadata": {},
     "output_type": "display_data"
    },
    {
     "data": {
      "application/vnd.jupyter.widget-view+json": {
       "model_id": "8edb6cff97354449b5fc8e5d0125d1b7",
       "version_major": 2,
       "version_minor": 0
      },
      "text/plain": [
       "  0%|          | 0/67 [00:00<?, ?it/s]"
      ]
     },
     "metadata": {},
     "output_type": "display_data"
    },
    {
     "data": {
      "application/vnd.jupyter.widget-view+json": {
       "model_id": "75cad208e41a4c76b0b184c8c325b0b1",
       "version_major": 2,
       "version_minor": 0
      },
      "text/plain": [
       "  0%|          | 0/67 [00:00<?, ?it/s]"
      ]
     },
     "metadata": {},
     "output_type": "display_data"
    },
    {
     "name": "stderr",
     "output_type": "stream",
     "text": [
      "Analizando:  92%|█████████▏| 33/36 [57:22<05:39, 113.31s/it]"
     ]
    },
    {
     "data": {
      "application/vnd.jupyter.widget-view+json": {
       "model_id": "e6c636fe1c1c4acc90ef3c28bc10fc04",
       "version_major": 2,
       "version_minor": 0
      },
      "text/plain": [
       "  0%|          | 0/56 [00:00<?, ?it/s]"
      ]
     },
     "metadata": {},
     "output_type": "display_data"
    },
    {
     "data": {
      "application/vnd.jupyter.widget-view+json": {
       "model_id": "2136fa5c7c754a83bc613f83e35dc11d",
       "version_major": 2,
       "version_minor": 0
      },
      "text/plain": [
       "  0%|          | 0/56 [00:00<?, ?it/s]"
      ]
     },
     "metadata": {},
     "output_type": "display_data"
    },
    {
     "data": {
      "application/vnd.jupyter.widget-view+json": {
       "model_id": "eb31f5c1a82648ea99ce06378562bb6c",
       "version_major": 2,
       "version_minor": 0
      },
      "text/plain": [
       "  0%|          | 0/56 [00:00<?, ?it/s]"
      ]
     },
     "metadata": {},
     "output_type": "display_data"
    },
    {
     "data": {
      "application/vnd.jupyter.widget-view+json": {
       "model_id": "4f09628182504315808a13be13dd008d",
       "version_major": 2,
       "version_minor": 0
      },
      "text/plain": [
       "  0%|          | 0/56 [00:00<?, ?it/s]"
      ]
     },
     "metadata": {},
     "output_type": "display_data"
    },
    {
     "name": "stderr",
     "output_type": "stream",
     "text": [
      "Analizando:  94%|█████████▍| 34/36 [59:35<03:58, 119.22s/it]"
     ]
    },
    {
     "data": {
      "application/vnd.jupyter.widget-view+json": {
       "model_id": "611c8ad127e944188e83a6ff88855037",
       "version_major": 2,
       "version_minor": 0
      },
      "text/plain": [
       "  0%|          | 0/68 [00:00<?, ?it/s]"
      ]
     },
     "metadata": {},
     "output_type": "display_data"
    },
    {
     "data": {
      "application/vnd.jupyter.widget-view+json": {
       "model_id": "924b0d1b0d7c4e8f8a2e93808b2d6172",
       "version_major": 2,
       "version_minor": 0
      },
      "text/plain": [
       "  0%|          | 0/68 [00:00<?, ?it/s]"
      ]
     },
     "metadata": {},
     "output_type": "display_data"
    },
    {
     "data": {
      "application/vnd.jupyter.widget-view+json": {
       "model_id": "295e68d928824a4b99e2777ed1b9271a",
       "version_major": 2,
       "version_minor": 0
      },
      "text/plain": [
       "  0%|          | 0/68 [00:00<?, ?it/s]"
      ]
     },
     "metadata": {},
     "output_type": "display_data"
    },
    {
     "data": {
      "application/vnd.jupyter.widget-view+json": {
       "model_id": "2352490095eb4ab08f87fdae2b471f48",
       "version_major": 2,
       "version_minor": 0
      },
      "text/plain": [
       "  0%|          | 0/68 [00:00<?, ?it/s]"
      ]
     },
     "metadata": {},
     "output_type": "display_data"
    },
    {
     "name": "stderr",
     "output_type": "stream",
     "text": [
      "Analizando:  97%|█████████▋| 35/36 [1:01:39<02:00, 120.63s/it]"
     ]
    },
    {
     "data": {
      "application/vnd.jupyter.widget-view+json": {
       "model_id": "c920d1efc0f241e59d40a9d1d52c55d3",
       "version_major": 2,
       "version_minor": 0
      },
      "text/plain": [
       "  0%|          | 0/64 [00:00<?, ?it/s]"
      ]
     },
     "metadata": {},
     "output_type": "display_data"
    },
    {
     "data": {
      "application/vnd.jupyter.widget-view+json": {
       "model_id": "79e8ee8e996b4e1097b6fe35069e3e65",
       "version_major": 2,
       "version_minor": 0
      },
      "text/plain": [
       "  0%|          | 0/64 [00:00<?, ?it/s]"
      ]
     },
     "metadata": {},
     "output_type": "display_data"
    },
    {
     "data": {
      "application/vnd.jupyter.widget-view+json": {
       "model_id": "3d8c8dbf7b974d0b8b8f871bc2d0344f",
       "version_major": 2,
       "version_minor": 0
      },
      "text/plain": [
       "  0%|          | 0/64 [00:00<?, ?it/s]"
      ]
     },
     "metadata": {},
     "output_type": "display_data"
    },
    {
     "data": {
      "application/vnd.jupyter.widget-view+json": {
       "model_id": "46561fdb39954e45845702d4fde7ae12",
       "version_major": 2,
       "version_minor": 0
      },
      "text/plain": [
       "  0%|          | 0/64 [00:00<?, ?it/s]"
      ]
     },
     "metadata": {},
     "output_type": "display_data"
    },
    {
     "name": "stderr",
     "output_type": "stream",
     "text": [
      "Analizando: 100%|██████████| 36/36 [1:03:06<00:00, 105.19s/it]\n"
     ]
    }
   ],
   "source": [
    "tiempos_clasificadores = {}\n",
    "\n",
    "for dataset in tqdm(datasets, desc='Analizando', dynamic_ncols=True):\n",
    "    # Cargar datos de entrenamiento\n",
    "    datos_entrenamiento = pd.read_csv(f'./entrenamiento_balanceado/{dataset}', sep=';')\n",
    "    \n",
    "    # Extraer información de nombre del archivo\n",
    "    subset = dataset.split('_')[1]\n",
    "    issue = dataset.split('_')[-1].split('.')[0]\n",
    "    column = str(dataset)[:-4].split('_')[-1]\n",
    "    \n",
    "    # Separar en características y etiquetas\n",
    "    datos_entrenamiento_balanced = datos_entrenamiento.drop(columns=[column])\n",
    "    labels_columna_balanced = datos_entrenamiento[column]\n",
    "\n",
    "    # Dividir en conjunto de entrenamiento y prueba\n",
    "    X_train, X_test, y_train, y_test = train_test_split(\n",
    "        datos_entrenamiento_balanced, labels_columna_balanced, test_size=0.2, random_state=42, stratify=labels_columna_balanced\n",
    "    )\n",
    "    \n",
    "    # Evaluar cada clasificador\n",
    "    for nombre_algoritmo, clasificador in classifiers.items():\n",
    "\n",
    "        tiempo_inicio = datetime.datetime.now()\n",
    "        \n",
    "        # GridSearchCV para modelos con hiperparámetros\n",
    "        if param_grids[nombre_algoritmo]:  \n",
    "            grid_search = GridSearchCV(\n",
    "                estimator=clasificador,\n",
    "                param_grid=param_grids[nombre_algoritmo],\n",
    "                scoring='accuracy',\n",
    "                cv=5,\n",
    "                n_jobs=-1,\n",
    "                return_train_score=True,\n",
    "                error_score='raise'\n",
    "            )\n",
    "\n",
    "            grid_search.fit(X_train, y_train)\n",
    "            mejor_modelo = grid_search.best_estimator_\n",
    "            mejores_params = grid_search.best_params_\n",
    "\n",
    "            mean_train_accuracy = np.mean(grid_search.cv_results_['mean_train_score'])\n",
    "            std_train_accuracy = np.std(grid_search.cv_results_['mean_train_score'])\n",
    "            mean_val_accuracy = np.mean(grid_search.cv_results_['mean_test_score'])\n",
    "            std_val_accuracy = np.std(grid_search.cv_results_['mean_test_score'])\n",
    "            \n",
    "        else:  \n",
    "            mejor_modelo = clasificador.fit(X_train, y_train)\n",
    "            mejores_params = \"N/A\"\n",
    "            mean_train_accuracy = accuracy_score(y_train, mejor_modelo.predict(X_train))\n",
    "            std_train_accuracy = 0\n",
    "            mean_val_accuracy = accuracy_score(y_test, mejor_modelo.predict(X_test))\n",
    "            std_val_accuracy = 0\n",
    "        \n",
    "        # Evaluación final en conjunto de prueba\n",
    "        predicciones_test = mejor_modelo.predict(X_test)\n",
    "        accuracy_test = accuracy_score(y_test, predicciones_test)\n",
    "        sensibilidad_test, especificidad_test = calcular_sensibilidad_especificidad_conjunto(y_test, predicciones_test)\n",
    "\n",
    "        # Cálculo de los valores SHAP\n",
    "        shap_df = calcular_shap_values(mejor_modelo, X_train, X_test, nombre_algoritmo)\n",
    "\n",
    "        # Agregar cada fila al conjunto de resultados\n",
    "        for idx, row in shap_df.iterrows():\n",
    "            resultados_totales.append({\n",
    "                'dataset': dataset,\n",
    "                'subset': subset,\n",
    "                'issue': issue,\n",
    "                'algorithm': nombre_algoritmo,\n",
    "                'best_params': mejores_params,\n",
    "                'mean_train_accuracy': mean_train_accuracy,\n",
    "                'std_train_accuracy': std_train_accuracy,\n",
    "                'mean_val_accuracy': mean_val_accuracy,\n",
    "                'std_val_accuracy': std_val_accuracy,\n",
    "                'accuracy_test': accuracy_test,\n",
    "                'sensitivity_test': sensibilidad_test,\n",
    "                'specificity_test': especificidad_test,\n",
    "                'shap_feature_values': row.to_dict()\n",
    "            })\n",
    "        tiempo_fin = datetime.datetime.now()\n",
    "        diferencia = tiempo_fin - tiempo_inicio\n",
    "        tiempos_clasificadores[f'{nombre_algoritmo}_{clasificador}'] = {\n",
    "            'Tiempo inicio':tiempo_inicio,\n",
    "            'Tiempo fin':tiempo_fin,\n",
    "            'Diferencia':diferencia\n",
    "        }"
   ]
  },
  {
   "cell_type": "code",
   "execution_count": 19,
   "metadata": {},
   "outputs": [
    {
     "data": {
      "text/plain": [
       "{'DecisionTree_DecisionTreeClassifier(random_state=42)': {'Tiempo inicio': datetime.datetime(2024, 11, 21, 13, 8, 47, 625808),\n",
       "  'Tiempo fin': datetime.datetime(2024, 11, 21, 13, 8, 48, 392027),\n",
       "  'Diferencia': datetime.timedelta(microseconds=766219)},\n",
       " 'RandomForest_RandomForestClassifier(random_state=42)': {'Tiempo inicio': datetime.datetime(2024, 11, 21, 13, 8, 48, 392027),\n",
       "  'Tiempo fin': datetime.datetime(2024, 11, 21, 13, 8, 56, 441013),\n",
       "  'Diferencia': datetime.timedelta(seconds=8, microseconds=48986)},\n",
       " 'SVM_SVC(probability=True, random_state=42)': {'Tiempo inicio': datetime.datetime(2024, 11, 21, 13, 8, 56, 441013),\n",
       "  'Tiempo fin': datetime.datetime(2024, 11, 21, 13, 9, 31, 828753),\n",
       "  'Diferencia': datetime.timedelta(seconds=35, microseconds=387740)},\n",
       " 'GradientBoosting_GradientBoostingClassifier(random_state=42)': {'Tiempo inicio': datetime.datetime(2024, 11, 21, 13, 9, 31, 828753),\n",
       "  'Tiempo fin': datetime.datetime(2024, 11, 21, 13, 9, 45, 32242),\n",
       "  'Diferencia': datetime.timedelta(seconds=13, microseconds=203489)},\n",
       " 'NaiveBayes_GaussianNB()': {'Tiempo inicio': datetime.datetime(2024, 11, 21, 13, 9, 45, 32242),\n",
       "  'Tiempo fin': datetime.datetime(2024, 11, 21, 13, 9, 52, 264223),\n",
       "  'Diferencia': datetime.timedelta(seconds=7, microseconds=231981)},\n",
       " 'LogisticRegression_LogisticRegression(max_iter=1000, random_state=42)': {'Tiempo inicio': datetime.datetime(2024, 11, 21, 13, 9, 52, 264223),\n",
       "  'Tiempo fin': datetime.datetime(2024, 11, 21, 13, 9, 59, 209669),\n",
       "  'Diferencia': datetime.timedelta(seconds=6, microseconds=945446)},\n",
       " 'MLP_MLPClassifier(max_iter=1000, random_state=42)': {'Tiempo inicio': datetime.datetime(2024, 11, 21, 13, 9, 59, 209669),\n",
       "  'Tiempo fin': datetime.datetime(2024, 11, 21, 13, 10, 15, 177122),\n",
       "  'Diferencia': datetime.timedelta(seconds=15, microseconds=967453)}}"
      ]
     },
     "metadata": {},
     "output_type": "display_data"
    }
   ],
   "source": [
    "display(tiempos_clasificadores)"
   ]
  },
  {
   "cell_type": "code",
   "execution_count": 20,
   "metadata": {},
   "outputs": [],
   "source": [
    "# Guardar resultados en un único CSV\n",
    "resultados_df = pd.DataFrame(resultados_totales)\n",
    "resultados_df.to_csv('resultados_completos.csv', index=False)"
   ]
  },
  {
   "cell_type": "code",
   "execution_count": 21,
   "metadata": {},
   "outputs": [
    {
     "name": "stdout",
     "output_type": "stream",
     "text": [
      "                                               dataset       subset  \\\n",
      "1      balanceado_demographic_data_with_Agorafobia.csv  demographic   \n",
      "65        balanceado_economic_data_with_Agorafobia.csv     economic   \n",
      "130         balanceado_health_data_with_Agorafobia.csv       health   \n",
      "195         balanceado_living_data_with_Agorafobia.csv       living   \n",
      "9        balanceado_demographic_data_with_Ansiedad.csv  demographic   \n",
      "71          balanceado_economic_data_with_Ansiedad.csv     economic   \n",
      "134           balanceado_health_data_with_Ansiedad.csv       health   \n",
      "198           balanceado_living_data_with_Ansiedad.csv       living   \n",
      "16      balanceado_demographic_data_with_Depresión.csv  demographic   \n",
      "77         balanceado_economic_data_with_Depresión.csv     economic   \n",
      "143          balanceado_health_data_with_Depresión.csv       health   \n",
      "209          balanceado_living_data_with_Depresión.csv       living   \n",
      "21     balanceado_demographic_data_with_Hostilidad.csv  demographic   \n",
      "86        balanceado_economic_data_with_Hostilidad.csv     economic   \n",
      "147         balanceado_health_data_with_Hostilidad.csv       health   \n",
      "212         balanceado_living_data_with_Hostilidad.csv       living   \n",
      "28   balanceado_demographic_data_with_Ideación para...  demographic   \n",
      "92   balanceado_economic_data_with_Ideación paranoi...     economic   \n",
      "154  balanceado_health_data_with_Ideación paranoide...       health   \n",
      "218  balanceado_living_data_with_Ideación paranoide...       living   \n",
      "36   balanceado_demographic_data_with_Obsesión-comp...  demographic   \n",
      "99   balanceado_economic_data_with_Obsesión-compuls...     economic   \n",
      "161  balanceado_health_data_with_Obsesión-compulsió...       health   \n",
      "225  balanceado_living_data_with_Obsesión-compulsió...       living   \n",
      "48   balanceado_demographic_data_with_Psicoticismo.csv  demographic   \n",
      "109     balanceado_economic_data_with_Psicoticismo.csv     economic   \n",
      "170       balanceado_health_data_with_Psicoticismo.csv       health   \n",
      "232       balanceado_living_data_with_Psicoticismo.csv       living   \n",
      "49   balanceado_demographic_data_with_Sensibilidad ...  demographic   \n",
      "112  balanceado_economic_data_with_Sensibilidad int...     economic   \n",
      "175  balanceado_health_data_with_Sensibilidad inter...       health   \n",
      "241  balanceado_living_data_with_Sensibilidad inter...       living   \n",
      "58   balanceado_demographic_data_with_Somatización.csv  demographic   \n",
      "120     balanceado_economic_data_with_Somatización.csv     economic   \n",
      "183       balanceado_health_data_with_Somatización.csv       health   \n",
      "247       balanceado_living_data_with_Somatización.csv       living   \n",
      "\n",
      "                       etiqueta         algoritmo  \\\n",
      "1                    Agorafobia      RandomForest   \n",
      "65                   Agorafobia               SVM   \n",
      "130                  Agorafobia        NaiveBayes   \n",
      "195                  Agorafobia               MLP   \n",
      "9                      Ansiedad               SVM   \n",
      "71                     Ansiedad      RandomForest   \n",
      "134                    Ansiedad      RandomForest   \n",
      "198                    Ansiedad               SVM   \n",
      "16                    Depresión               SVM   \n",
      "77                    Depresión      DecisionTree   \n",
      "143                   Depresión  GradientBoosting   \n",
      "209                   Depresión               MLP   \n",
      "21                   Hostilidad      DecisionTree   \n",
      "86                   Hostilidad               SVM   \n",
      "147                  Hostilidad      DecisionTree   \n",
      "212                  Hostilidad               SVM   \n",
      "28           Ideación paranoide      DecisionTree   \n",
      "92           Ideación paranoide      RandomForest   \n",
      "154          Ideación paranoide      DecisionTree   \n",
      "218          Ideación paranoide      RandomForest   \n",
      "36          Obsesión-compulsión      RandomForest   \n",
      "99          Obsesión-compulsión      RandomForest   \n",
      "161         Obsesión-compulsión      DecisionTree   \n",
      "225         Obsesión-compulsión      RandomForest   \n",
      "48                 Psicoticismo               MLP   \n",
      "109                Psicoticismo        NaiveBayes   \n",
      "170                Psicoticismo               SVM   \n",
      "232                Psicoticismo      RandomForest   \n",
      "49   Sensibilidad interpersonal      DecisionTree   \n",
      "112  Sensibilidad interpersonal      DecisionTree   \n",
      "175  Sensibilidad interpersonal      DecisionTree   \n",
      "241  Sensibilidad interpersonal  GradientBoosting   \n",
      "58                 Somatización               SVM   \n",
      "120                Somatización      RandomForest   \n",
      "183                Somatización      RandomForest   \n",
      "247                Somatización               SVM   \n",
      "\n",
      "                               Mejores Hiperparámetros  Mean Train Accuracy  \\\n",
      "1    {'max_depth': None, 'min_samples_leaf': 1, 'mi...             0.928811   \n",
      "65   {'C': 10, 'degree': 3, 'gamma': 'scale', 'kern...             0.880083   \n",
      "130                            {'var_smoothing': 0.01}             0.927274   \n",
      "195  {'activation': 'relu', 'alpha': 0.0001, 'hidde...             0.906034   \n",
      "9    {'C': 10, 'degree': 3, 'gamma': 'scale', 'kern...             0.817455   \n",
      "71   {'max_depth': None, 'min_samples_leaf': 1, 'mi...             0.971656   \n",
      "134  {'max_depth': None, 'min_samples_leaf': 1, 'mi...             0.954012   \n",
      "198  {'C': 10, 'degree': 3, 'gamma': 'scale', 'kern...             0.823028   \n",
      "16   {'C': 10, 'degree': 3, 'gamma': 'auto', 'kerne...             0.850917   \n",
      "77   {'criterion': 'entropy', 'max_depth': None, 'm...             0.931168   \n",
      "143  {'learning_rate': 0.2, 'max_depth': 5, 'n_esti...             0.968408   \n",
      "209  {'activation': 'relu', 'alpha': 0.0001, 'hidde...             0.733417   \n",
      "21   {'criterion': 'entropy', 'max_depth': 10, 'min...             0.911466   \n",
      "86   {'C': 10, 'degree': 3, 'gamma': 'scale', 'kern...             0.892518   \n",
      "147  {'criterion': 'gini', 'max_depth': None, 'min_...             0.956719   \n",
      "212  {'C': 1, 'degree': 3, 'gamma': 'auto', 'kernel...             0.839408   \n",
      "28   {'criterion': 'gini', 'max_depth': None, 'min_...             0.922365   \n",
      "92   {'max_depth': 10, 'min_samples_leaf': 2, 'min_...             0.953152   \n",
      "154  {'criterion': 'gini', 'max_depth': None, 'min_...             0.923875   \n",
      "218  {'max_depth': 10, 'min_samples_leaf': 1, 'min_...             0.960895   \n",
      "36   {'max_depth': 10, 'min_samples_leaf': 1, 'min_...             0.909586   \n",
      "99   {'max_depth': None, 'min_samples_leaf': 1, 'mi...             0.976445   \n",
      "161  {'criterion': 'gini', 'max_depth': None, 'min_...             0.940396   \n",
      "225  {'max_depth': 10, 'min_samples_leaf': 2, 'min_...             0.953496   \n",
      "48   {'activation': 'relu', 'alpha': 0.001, 'hidden...             0.868295   \n",
      "109                            {'var_smoothing': 0.01}             0.839162   \n",
      "170  {'C': 10, 'degree': 3, 'gamma': 'auto', 'kerne...             0.873590   \n",
      "232  {'max_depth': 10, 'min_samples_leaf': 1, 'min_...             0.964954   \n",
      "49   {'criterion': 'gini', 'max_depth': 10, 'min_sa...             0.895975   \n",
      "112  {'criterion': 'entropy', 'max_depth': 10, 'min...             0.919753   \n",
      "175  {'criterion': 'gini', 'max_depth': None, 'min_...             0.954938   \n",
      "241  {'learning_rate': 0.1, 'max_depth': 3, 'n_esti...             0.944393   \n",
      "58   {'C': 10, 'degree': 3, 'gamma': 'auto', 'kerne...             0.816985   \n",
      "120  {'max_depth': None, 'min_samples_leaf': 1, 'mi...             0.961346   \n",
      "183  {'max_depth': None, 'min_samples_leaf': 1, 'mi...             0.967430   \n",
      "247  {'C': 10, 'degree': 3, 'gamma': 'scale', 'kern...             0.843877   \n",
      "\n",
      "     Std Train Accuracy  Mean Val Accuracy  Std Val Accuracy  \\\n",
      "1              0.012891           0.843237          0.005854   \n",
      "65             0.095201           0.803215          0.081635   \n",
      "130            0.087340           0.926141          0.089246   \n",
      "195            0.078302           0.812174          0.037656   \n",
      "9              0.055532           0.775857          0.031787   \n",
      "71             0.011193           0.857510          0.005127   \n",
      "134            0.001574           0.949383          0.006295   \n",
      "198            0.107424           0.753704          0.062687   \n",
      "16             0.044681           0.802739          0.028542   \n",
      "77             0.022905           0.787255          0.013479   \n",
      "143            0.007878           0.953667          0.007848   \n",
      "209            0.036660           0.710359          0.034639   \n",
      "21             0.025027           0.851601          0.014791   \n",
      "86             0.076793           0.828730          0.055713   \n",
      "147            0.012529           0.941104          0.007305   \n",
      "212            0.101613           0.767532          0.069257   \n",
      "28             0.017300           0.836866          0.016296   \n",
      "92             0.015980           0.869154          0.008874   \n",
      "154            0.005669           0.910376          0.024747   \n",
      "218            0.019791           0.856310          0.006737   \n",
      "36             0.023986           0.824014          0.014970   \n",
      "99             0.009806           0.882008          0.007118   \n",
      "161            0.005738           0.932704          0.010574   \n",
      "225            0.021183           0.883626          0.007763   \n",
      "48             0.073738           0.799487          0.030659   \n",
      "109            0.041501           0.825990          0.037443   \n",
      "170            0.074309           0.854231          0.068259   \n",
      "232            0.016284           0.795264          0.013491   \n",
      "49             0.024228           0.785854          0.010074   \n",
      "112            0.030135           0.815535          0.014772   \n",
      "175            0.010068           0.946914          0.006984   \n",
      "241            0.054026           0.807545          0.017386   \n",
      "58             0.058644           0.763567          0.030933   \n",
      "120            0.013781           0.877231          0.007798   \n",
      "183            0.000891           0.963712          0.005286   \n",
      "247            0.092683           0.777082          0.074792   \n",
      "\n",
      "     Mean Sensibilidad Train  ...  Mean Especificidad Train  \\\n",
      "1                   0.916712  ...                  0.964073   \n",
      "65                  0.934267  ...                  1.000000   \n",
      "130                 0.928803  ...                  1.000000   \n",
      "195                 0.868512  ...                  0.949589   \n",
      "9                   0.767784  ...                  0.980952   \n",
      "71                  0.963219  ...                  0.992773   \n",
      "134                 0.918654  ...                  0.992619   \n",
      "198                 0.832521  ...                  0.986793   \n",
      "16                  0.858647  ...                  0.978084   \n",
      "77                  0.900414  ...                  0.984072   \n",
      "143                 0.944448  ...                  1.000000   \n",
      "209                 0.743838  ...                  0.884120   \n",
      "21                  0.886079  ...                  0.943512   \n",
      "86                  0.906041  ...                  1.000000   \n",
      "147                 0.940192  ...                  1.000000   \n",
      "212                 0.822789  ...                  1.000000   \n",
      "28                  0.894059  ...                  0.978232   \n",
      "92                  0.896595  ...                  1.000000   \n",
      "154                 0.856110  ...                  1.000000   \n",
      "218                 0.951349  ...                  1.000000   \n",
      "36                  0.830195  ...                  0.979296   \n",
      "99                  0.977619  ...                  0.981289   \n",
      "161                 0.902944  ...                  0.992505   \n",
      "225                 0.882504  ...                  0.982999   \n",
      "48                  0.962600  ...                  0.968882   \n",
      "109                 0.763253  ...                  0.937571   \n",
      "170                 0.839807  ...                  1.000000   \n",
      "232                 0.943706  ...                  0.979955   \n",
      "49                  0.834040  ...                  0.955616   \n",
      "112                 0.883087  ...                  0.943865   \n",
      "175                 0.932820  ...                  0.992619   \n",
      "241                 0.882606  ...                  0.981106   \n",
      "58                  0.781920  ...                  0.991857   \n",
      "120                 0.934302  ...                  0.988214   \n",
      "183                 0.936603  ...                  1.000000   \n",
      "247                 0.831153  ...                  0.994127   \n",
      "\n",
      "     Varianza Especificidad Train  Mean Sensibilidad Val  \\\n",
      "1                        0.000249               0.795709   \n",
      "65                       0.000000               0.902117   \n",
      "130                      0.000000               0.922201   \n",
      "195                      0.000185               0.786807   \n",
      "9                        0.000412               0.686967   \n",
      "71                       0.000042               0.867043   \n",
      "134                      0.000014               0.919424   \n",
      "198                      0.000066               0.763158   \n",
      "16                       0.000213               0.753424   \n",
      "77                       0.000106               0.714364   \n",
      "143                      0.000000               0.920030   \n",
      "209                      0.012365               0.692303   \n",
      "21                       0.000668               0.817606   \n",
      "86                       0.000000               0.861103   \n",
      "147                      0.000000               0.910459   \n",
      "212                      0.000000               0.785163   \n",
      "28                       0.000088               0.786136   \n",
      "92                       0.000000               0.800323   \n",
      "154                      0.000000               0.861795   \n",
      "218                      0.000000               0.780652   \n",
      "36                       0.000088               0.755517   \n",
      "99                       0.000104               0.880870   \n",
      "161                      0.000014               0.863052   \n",
      "225                      0.000124               0.813348   \n",
      "48                       0.000204               0.874392   \n",
      "109                      0.000071               0.766954   \n",
      "170                      0.000000               0.839156   \n",
      "232                      0.000267               0.805838   \n",
      "49                       0.000540               0.676316   \n",
      "112                      0.000518               0.782895   \n",
      "175                      0.000014               0.901880   \n",
      "241                      0.000177               0.754323   \n",
      "58                       0.000142               0.720273   \n",
      "120                      0.000053               0.830545   \n",
      "183                      0.000000               0.937121   \n",
      "247                      0.000023               0.778606   \n",
      "\n",
      "     Varianza Sensibilidad Val  Mean Especificidad Val  \\\n",
      "1                     0.025505                0.900935   \n",
      "65                    0.002883                0.966667   \n",
      "130                   0.002211                1.000000   \n",
      "195                   0.001768                0.880300   \n",
      "9                     0.018364                0.958555   \n",
      "71                    0.002481                0.871550   \n",
      "134                   0.000570                0.993333   \n",
      "198                   0.005554                0.955379   \n",
      "16                    0.004288                0.940878   \n",
      "77                    0.004766                0.867005   \n",
      "143                   0.002950                1.000000   \n",
      "209                   0.027112                0.810053   \n",
      "21                    0.008423                0.919192   \n",
      "86                    0.012010                0.990000   \n",
      "147                   0.001490                1.000000   \n",
      "212                   0.012233                0.992593   \n",
      "28                    0.017652                0.903376   \n",
      "92                    0.005827                0.918929   \n",
      "154                   0.006438                1.000000   \n",
      "218                   0.002422                0.870265   \n",
      "36                    0.007932                0.940901   \n",
      "99                    0.002985                0.894132   \n",
      "161                   0.006532                0.992857   \n",
      "225                   0.005432                0.924901   \n",
      "48                    0.005284                0.829760   \n",
      "109                   0.003971                0.938690   \n",
      "170                   0.009195                1.000000   \n",
      "232                   0.002118                0.839264   \n",
      "49                    0.002236                0.902838   \n",
      "112                   0.000626                0.854161   \n",
      "175                   0.002841                0.993333   \n",
      "241                   0.007755                0.856876   \n",
      "58                    0.010117                0.926921   \n",
      "120                   0.002907                0.860127   \n",
      "183                   0.002179                1.000000   \n",
      "247                   0.004326                0.974603   \n",
      "\n",
      "     Varianza Especificidad Val  Accuracy Test  Sensibilidad Test  \\\n",
      "1                      0.005042       0.900000           0.880000   \n",
      "65                     0.004444       0.940000           0.880000   \n",
      "130                    0.000000       0.980000           0.960000   \n",
      "195                    0.008351       0.900000           0.880000   \n",
      "9                      0.000760       0.897059           0.794118   \n",
      "71                     0.003476       0.852941           0.823529   \n",
      "134                    0.000178       0.926471           0.911765   \n",
      "198                    0.001525       0.941176           0.911765   \n",
      "16                     0.001375       0.875000           0.812500   \n",
      "77                     0.000214       0.859375           0.781250   \n",
      "143                    0.000000       0.953125           0.906250   \n",
      "209                    0.038791       0.843750           0.843750   \n",
      "21                     0.005020       0.813559           0.655172   \n",
      "86                     0.000400       0.915254           0.862069   \n",
      "147                    0.000000       0.966102           0.931034   \n",
      "212                    0.000219       0.881356           0.793103   \n",
      "28                     0.005012       0.923077           0.961538   \n",
      "92                     0.003747       0.961538           0.923077   \n",
      "154                    0.000000       1.000000           1.000000   \n",
      "218                    0.006308       0.903846           0.923077   \n",
      "36                     0.004388       0.895522           0.818182   \n",
      "99                     0.000905       0.880597           0.939394   \n",
      "161                    0.000204       0.985075           0.969697   \n",
      "225                    0.001740       0.895522           0.878788   \n",
      "48                     0.007630       0.875000           0.821429   \n",
      "109                    0.000884       0.875000           0.750000   \n",
      "170                    0.000000       0.910714           0.821429   \n",
      "232                    0.005827       0.928571           0.892857   \n",
      "49                     0.004450       0.852941           0.735294   \n",
      "112                    0.005996       0.911765           0.882353   \n",
      "175                    0.000178       0.926471           0.882353   \n",
      "241                    0.005869       0.838235           0.735294   \n",
      "58                     0.002040       0.875000           0.812500   \n",
      "120                    0.005601       0.890625           0.843750   \n",
      "183                    0.000000       0.921875           0.843750   \n",
      "247                    0.000993       0.875000           0.812500   \n",
      "\n",
      "     Especificidad Test                               Mean SHAP Values  \n",
      "1              0.920000     [0.03421667759488047, -0.0342166775948804]  \n",
      "65             1.000000                           -0.06397306397306396  \n",
      "130            1.000000   [0.045454545454244925, -0.04545454545424487]  \n",
      "195            0.920000  [0.037948586529121586, -0.037948586529121586]  \n",
      "9              1.000000                           -0.03581267217630853  \n",
      "71             0.882353  [0.024271017048794863, -0.024271017048794887]  \n",
      "134            0.941176   [-0.04027777777777778, 0.040277777777777746]  \n",
      "198            0.970588                           -0.04242424242424242  \n",
      "16             0.937500                             0.0606060606060606  \n",
      "77             0.937500    [-0.053905390539053896, 0.0539053905390539]  \n",
      "143            1.000000                             1.4469977396833416  \n",
      "209            0.843750  [0.001167749303005916, -0.001167749303005916]  \n",
      "21             0.966667    [-0.04326689353427322, 0.04326689353427321]  \n",
      "86             0.966667                            0.06734006734006734  \n",
      "147            1.000000  [-0.039661319073083796, 0.039661319073083776]  \n",
      "212            0.966667                           0.060606060606060594  \n",
      "28             0.884615     [0.0468154599891127, -0.04681545998911267]  \n",
      "92             1.000000   [0.02766436120960548, -0.027664361209605453]  \n",
      "154            1.000000      [-0.0404191616766467, 0.0404191616766467]  \n",
      "218            0.884615   [0.035051965758442286, -0.03505196575844227]  \n",
      "36             0.970588  [-0.045575379967903326, 0.045575379967903326]  \n",
      "99             0.823529    [-0.04748512969281397, 0.04748512969281403]  \n",
      "161            1.000000   [-0.04166666666666666, 0.041666666666666664]  \n",
      "225            0.911765  [-0.027249602574994064, 0.027249602574994102]  \n",
      "48             0.928571     [0.04393380940568659, -0.0439338094056866]  \n",
      "109            1.000000   [0.045486242718972676, -0.04548624271897263]  \n",
      "170            1.000000                           -0.03535353535353535  \n",
      "232            0.964286    [0.05072853535353535, -0.05072853535353533]  \n",
      "49             0.970588    [-0.04419191919191918, 0.04419191919191918]  \n",
      "112            0.941176  [-0.016975308641975315, 0.016975308641975315]  \n",
      "175            0.970588    [-0.04050925925925926, 0.04050925925925926]  \n",
      "241            0.941176                           -0.14168247118103774  \n",
      "58             0.937500                            0.06336088154269973  \n",
      "120            0.937500   [-0.042183747475276576, 0.04218374747527663]  \n",
      "183            1.000000    [-0.040808580858085815, 0.0408085808580858]  \n",
      "247            0.937500                            0.06666666666666667  \n",
      "\n",
      "[36 rows x 21 columns]\n"
     ]
    }
   ],
   "source": [
    "# Cargar el archivo CSV de resultados\n",
    "archivo = 'resultados_entrenamiento.csv'\n",
    "df_resultados = pd.read_csv(archivo)\n",
    "\n",
    "# Agrupar por `etiqueta` y `subset`, y seleccionar el modelo con mayor `Accuracy Test` en cada grupo\n",
    "mejores_modelos = df_resultados.loc[df_resultados.groupby(['etiqueta', 'subset'])['Accuracy Test'].idxmax()]\n",
    "\n",
    "# Mostrar los mejores modelos para cada combinación de `etiqueta` y `subset`\n",
    "print(mejores_modelos)\n",
    "\n",
    "# Guardar los resultados en un nuevo archivo CSV si deseas conservarlos\n",
    "mejores_modelos.to_csv(\"mejores_modelos_por_etiqueta_subset.csv\", index=False, sep=';')\n"
   ]
  },
  {
   "cell_type": "code",
   "execution_count": 22,
   "metadata": {},
   "outputs": [
    {
     "name": "stdout",
     "output_type": "stream",
     "text": [
      "2024-11-21 13:10:16.130461\n",
      "1:03:21.746524\n"
     ]
    }
   ],
   "source": [
    "hora_fin_codigo = datetime.datetime.now()\n",
    "print(hora_fin_codigo)\n",
    "print(hora_fin_codigo - hora_inicio_codigo)"
   ]
  }
 ],
 "metadata": {
  "accelerator": "GPU",
  "colab": {
   "authorship_tag": "ABX9TyPEDb2wd1Jow/Gow/yEIRLp",
   "gpuType": "T4",
   "provenance": []
  },
  "kernelspec": {
   "display_name": "Python 3 (ipykernel)",
   "language": "python",
   "name": "python3"
  },
  "language_info": {
   "codemirror_mode": {
    "name": "ipython",
    "version": 3
   },
   "file_extension": ".py",
   "mimetype": "text/x-python",
   "name": "python",
   "nbconvert_exporter": "python",
   "pygments_lexer": "ipython3",
   "version": "3.12.7"
  }
 },
 "nbformat": 4,
 "nbformat_minor": 4
}
