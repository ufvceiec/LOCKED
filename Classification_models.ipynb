{
 "cells": [
  {
   "cell_type": "code",
   "execution_count": 1,
   "metadata": {},
   "outputs": [
    {
     "name": "stdout",
     "output_type": "stream",
     "text": [
      "Requirement already satisfied: pympler in c:\\users\\ceiec09\\anaconda3\\lib\\site-packages (1.1)\n",
      "Requirement already satisfied: pywin32>=226 in c:\\users\\ceiec09\\anaconda3\\lib\\site-packages (from pympler) (305.1)\n"
     ]
    }
   ],
   "source": [
    "!pip install pympler"
   ]
  },
  {
   "cell_type": "code",
   "execution_count": 2,
   "metadata": {},
   "outputs": [
    {
     "name": "stdout",
     "output_type": "stream",
     "text": [
      "2024-11-22 09:59:59.161064\n"
     ]
    }
   ],
   "source": [
    "import datetime\n",
    "hora_inicio_codigo = datetime.datetime.now()\n",
    "print(hora_inicio_codigo)"
   ]
  },
  {
   "cell_type": "code",
   "execution_count": 3,
   "metadata": {
    "executionInfo": {
     "elapsed": 2536,
     "status": "ok",
     "timestamp": 1726144347515,
     "user": {
      "displayName": "BERTA PADILLA BAEZA",
      "userId": "17038178126289984285"
     },
     "user_tz": -120
    },
    "id": "f8WHPvknAQFr"
   },
   "outputs": [],
   "source": [
    "import numpy as np\n",
    "import matplotlib.pyplot as plt\n",
    "import pandas as pd\n",
    "import seaborn as sns\n",
    "\n",
    "import csv\n",
    "import math\n",
    "import os\n",
    "import chardet\n",
    "import shap\n",
    "from tqdm import tqdm\n",
    "\n",
    "from imblearn.over_sampling import SMOTE\n",
    "from sklearn.tree import DecisionTreeClassifier\n",
    "from sklearn.ensemble import RandomForestClassifier, GradientBoostingClassifier\n",
    "from sklearn.svm import SVC\n",
    "from sklearn.naive_bayes import GaussianNB\n",
    "from sklearn.linear_model import LogisticRegression\n",
    "from sklearn.neural_network import MLPClassifier\n",
    "from sklearn.model_selection import KFold, GridSearchCV, StratifiedKFold, train_test_split, cross_val_predict\n",
    "from sklearn.metrics import accuracy_score, confusion_matrix, mean_squared_error\n",
    "\n",
    "from pympler import asizeof\n",
    "import joblib"
   ]
  },
  {
   "cell_type": "code",
   "execution_count": null,
   "metadata": {
    "colab": {
     "base_uri": "https://localhost:8080/",
     "height": 1000
    },
    "editable": true,
    "executionInfo": {
     "elapsed": 5557,
     "status": "ok",
     "timestamp": 1726144398672,
     "user": {
      "displayName": "BERTA PADILLA BAEZA",
      "userId": "17038178126289984285"
     },
     "user_tz": -120
    },
    "id": "Ywp9i282B5y8",
    "outputId": "8a9f41c1-134b-46f2-f836-463328424002",
    "slideshow": {
     "slide_type": ""
    },
    "tags": []
   },
   "outputs": [
    {
     "name": "stdout",
     "output_type": "stream",
     "text": [
      "Codificación detectada: utf-8\n",
      "Codificación detectada: utf-8\n"
     ]
    }
   ],
   "source": [
    "data_file = './csv_final/final_data_numeric.csv'\n",
    "\n",
    "with open(data_file, 'rb') as file:\n",
    "    resultado = chardet.detect(file.read(10000))\n",
    "\n",
    "# Ver la codificación detectada\n",
    "print(f\"Codificación detectada: {resultado['encoding']}\")\n",
    "\n",
    "# Leer el archivo CSV con la codificación detectada\n",
    "data = pd.read_csv(data_file, sep=';', encoding=resultado['encoding'])\n",
    "\n",
    "y_file = './csv_final/result.csv'\n",
    "\n",
    "# Ver la codificación detectada\n",
    "print(f\"Codificación detectada: {resultado['encoding']}\")\n",
    "\n",
    "# Leer el archivo CSV con la codificación detectada\n",
    "y = pd.read_csv(y_file, sep=';', encoding=resultado['encoding'])"
   ]
  },
  {
   "cell_type": "markdown",
   "metadata": {
    "id": "AoXGFgO-DvBG"
   },
   "source": [
    "# Separamos en X_Train, X_Test, y_train, y_test"
   ]
  },
  {
   "cell_type": "code",
   "execution_count": 5,
   "metadata": {
    "editable": true,
    "slideshow": {
     "slide_type": ""
    },
    "tags": []
   },
   "outputs": [],
   "source": [
    "# Definición de las columnas para cada subset (ajustado según los nombres exactos)\n",
    "demographic_columns = [\n",
    "    'por_favor_indique_el_genero_con_el_que_se_identifica:',  # Gender\n",
    "    'indique_su_estado_civil:',  # Marital Status\n",
    "    '¿tiene_la_nacionalidad_europea?',  # Nationality\n",
    "    '¿cual_es_el_estado_actual_de_su_documentacion?',  # Current Documentation Status\n",
    "    '¿cual_es_el_maximo_nivel_educativo_que_ha_terminado?',  # Education Level\n",
    "    'por_favor,_indique_su_estructura_de_convivencia_habitual_durante_los_12_meses_anteriores_al_confinamiento:',  # Family Structure before COVID\n",
    "    'por_favor,_indique_su_estructura_de_convivencia_habitual_durante_la_reclusion:',  # Family Structure during COVID\n",
    "    'por_favor_indique_el_numero_de_menores_a_su_cargo_durante_la_cuarentena:',  # Number of Minors in Care During COVID\n",
    "    'por_favor_indique_el_numero_de_personas_dependientes_mayores_de_18_años_a_su_cargo_(incluyendo_personas_mayores,_personas_con_diversidad_funcional)_durante_la_cuarentena:',  # Number of Dependents\n",
    "    'por_favor,_indique_con_cuanta_gente_tenia_contacto_habitualmente_en_un_dia_normal_antes__de_la_cuarentena_(incluyendo_el_hogar,_lo_laboral,_lo_social...)._nos_referimos_a_contactos_individuales_cara_a_cara,_es_decir,_con_las_que_charla_o_trata_diferentes_asuntos_en_persona.',  # Social Contacts Before COVID\n",
    "    'por_favor,_indique_con_cuanta_gente_tiene/tuvo_contacto_habitualmente_en_un_dia_normal_durante_la_cuarentena__(incluyendo_el_hogar,_lo_laboral,_lo_social...)._nos_referimos_a_contactos_individuales_cara_a_cara,_es_decir,_con_las_que_charla_o_trata_diferentes_asuntos_en_persona.'  # Social Contacts During COVID\n",
    "    ]\n",
    "\n",
    "living_columns = [\n",
    "    'por_favor,_indique_el_espacio_en_el_que_vive/vivia_durante_el_confinamiento:',  # Type of Living Space During Confinement\n",
    "    'por_favor_indique_si_es_dueño_de_su_vivienda_o_vive_alquilado/a:',  # Property Ownership\n",
    "    '¿cuantos_metros_cuadrados_utiles_(los_que_puede_pisar)_tiene/tenia_su_espacio_de_residencia_durante_la_cuarentena?',  # Square Meters of Living Space\n",
    "    'diria_que_su_espacio_de_residencia_durante_la_cuarentena_tiene:',  # Light During Quarantine\n",
    "    'diria_que_su_espacio_de_residencia_durante_la_cuarentena_tiene:.1',  # Ventilation During Quarantine\n",
    "    'teniendo_en_mente_su_lugar_de_residencia_durante_el_confinamiento,_por_favor,_indique._numero_de_habitaciones_sin_contar_baño_y_cocina:',  # Number of Rooms\n",
    "    'teniendo_en_mente_su_lugar_de_residencia_durante_el_confinamiento,_por_favor,_indique._numero_de_personas_con_las_que_cohabitaba/cohabita:',  # Number of Cohabitants\n",
    "    'teniendo_en_mente_su_lugar_de_residencia_durante_el_confinamiento,_por_favor,_indique._numero_de_personas_en_su_mismo_dormitorio_excluyendose_a_usted_mismo/a:',  # Number of Cohabitants in the Same Room\n",
    "    '¿cuantas_veces_a_la_semana_ha_salido_de_casa_durante_la_cuarentena?',  # Outings During Quarantine\n",
    "    'la_idea_de_que_deberia_ser_castigado/a_por_sus_pecados',  # Assessment of Self Punishment\n",
    "]\n",
    "\n",
    "economic_columns = [\n",
    "    'situacion_laboral_antes_(en_los_12_meses_anteriores_al_inicio_de_la_cuarentena_o_la_mayor_parte_de_ese_tiempo)',  # Employment Status Before Quarantine\n",
    "    '¿que_duracion_tenia_su_jornada_laboral_antes_(en_los_12_meses_anteriores_al_inicio_de_la_cuarentena_o_la_mayor_parte_de_ese_tiempo):',  # Working Hours Before Quarantine\n",
    "    '¿cual_ha_sido_su_situacion_laboral_durante_la_cuarentena?',  # Employment Status During Quarantine\n",
    "    '¿cual_considera_que_podria_ser_su_situacion_laboral_o_academica_despu√âs_de_la_crisis_provocada_por_el_coronavirus_(en_los_12_meses_posteriores_al_fin_de_la_cuarentena_o_la_mayor_parte_de_ese_tiempo):?',  # Employment Status After Quarantine\n",
    "    'en_los_ultimos_12_meses_antes_del_confinamiento,_¿cual_fue_la_principal_ocupacion_de_la_persona_que_aporta_un_mayor_importe_economico_al_hogar?',  # Occupation of the Person with the Highest Economic Contribution\n",
    "    '¿cual_era_el_nivel_aproximado_de_ingresos_mensuales_netos_regulares_en_su_hogar_(unidad_en_la_que_se_comparten_gastos:_individuo,_pareja,_familia...)_antes_de_la_cuarentena_(en_los_12_meses_anteriores_al_inicio_de_la_cuarentena_o_la_mayor_parte_de_ese_tiempo):',  # Net Monthly Income Before COVID\n",
    "    '¿cual_era_el_nivel_aproximado_de_ingresos_mensuales_netos_regulares_en_su_hogar_(unidad_en_la_que_se_comparten_gastos:_individuo,_pareja,_familia...)_durante_la_cuarentena:',  # Net Monthly Income During COVID\n",
    "    'durante_el_confinamiento_en_su_hogar:',  # Household Conditions During Confinement\n",
    "    'supongamos_que_usted_(y_su_conyuge_o_pareja)_convierte_en_dinero_todos_sus_fondos_en_cuentas_corrientes_y/o_de_ahorros,_inversiones_en_bolsa,_bonos/letras,_bienes_inmuebles,_y_venden_su_casa,_sus_vehiculos_y_todas_sus_cosas_de_valor._a_continuacion,_supongamos_que_el_dinero_de_todas_estas_operaciones_lo_utiliza_para_pagar_su_hipoteca_y_otros_creditos,_prestamos,_deudas_y_tarjetas_de_credito._¿le_quedaria_dinero_despues_de_pagar_todas_sus_deudas,_o_todavia_deberia_dinero?_(basta_con_un_estimacion_aproximada).',  # Financial Assessment After Liquidation\n",
    "]\n",
    "\n",
    "health_columns = [\n",
    "    'condicion_de_salud',  # Health Condition and Specific Needs\n",
    "    'recibe_tratamiento_o_medicacion_psiquiatrica_actualmente:',  # Psychiatric Treatment\n",
    "    'recibe_tratamiento_psicologico_o_sigue_una_terapia_actualmente:',  # Psychological Treatment\n",
    "    'por_favor_indique_si_necesita_ayuda_para_las_tareas_cotidianas_y_de_autocuidado_como_hacer_la_compra,_realizar_las_tareas_del_hogar,_lavarse_y_peinarse,_cocinar,_gestionar_el_dinero,_etc.',  # Help for Daily Tasks\n",
    "    'por_favor_indique,_si_lo_hay,_el_grado_de_discapacidad_que_indique_su_certificado_%_reconocido_(0_si_no_tiene):',  # Chronic Illness\n",
    "    'por_favor,_indique_si_en_el_pasado_usted_ha_tenido_algun_intento_de_suicidio:',\n",
    "    'por_favor_indique_si_le_han_diagnosticado_de_infeccion_por_coronavirus',\n",
    "    'en_el_caso_de_tener_o_haber_tenido_un_diagnostico_de_coronavirus,_¿como_valoraria_la_severidad_de_la_enfermedad?',\n",
    "    'en_este_caso,_¿permanecio_aislado/a_dentro_del_domicilio_(sin_salir_de_una_habitacion_y_sin_compañia_durante_la_duracion_de_los_sintomas_y_15_dias_mas)?',\n",
    "    'alguna_persona_de_su_familia_diagnosticada_de_infeccion_por_coronavirus,_¿ha_convivido_en_su_hogar_durante_el_proceso_de_su_enfermedad?',\n",
    "    'en_caso_afirmativo,_valore,_por_favor,_la_severidad_de_la_enfermedad_(tenga_en_cuenta_el_de_mayor_gravedad_en_caso_de_ser_varios_casos)',\n",
    "    'familiar_covid'\n",
    "]"
   ]
  },
  {
   "cell_type": "code",
   "execution_count": 6,
   "metadata": {},
   "outputs": [
    {
     "name": "stdout",
     "output_type": "stream",
     "text": [
      "Subconjuntos de datos guardados exitosamente.\n"
     ]
    }
   ],
   "source": [
    "# Crear subconjuntos de datos\n",
    "demographic_df = data[demographic_columns]\n",
    "living_df = data[living_columns]\n",
    "economic_df = data[economic_columns]\n",
    "health_df = data[health_columns]\n",
    "\n",
    "# Guardar los subconjuntos en archivos CSV\n",
    "demographic_df.to_csv('./sets/demographic_data.csv', sep=';', index=False)\n",
    "#display(demographic_df)\n",
    "living_df.to_csv('./sets/living_data.csv', sep=';', index=False)\n",
    "#display(living_df)\n",
    "economic_df.to_csv('./sets/economic_data.csv', sep=';', index=False)\n",
    "#display(economic_df)\n",
    "health_df.to_csv('./sets/health_data.csv', sep=';', index=False)\n",
    "#display(health_df)\n",
    "\n",
    "datasets = [demographic_df, living_df, economic_df, health_df]\n",
    "\n",
    "print(\"Subconjuntos de datos guardados exitosamente.\")"
   ]
  },
  {
   "cell_type": "code",
   "execution_count": 7,
   "metadata": {},
   "outputs": [
    {
     "name": "stdout",
     "output_type": "stream",
     "text": [
      "Archivos en './sets': ['demographic_data.csv', 'economic_data.csv', 'health_data.csv', 'living_data.csv']\n"
     ]
    }
   ],
   "source": [
    "# Directorios\n",
    "input_dir = './sets'\n",
    "output_dir = './entrenamiento'\n",
    "\n",
    "# Asegurarse de que el directorio de salida existe\n",
    "os.makedirs(output_dir, exist_ok=True)\n",
    "\n",
    "# Leer los archivos en el directorio './sets'\n",
    "sub_sets = os.listdir(input_dir)\n",
    "\n",
    "sub_sets = [x for x in sub_sets if x.endswith('.csv')]\n",
    "\n",
    "print(\"Archivos en './sets':\", sub_sets)"
   ]
  },
  {
   "cell_type": "code",
   "execution_count": 8,
   "metadata": {},
   "outputs": [
    {
     "name": "stdout",
     "output_type": "stream",
     "text": [
      "Codificación detectada para demographic_data.csv: EUC-JP\n",
      "Codificación detectada para economic_data.csv: utf-8\n",
      "Codificación detectada para health_data.csv: EUC-JP\n",
      "Codificación detectada para living_data.csv: EUC-JP\n"
     ]
    }
   ],
   "source": [
    "datasets = []\n",
    "\n",
    "# Cargar todos los datasets en la lista datasets\n",
    "for sub_set in sub_sets:\n",
    "    data_file = f'{input_dir}/{sub_set}'\n",
    "    \n",
    "    with open(data_file, 'rb') as file:\n",
    "        resultado = chardet.detect(file.read(10000))\n",
    "\n",
    "    # Ver la codificación detectada\n",
    "    print(f\"Codificación detectada para {sub_set}: {resultado['encoding']}\")\n",
    "    \n",
    "    # Leer el archivo CSV con la codificación detectada\n",
    "    data = pd.read_csv(data_file, sep=';', encoding=resultado['encoding'])\n",
    "    datasets.append((sub_set, data))  # Guarda el nombre del archivo y el DataFrame"
   ]
  },
  {
   "cell_type": "code",
   "execution_count": null,
   "metadata": {},
   "outputs": [
    {
     "name": "stdout",
     "output_type": "stream",
     "text": [
      "Codificación detectada para 'result.csv': utf-8\n",
      "Nombres de las columnas en 'result.csv': ['Hostilidad', 'Somatización', 'Depresión', 'Obsesión-compulsión', 'Ansiedad', 'Sensibilidad interpersonal', 'Agorafobia', 'Ideación paranoide', 'Psicoticismo']\n"
     ]
    }
   ],
   "source": [
    "# Leer el archivo 'result.csv' para obtener las columnas de interés\n",
    "y_file = './csv_final/result.csv'\n",
    "\n",
    "with open(y_file, 'rb') as file:\n",
    "    resultado = chardet.detect(file.read(10000))\n",
    "\n",
    "# Ver la codificación detectada\n",
    "print(f\"Codificación detectada para 'result.csv': {resultado['encoding']}\")\n",
    "\n",
    "# Leer el archivo CSV con la codificación detectada\n",
    "y = pd.read_csv(y_file, sep=';', encoding=resultado['encoding'])\n",
    "\n",
    "# Almacenar los nombres de las columnas en un array\n",
    "columnas = y.columns.to_list()\n",
    "print(\"Nombres de las columnas en 'result.csv':\", columnas)"
   ]
  },
  {
   "cell_type": "code",
   "execution_count": 10,
   "metadata": {},
   "outputs": [
    {
     "name": "stdout",
     "output_type": "stream",
     "text": [
      "Archivo guardado: ./entrenamiento/demographic_data_with_Hostilidad.csv\n",
      "Archivo guardado: ./entrenamiento/demographic_data_with_Somatización.csv\n",
      "Archivo guardado: ./entrenamiento/demographic_data_with_Depresión.csv\n",
      "Archivo guardado: ./entrenamiento/demographic_data_with_Obsesión-compulsión.csv\n",
      "Archivo guardado: ./entrenamiento/demographic_data_with_Ansiedad.csv\n",
      "Archivo guardado: ./entrenamiento/demographic_data_with_Sensibilidad interpersonal.csv\n",
      "Archivo guardado: ./entrenamiento/demographic_data_with_Agorafobia.csv\n",
      "Archivo guardado: ./entrenamiento/demographic_data_with_Ideación paranoide.csv\n",
      "Archivo guardado: ./entrenamiento/demographic_data_with_Psicoticismo.csv\n",
      "Archivo guardado: ./entrenamiento/economic_data_with_Hostilidad.csv\n",
      "Archivo guardado: ./entrenamiento/economic_data_with_Somatización.csv\n",
      "Archivo guardado: ./entrenamiento/economic_data_with_Depresión.csv\n",
      "Archivo guardado: ./entrenamiento/economic_data_with_Obsesión-compulsión.csv\n",
      "Archivo guardado: ./entrenamiento/economic_data_with_Ansiedad.csv\n",
      "Archivo guardado: ./entrenamiento/economic_data_with_Sensibilidad interpersonal.csv\n",
      "Archivo guardado: ./entrenamiento/economic_data_with_Agorafobia.csv\n",
      "Archivo guardado: ./entrenamiento/economic_data_with_Ideación paranoide.csv\n",
      "Archivo guardado: ./entrenamiento/economic_data_with_Psicoticismo.csv\n",
      "Archivo guardado: ./entrenamiento/health_data_with_Hostilidad.csv\n",
      "Archivo guardado: ./entrenamiento/health_data_with_Somatización.csv\n",
      "Archivo guardado: ./entrenamiento/health_data_with_Depresión.csv\n",
      "Archivo guardado: ./entrenamiento/health_data_with_Obsesión-compulsión.csv\n",
      "Archivo guardado: ./entrenamiento/health_data_with_Ansiedad.csv\n",
      "Archivo guardado: ./entrenamiento/health_data_with_Sensibilidad interpersonal.csv\n",
      "Archivo guardado: ./entrenamiento/health_data_with_Agorafobia.csv\n",
      "Archivo guardado: ./entrenamiento/health_data_with_Ideación paranoide.csv\n",
      "Archivo guardado: ./entrenamiento/health_data_with_Psicoticismo.csv\n",
      "Archivo guardado: ./entrenamiento/living_data_with_Hostilidad.csv\n",
      "Archivo guardado: ./entrenamiento/living_data_with_Somatización.csv\n",
      "Archivo guardado: ./entrenamiento/living_data_with_Depresión.csv\n",
      "Archivo guardado: ./entrenamiento/living_data_with_Obsesión-compulsión.csv\n",
      "Archivo guardado: ./entrenamiento/living_data_with_Ansiedad.csv\n",
      "Archivo guardado: ./entrenamiento/living_data_with_Sensibilidad interpersonal.csv\n",
      "Archivo guardado: ./entrenamiento/living_data_with_Agorafobia.csv\n",
      "Archivo guardado: ./entrenamiento/living_data_with_Ideación paranoide.csv\n",
      "Archivo guardado: ./entrenamiento/living_data_with_Psicoticismo.csv\n"
     ]
    }
   ],
   "source": [
    "# Crear nuevos datasets combinando cada sub_set con cada columna de y\n",
    "for sub_set_name, dataset in datasets:\n",
    "    for columna in columnas:\n",
    "        # Crear un nuevo DataFrame con la columna de y y los datos del dataset original\n",
    "        new_dataset = dataset.copy()  # Hacer una copia del dataset original\n",
    "        new_dataset[columna] = y[columna]  # Añadir la columna de 'y' al nuevo dataset\n",
    "        \n",
    "        # Guardar el nuevo DataFrame en un nuevo archivo CSV\n",
    "        output_file = f'{output_dir}/{sub_set_name[:-4]}_with_{columna}.csv'\n",
    "        new_dataset.to_csv(output_file, sep=';', index=False, encoding='utf-8')\n",
    "        \n",
    "        print(f\"Archivo guardado: {output_file}\")"
   ]
  },
  {
   "cell_type": "code",
   "execution_count": 11,
   "metadata": {},
   "outputs": [
    {
     "name": "stdout",
     "output_type": "stream",
     "text": [
      "Datasets encontrados: ['demographic_data_with_Agorafobia.csv', 'demographic_data_with_Ansiedad.csv', 'demographic_data_with_Depresión.csv', 'demographic_data_with_Hostilidad.csv', 'demographic_data_with_Ideación paranoide.csv', 'demographic_data_with_Obsesión-compulsión.csv', 'demographic_data_with_Psicoticismo.csv', 'demographic_data_with_Sensibilidad interpersonal.csv', 'demographic_data_with_Somatización.csv', 'economic_data_with_Agorafobia.csv', 'economic_data_with_Ansiedad.csv', 'economic_data_with_Depresión.csv', 'economic_data_with_Hostilidad.csv', 'economic_data_with_Ideación paranoide.csv', 'economic_data_with_Obsesión-compulsión.csv', 'economic_data_with_Psicoticismo.csv', 'economic_data_with_Sensibilidad interpersonal.csv', 'economic_data_with_Somatización.csv', 'health_data_with_Agorafobia.csv', 'health_data_with_Ansiedad.csv', 'health_data_with_Depresión.csv', 'health_data_with_Hostilidad.csv', 'health_data_with_Ideación paranoide.csv', 'health_data_with_Obsesión-compulsión.csv', 'health_data_with_Psicoticismo.csv', 'health_data_with_Sensibilidad interpersonal.csv', 'health_data_with_Somatización.csv', 'living_data_with_Agorafobia.csv', 'living_data_with_Ansiedad.csv', 'living_data_with_Depresión.csv', 'living_data_with_Hostilidad.csv', 'living_data_with_Ideación paranoide.csv', 'living_data_with_Obsesión-compulsión.csv', 'living_data_with_Psicoticismo.csv', 'living_data_with_Sensibilidad interpersonal.csv', 'living_data_with_Somatización.csv']\n"
     ]
    }
   ],
   "source": [
    "# Directorio donde están los datasets\n",
    "data_dir = './entrenamiento'\n",
    "datasets = os.listdir(data_dir)\n",
    "balanced_dir = './entrenamiento_balanceado'\n",
    "\n",
    "# Crear el directorio si no existe\n",
    "os.makedirs(balanced_dir, exist_ok=True)\n",
    "\n",
    "# Filtrar archivos que no son CSV\n",
    "datasets = [d for d in datasets if d.endswith('.csv')]\n",
    "\n",
    "print(f'Datasets encontrados: {datasets}')"
   ]
  },
  {
   "cell_type": "code",
   "execution_count": 12,
   "metadata": {},
   "outputs": [
    {
     "name": "stderr",
     "output_type": "stream",
     "text": [
      "C:\\Users\\Ceiec09\\AppData\\Local\\Temp\\ipykernel_7884\\1170576296.py:26: SettingWithCopyWarning: \n",
      "A value is trying to be set on a copy of a slice from a DataFrame.\n",
      "Try using .loc[row_indexer,col_indexer] = value instead\n",
      "\n",
      "See the caveats in the documentation: https://pandas.pydata.org/pandas-docs/stable/user_guide/indexing.html#returning-a-view-versus-a-copy\n",
      "  clase_mayoritaria['distancia'] = clase_mayoritaria.drop(columns=str(data_file).split('_')[-1][:-4]).apply(\n",
      "C:\\Users\\Ceiec09\\AppData\\Local\\Temp\\ipykernel_7884\\1170576296.py:26: SettingWithCopyWarning: \n",
      "A value is trying to be set on a copy of a slice from a DataFrame.\n",
      "Try using .loc[row_indexer,col_indexer] = value instead\n",
      "\n",
      "See the caveats in the documentation: https://pandas.pydata.org/pandas-docs/stable/user_guide/indexing.html#returning-a-view-versus-a-copy\n",
      "  clase_mayoritaria['distancia'] = clase_mayoritaria.drop(columns=str(data_file).split('_')[-1][:-4]).apply(\n"
     ]
    },
    {
     "name": "stdout",
     "output_type": "stream",
     "text": [
      "SMOTE y downsampling no aleatorio aplicados. Dataset guardado como: ./entrenamiento_balanceado\\balanceado_demographic_data_with_Agorafobia.csv\n",
      "SMOTE y downsampling no aleatorio aplicados. Dataset guardado como: ./entrenamiento_balanceado\\balanceado_demographic_data_with_Ansiedad.csv\n"
     ]
    },
    {
     "name": "stderr",
     "output_type": "stream",
     "text": [
      "C:\\Users\\Ceiec09\\AppData\\Local\\Temp\\ipykernel_7884\\1170576296.py:26: SettingWithCopyWarning: \n",
      "A value is trying to be set on a copy of a slice from a DataFrame.\n",
      "Try using .loc[row_indexer,col_indexer] = value instead\n",
      "\n",
      "See the caveats in the documentation: https://pandas.pydata.org/pandas-docs/stable/user_guide/indexing.html#returning-a-view-versus-a-copy\n",
      "  clase_mayoritaria['distancia'] = clase_mayoritaria.drop(columns=str(data_file).split('_')[-1][:-4]).apply(\n"
     ]
    },
    {
     "name": "stdout",
     "output_type": "stream",
     "text": [
      "SMOTE y downsampling no aleatorio aplicados. Dataset guardado como: ./entrenamiento_balanceado\\balanceado_demographic_data_with_Depresión.csv\n"
     ]
    },
    {
     "name": "stderr",
     "output_type": "stream",
     "text": [
      "C:\\Users\\Ceiec09\\AppData\\Local\\Temp\\ipykernel_7884\\1170576296.py:26: SettingWithCopyWarning: \n",
      "A value is trying to be set on a copy of a slice from a DataFrame.\n",
      "Try using .loc[row_indexer,col_indexer] = value instead\n",
      "\n",
      "See the caveats in the documentation: https://pandas.pydata.org/pandas-docs/stable/user_guide/indexing.html#returning-a-view-versus-a-copy\n",
      "  clase_mayoritaria['distancia'] = clase_mayoritaria.drop(columns=str(data_file).split('_')[-1][:-4]).apply(\n",
      "C:\\Users\\Ceiec09\\AppData\\Local\\Temp\\ipykernel_7884\\1170576296.py:26: SettingWithCopyWarning: \n",
      "A value is trying to be set on a copy of a slice from a DataFrame.\n",
      "Try using .loc[row_indexer,col_indexer] = value instead\n",
      "\n",
      "See the caveats in the documentation: https://pandas.pydata.org/pandas-docs/stable/user_guide/indexing.html#returning-a-view-versus-a-copy\n",
      "  clase_mayoritaria['distancia'] = clase_mayoritaria.drop(columns=str(data_file).split('_')[-1][:-4]).apply(\n"
     ]
    },
    {
     "name": "stdout",
     "output_type": "stream",
     "text": [
      "SMOTE y downsampling no aleatorio aplicados. Dataset guardado como: ./entrenamiento_balanceado\\balanceado_demographic_data_with_Hostilidad.csv\n",
      "SMOTE y downsampling no aleatorio aplicados. Dataset guardado como: ./entrenamiento_balanceado\\balanceado_demographic_data_with_Ideación paranoide.csv\n"
     ]
    },
    {
     "name": "stderr",
     "output_type": "stream",
     "text": [
      "C:\\Users\\Ceiec09\\AppData\\Local\\Temp\\ipykernel_7884\\1170576296.py:26: SettingWithCopyWarning: \n",
      "A value is trying to be set on a copy of a slice from a DataFrame.\n",
      "Try using .loc[row_indexer,col_indexer] = value instead\n",
      "\n",
      "See the caveats in the documentation: https://pandas.pydata.org/pandas-docs/stable/user_guide/indexing.html#returning-a-view-versus-a-copy\n",
      "  clase_mayoritaria['distancia'] = clase_mayoritaria.drop(columns=str(data_file).split('_')[-1][:-4]).apply(\n",
      "C:\\Users\\Ceiec09\\AppData\\Local\\Temp\\ipykernel_7884\\1170576296.py:26: SettingWithCopyWarning: \n",
      "A value is trying to be set on a copy of a slice from a DataFrame.\n",
      "Try using .loc[row_indexer,col_indexer] = value instead\n",
      "\n",
      "See the caveats in the documentation: https://pandas.pydata.org/pandas-docs/stable/user_guide/indexing.html#returning-a-view-versus-a-copy\n",
      "  clase_mayoritaria['distancia'] = clase_mayoritaria.drop(columns=str(data_file).split('_')[-1][:-4]).apply(\n"
     ]
    },
    {
     "name": "stdout",
     "output_type": "stream",
     "text": [
      "SMOTE y downsampling no aleatorio aplicados. Dataset guardado como: ./entrenamiento_balanceado\\balanceado_demographic_data_with_Obsesión-compulsión.csv\n",
      "SMOTE y downsampling no aleatorio aplicados. Dataset guardado como: ./entrenamiento_balanceado\\balanceado_demographic_data_with_Psicoticismo.csv\n"
     ]
    },
    {
     "name": "stderr",
     "output_type": "stream",
     "text": [
      "C:\\Users\\Ceiec09\\AppData\\Local\\Temp\\ipykernel_7884\\1170576296.py:26: SettingWithCopyWarning: \n",
      "A value is trying to be set on a copy of a slice from a DataFrame.\n",
      "Try using .loc[row_indexer,col_indexer] = value instead\n",
      "\n",
      "See the caveats in the documentation: https://pandas.pydata.org/pandas-docs/stable/user_guide/indexing.html#returning-a-view-versus-a-copy\n",
      "  clase_mayoritaria['distancia'] = clase_mayoritaria.drop(columns=str(data_file).split('_')[-1][:-4]).apply(\n"
     ]
    },
    {
     "name": "stdout",
     "output_type": "stream",
     "text": [
      "SMOTE y downsampling no aleatorio aplicados. Dataset guardado como: ./entrenamiento_balanceado\\balanceado_demographic_data_with_Sensibilidad interpersonal.csv\n"
     ]
    },
    {
     "name": "stderr",
     "output_type": "stream",
     "text": [
      "C:\\Users\\Ceiec09\\AppData\\Local\\Temp\\ipykernel_7884\\1170576296.py:26: SettingWithCopyWarning: \n",
      "A value is trying to be set on a copy of a slice from a DataFrame.\n",
      "Try using .loc[row_indexer,col_indexer] = value instead\n",
      "\n",
      "See the caveats in the documentation: https://pandas.pydata.org/pandas-docs/stable/user_guide/indexing.html#returning-a-view-versus-a-copy\n",
      "  clase_mayoritaria['distancia'] = clase_mayoritaria.drop(columns=str(data_file).split('_')[-1][:-4]).apply(\n"
     ]
    },
    {
     "name": "stdout",
     "output_type": "stream",
     "text": [
      "SMOTE y downsampling no aleatorio aplicados. Dataset guardado como: ./entrenamiento_balanceado\\balanceado_demographic_data_with_Somatización.csv\n"
     ]
    },
    {
     "name": "stderr",
     "output_type": "stream",
     "text": [
      "C:\\Users\\Ceiec09\\AppData\\Local\\Temp\\ipykernel_7884\\1170576296.py:26: SettingWithCopyWarning: \n",
      "A value is trying to be set on a copy of a slice from a DataFrame.\n",
      "Try using .loc[row_indexer,col_indexer] = value instead\n",
      "\n",
      "See the caveats in the documentation: https://pandas.pydata.org/pandas-docs/stable/user_guide/indexing.html#returning-a-view-versus-a-copy\n",
      "  clase_mayoritaria['distancia'] = clase_mayoritaria.drop(columns=str(data_file).split('_')[-1][:-4]).apply(\n",
      "C:\\Users\\Ceiec09\\AppData\\Local\\Temp\\ipykernel_7884\\1170576296.py:26: SettingWithCopyWarning: \n",
      "A value is trying to be set on a copy of a slice from a DataFrame.\n",
      "Try using .loc[row_indexer,col_indexer] = value instead\n",
      "\n",
      "See the caveats in the documentation: https://pandas.pydata.org/pandas-docs/stable/user_guide/indexing.html#returning-a-view-versus-a-copy\n",
      "  clase_mayoritaria['distancia'] = clase_mayoritaria.drop(columns=str(data_file).split('_')[-1][:-4]).apply(\n"
     ]
    },
    {
     "name": "stdout",
     "output_type": "stream",
     "text": [
      "SMOTE y downsampling no aleatorio aplicados. Dataset guardado como: ./entrenamiento_balanceado\\balanceado_economic_data_with_Agorafobia.csv\n",
      "SMOTE y downsampling no aleatorio aplicados. Dataset guardado como: ./entrenamiento_balanceado\\balanceado_economic_data_with_Ansiedad.csv\n"
     ]
    },
    {
     "name": "stderr",
     "output_type": "stream",
     "text": [
      "C:\\Users\\Ceiec09\\AppData\\Local\\Temp\\ipykernel_7884\\1170576296.py:26: SettingWithCopyWarning: \n",
      "A value is trying to be set on a copy of a slice from a DataFrame.\n",
      "Try using .loc[row_indexer,col_indexer] = value instead\n",
      "\n",
      "See the caveats in the documentation: https://pandas.pydata.org/pandas-docs/stable/user_guide/indexing.html#returning-a-view-versus-a-copy\n",
      "  clase_mayoritaria['distancia'] = clase_mayoritaria.drop(columns=str(data_file).split('_')[-1][:-4]).apply(\n",
      "C:\\Users\\Ceiec09\\AppData\\Local\\Temp\\ipykernel_7884\\1170576296.py:26: SettingWithCopyWarning: \n",
      "A value is trying to be set on a copy of a slice from a DataFrame.\n",
      "Try using .loc[row_indexer,col_indexer] = value instead\n",
      "\n",
      "See the caveats in the documentation: https://pandas.pydata.org/pandas-docs/stable/user_guide/indexing.html#returning-a-view-versus-a-copy\n",
      "  clase_mayoritaria['distancia'] = clase_mayoritaria.drop(columns=str(data_file).split('_')[-1][:-4]).apply(\n"
     ]
    },
    {
     "name": "stdout",
     "output_type": "stream",
     "text": [
      "SMOTE y downsampling no aleatorio aplicados. Dataset guardado como: ./entrenamiento_balanceado\\balanceado_economic_data_with_Depresión.csv\n",
      "SMOTE y downsampling no aleatorio aplicados. Dataset guardado como: ./entrenamiento_balanceado\\balanceado_economic_data_with_Hostilidad.csv\n"
     ]
    },
    {
     "name": "stderr",
     "output_type": "stream",
     "text": [
      "C:\\Users\\Ceiec09\\AppData\\Local\\Temp\\ipykernel_7884\\1170576296.py:26: SettingWithCopyWarning: \n",
      "A value is trying to be set on a copy of a slice from a DataFrame.\n",
      "Try using .loc[row_indexer,col_indexer] = value instead\n",
      "\n",
      "See the caveats in the documentation: https://pandas.pydata.org/pandas-docs/stable/user_guide/indexing.html#returning-a-view-versus-a-copy\n",
      "  clase_mayoritaria['distancia'] = clase_mayoritaria.drop(columns=str(data_file).split('_')[-1][:-4]).apply(\n",
      "C:\\Users\\Ceiec09\\AppData\\Local\\Temp\\ipykernel_7884\\1170576296.py:26: SettingWithCopyWarning: \n",
      "A value is trying to be set on a copy of a slice from a DataFrame.\n",
      "Try using .loc[row_indexer,col_indexer] = value instead\n",
      "\n",
      "See the caveats in the documentation: https://pandas.pydata.org/pandas-docs/stable/user_guide/indexing.html#returning-a-view-versus-a-copy\n",
      "  clase_mayoritaria['distancia'] = clase_mayoritaria.drop(columns=str(data_file).split('_')[-1][:-4]).apply(\n"
     ]
    },
    {
     "name": "stdout",
     "output_type": "stream",
     "text": [
      "SMOTE y downsampling no aleatorio aplicados. Dataset guardado como: ./entrenamiento_balanceado\\balanceado_economic_data_with_Ideación paranoide.csv\n",
      "SMOTE y downsampling no aleatorio aplicados. Dataset guardado como: ./entrenamiento_balanceado\\balanceado_economic_data_with_Obsesión-compulsión.csv\n"
     ]
    },
    {
     "name": "stderr",
     "output_type": "stream",
     "text": [
      "C:\\Users\\Ceiec09\\AppData\\Local\\Temp\\ipykernel_7884\\1170576296.py:26: SettingWithCopyWarning: \n",
      "A value is trying to be set on a copy of a slice from a DataFrame.\n",
      "Try using .loc[row_indexer,col_indexer] = value instead\n",
      "\n",
      "See the caveats in the documentation: https://pandas.pydata.org/pandas-docs/stable/user_guide/indexing.html#returning-a-view-versus-a-copy\n",
      "  clase_mayoritaria['distancia'] = clase_mayoritaria.drop(columns=str(data_file).split('_')[-1][:-4]).apply(\n",
      "C:\\Users\\Ceiec09\\AppData\\Local\\Temp\\ipykernel_7884\\1170576296.py:26: SettingWithCopyWarning: \n",
      "A value is trying to be set on a copy of a slice from a DataFrame.\n",
      "Try using .loc[row_indexer,col_indexer] = value instead\n",
      "\n",
      "See the caveats in the documentation: https://pandas.pydata.org/pandas-docs/stable/user_guide/indexing.html#returning-a-view-versus-a-copy\n",
      "  clase_mayoritaria['distancia'] = clase_mayoritaria.drop(columns=str(data_file).split('_')[-1][:-4]).apply(\n"
     ]
    },
    {
     "name": "stdout",
     "output_type": "stream",
     "text": [
      "SMOTE y downsampling no aleatorio aplicados. Dataset guardado como: ./entrenamiento_balanceado\\balanceado_economic_data_with_Psicoticismo.csv\n",
      "SMOTE y downsampling no aleatorio aplicados. Dataset guardado como: ./entrenamiento_balanceado\\balanceado_economic_data_with_Sensibilidad interpersonal.csv\n"
     ]
    },
    {
     "name": "stderr",
     "output_type": "stream",
     "text": [
      "C:\\Users\\Ceiec09\\AppData\\Local\\Temp\\ipykernel_7884\\1170576296.py:26: SettingWithCopyWarning: \n",
      "A value is trying to be set on a copy of a slice from a DataFrame.\n",
      "Try using .loc[row_indexer,col_indexer] = value instead\n",
      "\n",
      "See the caveats in the documentation: https://pandas.pydata.org/pandas-docs/stable/user_guide/indexing.html#returning-a-view-versus-a-copy\n",
      "  clase_mayoritaria['distancia'] = clase_mayoritaria.drop(columns=str(data_file).split('_')[-1][:-4]).apply(\n",
      "C:\\Users\\Ceiec09\\AppData\\Local\\Temp\\ipykernel_7884\\1170576296.py:26: SettingWithCopyWarning: \n",
      "A value is trying to be set on a copy of a slice from a DataFrame.\n",
      "Try using .loc[row_indexer,col_indexer] = value instead\n",
      "\n",
      "See the caveats in the documentation: https://pandas.pydata.org/pandas-docs/stable/user_guide/indexing.html#returning-a-view-versus-a-copy\n",
      "  clase_mayoritaria['distancia'] = clase_mayoritaria.drop(columns=str(data_file).split('_')[-1][:-4]).apply(\n"
     ]
    },
    {
     "name": "stdout",
     "output_type": "stream",
     "text": [
      "SMOTE y downsampling no aleatorio aplicados. Dataset guardado como: ./entrenamiento_balanceado\\balanceado_economic_data_with_Somatización.csv\n",
      "SMOTE y downsampling no aleatorio aplicados. Dataset guardado como: ./entrenamiento_balanceado\\balanceado_health_data_with_Agorafobia.csv\n"
     ]
    },
    {
     "name": "stderr",
     "output_type": "stream",
     "text": [
      "C:\\Users\\Ceiec09\\AppData\\Local\\Temp\\ipykernel_7884\\1170576296.py:26: SettingWithCopyWarning: \n",
      "A value is trying to be set on a copy of a slice from a DataFrame.\n",
      "Try using .loc[row_indexer,col_indexer] = value instead\n",
      "\n",
      "See the caveats in the documentation: https://pandas.pydata.org/pandas-docs/stable/user_guide/indexing.html#returning-a-view-versus-a-copy\n",
      "  clase_mayoritaria['distancia'] = clase_mayoritaria.drop(columns=str(data_file).split('_')[-1][:-4]).apply(\n",
      "C:\\Users\\Ceiec09\\AppData\\Local\\Temp\\ipykernel_7884\\1170576296.py:26: SettingWithCopyWarning: \n",
      "A value is trying to be set on a copy of a slice from a DataFrame.\n",
      "Try using .loc[row_indexer,col_indexer] = value instead\n",
      "\n",
      "See the caveats in the documentation: https://pandas.pydata.org/pandas-docs/stable/user_guide/indexing.html#returning-a-view-versus-a-copy\n",
      "  clase_mayoritaria['distancia'] = clase_mayoritaria.drop(columns=str(data_file).split('_')[-1][:-4]).apply(\n"
     ]
    },
    {
     "name": "stdout",
     "output_type": "stream",
     "text": [
      "SMOTE y downsampling no aleatorio aplicados. Dataset guardado como: ./entrenamiento_balanceado\\balanceado_health_data_with_Ansiedad.csv\n",
      "SMOTE y downsampling no aleatorio aplicados. Dataset guardado como: ./entrenamiento_balanceado\\balanceado_health_data_with_Depresión.csv\n"
     ]
    },
    {
     "name": "stderr",
     "output_type": "stream",
     "text": [
      "C:\\Users\\Ceiec09\\AppData\\Local\\Temp\\ipykernel_7884\\1170576296.py:26: SettingWithCopyWarning: \n",
      "A value is trying to be set on a copy of a slice from a DataFrame.\n",
      "Try using .loc[row_indexer,col_indexer] = value instead\n",
      "\n",
      "See the caveats in the documentation: https://pandas.pydata.org/pandas-docs/stable/user_guide/indexing.html#returning-a-view-versus-a-copy\n",
      "  clase_mayoritaria['distancia'] = clase_mayoritaria.drop(columns=str(data_file).split('_')[-1][:-4]).apply(\n",
      "C:\\Users\\Ceiec09\\AppData\\Local\\Temp\\ipykernel_7884\\1170576296.py:26: SettingWithCopyWarning: \n",
      "A value is trying to be set on a copy of a slice from a DataFrame.\n",
      "Try using .loc[row_indexer,col_indexer] = value instead\n",
      "\n",
      "See the caveats in the documentation: https://pandas.pydata.org/pandas-docs/stable/user_guide/indexing.html#returning-a-view-versus-a-copy\n",
      "  clase_mayoritaria['distancia'] = clase_mayoritaria.drop(columns=str(data_file).split('_')[-1][:-4]).apply(\n"
     ]
    },
    {
     "name": "stdout",
     "output_type": "stream",
     "text": [
      "SMOTE y downsampling no aleatorio aplicados. Dataset guardado como: ./entrenamiento_balanceado\\balanceado_health_data_with_Hostilidad.csv\n",
      "SMOTE y downsampling no aleatorio aplicados. Dataset guardado como: ./entrenamiento_balanceado\\balanceado_health_data_with_Ideación paranoide.csv\n"
     ]
    },
    {
     "name": "stderr",
     "output_type": "stream",
     "text": [
      "C:\\Users\\Ceiec09\\AppData\\Local\\Temp\\ipykernel_7884\\1170576296.py:26: SettingWithCopyWarning: \n",
      "A value is trying to be set on a copy of a slice from a DataFrame.\n",
      "Try using .loc[row_indexer,col_indexer] = value instead\n",
      "\n",
      "See the caveats in the documentation: https://pandas.pydata.org/pandas-docs/stable/user_guide/indexing.html#returning-a-view-versus-a-copy\n",
      "  clase_mayoritaria['distancia'] = clase_mayoritaria.drop(columns=str(data_file).split('_')[-1][:-4]).apply(\n",
      "C:\\Users\\Ceiec09\\AppData\\Local\\Temp\\ipykernel_7884\\1170576296.py:26: SettingWithCopyWarning: \n",
      "A value is trying to be set on a copy of a slice from a DataFrame.\n",
      "Try using .loc[row_indexer,col_indexer] = value instead\n",
      "\n",
      "See the caveats in the documentation: https://pandas.pydata.org/pandas-docs/stable/user_guide/indexing.html#returning-a-view-versus-a-copy\n",
      "  clase_mayoritaria['distancia'] = clase_mayoritaria.drop(columns=str(data_file).split('_')[-1][:-4]).apply(\n"
     ]
    },
    {
     "name": "stdout",
     "output_type": "stream",
     "text": [
      "SMOTE y downsampling no aleatorio aplicados. Dataset guardado como: ./entrenamiento_balanceado\\balanceado_health_data_with_Obsesión-compulsión.csv\n",
      "SMOTE y downsampling no aleatorio aplicados. Dataset guardado como: ./entrenamiento_balanceado\\balanceado_health_data_with_Psicoticismo.csv\n"
     ]
    },
    {
     "name": "stderr",
     "output_type": "stream",
     "text": [
      "C:\\Users\\Ceiec09\\AppData\\Local\\Temp\\ipykernel_7884\\1170576296.py:26: SettingWithCopyWarning: \n",
      "A value is trying to be set on a copy of a slice from a DataFrame.\n",
      "Try using .loc[row_indexer,col_indexer] = value instead\n",
      "\n",
      "See the caveats in the documentation: https://pandas.pydata.org/pandas-docs/stable/user_guide/indexing.html#returning-a-view-versus-a-copy\n",
      "  clase_mayoritaria['distancia'] = clase_mayoritaria.drop(columns=str(data_file).split('_')[-1][:-4]).apply(\n",
      "C:\\Users\\Ceiec09\\AppData\\Local\\Temp\\ipykernel_7884\\1170576296.py:26: SettingWithCopyWarning: \n",
      "A value is trying to be set on a copy of a slice from a DataFrame.\n",
      "Try using .loc[row_indexer,col_indexer] = value instead\n",
      "\n",
      "See the caveats in the documentation: https://pandas.pydata.org/pandas-docs/stable/user_guide/indexing.html#returning-a-view-versus-a-copy\n",
      "  clase_mayoritaria['distancia'] = clase_mayoritaria.drop(columns=str(data_file).split('_')[-1][:-4]).apply(\n"
     ]
    },
    {
     "name": "stdout",
     "output_type": "stream",
     "text": [
      "SMOTE y downsampling no aleatorio aplicados. Dataset guardado como: ./entrenamiento_balanceado\\balanceado_health_data_with_Sensibilidad interpersonal.csv\n",
      "SMOTE y downsampling no aleatorio aplicados. Dataset guardado como: ./entrenamiento_balanceado\\balanceado_health_data_with_Somatización.csv\n"
     ]
    },
    {
     "name": "stderr",
     "output_type": "stream",
     "text": [
      "C:\\Users\\Ceiec09\\AppData\\Local\\Temp\\ipykernel_7884\\1170576296.py:26: SettingWithCopyWarning: \n",
      "A value is trying to be set on a copy of a slice from a DataFrame.\n",
      "Try using .loc[row_indexer,col_indexer] = value instead\n",
      "\n",
      "See the caveats in the documentation: https://pandas.pydata.org/pandas-docs/stable/user_guide/indexing.html#returning-a-view-versus-a-copy\n",
      "  clase_mayoritaria['distancia'] = clase_mayoritaria.drop(columns=str(data_file).split('_')[-1][:-4]).apply(\n",
      "C:\\Users\\Ceiec09\\AppData\\Local\\Temp\\ipykernel_7884\\1170576296.py:26: SettingWithCopyWarning: \n",
      "A value is trying to be set on a copy of a slice from a DataFrame.\n",
      "Try using .loc[row_indexer,col_indexer] = value instead\n",
      "\n",
      "See the caveats in the documentation: https://pandas.pydata.org/pandas-docs/stable/user_guide/indexing.html#returning-a-view-versus-a-copy\n",
      "  clase_mayoritaria['distancia'] = clase_mayoritaria.drop(columns=str(data_file).split('_')[-1][:-4]).apply(\n"
     ]
    },
    {
     "name": "stdout",
     "output_type": "stream",
     "text": [
      "SMOTE y downsampling no aleatorio aplicados. Dataset guardado como: ./entrenamiento_balanceado\\balanceado_living_data_with_Agorafobia.csv\n",
      "SMOTE y downsampling no aleatorio aplicados. Dataset guardado como: ./entrenamiento_balanceado\\balanceado_living_data_with_Ansiedad.csv\n"
     ]
    },
    {
     "name": "stderr",
     "output_type": "stream",
     "text": [
      "C:\\Users\\Ceiec09\\AppData\\Local\\Temp\\ipykernel_7884\\1170576296.py:26: SettingWithCopyWarning: \n",
      "A value is trying to be set on a copy of a slice from a DataFrame.\n",
      "Try using .loc[row_indexer,col_indexer] = value instead\n",
      "\n",
      "See the caveats in the documentation: https://pandas.pydata.org/pandas-docs/stable/user_guide/indexing.html#returning-a-view-versus-a-copy\n",
      "  clase_mayoritaria['distancia'] = clase_mayoritaria.drop(columns=str(data_file).split('_')[-1][:-4]).apply(\n"
     ]
    },
    {
     "name": "stdout",
     "output_type": "stream",
     "text": [
      "SMOTE y downsampling no aleatorio aplicados. Dataset guardado como: ./entrenamiento_balanceado\\balanceado_living_data_with_Depresión.csv\n"
     ]
    },
    {
     "name": "stderr",
     "output_type": "stream",
     "text": [
      "C:\\Users\\Ceiec09\\AppData\\Local\\Temp\\ipykernel_7884\\1170576296.py:26: SettingWithCopyWarning: \n",
      "A value is trying to be set on a copy of a slice from a DataFrame.\n",
      "Try using .loc[row_indexer,col_indexer] = value instead\n",
      "\n",
      "See the caveats in the documentation: https://pandas.pydata.org/pandas-docs/stable/user_guide/indexing.html#returning-a-view-versus-a-copy\n",
      "  clase_mayoritaria['distancia'] = clase_mayoritaria.drop(columns=str(data_file).split('_')[-1][:-4]).apply(\n"
     ]
    },
    {
     "name": "stdout",
     "output_type": "stream",
     "text": [
      "SMOTE y downsampling no aleatorio aplicados. Dataset guardado como: ./entrenamiento_balanceado\\balanceado_living_data_with_Hostilidad.csv\n"
     ]
    },
    {
     "name": "stderr",
     "output_type": "stream",
     "text": [
      "C:\\Users\\Ceiec09\\AppData\\Local\\Temp\\ipykernel_7884\\1170576296.py:26: SettingWithCopyWarning: \n",
      "A value is trying to be set on a copy of a slice from a DataFrame.\n",
      "Try using .loc[row_indexer,col_indexer] = value instead\n",
      "\n",
      "See the caveats in the documentation: https://pandas.pydata.org/pandas-docs/stable/user_guide/indexing.html#returning-a-view-versus-a-copy\n",
      "  clase_mayoritaria['distancia'] = clase_mayoritaria.drop(columns=str(data_file).split('_')[-1][:-4]).apply(\n",
      "C:\\Users\\Ceiec09\\AppData\\Local\\Temp\\ipykernel_7884\\1170576296.py:26: SettingWithCopyWarning: \n",
      "A value is trying to be set on a copy of a slice from a DataFrame.\n",
      "Try using .loc[row_indexer,col_indexer] = value instead\n",
      "\n",
      "See the caveats in the documentation: https://pandas.pydata.org/pandas-docs/stable/user_guide/indexing.html#returning-a-view-versus-a-copy\n",
      "  clase_mayoritaria['distancia'] = clase_mayoritaria.drop(columns=str(data_file).split('_')[-1][:-4]).apply(\n"
     ]
    },
    {
     "name": "stdout",
     "output_type": "stream",
     "text": [
      "SMOTE y downsampling no aleatorio aplicados. Dataset guardado como: ./entrenamiento_balanceado\\balanceado_living_data_with_Ideación paranoide.csv\n",
      "SMOTE y downsampling no aleatorio aplicados. Dataset guardado como: ./entrenamiento_balanceado\\balanceado_living_data_with_Obsesión-compulsión.csv\n"
     ]
    },
    {
     "name": "stderr",
     "output_type": "stream",
     "text": [
      "C:\\Users\\Ceiec09\\AppData\\Local\\Temp\\ipykernel_7884\\1170576296.py:26: SettingWithCopyWarning: \n",
      "A value is trying to be set on a copy of a slice from a DataFrame.\n",
      "Try using .loc[row_indexer,col_indexer] = value instead\n",
      "\n",
      "See the caveats in the documentation: https://pandas.pydata.org/pandas-docs/stable/user_guide/indexing.html#returning-a-view-versus-a-copy\n",
      "  clase_mayoritaria['distancia'] = clase_mayoritaria.drop(columns=str(data_file).split('_')[-1][:-4]).apply(\n",
      "C:\\Users\\Ceiec09\\AppData\\Local\\Temp\\ipykernel_7884\\1170576296.py:26: SettingWithCopyWarning: \n",
      "A value is trying to be set on a copy of a slice from a DataFrame.\n",
      "Try using .loc[row_indexer,col_indexer] = value instead\n",
      "\n",
      "See the caveats in the documentation: https://pandas.pydata.org/pandas-docs/stable/user_guide/indexing.html#returning-a-view-versus-a-copy\n",
      "  clase_mayoritaria['distancia'] = clase_mayoritaria.drop(columns=str(data_file).split('_')[-1][:-4]).apply(\n"
     ]
    },
    {
     "name": "stdout",
     "output_type": "stream",
     "text": [
      "SMOTE y downsampling no aleatorio aplicados. Dataset guardado como: ./entrenamiento_balanceado\\balanceado_living_data_with_Psicoticismo.csv\n",
      "SMOTE y downsampling no aleatorio aplicados. Dataset guardado como: ./entrenamiento_balanceado\\balanceado_living_data_with_Sensibilidad interpersonal.csv\n",
      "SMOTE y downsampling no aleatorio aplicados. Dataset guardado como: ./entrenamiento_balanceado\\balanceado_living_data_with_Somatización.csv\n"
     ]
    },
    {
     "name": "stderr",
     "output_type": "stream",
     "text": [
      "C:\\Users\\Ceiec09\\AppData\\Local\\Temp\\ipykernel_7884\\1170576296.py:26: SettingWithCopyWarning: \n",
      "A value is trying to be set on a copy of a slice from a DataFrame.\n",
      "Try using .loc[row_indexer,col_indexer] = value instead\n",
      "\n",
      "See the caveats in the documentation: https://pandas.pydata.org/pandas-docs/stable/user_guide/indexing.html#returning-a-view-versus-a-copy\n",
      "  clase_mayoritaria['distancia'] = clase_mayoritaria.drop(columns=str(data_file).split('_')[-1][:-4]).apply(\n"
     ]
    }
   ],
   "source": [
    "for data_file in datasets:\n",
    "    # Cargar el dataset\n",
    "    data_path = os.path.join(data_dir, data_file)\n",
    "    data = pd.read_csv(data_path, sep=';')\n",
    "    \n",
    "    # Separar características y etiquetas\n",
    "    X = data.iloc[:, :-1]  # Todas las columnas menos la última\n",
    "    y = data.iloc[:, -1]   # Última columna\n",
    "\n",
    "    # Aplicar SMOTE para aumentar la clase minoritaria\n",
    "    smote = SMOTE(sampling_strategy='not minority', random_state=42)\n",
    "    X_resampled, y_resampled = smote.fit_resample(X, y)\n",
    "    \n",
    "    # Determinar el tamaño objetivo de la clase mayoritaria (igual al tamaño de la clase minoritaria original)\n",
    "    clase_min = y.value_counts().min()\n",
    "    \n",
    "    # Crear un DataFrame de las muestras resampleadas para manipulación\n",
    "    resampled_data = pd.DataFrame(X_resampled, columns=X.columns)\n",
    "    resampled_data[str(data_file).split('_')[-1][:-4]] = y_resampled  # Suponiendo que str(data_file).split('_')[-1][:-4] es el nombre de la columna de etiquetas\n",
    "    \n",
    "    # Filtrar la clase mayoritaria y ordenar por la distancia a la media (u otra métrica)\n",
    "    clase_mayoritaria = resampled_data[resampled_data[str(data_file).split('_')[-1][:-4]] == y.mode()[0]]\n",
    "    clase_mayoritaria_mean = clase_mayoritaria.mean(axis=0)  # Calculamos la media de la clase mayoritaria\n",
    "    \n",
    "    # Ordenar la clase mayoritaria por proximidad a la media y seleccionar las primeras `clase_min` muestras\n",
    "    clase_mayoritaria['distancia'] = clase_mayoritaria.drop(columns=str(data_file).split('_')[-1][:-4]).apply(\n",
    "        lambda row: ((row - clase_mayoritaria_mean[:-1]) ** 2).sum(), axis=1)\n",
    "    clase_mayoritaria_sorted = clase_mayoritaria.sort_values(by='distancia').head(clase_min)\n",
    "    \n",
    "    # Filtrar la clase minoritaria\n",
    "    clase_minoritaria = resampled_data[resampled_data[str(data_file).split('_')[-1][:-4]] != y.mode()[0]]\n",
    "    \n",
    "    # Combinar clase mayoritaria balanceada y clase minoritaria\n",
    "    balanced_data = pd.concat([clase_mayoritaria_sorted, clase_minoritaria]).drop(columns='distancia')\n",
    "    \n",
    "    # Guardar el dataset balanceado\n",
    "    balanced_data_path = os.path.join(balanced_dir, f'balanceado_{data_file}')\n",
    "    balanced_data.to_csv(balanced_data_path, sep=';', index=False)\n",
    "    \n",
    "    print(f'SMOTE y downsampling no aleatorio aplicados. Dataset guardado como: {balanced_data_path}')"
   ]
  },
  {
   "cell_type": "markdown",
   "metadata": {
    "id": "O8qx9Ye0H7Dg"
   },
   "source": [
    "# 1. Modelos de clasificación Binaria"
   ]
  },
  {
   "cell_type": "markdown",
   "metadata": {
    "id": "YfUT8_xWYnwa"
   },
   "source": [
    "Decision Trees"
   ]
  },
  {
   "cell_type": "code",
   "execution_count": 13,
   "metadata": {
    "colab": {
     "base_uri": "https://localhost:8080/"
    },
    "executionInfo": {
     "elapsed": 5096,
     "status": "ok",
     "timestamp": 1722678009346,
     "user": {
      "displayName": "BERTA PADILLA BAEZA",
      "userId": "17038178126289984285"
     },
     "user_tz": -120
    },
    "id": "bw1ZAnHnXlBP",
    "outputId": "f270a716-67f8-4c75-a1be-a87ab0987900"
   },
   "outputs": [],
   "source": [
    "# Diccionarios de hiperparámetros para cada modelo\n",
    "param_grids = {\n",
    "    'DecisionTree': {\n",
    "        'max_depth': [None, 10, 20, 30],\n",
    "        'min_samples_split': [2, 5, 10],\n",
    "        'min_samples_leaf': [1, 2, 4],\n",
    "        'criterion': ['gini', 'entropy']\n",
    "    },\n",
    "    'RandomForest': {\n",
    "        'n_estimators': [50, 100, 150],\n",
    "        'max_depth': [None, 10, 20],\n",
    "        'min_samples_split': [2, 5],\n",
    "        'min_samples_leaf': [1, 2]\n",
    "    },\n",
    "    'SVM': {\n",
    "        'C': [0.1, 1, 10],\n",
    "        'kernel': ['linear', 'rbf', 'poly'],\n",
    "        'degree': [3, 4, 5],\n",
    "        'gamma': ['scale', 'auto']\n",
    "    },\n",
    "    'GradientBoosting': {\n",
    "        'n_estimators': [50, 100, 150],\n",
    "        'learning_rate': [0.01, 0.1, 0.2],\n",
    "        'max_depth': [3, 4, 5],\n",
    "        'subsample': [0.8, 1.0]\n",
    "    },\n",
    "    'NaiveBayes': {\n",
    "        'var_smoothing': np.logspace(0, -9, num=10),\n",
    "    },\n",
    "    'LogisticRegression': [\n",
    "        {\n",
    "            'C': [0.01, 0.1, 1, 10, 100],\n",
    "            'penalty': ['l2'],\n",
    "            'solver': ['lbfgs'],\n",
    "            'max_iter': [100, 200, 500]\n",
    "        },\n",
    "        {\n",
    "            'C': [0.01, 0.1, 1, 10, 100],\n",
    "            'penalty': ['l1'],\n",
    "            'solver': ['liblinear'],\n",
    "            'max_iter': [100, 200, 500]\n",
    "        },\n",
    "        {\n",
    "            'C': [0.01, 0.1, 1, 10, 100],\n",
    "            'penalty': ['l2'],\n",
    "            'solver': ['liblinear'],\n",
    "            'max_iter': [100, 200, 500]\n",
    "        }\n",
    "    ],\n",
    "    'MLP': {\n",
    "        'hidden_layer_sizes': [(50,), (100,), (50, 50)],\n",
    "        'activation': ['relu', 'tanh'],\n",
    "        'solver': ['adam', 'sgd'],\n",
    "        'alpha': [0.0001, 0.001],\n",
    "        'learning_rate': ['constant', 'adaptive']\n",
    "    }\n",
    "}"
   ]
  },
  {
   "cell_type": "code",
   "execution_count": 14,
   "metadata": {},
   "outputs": [],
   "source": [
    "# Clasificadores\n",
    "classifiers = {\n",
    "    'DecisionTree': DecisionTreeClassifier(random_state=42),\n",
    "    'RandomForest': RandomForestClassifier(random_state=42),\n",
    "    'SVM': SVC(probability=True, random_state=42),  # Se necesita probability=True para SHAP\n",
    "    'GradientBoosting': GradientBoostingClassifier(random_state=42),\n",
    "    'NaiveBayes': GaussianNB(),\n",
    "    'LogisticRegression': LogisticRegression(random_state=42, max_iter=1000),\n",
    "    'MLP': MLPClassifier(random_state=42, max_iter=1000)\n",
    "}"
   ]
  },
  {
   "cell_type": "code",
   "execution_count": 15,
   "metadata": {},
   "outputs": [],
   "source": [
    "# Función para calcular sensibilidad y especificidad\n",
    "def calcular_sensibilidad_especificidad_conjunto(y_true, y_pred):\n",
    "    tn, fp, fn, tp = confusion_matrix(y_true, y_pred).ravel()\n",
    "    sensibilidad = tp / (tp + fn) if (tp + fn) > 0 else 0\n",
    "    especificidad = tn / (tn + fp) if (tn + fp) > 0 else 0\n",
    "    return sensibilidad, especificidad"
   ]
  },
  {
   "cell_type": "code",
   "execution_count": 16,
   "metadata": {},
   "outputs": [],
   "source": [
    "# Función para calcular los valores SHAP\n",
    "def calcular_shap_values(clasificador, X_train, X_test, nombre_algoritmo):\n",
    "    explainer = None\n",
    "\n",
    "    # Reducir el fondo para la explicación\n",
    "    background = shap.sample(X_train, 33)  # Reducir si el conjunto es grande\n",
    "\n",
    "    # Seleccionar el tipo de explicador según el modelo\n",
    "    if nombre_algoritmo in ['SVM', 'NaiveBayes', 'LogisticRegression', 'MLP']:\n",
    "        explainer = shap.KernelExplainer(clasificador.predict_proba, background)\n",
    "    elif nombre_algoritmo in ['RandomForest', 'DecisionTree', 'GradientBoosting']:\n",
    "        explainer = shap.TreeExplainer(clasificador)\n",
    "\n",
    "    # Calcular valores SHAP\n",
    "    shap_values = explainer.shap_values(X_test)\n",
    "\n",
    "    # Verificar si shap_values es una lista (caso de clasificación binaria)\n",
    "    if isinstance(shap_values, list):\n",
    "        # Seleccionar los valores SHAP de la clase positiva (índice 1)\n",
    "        shap_values = shap_values[1]\n",
    "    \n",
    "    # Verificar dimensiones del resultado y ajustar\n",
    "    if shap_values.ndim == 3:  # Caso raro con dimensiones adicionales\n",
    "        shap_values = shap_values[:, :, 1]  # Seleccionar la clase positiva\n",
    "\n",
    "    # Crear el DataFrame SHAP\n",
    "    shap_df = pd.DataFrame(shap_values, columns=X_test.columns)\n",
    "\n",
    "    return shap_df"
   ]
  },
  {
   "cell_type": "code",
   "execution_count": 17,
   "metadata": {},
   "outputs": [],
   "source": [
    "# Directorio de datos\n",
    "data_dir = './entrenamiento_balanceado'\n",
    "\n",
    "datasets = os.listdir(data_dir)\n",
    "\n",
    "datasets = [x for x in datasets if x.endswith('.csv')]"
   ]
  },
  {
   "cell_type": "code",
   "execution_count": 18,
   "metadata": {},
   "outputs": [],
   "source": [
    "# Número de particiones (folds) en la validación cruzada\n",
    "kf = KFold(n_splits=5, shuffle=True, random_state=42)\n",
    "\n",
    "resultados_totales = []"
   ]
  },
  {
   "cell_type": "code",
   "execution_count": 19,
   "metadata": {},
   "outputs": [
    {
     "name": "stderr",
     "output_type": "stream",
     "text": [
      "Analizando:   0%|          | 0/36 [00:00<?, ?it/s]"
     ]
    },
    {
     "data": {
      "application/vnd.jupyter.widget-view+json": {
       "model_id": "9806949ac50c4ff19cd35dbfbf249c93",
       "version_major": 2,
       "version_minor": 0
      },
      "text/plain": [
       "  0%|          | 0/50 [00:00<?, ?it/s]"
      ]
     },
     "metadata": {},
     "output_type": "display_data"
    },
    {
     "data": {
      "application/vnd.jupyter.widget-view+json": {
       "model_id": "7f74e8c3de7b43b19cb5d939f7494a18",
       "version_major": 2,
       "version_minor": 0
      },
      "text/plain": [
       "  0%|          | 0/50 [00:00<?, ?it/s]"
      ]
     },
     "metadata": {},
     "output_type": "display_data"
    },
    {
     "data": {
      "application/vnd.jupyter.widget-view+json": {
       "model_id": "b39481c94622415abcc0c1156671c500",
       "version_major": 2,
       "version_minor": 0
      },
      "text/plain": [
       "  0%|          | 0/50 [00:00<?, ?it/s]"
      ]
     },
     "metadata": {},
     "output_type": "display_data"
    },
    {
     "data": {
      "application/vnd.jupyter.widget-view+json": {
       "model_id": "410485477eef4ee9b2703b66e706d787",
       "version_major": 2,
       "version_minor": 0
      },
      "text/plain": [
       "  0%|          | 0/50 [00:00<?, ?it/s]"
      ]
     },
     "metadata": {},
     "output_type": "display_data"
    },
    {
     "name": "stderr",
     "output_type": "stream",
     "text": [
      "Analizando:   3%|▎         | 1/36 [01:41<59:11, 101.47s/it]"
     ]
    },
    {
     "data": {
      "application/vnd.jupyter.widget-view+json": {
       "model_id": "fa442008dbb84a2f86d9ff3ddcb76eb5",
       "version_major": 2,
       "version_minor": 0
      },
      "text/plain": [
       "  0%|          | 0/68 [00:00<?, ?it/s]"
      ]
     },
     "metadata": {},
     "output_type": "display_data"
    },
    {
     "data": {
      "application/vnd.jupyter.widget-view+json": {
       "model_id": "5e03fead3f174a60b0356b2b61552705",
       "version_major": 2,
       "version_minor": 0
      },
      "text/plain": [
       "  0%|          | 0/68 [00:00<?, ?it/s]"
      ]
     },
     "metadata": {},
     "output_type": "display_data"
    },
    {
     "data": {
      "application/vnd.jupyter.widget-view+json": {
       "model_id": "ad11e2da63df44bb8435a8bea32dbbd6",
       "version_major": 2,
       "version_minor": 0
      },
      "text/plain": [
       "  0%|          | 0/68 [00:00<?, ?it/s]"
      ]
     },
     "metadata": {},
     "output_type": "display_data"
    },
    {
     "data": {
      "application/vnd.jupyter.widget-view+json": {
       "model_id": "f0fd8b1be9ea48c3b3e9cb1c95f33bf3",
       "version_major": 2,
       "version_minor": 0
      },
      "text/plain": [
       "  0%|          | 0/68 [00:00<?, ?it/s]"
      ]
     },
     "metadata": {},
     "output_type": "display_data"
    },
    {
     "name": "stderr",
     "output_type": "stream",
     "text": [
      "Analizando:   6%|▌         | 2/36 [04:39<1:23:08, 146.73s/it]"
     ]
    },
    {
     "data": {
      "application/vnd.jupyter.widget-view+json": {
       "model_id": "20cbe8ad0c2a48b99367f22de8d3e3b2",
       "version_major": 2,
       "version_minor": 0
      },
      "text/plain": [
       "  0%|          | 0/64 [00:00<?, ?it/s]"
      ]
     },
     "metadata": {},
     "output_type": "display_data"
    },
    {
     "data": {
      "application/vnd.jupyter.widget-view+json": {
       "model_id": "4c51c6f0d49345fd83efd28848ad3440",
       "version_major": 2,
       "version_minor": 0
      },
      "text/plain": [
       "  0%|          | 0/64 [00:00<?, ?it/s]"
      ]
     },
     "metadata": {},
     "output_type": "display_data"
    },
    {
     "data": {
      "application/vnd.jupyter.widget-view+json": {
       "model_id": "5e2684c6c8ae4621931f5d64a4ef7735",
       "version_major": 2,
       "version_minor": 0
      },
      "text/plain": [
       "  0%|          | 0/64 [00:00<?, ?it/s]"
      ]
     },
     "metadata": {},
     "output_type": "display_data"
    },
    {
     "data": {
      "application/vnd.jupyter.widget-view+json": {
       "model_id": "9ce1b9d878dc432f97d342915d99ceaa",
       "version_major": 2,
       "version_minor": 0
      },
      "text/plain": [
       "  0%|          | 0/64 [00:00<?, ?it/s]"
      ]
     },
     "metadata": {},
     "output_type": "display_data"
    },
    {
     "name": "stderr",
     "output_type": "stream",
     "text": [
      "Analizando:   8%|▊         | 3/36 [06:11<1:06:57, 121.75s/it]"
     ]
    },
    {
     "data": {
      "application/vnd.jupyter.widget-view+json": {
       "model_id": "d42e5af71ec14b80864c114fd4f3c12b",
       "version_major": 2,
       "version_minor": 0
      },
      "text/plain": [
       "  0%|          | 0/59 [00:00<?, ?it/s]"
      ]
     },
     "metadata": {},
     "output_type": "display_data"
    },
    {
     "data": {
      "application/vnd.jupyter.widget-view+json": {
       "model_id": "ee91fcdabb5645a78d0dc7ae9a3d7eb6",
       "version_major": 2,
       "version_minor": 0
      },
      "text/plain": [
       "  0%|          | 0/59 [00:00<?, ?it/s]"
      ]
     },
     "metadata": {},
     "output_type": "display_data"
    },
    {
     "data": {
      "application/vnd.jupyter.widget-view+json": {
       "model_id": "103215ba0a094e71af8d6a2e2965a50f",
       "version_major": 2,
       "version_minor": 0
      },
      "text/plain": [
       "  0%|          | 0/59 [00:00<?, ?it/s]"
      ]
     },
     "metadata": {},
     "output_type": "display_data"
    },
    {
     "data": {
      "application/vnd.jupyter.widget-view+json": {
       "model_id": "d9b8cd954f4648f3b6d53ab30182d7b5",
       "version_major": 2,
       "version_minor": 0
      },
      "text/plain": [
       "  0%|          | 0/59 [00:00<?, ?it/s]"
      ]
     },
     "metadata": {},
     "output_type": "display_data"
    },
    {
     "name": "stderr",
     "output_type": "stream",
     "text": [
      "Analizando:  11%|█         | 4/36 [08:05<1:03:12, 118.52s/it]"
     ]
    },
    {
     "data": {
      "application/vnd.jupyter.widget-view+json": {
       "model_id": "d9d53bc8f81e4baaaa3b447922f77d63",
       "version_major": 2,
       "version_minor": 0
      },
      "text/plain": [
       "  0%|          | 0/52 [00:00<?, ?it/s]"
      ]
     },
     "metadata": {},
     "output_type": "display_data"
    },
    {
     "data": {
      "application/vnd.jupyter.widget-view+json": {
       "model_id": "4635ea06a4154377bca7c43d219b733e",
       "version_major": 2,
       "version_minor": 0
      },
      "text/plain": [
       "  0%|          | 0/52 [00:00<?, ?it/s]"
      ]
     },
     "metadata": {},
     "output_type": "display_data"
    },
    {
     "data": {
      "application/vnd.jupyter.widget-view+json": {
       "model_id": "e589a0afe4bf410ba67a3e2b899b6648",
       "version_major": 2,
       "version_minor": 0
      },
      "text/plain": [
       "  0%|          | 0/52 [00:00<?, ?it/s]"
      ]
     },
     "metadata": {},
     "output_type": "display_data"
    },
    {
     "data": {
      "application/vnd.jupyter.widget-view+json": {
       "model_id": "41af0cb54ebd4b3086902082ce89aeda",
       "version_major": 2,
       "version_minor": 0
      },
      "text/plain": [
       "  0%|          | 0/52 [00:00<?, ?it/s]"
      ]
     },
     "metadata": {},
     "output_type": "display_data"
    },
    {
     "name": "stderr",
     "output_type": "stream",
     "text": [
      "Analizando:  14%|█▍        | 5/36 [10:00<1:00:32, 117.19s/it]"
     ]
    },
    {
     "data": {
      "application/vnd.jupyter.widget-view+json": {
       "model_id": "c39735d167cb4ebdba5de4ebe324ec2c",
       "version_major": 2,
       "version_minor": 0
      },
      "text/plain": [
       "  0%|          | 0/67 [00:00<?, ?it/s]"
      ]
     },
     "metadata": {},
     "output_type": "display_data"
    },
    {
     "data": {
      "application/vnd.jupyter.widget-view+json": {
       "model_id": "a82e972a147a4290b5c6f641926e386a",
       "version_major": 2,
       "version_minor": 0
      },
      "text/plain": [
       "  0%|          | 0/67 [00:00<?, ?it/s]"
      ]
     },
     "metadata": {},
     "output_type": "display_data"
    },
    {
     "data": {
      "application/vnd.jupyter.widget-view+json": {
       "model_id": "ade1151ec00b4ef8975199c17ecff7b0",
       "version_major": 2,
       "version_minor": 0
      },
      "text/plain": [
       "  0%|          | 0/67 [00:00<?, ?it/s]"
      ]
     },
     "metadata": {},
     "output_type": "display_data"
    },
    {
     "data": {
      "application/vnd.jupyter.widget-view+json": {
       "model_id": "cc3a54cb0a2845be8abde7134f592684",
       "version_major": 2,
       "version_minor": 0
      },
      "text/plain": [
       "  0%|          | 0/67 [00:00<?, ?it/s]"
      ]
     },
     "metadata": {},
     "output_type": "display_data"
    },
    {
     "name": "stderr",
     "output_type": "stream",
     "text": [
      "Analizando:  17%|█▋        | 6/36 [11:35<54:52, 109.75s/it]  "
     ]
    },
    {
     "data": {
      "application/vnd.jupyter.widget-view+json": {
       "model_id": "822329630c9f422f84c57070bd8bd568",
       "version_major": 2,
       "version_minor": 0
      },
      "text/plain": [
       "  0%|          | 0/56 [00:00<?, ?it/s]"
      ]
     },
     "metadata": {},
     "output_type": "display_data"
    },
    {
     "data": {
      "application/vnd.jupyter.widget-view+json": {
       "model_id": "e9c7046e2e554ac186e8d45f89d47371",
       "version_major": 2,
       "version_minor": 0
      },
      "text/plain": [
       "  0%|          | 0/56 [00:00<?, ?it/s]"
      ]
     },
     "metadata": {},
     "output_type": "display_data"
    },
    {
     "data": {
      "application/vnd.jupyter.widget-view+json": {
       "model_id": "9188d732c4d14d2181357daa80281d34",
       "version_major": 2,
       "version_minor": 0
      },
      "text/plain": [
       "  0%|          | 0/56 [00:00<?, ?it/s]"
      ]
     },
     "metadata": {},
     "output_type": "display_data"
    },
    {
     "data": {
      "application/vnd.jupyter.widget-view+json": {
       "model_id": "102c406d3bcc48e28c773b71538128c8",
       "version_major": 2,
       "version_minor": 0
      },
      "text/plain": [
       "  0%|          | 0/56 [00:00<?, ?it/s]"
      ]
     },
     "metadata": {},
     "output_type": "display_data"
    },
    {
     "name": "stderr",
     "output_type": "stream",
     "text": [
      "Analizando:  19%|█▉        | 7/36 [12:52<47:52, 99.04s/it] "
     ]
    },
    {
     "data": {
      "application/vnd.jupyter.widget-view+json": {
       "model_id": "fbd71de75fee4e7fb25d5b93a250d1f2",
       "version_major": 2,
       "version_minor": 0
      },
      "text/plain": [
       "  0%|          | 0/68 [00:00<?, ?it/s]"
      ]
     },
     "metadata": {},
     "output_type": "display_data"
    },
    {
     "data": {
      "application/vnd.jupyter.widget-view+json": {
       "model_id": "67a6caae86b94c47ae7dd5f313c90717",
       "version_major": 2,
       "version_minor": 0
      },
      "text/plain": [
       "  0%|          | 0/68 [00:00<?, ?it/s]"
      ]
     },
     "metadata": {},
     "output_type": "display_data"
    },
    {
     "data": {
      "application/vnd.jupyter.widget-view+json": {
       "model_id": "2ae198e27c7e462e92b47c2c0487fd45",
       "version_major": 2,
       "version_minor": 0
      },
      "text/plain": [
       "  0%|          | 0/68 [00:00<?, ?it/s]"
      ]
     },
     "metadata": {},
     "output_type": "display_data"
    },
    {
     "data": {
      "application/vnd.jupyter.widget-view+json": {
       "model_id": "d2c04df8a90f4490a71cc406257303a3",
       "version_major": 2,
       "version_minor": 0
      },
      "text/plain": [
       "  0%|          | 0/68 [00:00<?, ?it/s]"
      ]
     },
     "metadata": {},
     "output_type": "display_data"
    },
    {
     "name": "stderr",
     "output_type": "stream",
     "text": [
      "Analizando:  22%|██▏       | 8/36 [14:33<46:29, 99.61s/it]"
     ]
    },
    {
     "data": {
      "application/vnd.jupyter.widget-view+json": {
       "model_id": "b105b98319f54684a5567afb22e5f614",
       "version_major": 2,
       "version_minor": 0
      },
      "text/plain": [
       "  0%|          | 0/64 [00:00<?, ?it/s]"
      ]
     },
     "metadata": {},
     "output_type": "display_data"
    },
    {
     "data": {
      "application/vnd.jupyter.widget-view+json": {
       "model_id": "f4cbcbbff1204e62a006e8f694dea075",
       "version_major": 2,
       "version_minor": 0
      },
      "text/plain": [
       "  0%|          | 0/64 [00:00<?, ?it/s]"
      ]
     },
     "metadata": {},
     "output_type": "display_data"
    },
    {
     "data": {
      "application/vnd.jupyter.widget-view+json": {
       "model_id": "99e43311bdd948e8ba6a942a9a8317e7",
       "version_major": 2,
       "version_minor": 0
      },
      "text/plain": [
       "  0%|          | 0/64 [00:00<?, ?it/s]"
      ]
     },
     "metadata": {},
     "output_type": "display_data"
    },
    {
     "data": {
      "application/vnd.jupyter.widget-view+json": {
       "model_id": "03a76c7e02b54521a80a5c8a9bbe918c",
       "version_major": 2,
       "version_minor": 0
      },
      "text/plain": [
       "  0%|          | 0/64 [00:00<?, ?it/s]"
      ]
     },
     "metadata": {},
     "output_type": "display_data"
    },
    {
     "name": "stderr",
     "output_type": "stream",
     "text": [
      "Analizando:  25%|██▌       | 9/36 [15:47<41:11, 91.54s/it]"
     ]
    },
    {
     "data": {
      "application/vnd.jupyter.widget-view+json": {
       "model_id": "3a0f0473f11940e086b0638b637e93da",
       "version_major": 2,
       "version_minor": 0
      },
      "text/plain": [
       "  0%|          | 0/50 [00:00<?, ?it/s]"
      ]
     },
     "metadata": {},
     "output_type": "display_data"
    },
    {
     "data": {
      "application/vnd.jupyter.widget-view+json": {
       "model_id": "03fa6fcb71d34ed5b560894c16f46012",
       "version_major": 2,
       "version_minor": 0
      },
      "text/plain": [
       "  0%|          | 0/50 [00:00<?, ?it/s]"
      ]
     },
     "metadata": {},
     "output_type": "display_data"
    },
    {
     "data": {
      "application/vnd.jupyter.widget-view+json": {
       "model_id": "a5ffdb3c21bc463ea2a419c2e91a01a0",
       "version_major": 2,
       "version_minor": 0
      },
      "text/plain": [
       "  0%|          | 0/50 [00:00<?, ?it/s]"
      ]
     },
     "metadata": {},
     "output_type": "display_data"
    },
    {
     "data": {
      "application/vnd.jupyter.widget-view+json": {
       "model_id": "16c1792e454d497187232c3cf4844f7c",
       "version_major": 2,
       "version_minor": 0
      },
      "text/plain": [
       "  0%|          | 0/50 [00:00<?, ?it/s]"
      ]
     },
     "metadata": {},
     "output_type": "display_data"
    },
    {
     "name": "stderr",
     "output_type": "stream",
     "text": [
      "Analizando:  28%|██▊       | 10/36 [17:56<44:39, 103.05s/it]"
     ]
    },
    {
     "data": {
      "application/vnd.jupyter.widget-view+json": {
       "model_id": "c66883fef6c040389bd7ae093073acde",
       "version_major": 2,
       "version_minor": 0
      },
      "text/plain": [
       "  0%|          | 0/68 [00:00<?, ?it/s]"
      ]
     },
     "metadata": {},
     "output_type": "display_data"
    },
    {
     "data": {
      "application/vnd.jupyter.widget-view+json": {
       "model_id": "a6fdf0bf59c347d69b1a765f84915e35",
       "version_major": 2,
       "version_minor": 0
      },
      "text/plain": [
       "  0%|          | 0/68 [00:00<?, ?it/s]"
      ]
     },
     "metadata": {},
     "output_type": "display_data"
    },
    {
     "data": {
      "application/vnd.jupyter.widget-view+json": {
       "model_id": "d962ff3567214e7f829ae38ba784ff55",
       "version_major": 2,
       "version_minor": 0
      },
      "text/plain": [
       "  0%|          | 0/68 [00:00<?, ?it/s]"
      ]
     },
     "metadata": {},
     "output_type": "display_data"
    },
    {
     "data": {
      "application/vnd.jupyter.widget-view+json": {
       "model_id": "9ed75e3fa83e4f09b8b65e48df23c4ea",
       "version_major": 2,
       "version_minor": 0
      },
      "text/plain": [
       "  0%|          | 0/68 [00:00<?, ?it/s]"
      ]
     },
     "metadata": {},
     "output_type": "display_data"
    },
    {
     "name": "stderr",
     "output_type": "stream",
     "text": [
      "Analizando:  31%|███       | 11/36 [19:41<43:11, 103.66s/it]"
     ]
    },
    {
     "data": {
      "application/vnd.jupyter.widget-view+json": {
       "model_id": "4f01dee0049e465eaf0dde53b791f000",
       "version_major": 2,
       "version_minor": 0
      },
      "text/plain": [
       "  0%|          | 0/64 [00:00<?, ?it/s]"
      ]
     },
     "metadata": {},
     "output_type": "display_data"
    },
    {
     "data": {
      "application/vnd.jupyter.widget-view+json": {
       "model_id": "cb5fc09a62ff42f2813c1cacacffb2ea",
       "version_major": 2,
       "version_minor": 0
      },
      "text/plain": [
       "  0%|          | 0/64 [00:00<?, ?it/s]"
      ]
     },
     "metadata": {},
     "output_type": "display_data"
    },
    {
     "data": {
      "application/vnd.jupyter.widget-view+json": {
       "model_id": "63dfe4ac3ea34390aac22e4c9338d93c",
       "version_major": 2,
       "version_minor": 0
      },
      "text/plain": [
       "  0%|          | 0/64 [00:00<?, ?it/s]"
      ]
     },
     "metadata": {},
     "output_type": "display_data"
    },
    {
     "data": {
      "application/vnd.jupyter.widget-view+json": {
       "model_id": "f9ef368837be41c6aba2db69041e8c9d",
       "version_major": 2,
       "version_minor": 0
      },
      "text/plain": [
       "  0%|          | 0/64 [00:00<?, ?it/s]"
      ]
     },
     "metadata": {},
     "output_type": "display_data"
    },
    {
     "name": "stderr",
     "output_type": "stream",
     "text": [
      "Analizando:  33%|███▎      | 12/36 [20:46<36:47, 91.99s/it] "
     ]
    },
    {
     "data": {
      "application/vnd.jupyter.widget-view+json": {
       "model_id": "f8dceab51c3e4a7e8e6a17eec1f42cb3",
       "version_major": 2,
       "version_minor": 0
      },
      "text/plain": [
       "  0%|          | 0/59 [00:00<?, ?it/s]"
      ]
     },
     "metadata": {},
     "output_type": "display_data"
    },
    {
     "data": {
      "application/vnd.jupyter.widget-view+json": {
       "model_id": "b070adac80b44ad98bb067515b63acf1",
       "version_major": 2,
       "version_minor": 0
      },
      "text/plain": [
       "  0%|          | 0/59 [00:00<?, ?it/s]"
      ]
     },
     "metadata": {},
     "output_type": "display_data"
    },
    {
     "data": {
      "application/vnd.jupyter.widget-view+json": {
       "model_id": "dafada1fac6f4568a203aa2066287c6c",
       "version_major": 2,
       "version_minor": 0
      },
      "text/plain": [
       "  0%|          | 0/59 [00:00<?, ?it/s]"
      ]
     },
     "metadata": {},
     "output_type": "display_data"
    },
    {
     "data": {
      "application/vnd.jupyter.widget-view+json": {
       "model_id": "06cbf83c720d49e6bf08b9ad8f46cf02",
       "version_major": 2,
       "version_minor": 0
      },
      "text/plain": [
       "  0%|          | 0/59 [00:00<?, ?it/s]"
      ]
     },
     "metadata": {},
     "output_type": "display_data"
    },
    {
     "name": "stderr",
     "output_type": "stream",
     "text": [
      "Analizando:  36%|███▌      | 13/36 [22:12<34:35, 90.23s/it]"
     ]
    },
    {
     "data": {
      "application/vnd.jupyter.widget-view+json": {
       "model_id": "abced24a10a54dba9968c97e6d0c6a18",
       "version_major": 2,
       "version_minor": 0
      },
      "text/plain": [
       "  0%|          | 0/52 [00:00<?, ?it/s]"
      ]
     },
     "metadata": {},
     "output_type": "display_data"
    },
    {
     "data": {
      "application/vnd.jupyter.widget-view+json": {
       "model_id": "95b29a0c886a4cf490d69412196aa8d2",
       "version_major": 2,
       "version_minor": 0
      },
      "text/plain": [
       "  0%|          | 0/52 [00:00<?, ?it/s]"
      ]
     },
     "metadata": {},
     "output_type": "display_data"
    },
    {
     "data": {
      "application/vnd.jupyter.widget-view+json": {
       "model_id": "a8bdd2b8eb5641c299c658e38a600bcb",
       "version_major": 2,
       "version_minor": 0
      },
      "text/plain": [
       "  0%|          | 0/52 [00:00<?, ?it/s]"
      ]
     },
     "metadata": {},
     "output_type": "display_data"
    },
    {
     "data": {
      "application/vnd.jupyter.widget-view+json": {
       "model_id": "8ce62638dabe44a48db396ffac1866a4",
       "version_major": 2,
       "version_minor": 0
      },
      "text/plain": [
       "  0%|          | 0/52 [00:00<?, ?it/s]"
      ]
     },
     "metadata": {},
     "output_type": "display_data"
    },
    {
     "name": "stderr",
     "output_type": "stream",
     "text": [
      "Analizando:  39%|███▉      | 14/36 [23:59<34:54, 95.22s/it]"
     ]
    },
    {
     "data": {
      "application/vnd.jupyter.widget-view+json": {
       "model_id": "a7d99c7e4b2346f38a3f7a009abeca9a",
       "version_major": 2,
       "version_minor": 0
      },
      "text/plain": [
       "  0%|          | 0/67 [00:00<?, ?it/s]"
      ]
     },
     "metadata": {},
     "output_type": "display_data"
    },
    {
     "data": {
      "application/vnd.jupyter.widget-view+json": {
       "model_id": "7eade461ac01430fa9892aed3a78796f",
       "version_major": 2,
       "version_minor": 0
      },
      "text/plain": [
       "  0%|          | 0/67 [00:00<?, ?it/s]"
      ]
     },
     "metadata": {},
     "output_type": "display_data"
    },
    {
     "data": {
      "application/vnd.jupyter.widget-view+json": {
       "model_id": "71e0bdeb7dca4a70a3181d0b548e0772",
       "version_major": 2,
       "version_minor": 0
      },
      "text/plain": [
       "  0%|          | 0/67 [00:00<?, ?it/s]"
      ]
     },
     "metadata": {},
     "output_type": "display_data"
    },
    {
     "data": {
      "application/vnd.jupyter.widget-view+json": {
       "model_id": "acb6c43ebdb14f9d8a248ce5cf8b58af",
       "version_major": 2,
       "version_minor": 0
      },
      "text/plain": [
       "  0%|          | 0/67 [00:00<?, ?it/s]"
      ]
     },
     "metadata": {},
     "output_type": "display_data"
    },
    {
     "name": "stderr",
     "output_type": "stream",
     "text": [
      "Analizando:  42%|████▏     | 15/36 [25:52<35:10, 100.51s/it]"
     ]
    },
    {
     "data": {
      "application/vnd.jupyter.widget-view+json": {
       "model_id": "8a334195e23e443a8948ec5aaecbb68f",
       "version_major": 2,
       "version_minor": 0
      },
      "text/plain": [
       "  0%|          | 0/56 [00:00<?, ?it/s]"
      ]
     },
     "metadata": {},
     "output_type": "display_data"
    },
    {
     "data": {
      "application/vnd.jupyter.widget-view+json": {
       "model_id": "e36ead7bd9754c43b5a30be3d40ecef4",
       "version_major": 2,
       "version_minor": 0
      },
      "text/plain": [
       "  0%|          | 0/56 [00:00<?, ?it/s]"
      ]
     },
     "metadata": {},
     "output_type": "display_data"
    },
    {
     "data": {
      "application/vnd.jupyter.widget-view+json": {
       "model_id": "c79fcd527b55448aab19c31e6c9a5b7e",
       "version_major": 2,
       "version_minor": 0
      },
      "text/plain": [
       "  0%|          | 0/56 [00:00<?, ?it/s]"
      ]
     },
     "metadata": {},
     "output_type": "display_data"
    },
    {
     "data": {
      "application/vnd.jupyter.widget-view+json": {
       "model_id": "44cf84627f914c1f9ee98aba21d410ad",
       "version_major": 2,
       "version_minor": 0
      },
      "text/plain": [
       "  0%|          | 0/56 [00:00<?, ?it/s]"
      ]
     },
     "metadata": {},
     "output_type": "display_data"
    },
    {
     "name": "stderr",
     "output_type": "stream",
     "text": [
      "Analizando:  44%|████▍     | 16/36 [27:30<33:15, 99.75s/it] "
     ]
    },
    {
     "data": {
      "application/vnd.jupyter.widget-view+json": {
       "model_id": "873edd421edf491dba445ccc1bf6ddac",
       "version_major": 2,
       "version_minor": 0
      },
      "text/plain": [
       "  0%|          | 0/68 [00:00<?, ?it/s]"
      ]
     },
     "metadata": {},
     "output_type": "display_data"
    },
    {
     "data": {
      "application/vnd.jupyter.widget-view+json": {
       "model_id": "af15397ea4d5465d9491f9610ecdd96f",
       "version_major": 2,
       "version_minor": 0
      },
      "text/plain": [
       "  0%|          | 0/68 [00:00<?, ?it/s]"
      ]
     },
     "metadata": {},
     "output_type": "display_data"
    },
    {
     "data": {
      "application/vnd.jupyter.widget-view+json": {
       "model_id": "c8369409c0554906b16b31687daefe1f",
       "version_major": 2,
       "version_minor": 0
      },
      "text/plain": [
       "  0%|          | 0/68 [00:00<?, ?it/s]"
      ]
     },
     "metadata": {},
     "output_type": "display_data"
    },
    {
     "data": {
      "application/vnd.jupyter.widget-view+json": {
       "model_id": "c430e29271164a849046918ae6e03ab8",
       "version_major": 2,
       "version_minor": 0
      },
      "text/plain": [
       "  0%|          | 0/68 [00:00<?, ?it/s]"
      ]
     },
     "metadata": {},
     "output_type": "display_data"
    },
    {
     "name": "stderr",
     "output_type": "stream",
     "text": [
      "Analizando:  47%|████▋     | 17/36 [29:50<35:28, 112.04s/it]"
     ]
    },
    {
     "data": {
      "application/vnd.jupyter.widget-view+json": {
       "model_id": "8ecfb4c794d34ca8bd520a405fb03462",
       "version_major": 2,
       "version_minor": 0
      },
      "text/plain": [
       "  0%|          | 0/64 [00:00<?, ?it/s]"
      ]
     },
     "metadata": {},
     "output_type": "display_data"
    },
    {
     "data": {
      "application/vnd.jupyter.widget-view+json": {
       "model_id": "743236aae7864b89b3873dc347788f14",
       "version_major": 2,
       "version_minor": 0
      },
      "text/plain": [
       "  0%|          | 0/64 [00:00<?, ?it/s]"
      ]
     },
     "metadata": {},
     "output_type": "display_data"
    },
    {
     "data": {
      "application/vnd.jupyter.widget-view+json": {
       "model_id": "62aaec172e3d48d4889d14a7ea06d8d0",
       "version_major": 2,
       "version_minor": 0
      },
      "text/plain": [
       "  0%|          | 0/64 [00:00<?, ?it/s]"
      ]
     },
     "metadata": {},
     "output_type": "display_data"
    },
    {
     "data": {
      "application/vnd.jupyter.widget-view+json": {
       "model_id": "112ac4d34c8349578be90c9879ebde0a",
       "version_major": 2,
       "version_minor": 0
      },
      "text/plain": [
       "  0%|          | 0/64 [00:00<?, ?it/s]"
      ]
     },
     "metadata": {},
     "output_type": "display_data"
    },
    {
     "name": "stderr",
     "output_type": "stream",
     "text": [
      "Analizando:  50%|█████     | 18/36 [31:14<31:03, 103.53s/it]"
     ]
    },
    {
     "data": {
      "application/vnd.jupyter.widget-view+json": {
       "model_id": "eb886d13dc51438caf2418e8fbc4aed2",
       "version_major": 2,
       "version_minor": 0
      },
      "text/plain": [
       "  0%|          | 0/50 [00:00<?, ?it/s]"
      ]
     },
     "metadata": {},
     "output_type": "display_data"
    },
    {
     "data": {
      "application/vnd.jupyter.widget-view+json": {
       "model_id": "5534d59ec75044ebbaf85374a9aaa787",
       "version_major": 2,
       "version_minor": 0
      },
      "text/plain": [
       "  0%|          | 0/50 [00:00<?, ?it/s]"
      ]
     },
     "metadata": {},
     "output_type": "display_data"
    },
    {
     "data": {
      "application/vnd.jupyter.widget-view+json": {
       "model_id": "a48be127aed24af2839efe0c082d5395",
       "version_major": 2,
       "version_minor": 0
      },
      "text/plain": [
       "  0%|          | 0/50 [00:00<?, ?it/s]"
      ]
     },
     "metadata": {},
     "output_type": "display_data"
    },
    {
     "data": {
      "application/vnd.jupyter.widget-view+json": {
       "model_id": "195cfdd821de456fb081d850e7e3062f",
       "version_major": 2,
       "version_minor": 0
      },
      "text/plain": [
       "  0%|          | 0/50 [00:00<?, ?it/s]"
      ]
     },
     "metadata": {},
     "output_type": "display_data"
    },
    {
     "name": "stderr",
     "output_type": "stream",
     "text": [
      "Analizando:  53%|█████▎    | 19/36 [32:34<27:19, 96.44s/it] "
     ]
    },
    {
     "data": {
      "application/vnd.jupyter.widget-view+json": {
       "model_id": "3e51030943aa415a998df70832cea94a",
       "version_major": 2,
       "version_minor": 0
      },
      "text/plain": [
       "  0%|          | 0/68 [00:00<?, ?it/s]"
      ]
     },
     "metadata": {},
     "output_type": "display_data"
    },
    {
     "data": {
      "application/vnd.jupyter.widget-view+json": {
       "model_id": "4e82041258a64fe98fa0bd18a534d481",
       "version_major": 2,
       "version_minor": 0
      },
      "text/plain": [
       "  0%|          | 0/68 [00:00<?, ?it/s]"
      ]
     },
     "metadata": {},
     "output_type": "display_data"
    },
    {
     "data": {
      "application/vnd.jupyter.widget-view+json": {
       "model_id": "f4708513084a4dc08571b397f7c27194",
       "version_major": 2,
       "version_minor": 0
      },
      "text/plain": [
       "  0%|          | 0/68 [00:00<?, ?it/s]"
      ]
     },
     "metadata": {},
     "output_type": "display_data"
    },
    {
     "data": {
      "application/vnd.jupyter.widget-view+json": {
       "model_id": "9807cc360ac442a7948206190357d7be",
       "version_major": 2,
       "version_minor": 0
      },
      "text/plain": [
       "  0%|          | 0/68 [00:00<?, ?it/s]"
      ]
     },
     "metadata": {},
     "output_type": "display_data"
    },
    {
     "name": "stderr",
     "output_type": "stream",
     "text": [
      "Analizando:  56%|█████▌    | 20/36 [34:32<27:28, 103.05s/it]"
     ]
    },
    {
     "data": {
      "application/vnd.jupyter.widget-view+json": {
       "model_id": "7460a9b3adf246e58258497b4d8eb2b9",
       "version_major": 2,
       "version_minor": 0
      },
      "text/plain": [
       "  0%|          | 0/64 [00:00<?, ?it/s]"
      ]
     },
     "metadata": {},
     "output_type": "display_data"
    },
    {
     "data": {
      "application/vnd.jupyter.widget-view+json": {
       "model_id": "b27b04d6a6194f07bdddbe42d4dcbe32",
       "version_major": 2,
       "version_minor": 0
      },
      "text/plain": [
       "  0%|          | 0/64 [00:00<?, ?it/s]"
      ]
     },
     "metadata": {},
     "output_type": "display_data"
    },
    {
     "data": {
      "application/vnd.jupyter.widget-view+json": {
       "model_id": "2ebc06834b9d4cf5bee20aa5375ade75",
       "version_major": 2,
       "version_minor": 0
      },
      "text/plain": [
       "  0%|          | 0/64 [00:00<?, ?it/s]"
      ]
     },
     "metadata": {},
     "output_type": "display_data"
    },
    {
     "data": {
      "application/vnd.jupyter.widget-view+json": {
       "model_id": "e1cae31adf9144559babb21ec9a12528",
       "version_major": 2,
       "version_minor": 0
      },
      "text/plain": [
       "  0%|          | 0/64 [00:00<?, ?it/s]"
      ]
     },
     "metadata": {},
     "output_type": "display_data"
    },
    {
     "name": "stderr",
     "output_type": "stream",
     "text": [
      "Analizando:  58%|█████▊    | 21/36 [35:28<22:10, 88.71s/it] "
     ]
    },
    {
     "data": {
      "application/vnd.jupyter.widget-view+json": {
       "model_id": "34431dd04cdc480daaab5cf81d9069f1",
       "version_major": 2,
       "version_minor": 0
      },
      "text/plain": [
       "  0%|          | 0/59 [00:00<?, ?it/s]"
      ]
     },
     "metadata": {},
     "output_type": "display_data"
    },
    {
     "data": {
      "application/vnd.jupyter.widget-view+json": {
       "model_id": "51be864b482044a0b342cb0fd42b0f4f",
       "version_major": 2,
       "version_minor": 0
      },
      "text/plain": [
       "  0%|          | 0/59 [00:00<?, ?it/s]"
      ]
     },
     "metadata": {},
     "output_type": "display_data"
    },
    {
     "data": {
      "application/vnd.jupyter.widget-view+json": {
       "model_id": "9a7ea0a5e0564339b4d5471ef02bd410",
       "version_major": 2,
       "version_minor": 0
      },
      "text/plain": [
       "  0%|          | 0/59 [00:00<?, ?it/s]"
      ]
     },
     "metadata": {},
     "output_type": "display_data"
    },
    {
     "data": {
      "application/vnd.jupyter.widget-view+json": {
       "model_id": "362ff0614e6e4467a6376a3a531ca0cb",
       "version_major": 2,
       "version_minor": 0
      },
      "text/plain": [
       "  0%|          | 0/59 [00:00<?, ?it/s]"
      ]
     },
     "metadata": {},
     "output_type": "display_data"
    },
    {
     "name": "stderr",
     "output_type": "stream",
     "text": [
      "Analizando:  61%|██████    | 22/36 [36:54<20:32, 88.03s/it]"
     ]
    },
    {
     "data": {
      "application/vnd.jupyter.widget-view+json": {
       "model_id": "69fe4431c5254fb28b4a629997b3bf81",
       "version_major": 2,
       "version_minor": 0
      },
      "text/plain": [
       "  0%|          | 0/52 [00:00<?, ?it/s]"
      ]
     },
     "metadata": {},
     "output_type": "display_data"
    },
    {
     "data": {
      "application/vnd.jupyter.widget-view+json": {
       "model_id": "a1c3bfd581f2449abfe7c5fa6939d0f6",
       "version_major": 2,
       "version_minor": 0
      },
      "text/plain": [
       "  0%|          | 0/52 [00:00<?, ?it/s]"
      ]
     },
     "metadata": {},
     "output_type": "display_data"
    },
    {
     "data": {
      "application/vnd.jupyter.widget-view+json": {
       "model_id": "9b57f7be43c04823885099bd129d9a15",
       "version_major": 2,
       "version_minor": 0
      },
      "text/plain": [
       "  0%|          | 0/52 [00:00<?, ?it/s]"
      ]
     },
     "metadata": {},
     "output_type": "display_data"
    },
    {
     "data": {
      "application/vnd.jupyter.widget-view+json": {
       "model_id": "afb873cff4c24c279c8056d86b017895",
       "version_major": 2,
       "version_minor": 0
      },
      "text/plain": [
       "  0%|          | 0/52 [00:00<?, ?it/s]"
      ]
     },
     "metadata": {},
     "output_type": "display_data"
    },
    {
     "name": "stderr",
     "output_type": "stream",
     "text": [
      "Analizando:  64%|██████▍   | 23/36 [38:50<20:54, 96.53s/it]"
     ]
    },
    {
     "data": {
      "application/vnd.jupyter.widget-view+json": {
       "model_id": "5138229b742f486588aff98e795fb31e",
       "version_major": 2,
       "version_minor": 0
      },
      "text/plain": [
       "  0%|          | 0/67 [00:00<?, ?it/s]"
      ]
     },
     "metadata": {},
     "output_type": "display_data"
    },
    {
     "data": {
      "application/vnd.jupyter.widget-view+json": {
       "model_id": "cc1ec9619936475186b7ad7db2cdc10d",
       "version_major": 2,
       "version_minor": 0
      },
      "text/plain": [
       "  0%|          | 0/67 [00:00<?, ?it/s]"
      ]
     },
     "metadata": {},
     "output_type": "display_data"
    },
    {
     "data": {
      "application/vnd.jupyter.widget-view+json": {
       "model_id": "c0b40ff10a354d76b3cb77ea95e52433",
       "version_major": 2,
       "version_minor": 0
      },
      "text/plain": [
       "  0%|          | 0/67 [00:00<?, ?it/s]"
      ]
     },
     "metadata": {},
     "output_type": "display_data"
    },
    {
     "data": {
      "application/vnd.jupyter.widget-view+json": {
       "model_id": "32ba5cbc8fc04b6badfc3b49700e4f5f",
       "version_major": 2,
       "version_minor": 0
      },
      "text/plain": [
       "  0%|          | 0/67 [00:00<?, ?it/s]"
      ]
     },
     "metadata": {},
     "output_type": "display_data"
    },
    {
     "name": "stderr",
     "output_type": "stream",
     "text": [
      "Analizando:  67%|██████▋   | 24/36 [40:23<19:03, 95.29s/it]"
     ]
    },
    {
     "data": {
      "application/vnd.jupyter.widget-view+json": {
       "model_id": "76d81993b70c4f51b1f6401072be7fb0",
       "version_major": 2,
       "version_minor": 0
      },
      "text/plain": [
       "  0%|          | 0/56 [00:00<?, ?it/s]"
      ]
     },
     "metadata": {},
     "output_type": "display_data"
    },
    {
     "data": {
      "application/vnd.jupyter.widget-view+json": {
       "model_id": "470765fa5727470bb496b85914d8092e",
       "version_major": 2,
       "version_minor": 0
      },
      "text/plain": [
       "  0%|          | 0/56 [00:00<?, ?it/s]"
      ]
     },
     "metadata": {},
     "output_type": "display_data"
    },
    {
     "data": {
      "application/vnd.jupyter.widget-view+json": {
       "model_id": "d6dde3c9488d4ebe88f5e702a14e852c",
       "version_major": 2,
       "version_minor": 0
      },
      "text/plain": [
       "  0%|          | 0/56 [00:00<?, ?it/s]"
      ]
     },
     "metadata": {},
     "output_type": "display_data"
    },
    {
     "data": {
      "application/vnd.jupyter.widget-view+json": {
       "model_id": "f29f0281861741528246c6ec74941a91",
       "version_major": 2,
       "version_minor": 0
      },
      "text/plain": [
       "  0%|          | 0/56 [00:00<?, ?it/s]"
      ]
     },
     "metadata": {},
     "output_type": "display_data"
    },
    {
     "name": "stderr",
     "output_type": "stream",
     "text": [
      "Analizando:  69%|██████▉   | 25/36 [41:54<17:15, 94.18s/it]"
     ]
    },
    {
     "data": {
      "application/vnd.jupyter.widget-view+json": {
       "model_id": "bace24cafd154d64802c91d74c6e8c04",
       "version_major": 2,
       "version_minor": 0
      },
      "text/plain": [
       "  0%|          | 0/68 [00:00<?, ?it/s]"
      ]
     },
     "metadata": {},
     "output_type": "display_data"
    },
    {
     "data": {
      "application/vnd.jupyter.widget-view+json": {
       "model_id": "8cfc104152b84c01bbd62d9639137d6e",
       "version_major": 2,
       "version_minor": 0
      },
      "text/plain": [
       "  0%|          | 0/68 [00:00<?, ?it/s]"
      ]
     },
     "metadata": {},
     "output_type": "display_data"
    },
    {
     "data": {
      "application/vnd.jupyter.widget-view+json": {
       "model_id": "1f43665c5d6042859d1671f4be938a6a",
       "version_major": 2,
       "version_minor": 0
      },
      "text/plain": [
       "  0%|          | 0/68 [00:00<?, ?it/s]"
      ]
     },
     "metadata": {},
     "output_type": "display_data"
    },
    {
     "data": {
      "application/vnd.jupyter.widget-view+json": {
       "model_id": "3183144fb65c437fa956ce8196592e02",
       "version_major": 2,
       "version_minor": 0
      },
      "text/plain": [
       "  0%|          | 0/68 [00:00<?, ?it/s]"
      ]
     },
     "metadata": {},
     "output_type": "display_data"
    },
    {
     "name": "stderr",
     "output_type": "stream",
     "text": [
      "Analizando:  72%|███████▏  | 26/36 [44:16<18:05, 108.54s/it]"
     ]
    },
    {
     "data": {
      "application/vnd.jupyter.widget-view+json": {
       "model_id": "7662dea4e84e44fe9db34c8b1cffccd2",
       "version_major": 2,
       "version_minor": 0
      },
      "text/plain": [
       "  0%|          | 0/64 [00:00<?, ?it/s]"
      ]
     },
     "metadata": {},
     "output_type": "display_data"
    },
    {
     "data": {
      "application/vnd.jupyter.widget-view+json": {
       "model_id": "862a6fcc714a4de597d767f3893dc407",
       "version_major": 2,
       "version_minor": 0
      },
      "text/plain": [
       "  0%|          | 0/64 [00:00<?, ?it/s]"
      ]
     },
     "metadata": {},
     "output_type": "display_data"
    },
    {
     "data": {
      "application/vnd.jupyter.widget-view+json": {
       "model_id": "c4b728a7b1d44baf9e27eba7f1a4c837",
       "version_major": 2,
       "version_minor": 0
      },
      "text/plain": [
       "  0%|          | 0/64 [00:00<?, ?it/s]"
      ]
     },
     "metadata": {},
     "output_type": "display_data"
    },
    {
     "data": {
      "application/vnd.jupyter.widget-view+json": {
       "model_id": "b1d1417a58c64c93abecab19e721bdfd",
       "version_major": 2,
       "version_minor": 0
      },
      "text/plain": [
       "  0%|          | 0/64 [00:00<?, ?it/s]"
      ]
     },
     "metadata": {},
     "output_type": "display_data"
    },
    {
     "name": "stderr",
     "output_type": "stream",
     "text": [
      "Analizando:  75%|███████▌  | 27/36 [46:40<17:52, 119.19s/it]"
     ]
    },
    {
     "data": {
      "application/vnd.jupyter.widget-view+json": {
       "model_id": "2e1ded6eef064e29aeb720ecfeec267b",
       "version_major": 2,
       "version_minor": 0
      },
      "text/plain": [
       "  0%|          | 0/50 [00:00<?, ?it/s]"
      ]
     },
     "metadata": {},
     "output_type": "display_data"
    },
    {
     "data": {
      "application/vnd.jupyter.widget-view+json": {
       "model_id": "f11e14d394714b119882c56ff6668d5d",
       "version_major": 2,
       "version_minor": 0
      },
      "text/plain": [
       "  0%|          | 0/50 [00:00<?, ?it/s]"
      ]
     },
     "metadata": {},
     "output_type": "display_data"
    },
    {
     "data": {
      "application/vnd.jupyter.widget-view+json": {
       "model_id": "7a722eabe81b46c8a65d2be77cc893f0",
       "version_major": 2,
       "version_minor": 0
      },
      "text/plain": [
       "  0%|          | 0/50 [00:00<?, ?it/s]"
      ]
     },
     "metadata": {},
     "output_type": "display_data"
    },
    {
     "name": "stderr",
     "output_type": "stream",
     "text": [
      "C:\\Users\\Ceiec09\\anaconda3\\Lib\\site-packages\\sklearn\\neural_network\\_multilayer_perceptron.py:690: ConvergenceWarning: Stochastic Optimizer: Maximum iterations (1000) reached and the optimization hasn't converged yet.\n",
      "  warnings.warn(\n"
     ]
    },
    {
     "data": {
      "application/vnd.jupyter.widget-view+json": {
       "model_id": "58da0f54176940c09262544c92b4e85a",
       "version_major": 2,
       "version_minor": 0
      },
      "text/plain": [
       "  0%|          | 0/50 [00:00<?, ?it/s]"
      ]
     },
     "metadata": {},
     "output_type": "display_data"
    },
    {
     "name": "stderr",
     "output_type": "stream",
     "text": [
      "Analizando:  78%|███████▊  | 28/36 [48:28<15:25, 115.73s/it]"
     ]
    },
    {
     "data": {
      "application/vnd.jupyter.widget-view+json": {
       "model_id": "e1140d4acb08464682d2ab7e6494d0c0",
       "version_major": 2,
       "version_minor": 0
      },
      "text/plain": [
       "  0%|          | 0/68 [00:00<?, ?it/s]"
      ]
     },
     "metadata": {},
     "output_type": "display_data"
    },
    {
     "data": {
      "application/vnd.jupyter.widget-view+json": {
       "model_id": "ac4ce592ef654ab1bfd8e3f61f1d68c2",
       "version_major": 2,
       "version_minor": 0
      },
      "text/plain": [
       "  0%|          | 0/68 [00:00<?, ?it/s]"
      ]
     },
     "metadata": {},
     "output_type": "display_data"
    },
    {
     "data": {
      "application/vnd.jupyter.widget-view+json": {
       "model_id": "28a3816ea4094f9e8d07164687c00a45",
       "version_major": 2,
       "version_minor": 0
      },
      "text/plain": [
       "  0%|          | 0/68 [00:00<?, ?it/s]"
      ]
     },
     "metadata": {},
     "output_type": "display_data"
    },
    {
     "name": "stderr",
     "output_type": "stream",
     "text": [
      "C:\\Users\\Ceiec09\\anaconda3\\Lib\\site-packages\\sklearn\\neural_network\\_multilayer_perceptron.py:690: ConvergenceWarning: Stochastic Optimizer: Maximum iterations (1000) reached and the optimization hasn't converged yet.\n",
      "  warnings.warn(\n"
     ]
    },
    {
     "data": {
      "application/vnd.jupyter.widget-view+json": {
       "model_id": "5b71af56e3f54e17a54ae72485ea2fe6",
       "version_major": 2,
       "version_minor": 0
      },
      "text/plain": [
       "  0%|          | 0/68 [00:00<?, ?it/s]"
      ]
     },
     "metadata": {},
     "output_type": "display_data"
    },
    {
     "name": "stderr",
     "output_type": "stream",
     "text": [
      "Analizando:  81%|████████  | 29/36 [50:49<14:23, 123.39s/it]"
     ]
    },
    {
     "data": {
      "application/vnd.jupyter.widget-view+json": {
       "model_id": "9a1978e427ef45fc9d926e96e1d01fa2",
       "version_major": 2,
       "version_minor": 0
      },
      "text/plain": [
       "  0%|          | 0/64 [00:00<?, ?it/s]"
      ]
     },
     "metadata": {},
     "output_type": "display_data"
    },
    {
     "data": {
      "application/vnd.jupyter.widget-view+json": {
       "model_id": "bcdfd58dd6904949ae98f10f92814273",
       "version_major": 2,
       "version_minor": 0
      },
      "text/plain": [
       "  0%|          | 0/64 [00:00<?, ?it/s]"
      ]
     },
     "metadata": {},
     "output_type": "display_data"
    },
    {
     "data": {
      "application/vnd.jupyter.widget-view+json": {
       "model_id": "aabde31b849545989c062848b59da992",
       "version_major": 2,
       "version_minor": 0
      },
      "text/plain": [
       "  0%|          | 0/64 [00:00<?, ?it/s]"
      ]
     },
     "metadata": {},
     "output_type": "display_data"
    },
    {
     "data": {
      "application/vnd.jupyter.widget-view+json": {
       "model_id": "8efe8bf9ea98415f8269904638814985",
       "version_major": 2,
       "version_minor": 0
      },
      "text/plain": [
       "  0%|          | 0/64 [00:00<?, ?it/s]"
      ]
     },
     "metadata": {},
     "output_type": "display_data"
    },
    {
     "name": "stderr",
     "output_type": "stream",
     "text": [
      "Analizando:  83%|████████▎ | 30/36 [52:27<11:33, 115.64s/it]"
     ]
    },
    {
     "data": {
      "application/vnd.jupyter.widget-view+json": {
       "model_id": "34d0bfe3e34e4fecac34e1eb3cd093cc",
       "version_major": 2,
       "version_minor": 0
      },
      "text/plain": [
       "  0%|          | 0/59 [00:00<?, ?it/s]"
      ]
     },
     "metadata": {},
     "output_type": "display_data"
    },
    {
     "data": {
      "application/vnd.jupyter.widget-view+json": {
       "model_id": "6dd8fb5b105f471d881fed9b9d73a4e1",
       "version_major": 2,
       "version_minor": 0
      },
      "text/plain": [
       "  0%|          | 0/59 [00:00<?, ?it/s]"
      ]
     },
     "metadata": {},
     "output_type": "display_data"
    },
    {
     "data": {
      "application/vnd.jupyter.widget-view+json": {
       "model_id": "4b7a60efc7c7415580bbae26777c75d4",
       "version_major": 2,
       "version_minor": 0
      },
      "text/plain": [
       "  0%|          | 0/59 [00:00<?, ?it/s]"
      ]
     },
     "metadata": {},
     "output_type": "display_data"
    },
    {
     "name": "stderr",
     "output_type": "stream",
     "text": [
      "C:\\Users\\Ceiec09\\anaconda3\\Lib\\site-packages\\sklearn\\neural_network\\_multilayer_perceptron.py:690: ConvergenceWarning: Stochastic Optimizer: Maximum iterations (1000) reached and the optimization hasn't converged yet.\n",
      "  warnings.warn(\n"
     ]
    },
    {
     "data": {
      "application/vnd.jupyter.widget-view+json": {
       "model_id": "befd8790beff4f7f9276582d266d1c1e",
       "version_major": 2,
       "version_minor": 0
      },
      "text/plain": [
       "  0%|          | 0/59 [00:00<?, ?it/s]"
      ]
     },
     "metadata": {},
     "output_type": "display_data"
    },
    {
     "name": "stderr",
     "output_type": "stream",
     "text": [
      "Analizando:  86%|████████▌ | 31/36 [54:37<09:59, 119.90s/it]"
     ]
    },
    {
     "data": {
      "application/vnd.jupyter.widget-view+json": {
       "model_id": "c0d71c3969094b3faccfc5b16e3e7ed1",
       "version_major": 2,
       "version_minor": 0
      },
      "text/plain": [
       "  0%|          | 0/52 [00:00<?, ?it/s]"
      ]
     },
     "metadata": {},
     "output_type": "display_data"
    },
    {
     "data": {
      "application/vnd.jupyter.widget-view+json": {
       "model_id": "bf382355f1f94d6d86f8e421b0406cc3",
       "version_major": 2,
       "version_minor": 0
      },
      "text/plain": [
       "  0%|          | 0/52 [00:00<?, ?it/s]"
      ]
     },
     "metadata": {},
     "output_type": "display_data"
    },
    {
     "data": {
      "application/vnd.jupyter.widget-view+json": {
       "model_id": "5651a6d939904d3796dd64d590faf972",
       "version_major": 2,
       "version_minor": 0
      },
      "text/plain": [
       "  0%|          | 0/52 [00:00<?, ?it/s]"
      ]
     },
     "metadata": {},
     "output_type": "display_data"
    },
    {
     "data": {
      "application/vnd.jupyter.widget-view+json": {
       "model_id": "6182a0e117304d2696386dd6372ffdc7",
       "version_major": 2,
       "version_minor": 0
      },
      "text/plain": [
       "  0%|          | 0/52 [00:00<?, ?it/s]"
      ]
     },
     "metadata": {},
     "output_type": "display_data"
    },
    {
     "name": "stderr",
     "output_type": "stream",
     "text": [
      "Analizando:  89%|████████▉ | 32/36 [56:27<07:47, 116.94s/it]"
     ]
    },
    {
     "data": {
      "application/vnd.jupyter.widget-view+json": {
       "model_id": "fe082a4d079b4f8b9555e902e740a5fc",
       "version_major": 2,
       "version_minor": 0
      },
      "text/plain": [
       "  0%|          | 0/67 [00:00<?, ?it/s]"
      ]
     },
     "metadata": {},
     "output_type": "display_data"
    },
    {
     "data": {
      "application/vnd.jupyter.widget-view+json": {
       "model_id": "b99447cca5eb4d329d21a10f22bfeaf7",
       "version_major": 2,
       "version_minor": 0
      },
      "text/plain": [
       "  0%|          | 0/67 [00:00<?, ?it/s]"
      ]
     },
     "metadata": {},
     "output_type": "display_data"
    },
    {
     "data": {
      "application/vnd.jupyter.widget-view+json": {
       "model_id": "362e44efe0804b809dcb6159d7f9d4e6",
       "version_major": 2,
       "version_minor": 0
      },
      "text/plain": [
       "  0%|          | 0/67 [00:00<?, ?it/s]"
      ]
     },
     "metadata": {},
     "output_type": "display_data"
    },
    {
     "data": {
      "application/vnd.jupyter.widget-view+json": {
       "model_id": "fb9bb2f7bd5c46b1b1f4ee28f7042dbc",
       "version_major": 2,
       "version_minor": 0
      },
      "text/plain": [
       "  0%|          | 0/67 [00:00<?, ?it/s]"
      ]
     },
     "metadata": {},
     "output_type": "display_data"
    },
    {
     "name": "stderr",
     "output_type": "stream",
     "text": [
      "Analizando:  92%|█████████▏| 33/36 [58:33<05:58, 119.62s/it]"
     ]
    },
    {
     "data": {
      "application/vnd.jupyter.widget-view+json": {
       "model_id": "985bf970be6a436dbd838d4fa4343984",
       "version_major": 2,
       "version_minor": 0
      },
      "text/plain": [
       "  0%|          | 0/56 [00:00<?, ?it/s]"
      ]
     },
     "metadata": {},
     "output_type": "display_data"
    },
    {
     "data": {
      "application/vnd.jupyter.widget-view+json": {
       "model_id": "852c591b5d524f4fa68d26a5fc09d2f3",
       "version_major": 2,
       "version_minor": 0
      },
      "text/plain": [
       "  0%|          | 0/56 [00:00<?, ?it/s]"
      ]
     },
     "metadata": {},
     "output_type": "display_data"
    },
    {
     "data": {
      "application/vnd.jupyter.widget-view+json": {
       "model_id": "f945a9f2e73246d98d6397be3effcccc",
       "version_major": 2,
       "version_minor": 0
      },
      "text/plain": [
       "  0%|          | 0/56 [00:00<?, ?it/s]"
      ]
     },
     "metadata": {},
     "output_type": "display_data"
    },
    {
     "data": {
      "application/vnd.jupyter.widget-view+json": {
       "model_id": "2c5ff9419e89482a8365f086b03f46d3",
       "version_major": 2,
       "version_minor": 0
      },
      "text/plain": [
       "  0%|          | 0/56 [00:00<?, ?it/s]"
      ]
     },
     "metadata": {},
     "output_type": "display_data"
    },
    {
     "name": "stderr",
     "output_type": "stream",
     "text": [
      "Analizando:  94%|█████████▍| 34/36 [1:00:50<04:09, 124.80s/it]"
     ]
    },
    {
     "data": {
      "application/vnd.jupyter.widget-view+json": {
       "model_id": "22ac9ed4edcb498ebe34b42c858742ae",
       "version_major": 2,
       "version_minor": 0
      },
      "text/plain": [
       "  0%|          | 0/68 [00:00<?, ?it/s]"
      ]
     },
     "metadata": {},
     "output_type": "display_data"
    },
    {
     "data": {
      "application/vnd.jupyter.widget-view+json": {
       "model_id": "b5a1b22279bd4793aba4784abb3bc865",
       "version_major": 2,
       "version_minor": 0
      },
      "text/plain": [
       "  0%|          | 0/68 [00:00<?, ?it/s]"
      ]
     },
     "metadata": {},
     "output_type": "display_data"
    },
    {
     "data": {
      "application/vnd.jupyter.widget-view+json": {
       "model_id": "3e3bc9ecf9fa426ba8f2b9fdfd9783e5",
       "version_major": 2,
       "version_minor": 0
      },
      "text/plain": [
       "  0%|          | 0/68 [00:00<?, ?it/s]"
      ]
     },
     "metadata": {},
     "output_type": "display_data"
    },
    {
     "data": {
      "application/vnd.jupyter.widget-view+json": {
       "model_id": "fe6412b0812c4b35b9294021b0ab611e",
       "version_major": 2,
       "version_minor": 0
      },
      "text/plain": [
       "  0%|          | 0/68 [00:00<?, ?it/s]"
      ]
     },
     "metadata": {},
     "output_type": "display_data"
    },
    {
     "name": "stderr",
     "output_type": "stream",
     "text": [
      "Analizando:  97%|█████████▋| 35/36 [1:03:01<02:06, 126.86s/it]"
     ]
    },
    {
     "data": {
      "application/vnd.jupyter.widget-view+json": {
       "model_id": "d900e5fcd2e94debbe0ad0a752cf2848",
       "version_major": 2,
       "version_minor": 0
      },
      "text/plain": [
       "  0%|          | 0/64 [00:00<?, ?it/s]"
      ]
     },
     "metadata": {},
     "output_type": "display_data"
    },
    {
     "data": {
      "application/vnd.jupyter.widget-view+json": {
       "model_id": "941632e8011647a0a9d89d1419686b94",
       "version_major": 2,
       "version_minor": 0
      },
      "text/plain": [
       "  0%|          | 0/64 [00:00<?, ?it/s]"
      ]
     },
     "metadata": {},
     "output_type": "display_data"
    },
    {
     "data": {
      "application/vnd.jupyter.widget-view+json": {
       "model_id": "505436bd6d7544278075afa481b60ec2",
       "version_major": 2,
       "version_minor": 0
      },
      "text/plain": [
       "  0%|          | 0/64 [00:00<?, ?it/s]"
      ]
     },
     "metadata": {},
     "output_type": "display_data"
    },
    {
     "data": {
      "application/vnd.jupyter.widget-view+json": {
       "model_id": "59913af0e06c4494a17c7ea9ca81a0df",
       "version_major": 2,
       "version_minor": 0
      },
      "text/plain": [
       "  0%|          | 0/64 [00:00<?, ?it/s]"
      ]
     },
     "metadata": {},
     "output_type": "display_data"
    },
    {
     "name": "stderr",
     "output_type": "stream",
     "text": [
      "Analizando: 100%|██████████| 36/36 [1:04:49<00:00, 108.04s/it]\n"
     ]
    }
   ],
   "source": [
    "resultados_totales = []\n",
    "tiempos_clasificadores = {}\n",
    "\n",
    "# Bucle principal\n",
    "for dataset in tqdm(datasets, desc='Analizando', dynamic_ncols=True):\n",
    "    # Cargar datos de entrenamiento\n",
    "    datos_entrenamiento = pd.read_csv(f'./entrenamiento_balanceado/{dataset}', sep=';')\n",
    "    \n",
    "    # Extraer información de nombre del archivo\n",
    "    subset = dataset.split('_')[1]\n",
    "    issue = dataset.split('_')[-1].split('.')[0]\n",
    "    column = str(dataset)[:-4].split('_')[-1]\n",
    "    \n",
    "    # Separar en características y etiquetas\n",
    "    datos_entrenamiento_balanced = datos_entrenamiento.drop(columns=[column])\n",
    "    labels_columna_balanced = datos_entrenamiento[column]\n",
    "\n",
    "    # Dividir en conjunto de entrenamiento y prueba\n",
    "    X_train, X_test, y_train, y_test = train_test_split(\n",
    "        datos_entrenamiento_balanced, labels_columna_balanced, test_size=0.2, random_state=42, stratify=labels_columna_balanced\n",
    "    )\n",
    "\n",
    "    train_size = len(X_train)\n",
    "    test_size = len(X_test)\n",
    "    train_class_distribution = y_train.value_counts(normalize=True).to_dict()\n",
    "    test_class_distribution = y_test.value_counts(normalize=True).to_dict()\n",
    "    \n",
    "    # Evaluar cada clasificador\n",
    "    for nombre_algoritmo, clasificador in classifiers.items():\n",
    "\n",
    "        tiempo_inicio = datetime.datetime.now()\n",
    "        \n",
    "        # GridSearchCV para modelos con hiperparámetros\n",
    "        if param_grids[nombre_algoritmo]:  \n",
    "            grid_search = GridSearchCV(\n",
    "                estimator=clasificador,\n",
    "                param_grid=param_grids[nombre_algoritmo],\n",
    "                scoring='accuracy',\n",
    "                cv=5,\n",
    "                n_jobs=-1,\n",
    "                return_train_score=True,\n",
    "                error_score='raise'\n",
    "            )\n",
    "\n",
    "            grid_search.fit(X_train, y_train)\n",
    "            mejor_modelo = grid_search.best_estimator_\n",
    "            mejores_params = grid_search.best_params_\n",
    "\n",
    "            mean_train_accuracy = np.mean(grid_search.cv_results_['mean_train_score'])\n",
    "            std_train_accuracy = np.std(grid_search.cv_results_['mean_train_score'])\n",
    "            mean_val_accuracy = np.mean(grid_search.cv_results_['mean_test_score'])\n",
    "            std_val_accuracy = np.std(grid_search.cv_results_['mean_test_score'])\n",
    "            \n",
    "        else:  \n",
    "            mejor_modelo = clasificador.fit(X_train, y_train)\n",
    "            mejores_params = \"N/A\"\n",
    "            mean_train_accuracy = accuracy_score(y_train, mejor_modelo.predict(X_train))\n",
    "            std_train_accuracy = 0\n",
    "            mean_val_accuracy = accuracy_score(y_test, mejor_modelo.predict(X_test))\n",
    "            std_val_accuracy = 0\n",
    "        \n",
    "        # Evaluación final en conjunto de prueba\n",
    "        predicciones_test = mejor_modelo.predict(X_test)\n",
    "        accuracy_test = accuracy_score(y_test, predicciones_test)\n",
    "        sensibilidad_test, especificidad_test = calcular_sensibilidad_especificidad_conjunto(y_test, predicciones_test)\n",
    "\n",
    "        # Cálculo de los valores SHAP\n",
    "        shap_df = calcular_shap_values(mejor_modelo, X_train, X_test, nombre_algoritmo)\n",
    "\n",
    "        # Medir uso de RAM del modelo\n",
    "        modelo_size_ram = asizeof.asizeof(mejor_modelo)\n",
    "\n",
    "        # Guardar modelo en disco y medir tamaño\n",
    "        model_path = f'model_{nombre_algoritmo}_{dataset}.joblib'\n",
    "        joblib.dump(mejor_modelo, model_path)\n",
    "        model_size_disk = os.path.getsize(model_path)\n",
    "\n",
    "        # Calcular Sample Size\n",
    "        sample_size_train = len(X_train)  # Número de muestras usadas para entrenamiento\n",
    "        sample_size_test = len(X_test)   # Número de muestras usadas para prueba\n",
    "       \n",
    "        \n",
    "        validation_folds = grid_search.cv\n",
    "        val_size_per_fold = train_size // validation_folds\n",
    "        \n",
    "        # Agregar cada fila al conjunto de resultados\n",
    "        for idx, row in shap_df.iterrows():\n",
    "            resultados_totales.append({\n",
    "                'dataset': dataset,\n",
    "                'subset': subset,\n",
    "                'train_size': train_size,\n",
    "                'test_size': test_size,\n",
    "                'validation_folds': validation_folds,\n",
    "                'val_size_per_fold': val_size_per_fold,\n",
    "                'train_class_distribution': train_class_distribution,\n",
    "                'test_class_distribution': test_class_distribution,\n",
    "                'issue': issue,\n",
    "                'algorithm': nombre_algoritmo,\n",
    "                'best_params': mejores_params,\n",
    "                'mean_train_accuracy': mean_train_accuracy,\n",
    "                'std_train_accuracy': std_train_accuracy,\n",
    "                'mean_val_accuracy': mean_val_accuracy,\n",
    "                'std_val_accuracy': std_val_accuracy,\n",
    "                'accuracy_test': accuracy_test,\n",
    "                'sensitivity_test': sensibilidad_test,\n",
    "                'specificity_test': especificidad_test,\n",
    "                'shap_feature_values': row.to_dict(),\n",
    "                'sample_size_train': sample_size_train,\n",
    "                'sample_size_test': sample_size_test\n",
    "            })\n",
    "        \n",
    "        tiempo_fin = datetime.datetime.now()\n",
    "        diferencia = tiempo_fin - tiempo_inicio\n",
    "\n",
    "        # Registrar tiempos y tamaños en tiempos_clasificadores\n",
    "        tiempos_clasificadores[f'{nombre_algoritmo}_{dataset}'] = {\n",
    "            'Tiempo inicio': tiempo_inicio,\n",
    "            'Tiempo fin': tiempo_fin,\n",
    "            'Diferencia': diferencia,\n",
    "            'Modelo RAM (MB)': modelo_size_ram / (1024 ** 2),\n",
    "            'Modelo Disco (MB)': model_size_disk / (1024 ** 2),\n",
    "            'Sample Size Entrenamiento': sample_size_train,\n",
    "            'Sample Size Prueba': sample_size_test\n",
    "        }"
   ]
  },
  {
   "cell_type": "code",
   "execution_count": 1,
   "metadata": {},
   "outputs": [
    {
     "ename": "NameError",
     "evalue": "name 'tiempos_clasificadores' is not defined",
     "output_type": "error",
     "traceback": [
      "\u001b[1;31m---------------------------------------------------------------------------\u001b[0m",
      "\u001b[1;31mNameError\u001b[0m                                 Traceback (most recent call last)",
      "Cell \u001b[1;32mIn[1], line 1\u001b[0m\n\u001b[1;32m----> 1\u001b[0m display(tiempos_clasificadores)\n",
      "\u001b[1;31mNameError\u001b[0m: name 'tiempos_clasificadores' is not defined"
     ]
    }
   ],
   "source": [
    "display(tiempos_clasificadores)"
   ]
  },
  {
   "cell_type": "code",
   "execution_count": 21,
   "metadata": {},
   "outputs": [],
   "source": [
    "# Guardar resultados en un único CSV\n",
    "resultados_df = pd.DataFrame(resultados_totales)\n",
    "resultados_df.to_csv('resultados_completos.csv', index=False)"
   ]
  },
  {
   "cell_type": "code",
   "execution_count": 27,
   "metadata": {},
   "outputs": [
    {
     "name": "stdout",
     "output_type": "stream",
     "text": [
      "                                                 dataset       subset  \\\n",
      "50       balanceado_demographic_data_with_Agorafobia.csv  demographic   \n",
      "3936        balanceado_economic_data_with_Agorafobia.csv     economic   \n",
      "7872          balanceado_health_data_with_Agorafobia.csv       health   \n",
      "11808         balanceado_living_data_with_Agorafobia.csv       living   \n",
      "486        balanceado_demographic_data_with_Ansiedad.csv  demographic   \n",
      "4254          balanceado_economic_data_with_Ansiedad.csv     economic   \n",
      "8090            balanceado_health_data_with_Ansiedad.csv       health   \n",
      "11994           balanceado_living_data_with_Ansiedad.csv       living   \n",
      "954       balanceado_demographic_data_with_Depresión.csv  demographic   \n",
      "4662         balanceado_economic_data_with_Depresión.csv     economic   \n",
      "8690           balanceado_health_data_with_Depresión.csv       health   \n",
      "12718          balanceado_living_data_with_Depresión.csv       living   \n",
      "1274     balanceado_demographic_data_with_Hostilidad.csv  demographic   \n",
      "5228        balanceado_economic_data_with_Hostilidad.csv     economic   \n",
      "8946          balanceado_health_data_with_Hostilidad.csv       health   \n",
      "12900         balanceado_living_data_with_Hostilidad.csv       living   \n",
      "1687   balanceado_demographic_data_with_Ideación para...  demographic   \n",
      "5575   balanceado_economic_data_with_Ideación paranoi...     economic   \n",
      "9359   balanceado_health_data_with_Ideación paranoide...       health   \n",
      "13247  balanceado_living_data_with_Ideación paranoide...       living   \n",
      "2118   balanceado_demographic_data_with_Obsesión-comp...  demographic   \n",
      "5954   balanceado_economic_data_with_Obsesión-compuls...     economic   \n",
      "9723   balanceado_health_data_with_Obsesión-compulsió...       health   \n",
      "13626  balanceado_living_data_with_Obsesión-compulsió...       living   \n",
      "2856   balanceado_demographic_data_with_Psicoticismo.csv  demographic   \n",
      "6580      balanceado_economic_data_with_Psicoticismo.csv     economic   \n",
      "10304       balanceado_health_data_with_Psicoticismo.csv       health   \n",
      "14084       balanceado_living_data_with_Psicoticismo.csv       living   \n",
      "2912   balanceado_demographic_data_with_Sensibilidad ...  demographic   \n",
      "6748   balanceado_economic_data_with_Sensibilidad int...     economic   \n",
      "10584  balanceado_health_data_with_Sensibilidad inter...       health   \n",
      "14624  balanceado_living_data_with_Sensibilidad inter...       living   \n",
      "3516   balanceado_demographic_data_with_Somatización.csv  demographic   \n",
      "7288      balanceado_economic_data_with_Somatización.csv     economic   \n",
      "11124       balanceado_health_data_with_Somatización.csv       health   \n",
      "15024       balanceado_living_data_with_Somatización.csv       living   \n",
      "\n",
      "       train_size  test_size  validation_folds  val_size_per_fold  \\\n",
      "50            198         50                 5                 39   \n",
      "3936          198         50                 5                 39   \n",
      "7872          198         50                 5                 39   \n",
      "11808         198         50                 5                 39   \n",
      "486           270         68                 5                 54   \n",
      "4254          270         68                 5                 54   \n",
      "8090          270         68                 5                 54   \n",
      "11994         270         68                 5                 54   \n",
      "954           252         64                 5                 50   \n",
      "4662          252         64                 5                 50   \n",
      "8690          252         64                 5                 50   \n",
      "12718         252         64                 5                 50   \n",
      "1274          233         59                 5                 46   \n",
      "5228          233         59                 5                 46   \n",
      "8946          233         59                 5                 46   \n",
      "12900         233         59                 5                 46   \n",
      "1687          208         52                 5                 41   \n",
      "5575          208         52                 5                 41   \n",
      "9359          208         52                 5                 41   \n",
      "13247         208         52                 5                 41   \n",
      "2118          267         67                 5                 53   \n",
      "5954          267         67                 5                 53   \n",
      "9723          267         67                 5                 53   \n",
      "13626         267         67                 5                 53   \n",
      "2856          224         56                 5                 44   \n",
      "6580          224         56                 5                 44   \n",
      "10304         224         56                 5                 44   \n",
      "14084         224         56                 5                 44   \n",
      "2912          270         68                 5                 54   \n",
      "6748          270         68                 5                 54   \n",
      "10584         270         68                 5                 54   \n",
      "14624         270         68                 5                 54   \n",
      "3516          252         64                 5                 50   \n",
      "7288          252         64                 5                 50   \n",
      "11124         252         64                 5                 50   \n",
      "15024         252         64                 5                 50   \n",
      "\n",
      "                             train_class_distribution  \\\n",
      "50                                   {0: 0.5, 1: 0.5}   \n",
      "3936                                 {0: 0.5, 1: 0.5}   \n",
      "7872                                 {0: 0.5, 1: 0.5}   \n",
      "11808                                {0: 0.5, 1: 0.5}   \n",
      "486                                  {0: 0.5, 1: 0.5}   \n",
      "4254                                 {0: 0.5, 1: 0.5}   \n",
      "8090                                 {0: 0.5, 1: 0.5}   \n",
      "11994                                {0: 0.5, 1: 0.5}   \n",
      "954                                  {1: 0.5, 0: 0.5}   \n",
      "4662                                 {1: 0.5, 0: 0.5}   \n",
      "8690                                 {1: 0.5, 0: 0.5}   \n",
      "12718                                {1: 0.5, 0: 0.5}   \n",
      "1274   {1: 0.5021459227467812, 0: 0.4978540772532189}   \n",
      "5228   {1: 0.5021459227467812, 0: 0.4978540772532189}   \n",
      "8946   {1: 0.5021459227467812, 0: 0.4978540772532189}   \n",
      "12900  {1: 0.5021459227467812, 0: 0.4978540772532189}   \n",
      "1687                                 {1: 0.5, 0: 0.5}   \n",
      "5575                                 {1: 0.5, 0: 0.5}   \n",
      "9359                                 {1: 0.5, 0: 0.5}   \n",
      "13247                                {1: 0.5, 0: 0.5}   \n",
      "2118    {1: 0.50187265917603, 0: 0.49812734082397003}   \n",
      "5954    {1: 0.50187265917603, 0: 0.49812734082397003}   \n",
      "9723    {1: 0.50187265917603, 0: 0.49812734082397003}   \n",
      "13626   {1: 0.50187265917603, 0: 0.49812734082397003}   \n",
      "2856                                 {1: 0.5, 0: 0.5}   \n",
      "6580                                 {1: 0.5, 0: 0.5}   \n",
      "10304                                {1: 0.5, 0: 0.5}   \n",
      "14084                                {1: 0.5, 0: 0.5}   \n",
      "2912                                 {0: 0.5, 1: 0.5}   \n",
      "6748                                 {0: 0.5, 1: 0.5}   \n",
      "10584                                {0: 0.5, 1: 0.5}   \n",
      "14624                                {0: 0.5, 1: 0.5}   \n",
      "3516                                 {1: 0.5, 0: 0.5}   \n",
      "7288                                 {1: 0.5, 0: 0.5}   \n",
      "11124                                {1: 0.5, 0: 0.5}   \n",
      "15024                                {1: 0.5, 0: 0.5}   \n",
      "\n",
      "                              test_class_distribution  \\\n",
      "50                                   {1: 0.5, 0: 0.5}   \n",
      "3936                                 {1: 0.5, 0: 0.5}   \n",
      "7872                                 {1: 0.5, 0: 0.5}   \n",
      "11808                                {1: 0.5, 0: 0.5}   \n",
      "486                                  {1: 0.5, 0: 0.5}   \n",
      "4254                                 {1: 0.5, 0: 0.5}   \n",
      "8090                                 {1: 0.5, 0: 0.5}   \n",
      "11994                                {1: 0.5, 0: 0.5}   \n",
      "954                                  {1: 0.5, 0: 0.5}   \n",
      "4662                                 {1: 0.5, 0: 0.5}   \n",
      "8690                                 {1: 0.5, 0: 0.5}   \n",
      "12718                                {1: 0.5, 0: 0.5}   \n",
      "1274   {0: 0.5084745762711864, 1: 0.4915254237288136}   \n",
      "5228   {0: 0.5084745762711864, 1: 0.4915254237288136}   \n",
      "8946   {0: 0.5084745762711864, 1: 0.4915254237288136}   \n",
      "12900  {0: 0.5084745762711864, 1: 0.4915254237288136}   \n",
      "1687                                 {0: 0.5, 1: 0.5}   \n",
      "5575                                 {0: 0.5, 1: 0.5}   \n",
      "9359                                 {0: 0.5, 1: 0.5}   \n",
      "13247                                {0: 0.5, 1: 0.5}   \n",
      "2118   {0: 0.5074626865671642, 1: 0.4925373134328358}   \n",
      "5954   {0: 0.5074626865671642, 1: 0.4925373134328358}   \n",
      "9723   {0: 0.5074626865671642, 1: 0.4925373134328358}   \n",
      "13626  {0: 0.5074626865671642, 1: 0.4925373134328358}   \n",
      "2856                                 {0: 0.5, 1: 0.5}   \n",
      "6580                                 {0: 0.5, 1: 0.5}   \n",
      "10304                                {0: 0.5, 1: 0.5}   \n",
      "14084                                {0: 0.5, 1: 0.5}   \n",
      "2912                                 {1: 0.5, 0: 0.5}   \n",
      "6748                                 {1: 0.5, 0: 0.5}   \n",
      "10584                                {1: 0.5, 0: 0.5}   \n",
      "14624                                {1: 0.5, 0: 0.5}   \n",
      "3516                                 {1: 0.5, 0: 0.5}   \n",
      "7288                                 {1: 0.5, 0: 0.5}   \n",
      "11124                                {1: 0.5, 0: 0.5}   \n",
      "15024                                {1: 0.5, 0: 0.5}   \n",
      "\n",
      "                            issue         algorithm  ... mean_train_accuracy  \\\n",
      "50                     Agorafobia      RandomForest  ...            0.928811   \n",
      "3936                   Agorafobia               SVM  ...            0.880083   \n",
      "7872                   Agorafobia        NaiveBayes  ...            0.927274   \n",
      "11808                  Agorafobia               MLP  ...            0.906034   \n",
      "486                      Ansiedad               SVM  ...            0.817455   \n",
      "4254                     Ansiedad      RandomForest  ...            0.971656   \n",
      "8090                     Ansiedad      RandomForest  ...            0.954012   \n",
      "11994                    Ansiedad               SVM  ...            0.823028   \n",
      "954                     Depresión               SVM  ...            0.850917   \n",
      "4662                    Depresión      DecisionTree  ...            0.931168   \n",
      "8690                    Depresión  GradientBoosting  ...            0.968408   \n",
      "12718                   Depresión               MLP  ...            0.733417   \n",
      "1274                   Hostilidad      DecisionTree  ...            0.911466   \n",
      "5228                   Hostilidad               SVM  ...            0.892518   \n",
      "8946                   Hostilidad      DecisionTree  ...            0.956719   \n",
      "12900                  Hostilidad               SVM  ...            0.839408   \n",
      "1687           Ideación paranoide      DecisionTree  ...            0.922365   \n",
      "5575           Ideación paranoide      RandomForest  ...            0.953152   \n",
      "9359           Ideación paranoide      DecisionTree  ...            0.923875   \n",
      "13247          Ideación paranoide      RandomForest  ...            0.960895   \n",
      "2118          Obsesión-compulsión      RandomForest  ...            0.909586   \n",
      "5954          Obsesión-compulsión      RandomForest  ...            0.976445   \n",
      "9723          Obsesión-compulsión      DecisionTree  ...            0.940396   \n",
      "13626         Obsesión-compulsión      RandomForest  ...            0.953496   \n",
      "2856                 Psicoticismo               MLP  ...            0.868295   \n",
      "6580                 Psicoticismo        NaiveBayes  ...            0.839162   \n",
      "10304                Psicoticismo               SVM  ...            0.873590   \n",
      "14084                Psicoticismo      RandomForest  ...            0.964954   \n",
      "2912   Sensibilidad interpersonal      DecisionTree  ...            0.895975   \n",
      "6748   Sensibilidad interpersonal      DecisionTree  ...            0.919753   \n",
      "10584  Sensibilidad interpersonal      DecisionTree  ...            0.954938   \n",
      "14624  Sensibilidad interpersonal  GradientBoosting  ...            0.944393   \n",
      "3516                 Somatización               SVM  ...            0.816985   \n",
      "7288                 Somatización      RandomForest  ...            0.961346   \n",
      "11124                Somatización      RandomForest  ...            0.967430   \n",
      "15024                Somatización               SVM  ...            0.843877   \n",
      "\n",
      "       std_train_accuracy  mean_val_accuracy  std_val_accuracy  accuracy_test  \\\n",
      "50               0.012891           0.843237          0.005854       0.900000   \n",
      "3936             0.095201           0.803215          0.081635       0.940000   \n",
      "7872             0.087340           0.926141          0.089246       0.980000   \n",
      "11808            0.078302           0.812174          0.037656       0.900000   \n",
      "486              0.055532           0.775857          0.031787       0.897059   \n",
      "4254             0.011193           0.857510          0.005127       0.852941   \n",
      "8090             0.001574           0.949383          0.006295       0.926471   \n",
      "11994            0.107424           0.753704          0.062687       0.941176   \n",
      "954              0.044681           0.802739          0.028542       0.875000   \n",
      "4662             0.022905           0.787255          0.013479       0.859375   \n",
      "8690             0.007878           0.953667          0.007848       0.953125   \n",
      "12718            0.036660           0.710359          0.034639       0.843750   \n",
      "1274             0.025027           0.851601          0.014791       0.813559   \n",
      "5228             0.076793           0.828730          0.055713       0.915254   \n",
      "8946             0.012529           0.941104          0.007305       0.966102   \n",
      "12900            0.101613           0.767532          0.069257       0.881356   \n",
      "1687             0.017300           0.836866          0.016296       0.923077   \n",
      "5575             0.015980           0.869154          0.008874       0.961538   \n",
      "9359             0.005669           0.910376          0.024747       1.000000   \n",
      "13247            0.019791           0.856310          0.006737       0.903846   \n",
      "2118             0.023986           0.824014          0.014970       0.895522   \n",
      "5954             0.009806           0.882008          0.007118       0.880597   \n",
      "9723             0.005738           0.932704          0.010574       0.985075   \n",
      "13626            0.021183           0.883626          0.007763       0.895522   \n",
      "2856             0.073738           0.799487          0.030659       0.875000   \n",
      "6580             0.041501           0.825990          0.037443       0.875000   \n",
      "10304            0.074309           0.854231          0.068259       0.910714   \n",
      "14084            0.016284           0.795264          0.013491       0.928571   \n",
      "2912             0.024228           0.785854          0.010074       0.852941   \n",
      "6748             0.030135           0.815535          0.014772       0.911765   \n",
      "10584            0.010068           0.946914          0.006984       0.926471   \n",
      "14624            0.054026           0.807545          0.017386       0.838235   \n",
      "3516             0.058644           0.763567          0.030933       0.875000   \n",
      "7288             0.013781           0.877231          0.007798       0.890625   \n",
      "11124            0.000891           0.963712          0.005286       0.921875   \n",
      "15024            0.092683           0.777082          0.074792       0.875000   \n",
      "\n",
      "       sensitivity_test  specificity_test  \\\n",
      "50             0.880000          0.920000   \n",
      "3936           0.880000          1.000000   \n",
      "7872           0.960000          1.000000   \n",
      "11808          0.880000          0.920000   \n",
      "486            0.794118          1.000000   \n",
      "4254           0.823529          0.882353   \n",
      "8090           0.911765          0.941176   \n",
      "11994          0.911765          0.970588   \n",
      "954            0.812500          0.937500   \n",
      "4662           0.781250          0.937500   \n",
      "8690           0.906250          1.000000   \n",
      "12718          0.843750          0.843750   \n",
      "1274           0.655172          0.966667   \n",
      "5228           0.862069          0.966667   \n",
      "8946           0.931034          1.000000   \n",
      "12900          0.793103          0.966667   \n",
      "1687           0.961538          0.884615   \n",
      "5575           0.923077          1.000000   \n",
      "9359           1.000000          1.000000   \n",
      "13247          0.923077          0.884615   \n",
      "2118           0.818182          0.970588   \n",
      "5954           0.939394          0.823529   \n",
      "9723           0.969697          1.000000   \n",
      "13626          0.878788          0.911765   \n",
      "2856           0.821429          0.928571   \n",
      "6580           0.750000          1.000000   \n",
      "10304          0.821429          1.000000   \n",
      "14084          0.892857          0.964286   \n",
      "2912           0.735294          0.970588   \n",
      "6748           0.882353          0.941176   \n",
      "10584          0.882353          0.970588   \n",
      "14624          0.735294          0.941176   \n",
      "3516           0.812500          0.937500   \n",
      "7288           0.843750          0.937500   \n",
      "11124          0.843750          1.000000   \n",
      "15024          0.812500          0.937500   \n",
      "\n",
      "                                     shap_feature_values sample_size_train  \\\n",
      "50     {'por_favor_indique_el_genero_con_el_que_se_id...               198   \n",
      "3936   {'situacion_laboral_antes_(en_los_12_meses_ant...               198   \n",
      "7872   {'condicion_de_salud': 0.0654761904760535, 're...               198   \n",
      "11808  {'por_favor,_indique_el_espacio_en_el_que_vive...               198   \n",
      "486    {'por_favor_indique_el_genero_con_el_que_se_id...               270   \n",
      "4254   {'situacion_laboral_antes_(en_los_12_meses_ant...               270   \n",
      "8090   {'condicion_de_salud': 0.18470971824958607, 'r...               270   \n",
      "11994  {'por_favor,_indique_el_espacio_en_el_que_vive...               270   \n",
      "954    {'por_favor_indique_el_genero_con_el_que_se_id...               252   \n",
      "4662   {'situacion_laboral_antes_(en_los_12_meses_ant...               252   \n",
      "8690   {'condicion_de_salud': -9.433067119854389, 're...               252   \n",
      "12718  {'por_favor,_indique_el_espacio_en_el_que_vive...               252   \n",
      "1274   {'por_favor_indique_el_genero_con_el_que_se_id...               233   \n",
      "5228   {'situacion_laboral_antes_(en_los_12_meses_ant...               233   \n",
      "8946   {'condicion_de_salud': 0.5570967891378563, 're...               233   \n",
      "12900  {'por_favor,_indique_el_espacio_en_el_que_vive...               233   \n",
      "1687   {'por_favor_indique_el_genero_con_el_que_se_id...               208   \n",
      "5575   {'situacion_laboral_antes_(en_los_12_meses_ant...               208   \n",
      "9359   {'condicion_de_salud': -0.07491201224851245, '...               208   \n",
      "13247  {'por_favor,_indique_el_espacio_en_el_que_vive...               208   \n",
      "2118   {'por_favor_indique_el_genero_con_el_que_se_id...               267   \n",
      "5954   {'situacion_laboral_antes_(en_los_12_meses_ant...               267   \n",
      "9723   {'condicion_de_salud': -0.2553915450721076, 'r...               267   \n",
      "13626  {'por_favor,_indique_el_espacio_en_el_que_vive...               267   \n",
      "2856   {'por_favor_indique_el_genero_con_el_que_se_id...               224   \n",
      "6580   {'situacion_laboral_antes_(en_los_12_meses_ant...               224   \n",
      "10304  {'condicion_de_salud': -0.09321136743012035, '...               224   \n",
      "14084  {'por_favor,_indique_el_espacio_en_el_que_vive...               224   \n",
      "2912   {'por_favor_indique_el_genero_con_el_que_se_id...               270   \n",
      "6748   {'situacion_laboral_antes_(en_los_12_meses_ant...               270   \n",
      "10584  {'condicion_de_salud': 0.2501426950778166, 're...               270   \n",
      "14624  {'por_favor,_indique_el_espacio_en_el_que_vive...               270   \n",
      "3516   {'por_favor_indique_el_genero_con_el_que_se_id...               252   \n",
      "7288   {'situacion_laboral_antes_(en_los_12_meses_ant...               252   \n",
      "11124  {'condicion_de_salud': 0.10711581729150951, 'r...               252   \n",
      "15024  {'por_favor,_indique_el_espacio_en_el_que_vive...               252   \n",
      "\n",
      "       sample_size_test  \n",
      "50                   50  \n",
      "3936                 50  \n",
      "7872                 50  \n",
      "11808                50  \n",
      "486                  68  \n",
      "4254                 68  \n",
      "8090                 68  \n",
      "11994                68  \n",
      "954                  64  \n",
      "4662                 64  \n",
      "8690                 64  \n",
      "12718                64  \n",
      "1274                 59  \n",
      "5228                 59  \n",
      "8946                 59  \n",
      "12900                59  \n",
      "1687                 52  \n",
      "5575                 52  \n",
      "9359                 52  \n",
      "13247                52  \n",
      "2118                 67  \n",
      "5954                 67  \n",
      "9723                 67  \n",
      "13626                67  \n",
      "2856                 56  \n",
      "6580                 56  \n",
      "10304                56  \n",
      "14084                56  \n",
      "2912                 68  \n",
      "6748                 68  \n",
      "10584                68  \n",
      "14624                68  \n",
      "3516                 64  \n",
      "7288                 64  \n",
      "11124                64  \n",
      "15024                64  \n",
      "\n",
      "[36 rows x 21 columns]\n"
     ]
    }
   ],
   "source": [
    "# Cargar el archivo CSV de resultados\n",
    "archivo = 'resultados_completos.csv'\n",
    "df_resultados = pd.read_csv(archivo)\n",
    "\n",
    "# Agrupar por `etiqueta` y `subset`, y seleccionar el modelo con mayor `Accuracy Test` en cada grupo\n",
    "mejores_modelos = df_resultados.loc[df_resultados.groupby(['issue', 'subset'])['accuracy_test'].idxmax()]\n",
    "\n",
    "# Mostrar los mejores modelos para cada combinación de `etiqueta` y `subset`\n",
    "print(mejores_modelos)\n",
    "\n",
    "# Guardar los resultados en un nuevo archivo CSV si deseas conservarlos\n",
    "mejores_modelos.to_csv(\"mejores_modelos_por_etiqueta_subset.csv\", index=False, sep=';')\n"
   ]
  },
  {
   "cell_type": "code",
   "execution_count": 23,
   "metadata": {},
   "outputs": [
    {
     "name": "stdout",
     "output_type": "stream",
     "text": [
      "2024-11-22 11:05:02.313203\n",
      "1:05:03.152139\n"
     ]
    }
   ],
   "source": [
    "hora_fin_codigo = datetime.datetime.now()\n",
    "print(hora_fin_codigo)\n",
    "print(hora_fin_codigo - hora_inicio_codigo)"
   ]
  },
  {
   "cell_type": "code",
   "execution_count": null,
   "metadata": {},
   "outputs": [],
   "source": []
  }
 ],
 "metadata": {
  "accelerator": "GPU",
  "colab": {
   "authorship_tag": "ABX9TyPEDb2wd1Jow/Gow/yEIRLp",
   "gpuType": "T4",
   "provenance": []
  },
  "kernelspec": {
   "display_name": "Python 3 (ipykernel)",
   "language": "python",
   "name": "python3"
  },
  "language_info": {
   "codemirror_mode": {
    "name": "ipython",
    "version": 3
   },
   "file_extension": ".py",
   "mimetype": "text/x-python",
   "name": "python",
   "nbconvert_exporter": "python",
   "pygments_lexer": "ipython3",
   "version": "3.12.7"
  }
 },
 "nbformat": 4,
 "nbformat_minor": 4
}
